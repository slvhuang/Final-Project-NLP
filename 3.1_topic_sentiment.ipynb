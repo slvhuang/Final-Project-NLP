{
 "cells": [
  {
   "cell_type": "markdown",
   "metadata": {},
   "source": [
    "# MSCA 32018 Natural Language Processing and Cognitive Computing\n",
    "## Final Project - Topic Detection \n",
    "### Zero-shot (NLI) modeling based on Sentiment Analysis\n",
    "\n",
    "Shijia Huang\n",
    "\n",
    "-----"
   ]
  },
  {
   "cell_type": "code",
   "execution_count": 1,
   "metadata": {
    "tags": []
   },
   "outputs": [
    {
     "name": "stdout",
     "output_type": "stream",
     "text": [
      "Requirement already satisfied: nltk in /home/studio-lab-user/.conda/envs/default/lib/python3.9/site-packages (from -r requirements.txt (line 1)) (3.2.4)\n",
      "Requirement already satisfied: spacy in /home/studio-lab-user/.conda/envs/default/lib/python3.9/site-packages (from -r requirements.txt (line 2)) (3.5.3)\n",
      "Requirement already satisfied: gensim in /home/studio-lab-user/.conda/envs/default/lib/python3.9/site-packages (from -r requirements.txt (line 3)) (4.3.1)\n",
      "Requirement already satisfied: pyLDAvis in /home/studio-lab-user/.conda/envs/default/lib/python3.9/site-packages (from -r requirements.txt (line 4)) (3.4.1)\n",
      "Requirement already satisfied: rake_nltk in /home/studio-lab-user/.conda/envs/default/lib/python3.9/site-packages (from -r requirements.txt (line 5)) (1.0.4)\n",
      "Requirement already satisfied: wordcloud in /home/studio-lab-user/.conda/envs/default/lib/python3.9/site-packages (from -r requirements.txt (line 6)) (1.9.1.1)\n",
      "Requirement already satisfied: transformers in /home/studio-lab-user/.conda/envs/default/lib/python3.9/site-packages (from -r requirements.txt (line 7)) (4.29.2)\n",
      "Requirement already satisfied: tensorflow in /home/studio-lab-user/.conda/envs/default/lib/python3.9/site-packages (from -r requirements.txt (line 8)) (2.11.1)\n",
      "Requirement already satisfied: seaborn in /home/studio-lab-user/.conda/envs/default/lib/python3.9/site-packages (from -r requirements.txt (line 9)) (0.12.2)\n",
      "Requirement already satisfied: pyarrow in /home/studio-lab-user/.conda/envs/default/lib/python3.9/site-packages (from -r requirements.txt (line 10)) (12.0.0)\n",
      "Requirement already satisfied: gcsfs in /home/studio-lab-user/.conda/envs/default/lib/python3.9/site-packages (from -r requirements.txt (line 11)) (2023.5.0)\n",
      "Requirement already satisfied: six in /home/studio-lab-user/.conda/envs/default/lib/python3.9/site-packages (from nltk->-r requirements.txt (line 1)) (1.16.0)\n",
      "Requirement already satisfied: tqdm<5.0.0,>=4.38.0 in /home/studio-lab-user/.conda/envs/default/lib/python3.9/site-packages (from spacy->-r requirements.txt (line 2)) (4.65.0)\n",
      "Requirement already satisfied: setuptools in /home/studio-lab-user/.conda/envs/default/lib/python3.9/site-packages (from spacy->-r requirements.txt (line 2)) (67.6.1)\n",
      "Requirement already satisfied: pathy>=0.10.0 in /home/studio-lab-user/.conda/envs/default/lib/python3.9/site-packages (from spacy->-r requirements.txt (line 2)) (0.10.1)\n",
      "Requirement already satisfied: thinc<8.2.0,>=8.1.8 in /home/studio-lab-user/.conda/envs/default/lib/python3.9/site-packages (from spacy->-r requirements.txt (line 2)) (8.1.10)\n",
      "Requirement already satisfied: spacy-loggers<2.0.0,>=1.0.0 in /home/studio-lab-user/.conda/envs/default/lib/python3.9/site-packages (from spacy->-r requirements.txt (line 2)) (1.0.4)\n",
      "Requirement already satisfied: smart-open<7.0.0,>=5.2.1 in /home/studio-lab-user/.conda/envs/default/lib/python3.9/site-packages (from spacy->-r requirements.txt (line 2)) (6.3.0)\n",
      "Requirement already satisfied: cymem<2.1.0,>=2.0.2 in /home/studio-lab-user/.conda/envs/default/lib/python3.9/site-packages (from spacy->-r requirements.txt (line 2)) (2.0.7)\n",
      "Requirement already satisfied: wasabi<1.2.0,>=0.9.1 in /home/studio-lab-user/.conda/envs/default/lib/python3.9/site-packages (from spacy->-r requirements.txt (line 2)) (1.1.1)\n",
      "Requirement already satisfied: requests<3.0.0,>=2.13.0 in /home/studio-lab-user/.conda/envs/default/lib/python3.9/site-packages (from spacy->-r requirements.txt (line 2)) (2.30.0)\n",
      "Requirement already satisfied: jinja2 in /home/studio-lab-user/.conda/envs/default/lib/python3.9/site-packages (from spacy->-r requirements.txt (line 2)) (3.1.2)\n",
      "Requirement already satisfied: murmurhash<1.1.0,>=0.28.0 in /home/studio-lab-user/.conda/envs/default/lib/python3.9/site-packages (from spacy->-r requirements.txt (line 2)) (1.0.9)\n",
      "Requirement already satisfied: preshed<3.1.0,>=3.0.2 in /home/studio-lab-user/.conda/envs/default/lib/python3.9/site-packages (from spacy->-r requirements.txt (line 2)) (3.0.8)\n",
      "Requirement already satisfied: langcodes<4.0.0,>=3.2.0 in /home/studio-lab-user/.conda/envs/default/lib/python3.9/site-packages (from spacy->-r requirements.txt (line 2)) (3.3.0)\n",
      "Requirement already satisfied: pydantic!=1.8,!=1.8.1,<1.11.0,>=1.7.4 in /home/studio-lab-user/.conda/envs/default/lib/python3.9/site-packages (from spacy->-r requirements.txt (line 2)) (1.10.7)\n",
      "Requirement already satisfied: spacy-legacy<3.1.0,>=3.0.11 in /home/studio-lab-user/.conda/envs/default/lib/python3.9/site-packages (from spacy->-r requirements.txt (line 2)) (3.0.12)\n",
      "Requirement already satisfied: numpy>=1.15.0 in /home/studio-lab-user/.conda/envs/default/lib/python3.9/site-packages (from spacy->-r requirements.txt (line 2)) (1.24.3)\n",
      "Requirement already satisfied: packaging>=20.0 in /home/studio-lab-user/.conda/envs/default/lib/python3.9/site-packages (from spacy->-r requirements.txt (line 2)) (23.0)\n",
      "Requirement already satisfied: typer<0.8.0,>=0.3.0 in /home/studio-lab-user/.conda/envs/default/lib/python3.9/site-packages (from spacy->-r requirements.txt (line 2)) (0.7.0)\n",
      "Requirement already satisfied: srsly<3.0.0,>=2.4.3 in /home/studio-lab-user/.conda/envs/default/lib/python3.9/site-packages (from spacy->-r requirements.txt (line 2)) (2.4.6)\n",
      "Requirement already satisfied: catalogue<2.1.0,>=2.0.6 in /home/studio-lab-user/.conda/envs/default/lib/python3.9/site-packages (from spacy->-r requirements.txt (line 2)) (2.0.8)\n",
      "Requirement already satisfied: scipy>=1.7.0 in /home/studio-lab-user/.conda/envs/default/lib/python3.9/site-packages (from gensim->-r requirements.txt (line 3)) (1.10.1)\n",
      "Requirement already satisfied: joblib>=1.2.0 in /home/studio-lab-user/.conda/envs/default/lib/python3.9/site-packages (from pyLDAvis->-r requirements.txt (line 4)) (1.2.0)\n",
      "Requirement already satisfied: scikit-learn>=1.0.0 in /home/studio-lab-user/.conda/envs/default/lib/python3.9/site-packages (from pyLDAvis->-r requirements.txt (line 4)) (1.2.2)\n",
      "Requirement already satisfied: pandas>=2.0.0 in /home/studio-lab-user/.conda/envs/default/lib/python3.9/site-packages (from pyLDAvis->-r requirements.txt (line 4)) (2.0.1)\n",
      "Requirement already satisfied: funcy in /home/studio-lab-user/.conda/envs/default/lib/python3.9/site-packages (from pyLDAvis->-r requirements.txt (line 4)) (2.0)\n",
      "Requirement already satisfied: numexpr in /home/studio-lab-user/.conda/envs/default/lib/python3.9/site-packages (from pyLDAvis->-r requirements.txt (line 4)) (2.8.4)\n",
      "Requirement already satisfied: pillow in /home/studio-lab-user/.conda/envs/default/lib/python3.9/site-packages (from wordcloud->-r requirements.txt (line 6)) (9.5.0)\n",
      "Requirement already satisfied: matplotlib in /home/studio-lab-user/.conda/envs/default/lib/python3.9/site-packages (from wordcloud->-r requirements.txt (line 6)) (3.7.1)\n",
      "Requirement already satisfied: regex!=2019.12.17 in /home/studio-lab-user/.conda/envs/default/lib/python3.9/site-packages (from transformers->-r requirements.txt (line 7)) (2023.5.5)\n",
      "Requirement already satisfied: filelock in /home/studio-lab-user/.conda/envs/default/lib/python3.9/site-packages (from transformers->-r requirements.txt (line 7)) (3.12.0)\n",
      "Requirement already satisfied: pyyaml>=5.1 in /home/studio-lab-user/.conda/envs/default/lib/python3.9/site-packages (from transformers->-r requirements.txt (line 7)) (6.0)\n",
      "Requirement already satisfied: huggingface-hub<1.0,>=0.14.1 in /home/studio-lab-user/.conda/envs/default/lib/python3.9/site-packages (from transformers->-r requirements.txt (line 7)) (0.14.1)\n",
      "Requirement already satisfied: tokenizers!=0.11.3,<0.14,>=0.11.1 in /home/studio-lab-user/.conda/envs/default/lib/python3.9/site-packages (from transformers->-r requirements.txt (line 7)) (0.13.3)\n",
      "Requirement already satisfied: absl-py>=1.0.0 in /home/studio-lab-user/.conda/envs/default/lib/python3.9/site-packages (from tensorflow->-r requirements.txt (line 8)) (1.4.0)\n",
      "Requirement already satisfied: tensorflow-estimator<2.12,>=2.11.0 in /home/studio-lab-user/.conda/envs/default/lib/python3.9/site-packages (from tensorflow->-r requirements.txt (line 8)) (2.11.0)\n",
      "Requirement already satisfied: protobuf<3.20,>=3.9.2 in /home/studio-lab-user/.conda/envs/default/lib/python3.9/site-packages (from tensorflow->-r requirements.txt (line 8)) (3.19.6)\n",
      "Requirement already satisfied: google-pasta>=0.1.1 in /home/studio-lab-user/.conda/envs/default/lib/python3.9/site-packages (from tensorflow->-r requirements.txt (line 8)) (0.2.0)\n",
      "Requirement already satisfied: typing-extensions>=3.6.6 in /home/studio-lab-user/.conda/envs/default/lib/python3.9/site-packages (from tensorflow->-r requirements.txt (line 8)) (4.5.0)\n",
      "Requirement already satisfied: libclang>=13.0.0 in /home/studio-lab-user/.conda/envs/default/lib/python3.9/site-packages (from tensorflow->-r requirements.txt (line 8)) (16.0.0)\n",
      "Requirement already satisfied: opt-einsum>=2.3.2 in /home/studio-lab-user/.conda/envs/default/lib/python3.9/site-packages (from tensorflow->-r requirements.txt (line 8)) (3.3.0)\n",
      "Requirement already satisfied: termcolor>=1.1.0 in /home/studio-lab-user/.conda/envs/default/lib/python3.9/site-packages (from tensorflow->-r requirements.txt (line 8)) (2.3.0)\n",
      "Requirement already satisfied: flatbuffers>=2.0 in /home/studio-lab-user/.conda/envs/default/lib/python3.9/site-packages (from tensorflow->-r requirements.txt (line 8)) (23.5.9)\n",
      "Requirement already satisfied: keras<2.12,>=2.11.0 in /home/studio-lab-user/.conda/envs/default/lib/python3.9/site-packages (from tensorflow->-r requirements.txt (line 8)) (2.11.0)\n",
      "Requirement already satisfied: h5py>=2.9.0 in /home/studio-lab-user/.conda/envs/default/lib/python3.9/site-packages (from tensorflow->-r requirements.txt (line 8)) (3.8.0)\n",
      "Requirement already satisfied: wrapt>=1.11.0 in /home/studio-lab-user/.conda/envs/default/lib/python3.9/site-packages (from tensorflow->-r requirements.txt (line 8)) (1.15.0)\n",
      "Requirement already satisfied: astunparse>=1.6.0 in /home/studio-lab-user/.conda/envs/default/lib/python3.9/site-packages (from tensorflow->-r requirements.txt (line 8)) (1.6.3)\n",
      "Requirement already satisfied: tensorboard<2.12,>=2.11 in /home/studio-lab-user/.conda/envs/default/lib/python3.9/site-packages (from tensorflow->-r requirements.txt (line 8)) (2.11.2)\n",
      "Requirement already satisfied: gast<=0.4.0,>=0.2.1 in /home/studio-lab-user/.conda/envs/default/lib/python3.9/site-packages (from tensorflow->-r requirements.txt (line 8)) (0.4.0)\n",
      "Requirement already satisfied: tensorflow-io-gcs-filesystem>=0.23.1 in /home/studio-lab-user/.conda/envs/default/lib/python3.9/site-packages (from tensorflow->-r requirements.txt (line 8)) (0.32.0)\n",
      "Requirement already satisfied: grpcio<2.0,>=1.24.3 in /home/studio-lab-user/.conda/envs/default/lib/python3.9/site-packages (from tensorflow->-r requirements.txt (line 8)) (1.54.2)\n",
      "Requirement already satisfied: google-cloud-storage in /home/studio-lab-user/.conda/envs/default/lib/python3.9/site-packages (from gcsfs->-r requirements.txt (line 11)) (2.9.0)\n",
      "Requirement already satisfied: decorator>4.1.2 in /home/studio-lab-user/.conda/envs/default/lib/python3.9/site-packages (from gcsfs->-r requirements.txt (line 11)) (5.1.1)\n",
      "Requirement already satisfied: aiohttp!=4.0.0a0,!=4.0.0a1 in /home/studio-lab-user/.conda/envs/default/lib/python3.9/site-packages (from gcsfs->-r requirements.txt (line 11)) (3.8.4)\n",
      "Requirement already satisfied: fsspec==2023.5.0 in /home/studio-lab-user/.conda/envs/default/lib/python3.9/site-packages (from gcsfs->-r requirements.txt (line 11)) (2023.5.0)\n",
      "Requirement already satisfied: google-auth>=1.2 in /home/studio-lab-user/.conda/envs/default/lib/python3.9/site-packages (from gcsfs->-r requirements.txt (line 11)) (2.18.0)\n",
      "Requirement already satisfied: google-auth-oauthlib in /home/studio-lab-user/.conda/envs/default/lib/python3.9/site-packages (from gcsfs->-r requirements.txt (line 11)) (0.4.6)\n",
      "Requirement already satisfied: yarl<2.0,>=1.0 in /home/studio-lab-user/.conda/envs/default/lib/python3.9/site-packages (from aiohttp!=4.0.0a0,!=4.0.0a1->gcsfs->-r requirements.txt (line 11)) (1.9.2)\n",
      "Requirement already satisfied: aiosignal>=1.1.2 in /home/studio-lab-user/.conda/envs/default/lib/python3.9/site-packages (from aiohttp!=4.0.0a0,!=4.0.0a1->gcsfs->-r requirements.txt (line 11)) (1.3.1)\n",
      "Requirement already satisfied: multidict<7.0,>=4.5 in /home/studio-lab-user/.conda/envs/default/lib/python3.9/site-packages (from aiohttp!=4.0.0a0,!=4.0.0a1->gcsfs->-r requirements.txt (line 11)) (6.0.4)\n",
      "Requirement already satisfied: charset-normalizer<4.0,>=2.0 in /home/studio-lab-user/.conda/envs/default/lib/python3.9/site-packages (from aiohttp!=4.0.0a0,!=4.0.0a1->gcsfs->-r requirements.txt (line 11)) (3.1.0)\n",
      "Requirement already satisfied: frozenlist>=1.1.1 in /home/studio-lab-user/.conda/envs/default/lib/python3.9/site-packages (from aiohttp!=4.0.0a0,!=4.0.0a1->gcsfs->-r requirements.txt (line 11)) (1.3.3)\n",
      "Requirement already satisfied: async-timeout<5.0,>=4.0.0a3 in /home/studio-lab-user/.conda/envs/default/lib/python3.9/site-packages (from aiohttp!=4.0.0a0,!=4.0.0a1->gcsfs->-r requirements.txt (line 11)) (4.0.2)\n",
      "Requirement already satisfied: attrs>=17.3.0 in /home/studio-lab-user/.conda/envs/default/lib/python3.9/site-packages (from aiohttp!=4.0.0a0,!=4.0.0a1->gcsfs->-r requirements.txt (line 11)) (22.2.0)\n",
      "Requirement already satisfied: wheel<1.0,>=0.23.0 in /home/studio-lab-user/.conda/envs/default/lib/python3.9/site-packages (from astunparse>=1.6.0->tensorflow->-r requirements.txt (line 8)) (0.40.0)\n",
      "Requirement already satisfied: urllib3<2.0 in /home/studio-lab-user/.conda/envs/default/lib/python3.9/site-packages (from google-auth>=1.2->gcsfs->-r requirements.txt (line 11)) (1.26.15)\n",
      "Requirement already satisfied: cachetools<6.0,>=2.0.0 in /home/studio-lab-user/.conda/envs/default/lib/python3.9/site-packages (from google-auth>=1.2->gcsfs->-r requirements.txt (line 11)) (5.3.0)\n",
      "Requirement already satisfied: rsa<5,>=3.1.4 in /home/studio-lab-user/.conda/envs/default/lib/python3.9/site-packages (from google-auth>=1.2->gcsfs->-r requirements.txt (line 11)) (4.9)\n",
      "Requirement already satisfied: pyasn1-modules>=0.2.1 in /home/studio-lab-user/.conda/envs/default/lib/python3.9/site-packages (from google-auth>=1.2->gcsfs->-r requirements.txt (line 11)) (0.3.0)\n",
      "Requirement already satisfied: fonttools>=4.22.0 in /home/studio-lab-user/.conda/envs/default/lib/python3.9/site-packages (from matplotlib->wordcloud->-r requirements.txt (line 6)) (4.39.4)\n",
      "Requirement already satisfied: python-dateutil>=2.7 in /home/studio-lab-user/.conda/envs/default/lib/python3.9/site-packages (from matplotlib->wordcloud->-r requirements.txt (line 6)) (2.8.2)\n",
      "Requirement already satisfied: contourpy>=1.0.1 in /home/studio-lab-user/.conda/envs/default/lib/python3.9/site-packages (from matplotlib->wordcloud->-r requirements.txt (line 6)) (1.0.7)\n",
      "Requirement already satisfied: cycler>=0.10 in /home/studio-lab-user/.conda/envs/default/lib/python3.9/site-packages (from matplotlib->wordcloud->-r requirements.txt (line 6)) (0.11.0)\n",
      "Requirement already satisfied: pyparsing>=2.3.1 in /home/studio-lab-user/.conda/envs/default/lib/python3.9/site-packages (from matplotlib->wordcloud->-r requirements.txt (line 6)) (3.0.9)\n",
      "Requirement already satisfied: kiwisolver>=1.0.1 in /home/studio-lab-user/.conda/envs/default/lib/python3.9/site-packages (from matplotlib->wordcloud->-r requirements.txt (line 6)) (1.4.4)\n",
      "Requirement already satisfied: importlib-resources>=3.2.0 in /home/studio-lab-user/.conda/envs/default/lib/python3.9/site-packages (from matplotlib->wordcloud->-r requirements.txt (line 6)) (5.12.0)\n",
      "Requirement already satisfied: zipp>=3.1.0 in /home/studio-lab-user/.conda/envs/default/lib/python3.9/site-packages (from importlib-resources>=3.2.0->matplotlib->wordcloud->-r requirements.txt (line 6)) (3.15.0)\n",
      "Requirement already satisfied: tzdata>=2022.1 in /home/studio-lab-user/.conda/envs/default/lib/python3.9/site-packages (from pandas>=2.0.0->pyLDAvis->-r requirements.txt (line 4)) (2023.3)\n",
      "Requirement already satisfied: pytz>=2020.1 in /home/studio-lab-user/.conda/envs/default/lib/python3.9/site-packages (from pandas>=2.0.0->pyLDAvis->-r requirements.txt (line 4)) (2023.3)\n",
      "Requirement already satisfied: pyasn1<0.6.0,>=0.4.6 in /home/studio-lab-user/.conda/envs/default/lib/python3.9/site-packages (from pyasn1-modules>=0.2.1->google-auth>=1.2->gcsfs->-r requirements.txt (line 11)) (0.5.0)\n",
      "Requirement already satisfied: certifi>=2017.4.17 in /home/studio-lab-user/.conda/envs/default/lib/python3.9/site-packages (from requests<3.0.0,>=2.13.0->spacy->-r requirements.txt (line 2)) (2023.5.7)\n",
      "Requirement already satisfied: idna<4,>=2.5 in /home/studio-lab-user/.conda/envs/default/lib/python3.9/site-packages (from requests<3.0.0,>=2.13.0->spacy->-r requirements.txt (line 2)) (3.4)\n",
      "Requirement already satisfied: threadpoolctl>=2.0.0 in /home/studio-lab-user/.conda/envs/default/lib/python3.9/site-packages (from scikit-learn>=1.0.0->pyLDAvis->-r requirements.txt (line 4)) (3.1.0)\n",
      "Requirement already satisfied: markdown>=2.6.8 in /home/studio-lab-user/.conda/envs/default/lib/python3.9/site-packages (from tensorboard<2.12,>=2.11->tensorflow->-r requirements.txt (line 8)) (3.4.3)\n",
      "Requirement already satisfied: werkzeug>=1.0.1 in /home/studio-lab-user/.conda/envs/default/lib/python3.9/site-packages (from tensorboard<2.12,>=2.11->tensorflow->-r requirements.txt (line 8)) (2.3.4)\n",
      "Requirement already satisfied: tensorboard-data-server<0.7.0,>=0.6.0 in /home/studio-lab-user/.conda/envs/default/lib/python3.9/site-packages (from tensorboard<2.12,>=2.11->tensorflow->-r requirements.txt (line 8)) (0.6.1)\n",
      "Requirement already satisfied: tensorboard-plugin-wit>=1.6.0 in /home/studio-lab-user/.conda/envs/default/lib/python3.9/site-packages (from tensorboard<2.12,>=2.11->tensorflow->-r requirements.txt (line 8)) (1.8.1)\n",
      "Requirement already satisfied: requests-oauthlib>=0.7.0 in /home/studio-lab-user/.conda/envs/default/lib/python3.9/site-packages (from google-auth-oauthlib->gcsfs->-r requirements.txt (line 11)) (1.3.1)\n",
      "Requirement already satisfied: importlib-metadata>=4.4 in /home/studio-lab-user/.conda/envs/default/lib/python3.9/site-packages (from markdown>=2.6.8->tensorboard<2.12,>=2.11->tensorflow->-r requirements.txt (line 8)) (6.1.0)\n",
      "Requirement already satisfied: oauthlib>=3.0.0 in /home/studio-lab-user/.conda/envs/default/lib/python3.9/site-packages (from requests-oauthlib>=0.7.0->google-auth-oauthlib->gcsfs->-r requirements.txt (line 11)) (3.2.2)\n",
      "Requirement already satisfied: confection<1.0.0,>=0.0.1 in /home/studio-lab-user/.conda/envs/default/lib/python3.9/site-packages (from thinc<8.2.0,>=8.1.8->spacy->-r requirements.txt (line 2)) (0.0.4)\n",
      "Requirement already satisfied: blis<0.8.0,>=0.7.8 in /home/studio-lab-user/.conda/envs/default/lib/python3.9/site-packages (from thinc<8.2.0,>=8.1.8->spacy->-r requirements.txt (line 2)) (0.7.9)\n",
      "Requirement already satisfied: click<9.0.0,>=7.1.1 in /home/studio-lab-user/.conda/envs/default/lib/python3.9/site-packages (from typer<0.8.0,>=0.3.0->spacy->-r requirements.txt (line 2)) (8.1.3)\n",
      "Requirement already satisfied: MarkupSafe>=2.1.1 in /home/studio-lab-user/.conda/envs/default/lib/python3.9/site-packages (from werkzeug>=1.0.1->tensorboard<2.12,>=2.11->tensorflow->-r requirements.txt (line 8)) (2.1.2)\n",
      "Requirement already satisfied: google-cloud-core<3.0dev,>=2.3.0 in /home/studio-lab-user/.conda/envs/default/lib/python3.9/site-packages (from google-cloud-storage->gcsfs->-r requirements.txt (line 11)) (2.3.2)\n",
      "Requirement already satisfied: google-api-core!=2.0.*,!=2.1.*,!=2.2.*,!=2.3.0,<3.0.0dev,>=1.31.5 in /home/studio-lab-user/.conda/envs/default/lib/python3.9/site-packages (from google-cloud-storage->gcsfs->-r requirements.txt (line 11)) (2.11.0)\n",
      "Requirement already satisfied: google-resumable-media>=2.3.2 in /home/studio-lab-user/.conda/envs/default/lib/python3.9/site-packages (from google-cloud-storage->gcsfs->-r requirements.txt (line 11)) (2.5.0)\n",
      "Requirement already satisfied: googleapis-common-protos<2.0dev,>=1.56.2 in /home/studio-lab-user/.conda/envs/default/lib/python3.9/site-packages (from google-api-core!=2.0.*,!=2.1.*,!=2.2.*,!=2.3.0,<3.0.0dev,>=1.31.5->google-cloud-storage->gcsfs->-r requirements.txt (line 11)) (1.59.0)\n",
      "Requirement already satisfied: google-crc32c<2.0dev,>=1.0 in /home/studio-lab-user/.conda/envs/default/lib/python3.9/site-packages (from google-resumable-media>=2.3.2->google-cloud-storage->gcsfs->-r requirements.txt (line 11)) (1.5.0)\n"
     ]
    }
   ],
   "source": [
    "!pip install -r requirements.txt"
   ]
  },
  {
   "cell_type": "code",
   "execution_count": 2,
   "metadata": {
    "tags": []
   },
   "outputs": [],
   "source": [
    "# Import basic libraries\n",
    "import os\n",
    "import sys\n",
    "import time\n",
    "import pandas as pd\n",
    "import numpy as np\n",
    "import seaborn as sns\n",
    "import matplotlib.pyplot as plt \n",
    "\n",
    "%matplotlib inline"
   ]
  },
  {
   "cell_type": "code",
   "execution_count": 3,
   "metadata": {
    "tags": []
   },
   "outputs": [],
   "source": [
    "import warnings\n",
    "warnings.filterwarnings('ignore')\n",
    "pd.set_option('display.max_rows', 100)\n",
    "pd.set_option('display.max_columns', None)\n",
    "pd.set_option('display.max_colwidth', 500)"
   ]
  },
  {
   "cell_type": "code",
   "execution_count": 4,
   "metadata": {
    "tags": []
   },
   "outputs": [
    {
     "name": "stderr",
     "output_type": "stream",
     "text": [
      "2023-05-16 23:51:13.581978: W tensorflow/compiler/xla/stream_executor/platform/default/dso_loader.cc:64] Could not load dynamic library 'libnvinfer.so.7'; dlerror: libnvinfer.so.7: cannot open shared object file: No such file or directory; LD_LIBRARY_PATH: /usr/local/nvidia/lib:/usr/local/nvidia/lib64\n",
      "2023-05-16 23:51:13.582059: W tensorflow/compiler/xla/stream_executor/platform/default/dso_loader.cc:64] Could not load dynamic library 'libnvinfer_plugin.so.7'; dlerror: libnvinfer_plugin.so.7: cannot open shared object file: No such file or directory; LD_LIBRARY_PATH: /usr/local/nvidia/lib:/usr/local/nvidia/lib64\n",
      "2023-05-16 23:51:13.582068: W tensorflow/compiler/tf2tensorrt/utils/py_utils.cc:38] TF-TRT Warning: Cannot dlopen some TensorRT libraries. If you would like to use Nvidia GPU with TensorRT, please make sure the missing libraries mentioned above are installed properly.\n"
     ]
    },
    {
     "name": "stdout",
     "output_type": "stream",
     "text": [
      "3.5.3\n"
     ]
    }
   ],
   "source": [
    "# Import NLP libraries\n",
    "import re\n",
    "import nltk\n",
    "from nltk.corpus import stopwords\n",
    "from nltk.stem import WordNetLemmatizer\n",
    "from nltk.tokenize import word_tokenize\n",
    "from sklearn.feature_extraction.text import CountVectorizer, TfidfVectorizer\n",
    "\n",
    "from pprint import pprint\n",
    "import string\n",
    "from rake_nltk import Rake\n",
    "\n",
    "import spacy\n",
    "from spacy import displacy\n",
    "from spacy.util import minibatch, compounding\n",
    "spacy.prefer_gpu()\n",
    "print(spacy.__version__)\n",
    "\n",
    "import gensim\n",
    "from gensim import corpora, models\n",
    "from gensim.utils import simple_preprocess\n",
    "from gensim.models.ldamulticore import LdaMulticore\n",
    "from gensim.models import CoherenceModel\n",
    "\n",
    "import pyLDAvis\n",
    "import pyLDAvis.gensim as gensimvis\n",
    "#import pyLDAvis.gensim_models as gensimvis\n",
    "pyLDAvis.enable_notebook()\n",
    "\n",
    "import tensorflow as tf\n",
    "from transformers import pipeline"
   ]
  },
  {
   "cell_type": "code",
   "execution_count": 5,
   "metadata": {
    "tags": []
   },
   "outputs": [
    {
     "name": "stdout",
     "output_type": "stream",
     "text": [
      "Available CPUs: 4\n"
     ]
    }
   ],
   "source": [
    "import multiprocessing as mp\n",
    "\n",
    "num_processors = mp.cpu_count()\n",
    "print(f'Available CPUs: {num_processors}')"
   ]
  },
  {
   "cell_type": "markdown",
   "metadata": {},
   "source": [
    "### Read New Articles with Sentiment Score"
   ]
  },
  {
   "cell_type": "code",
   "execution_count": 6,
   "metadata": {
    "tags": []
   },
   "outputs": [
    {
     "name": "stdout",
     "output_type": "stream",
     "text": [
      "CPU times: user 1min 10s, sys: 11 s, total: 1min 21s\n",
      "Wall time: 1min 11s\n"
     ]
    },
    {
     "data": {
      "text/plain": [
       "(154283, 11)"
      ]
     },
     "execution_count": 6,
     "metadata": {},
     "output_type": "execute_result"
    }
   ],
   "source": [
    "%%time\n",
    "\n",
    "# GCP version\n",
    "#path = \"gs://nlp-final-project-data/data/\"\n",
    "#df_news = pd.read_parquet(path + 'news_sentiment.parquet', engine='pyarrow')\n",
    "\n",
    "# Sagemaker version\n",
    "df_news = pd.read_parquet('data_news_sentiment.parquet', engine='pyarrow')\n",
    "df_news.shape"
   ]
  },
  {
   "cell_type": "code",
   "execution_count": 7,
   "metadata": {
    "tags": []
   },
   "outputs": [
    {
     "name": "stdout",
     "output_type": "stream",
     "text": [
      "<class 'pandas.core.frame.DataFrame'>\n",
      "RangeIndex: 154283 entries, 0 to 154282\n",
      "Data columns (total 11 columns):\n",
      " #   Column            Non-Null Count   Dtype \n",
      "---  ------            --------------   ----- \n",
      " 0   id                154283 non-null  int64 \n",
      " 1   date              154283 non-null  object\n",
      " 2   cleaned title     154283 non-null  object\n",
      " 3   cleaned text      154283 non-null  object\n",
      " 4   title_tokens      154283 non-null  object\n",
      " 5   title_lemmatized  154283 non-null  object\n",
      " 6   text_tokens       154283 non-null  object\n",
      " 7   text_lemmatized   154283 non-null  object\n",
      " 8   title_keywords    154283 non-null  object\n",
      " 9   text_keywords     154283 non-null  object\n",
      " 10  sentiment         154283 non-null  int64 \n",
      "dtypes: int64(2), object(9)\n",
      "memory usage: 12.9+ MB\n"
     ]
    }
   ],
   "source": [
    "df_news.info()"
   ]
  },
  {
   "cell_type": "code",
   "execution_count": 8,
   "metadata": {
    "tags": []
   },
   "outputs": [
    {
     "data": {
      "text/html": [
       "<div>\n",
       "<style scoped>\n",
       "    .dataframe tbody tr th:only-of-type {\n",
       "        vertical-align: middle;\n",
       "    }\n",
       "\n",
       "    .dataframe tbody tr th {\n",
       "        vertical-align: top;\n",
       "    }\n",
       "\n",
       "    .dataframe thead th {\n",
       "        text-align: right;\n",
       "    }\n",
       "</style>\n",
       "<table border=\"1\" class=\"dataframe\">\n",
       "  <thead>\n",
       "    <tr style=\"text-align: right;\">\n",
       "      <th></th>\n",
       "      <th>id</th>\n",
       "      <th>date</th>\n",
       "      <th>cleaned title</th>\n",
       "      <th>cleaned text</th>\n",
       "      <th>title_tokens</th>\n",
       "      <th>title_lemmatized</th>\n",
       "      <th>text_tokens</th>\n",
       "      <th>text_lemmatized</th>\n",
       "      <th>title_keywords</th>\n",
       "      <th>text_keywords</th>\n",
       "      <th>sentiment</th>\n",
       "    </tr>\n",
       "  </thead>\n",
       "  <tbody>\n",
       "    <tr>\n",
       "      <th>0</th>\n",
       "      <td>1</td>\n",
       "      <td>2020-02-27</td>\n",
       "      <td>Children With Autism Saw Their Learning and Social Skills Boosted After Playing With This AI Robot</td>\n",
       "      <td>Children With Autism Saw Their Learning and Social Skills Boosted After Playing With This AI Robot admin  Latest posts by admin see all  Mansplaining in conferences: How can we get him to forestall  February 27, 2020 Coronavirus Could Explode in the U.S. Overnight Like it Did in Italy  February 27, 2020 Levi Strauss marks the next phase in corporate paid leave policies  February 27, 2020 Scientists who designed an artificially clever robotic that helped youngsters with autism spice up their ...</td>\n",
       "      <td>[children, autism, saw, learning, social, skills, boosted, playing, ai, robot, children, autism, saw, learning, social, skills, boosted, playing, ai, robot, children, autism, saw, learning, social, skills, boosted, playing, ai_robot]</td>\n",
       "      <td>[child, autism, see, learn, social, skill, boost, play, robot, child, autism, see, learn, social, skill, boost, play, robot, child, autism, see, learn, social, skill, boost, play, ai_robot]</td>\n",
       "      <td>[children, autism, saw, learning, social, skills, boosted, playing, ai, robot, admin, latest, posts, admin, see, mansplaining, conferences, get, forestall, february, coronavirus, could, explode, overnight, like, italy, february, levi, strauss, marks, next, phase, corporate, paid, leave, policies, february, scientists, designed, artificially, clever, robotic, helped, youngsters, autism, spice, studying, social, talents, hope, era, may, future, help, others, developmental, dysfunction, learn, ...</td>\n",
       "      <td>[child, autism, see, learn, social, skill, boost, play, robot, late, post, admin, see, mansplaining, conference, get, explode, overnight, mark, next, phase, corporate, pay, leave, policy, scientist, design, artificially, clever, robotic, help, youngster, autism, spice, study, social, talent, era, future, help, other, developmental, dysfunction, learn, notice, youngster, gentle, average, autism, take, domestic, s, refer, socially, assistive, robotic, name, kiwi, month, accord, commentary, way...</td>\n",
       "      <td>[social, skill, see, play, learn, child, boost, autism, robot, ai_robot]</td>\n",
       "      <td>[robotic, youngster, kid, child, kiwi, market, autism, learn, crew, talent]</td>\n",
       "      <td>5</td>\n",
       "    </tr>\n",
       "    <tr>\n",
       "      <th>1</th>\n",
       "      <td>2</td>\n",
       "      <td>2021-03-26</td>\n",
       "      <td>Forget ML, AI and Industry 4.0 – obsolescence should be your focus</td>\n",
       "      <td>Forget ML, AI and Industry 4.0  obsolescence should be your focus The world entered a new era of accelerated transformation in the last eighteen months that will continue to evolve and press forward for years to come. Most businesses are playing catchup trying to make sense of a new timeline where the ten years that had been set aside for careful planning and implementation of what was coming up next no longer exists. The next is happening now and, regardless of your industry or seniority, t...</td>\n",
       "      <td>[forget, ml, ai, industry, obsolescence, focus, forget, ml, ai, industry, obsolescence, focus, forget, ml, ai, industry, obsolescence, focus]</td>\n",
       "      <td>[forget, ml, ai, industry, obsolescence, focus, forget, ml, ai, industry, obsolescence, focus, forget, ml, ai, industry, obsolescence, focus]</td>\n",
       "      <td>[forget, ml, ai, industry, obsolescence, focus, world, entered, new, era, accelerated, transformation, last, eighteen, months, continue, evolve, press, forward, years, come, businesses, playing, catchup, trying, make, sense, new, timeline, ten, years, set, aside, careful, planning, implementation, coming, next, longer, exists, next, happening, regardless, industry, seniority, status, quo, shifted, better, face, back, invited, attend, pompous, meeting, london, brazilian, embassy, along, selec...</td>\n",
       "      <td>[forget, ai, industry, obsolescence, focus, world, enter, new, era, accelerate, transformation, last, month, continue, evolve, press, forward, year, come, business, play, catchup, try, make, sense, new, timeline, year, set, aside, careful, planning, implementation, come, next, long, exist, next, happen, regardless, industry, seniority, status, quo, shift, well, face, back, invite, attend, pompous, meeting, brazilian, embassy, select, lead, name, oil, energy, industry, get, update, go, happen...</td>\n",
       "      <td>[obsolescence, ml, industry, forget, focus, ai]</td>\n",
       "      <td>[electronic, come, card, industry, repair, new, system, require, test, business]</td>\n",
       "      <td>4</td>\n",
       "    </tr>\n",
       "  </tbody>\n",
       "</table>\n",
       "</div>"
      ],
      "text/plain": [
       "   id        date   \n",
       "0   1  2020-02-27  \\\n",
       "1   2  2021-03-26   \n",
       "\n",
       "                                                                                        cleaned title   \n",
       "0  Children With Autism Saw Their Learning and Social Skills Boosted After Playing With This AI Robot  \\\n",
       "1                                  Forget ML, AI and Industry 4.0 – obsolescence should be your focus   \n",
       "\n",
       "                                                                                                                                                                                                                                                                                                                                                                                                                                                                                                          cleaned text   \n",
       "0  Children With Autism Saw Their Learning and Social Skills Boosted After Playing With This AI Robot admin  Latest posts by admin see all  Mansplaining in conferences: How can we get him to forestall  February 27, 2020 Coronavirus Could Explode in the U.S. Overnight Like it Did in Italy  February 27, 2020 Levi Strauss marks the next phase in corporate paid leave policies  February 27, 2020 Scientists who designed an artificially clever robotic that helped youngsters with autism spice up their ...  \\\n",
       "1  Forget ML, AI and Industry 4.0  obsolescence should be your focus The world entered a new era of accelerated transformation in the last eighteen months that will continue to evolve and press forward for years to come. Most businesses are playing catchup trying to make sense of a new timeline where the ten years that had been set aside for careful planning and implementation of what was coming up next no longer exists. The next is happening now and, regardless of your industry or seniority, t...   \n",
       "\n",
       "                                                                                                                                                                                                                                title_tokens   \n",
       "0  [children, autism, saw, learning, social, skills, boosted, playing, ai, robot, children, autism, saw, learning, social, skills, boosted, playing, ai, robot, children, autism, saw, learning, social, skills, boosted, playing, ai_robot]  \\\n",
       "1                                                                                              [forget, ml, ai, industry, obsolescence, focus, forget, ml, ai, industry, obsolescence, focus, forget, ml, ai, industry, obsolescence, focus]   \n",
       "\n",
       "                                                                                                                                                                                title_lemmatized   \n",
       "0  [child, autism, see, learn, social, skill, boost, play, robot, child, autism, see, learn, social, skill, boost, play, robot, child, autism, see, learn, social, skill, boost, play, ai_robot]  \\\n",
       "1                                                  [forget, ml, ai, industry, obsolescence, focus, forget, ml, ai, industry, obsolescence, focus, forget, ml, ai, industry, obsolescence, focus]   \n",
       "\n",
       "                                                                                                                                                                                                                                                                                                                                                                                                                                                                                                           text_tokens   \n",
       "0  [children, autism, saw, learning, social, skills, boosted, playing, ai, robot, admin, latest, posts, admin, see, mansplaining, conferences, get, forestall, february, coronavirus, could, explode, overnight, like, italy, february, levi, strauss, marks, next, phase, corporate, paid, leave, policies, february, scientists, designed, artificially, clever, robotic, helped, youngsters, autism, spice, studying, social, talents, hope, era, may, future, help, others, developmental, dysfunction, learn, ...  \\\n",
       "1  [forget, ml, ai, industry, obsolescence, focus, world, entered, new, era, accelerated, transformation, last, eighteen, months, continue, evolve, press, forward, years, come, businesses, playing, catchup, trying, make, sense, new, timeline, ten, years, set, aside, careful, planning, implementation, coming, next, longer, exists, next, happening, regardless, industry, seniority, status, quo, shifted, better, face, back, invited, attend, pompous, meeting, london, brazilian, embassy, along, selec...   \n",
       "\n",
       "                                                                                                                                                                                                                                                                                                                                                                                                                                                                                                       text_lemmatized   \n",
       "0  [child, autism, see, learn, social, skill, boost, play, robot, late, post, admin, see, mansplaining, conference, get, explode, overnight, mark, next, phase, corporate, pay, leave, policy, scientist, design, artificially, clever, robotic, help, youngster, autism, spice, study, social, talent, era, future, help, other, developmental, dysfunction, learn, notice, youngster, gentle, average, autism, take, domestic, s, refer, socially, assistive, robotic, name, kiwi, month, accord, commentary, way...  \\\n",
       "1  [forget, ai, industry, obsolescence, focus, world, enter, new, era, accelerate, transformation, last, month, continue, evolve, press, forward, year, come, business, play, catchup, try, make, sense, new, timeline, year, set, aside, careful, planning, implementation, come, next, long, exist, next, happen, regardless, industry, seniority, status, quo, shift, well, face, back, invite, attend, pompous, meeting, brazilian, embassy, select, lead, name, oil, energy, industry, get, update, go, happen...   \n",
       "\n",
       "                                                             title_keywords   \n",
       "0  [social, skill, see, play, learn, child, boost, autism, robot, ai_robot]  \\\n",
       "1                           [obsolescence, ml, industry, forget, focus, ai]   \n",
       "\n",
       "                                                                      text_keywords   \n",
       "0       [robotic, youngster, kid, child, kiwi, market, autism, learn, crew, talent]  \\\n",
       "1  [electronic, come, card, industry, repair, new, system, require, test, business]   \n",
       "\n",
       "   sentiment  \n",
       "0          5  \n",
       "1          4  "
      ]
     },
     "execution_count": 8,
     "metadata": {},
     "output_type": "execute_result"
    }
   ],
   "source": [
    "df_news.head(2)"
   ]
  },
  {
   "cell_type": "code",
   "execution_count": 9,
   "metadata": {
    "tags": []
   },
   "outputs": [
    {
     "data": {
      "text/plain": [
       "(154283, 11)"
      ]
     },
     "execution_count": 9,
     "metadata": {},
     "output_type": "execute_result"
    }
   ],
   "source": [
    "### SAMPLE DATA\n",
    "# df_news = df_news.sample(frac=0.01, random_state=42)\n",
    "df_news.shape"
   ]
  },
  {
   "cell_type": "markdown",
   "metadata": {},
   "source": [
    "# Select articles with positive and negative sentiment scores\n",
    "\n",
    "- Positive: sentiment score > 3\n",
    "- Negative: sentiment score < 3"
   ]
  },
  {
   "cell_type": "code",
   "execution_count": 10,
   "metadata": {
    "tags": []
   },
   "outputs": [
    {
     "data": {
      "text/plain": [
       "(104228, 11)"
      ]
     },
     "execution_count": 10,
     "metadata": {},
     "output_type": "execute_result"
    }
   ],
   "source": [
    "# select positive sentiment articles\n",
    "df_news_positive = df_news[df_news['sentiment'] > 3].reset_index(drop=True)\n",
    "df_news_positive.shape"
   ]
  },
  {
   "cell_type": "code",
   "execution_count": 11,
   "metadata": {
    "tags": []
   },
   "outputs": [
    {
     "data": {
      "text/html": [
       "<div>\n",
       "<style scoped>\n",
       "    .dataframe tbody tr th:only-of-type {\n",
       "        vertical-align: middle;\n",
       "    }\n",
       "\n",
       "    .dataframe tbody tr th {\n",
       "        vertical-align: top;\n",
       "    }\n",
       "\n",
       "    .dataframe thead th {\n",
       "        text-align: right;\n",
       "    }\n",
       "</style>\n",
       "<table border=\"1\" class=\"dataframe\">\n",
       "  <thead>\n",
       "    <tr style=\"text-align: right;\">\n",
       "      <th></th>\n",
       "      <th>id</th>\n",
       "      <th>date</th>\n",
       "      <th>cleaned title</th>\n",
       "      <th>cleaned text</th>\n",
       "      <th>title_tokens</th>\n",
       "      <th>title_lemmatized</th>\n",
       "      <th>text_tokens</th>\n",
       "      <th>text_lemmatized</th>\n",
       "      <th>title_keywords</th>\n",
       "      <th>text_keywords</th>\n",
       "      <th>sentiment</th>\n",
       "    </tr>\n",
       "  </thead>\n",
       "  <tbody>\n",
       "    <tr>\n",
       "      <th>73704</th>\n",
       "      <td>141701</td>\n",
       "      <td>2021-05-25</td>\n",
       "      <td>Eys3D raises $7M for AI edge sensor technology</td>\n",
       "      <td>Eys3D raises 7M for AI edge sensor technology Start transforming your games economy and increase your bottom line. Get the free guide now. Eys3D Microelectronics, a company producing chips and sensors for autonomous operations including security, touchless control, autonomous vehicles, and smart retail, today announced that its raised 7 million in a series A round led by strategic partners Arm IoT Capital, WI Harper Group, and Marubun Corporation. The company says that the funding will allow...</td>\n",
       "      <td>[eys, raises, ai, edge, sensor, technology, eys_raises, ai, edge, sensor, technology, eys_raises, ai, edge, sensor, technology]</td>\n",
       "      <td>[raise, ai, edge, sensor, technology, eys_raise, ai, edge, sensor, technology, eys_raise, ai, edge, sensor, technology]</td>\n",
       "      <td>[eys, raises, ai, edge, sensor, technology, start, transforming, games, economy, increase, bottom, line, get, free, guide, eys, company, producing, chips, sensors, autonomous, operations, including, security, touchless, control, autonomous, vehicles, smart, retail, today, announced, raised, million, series, round, led, strategic, partners, arm, iot, capital, wi, harper, group, marubun, corporation, company, says, funding, allow, grow, product, development, research, efforts, including, depth...</td>\n",
       "      <td>[raise, ai, edge, sensor, technology, start, transform, game, economy, increase, bottom, line, get, free, guide, company, produce, chip, sensor, autonomous, operation, include, security, touchless, control, autonomous, vehicle, smart, retail, today, announce, raise, series, round, lead, strategic, partner, arm, group, say, funding, allow, grow, product, development, research, effort, include, depthsense, camera, sensor, integration, solution, enable, new, capability, object, recognition, dis...</td>\n",
       "      <td>[technology, sensor, edge, ai, eys_raise, raise]</td>\n",
       "      <td>[include, say, technology, sensor, company, market, ai, chip, partner, design]</td>\n",
       "      <td>5</td>\n",
       "    </tr>\n",
       "  </tbody>\n",
       "</table>\n",
       "</div>"
      ],
      "text/plain": [
       "           id        date                                   cleaned title   \n",
       "73704  141701  2021-05-25  Eys3D raises $7M for AI edge sensor technology  \\\n",
       "\n",
       "                                                                                                                                                                                                                                                                                                                                                                                                                                                                                                              cleaned text   \n",
       "73704  Eys3D raises 7M for AI edge sensor technology Start transforming your games economy and increase your bottom line. Get the free guide now. Eys3D Microelectronics, a company producing chips and sensors for autonomous operations including security, touchless control, autonomous vehicles, and smart retail, today announced that its raised 7 million in a series A round led by strategic partners Arm IoT Capital, WI Harper Group, and Marubun Corporation. The company says that the funding will allow...  \\\n",
       "\n",
       "                                                                                                                          title_tokens   \n",
       "73704  [eys, raises, ai, edge, sensor, technology, eys_raises, ai, edge, sensor, technology, eys_raises, ai, edge, sensor, technology]  \\\n",
       "\n",
       "                                                                                                              title_lemmatized   \n",
       "73704  [raise, ai, edge, sensor, technology, eys_raise, ai, edge, sensor, technology, eys_raise, ai, edge, sensor, technology]  \\\n",
       "\n",
       "                                                                                                                                                                                                                                                                                                                                                                                                                                                                                                               text_tokens   \n",
       "73704  [eys, raises, ai, edge, sensor, technology, start, transforming, games, economy, increase, bottom, line, get, free, guide, eys, company, producing, chips, sensors, autonomous, operations, including, security, touchless, control, autonomous, vehicles, smart, retail, today, announced, raised, million, series, round, led, strategic, partners, arm, iot, capital, wi, harper, group, marubun, corporation, company, says, funding, allow, grow, product, development, research, efforts, including, depth...  \\\n",
       "\n",
       "                                                                                                                                                                                                                                                                                                                                                                                                                                                                                                           text_lemmatized   \n",
       "73704  [raise, ai, edge, sensor, technology, start, transform, game, economy, increase, bottom, line, get, free, guide, company, produce, chip, sensor, autonomous, operation, include, security, touchless, control, autonomous, vehicle, smart, retail, today, announce, raise, series, round, lead, strategic, partner, arm, group, say, funding, allow, grow, product, development, research, effort, include, depthsense, camera, sensor, integration, solution, enable, new, capability, object, recognition, dis...  \\\n",
       "\n",
       "                                         title_keywords   \n",
       "73704  [technology, sensor, edge, ai, eys_raise, raise]  \\\n",
       "\n",
       "                                                                        text_keywords   \n",
       "73704  [include, say, technology, sensor, company, market, ai, chip, partner, design]  \\\n",
       "\n",
       "       sentiment  \n",
       "73704          5  "
      ]
     },
     "execution_count": 11,
     "metadata": {},
     "output_type": "execute_result"
    }
   ],
   "source": [
    "# print a sample\n",
    "df_news_positive.sample(1)"
   ]
  },
  {
   "cell_type": "code",
   "execution_count": 12,
   "metadata": {
    "tags": []
   },
   "outputs": [
    {
     "data": {
      "text/plain": [
       "(14932, 11)"
      ]
     },
     "execution_count": 12,
     "metadata": {},
     "output_type": "execute_result"
    }
   ],
   "source": [
    "# select negative sentiment articles\n",
    "df_news_negative = df_news[df_news['sentiment'] < 3].reset_index(drop=True)\n",
    "df_news_negative.shape"
   ]
  },
  {
   "cell_type": "code",
   "execution_count": 13,
   "metadata": {
    "tags": []
   },
   "outputs": [
    {
     "data": {
      "text/html": [
       "<div>\n",
       "<style scoped>\n",
       "    .dataframe tbody tr th:only-of-type {\n",
       "        vertical-align: middle;\n",
       "    }\n",
       "\n",
       "    .dataframe tbody tr th {\n",
       "        vertical-align: top;\n",
       "    }\n",
       "\n",
       "    .dataframe thead th {\n",
       "        text-align: right;\n",
       "    }\n",
       "</style>\n",
       "<table border=\"1\" class=\"dataframe\">\n",
       "  <thead>\n",
       "    <tr style=\"text-align: right;\">\n",
       "      <th></th>\n",
       "      <th>id</th>\n",
       "      <th>date</th>\n",
       "      <th>cleaned title</th>\n",
       "      <th>cleaned text</th>\n",
       "      <th>title_tokens</th>\n",
       "      <th>title_lemmatized</th>\n",
       "      <th>text_tokens</th>\n",
       "      <th>text_lemmatized</th>\n",
       "      <th>title_keywords</th>\n",
       "      <th>text_keywords</th>\n",
       "      <th>sentiment</th>\n",
       "    </tr>\n",
       "  </thead>\n",
       "  <tbody>\n",
       "    <tr>\n",
       "      <th>8653</th>\n",
       "      <td>116637</td>\n",
       "      <td>2023-04-04</td>\n",
       "      <td>Is Artificial Intelligence Really the Road to a 'Terminator' Future For Humanity?</td>\n",
       "      <td>Is Artificial Intelligence Really the Road to a Terminator Future For Humanity  Business 2 Community The Best VPNs For The USA In 2022  Unblock Content With a US VPN The Best App Builder in 2022  Top 15 NoCode App Builders Reviewed The Best Background Check Software  Top 12 Reviewed for 2022 The 92 Best Small Business Ideas for 2022  Ranked by Category How to Remove Spyware  Best Spy App Removal Tools in 2022 POS The Best POS Systems in 2022  Simplify Payments With POS Tools Reviews  Promo C...</td>\n",
       "      <td>[artificial, intelligence, really, road, terminator, future, humanity, artificial_intelligence, really, road, terminator, future, humanity, artificial_intelligence_really, road, terminator, future, humanity]</td>\n",
       "      <td>[artificial, intelligence, really, road, terminator, future, humanity, artificial_intelligence, really, road, terminator, future, humanity, artificial_intelligence_really, road, terminator, future, humanity]</td>\n",
       "      <td>[artificial, intelligence, really, road, terminator, future, humanity, business, community, best, vpns, usa, unblock, content, us, vpn, best, app, builder, top, nocode, app, builders, reviewed, best, background, check, software, top, reviewed, best, small, business, ideas, ranked, category, remove, spyware, best, spy, app, removal, tools, pos, best, pos, systems, simplify, payments, pos, tools, reviews, promo, codes, lucky, block, crypto, casino, sportsbook, review, best, altcoins, invest, n...</td>\n",
       "      <td>[artificial, intelligence, really, humanity, business, community, good, vpns, vpn, good, app, builder, app, builder, review, good, background, check, software, top, review, good, small, business, idea, rank, category, remove, spyware, good, spy, removal, tool, pos, good, pos, system, simplify, payment, pos, tool, review, promo, code, lucky, block, crypto, casino, sportsbook, review, good, altcoin, invest, new, altcoin, buy, artificial, intelligence, really, future, humanity, note, authorise,...</td>\n",
       "      <td>[terminator, road, humanity, future, really, intelligence, artificial_intelligence_really, artificial_intelligence, artificial]</td>\n",
       "      <td>[ai, human, agent, safety, good, constraint, information, technology, design, task]</td>\n",
       "      <td>2</td>\n",
       "    </tr>\n",
       "  </tbody>\n",
       "</table>\n",
       "</div>"
      ],
      "text/plain": [
       "          id        date   \n",
       "8653  116637  2023-04-04  \\\n",
       "\n",
       "                                                                          cleaned title   \n",
       "8653  Is Artificial Intelligence Really the Road to a 'Terminator' Future For Humanity?  \\\n",
       "\n",
       "                                                                                                                                                                                                                                                                                                                                                                                                                                                                                                             cleaned text   \n",
       "8653  Is Artificial Intelligence Really the Road to a Terminator Future For Humanity  Business 2 Community The Best VPNs For The USA In 2022  Unblock Content With a US VPN The Best App Builder in 2022  Top 15 NoCode App Builders Reviewed The Best Background Check Software  Top 12 Reviewed for 2022 The 92 Best Small Business Ideas for 2022  Ranked by Category How to Remove Spyware  Best Spy App Removal Tools in 2022 POS The Best POS Systems in 2022  Simplify Payments With POS Tools Reviews  Promo C...  \\\n",
       "\n",
       "                                                                                                                                                                                                         title_tokens   \n",
       "8653  [artificial, intelligence, really, road, terminator, future, humanity, artificial_intelligence, really, road, terminator, future, humanity, artificial_intelligence_really, road, terminator, future, humanity]  \\\n",
       "\n",
       "                                                                                                                                                                                                     title_lemmatized   \n",
       "8653  [artificial, intelligence, really, road, terminator, future, humanity, artificial_intelligence, really, road, terminator, future, humanity, artificial_intelligence_really, road, terminator, future, humanity]  \\\n",
       "\n",
       "                                                                                                                                                                                                                                                                                                                                                                                                                                                                                                              text_tokens   \n",
       "8653  [artificial, intelligence, really, road, terminator, future, humanity, business, community, best, vpns, usa, unblock, content, us, vpn, best, app, builder, top, nocode, app, builders, reviewed, best, background, check, software, top, reviewed, best, small, business, ideas, ranked, category, remove, spyware, best, spy, app, removal, tools, pos, best, pos, systems, simplify, payments, pos, tools, reviews, promo, codes, lucky, block, crypto, casino, sportsbook, review, best, altcoins, invest, n...  \\\n",
       "\n",
       "                                                                                                                                                                                                                                                                                                                                                                                                                                                                                                          text_lemmatized   \n",
       "8653  [artificial, intelligence, really, humanity, business, community, good, vpns, vpn, good, app, builder, app, builder, review, good, background, check, software, top, review, good, small, business, idea, rank, category, remove, spyware, good, spy, removal, tool, pos, good, pos, system, simplify, payment, pos, tool, review, promo, code, lucky, block, crypto, casino, sportsbook, review, good, altcoin, invest, new, altcoin, buy, artificial, intelligence, really, future, humanity, note, authorise,...  \\\n",
       "\n",
       "                                                                                                                       title_keywords   \n",
       "8653  [terminator, road, humanity, future, really, intelligence, artificial_intelligence_really, artificial_intelligence, artificial]  \\\n",
       "\n",
       "                                                                            text_keywords   \n",
       "8653  [ai, human, agent, safety, good, constraint, information, technology, design, task]  \\\n",
       "\n",
       "      sentiment  \n",
       "8653          2  "
      ]
     },
     "execution_count": 13,
     "metadata": {},
     "output_type": "execute_result"
    }
   ],
   "source": [
    "# print a sample\n",
    "df_news_negative.sample(1)"
   ]
  },
  {
   "cell_type": "markdown",
   "metadata": {},
   "source": [
    "## Topic Modeling - Zero-shot (NLI) modeling\n",
    "\n",
    "Using candidate labels from LDA model with n=18 topics"
   ]
  },
  {
   "cell_type": "markdown",
   "metadata": {},
   "source": [
    "#### Check for GPU presence"
   ]
  },
  {
   "cell_type": "code",
   "execution_count": 14,
   "metadata": {
    "tags": []
   },
   "outputs": [
    {
     "data": {
      "text/plain": [
       "[PhysicalDevice(name='/physical_device:CPU:0', device_type='CPU'),\n",
       " PhysicalDevice(name='/physical_device:GPU:0', device_type='GPU')]"
      ]
     },
     "execution_count": 14,
     "metadata": {},
     "output_type": "execute_result"
    }
   ],
   "source": [
    "#Verify we got CPU + GPU or only CPU\n",
    "tf.config.list_physical_devices()"
   ]
  },
  {
   "cell_type": "code",
   "execution_count": 15,
   "metadata": {
    "tags": []
   },
   "outputs": [
    {
     "name": "stdout",
     "output_type": "stream",
     "text": [
      "Tue May 16 23:52:28 2023       \n",
      "+-----------------------------------------------------------------------------+\n",
      "| NVIDIA-SMI 470.57.02    Driver Version: 470.57.02    CUDA Version: 11.4     |\n",
      "|-------------------------------+----------------------+----------------------+\n",
      "| GPU  Name        Persistence-M| Bus-Id        Disp.A | Volatile Uncorr. ECC |\n",
      "| Fan  Temp  Perf  Pwr:Usage/Cap|         Memory-Usage | GPU-Util  Compute M. |\n",
      "|                               |                      |               MIG M. |\n",
      "|===============================+======================+======================|\n",
      "|   0  Tesla T4            Off  | 00000000:00:1E.0 Off |                    0 |\n",
      "| N/A   28C    P8     9W /  70W |      3MiB / 15109MiB |      0%      Default |\n",
      "|                               |                      |                  N/A |\n",
      "+-------------------------------+----------------------+----------------------+\n",
      "                                                                               \n",
      "+-----------------------------------------------------------------------------+\n",
      "| Processes:                                                                  |\n",
      "|  GPU   GI   CI        PID   Type   Process name                  GPU Memory |\n",
      "|        ID   ID                                                   Usage      |\n",
      "|=============================================================================|\n",
      "|  No running processes found                                                 |\n",
      "+-----------------------------------------------------------------------------+\n"
     ]
    }
   ],
   "source": [
    "!nvidia-smi"
   ]
  },
  {
   "cell_type": "code",
   "execution_count": 16,
   "metadata": {
    "tags": []
   },
   "outputs": [
    {
     "data": {
      "text/plain": [
       "'2.11.1'"
      ]
     },
     "execution_count": 16,
     "metadata": {},
     "output_type": "execute_result"
    }
   ],
   "source": [
    "tf.__version__"
   ]
  },
  {
   "cell_type": "code",
   "execution_count": 17,
   "metadata": {
    "tags": []
   },
   "outputs": [
    {
     "name": "stdout",
     "output_type": "stream",
     "text": [
      "Requirement already satisfied: torch in /home/studio-lab-user/.conda/envs/default/lib/python3.9/site-packages (2.0.1)\n",
      "Requirement already satisfied: nvidia-cublas-cu11==11.10.3.66 in /home/studio-lab-user/.conda/envs/default/lib/python3.9/site-packages (from torch) (11.10.3.66)\n",
      "Requirement already satisfied: nvidia-cusparse-cu11==11.7.4.91 in /home/studio-lab-user/.conda/envs/default/lib/python3.9/site-packages (from torch) (11.7.4.91)\n",
      "Requirement already satisfied: nvidia-cuda-cupti-cu11==11.7.101 in /home/studio-lab-user/.conda/envs/default/lib/python3.9/site-packages (from torch) (11.7.101)\n",
      "Requirement already satisfied: nvidia-nvtx-cu11==11.7.91 in /home/studio-lab-user/.conda/envs/default/lib/python3.9/site-packages (from torch) (11.7.91)\n",
      "Requirement already satisfied: nvidia-curand-cu11==10.2.10.91 in /home/studio-lab-user/.conda/envs/default/lib/python3.9/site-packages (from torch) (10.2.10.91)\n",
      "Requirement already satisfied: nvidia-nccl-cu11==2.14.3 in /home/studio-lab-user/.conda/envs/default/lib/python3.9/site-packages (from torch) (2.14.3)\n",
      "Requirement already satisfied: nvidia-cuda-nvrtc-cu11==11.7.99 in /home/studio-lab-user/.conda/envs/default/lib/python3.9/site-packages (from torch) (11.7.99)\n",
      "Requirement already satisfied: nvidia-cudnn-cu11==8.5.0.96 in /home/studio-lab-user/.conda/envs/default/lib/python3.9/site-packages (from torch) (8.5.0.96)\n",
      "Requirement already satisfied: nvidia-cufft-cu11==10.9.0.58 in /home/studio-lab-user/.conda/envs/default/lib/python3.9/site-packages (from torch) (10.9.0.58)\n",
      "Requirement already satisfied: nvidia-cusolver-cu11==11.4.0.1 in /home/studio-lab-user/.conda/envs/default/lib/python3.9/site-packages (from torch) (11.4.0.1)\n",
      "Requirement already satisfied: networkx in /home/studio-lab-user/.conda/envs/default/lib/python3.9/site-packages (from torch) (3.1)\n",
      "Requirement already satisfied: jinja2 in /home/studio-lab-user/.conda/envs/default/lib/python3.9/site-packages (from torch) (3.1.2)\n",
      "Requirement already satisfied: typing-extensions in /home/studio-lab-user/.conda/envs/default/lib/python3.9/site-packages (from torch) (4.5.0)\n",
      "Requirement already satisfied: nvidia-cuda-runtime-cu11==11.7.99 in /home/studio-lab-user/.conda/envs/default/lib/python3.9/site-packages (from torch) (11.7.99)\n",
      "Requirement already satisfied: filelock in /home/studio-lab-user/.conda/envs/default/lib/python3.9/site-packages (from torch) (3.12.0)\n",
      "Requirement already satisfied: sympy in /home/studio-lab-user/.conda/envs/default/lib/python3.9/site-packages (from torch) (1.12)\n",
      "Requirement already satisfied: triton==2.0.0 in /home/studio-lab-user/.conda/envs/default/lib/python3.9/site-packages (from torch) (2.0.0)\n",
      "Requirement already satisfied: wheel in /home/studio-lab-user/.conda/envs/default/lib/python3.9/site-packages (from nvidia-cublas-cu11==11.10.3.66->torch) (0.40.0)\n",
      "Requirement already satisfied: setuptools in /home/studio-lab-user/.conda/envs/default/lib/python3.9/site-packages (from nvidia-cublas-cu11==11.10.3.66->torch) (67.6.1)\n",
      "Requirement already satisfied: cmake in /home/studio-lab-user/.conda/envs/default/lib/python3.9/site-packages (from triton==2.0.0->torch) (3.26.3)\n",
      "Requirement already satisfied: lit in /home/studio-lab-user/.conda/envs/default/lib/python3.9/site-packages (from triton==2.0.0->torch) (16.0.3)\n",
      "Requirement already satisfied: MarkupSafe>=2.0 in /home/studio-lab-user/.conda/envs/default/lib/python3.9/site-packages (from jinja2->torch) (2.1.2)\n",
      "Requirement already satisfied: mpmath>=0.19 in /home/studio-lab-user/.conda/envs/default/lib/python3.9/site-packages (from sympy->torch) (1.3.0)\n"
     ]
    }
   ],
   "source": [
    "!pip install torch --upgrade"
   ]
  },
  {
   "cell_type": "code",
   "execution_count": 18,
   "metadata": {
    "tags": []
   },
   "outputs": [
    {
     "name": "stdout",
     "output_type": "stream",
     "text": [
      "Requirement already satisfied: ktrain in /home/studio-lab-user/.conda/envs/default/lib/python3.9/site-packages (0.37.0)\n",
      "Requirement already satisfied: scikit-learn in /home/studio-lab-user/.conda/envs/default/lib/python3.9/site-packages (from ktrain) (1.2.2)\n",
      "Requirement already satisfied: pandas>=1.0.1 in /home/studio-lab-user/.conda/envs/default/lib/python3.9/site-packages (from ktrain) (2.0.1)\n",
      "Requirement already satisfied: cchardet in /home/studio-lab-user/.conda/envs/default/lib/python3.9/site-packages (from ktrain) (2.1.7)\n",
      "Requirement already satisfied: fastprogress>=0.1.21 in /home/studio-lab-user/.conda/envs/default/lib/python3.9/site-packages (from ktrain) (1.0.3)\n",
      "Requirement already satisfied: joblib in /home/studio-lab-user/.conda/envs/default/lib/python3.9/site-packages (from ktrain) (1.2.0)\n",
      "Requirement already satisfied: requests in /home/studio-lab-user/.conda/envs/default/lib/python3.9/site-packages (from ktrain) (2.30.0)\n",
      "Requirement already satisfied: tika in /home/studio-lab-user/.conda/envs/default/lib/python3.9/site-packages (from ktrain) (2.6.0)\n",
      "Requirement already satisfied: whoosh in /home/studio-lab-user/.conda/envs/default/lib/python3.9/site-packages (from ktrain) (2.7.4)\n",
      "Requirement already satisfied: keras-bert>=0.86.0 in /home/studio-lab-user/.conda/envs/default/lib/python3.9/site-packages (from ktrain) (0.89.0)\n",
      "Requirement already satisfied: langdetect in /home/studio-lab-user/.conda/envs/default/lib/python3.9/site-packages (from ktrain) (1.0.9)\n",
      "Requirement already satisfied: chardet in /home/studio-lab-user/.conda/envs/default/lib/python3.9/site-packages (from ktrain) (5.1.0)\n",
      "Requirement already satisfied: matplotlib>=3.0.0 in /home/studio-lab-user/.conda/envs/default/lib/python3.9/site-packages (from ktrain) (3.7.1)\n",
      "Requirement already satisfied: packaging in /home/studio-lab-user/.conda/envs/default/lib/python3.9/site-packages (from ktrain) (23.0)\n",
      "Requirement already satisfied: sentencepiece in /home/studio-lab-user/.conda/envs/default/lib/python3.9/site-packages (from ktrain) (0.1.99)\n",
      "Requirement already satisfied: syntok>1.3.3 in /home/studio-lab-user/.conda/envs/default/lib/python3.9/site-packages (from ktrain) (1.4.4)\n",
      "Requirement already satisfied: jieba in /home/studio-lab-user/.conda/envs/default/lib/python3.9/site-packages (from ktrain) (0.42.1)\n",
      "Requirement already satisfied: transformers>=4.17.0 in /home/studio-lab-user/.conda/envs/default/lib/python3.9/site-packages (from ktrain) (4.29.2)\n",
      "Requirement already satisfied: numpy in /home/studio-lab-user/.conda/envs/default/lib/python3.9/site-packages (from keras-bert>=0.86.0->ktrain) (1.24.3)\n",
      "Requirement already satisfied: keras-transformer==0.40.0 in /home/studio-lab-user/.conda/envs/default/lib/python3.9/site-packages (from keras-bert>=0.86.0->ktrain) (0.40.0)\n",
      "Requirement already satisfied: keras-layer-normalization==0.16.0 in /home/studio-lab-user/.conda/envs/default/lib/python3.9/site-packages (from keras-transformer==0.40.0->keras-bert>=0.86.0->ktrain) (0.16.0)\n",
      "Requirement already satisfied: keras-multi-head==0.29.0 in /home/studio-lab-user/.conda/envs/default/lib/python3.9/site-packages (from keras-transformer==0.40.0->keras-bert>=0.86.0->ktrain) (0.29.0)\n",
      "Requirement already satisfied: keras-embed-sim==0.10.0 in /home/studio-lab-user/.conda/envs/default/lib/python3.9/site-packages (from keras-transformer==0.40.0->keras-bert>=0.86.0->ktrain) (0.10.0)\n",
      "Requirement already satisfied: keras-position-wise-feed-forward==0.8.0 in /home/studio-lab-user/.conda/envs/default/lib/python3.9/site-packages (from keras-transformer==0.40.0->keras-bert>=0.86.0->ktrain) (0.8.0)\n",
      "Requirement already satisfied: keras-pos-embd==0.13.0 in /home/studio-lab-user/.conda/envs/default/lib/python3.9/site-packages (from keras-transformer==0.40.0->keras-bert>=0.86.0->ktrain) (0.13.0)\n",
      "Requirement already satisfied: keras-self-attention==0.51.0 in /home/studio-lab-user/.conda/envs/default/lib/python3.9/site-packages (from keras-multi-head==0.29.0->keras-transformer==0.40.0->keras-bert>=0.86.0->ktrain) (0.51.0)\n",
      "Requirement already satisfied: cycler>=0.10 in /home/studio-lab-user/.conda/envs/default/lib/python3.9/site-packages (from matplotlib>=3.0.0->ktrain) (0.11.0)\n",
      "Requirement already satisfied: contourpy>=1.0.1 in /home/studio-lab-user/.conda/envs/default/lib/python3.9/site-packages (from matplotlib>=3.0.0->ktrain) (1.0.7)\n",
      "Requirement already satisfied: python-dateutil>=2.7 in /home/studio-lab-user/.conda/envs/default/lib/python3.9/site-packages (from matplotlib>=3.0.0->ktrain) (2.8.2)\n",
      "Requirement already satisfied: fonttools>=4.22.0 in /home/studio-lab-user/.conda/envs/default/lib/python3.9/site-packages (from matplotlib>=3.0.0->ktrain) (4.39.4)\n",
      "Requirement already satisfied: pillow>=6.2.0 in /home/studio-lab-user/.conda/envs/default/lib/python3.9/site-packages (from matplotlib>=3.0.0->ktrain) (9.5.0)\n",
      "Requirement already satisfied: pyparsing>=2.3.1 in /home/studio-lab-user/.conda/envs/default/lib/python3.9/site-packages (from matplotlib>=3.0.0->ktrain) (3.0.9)\n",
      "Requirement already satisfied: importlib-resources>=3.2.0 in /home/studio-lab-user/.conda/envs/default/lib/python3.9/site-packages (from matplotlib>=3.0.0->ktrain) (5.12.0)\n",
      "Requirement already satisfied: kiwisolver>=1.0.1 in /home/studio-lab-user/.conda/envs/default/lib/python3.9/site-packages (from matplotlib>=3.0.0->ktrain) (1.4.4)\n",
      "Requirement already satisfied: zipp>=3.1.0 in /home/studio-lab-user/.conda/envs/default/lib/python3.9/site-packages (from importlib-resources>=3.2.0->matplotlib>=3.0.0->ktrain) (3.15.0)\n",
      "Requirement already satisfied: pytz>=2020.1 in /home/studio-lab-user/.conda/envs/default/lib/python3.9/site-packages (from pandas>=1.0.1->ktrain) (2023.3)\n",
      "Requirement already satisfied: tzdata>=2022.1 in /home/studio-lab-user/.conda/envs/default/lib/python3.9/site-packages (from pandas>=1.0.1->ktrain) (2023.3)\n",
      "Requirement already satisfied: six>=1.5 in /home/studio-lab-user/.conda/envs/default/lib/python3.9/site-packages (from python-dateutil>=2.7->matplotlib>=3.0.0->ktrain) (1.16.0)\n",
      "Requirement already satisfied: regex>2016 in /home/studio-lab-user/.conda/envs/default/lib/python3.9/site-packages (from syntok>1.3.3->ktrain) (2023.5.5)\n",
      "Requirement already satisfied: tokenizers!=0.11.3,<0.14,>=0.11.1 in /home/studio-lab-user/.conda/envs/default/lib/python3.9/site-packages (from transformers>=4.17.0->ktrain) (0.13.3)\n",
      "Requirement already satisfied: huggingface-hub<1.0,>=0.14.1 in /home/studio-lab-user/.conda/envs/default/lib/python3.9/site-packages (from transformers>=4.17.0->ktrain) (0.14.1)\n",
      "Requirement already satisfied: pyyaml>=5.1 in /home/studio-lab-user/.conda/envs/default/lib/python3.9/site-packages (from transformers>=4.17.0->ktrain) (6.0)\n",
      "Requirement already satisfied: tqdm>=4.27 in /home/studio-lab-user/.conda/envs/default/lib/python3.9/site-packages (from transformers>=4.17.0->ktrain) (4.65.0)\n",
      "Requirement already satisfied: filelock in /home/studio-lab-user/.conda/envs/default/lib/python3.9/site-packages (from transformers>=4.17.0->ktrain) (3.12.0)\n",
      "Requirement already satisfied: fsspec in /home/studio-lab-user/.conda/envs/default/lib/python3.9/site-packages (from huggingface-hub<1.0,>=0.14.1->transformers>=4.17.0->ktrain) (2023.5.0)\n",
      "Requirement already satisfied: typing-extensions>=3.7.4.3 in /home/studio-lab-user/.conda/envs/default/lib/python3.9/site-packages (from huggingface-hub<1.0,>=0.14.1->transformers>=4.17.0->ktrain) (4.5.0)\n",
      "Requirement already satisfied: idna<4,>=2.5 in /home/studio-lab-user/.conda/envs/default/lib/python3.9/site-packages (from requests->ktrain) (3.4)\n",
      "Requirement already satisfied: certifi>=2017.4.17 in /home/studio-lab-user/.conda/envs/default/lib/python3.9/site-packages (from requests->ktrain) (2023.5.7)\n",
      "Requirement already satisfied: charset-normalizer<4,>=2 in /home/studio-lab-user/.conda/envs/default/lib/python3.9/site-packages (from requests->ktrain) (3.1.0)\n",
      "Requirement already satisfied: urllib3<3,>=1.21.1 in /home/studio-lab-user/.conda/envs/default/lib/python3.9/site-packages (from requests->ktrain) (1.26.15)\n",
      "Requirement already satisfied: threadpoolctl>=2.0.0 in /home/studio-lab-user/.conda/envs/default/lib/python3.9/site-packages (from scikit-learn->ktrain) (3.1.0)\n",
      "Requirement already satisfied: scipy>=1.3.2 in /home/studio-lab-user/.conda/envs/default/lib/python3.9/site-packages (from scikit-learn->ktrain) (1.10.1)\n",
      "Requirement already satisfied: setuptools in /home/studio-lab-user/.conda/envs/default/lib/python3.9/site-packages (from tika->ktrain) (67.6.1)\n"
     ]
    }
   ],
   "source": [
    "!pip install ktrain --upgrade"
   ]
  },
  {
   "cell_type": "code",
   "execution_count": 19,
   "metadata": {
    "tags": []
   },
   "outputs": [
    {
     "name": "stdout",
     "output_type": "stream",
     "text": [
      "Requirement already satisfied: tensorflow in /home/studio-lab-user/.conda/envs/default/lib/python3.9/site-packages (2.11.1)\n",
      "Requirement already satisfied: numpy>=1.20 in /home/studio-lab-user/.conda/envs/default/lib/python3.9/site-packages (from tensorflow) (1.24.3)\n",
      "Requirement already satisfied: setuptools in /home/studio-lab-user/.conda/envs/default/lib/python3.9/site-packages (from tensorflow) (67.6.1)\n",
      "Requirement already satisfied: keras<2.12,>=2.11.0 in /home/studio-lab-user/.conda/envs/default/lib/python3.9/site-packages (from tensorflow) (2.11.0)\n",
      "Requirement already satisfied: typing-extensions>=3.6.6 in /home/studio-lab-user/.conda/envs/default/lib/python3.9/site-packages (from tensorflow) (4.5.0)\n",
      "Requirement already satisfied: h5py>=2.9.0 in /home/studio-lab-user/.conda/envs/default/lib/python3.9/site-packages (from tensorflow) (3.8.0)\n",
      "Requirement already satisfied: opt-einsum>=2.3.2 in /home/studio-lab-user/.conda/envs/default/lib/python3.9/site-packages (from tensorflow) (3.3.0)\n",
      "Requirement already satisfied: tensorflow-io-gcs-filesystem>=0.23.1 in /home/studio-lab-user/.conda/envs/default/lib/python3.9/site-packages (from tensorflow) (0.32.0)\n",
      "Requirement already satisfied: termcolor>=1.1.0 in /home/studio-lab-user/.conda/envs/default/lib/python3.9/site-packages (from tensorflow) (2.3.0)\n",
      "Requirement already satisfied: flatbuffers>=2.0 in /home/studio-lab-user/.conda/envs/default/lib/python3.9/site-packages (from tensorflow) (23.5.9)\n",
      "Requirement already satisfied: grpcio<2.0,>=1.24.3 in /home/studio-lab-user/.conda/envs/default/lib/python3.9/site-packages (from tensorflow) (1.54.2)\n",
      "Requirement already satisfied: gast<=0.4.0,>=0.2.1 in /home/studio-lab-user/.conda/envs/default/lib/python3.9/site-packages (from tensorflow) (0.4.0)\n",
      "Requirement already satisfied: absl-py>=1.0.0 in /home/studio-lab-user/.conda/envs/default/lib/python3.9/site-packages (from tensorflow) (1.4.0)\n",
      "Requirement already satisfied: tensorboard<2.12,>=2.11 in /home/studio-lab-user/.conda/envs/default/lib/python3.9/site-packages (from tensorflow) (2.11.2)\n",
      "Requirement already satisfied: google-pasta>=0.1.1 in /home/studio-lab-user/.conda/envs/default/lib/python3.9/site-packages (from tensorflow) (0.2.0)\n",
      "Requirement already satisfied: packaging in /home/studio-lab-user/.conda/envs/default/lib/python3.9/site-packages (from tensorflow) (23.0)\n",
      "Requirement already satisfied: wrapt>=1.11.0 in /home/studio-lab-user/.conda/envs/default/lib/python3.9/site-packages (from tensorflow) (1.15.0)\n",
      "Requirement already satisfied: six>=1.12.0 in /home/studio-lab-user/.conda/envs/default/lib/python3.9/site-packages (from tensorflow) (1.16.0)\n",
      "Requirement already satisfied: tensorflow-estimator<2.12,>=2.11.0 in /home/studio-lab-user/.conda/envs/default/lib/python3.9/site-packages (from tensorflow) (2.11.0)\n",
      "Requirement already satisfied: astunparse>=1.6.0 in /home/studio-lab-user/.conda/envs/default/lib/python3.9/site-packages (from tensorflow) (1.6.3)\n",
      "Requirement already satisfied: libclang>=13.0.0 in /home/studio-lab-user/.conda/envs/default/lib/python3.9/site-packages (from tensorflow) (16.0.0)\n",
      "Requirement already satisfied: protobuf<3.20,>=3.9.2 in /home/studio-lab-user/.conda/envs/default/lib/python3.9/site-packages (from tensorflow) (3.19.6)\n",
      "Requirement already satisfied: wheel<1.0,>=0.23.0 in /home/studio-lab-user/.conda/envs/default/lib/python3.9/site-packages (from astunparse>=1.6.0->tensorflow) (0.40.0)\n",
      "Requirement already satisfied: werkzeug>=1.0.1 in /home/studio-lab-user/.conda/envs/default/lib/python3.9/site-packages (from tensorboard<2.12,>=2.11->tensorflow) (2.3.4)\n",
      "Requirement already satisfied: tensorboard-plugin-wit>=1.6.0 in /home/studio-lab-user/.conda/envs/default/lib/python3.9/site-packages (from tensorboard<2.12,>=2.11->tensorflow) (1.8.1)\n",
      "Requirement already satisfied: google-auth<3,>=1.6.3 in /home/studio-lab-user/.conda/envs/default/lib/python3.9/site-packages (from tensorboard<2.12,>=2.11->tensorflow) (2.18.0)\n",
      "Requirement already satisfied: requests<3,>=2.21.0 in /home/studio-lab-user/.conda/envs/default/lib/python3.9/site-packages (from tensorboard<2.12,>=2.11->tensorflow) (2.30.0)\n",
      "Requirement already satisfied: google-auth-oauthlib<0.5,>=0.4.1 in /home/studio-lab-user/.conda/envs/default/lib/python3.9/site-packages (from tensorboard<2.12,>=2.11->tensorflow) (0.4.6)\n",
      "Requirement already satisfied: markdown>=2.6.8 in /home/studio-lab-user/.conda/envs/default/lib/python3.9/site-packages (from tensorboard<2.12,>=2.11->tensorflow) (3.4.3)\n",
      "Requirement already satisfied: tensorboard-data-server<0.7.0,>=0.6.0 in /home/studio-lab-user/.conda/envs/default/lib/python3.9/site-packages (from tensorboard<2.12,>=2.11->tensorflow) (0.6.1)\n",
      "Requirement already satisfied: rsa<5,>=3.1.4 in /home/studio-lab-user/.conda/envs/default/lib/python3.9/site-packages (from google-auth<3,>=1.6.3->tensorboard<2.12,>=2.11->tensorflow) (4.9)\n",
      "Requirement already satisfied: cachetools<6.0,>=2.0.0 in /home/studio-lab-user/.conda/envs/default/lib/python3.9/site-packages (from google-auth<3,>=1.6.3->tensorboard<2.12,>=2.11->tensorflow) (5.3.0)\n",
      "Requirement already satisfied: pyasn1-modules>=0.2.1 in /home/studio-lab-user/.conda/envs/default/lib/python3.9/site-packages (from google-auth<3,>=1.6.3->tensorboard<2.12,>=2.11->tensorflow) (0.3.0)\n",
      "Requirement already satisfied: urllib3<2.0 in /home/studio-lab-user/.conda/envs/default/lib/python3.9/site-packages (from google-auth<3,>=1.6.3->tensorboard<2.12,>=2.11->tensorflow) (1.26.15)\n",
      "Requirement already satisfied: requests-oauthlib>=0.7.0 in /home/studio-lab-user/.conda/envs/default/lib/python3.9/site-packages (from google-auth-oauthlib<0.5,>=0.4.1->tensorboard<2.12,>=2.11->tensorflow) (1.3.1)\n",
      "Requirement already satisfied: importlib-metadata>=4.4 in /home/studio-lab-user/.conda/envs/default/lib/python3.9/site-packages (from markdown>=2.6.8->tensorboard<2.12,>=2.11->tensorflow) (6.1.0)\n",
      "Requirement already satisfied: zipp>=0.5 in /home/studio-lab-user/.conda/envs/default/lib/python3.9/site-packages (from importlib-metadata>=4.4->markdown>=2.6.8->tensorboard<2.12,>=2.11->tensorflow) (3.15.0)\n",
      "Requirement already satisfied: pyasn1<0.6.0,>=0.4.6 in /home/studio-lab-user/.conda/envs/default/lib/python3.9/site-packages (from pyasn1-modules>=0.2.1->google-auth<3,>=1.6.3->tensorboard<2.12,>=2.11->tensorflow) (0.5.0)\n",
      "Requirement already satisfied: idna<4,>=2.5 in /home/studio-lab-user/.conda/envs/default/lib/python3.9/site-packages (from requests<3,>=2.21.0->tensorboard<2.12,>=2.11->tensorflow) (3.4)\n",
      "Requirement already satisfied: charset-normalizer<4,>=2 in /home/studio-lab-user/.conda/envs/default/lib/python3.9/site-packages (from requests<3,>=2.21.0->tensorboard<2.12,>=2.11->tensorflow) (3.1.0)\n",
      "Requirement already satisfied: certifi>=2017.4.17 in /home/studio-lab-user/.conda/envs/default/lib/python3.9/site-packages (from requests<3,>=2.21.0->tensorboard<2.12,>=2.11->tensorflow) (2023.5.7)\n",
      "Requirement already satisfied: oauthlib>=3.0.0 in /home/studio-lab-user/.conda/envs/default/lib/python3.9/site-packages (from requests-oauthlib>=0.7.0->google-auth-oauthlib<0.5,>=0.4.1->tensorboard<2.12,>=2.11->tensorflow) (3.2.2)\n",
      "Requirement already satisfied: MarkupSafe>=2.1.1 in /home/studio-lab-user/.conda/envs/default/lib/python3.9/site-packages (from werkzeug>=1.0.1->tensorboard<2.12,>=2.11->tensorflow) (2.1.2)\n"
     ]
    }
   ],
   "source": [
    "!python3 -m pip install tensorflow"
   ]
  },
  {
   "cell_type": "code",
   "execution_count": 20,
   "metadata": {
    "tags": []
   },
   "outputs": [],
   "source": [
    "import ktrain\n",
    "import torch"
   ]
  },
  {
   "cell_type": "markdown",
   "metadata": {},
   "source": [
    "### Modelling"
   ]
  },
  {
   "cell_type": "code",
   "execution_count": 21,
   "metadata": {},
   "outputs": [],
   "source": [
    "zsl = ktrain.text.ZeroShotClassifier()"
   ]
  },
  {
   "cell_type": "code",
   "execution_count": 22,
   "metadata": {},
   "outputs": [
    {
     "data": {
      "text/plain": [
       "18"
      ]
     },
     "execution_count": 22,
     "metadata": {},
     "output_type": "execute_result"
    }
   ],
   "source": [
    "candidate_labels = ['digital transaction', 'healthcare', 'news platform', 'data analytics', 'insurance', 'investment', 'global market', 'autonomous car', 'customer experience', 'data science', 'cryptocurrency', 'camera', 'robot', 'chatgpt', 'image', 'voice', 'patient care', 'research']\n",
    "len(candidate_labels)"
   ]
  },
  {
   "cell_type": "markdown",
   "metadata": {},
   "source": [
    "## Positive Sentiment Articles"
   ]
  },
  {
   "cell_type": "code",
   "execution_count": 31,
   "metadata": {
    "tags": []
   },
   "outputs": [],
   "source": [
    "# Put reviews in a list\n",
    "seq_pos = df_news_positive['cleaned text'].to_list()\n",
    "\n",
    "# Set the hyppothesis template\n",
    "hypothesis_template = \"The topic of this news article is {}.\""
   ]
  },
  {
   "cell_type": "code",
   "execution_count": null,
   "metadata": {
    "tags": []
   },
   "outputs": [],
   "source": [
    "%%time\n",
    "\n",
    "topic_pos = zsl.predict(seq_pos, \n",
    "                        labels=candidate_labels, \n",
    "                        include_labels=False, \n",
    "                        nli_template=hypothesis_template, \n",
    "                        batch_size=18)"
   ]
  },
  {
   "cell_type": "code",
   "execution_count": 33,
   "metadata": {
    "tags": []
   },
   "outputs": [],
   "source": [
    "pos_pred_df = pd.DataFrame(topic_pos, columns=candidate_labels) \n",
    "pos_pred_df.head()\n",
    "\n",
    "# SAVE THE RESULTS\n",
    "pos_pred_df.to_json('result/pos_pred.json', orient='records', lines=True)"
   ]
  },
  {
   "cell_type": "code",
   "execution_count": 34,
   "metadata": {
    "tags": []
   },
   "outputs": [
    {
     "data": {
      "text/html": [
       "<div>\n",
       "<style scoped>\n",
       "    .dataframe tbody tr th:only-of-type {\n",
       "        vertical-align: middle;\n",
       "    }\n",
       "\n",
       "    .dataframe tbody tr th {\n",
       "        vertical-align: top;\n",
       "    }\n",
       "\n",
       "    .dataframe thead th {\n",
       "        text-align: right;\n",
       "    }\n",
       "</style>\n",
       "<table border=\"1\" class=\"dataframe\">\n",
       "  <thead>\n",
       "    <tr style=\"text-align: right;\">\n",
       "      <th></th>\n",
       "      <th>id</th>\n",
       "      <th>cleaned text</th>\n",
       "      <th>sentiment</th>\n",
       "      <th>digital transaction</th>\n",
       "      <th>healthcare</th>\n",
       "      <th>news platform</th>\n",
       "      <th>data analytics</th>\n",
       "      <th>insurance</th>\n",
       "      <th>investment</th>\n",
       "      <th>global market</th>\n",
       "      <th>autonomous car</th>\n",
       "      <th>customer experience</th>\n",
       "      <th>data science</th>\n",
       "      <th>cryptocurrency</th>\n",
       "      <th>camera</th>\n",
       "      <th>robot</th>\n",
       "      <th>chatgpt</th>\n",
       "      <th>image</th>\n",
       "      <th>voice</th>\n",
       "      <th>patient care</th>\n",
       "      <th>research</th>\n",
       "    </tr>\n",
       "  </thead>\n",
       "  <tbody>\n",
       "    <tr>\n",
       "      <th>0</th>\n",
       "      <td>1</td>\n",
       "      <td>Children With Autism Saw Their Learning and Social Skills Boosted After Playing With This AI Robot admin  Latest posts by admin see all  Mansplaining in conferences: How can we get him to forestall  February 27, 2020 Coronavirus Could Explode in the U.S. Overnight Like it Did in Italy  February 27, 2020 Levi Strauss marks the next phase in corporate paid leave policies  February 27, 2020 Scientists who designed an artificially clever robotic that helped youngsters with autism spice up their ...</td>\n",
       "      <td>5</td>\n",
       "      <td>0.126413</td>\n",
       "      <td>0.573291</td>\n",
       "      <td>0.747695</td>\n",
       "      <td>0.287535</td>\n",
       "      <td>0.100931</td>\n",
       "      <td>0.226929</td>\n",
       "      <td>0.178021</td>\n",
       "      <td>0.066381</td>\n",
       "      <td>0.378634</td>\n",
       "      <td>0.172105</td>\n",
       "      <td>0.040583</td>\n",
       "      <td>0.436770</td>\n",
       "      <td>0.932445</td>\n",
       "      <td>0.437214</td>\n",
       "      <td>0.537201</td>\n",
       "      <td>0.390813</td>\n",
       "      <td>0.396779</td>\n",
       "      <td>0.911051</td>\n",
       "    </tr>\n",
       "    <tr>\n",
       "      <th>1</th>\n",
       "      <td>2</td>\n",
       "      <td>Forget ML, AI and Industry 4.0  obsolescence should be your focus The world entered a new era of accelerated transformation in the last eighteen months that will continue to evolve and press forward for years to come. Most businesses are playing catchup trying to make sense of a new timeline where the ten years that had been set aside for careful planning and implementation of what was coming up next no longer exists. The next is happening now and, regardless of your industry or seniority, t...</td>\n",
       "      <td>4</td>\n",
       "      <td>0.303175</td>\n",
       "      <td>0.008955</td>\n",
       "      <td>0.644975</td>\n",
       "      <td>0.231231</td>\n",
       "      <td>0.028623</td>\n",
       "      <td>0.726941</td>\n",
       "      <td>0.749578</td>\n",
       "      <td>0.043793</td>\n",
       "      <td>0.465443</td>\n",
       "      <td>0.213941</td>\n",
       "      <td>0.041343</td>\n",
       "      <td>0.096056</td>\n",
       "      <td>0.095282</td>\n",
       "      <td>0.413589</td>\n",
       "      <td>0.383721</td>\n",
       "      <td>0.159051</td>\n",
       "      <td>0.014750</td>\n",
       "      <td>0.383123</td>\n",
       "    </tr>\n",
       "    <tr>\n",
       "      <th>2</th>\n",
       "      <td>3</td>\n",
       "      <td>Strategy Analytics: 71 of Smartphones Sold Globally in 2021 will be AI Powered BOSTONBUSINESS WIREStrategy Analytics in a newly published report, Smartphones: Global Artificial Intelligence Technologies Forecast to 2025, finds that ondevice Artificial Intelligence AI is being rapidly implemented by smartphone vendors. AI is used in various functions inside smartphones such as intelligent power optimization, imaging, virtual assistants, and to enhance device performance. The report highlights...</td>\n",
       "      <td>5</td>\n",
       "      <td>0.254997</td>\n",
       "      <td>0.047431</td>\n",
       "      <td>0.805587</td>\n",
       "      <td>0.695647</td>\n",
       "      <td>0.047576</td>\n",
       "      <td>0.520027</td>\n",
       "      <td>0.957824</td>\n",
       "      <td>0.018728</td>\n",
       "      <td>0.896138</td>\n",
       "      <td>0.669529</td>\n",
       "      <td>0.031697</td>\n",
       "      <td>0.037900</td>\n",
       "      <td>0.105813</td>\n",
       "      <td>0.628416</td>\n",
       "      <td>0.671183</td>\n",
       "      <td>0.283140</td>\n",
       "      <td>0.124894</td>\n",
       "      <td>0.930628</td>\n",
       "    </tr>\n",
       "    <tr>\n",
       "      <th>3</th>\n",
       "      <td>9</td>\n",
       "      <td>Artificial Intelligence In Behavioral And Mental Health Care Market to Witness Astonishing Growth by 2026 Focusing on Leading Players  AdvancedMD , Cerner , Core Solutions , Credible Behavioral Health  June 13, 2020 emailprotected Artificial Intelligence In Behavioral And Mental Health Care Market  Artificial Intelligence in Behavioral and Mental Health Care Market research report is the new statistical data source added by Healthcare Intelligence Markets. It uses several approaches for anal...</td>\n",
       "      <td>5</td>\n",
       "      <td>0.170653</td>\n",
       "      <td>0.771679</td>\n",
       "      <td>0.380666</td>\n",
       "      <td>0.757577</td>\n",
       "      <td>0.101454</td>\n",
       "      <td>0.265526</td>\n",
       "      <td>0.801290</td>\n",
       "      <td>0.092516</td>\n",
       "      <td>0.340393</td>\n",
       "      <td>0.251144</td>\n",
       "      <td>0.035433</td>\n",
       "      <td>0.052589</td>\n",
       "      <td>0.050366</td>\n",
       "      <td>0.357945</td>\n",
       "      <td>0.306858</td>\n",
       "      <td>0.206618</td>\n",
       "      <td>0.184397</td>\n",
       "      <td>0.952538</td>\n",
       "    </tr>\n",
       "    <tr>\n",
       "      <th>4</th>\n",
       "      <td>10</td>\n",
       "      <td>AI Machine Learning Market 2020 Expected to Reach XX Million by 2024  IBM, BAIDU, SOUNDHOUND, ZEBRA MEDICAL VISION, PRISMA, IRIS AI The Global AI Machine Learning Market report is aimed at highlighting a firsthand documentation of all the best practices in the AI Machine Learning industry that subsequently set the growth course active. These vital market oriented details are highly crucial to overcome cut throat competition and all the growth oriented practices typically embraced by frontlin...</td>\n",
       "      <td>5</td>\n",
       "      <td>0.383716</td>\n",
       "      <td>0.203133</td>\n",
       "      <td>0.605019</td>\n",
       "      <td>0.580184</td>\n",
       "      <td>0.168859</td>\n",
       "      <td>0.771888</td>\n",
       "      <td>0.933147</td>\n",
       "      <td>0.279561</td>\n",
       "      <td>0.621637</td>\n",
       "      <td>0.382832</td>\n",
       "      <td>0.112535</td>\n",
       "      <td>0.172960</td>\n",
       "      <td>0.177300</td>\n",
       "      <td>0.584303</td>\n",
       "      <td>0.402161</td>\n",
       "      <td>0.419516</td>\n",
       "      <td>0.225927</td>\n",
       "      <td>0.948273</td>\n",
       "    </tr>\n",
       "  </tbody>\n",
       "</table>\n",
       "</div>"
      ],
      "text/plain": [
       "   id   \n",
       "0   1  \\\n",
       "1   2   \n",
       "2   3   \n",
       "3   9   \n",
       "4  10   \n",
       "\n",
       "                                                                                                                                                                                                                                                                                                                                                                                                                                                                                                          cleaned text   \n",
       "0  Children With Autism Saw Their Learning and Social Skills Boosted After Playing With This AI Robot admin  Latest posts by admin see all  Mansplaining in conferences: How can we get him to forestall  February 27, 2020 Coronavirus Could Explode in the U.S. Overnight Like it Did in Italy  February 27, 2020 Levi Strauss marks the next phase in corporate paid leave policies  February 27, 2020 Scientists who designed an artificially clever robotic that helped youngsters with autism spice up their ...  \\\n",
       "1  Forget ML, AI and Industry 4.0  obsolescence should be your focus The world entered a new era of accelerated transformation in the last eighteen months that will continue to evolve and press forward for years to come. Most businesses are playing catchup trying to make sense of a new timeline where the ten years that had been set aside for careful planning and implementation of what was coming up next no longer exists. The next is happening now and, regardless of your industry or seniority, t...   \n",
       "2  Strategy Analytics: 71 of Smartphones Sold Globally in 2021 will be AI Powered BOSTONBUSINESS WIREStrategy Analytics in a newly published report, Smartphones: Global Artificial Intelligence Technologies Forecast to 2025, finds that ondevice Artificial Intelligence AI is being rapidly implemented by smartphone vendors. AI is used in various functions inside smartphones such as intelligent power optimization, imaging, virtual assistants, and to enhance device performance. The report highlights...   \n",
       "3  Artificial Intelligence In Behavioral And Mental Health Care Market to Witness Astonishing Growth by 2026 Focusing on Leading Players  AdvancedMD , Cerner , Core Solutions , Credible Behavioral Health  June 13, 2020 emailprotected Artificial Intelligence In Behavioral And Mental Health Care Market  Artificial Intelligence in Behavioral and Mental Health Care Market research report is the new statistical data source added by Healthcare Intelligence Markets. It uses several approaches for anal...   \n",
       "4  AI Machine Learning Market 2020 Expected to Reach XX Million by 2024  IBM, BAIDU, SOUNDHOUND, ZEBRA MEDICAL VISION, PRISMA, IRIS AI The Global AI Machine Learning Market report is aimed at highlighting a firsthand documentation of all the best practices in the AI Machine Learning industry that subsequently set the growth course active. These vital market oriented details are highly crucial to overcome cut throat competition and all the growth oriented practices typically embraced by frontlin...   \n",
       "\n",
       "   sentiment  digital transaction  healthcare  news platform  data analytics   \n",
       "0          5             0.126413    0.573291       0.747695        0.287535  \\\n",
       "1          4             0.303175    0.008955       0.644975        0.231231   \n",
       "2          5             0.254997    0.047431       0.805587        0.695647   \n",
       "3          5             0.170653    0.771679       0.380666        0.757577   \n",
       "4          5             0.383716    0.203133       0.605019        0.580184   \n",
       "\n",
       "   insurance  investment  global market  autonomous car  customer experience   \n",
       "0   0.100931    0.226929       0.178021        0.066381             0.378634  \\\n",
       "1   0.028623    0.726941       0.749578        0.043793             0.465443   \n",
       "2   0.047576    0.520027       0.957824        0.018728             0.896138   \n",
       "3   0.101454    0.265526       0.801290        0.092516             0.340393   \n",
       "4   0.168859    0.771888       0.933147        0.279561             0.621637   \n",
       "\n",
       "   data science  cryptocurrency    camera     robot   chatgpt     image   \n",
       "0      0.172105        0.040583  0.436770  0.932445  0.437214  0.537201  \\\n",
       "1      0.213941        0.041343  0.096056  0.095282  0.413589  0.383721   \n",
       "2      0.669529        0.031697  0.037900  0.105813  0.628416  0.671183   \n",
       "3      0.251144        0.035433  0.052589  0.050366  0.357945  0.306858   \n",
       "4      0.382832        0.112535  0.172960  0.177300  0.584303  0.402161   \n",
       "\n",
       "      voice  patient care  research  \n",
       "0  0.390813      0.396779  0.911051  \n",
       "1  0.159051      0.014750  0.383123  \n",
       "2  0.283140      0.124894  0.930628  \n",
       "3  0.206618      0.184397  0.952538  \n",
       "4  0.419516      0.225927  0.948273  "
      ]
     },
     "execution_count": 34,
     "metadata": {},
     "output_type": "execute_result"
    }
   ],
   "source": [
    "pos_news_topics = df_news_positive.join(pos_pred_df, how='inner')\n",
    "pos_news_topics = pos_news_topics[['id', 'cleaned text', 'sentiment'] + candidate_labels]\n",
    "\n",
    "# SAVE THE RESULTS\n",
    "pos_news_topics.to_json('result/pos_news_topics.json', orient='records', lines=True)\n",
    "\n",
    "# Reset multi-level index\n",
    "pos_news_topics.columns = pos_news_topics.columns.get_level_values(0)\n",
    "\n",
    "# Select the small-ish articles only\n",
    "pos_news_topics.head()"
   ]
  },
  {
   "cell_type": "code",
   "execution_count": null,
   "metadata": {
    "tags": []
   },
   "outputs": [],
   "source": [
    "pos_news_topics.info()"
   ]
  },
  {
   "cell_type": "markdown",
   "metadata": {},
   "source": [
    "## Negetive Sentiment Articles"
   ]
  },
  {
   "cell_type": "code",
   "execution_count": null,
   "metadata": {
    "tags": []
   },
   "outputs": [],
   "source": [
    "# Put reviews in a list\n",
    "seq_neg = df_news_negative['cleaned text'].to_list()\n",
    "\n",
    "# Set the hyppothesis template\n",
    "hypothesis_template = \"The topic of this news article is {}.\""
   ]
  },
  {
   "cell_type": "code",
   "execution_count": null,
   "metadata": {
    "tags": []
   },
   "outputs": [
    {
     "name": "stdout",
     "output_type": "stream",
     "text": [
      "CPU times: user 2min 15s, sys: 1min 22s, total: 3min 38s\n",
      "Wall time: 3min 27s\n"
     ]
    }
   ],
   "source": [
    "%%time\n",
    "\n",
    "topic_neg = zsl.predict(seq_pos, \n",
    "                        labels=candidate_labels, \n",
    "                        include_labels=False, \n",
    "                        nli_template=hypothesis_template, \n",
    "                        batch_size = 18)"
   ]
  },
  {
   "cell_type": "code",
   "execution_count": null,
   "metadata": {
    "tags": []
   },
   "outputs": [],
   "source": [
    "neg_pred_df = pd.DataFrame(topic_neg, columns=candidate_labels)\n",
    "neg_pred_df.head()\n",
    "\n",
    "# SAVE THE RESULTS\n",
    "neg_pred_df.to_json('result/neg_pred.json', orient='records', lines=True)"
   ]
  },
  {
   "cell_type": "code",
   "execution_count": null,
   "metadata": {
    "tags": []
   },
   "outputs": [
    {
     "data": {
      "text/html": [
       "<div>\n",
       "<style scoped>\n",
       "    .dataframe tbody tr th:only-of-type {\n",
       "        vertical-align: middle;\n",
       "    }\n",
       "\n",
       "    .dataframe tbody tr th {\n",
       "        vertical-align: top;\n",
       "    }\n",
       "\n",
       "    .dataframe thead th {\n",
       "        text-align: right;\n",
       "    }\n",
       "</style>\n",
       "<table border=\"1\" class=\"dataframe\">\n",
       "  <thead>\n",
       "    <tr style=\"text-align: right;\">\n",
       "      <th></th>\n",
       "      <th>id</th>\n",
       "      <th>cleaned text</th>\n",
       "      <th>sentiment</th>\n",
       "      <th>digital transaction</th>\n",
       "      <th>healthcare</th>\n",
       "      <th>news platform</th>\n",
       "      <th>data analytics</th>\n",
       "      <th>insurance</th>\n",
       "      <th>investment</th>\n",
       "      <th>global market</th>\n",
       "      <th>autonomous car</th>\n",
       "      <th>customer experience</th>\n",
       "      <th>data science</th>\n",
       "      <th>cryptocurrency</th>\n",
       "      <th>camera</th>\n",
       "      <th>robot</th>\n",
       "      <th>chatgpt</th>\n",
       "      <th>image</th>\n",
       "      <th>voice</th>\n",
       "      <th>patient care</th>\n",
       "      <th>research</th>\n",
       "    </tr>\n",
       "  </thead>\n",
       "  <tbody>\n",
       "    <tr>\n",
       "      <th>0</th>\n",
       "      <td>5</td>\n",
       "      <td>Cr Bard Inc Has Returned 48.9 Since SmarTrend Recommendation BCR  SmarTrend identified an Uptrend for Cr Bard Inc :BCR on December 23rd, 2016 at 222.45.  In approximately 40 months, Cr Bard Inc has returned 48.91 as of todays recent price of 331.24.In the past 52 weeks, Cr Bard Inc share prices have been bracketed by a low of 0.00 and a high of 0.00 and are now at 331.24, 100 above that low price.  In the last five trading sessions, the 50day moving average MA has remained constant while the...</td>\n",
       "      <td>2</td>\n",
       "      <td>0.126413</td>\n",
       "      <td>0.573291</td>\n",
       "      <td>0.747695</td>\n",
       "      <td>0.287535</td>\n",
       "      <td>0.100931</td>\n",
       "      <td>0.226929</td>\n",
       "      <td>0.178021</td>\n",
       "      <td>0.066381</td>\n",
       "      <td>0.378634</td>\n",
       "      <td>0.172105</td>\n",
       "      <td>0.040583</td>\n",
       "      <td>0.436770</td>\n",
       "      <td>0.932445</td>\n",
       "      <td>0.437214</td>\n",
       "      <td>0.537201</td>\n",
       "      <td>0.390813</td>\n",
       "      <td>0.396779</td>\n",
       "      <td>0.911051</td>\n",
       "    </tr>\n",
       "    <tr>\n",
       "      <th>1</th>\n",
       "      <td>12</td>\n",
       "      <td>Conversational AI Marketplace Enlargement Possibilities, Regional Traits and Call for, Most sensible Avid gamers, Alternatives with Forecasts 2025  International Conversational AI marketplace 2020 analysis document is a solitary instrument that provides an indepth scrutiny of various Conversational AI marketplace insights, alternatives, collateral approaches and more than a few techniques of creating robust determinations. The Conversational AI marketplace CAGR charge would possibly building...</td>\n",
       "      <td>2</td>\n",
       "      <td>0.303175</td>\n",
       "      <td>0.008955</td>\n",
       "      <td>0.644975</td>\n",
       "      <td>0.231231</td>\n",
       "      <td>0.028623</td>\n",
       "      <td>0.726941</td>\n",
       "      <td>0.749578</td>\n",
       "      <td>0.043793</td>\n",
       "      <td>0.465443</td>\n",
       "      <td>0.213941</td>\n",
       "      <td>0.041343</td>\n",
       "      <td>0.096056</td>\n",
       "      <td>0.095282</td>\n",
       "      <td>0.413589</td>\n",
       "      <td>0.383721</td>\n",
       "      <td>0.159051</td>\n",
       "      <td>0.014750</td>\n",
       "      <td>0.383123</td>\n",
       "    </tr>\n",
       "    <tr>\n",
       "      <th>2</th>\n",
       "      <td>23</td>\n",
       "      <td>Walmart employees are out to show its antishoplifting AI doesnt work The retailer denies there is any widespread issue with the software. In January, my coworker received a peculiar email. The message, which she forwarded to me, was from a handful of corporate Walmart employees calling themselves the Concerned Home Office Associates. Walmarts headquarters in Bentonville, Arkansas, is often referred to as the Home Office. While its not unusual for journalists to receive anonymous tips, they d...</td>\n",
       "      <td>2</td>\n",
       "      <td>0.254997</td>\n",
       "      <td>0.047431</td>\n",
       "      <td>0.805587</td>\n",
       "      <td>0.695647</td>\n",
       "      <td>0.047576</td>\n",
       "      <td>0.520027</td>\n",
       "      <td>0.957824</td>\n",
       "      <td>0.018728</td>\n",
       "      <td>0.896138</td>\n",
       "      <td>0.669529</td>\n",
       "      <td>0.031697</td>\n",
       "      <td>0.037900</td>\n",
       "      <td>0.105813</td>\n",
       "      <td>0.628416</td>\n",
       "      <td>0.671183</td>\n",
       "      <td>0.283140</td>\n",
       "      <td>0.124894</td>\n",
       "      <td>0.930628</td>\n",
       "    </tr>\n",
       "    <tr>\n",
       "      <th>3</th>\n",
       "      <td>28</td>\n",
       "      <td>Tesla CEO Elon Musk urges pause on AI systems, citing risks to society Elon Musk and a group of artificial intelligence experts and industry executives are calling for a sixmonth pause in developing systems more powerful than OpenAIs newly launched GPT4, in an open letter citing potential risks to society and humanity. The letter, issued by the nonprofit Future of Life Institute and signed by more than 1,000 people including Musk, called for a pause on advanced AI development until shared sa...</td>\n",
       "      <td>1</td>\n",
       "      <td>0.170653</td>\n",
       "      <td>0.771679</td>\n",
       "      <td>0.380666</td>\n",
       "      <td>0.757577</td>\n",
       "      <td>0.101454</td>\n",
       "      <td>0.265526</td>\n",
       "      <td>0.801290</td>\n",
       "      <td>0.092516</td>\n",
       "      <td>0.340393</td>\n",
       "      <td>0.251144</td>\n",
       "      <td>0.035433</td>\n",
       "      <td>0.052589</td>\n",
       "      <td>0.050366</td>\n",
       "      <td>0.357945</td>\n",
       "      <td>0.306858</td>\n",
       "      <td>0.206618</td>\n",
       "      <td>0.184397</td>\n",
       "      <td>0.952538</td>\n",
       "    </tr>\n",
       "    <tr>\n",
       "      <th>4</th>\n",
       "      <td>38</td>\n",
       "      <td>LegalTech Artificial Intelligence Industry  June 2021 Middle East and Africa Market Research Report 2020 Under COVID19 outbreak globally, this report provides 360 degrees of analysis from supply chain, import and export control to regional government policy and future influence on the industry. Detailed analysis about market status 20152020, enterprise competition pattern, advantages and disadvantages of enterprise products, industry development trends 20202025, regional industrial layout ch...</td>\n",
       "      <td>2</td>\n",
       "      <td>0.383716</td>\n",
       "      <td>0.203133</td>\n",
       "      <td>0.605019</td>\n",
       "      <td>0.580184</td>\n",
       "      <td>0.168859</td>\n",
       "      <td>0.771888</td>\n",
       "      <td>0.933147</td>\n",
       "      <td>0.279561</td>\n",
       "      <td>0.621637</td>\n",
       "      <td>0.382832</td>\n",
       "      <td>0.112535</td>\n",
       "      <td>0.172960</td>\n",
       "      <td>0.177300</td>\n",
       "      <td>0.584303</td>\n",
       "      <td>0.402161</td>\n",
       "      <td>0.419516</td>\n",
       "      <td>0.225927</td>\n",
       "      <td>0.948273</td>\n",
       "    </tr>\n",
       "  </tbody>\n",
       "</table>\n",
       "</div>"
      ],
      "text/plain": [
       "   id   \n",
       "0   5  \\\n",
       "1  12   \n",
       "2  23   \n",
       "3  28   \n",
       "4  38   \n",
       "\n",
       "                                                                                                                                                                                                                                                                                                                                                                                                                                                                                                          cleaned text   \n",
       "0  Cr Bard Inc Has Returned 48.9 Since SmarTrend Recommendation BCR  SmarTrend identified an Uptrend for Cr Bard Inc :BCR on December 23rd, 2016 at 222.45.  In approximately 40 months, Cr Bard Inc has returned 48.91 as of todays recent price of 331.24.In the past 52 weeks, Cr Bard Inc share prices have been bracketed by a low of 0.00 and a high of 0.00 and are now at 331.24, 100 above that low price.  In the last five trading sessions, the 50day moving average MA has remained constant while the...  \\\n",
       "1  Conversational AI Marketplace Enlargement Possibilities, Regional Traits and Call for, Most sensible Avid gamers, Alternatives with Forecasts 2025  International Conversational AI marketplace 2020 analysis document is a solitary instrument that provides an indepth scrutiny of various Conversational AI marketplace insights, alternatives, collateral approaches and more than a few techniques of creating robust determinations. The Conversational AI marketplace CAGR charge would possibly building...   \n",
       "2  Walmart employees are out to show its antishoplifting AI doesnt work The retailer denies there is any widespread issue with the software. In January, my coworker received a peculiar email. The message, which she forwarded to me, was from a handful of corporate Walmart employees calling themselves the Concerned Home Office Associates. Walmarts headquarters in Bentonville, Arkansas, is often referred to as the Home Office. While its not unusual for journalists to receive anonymous tips, they d...   \n",
       "3  Tesla CEO Elon Musk urges pause on AI systems, citing risks to society Elon Musk and a group of artificial intelligence experts and industry executives are calling for a sixmonth pause in developing systems more powerful than OpenAIs newly launched GPT4, in an open letter citing potential risks to society and humanity. The letter, issued by the nonprofit Future of Life Institute and signed by more than 1,000 people including Musk, called for a pause on advanced AI development until shared sa...   \n",
       "4  LegalTech Artificial Intelligence Industry  June 2021 Middle East and Africa Market Research Report 2020 Under COVID19 outbreak globally, this report provides 360 degrees of analysis from supply chain, import and export control to regional government policy and future influence on the industry. Detailed analysis about market status 20152020, enterprise competition pattern, advantages and disadvantages of enterprise products, industry development trends 20202025, regional industrial layout ch...   \n",
       "\n",
       "   sentiment  digital transaction  healthcare  news platform  data analytics   \n",
       "0          2             0.126413    0.573291       0.747695        0.287535  \\\n",
       "1          2             0.303175    0.008955       0.644975        0.231231   \n",
       "2          2             0.254997    0.047431       0.805587        0.695647   \n",
       "3          1             0.170653    0.771679       0.380666        0.757577   \n",
       "4          2             0.383716    0.203133       0.605019        0.580184   \n",
       "\n",
       "   insurance  investment  global market  autonomous car  customer experience   \n",
       "0   0.100931    0.226929       0.178021        0.066381             0.378634  \\\n",
       "1   0.028623    0.726941       0.749578        0.043793             0.465443   \n",
       "2   0.047576    0.520027       0.957824        0.018728             0.896138   \n",
       "3   0.101454    0.265526       0.801290        0.092516             0.340393   \n",
       "4   0.168859    0.771888       0.933147        0.279561             0.621637   \n",
       "\n",
       "   data science  cryptocurrency    camera     robot   chatgpt     image   \n",
       "0      0.172105        0.040583  0.436770  0.932445  0.437214  0.537201  \\\n",
       "1      0.213941        0.041343  0.096056  0.095282  0.413589  0.383721   \n",
       "2      0.669529        0.031697  0.037900  0.105813  0.628416  0.671183   \n",
       "3      0.251144        0.035433  0.052589  0.050366  0.357945  0.306858   \n",
       "4      0.382832        0.112535  0.172960  0.177300  0.584303  0.402161   \n",
       "\n",
       "      voice  patient care  research  \n",
       "0  0.390813      0.396779  0.911051  \n",
       "1  0.159051      0.014750  0.383123  \n",
       "2  0.283140      0.124894  0.930628  \n",
       "3  0.206618      0.184397  0.952538  \n",
       "4  0.419516      0.225927  0.948273  "
      ]
     },
     "execution_count": 30,
     "metadata": {},
     "output_type": "execute_result"
    }
   ],
   "source": [
    "neg_news_topics = df_news_negative.join(neg_pred_df, how='inner')\n",
    "neg_news_topics = neg_news_topics[['id', 'cleaned text', 'sentiment'] + candidate_labels]\n",
    "\n",
    "# SAVE THE RESULTS\n",
    "neg_news_topics.to_json('result/neg_news_topics.json', orient='records', lines=True)\n",
    "\n",
    "# Reset multi-level index\n",
    "neg_news_topics.columns = neg_news_topics.columns.get_level_values(0)\n",
    "\n",
    "# Select the small-ish articles only\n",
    "neg_news_topics.head()"
   ]
  }
 ],
 "metadata": {
  "kernelspec": {
   "display_name": "default:Python",
   "language": "python",
   "name": "conda-env-default-py"
  },
  "language_info": {
   "codemirror_mode": {
    "name": "ipython",
    "version": 3
   },
   "file_extension": ".py",
   "mimetype": "text/x-python",
   "name": "python",
   "nbconvert_exporter": "python",
   "pygments_lexer": "ipython3",
   "version": "3.9.16"
  }
 },
 "nbformat": 4,
 "nbformat_minor": 4
}
