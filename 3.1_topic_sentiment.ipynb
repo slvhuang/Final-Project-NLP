{
 "cells": [
  {
   "attachments": {},
   "cell_type": "markdown",
   "metadata": {},
   "source": [
    "# MSCA 32018 Natural Language Processing and Cognitive Computing\n",
    "## Final Project - Topic Detection \n",
    "### Zero-shot (NLI) modeling based on Sentiment Analysis\n",
    "\n",
    "Shijia Huang\n",
    "\n",
    "-----"
   ]
  },
  {
   "cell_type": "code",
   "execution_count": 1,
   "metadata": {},
   "outputs": [],
   "source": [
    "#!pip install -r requirements.txt"
   ]
  },
  {
   "cell_type": "code",
   "execution_count": 2,
   "metadata": {},
   "outputs": [],
   "source": [
    "# Import basic libraries\n",
    "import time\n",
    "import pandas as pd\n",
    "import numpy as np\n",
    "import seaborn as sns\n",
    "import matplotlib.pyplot as plt \n",
    "\n",
    "%matplotlib inline"
   ]
  },
  {
   "cell_type": "code",
   "execution_count": 3,
   "metadata": {},
   "outputs": [],
   "source": [
    "import warnings\n",
    "warnings.filterwarnings('ignore')\n",
    "pd.set_option('display.max_rows', 100)\n",
    "pd.set_option('display.max_columns', None)\n",
    "pd.set_option('display.max_colwidth', 500)"
   ]
  },
  {
   "cell_type": "code",
   "execution_count": 4,
   "metadata": {},
   "outputs": [
    {
     "name": "stderr",
     "output_type": "stream",
     "text": [
      "2023-05-15 12:29:45.075215: I tensorflow/core/platform/cpu_feature_guard.cc:182] This TensorFlow binary is optimized to use available CPU instructions in performance-critical operations.\n",
      "To enable the following instructions: AVX2 FMA, in other operations, rebuild TensorFlow with the appropriate compiler flags.\n"
     ]
    },
    {
     "name": "stdout",
     "output_type": "stream",
     "text": [
      "3.5.2\n"
     ]
    }
   ],
   "source": [
    "# Import NLP libraries\n",
    "import re\n",
    "import nltk\n",
    "from nltk.corpus import stopwords\n",
    "from nltk.stem import WordNetLemmatizer\n",
    "from nltk.tokenize import word_tokenize\n",
    "from sklearn.feature_extraction.text import CountVectorizer, TfidfVectorizer\n",
    "\n",
    "from pprint import pprint\n",
    "import string\n",
    "from rake_nltk import Rake\n",
    "\n",
    "import spacy\n",
    "from spacy import displacy\n",
    "from spacy.util import minibatch, compounding\n",
    "spacy.prefer_gpu()\n",
    "print(spacy.__version__)\n",
    "\n",
    "import gensim\n",
    "from gensim import corpora, models\n",
    "from gensim.utils import simple_preprocess\n",
    "from gensim.models.ldamulticore import LdaMulticore\n",
    "from gensim.models import CoherenceModel\n",
    "\n",
    "import pyLDAvis\n",
    "import pyLDAvis.gensim as gensimvis\n",
    "#import pyLDAvis.gensim_models as gensimvis\n",
    "pyLDAvis.enable_notebook()\n",
    "\n",
    "import tensorflow as tf\n",
    "from transformers import pipeline"
   ]
  },
  {
   "cell_type": "code",
   "execution_count": 5,
   "metadata": {},
   "outputs": [
    {
     "name": "stdout",
     "output_type": "stream",
     "text": [
      "Available CPUs: 12\n"
     ]
    }
   ],
   "source": [
    "import multiprocessing as mp\n",
    "\n",
    "num_processors = mp.cpu_count()\n",
    "print(f'Available CPUs: {num_processors}')"
   ]
  },
  {
   "attachments": {},
   "cell_type": "markdown",
   "metadata": {},
   "source": [
    "### Read New Articles with Sentiment Score"
   ]
  },
  {
   "cell_type": "code",
   "execution_count": 6,
   "metadata": {},
   "outputs": [
    {
     "name": "stdout",
     "output_type": "stream",
     "text": [
      "CPU times: user 1min 29s, sys: 41.4 s, total: 2min 10s\n",
      "Wall time: 3min 32s\n"
     ]
    },
    {
     "data": {
      "text/plain": [
       "(154283, 11)"
      ]
     },
     "execution_count": 6,
     "metadata": {},
     "output_type": "execute_result"
    }
   ],
   "source": [
    "%%time\n",
    "\n",
    "# GCP version\n",
    "path = \"gs://nlp-final-project-data/data/\"\n",
    "df_news = pd.read_parquet(path + 'news_sentiment.parquet', engine='pyarrow')\n",
    "df_news.shape"
   ]
  },
  {
   "cell_type": "code",
   "execution_count": 7,
   "metadata": {},
   "outputs": [
    {
     "name": "stdout",
     "output_type": "stream",
     "text": [
      "<class 'pandas.core.frame.DataFrame'>\n",
      "RangeIndex: 154283 entries, 0 to 154282\n",
      "Data columns (total 11 columns):\n",
      " #   Column            Non-Null Count   Dtype \n",
      "---  ------            --------------   ----- \n",
      " 0   id                154283 non-null  int64 \n",
      " 1   date              154283 non-null  object\n",
      " 2   cleaned title     154283 non-null  object\n",
      " 3   cleaned text      154283 non-null  object\n",
      " 4   title_tokens      154283 non-null  object\n",
      " 5   title_lemmatized  154283 non-null  object\n",
      " 6   text_tokens       154283 non-null  object\n",
      " 7   text_lemmatized   154283 non-null  object\n",
      " 8   title_keywords    154283 non-null  object\n",
      " 9   text_keywords     154283 non-null  object\n",
      " 10  sentiment         154283 non-null  int64 \n",
      "dtypes: int64(2), object(9)\n",
      "memory usage: 12.9+ MB\n"
     ]
    }
   ],
   "source": [
    "df_news.info()"
   ]
  },
  {
   "cell_type": "code",
   "execution_count": 8,
   "metadata": {},
   "outputs": [
    {
     "data": {
      "text/html": [
       "<div>\n",
       "<style scoped>\n",
       "    .dataframe tbody tr th:only-of-type {\n",
       "        vertical-align: middle;\n",
       "    }\n",
       "\n",
       "    .dataframe tbody tr th {\n",
       "        vertical-align: top;\n",
       "    }\n",
       "\n",
       "    .dataframe thead th {\n",
       "        text-align: right;\n",
       "    }\n",
       "</style>\n",
       "<table border=\"1\" class=\"dataframe\">\n",
       "  <thead>\n",
       "    <tr style=\"text-align: right;\">\n",
       "      <th></th>\n",
       "      <th>id</th>\n",
       "      <th>date</th>\n",
       "      <th>cleaned title</th>\n",
       "      <th>cleaned text</th>\n",
       "      <th>title_tokens</th>\n",
       "      <th>title_lemmatized</th>\n",
       "      <th>text_tokens</th>\n",
       "      <th>text_lemmatized</th>\n",
       "      <th>title_keywords</th>\n",
       "      <th>text_keywords</th>\n",
       "      <th>sentiment</th>\n",
       "    </tr>\n",
       "  </thead>\n",
       "  <tbody>\n",
       "    <tr>\n",
       "      <th>0</th>\n",
       "      <td>1</td>\n",
       "      <td>2020-02-27</td>\n",
       "      <td>Children With Autism Saw Their Learning and Social Skills Boosted After Playing With This AI Robot</td>\n",
       "      <td>Children With Autism Saw Their Learning and Social Skills Boosted After Playing With This AI Robot admin  Latest posts by admin see all  Mansplaining in conferences: How can we get him to forestall  February 27, 2020 Coronavirus Could Explode in the U.S. Overnight Like it Did in Italy  February 27, 2020 Levi Strauss marks the next phase in corporate paid leave policies  February 27, 2020 Scientists who designed an artificially clever robotic that helped youngsters with autism spice up their ...</td>\n",
       "      <td>[children, autism, saw, learning, social, skills, boosted, playing, ai, robot, children, autism, saw, learning, social, skills, boosted, playing, ai, robot, children, autism, saw, learning, social, skills, boosted, playing, ai_robot]</td>\n",
       "      <td>[child, autism, see, learn, social, skill, boost, play, robot, child, autism, see, learn, social, skill, boost, play, robot, child, autism, see, learn, social, skill, boost, play, ai_robot]</td>\n",
       "      <td>[children, autism, saw, learning, social, skills, boosted, playing, ai, robot, admin, latest, posts, admin, see, mansplaining, conferences, get, forestall, february, coronavirus, could, explode, overnight, like, italy, february, levi, strauss, marks, next, phase, corporate, paid, leave, policies, february, scientists, designed, artificially, clever, robotic, helped, youngsters, autism, spice, studying, social, talents, hope, era, may, future, help, others, developmental, dysfunction, learn, ...</td>\n",
       "      <td>[child, autism, see, learn, social, skill, boost, play, robot, late, post, admin, see, mansplaining, conference, get, explode, overnight, mark, next, phase, corporate, pay, leave, policy, scientist, design, artificially, clever, robotic, help, youngster, autism, spice, study, social, talent, era, future, help, other, developmental, dysfunction, learn, notice, youngster, gentle, average, autism, take, domestic, s, refer, socially, assistive, robotic, name, kiwi, month, accord, commentary, way...</td>\n",
       "      <td>[social, skill, see, play, learn, child, boost, autism, robot, ai_robot]</td>\n",
       "      <td>[robotic, youngster, kid, child, kiwi, market, autism, learn, crew, talent]</td>\n",
       "      <td>5</td>\n",
       "    </tr>\n",
       "    <tr>\n",
       "      <th>1</th>\n",
       "      <td>2</td>\n",
       "      <td>2021-03-26</td>\n",
       "      <td>Forget ML, AI and Industry 4.0 – obsolescence should be your focus</td>\n",
       "      <td>Forget ML, AI and Industry 4.0  obsolescence should be your focus The world entered a new era of accelerated transformation in the last eighteen months that will continue to evolve and press forward for years to come. Most businesses are playing catchup trying to make sense of a new timeline where the ten years that had been set aside for careful planning and implementation of what was coming up next no longer exists. The next is happening now and, regardless of your industry or seniority, t...</td>\n",
       "      <td>[forget, ml, ai, industry, obsolescence, focus, forget, ml, ai, industry, obsolescence, focus, forget, ml, ai, industry, obsolescence, focus]</td>\n",
       "      <td>[forget, ml, ai, industry, obsolescence, focus, forget, ml, ai, industry, obsolescence, focus, forget, ml, ai, industry, obsolescence, focus]</td>\n",
       "      <td>[forget, ml, ai, industry, obsolescence, focus, world, entered, new, era, accelerated, transformation, last, eighteen, months, continue, evolve, press, forward, years, come, businesses, playing, catchup, trying, make, sense, new, timeline, ten, years, set, aside, careful, planning, implementation, coming, next, longer, exists, next, happening, regardless, industry, seniority, status, quo, shifted, better, face, back, invited, attend, pompous, meeting, london, brazilian, embassy, along, selec...</td>\n",
       "      <td>[forget, ai, industry, obsolescence, focus, world, enter, new, era, accelerate, transformation, last, month, continue, evolve, press, forward, year, come, business, play, catchup, try, make, sense, new, timeline, year, set, aside, careful, planning, implementation, come, next, long, exist, next, happen, regardless, industry, seniority, status, quo, shift, well, face, back, invite, attend, pompous, meeting, brazilian, embassy, select, lead, name, oil, energy, industry, get, update, go, happen...</td>\n",
       "      <td>[obsolescence, ml, industry, forget, focus, ai]</td>\n",
       "      <td>[electronic, come, card, industry, repair, new, system, require, test, business]</td>\n",
       "      <td>4</td>\n",
       "    </tr>\n",
       "  </tbody>\n",
       "</table>\n",
       "</div>"
      ],
      "text/plain": [
       "   id        date   \n",
       "0   1  2020-02-27  \\\n",
       "1   2  2021-03-26   \n",
       "\n",
       "                                                                                        cleaned title   \n",
       "0  Children With Autism Saw Their Learning and Social Skills Boosted After Playing With This AI Robot  \\\n",
       "1                                  Forget ML, AI and Industry 4.0 – obsolescence should be your focus   \n",
       "\n",
       "                                                                                                                                                                                                                                                                                                                                                                                                                                                                                                          cleaned text   \n",
       "0  Children With Autism Saw Their Learning and Social Skills Boosted After Playing With This AI Robot admin  Latest posts by admin see all  Mansplaining in conferences: How can we get him to forestall  February 27, 2020 Coronavirus Could Explode in the U.S. Overnight Like it Did in Italy  February 27, 2020 Levi Strauss marks the next phase in corporate paid leave policies  February 27, 2020 Scientists who designed an artificially clever robotic that helped youngsters with autism spice up their ...  \\\n",
       "1  Forget ML, AI and Industry 4.0  obsolescence should be your focus The world entered a new era of accelerated transformation in the last eighteen months that will continue to evolve and press forward for years to come. Most businesses are playing catchup trying to make sense of a new timeline where the ten years that had been set aside for careful planning and implementation of what was coming up next no longer exists. The next is happening now and, regardless of your industry or seniority, t...   \n",
       "\n",
       "                                                                                                                                                                                                                                title_tokens   \n",
       "0  [children, autism, saw, learning, social, skills, boosted, playing, ai, robot, children, autism, saw, learning, social, skills, boosted, playing, ai, robot, children, autism, saw, learning, social, skills, boosted, playing, ai_robot]  \\\n",
       "1                                                                                              [forget, ml, ai, industry, obsolescence, focus, forget, ml, ai, industry, obsolescence, focus, forget, ml, ai, industry, obsolescence, focus]   \n",
       "\n",
       "                                                                                                                                                                                title_lemmatized   \n",
       "0  [child, autism, see, learn, social, skill, boost, play, robot, child, autism, see, learn, social, skill, boost, play, robot, child, autism, see, learn, social, skill, boost, play, ai_robot]  \\\n",
       "1                                                  [forget, ml, ai, industry, obsolescence, focus, forget, ml, ai, industry, obsolescence, focus, forget, ml, ai, industry, obsolescence, focus]   \n",
       "\n",
       "                                                                                                                                                                                                                                                                                                                                                                                                                                                                                                           text_tokens   \n",
       "0  [children, autism, saw, learning, social, skills, boosted, playing, ai, robot, admin, latest, posts, admin, see, mansplaining, conferences, get, forestall, february, coronavirus, could, explode, overnight, like, italy, february, levi, strauss, marks, next, phase, corporate, paid, leave, policies, february, scientists, designed, artificially, clever, robotic, helped, youngsters, autism, spice, studying, social, talents, hope, era, may, future, help, others, developmental, dysfunction, learn, ...  \\\n",
       "1  [forget, ml, ai, industry, obsolescence, focus, world, entered, new, era, accelerated, transformation, last, eighteen, months, continue, evolve, press, forward, years, come, businesses, playing, catchup, trying, make, sense, new, timeline, ten, years, set, aside, careful, planning, implementation, coming, next, longer, exists, next, happening, regardless, industry, seniority, status, quo, shifted, better, face, back, invited, attend, pompous, meeting, london, brazilian, embassy, along, selec...   \n",
       "\n",
       "                                                                                                                                                                                                                                                                                                                                                                                                                                                                                                       text_lemmatized   \n",
       "0  [child, autism, see, learn, social, skill, boost, play, robot, late, post, admin, see, mansplaining, conference, get, explode, overnight, mark, next, phase, corporate, pay, leave, policy, scientist, design, artificially, clever, robotic, help, youngster, autism, spice, study, social, talent, era, future, help, other, developmental, dysfunction, learn, notice, youngster, gentle, average, autism, take, domestic, s, refer, socially, assistive, robotic, name, kiwi, month, accord, commentary, way...  \\\n",
       "1  [forget, ai, industry, obsolescence, focus, world, enter, new, era, accelerate, transformation, last, month, continue, evolve, press, forward, year, come, business, play, catchup, try, make, sense, new, timeline, year, set, aside, careful, planning, implementation, come, next, long, exist, next, happen, regardless, industry, seniority, status, quo, shift, well, face, back, invite, attend, pompous, meeting, brazilian, embassy, select, lead, name, oil, energy, industry, get, update, go, happen...   \n",
       "\n",
       "                                                             title_keywords   \n",
       "0  [social, skill, see, play, learn, child, boost, autism, robot, ai_robot]  \\\n",
       "1                           [obsolescence, ml, industry, forget, focus, ai]   \n",
       "\n",
       "                                                                      text_keywords   \n",
       "0       [robotic, youngster, kid, child, kiwi, market, autism, learn, crew, talent]  \\\n",
       "1  [electronic, come, card, industry, repair, new, system, require, test, business]   \n",
       "\n",
       "   sentiment  \n",
       "0          5  \n",
       "1          4  "
      ]
     },
     "execution_count": 8,
     "metadata": {},
     "output_type": "execute_result"
    }
   ],
   "source": [
    "df_news.head(2)"
   ]
  },
  {
   "cell_type": "code",
   "execution_count": 9,
   "metadata": {},
   "outputs": [
    {
     "data": {
      "text/plain": [
       "(154283, 11)"
      ]
     },
     "execution_count": 9,
     "metadata": {},
     "output_type": "execute_result"
    }
   ],
   "source": [
    "### SAMPLE DATA\n",
    "# df_news = df_news.sample(frac=0.01, random_state=42)\n",
    "df_news.shape"
   ]
  },
  {
   "attachments": {},
   "cell_type": "markdown",
   "metadata": {},
   "source": [
    "# Select articles with positive and negative sentiment scores\n",
    "\n",
    "- Positive: sentiment score > 3\n",
    "- Negative: sentiment score < 3"
   ]
  },
  {
   "cell_type": "code",
   "execution_count": 10,
   "metadata": {},
   "outputs": [
    {
     "data": {
      "text/plain": [
       "(104228, 11)"
      ]
     },
     "execution_count": 10,
     "metadata": {},
     "output_type": "execute_result"
    }
   ],
   "source": [
    "# select positive sentiment articles\n",
    "df_news_positive = df_news[df_news['sentiment'] > 3]\n",
    "df_news_positive.shape"
   ]
  },
  {
   "cell_type": "code",
   "execution_count": 13,
   "metadata": {},
   "outputs": [
    {
     "data": {
      "text/html": [
       "<div>\n",
       "<style scoped>\n",
       "    .dataframe tbody tr th:only-of-type {\n",
       "        vertical-align: middle;\n",
       "    }\n",
       "\n",
       "    .dataframe tbody tr th {\n",
       "        vertical-align: top;\n",
       "    }\n",
       "\n",
       "    .dataframe thead th {\n",
       "        text-align: right;\n",
       "    }\n",
       "</style>\n",
       "<table border=\"1\" class=\"dataframe\">\n",
       "  <thead>\n",
       "    <tr style=\"text-align: right;\">\n",
       "      <th></th>\n",
       "      <th>id</th>\n",
       "      <th>date</th>\n",
       "      <th>cleaned title</th>\n",
       "      <th>cleaned text</th>\n",
       "      <th>title_tokens</th>\n",
       "      <th>title_lemmatized</th>\n",
       "      <th>text_tokens</th>\n",
       "      <th>text_lemmatized</th>\n",
       "      <th>title_keywords</th>\n",
       "      <th>text_keywords</th>\n",
       "      <th>sentiment</th>\n",
       "    </tr>\n",
       "  </thead>\n",
       "  <tbody>\n",
       "    <tr>\n",
       "      <th>3583</th>\n",
       "      <td>4650</td>\n",
       "      <td>2023-03-16</td>\n",
       "      <td>Microsoft unveils AI office copilot in fast-moving race with Google</td>\n",
       "      <td>Microsoft unveils AI office copilot in fastmoving race with Google   2 min read . Updated: 16 Mar 2023, 10:52 PM IST   The technology company previewed a new AI copilot for Microsoft 365  The new product suite includes Word documents, Excel spreadsheets, PowerPoint presentations and Outlook emails Microsoft Corp on Thursday trumpeted its latest plans to put artificial intelligence into the hands of more users, answering a spate of unveilings this week by its rival Google with upgrades to its...</td>\n",
       "      <td>[microsoft, unveils, ai, office, copilot, fastmoving, race, google, microsoft_unveils, ai, office_copilot, fastmoving_race, google, microsoft_unveils, ai, office_copilot, fastmoving_race, google]</td>\n",
       "      <td>[microsoft, unveil, ai, office, copilot, fastmove, race, google, microsoft_unveil, ai, fastmoving_race, google, microsoft_unveil, ai, fastmoving_race, google]</td>\n",
       "      <td>[microsoft, unveils, ai, office, copilot, fastmoving, race, google, min, read, updated, mar, pm, ist, technology, company, previewed, new, ai, copilot, microsoft, new, product, suite, includes, word, documents, excel, spreadsheets, powerpoint, presentations, outlook, emails, microsoft, corp, thursday, trumpeted, latest, plans, put, artificial, intelligence, hands, users, answering, spate, unveilings, week, rival, google, upgrades, widely, used, office, software, technology, company, previewe...</td>\n",
       "      <td>[unveil, ai, office, copilot, fastmove, race, read, update, technology, company, preview, new, copilot, new, product, suite, include, word, document, excel, spreadsheet, powerpoint, presentation, outlook, email, trumpet, late, plan, put, artificial, intelligence, hand, user, answer, spate, unveiling, week, rival, google, upgrade, widely, use, office, software, technology, company, preview, new, copilot, microsoft, product, suite, include, word, document, excel, spreadsheet, powerpoint, prese...</td>\n",
       "      <td>[google, ai, microsoft_unveil, fastmoving_race, unveil, race, office, microsoft, fastmove, copilot]</td>\n",
       "      <td>[ai, new, say, business, update, software, company, include, week, application]</td>\n",
       "      <td>4</td>\n",
       "    </tr>\n",
       "  </tbody>\n",
       "</table>\n",
       "</div>"
      ],
      "text/plain": [
       "        id        date   \n",
       "3583  4650  2023-03-16  \\\n",
       "\n",
       "                                                            cleaned title   \n",
       "3583  Microsoft unveils AI office copilot in fast-moving race with Google  \\\n",
       "\n",
       "                                                                                                                                                                                                                                                                                                                                                                                                                                                                                                             cleaned text   \n",
       "3583  Microsoft unveils AI office copilot in fastmoving race with Google   2 min read . Updated: 16 Mar 2023, 10:52 PM IST   The technology company previewed a new AI copilot for Microsoft 365  The new product suite includes Word documents, Excel spreadsheets, PowerPoint presentations and Outlook emails Microsoft Corp on Thursday trumpeted its latest plans to put artificial intelligence into the hands of more users, answering a spate of unveilings this week by its rival Google with upgrades to its...  \\\n",
       "\n",
       "                                                                                                                                                                                             title_tokens   \n",
       "3583  [microsoft, unveils, ai, office, copilot, fastmoving, race, google, microsoft_unveils, ai, office_copilot, fastmoving_race, google, microsoft_unveils, ai, office_copilot, fastmoving_race, google]  \\\n",
       "\n",
       "                                                                                                                                                    title_lemmatized   \n",
       "3583  [microsoft, unveil, ai, office, copilot, fastmove, race, google, microsoft_unveil, ai, fastmoving_race, google, microsoft_unveil, ai, fastmoving_race, google]  \\\n",
       "\n",
       "                                                                                                                                                                                                                                                                                                                                                                                                                                                                                                              text_tokens   \n",
       "3583  [microsoft, unveils, ai, office, copilot, fastmoving, race, google, min, read, updated, mar, pm, ist, technology, company, previewed, new, ai, copilot, microsoft, new, product, suite, includes, word, documents, excel, spreadsheets, powerpoint, presentations, outlook, emails, microsoft, corp, thursday, trumpeted, latest, plans, put, artificial, intelligence, hands, users, answering, spate, unveilings, week, rival, google, upgrades, widely, used, office, software, technology, company, previewe...  \\\n",
       "\n",
       "                                                                                                                                                                                                                                                                                                                                                                                                                                                                                                          text_lemmatized   \n",
       "3583  [unveil, ai, office, copilot, fastmove, race, read, update, technology, company, preview, new, copilot, new, product, suite, include, word, document, excel, spreadsheet, powerpoint, presentation, outlook, email, trumpet, late, plan, put, artificial, intelligence, hand, user, answer, spate, unveiling, week, rival, google, upgrade, widely, use, office, software, technology, company, preview, new, copilot, microsoft, product, suite, include, word, document, excel, spreadsheet, powerpoint, prese...  \\\n",
       "\n",
       "                                                                                           title_keywords   \n",
       "3583  [google, ai, microsoft_unveil, fastmoving_race, unveil, race, office, microsoft, fastmove, copilot]  \\\n",
       "\n",
       "                                                                        text_keywords   \n",
       "3583  [ai, new, say, business, update, software, company, include, week, application]  \\\n",
       "\n",
       "      sentiment  \n",
       "3583          4  "
      ]
     },
     "execution_count": 13,
     "metadata": {},
     "output_type": "execute_result"
    }
   ],
   "source": [
    "# print a sample\n",
    "df_news_positive.sample(1)"
   ]
  },
  {
   "cell_type": "code",
   "execution_count": 11,
   "metadata": {},
   "outputs": [
    {
     "data": {
      "text/plain": [
       "(14932, 11)"
      ]
     },
     "execution_count": 11,
     "metadata": {},
     "output_type": "execute_result"
    }
   ],
   "source": [
    "# select negative sentiment articles\n",
    "df_news_negative = df_news[df_news['sentiment'] < 3]\n",
    "df_news_negative.shape"
   ]
  },
  {
   "cell_type": "code",
   "execution_count": 14,
   "metadata": {},
   "outputs": [
    {
     "data": {
      "text/html": [
       "<div>\n",
       "<style scoped>\n",
       "    .dataframe tbody tr th:only-of-type {\n",
       "        vertical-align: middle;\n",
       "    }\n",
       "\n",
       "    .dataframe tbody tr th {\n",
       "        vertical-align: top;\n",
       "    }\n",
       "\n",
       "    .dataframe thead th {\n",
       "        text-align: right;\n",
       "    }\n",
       "</style>\n",
       "<table border=\"1\" class=\"dataframe\">\n",
       "  <thead>\n",
       "    <tr style=\"text-align: right;\">\n",
       "      <th></th>\n",
       "      <th>id</th>\n",
       "      <th>date</th>\n",
       "      <th>cleaned title</th>\n",
       "      <th>cleaned text</th>\n",
       "      <th>title_tokens</th>\n",
       "      <th>title_lemmatized</th>\n",
       "      <th>text_tokens</th>\n",
       "      <th>text_lemmatized</th>\n",
       "      <th>title_keywords</th>\n",
       "      <th>text_keywords</th>\n",
       "      <th>sentiment</th>\n",
       "    </tr>\n",
       "  </thead>\n",
       "  <tbody>\n",
       "    <tr>\n",
       "      <th>81573</th>\n",
       "      <td>106101</td>\n",
       "      <td>2023-03-26</td>\n",
       "      <td>Up to 80 percent of workers could see jobs impacted by AI</td>\n",
       "      <td>Up to 80 percent of workers could see jobs impacted by AI  Researchers from OpenAI and the University of Pennsylvania argued in a new research paper that AI could soon be shaking up some fields following the rise of ChatGPT, a shockingly intelligent chatbotreleased in November.  Researchers argued that 80 percent of the US workforce could have at least 10 percent of their work tasks affected by the introduction of ChatGPT.  They also found that about 19 percent of workers may find at least 5...</td>\n",
       "      <td>[percent, workers, could, see, jobs, impacted, ai, percent, workers, could_see, jobs_impacted, ai, percent, workers, could_see, jobs_impacted, ai]</td>\n",
       "      <td>[percent, worker, see, job, impact, ai, percent, worker, could_see, jobs_impacte, ai, percent, worker, could_see, jobs_impacte, ai]</td>\n",
       "      <td>[percent, workers, could, see, jobs, impacted, ai, researchers, openai, university, pennsylvania, argued, new, research, paper, ai, could, soon, shaking, fields, following, rise, chatgpt, shockingly, intelligent, chatbotreleased, november, researchers, argued, percent, us, workforce, could, least, percent, work, tasks, affected, introduction, chatgpt, also, found, percent, workers, may, find, least, percent, duties, impacted, gpt, generalpurpose, technologies, researchers, also, found, highe...</td>\n",
       "      <td>[percent, worker, see, job, impact, ai, researcher, argue, new, research, paper, ai, soon, shake, field, follow, rise, chatgpt, shockingly, intelligent, chatbotrelease, researcher, argue, percent, least, percent, work, task, affect, introduction, chatgpt, also, find, percent, worker, find, least, percent, duty, impact, gpt, generalpurpose, technology, researcher, also, find, higherincome, job, likely, great, exposure, gpt, span, almost, industry, researcher, argue, percent, least, percent, w...</td>\n",
       "      <td>[worker, percent, ai, jobs_impacte, could_see, see, job, impact]</td>\n",
       "      <td>[task, exposure, researcher, percent, work, gpt, worker, ai, find, time]</td>\n",
       "      <td>1</td>\n",
       "    </tr>\n",
       "  </tbody>\n",
       "</table>\n",
       "</div>"
      ],
      "text/plain": [
       "           id        date   \n",
       "81573  106101  2023-03-26  \\\n",
       "\n",
       "                                                   cleaned title   \n",
       "81573  Up to 80 percent of workers could see jobs impacted by AI  \\\n",
       "\n",
       "                                                                                                                                                                                                                                                                                                                                                                                                                                                                                                              cleaned text   \n",
       "81573  Up to 80 percent of workers could see jobs impacted by AI  Researchers from OpenAI and the University of Pennsylvania argued in a new research paper that AI could soon be shaking up some fields following the rise of ChatGPT, a shockingly intelligent chatbotreleased in November.  Researchers argued that 80 percent of the US workforce could have at least 10 percent of their work tasks affected by the introduction of ChatGPT.  They also found that about 19 percent of workers may find at least 5...  \\\n",
       "\n",
       "                                                                                                                                             title_tokens   \n",
       "81573  [percent, workers, could, see, jobs, impacted, ai, percent, workers, could_see, jobs_impacted, ai, percent, workers, could_see, jobs_impacted, ai]  \\\n",
       "\n",
       "                                                                                                                          title_lemmatized   \n",
       "81573  [percent, worker, see, job, impact, ai, percent, worker, could_see, jobs_impacte, ai, percent, worker, could_see, jobs_impacte, ai]  \\\n",
       "\n",
       "                                                                                                                                                                                                                                                                                                                                                                                                                                                                                                               text_tokens   \n",
       "81573  [percent, workers, could, see, jobs, impacted, ai, researchers, openai, university, pennsylvania, argued, new, research, paper, ai, could, soon, shaking, fields, following, rise, chatgpt, shockingly, intelligent, chatbotreleased, november, researchers, argued, percent, us, workforce, could, least, percent, work, tasks, affected, introduction, chatgpt, also, found, percent, workers, may, find, least, percent, duties, impacted, gpt, generalpurpose, technologies, researchers, also, found, highe...  \\\n",
       "\n",
       "                                                                                                                                                                                                                                                                                                                                                                                                                                                                                                           text_lemmatized   \n",
       "81573  [percent, worker, see, job, impact, ai, researcher, argue, new, research, paper, ai, soon, shake, field, follow, rise, chatgpt, shockingly, intelligent, chatbotrelease, researcher, argue, percent, least, percent, work, task, affect, introduction, chatgpt, also, find, percent, worker, find, least, percent, duty, impact, gpt, generalpurpose, technology, researcher, also, find, higherincome, job, likely, great, exposure, gpt, span, almost, industry, researcher, argue, percent, least, percent, w...  \\\n",
       "\n",
       "                                                         title_keywords   \n",
       "81573  [worker, percent, ai, jobs_impacte, could_see, see, job, impact]  \\\n",
       "\n",
       "                                                                  text_keywords   \n",
       "81573  [task, exposure, researcher, percent, work, gpt, worker, ai, find, time]  \\\n",
       "\n",
       "       sentiment  \n",
       "81573          1  "
      ]
     },
     "execution_count": 14,
     "metadata": {},
     "output_type": "execute_result"
    }
   ],
   "source": [
    "# print a sample\n",
    "df_news_negative.sample(1)"
   ]
  },
  {
   "attachments": {},
   "cell_type": "markdown",
   "metadata": {},
   "source": [
    "## Topic Modeling - Zero-shot (NLI) modeling\n",
    "\n",
    "Using candidate labels from LDA model with n=18 topics"
   ]
  },
  {
   "cell_type": "code",
   "execution_count": null,
   "metadata": {},
   "outputs": [],
   "source": [
    "labels_positive = []"
   ]
  },
  {
   "cell_type": "code",
   "execution_count": null,
   "metadata": {},
   "outputs": [],
   "source": []
  },
  {
   "cell_type": "code",
   "execution_count": null,
   "metadata": {},
   "outputs": [],
   "source": [
    "labels_negative = []"
   ]
  },
  {
   "cell_type": "code",
   "execution_count": null,
   "metadata": {},
   "outputs": [],
   "source": []
  },
  {
   "attachments": {},
   "cell_type": "markdown",
   "metadata": {},
   "source": [
    "#### Check for GPU presence"
   ]
  },
  {
   "cell_type": "code",
   "execution_count": 11,
   "metadata": {},
   "outputs": [
    {
     "data": {
      "text/plain": [
       "[PhysicalDevice(name='/physical_device:CPU:0', device_type='CPU')]"
      ]
     },
     "execution_count": 11,
     "metadata": {},
     "output_type": "execute_result"
    }
   ],
   "source": [
    "#Verify we got CPU + GPU or only CPU\n",
    "tf.config.list_physical_devices()"
   ]
  },
  {
   "cell_type": "code",
   "execution_count": 12,
   "metadata": {},
   "outputs": [
    {
     "name": "stdout",
     "output_type": "stream",
     "text": [
      "/bin/bash: nvidia-smi: command not found\n"
     ]
    }
   ],
   "source": [
    "!nvidia-smi"
   ]
  },
  {
   "cell_type": "code",
   "execution_count": null,
   "metadata": {},
   "outputs": [
    {
     "data": {
      "text/plain": [
       "'2.6.4'"
      ]
     },
     "metadata": {},
     "output_type": "display_data"
    }
   ],
   "source": [
    "tf.__version__"
   ]
  },
  {
   "attachments": {},
   "cell_type": "markdown",
   "metadata": {},
   "source": [
    "### Modelling"
   ]
  },
  {
   "cell_type": "code",
   "execution_count": 13,
   "metadata": {},
   "outputs": [
    {
     "ename": "AssertionError",
     "evalue": "Torch not compiled with CUDA enabled",
     "output_type": "error",
     "traceback": [
      "\u001b[0;31m---------------------------------------------------------------------------\u001b[0m",
      "\u001b[0;31mAssertionError\u001b[0m                            Traceback (most recent call last)",
      "Cell \u001b[0;32mIn[13], line 2\u001b[0m\n\u001b[1;32m      1\u001b[0m \u001b[39m# Modeling\u001b[39;00m\n\u001b[0;32m----> 2\u001b[0m classifier \u001b[39m=\u001b[39m pipeline(task\u001b[39m=\u001b[39;49m\u001b[39m\"\u001b[39;49m\u001b[39mzero-shot-classification\u001b[39;49m\u001b[39m\"\u001b[39;49m, \n\u001b[1;32m      3\u001b[0m                       model\u001b[39m=\u001b[39;49m\u001b[39m\"\u001b[39;49m\u001b[39mfacebook/bart-large-mnli\u001b[39;49m\u001b[39m\"\u001b[39;49m, \n\u001b[1;32m      4\u001b[0m                       device\u001b[39m=\u001b[39;49m\u001b[39m0\u001b[39;49m) \u001b[39m# use GPU\u001b[39;00m\n",
      "File \u001b[0;32m/usr/local/lib/python3.11/site-packages/transformers/pipelines/__init__.py:988\u001b[0m, in \u001b[0;36mpipeline\u001b[0;34m(task, model, config, tokenizer, feature_extractor, image_processor, framework, revision, use_fast, use_auth_token, device, device_map, torch_dtype, trust_remote_code, model_kwargs, pipeline_class, **kwargs)\u001b[0m\n\u001b[1;32m    985\u001b[0m \u001b[39mif\u001b[39;00m device \u001b[39mis\u001b[39;00m \u001b[39mnot\u001b[39;00m \u001b[39mNone\u001b[39;00m:\n\u001b[1;32m    986\u001b[0m     kwargs[\u001b[39m\"\u001b[39m\u001b[39mdevice\u001b[39m\u001b[39m\"\u001b[39m] \u001b[39m=\u001b[39m device\n\u001b[0;32m--> 988\u001b[0m \u001b[39mreturn\u001b[39;00m pipeline_class(model\u001b[39m=\u001b[39;49mmodel, framework\u001b[39m=\u001b[39;49mframework, task\u001b[39m=\u001b[39;49mtask, \u001b[39m*\u001b[39;49m\u001b[39m*\u001b[39;49mkwargs)\n",
      "File \u001b[0;32m/usr/local/lib/python3.11/site-packages/transformers/pipelines/zero_shot_classification.py:88\u001b[0m, in \u001b[0;36mZeroShotClassificationPipeline.__init__\u001b[0;34m(self, args_parser, *args, **kwargs)\u001b[0m\n\u001b[1;32m     86\u001b[0m \u001b[39mdef\u001b[39;00m \u001b[39m__init__\u001b[39m(\u001b[39mself\u001b[39m, args_parser\u001b[39m=\u001b[39mZeroShotClassificationArgumentHandler(), \u001b[39m*\u001b[39margs, \u001b[39m*\u001b[39m\u001b[39m*\u001b[39mkwargs):\n\u001b[1;32m     87\u001b[0m     \u001b[39mself\u001b[39m\u001b[39m.\u001b[39m_args_parser \u001b[39m=\u001b[39m args_parser\n\u001b[0;32m---> 88\u001b[0m     \u001b[39msuper\u001b[39;49m()\u001b[39m.\u001b[39;49m\u001b[39m__init__\u001b[39;49m(\u001b[39m*\u001b[39;49margs, \u001b[39m*\u001b[39;49m\u001b[39m*\u001b[39;49mkwargs)\n\u001b[1;32m     89\u001b[0m     \u001b[39mif\u001b[39;00m \u001b[39mself\u001b[39m\u001b[39m.\u001b[39mentailment_id \u001b[39m==\u001b[39m \u001b[39m-\u001b[39m\u001b[39m1\u001b[39m:\n\u001b[1;32m     90\u001b[0m         logger\u001b[39m.\u001b[39mwarning(\n\u001b[1;32m     91\u001b[0m             \u001b[39m\"\u001b[39m\u001b[39mFailed to determine \u001b[39m\u001b[39m'\u001b[39m\u001b[39mentailment\u001b[39m\u001b[39m'\u001b[39m\u001b[39m label id from the label2id mapping in the model config. Setting to \u001b[39m\u001b[39m\"\u001b[39m\n\u001b[1;32m     92\u001b[0m             \u001b[39m\"\u001b[39m\u001b[39m-1. Define a descriptive label2id mapping in the model config to ensure correct outputs.\u001b[39m\u001b[39m\"\u001b[39m\n\u001b[1;32m     93\u001b[0m         )\n",
      "File \u001b[0;32m/usr/local/lib/python3.11/site-packages/transformers/pipelines/base.py:781\u001b[0m, in \u001b[0;36mPipeline.__init__\u001b[0;34m(self, model, tokenizer, feature_extractor, image_processor, modelcard, framework, task, args_parser, device, torch_dtype, binary_output, **kwargs)\u001b[0m\n\u001b[1;32m    778\u001b[0m \u001b[39mself\u001b[39m\u001b[39m.\u001b[39mframework \u001b[39m=\u001b[39m framework\n\u001b[1;32m    780\u001b[0m \u001b[39mif\u001b[39;00m \u001b[39mself\u001b[39m\u001b[39m.\u001b[39mframework \u001b[39m==\u001b[39m \u001b[39m\"\u001b[39m\u001b[39mpt\u001b[39m\u001b[39m\"\u001b[39m \u001b[39mand\u001b[39;00m device \u001b[39mis\u001b[39;00m \u001b[39mnot\u001b[39;00m \u001b[39mNone\u001b[39;00m \u001b[39mand\u001b[39;00m \u001b[39mnot\u001b[39;00m (\u001b[39misinstance\u001b[39m(device, \u001b[39mint\u001b[39m) \u001b[39mand\u001b[39;00m device \u001b[39m<\u001b[39m \u001b[39m0\u001b[39m):\n\u001b[0;32m--> 781\u001b[0m     \u001b[39mself\u001b[39;49m\u001b[39m.\u001b[39;49mmodel\u001b[39m.\u001b[39;49mto(device)\n\u001b[1;32m    783\u001b[0m \u001b[39mif\u001b[39;00m device \u001b[39mis\u001b[39;00m \u001b[39mNone\u001b[39;00m:\n\u001b[1;32m    784\u001b[0m     \u001b[39m# `accelerate` device map\u001b[39;00m\n\u001b[1;32m    785\u001b[0m     hf_device_map \u001b[39m=\u001b[39m \u001b[39mgetattr\u001b[39m(\u001b[39mself\u001b[39m\u001b[39m.\u001b[39mmodel, \u001b[39m\"\u001b[39m\u001b[39mhf_device_map\u001b[39m\u001b[39m\"\u001b[39m, \u001b[39mNone\u001b[39;00m)\n",
      "File \u001b[0;32m/usr/local/lib/python3.11/site-packages/transformers/modeling_utils.py:1878\u001b[0m, in \u001b[0;36mPreTrainedModel.to\u001b[0;34m(self, *args, **kwargs)\u001b[0m\n\u001b[1;32m   1873\u001b[0m     \u001b[39mraise\u001b[39;00m \u001b[39mValueError\u001b[39;00m(\n\u001b[1;32m   1874\u001b[0m         \u001b[39m\"\u001b[39m\u001b[39m`.to` is not supported for `8-bit` models. Please use the model as it is, since the\u001b[39m\u001b[39m\"\u001b[39m\n\u001b[1;32m   1875\u001b[0m         \u001b[39m\"\u001b[39m\u001b[39m model has already been set to the correct devices and casted to the correct `dtype`.\u001b[39m\u001b[39m\"\u001b[39m\n\u001b[1;32m   1876\u001b[0m     )\n\u001b[1;32m   1877\u001b[0m \u001b[39melse\u001b[39;00m:\n\u001b[0;32m-> 1878\u001b[0m     \u001b[39mreturn\u001b[39;00m \u001b[39msuper\u001b[39;49m()\u001b[39m.\u001b[39;49mto(\u001b[39m*\u001b[39;49margs, \u001b[39m*\u001b[39;49m\u001b[39m*\u001b[39;49mkwargs)\n",
      "File \u001b[0;32m/usr/local/lib/python3.11/site-packages/torch/nn/modules/module.py:1145\u001b[0m, in \u001b[0;36mModule.to\u001b[0;34m(self, *args, **kwargs)\u001b[0m\n\u001b[1;32m   1141\u001b[0m         \u001b[39mreturn\u001b[39;00m t\u001b[39m.\u001b[39mto(device, dtype \u001b[39mif\u001b[39;00m t\u001b[39m.\u001b[39mis_floating_point() \u001b[39mor\u001b[39;00m t\u001b[39m.\u001b[39mis_complex() \u001b[39melse\u001b[39;00m \u001b[39mNone\u001b[39;00m,\n\u001b[1;32m   1142\u001b[0m                     non_blocking, memory_format\u001b[39m=\u001b[39mconvert_to_format)\n\u001b[1;32m   1143\u001b[0m     \u001b[39mreturn\u001b[39;00m t\u001b[39m.\u001b[39mto(device, dtype \u001b[39mif\u001b[39;00m t\u001b[39m.\u001b[39mis_floating_point() \u001b[39mor\u001b[39;00m t\u001b[39m.\u001b[39mis_complex() \u001b[39melse\u001b[39;00m \u001b[39mNone\u001b[39;00m, non_blocking)\n\u001b[0;32m-> 1145\u001b[0m \u001b[39mreturn\u001b[39;00m \u001b[39mself\u001b[39;49m\u001b[39m.\u001b[39;49m_apply(convert)\n",
      "File \u001b[0;32m/usr/local/lib/python3.11/site-packages/torch/nn/modules/module.py:797\u001b[0m, in \u001b[0;36mModule._apply\u001b[0;34m(self, fn)\u001b[0m\n\u001b[1;32m    795\u001b[0m \u001b[39mdef\u001b[39;00m \u001b[39m_apply\u001b[39m(\u001b[39mself\u001b[39m, fn):\n\u001b[1;32m    796\u001b[0m     \u001b[39mfor\u001b[39;00m module \u001b[39min\u001b[39;00m \u001b[39mself\u001b[39m\u001b[39m.\u001b[39mchildren():\n\u001b[0;32m--> 797\u001b[0m         module\u001b[39m.\u001b[39;49m_apply(fn)\n\u001b[1;32m    799\u001b[0m     \u001b[39mdef\u001b[39;00m \u001b[39mcompute_should_use_set_data\u001b[39m(tensor, tensor_applied):\n\u001b[1;32m    800\u001b[0m         \u001b[39mif\u001b[39;00m torch\u001b[39m.\u001b[39m_has_compatible_shallow_copy_type(tensor, tensor_applied):\n\u001b[1;32m    801\u001b[0m             \u001b[39m# If the new tensor has compatible tensor type as the existing tensor,\u001b[39;00m\n\u001b[1;32m    802\u001b[0m             \u001b[39m# the current behavior is to change the tensor in-place using `.data =`,\u001b[39;00m\n\u001b[0;32m   (...)\u001b[0m\n\u001b[1;32m    807\u001b[0m             \u001b[39m# global flag to let the user control whether they want the future\u001b[39;00m\n\u001b[1;32m    808\u001b[0m             \u001b[39m# behavior of overwriting the existing tensor or not.\u001b[39;00m\n",
      "File \u001b[0;32m/usr/local/lib/python3.11/site-packages/torch/nn/modules/module.py:797\u001b[0m, in \u001b[0;36mModule._apply\u001b[0;34m(self, fn)\u001b[0m\n\u001b[1;32m    795\u001b[0m \u001b[39mdef\u001b[39;00m \u001b[39m_apply\u001b[39m(\u001b[39mself\u001b[39m, fn):\n\u001b[1;32m    796\u001b[0m     \u001b[39mfor\u001b[39;00m module \u001b[39min\u001b[39;00m \u001b[39mself\u001b[39m\u001b[39m.\u001b[39mchildren():\n\u001b[0;32m--> 797\u001b[0m         module\u001b[39m.\u001b[39;49m_apply(fn)\n\u001b[1;32m    799\u001b[0m     \u001b[39mdef\u001b[39;00m \u001b[39mcompute_should_use_set_data\u001b[39m(tensor, tensor_applied):\n\u001b[1;32m    800\u001b[0m         \u001b[39mif\u001b[39;00m torch\u001b[39m.\u001b[39m_has_compatible_shallow_copy_type(tensor, tensor_applied):\n\u001b[1;32m    801\u001b[0m             \u001b[39m# If the new tensor has compatible tensor type as the existing tensor,\u001b[39;00m\n\u001b[1;32m    802\u001b[0m             \u001b[39m# the current behavior is to change the tensor in-place using `.data =`,\u001b[39;00m\n\u001b[0;32m   (...)\u001b[0m\n\u001b[1;32m    807\u001b[0m             \u001b[39m# global flag to let the user control whether they want the future\u001b[39;00m\n\u001b[1;32m    808\u001b[0m             \u001b[39m# behavior of overwriting the existing tensor or not.\u001b[39;00m\n",
      "File \u001b[0;32m/usr/local/lib/python3.11/site-packages/torch/nn/modules/module.py:820\u001b[0m, in \u001b[0;36mModule._apply\u001b[0;34m(self, fn)\u001b[0m\n\u001b[1;32m    816\u001b[0m \u001b[39m# Tensors stored in modules are graph leaves, and we don't want to\u001b[39;00m\n\u001b[1;32m    817\u001b[0m \u001b[39m# track autograd history of `param_applied`, so we have to use\u001b[39;00m\n\u001b[1;32m    818\u001b[0m \u001b[39m# `with torch.no_grad():`\u001b[39;00m\n\u001b[1;32m    819\u001b[0m \u001b[39mwith\u001b[39;00m torch\u001b[39m.\u001b[39mno_grad():\n\u001b[0;32m--> 820\u001b[0m     param_applied \u001b[39m=\u001b[39m fn(param)\n\u001b[1;32m    821\u001b[0m should_use_set_data \u001b[39m=\u001b[39m compute_should_use_set_data(param, param_applied)\n\u001b[1;32m    822\u001b[0m \u001b[39mif\u001b[39;00m should_use_set_data:\n",
      "File \u001b[0;32m/usr/local/lib/python3.11/site-packages/torch/nn/modules/module.py:1143\u001b[0m, in \u001b[0;36mModule.to.<locals>.convert\u001b[0;34m(t)\u001b[0m\n\u001b[1;32m   1140\u001b[0m \u001b[39mif\u001b[39;00m convert_to_format \u001b[39mis\u001b[39;00m \u001b[39mnot\u001b[39;00m \u001b[39mNone\u001b[39;00m \u001b[39mand\u001b[39;00m t\u001b[39m.\u001b[39mdim() \u001b[39min\u001b[39;00m (\u001b[39m4\u001b[39m, \u001b[39m5\u001b[39m):\n\u001b[1;32m   1141\u001b[0m     \u001b[39mreturn\u001b[39;00m t\u001b[39m.\u001b[39mto(device, dtype \u001b[39mif\u001b[39;00m t\u001b[39m.\u001b[39mis_floating_point() \u001b[39mor\u001b[39;00m t\u001b[39m.\u001b[39mis_complex() \u001b[39melse\u001b[39;00m \u001b[39mNone\u001b[39;00m,\n\u001b[1;32m   1142\u001b[0m                 non_blocking, memory_format\u001b[39m=\u001b[39mconvert_to_format)\n\u001b[0;32m-> 1143\u001b[0m \u001b[39mreturn\u001b[39;00m t\u001b[39m.\u001b[39;49mto(device, dtype \u001b[39mif\u001b[39;49;00m t\u001b[39m.\u001b[39;49mis_floating_point() \u001b[39mor\u001b[39;49;00m t\u001b[39m.\u001b[39;49mis_complex() \u001b[39melse\u001b[39;49;00m \u001b[39mNone\u001b[39;49;00m, non_blocking)\n",
      "File \u001b[0;32m/usr/local/lib/python3.11/site-packages/torch/cuda/__init__.py:239\u001b[0m, in \u001b[0;36m_lazy_init\u001b[0;34m()\u001b[0m\n\u001b[1;32m    235\u001b[0m     \u001b[39mraise\u001b[39;00m \u001b[39mRuntimeError\u001b[39;00m(\n\u001b[1;32m    236\u001b[0m         \u001b[39m\"\u001b[39m\u001b[39mCannot re-initialize CUDA in forked subprocess. To use CUDA with \u001b[39m\u001b[39m\"\u001b[39m\n\u001b[1;32m    237\u001b[0m         \u001b[39m\"\u001b[39m\u001b[39mmultiprocessing, you must use the \u001b[39m\u001b[39m'\u001b[39m\u001b[39mspawn\u001b[39m\u001b[39m'\u001b[39m\u001b[39m start method\u001b[39m\u001b[39m\"\u001b[39m)\n\u001b[1;32m    238\u001b[0m \u001b[39mif\u001b[39;00m \u001b[39mnot\u001b[39;00m \u001b[39mhasattr\u001b[39m(torch\u001b[39m.\u001b[39m_C, \u001b[39m'\u001b[39m\u001b[39m_cuda_getDeviceCount\u001b[39m\u001b[39m'\u001b[39m):\n\u001b[0;32m--> 239\u001b[0m     \u001b[39mraise\u001b[39;00m \u001b[39mAssertionError\u001b[39;00m(\u001b[39m\"\u001b[39m\u001b[39mTorch not compiled with CUDA enabled\u001b[39m\u001b[39m\"\u001b[39m)\n\u001b[1;32m    240\u001b[0m \u001b[39mif\u001b[39;00m _cudart \u001b[39mis\u001b[39;00m \u001b[39mNone\u001b[39;00m:\n\u001b[1;32m    241\u001b[0m     \u001b[39mraise\u001b[39;00m \u001b[39mAssertionError\u001b[39;00m(\n\u001b[1;32m    242\u001b[0m         \u001b[39m\"\u001b[39m\u001b[39mlibcudart functions unavailable. It looks like you have a broken build?\u001b[39m\u001b[39m\"\u001b[39m)\n",
      "\u001b[0;31mAssertionError\u001b[0m: Torch not compiled with CUDA enabled"
     ]
    }
   ],
   "source": [
    "# Modeling\n",
    "classifier = pipeline(task=\"zero-shot-classification\", \n",
    "                      model=\"facebook/bart-large-mnli\",\n",
    "                      device=0)"
   ]
  },
  {
   "cell_type": "code",
   "execution_count": null,
   "metadata": {},
   "outputs": [],
   "source": []
  },
  {
   "cell_type": "code",
   "execution_count": null,
   "metadata": {},
   "outputs": [],
   "source": []
  }
 ],
 "metadata": {
  "kernelspec": {
   "display_name": "Python 3",
   "language": "python",
   "name": "python3"
  },
  "language_info": {
   "codemirror_mode": {
    "name": "ipython",
    "version": 3
   },
   "file_extension": ".py",
   "mimetype": "text/x-python",
   "name": "python",
   "nbconvert_exporter": "python",
   "pygments_lexer": "ipython3",
   "version": "3.11.3"
  },
  "orig_nbformat": 4
 },
 "nbformat": 4,
 "nbformat_minor": 2
}
