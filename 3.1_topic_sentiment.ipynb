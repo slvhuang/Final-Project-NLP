{
 "cells": [
  {
   "cell_type": "markdown",
   "metadata": {},
   "source": [
    "# MSCA 32018 Natural Language Processing and Cognitive Computing\n",
    "## Final Project - Topic Detection \n",
    "### Zero-shot (NLI) modeling based on Sentiment Analysis\n",
    "\n",
    "Shijia Huang\n",
    "\n",
    "-----"
   ]
  },
  {
   "cell_type": "code",
   "execution_count": 1,
   "metadata": {
    "tags": []
   },
   "outputs": [],
   "source": [
    "#!pip install -r requirements.txt"
   ]
  },
  {
   "cell_type": "code",
   "execution_count": 2,
   "metadata": {
    "tags": []
   },
   "outputs": [],
   "source": [
    "# Import basic libraries\n",
    "import os\n",
    "import sys\n",
    "import time\n",
    "import pandas as pd\n",
    "import numpy as np\n",
    "import seaborn as sns\n",
    "import matplotlib.pyplot as plt \n",
    "\n",
    "%matplotlib inline"
   ]
  },
  {
   "cell_type": "code",
   "execution_count": 3,
   "metadata": {
    "tags": []
   },
   "outputs": [],
   "source": [
    "import warnings\n",
    "warnings.filterwarnings('ignore')\n",
    "pd.set_option('display.max_rows', 100)\n",
    "pd.set_option('display.max_columns', None)\n",
    "pd.set_option('display.max_colwidth', 500)"
   ]
  },
  {
   "cell_type": "code",
   "execution_count": 4,
   "metadata": {
    "tags": []
   },
   "outputs": [
    {
     "name": "stderr",
     "output_type": "stream",
     "text": [
      "2023-05-20 00:50:42.664105: W tensorflow/compiler/xla/stream_executor/platform/default/dso_loader.cc:64] Could not load dynamic library 'libnvinfer.so.7'; dlerror: libnvinfer.so.7: cannot open shared object file: No such file or directory; LD_LIBRARY_PATH: /usr/local/nvidia/lib:/usr/local/nvidia/lib64\n",
      "2023-05-20 00:50:42.665073: W tensorflow/compiler/xla/stream_executor/platform/default/dso_loader.cc:64] Could not load dynamic library 'libnvinfer_plugin.so.7'; dlerror: libnvinfer_plugin.so.7: cannot open shared object file: No such file or directory; LD_LIBRARY_PATH: /usr/local/nvidia/lib:/usr/local/nvidia/lib64\n",
      "2023-05-20 00:50:42.665082: W tensorflow/compiler/tf2tensorrt/utils/py_utils.cc:38] TF-TRT Warning: Cannot dlopen some TensorRT libraries. If you would like to use Nvidia GPU with TensorRT, please make sure the missing libraries mentioned above are installed properly.\n"
     ]
    },
    {
     "name": "stdout",
     "output_type": "stream",
     "text": [
      "3.5.3\n"
     ]
    }
   ],
   "source": [
    "# Import NLP libraries\n",
    "import re\n",
    "import nltk\n",
    "from nltk.corpus import stopwords\n",
    "from nltk.stem import WordNetLemmatizer\n",
    "from nltk.tokenize import word_tokenize\n",
    "from sklearn.feature_extraction.text import CountVectorizer, TfidfVectorizer\n",
    "\n",
    "from pprint import pprint\n",
    "import string\n",
    "from rake_nltk import Rake\n",
    "\n",
    "import spacy\n",
    "from spacy import displacy\n",
    "from spacy.util import minibatch, compounding\n",
    "spacy.prefer_gpu()\n",
    "print(spacy.__version__)\n",
    "\n",
    "import gensim\n",
    "from gensim import corpora, models\n",
    "from gensim.utils import simple_preprocess\n",
    "from gensim.models.ldamulticore import LdaMulticore\n",
    "from gensim.models import CoherenceModel\n",
    "\n",
    "import pyLDAvis\n",
    "import pyLDAvis.gensim as gensimvis\n",
    "#import pyLDAvis.gensim_models as gensimvis\n",
    "pyLDAvis.enable_notebook()\n",
    "\n",
    "import tensorflow as tf\n",
    "from transformers import pipeline"
   ]
  },
  {
   "cell_type": "code",
   "execution_count": 5,
   "metadata": {
    "tags": []
   },
   "outputs": [
    {
     "name": "stdout",
     "output_type": "stream",
     "text": [
      "Available CPUs: 4\n"
     ]
    }
   ],
   "source": [
    "import multiprocessing as mp\n",
    "\n",
    "num_processors = mp.cpu_count()\n",
    "print(f'Available CPUs: {num_processors}')"
   ]
  },
  {
   "cell_type": "markdown",
   "metadata": {},
   "source": [
    "### Read New Articles with Sentiment Score"
   ]
  },
  {
   "cell_type": "code",
   "execution_count": 7,
   "metadata": {
    "tags": []
   },
   "outputs": [
    {
     "name": "stdout",
     "output_type": "stream",
     "text": [
      "CPU times: user 1min 7s, sys: 10.8 s, total: 1min 18s\n",
      "Wall time: 1min 8s\n"
     ]
    },
    {
     "data": {
      "text/plain": [
       "(154283, 11)"
      ]
     },
     "execution_count": 7,
     "metadata": {},
     "output_type": "execute_result"
    }
   ],
   "source": [
    "%%time\n",
    "\n",
    "# GCP version\n",
    "#path = \"gs://nlp-final-project-data/data/\"\n",
    "#df_news = pd.read_parquet(path + 'news_sentiment.parquet', engine='pyarrow')\n",
    "\n",
    "# Sagemaker version\n",
    "df_news = pd.read_parquet('data_news_sentiment.parquet', engine='pyarrow')\n",
    "df_news.shape"
   ]
  },
  {
   "cell_type": "code",
   "execution_count": 8,
   "metadata": {
    "tags": []
   },
   "outputs": [
    {
     "name": "stdout",
     "output_type": "stream",
     "text": [
      "<class 'pandas.core.frame.DataFrame'>\n",
      "RangeIndex: 154283 entries, 0 to 154282\n",
      "Data columns (total 11 columns):\n",
      " #   Column            Non-Null Count   Dtype \n",
      "---  ------            --------------   ----- \n",
      " 0   id                154283 non-null  int64 \n",
      " 1   date              154283 non-null  object\n",
      " 2   cleaned title     154283 non-null  object\n",
      " 3   cleaned text      154283 non-null  object\n",
      " 4   title_tokens      154283 non-null  object\n",
      " 5   title_lemmatized  154283 non-null  object\n",
      " 6   text_tokens       154283 non-null  object\n",
      " 7   text_lemmatized   154283 non-null  object\n",
      " 8   title_keywords    154283 non-null  object\n",
      " 9   text_keywords     154283 non-null  object\n",
      " 10  sentiment         154283 non-null  int64 \n",
      "dtypes: int64(2), object(9)\n",
      "memory usage: 12.9+ MB\n"
     ]
    }
   ],
   "source": [
    "df_news.info()"
   ]
  },
  {
   "cell_type": "code",
   "execution_count": 9,
   "metadata": {
    "tags": []
   },
   "outputs": [
    {
     "data": {
      "text/html": [
       "<div>\n",
       "<style scoped>\n",
       "    .dataframe tbody tr th:only-of-type {\n",
       "        vertical-align: middle;\n",
       "    }\n",
       "\n",
       "    .dataframe tbody tr th {\n",
       "        vertical-align: top;\n",
       "    }\n",
       "\n",
       "    .dataframe thead th {\n",
       "        text-align: right;\n",
       "    }\n",
       "</style>\n",
       "<table border=\"1\" class=\"dataframe\">\n",
       "  <thead>\n",
       "    <tr style=\"text-align: right;\">\n",
       "      <th></th>\n",
       "      <th>id</th>\n",
       "      <th>date</th>\n",
       "      <th>cleaned title</th>\n",
       "      <th>cleaned text</th>\n",
       "      <th>title_tokens</th>\n",
       "      <th>title_lemmatized</th>\n",
       "      <th>text_tokens</th>\n",
       "      <th>text_lemmatized</th>\n",
       "      <th>title_keywords</th>\n",
       "      <th>text_keywords</th>\n",
       "      <th>sentiment</th>\n",
       "    </tr>\n",
       "  </thead>\n",
       "  <tbody>\n",
       "    <tr>\n",
       "      <th>0</th>\n",
       "      <td>1</td>\n",
       "      <td>2020-02-27</td>\n",
       "      <td>Children With Autism Saw Their Learning and Social Skills Boosted After Playing With This AI Robot</td>\n",
       "      <td>Children With Autism Saw Their Learning and Social Skills Boosted After Playing With This AI Robot admin  Latest posts by admin see all  Mansplaining in conferences: How can we get him to forestall  February 27, 2020 Coronavirus Could Explode in the U.S. Overnight Like it Did in Italy  February 27, 2020 Levi Strauss marks the next phase in corporate paid leave policies  February 27, 2020 Scientists who designed an artificially clever robotic that helped youngsters with autism spice up their ...</td>\n",
       "      <td>[children, autism, saw, learning, social, skills, boosted, playing, ai, robot, children, autism, saw, learning, social, skills, boosted, playing, ai, robot, children, autism, saw, learning, social, skills, boosted, playing, ai_robot]</td>\n",
       "      <td>[child, autism, see, learn, social, skill, boost, play, robot, child, autism, see, learn, social, skill, boost, play, robot, child, autism, see, learn, social, skill, boost, play, ai_robot]</td>\n",
       "      <td>[children, autism, saw, learning, social, skills, boosted, playing, ai, robot, admin, latest, posts, admin, see, mansplaining, conferences, get, forestall, february, coronavirus, could, explode, overnight, like, italy, february, levi, strauss, marks, next, phase, corporate, paid, leave, policies, february, scientists, designed, artificially, clever, robotic, helped, youngsters, autism, spice, studying, social, talents, hope, era, may, future, help, others, developmental, dysfunction, learn, ...</td>\n",
       "      <td>[child, autism, see, learn, social, skill, boost, play, robot, late, post, admin, see, mansplaining, conference, get, explode, overnight, mark, next, phase, corporate, pay, leave, policy, scientist, design, artificially, clever, robotic, help, youngster, autism, spice, study, social, talent, era, future, help, other, developmental, dysfunction, learn, notice, youngster, gentle, average, autism, take, domestic, s, refer, socially, assistive, robotic, name, kiwi, month, accord, commentary, way...</td>\n",
       "      <td>[social, skill, see, play, learn, child, boost, autism, robot, ai_robot]</td>\n",
       "      <td>[robotic, youngster, kid, child, kiwi, market, autism, learn, crew, talent]</td>\n",
       "      <td>5</td>\n",
       "    </tr>\n",
       "    <tr>\n",
       "      <th>1</th>\n",
       "      <td>2</td>\n",
       "      <td>2021-03-26</td>\n",
       "      <td>Forget ML, AI and Industry 4.0 – obsolescence should be your focus</td>\n",
       "      <td>Forget ML, AI and Industry 4.0  obsolescence should be your focus The world entered a new era of accelerated transformation in the last eighteen months that will continue to evolve and press forward for years to come. Most businesses are playing catchup trying to make sense of a new timeline where the ten years that had been set aside for careful planning and implementation of what was coming up next no longer exists. The next is happening now and, regardless of your industry or seniority, t...</td>\n",
       "      <td>[forget, ml, ai, industry, obsolescence, focus, forget, ml, ai, industry, obsolescence, focus, forget, ml, ai, industry, obsolescence, focus]</td>\n",
       "      <td>[forget, ml, ai, industry, obsolescence, focus, forget, ml, ai, industry, obsolescence, focus, forget, ml, ai, industry, obsolescence, focus]</td>\n",
       "      <td>[forget, ml, ai, industry, obsolescence, focus, world, entered, new, era, accelerated, transformation, last, eighteen, months, continue, evolve, press, forward, years, come, businesses, playing, catchup, trying, make, sense, new, timeline, ten, years, set, aside, careful, planning, implementation, coming, next, longer, exists, next, happening, regardless, industry, seniority, status, quo, shifted, better, face, back, invited, attend, pompous, meeting, london, brazilian, embassy, along, selec...</td>\n",
       "      <td>[forget, ai, industry, obsolescence, focus, world, enter, new, era, accelerate, transformation, last, month, continue, evolve, press, forward, year, come, business, play, catchup, try, make, sense, new, timeline, year, set, aside, careful, planning, implementation, come, next, long, exist, next, happen, regardless, industry, seniority, status, quo, shift, well, face, back, invite, attend, pompous, meeting, brazilian, embassy, select, lead, name, oil, energy, industry, get, update, go, happen...</td>\n",
       "      <td>[obsolescence, ml, industry, forget, focus, ai]</td>\n",
       "      <td>[electronic, come, card, industry, repair, new, system, require, test, business]</td>\n",
       "      <td>4</td>\n",
       "    </tr>\n",
       "  </tbody>\n",
       "</table>\n",
       "</div>"
      ],
      "text/plain": [
       "   id        date   \n",
       "0   1  2020-02-27  \\\n",
       "1   2  2021-03-26   \n",
       "\n",
       "                                                                                        cleaned title   \n",
       "0  Children With Autism Saw Their Learning and Social Skills Boosted After Playing With This AI Robot  \\\n",
       "1                                  Forget ML, AI and Industry 4.0 – obsolescence should be your focus   \n",
       "\n",
       "                                                                                                                                                                                                                                                                                                                                                                                                                                                                                                          cleaned text   \n",
       "0  Children With Autism Saw Their Learning and Social Skills Boosted After Playing With This AI Robot admin  Latest posts by admin see all  Mansplaining in conferences: How can we get him to forestall  February 27, 2020 Coronavirus Could Explode in the U.S. Overnight Like it Did in Italy  February 27, 2020 Levi Strauss marks the next phase in corporate paid leave policies  February 27, 2020 Scientists who designed an artificially clever robotic that helped youngsters with autism spice up their ...  \\\n",
       "1  Forget ML, AI and Industry 4.0  obsolescence should be your focus The world entered a new era of accelerated transformation in the last eighteen months that will continue to evolve and press forward for years to come. Most businesses are playing catchup trying to make sense of a new timeline where the ten years that had been set aside for careful planning and implementation of what was coming up next no longer exists. The next is happening now and, regardless of your industry or seniority, t...   \n",
       "\n",
       "                                                                                                                                                                                                                                title_tokens   \n",
       "0  [children, autism, saw, learning, social, skills, boosted, playing, ai, robot, children, autism, saw, learning, social, skills, boosted, playing, ai, robot, children, autism, saw, learning, social, skills, boosted, playing, ai_robot]  \\\n",
       "1                                                                                              [forget, ml, ai, industry, obsolescence, focus, forget, ml, ai, industry, obsolescence, focus, forget, ml, ai, industry, obsolescence, focus]   \n",
       "\n",
       "                                                                                                                                                                                title_lemmatized   \n",
       "0  [child, autism, see, learn, social, skill, boost, play, robot, child, autism, see, learn, social, skill, boost, play, robot, child, autism, see, learn, social, skill, boost, play, ai_robot]  \\\n",
       "1                                                  [forget, ml, ai, industry, obsolescence, focus, forget, ml, ai, industry, obsolescence, focus, forget, ml, ai, industry, obsolescence, focus]   \n",
       "\n",
       "                                                                                                                                                                                                                                                                                                                                                                                                                                                                                                           text_tokens   \n",
       "0  [children, autism, saw, learning, social, skills, boosted, playing, ai, robot, admin, latest, posts, admin, see, mansplaining, conferences, get, forestall, february, coronavirus, could, explode, overnight, like, italy, february, levi, strauss, marks, next, phase, corporate, paid, leave, policies, february, scientists, designed, artificially, clever, robotic, helped, youngsters, autism, spice, studying, social, talents, hope, era, may, future, help, others, developmental, dysfunction, learn, ...  \\\n",
       "1  [forget, ml, ai, industry, obsolescence, focus, world, entered, new, era, accelerated, transformation, last, eighteen, months, continue, evolve, press, forward, years, come, businesses, playing, catchup, trying, make, sense, new, timeline, ten, years, set, aside, careful, planning, implementation, coming, next, longer, exists, next, happening, regardless, industry, seniority, status, quo, shifted, better, face, back, invited, attend, pompous, meeting, london, brazilian, embassy, along, selec...   \n",
       "\n",
       "                                                                                                                                                                                                                                                                                                                                                                                                                                                                                                       text_lemmatized   \n",
       "0  [child, autism, see, learn, social, skill, boost, play, robot, late, post, admin, see, mansplaining, conference, get, explode, overnight, mark, next, phase, corporate, pay, leave, policy, scientist, design, artificially, clever, robotic, help, youngster, autism, spice, study, social, talent, era, future, help, other, developmental, dysfunction, learn, notice, youngster, gentle, average, autism, take, domestic, s, refer, socially, assistive, robotic, name, kiwi, month, accord, commentary, way...  \\\n",
       "1  [forget, ai, industry, obsolescence, focus, world, enter, new, era, accelerate, transformation, last, month, continue, evolve, press, forward, year, come, business, play, catchup, try, make, sense, new, timeline, year, set, aside, careful, planning, implementation, come, next, long, exist, next, happen, regardless, industry, seniority, status, quo, shift, well, face, back, invite, attend, pompous, meeting, brazilian, embassy, select, lead, name, oil, energy, industry, get, update, go, happen...   \n",
       "\n",
       "                                                             title_keywords   \n",
       "0  [social, skill, see, play, learn, child, boost, autism, robot, ai_robot]  \\\n",
       "1                           [obsolescence, ml, industry, forget, focus, ai]   \n",
       "\n",
       "                                                                      text_keywords   \n",
       "0       [robotic, youngster, kid, child, kiwi, market, autism, learn, crew, talent]  \\\n",
       "1  [electronic, come, card, industry, repair, new, system, require, test, business]   \n",
       "\n",
       "   sentiment  \n",
       "0          5  \n",
       "1          4  "
      ]
     },
     "execution_count": 9,
     "metadata": {},
     "output_type": "execute_result"
    }
   ],
   "source": [
    "df_news.head(2)"
   ]
  },
  {
   "cell_type": "code",
   "execution_count": 10,
   "metadata": {
    "tags": []
   },
   "outputs": [
    {
     "data": {
      "text/plain": [
       "(154283, 11)"
      ]
     },
     "execution_count": 10,
     "metadata": {},
     "output_type": "execute_result"
    }
   ],
   "source": [
    "### SAMPLE DATA\n",
    "# df_news = df_news.sample(frac=0.01, random_state=42)\n",
    "df_news.shape"
   ]
  },
  {
   "cell_type": "markdown",
   "metadata": {},
   "source": [
    "# Select articles with positive and negative sentiment scores\n",
    "\n",
    "- Positive: sentiment score > 3\n",
    "- Negative: sentiment score < 3"
   ]
  },
  {
   "cell_type": "code",
   "execution_count": 11,
   "metadata": {
    "tags": []
   },
   "outputs": [
    {
     "data": {
      "text/plain": [
       "(104228, 11)"
      ]
     },
     "execution_count": 11,
     "metadata": {},
     "output_type": "execute_result"
    }
   ],
   "source": [
    "# select positive sentiment articles\n",
    "df_news_positive = df_news[df_news['sentiment'] > 3].reset_index(drop=True)\n",
    "df_news_positive.shape"
   ]
  },
  {
   "cell_type": "code",
   "execution_count": 12,
   "metadata": {
    "tags": []
   },
   "outputs": [
    {
     "data": {
      "text/html": [
       "<div>\n",
       "<style scoped>\n",
       "    .dataframe tbody tr th:only-of-type {\n",
       "        vertical-align: middle;\n",
       "    }\n",
       "\n",
       "    .dataframe tbody tr th {\n",
       "        vertical-align: top;\n",
       "    }\n",
       "\n",
       "    .dataframe thead th {\n",
       "        text-align: right;\n",
       "    }\n",
       "</style>\n",
       "<table border=\"1\" class=\"dataframe\">\n",
       "  <thead>\n",
       "    <tr style=\"text-align: right;\">\n",
       "      <th></th>\n",
       "      <th>id</th>\n",
       "      <th>date</th>\n",
       "      <th>cleaned title</th>\n",
       "      <th>cleaned text</th>\n",
       "      <th>title_tokens</th>\n",
       "      <th>title_lemmatized</th>\n",
       "      <th>text_tokens</th>\n",
       "      <th>text_lemmatized</th>\n",
       "      <th>title_keywords</th>\n",
       "      <th>text_keywords</th>\n",
       "      <th>sentiment</th>\n",
       "    </tr>\n",
       "  </thead>\n",
       "  <tbody>\n",
       "    <tr>\n",
       "      <th>44619</th>\n",
       "      <td>85850</td>\n",
       "      <td>2021-10-14</td>\n",
       "      <td>Aicadium and SambaNova join forces to bring innovative end-to-end hardware and software AI solution to Singapore</td>\n",
       "      <td>Aicadium and SambaNova join forces to bring innovative endtoend hardware and software AI solution to SingaporePartnership accelerates access to industry impacting AI capabilities for organisations in the ASEAN region and beyond.Published: Oct. 13, 2021 at 7:16 PM CDTUpdated: 1 hour agoSINGAPOREand PALO ALTO, Calif., Oct. 13, 2021 PRNewswire  Aicadium, a global technology company founded by Temasek dedicated to creating and scaling AI solutions, and SambaNova, the company building the industr...</td>\n",
       "      <td>[aicadium, sambanova, join, forces, bring, innovative, endtoend, hardware, software, ai, solution, singapore, aicadium, sambanova_join, forces, bring_innovative, endtoend_hardware, software, ai, solution, singapore, aicadium, sambanova_join, forces, bring_innovative_endtoend_hardware, software, ai_solution, singapore]</td>\n",
       "      <td>[aicadium, sambanova, join, force, bring, innovative, endtoend, hardware, software, ai, solution, singapore, aicadium, sambanova_join, force, software, ai, solution, singapore, aicadium, sambanova_join, force, bring_innovative_endtoend_hardware, software, ai_solution, singapore]</td>\n",
       "      <td>[aicadium, sambanova, join, forces, bring, innovative, endtoend, hardware, software, ai, solution, accelerates, access, industry, impacting, ai, capabilities, organisations, asean, region, beyond, published, oct, pm, cdtupdated, hour, agosingaporeand, palo, alto, calif, oct, prnewswire, aicadium, global, technology, company, founded, temasek, dedicated, creating, scaling, ai, solutions, sambanova, company, building, industrys, advanced, software, hardware, services, run, ai, applications, to...</td>\n",
       "      <td>[join, force, bring, innovative, endtoend, hardware, software, solution, accelerate, access, industry, impacting, ai, capability, organisation, region, publish, pm, cdtupdate, hour, aicadium, global, technology, company, found, temasek, dedicated, create, scaling, ai, solution, build, advanced, software, hardware, service, run, ai, application, today, announce, partnership, bring, advance, hardware, conjunction, aicadium, ai, platform, solution, available, company, singapore, seek, deploy, m...</td>\n",
       "      <td>[software, singapore, force, aicadium, solution, sambanova_join, ai, sambanova, join, innovative]</td>\n",
       "      <td>[ai, solution, company, aicadium, system, platform, organisation, global, build, industry]</td>\n",
       "      <td>4</td>\n",
       "    </tr>\n",
       "  </tbody>\n",
       "</table>\n",
       "</div>"
      ],
      "text/plain": [
       "          id        date   \n",
       "44619  85850  2021-10-14  \\\n",
       "\n",
       "                                                                                                          cleaned title   \n",
       "44619  Aicadium and SambaNova join forces to bring innovative end-to-end hardware and software AI solution to Singapore  \\\n",
       "\n",
       "                                                                                                                                                                                                                                                                                                                                                                                                                                                                                                              cleaned text   \n",
       "44619  Aicadium and SambaNova join forces to bring innovative endtoend hardware and software AI solution to SingaporePartnership accelerates access to industry impacting AI capabilities for organisations in the ASEAN region and beyond.Published: Oct. 13, 2021 at 7:16 PM CDTUpdated: 1 hour agoSINGAPOREand PALO ALTO, Calif., Oct. 13, 2021 PRNewswire  Aicadium, a global technology company founded by Temasek dedicated to creating and scaling AI solutions, and SambaNova, the company building the industr...  \\\n",
       "\n",
       "                                                                                                                                                                                                                                                                                                                          title_tokens   \n",
       "44619  [aicadium, sambanova, join, forces, bring, innovative, endtoend, hardware, software, ai, solution, singapore, aicadium, sambanova_join, forces, bring_innovative, endtoend_hardware, software, ai, solution, singapore, aicadium, sambanova_join, forces, bring_innovative_endtoend_hardware, software, ai_solution, singapore]  \\\n",
       "\n",
       "                                                                                                                                                                                                                                                                              title_lemmatized   \n",
       "44619  [aicadium, sambanova, join, force, bring, innovative, endtoend, hardware, software, ai, solution, singapore, aicadium, sambanova_join, force, software, ai, solution, singapore, aicadium, sambanova_join, force, bring_innovative_endtoend_hardware, software, ai_solution, singapore]  \\\n",
       "\n",
       "                                                                                                                                                                                                                                                                                                                                                                                                                                                                                                               text_tokens   \n",
       "44619  [aicadium, sambanova, join, forces, bring, innovative, endtoend, hardware, software, ai, solution, accelerates, access, industry, impacting, ai, capabilities, organisations, asean, region, beyond, published, oct, pm, cdtupdated, hour, agosingaporeand, palo, alto, calif, oct, prnewswire, aicadium, global, technology, company, founded, temasek, dedicated, creating, scaling, ai, solutions, sambanova, company, building, industrys, advanced, software, hardware, services, run, ai, applications, to...  \\\n",
       "\n",
       "                                                                                                                                                                                                                                                                                                                                                                                                                                                                                                           text_lemmatized   \n",
       "44619  [join, force, bring, innovative, endtoend, hardware, software, solution, accelerate, access, industry, impacting, ai, capability, organisation, region, publish, pm, cdtupdate, hour, aicadium, global, technology, company, found, temasek, dedicated, create, scaling, ai, solution, build, advanced, software, hardware, service, run, ai, application, today, announce, partnership, bring, advance, hardware, conjunction, aicadium, ai, platform, solution, available, company, singapore, seek, deploy, m...  \\\n",
       "\n",
       "                                                                                          title_keywords   \n",
       "44619  [software, singapore, force, aicadium, solution, sambanova_join, ai, sambanova, join, innovative]  \\\n",
       "\n",
       "                                                                                    text_keywords   \n",
       "44619  [ai, solution, company, aicadium, system, platform, organisation, global, build, industry]  \\\n",
       "\n",
       "       sentiment  \n",
       "44619          4  "
      ]
     },
     "execution_count": 12,
     "metadata": {},
     "output_type": "execute_result"
    }
   ],
   "source": [
    "# print a sample\n",
    "df_news_positive.sample(1)"
   ]
  },
  {
   "cell_type": "code",
   "execution_count": 13,
   "metadata": {
    "tags": []
   },
   "outputs": [
    {
     "data": {
      "text/plain": [
       "(14932, 11)"
      ]
     },
     "execution_count": 13,
     "metadata": {},
     "output_type": "execute_result"
    }
   ],
   "source": [
    "# select negative sentiment articles\n",
    "df_news_negative = df_news[df_news['sentiment'] < 3].reset_index(drop=True)\n",
    "df_news_negative.shape"
   ]
  },
  {
   "cell_type": "code",
   "execution_count": 14,
   "metadata": {
    "tags": []
   },
   "outputs": [
    {
     "data": {
      "text/html": [
       "<div>\n",
       "<style scoped>\n",
       "    .dataframe tbody tr th:only-of-type {\n",
       "        vertical-align: middle;\n",
       "    }\n",
       "\n",
       "    .dataframe tbody tr th {\n",
       "        vertical-align: top;\n",
       "    }\n",
       "\n",
       "    .dataframe thead th {\n",
       "        text-align: right;\n",
       "    }\n",
       "</style>\n",
       "<table border=\"1\" class=\"dataframe\">\n",
       "  <thead>\n",
       "    <tr style=\"text-align: right;\">\n",
       "      <th></th>\n",
       "      <th>id</th>\n",
       "      <th>date</th>\n",
       "      <th>cleaned title</th>\n",
       "      <th>cleaned text</th>\n",
       "      <th>title_tokens</th>\n",
       "      <th>title_lemmatized</th>\n",
       "      <th>text_tokens</th>\n",
       "      <th>text_lemmatized</th>\n",
       "      <th>title_keywords</th>\n",
       "      <th>text_keywords</th>\n",
       "      <th>sentiment</th>\n",
       "    </tr>\n",
       "  </thead>\n",
       "  <tbody>\n",
       "    <tr>\n",
       "      <th>4053</th>\n",
       "      <td>54722</td>\n",
       "      <td>2023-03-29</td>\n",
       "      <td>‘Out of control’ AI is a threat to civilisation, warns Elon Musk</td>\n",
       "      <td>Out of control AI is a threat to civilisation, warns Elon MuskRead full articleGareth CorfieldMarch 29, 2023, 5:33 a.m.2 min readElon Musk gestures as he speaks during a press conference  JIM WATSONAFP via Getty ImagesElon Musk has warned that out of control development of artificial intelligence AI could pose profound risks to society and humanity.The Tesla chief and thousands of other academics and tech industry figures have signed an open letter demanding that all AI labs... immediately p...</td>\n",
       "      <td>[control, ai, threat, civilisation, warns, elon, musk, control, ai, threat, civilisation, warns, elon_musk, control, ai_threat, civilisation, warns, elon_musk]</td>\n",
       "      <td>[control, ai, threat, civilisation, warn, elon, musk, control, ai, threat, civilisation, warn, elon_musk, control, ai_threat, civilisation, warn, elon_musk]</td>\n",
       "      <td>[control, ai, threat, civilisation, warns, elon, muskread, full, articlegareth, corfieldmarch, min, readelon, musk, gestures, speaks, press, conference, jim, watsonafp, via, getty, imageselon, musk, warned, control, development, artificial, intelligence, ai, could, pose, profound, risks, society, humanity, tesla, chief, thousands, academics, tech, industry, figures, signed, open, letter, demanding, ai, labs, immediately, pause, work, advancing, ai, called, governments, temporarily, ban, rese...</td>\n",
       "      <td>[ai, threat, civilisation, warn, muskread, full, articlegareth, corfieldmarch, min, readelon, musk, gesture, speak, press, getty, imageselon, warn, artificial, intelligence, ai, pose, profound, risk, society, humanity, tesla, chief, thousand, academic, tech, industry, figure, sign, open, letter, demand, ai, immediately, pause, work, advance, ai, call, government, temporarily, ban, research, signatory, include, apple, cofounder, doomsday, alarm, recent, rapid, advance, ai, development, unelec...</td>\n",
       "      <td>[warn, control, civilisation, threat, elon_musk, ai, musk, elon, ai_threat]</td>\n",
       "      <td>[ai, say, new, water, space, government, take, discover, find, hour]</td>\n",
       "      <td>2</td>\n",
       "    </tr>\n",
       "  </tbody>\n",
       "</table>\n",
       "</div>"
      ],
      "text/plain": [
       "         id        date   \n",
       "4053  54722  2023-03-29  \\\n",
       "\n",
       "                                                         cleaned title   \n",
       "4053  ‘Out of control’ AI is a threat to civilisation, warns Elon Musk  \\\n",
       "\n",
       "                                                                                                                                                                                                                                                                                                                                                                                                                                                                                                             cleaned text   \n",
       "4053  Out of control AI is a threat to civilisation, warns Elon MuskRead full articleGareth CorfieldMarch 29, 2023, 5:33 a.m.2 min readElon Musk gestures as he speaks during a press conference  JIM WATSONAFP via Getty ImagesElon Musk has warned that out of control development of artificial intelligence AI could pose profound risks to society and humanity.The Tesla chief and thousands of other academics and tech industry figures have signed an open letter demanding that all AI labs... immediately p...  \\\n",
       "\n",
       "                                                                                                                                                         title_tokens   \n",
       "4053  [control, ai, threat, civilisation, warns, elon, musk, control, ai, threat, civilisation, warns, elon_musk, control, ai_threat, civilisation, warns, elon_musk]  \\\n",
       "\n",
       "                                                                                                                                                  title_lemmatized   \n",
       "4053  [control, ai, threat, civilisation, warn, elon, musk, control, ai, threat, civilisation, warn, elon_musk, control, ai_threat, civilisation, warn, elon_musk]  \\\n",
       "\n",
       "                                                                                                                                                                                                                                                                                                                                                                                                                                                                                                              text_tokens   \n",
       "4053  [control, ai, threat, civilisation, warns, elon, muskread, full, articlegareth, corfieldmarch, min, readelon, musk, gestures, speaks, press, conference, jim, watsonafp, via, getty, imageselon, musk, warned, control, development, artificial, intelligence, ai, could, pose, profound, risks, society, humanity, tesla, chief, thousands, academics, tech, industry, figures, signed, open, letter, demanding, ai, labs, immediately, pause, work, advancing, ai, called, governments, temporarily, ban, rese...  \\\n",
       "\n",
       "                                                                                                                                                                                                                                                                                                                                                                                                                                                                                                          text_lemmatized   \n",
       "4053  [ai, threat, civilisation, warn, muskread, full, articlegareth, corfieldmarch, min, readelon, musk, gesture, speak, press, getty, imageselon, warn, artificial, intelligence, ai, pose, profound, risk, society, humanity, tesla, chief, thousand, academic, tech, industry, figure, sign, open, letter, demand, ai, immediately, pause, work, advance, ai, call, government, temporarily, ban, research, signatory, include, apple, cofounder, doomsday, alarm, recent, rapid, advance, ai, development, unelec...  \\\n",
       "\n",
       "                                                                   title_keywords   \n",
       "4053  [warn, control, civilisation, threat, elon_musk, ai, musk, elon, ai_threat]  \\\n",
       "\n",
       "                                                             text_keywords   \n",
       "4053  [ai, say, new, water, space, government, take, discover, find, hour]  \\\n",
       "\n",
       "      sentiment  \n",
       "4053          2  "
      ]
     },
     "execution_count": 14,
     "metadata": {},
     "output_type": "execute_result"
    }
   ],
   "source": [
    "# print a sample\n",
    "df_news_negative.sample(1)"
   ]
  },
  {
   "cell_type": "markdown",
   "metadata": {},
   "source": [
    "## Topic Modeling - Zero-shot (NLI) modeling\n",
    "\n",
    "Using candidate labels from LDA model with n=18 topics"
   ]
  },
  {
   "cell_type": "markdown",
   "metadata": {},
   "source": [
    "#### Check for GPU presence"
   ]
  },
  {
   "cell_type": "code",
   "execution_count": 15,
   "metadata": {
    "tags": []
   },
   "outputs": [
    {
     "data": {
      "text/plain": [
       "[PhysicalDevice(name='/physical_device:CPU:0', device_type='CPU'),\n",
       " PhysicalDevice(name='/physical_device:GPU:0', device_type='GPU')]"
      ]
     },
     "execution_count": 15,
     "metadata": {},
     "output_type": "execute_result"
    }
   ],
   "source": [
    "#Verify we got CPU + GPU or only CPU\n",
    "tf.config.list_physical_devices()"
   ]
  },
  {
   "cell_type": "code",
   "execution_count": 16,
   "metadata": {
    "tags": []
   },
   "outputs": [
    {
     "name": "stdout",
     "output_type": "stream",
     "text": [
      "Sat May 20 00:52:10 2023       \n",
      "+-----------------------------------------------------------------------------+\n",
      "| NVIDIA-SMI 470.57.02    Driver Version: 470.57.02    CUDA Version: 11.4     |\n",
      "|-------------------------------+----------------------+----------------------+\n",
      "| GPU  Name        Persistence-M| Bus-Id        Disp.A | Volatile Uncorr. ECC |\n",
      "| Fan  Temp  Perf  Pwr:Usage/Cap|         Memory-Usage | GPU-Util  Compute M. |\n",
      "|                               |                      |               MIG M. |\n",
      "|===============================+======================+======================|\n",
      "|   0  Tesla T4            Off  | 00000000:00:1E.0 Off |                    0 |\n",
      "| N/A   31C    P8     9W /  70W |      3MiB / 15109MiB |      0%      Default |\n",
      "|                               |                      |                  N/A |\n",
      "+-------------------------------+----------------------+----------------------+\n",
      "                                                                               \n",
      "+-----------------------------------------------------------------------------+\n",
      "| Processes:                                                                  |\n",
      "|  GPU   GI   CI        PID   Type   Process name                  GPU Memory |\n",
      "|        ID   ID                                                   Usage      |\n",
      "|=============================================================================|\n",
      "|  No running processes found                                                 |\n",
      "+-----------------------------------------------------------------------------+\n"
     ]
    }
   ],
   "source": [
    "!nvidia-smi"
   ]
  },
  {
   "cell_type": "code",
   "execution_count": 17,
   "metadata": {
    "tags": []
   },
   "outputs": [
    {
     "data": {
      "text/plain": [
       "'2.11.1'"
      ]
     },
     "execution_count": 17,
     "metadata": {},
     "output_type": "execute_result"
    }
   ],
   "source": [
    "tf.__version__"
   ]
  },
  {
   "cell_type": "code",
   "execution_count": 18,
   "metadata": {
    "tags": []
   },
   "outputs": [],
   "source": [
    "#!pip install torch --upgrade"
   ]
  },
  {
   "cell_type": "code",
   "execution_count": 19,
   "metadata": {
    "tags": []
   },
   "outputs": [],
   "source": [
    "#!pip install ktrain --upgrade"
   ]
  },
  {
   "cell_type": "code",
   "execution_count": 20,
   "metadata": {
    "tags": []
   },
   "outputs": [],
   "source": [
    "#!python3 -m pip install tensorflow"
   ]
  },
  {
   "cell_type": "code",
   "execution_count": 21,
   "metadata": {
    "tags": []
   },
   "outputs": [],
   "source": [
    "import ktrain\n",
    "import torch"
   ]
  },
  {
   "cell_type": "markdown",
   "metadata": {},
   "source": [
    "### Modelling"
   ]
  },
  {
   "cell_type": "code",
   "execution_count": 22,
   "metadata": {},
   "outputs": [],
   "source": [
    "zsl = ktrain.text.ZeroShotClassifier()"
   ]
  },
  {
   "cell_type": "code",
   "execution_count": 23,
   "metadata": {},
   "outputs": [
    {
     "data": {
      "text/plain": [
       "18"
      ]
     },
     "execution_count": 23,
     "metadata": {},
     "output_type": "execute_result"
    }
   ],
   "source": [
    "candidate_labels = ['digital transaction', 'healthcare', 'news platform', 'data analytics', 'insurance', 'investment', 'global market', 'autonomous car', 'customer experience', 'data science', 'cryptocurrency', 'camera', 'robot', 'chatgpt', 'image', 'voice', 'patient care', 'research']\n",
    "len(candidate_labels)"
   ]
  },
  {
   "cell_type": "markdown",
   "metadata": {},
   "source": [
    "## Positive Sentiment Articles"
   ]
  },
  {
   "cell_type": "code",
   "execution_count": 23,
   "metadata": {
    "tags": []
   },
   "outputs": [],
   "source": [
    "# Put reviews in a list\n",
    "seq_pos = df_news_positive['cleaned text'].sample(1000).to_list()\n",
    "\n",
    "# Set the hyppothesis template\n",
    "hypothesis_template = \"The topic of this news article is {}.\""
   ]
  },
  {
   "cell_type": "code",
   "execution_count": null,
   "metadata": {
    "tags": []
   },
   "outputs": [
    {
     "name": "stdout",
     "output_type": "stream",
     "text": [
      "CPU times: user 23min 36s, sys: 14min 4s, total: 37min 40s\n",
      "Wall time: 35min 52s\n"
     ]
    }
   ],
   "source": [
    "%%time\n",
    "\n",
    "topic_pos = zsl.predict(seq_pos, \n",
    "                        labels=candidate_labels, \n",
    "                        include_labels=False, \n",
    "                        nli_template=hypothesis_template, \n",
    "                        batch_size=18)"
   ]
  },
  {
   "cell_type": "code",
   "execution_count": null,
   "metadata": {
    "tags": []
   },
   "outputs": [
    {
     "data": {
      "text/html": [
       "<div>\n",
       "<style scoped>\n",
       "    .dataframe tbody tr th:only-of-type {\n",
       "        vertical-align: middle;\n",
       "    }\n",
       "\n",
       "    .dataframe tbody tr th {\n",
       "        vertical-align: top;\n",
       "    }\n",
       "\n",
       "    .dataframe thead th {\n",
       "        text-align: right;\n",
       "    }\n",
       "</style>\n",
       "<table border=\"1\" class=\"dataframe\">\n",
       "  <thead>\n",
       "    <tr style=\"text-align: right;\">\n",
       "      <th></th>\n",
       "      <th>digital transaction</th>\n",
       "      <th>healthcare</th>\n",
       "      <th>news platform</th>\n",
       "      <th>data analytics</th>\n",
       "      <th>insurance</th>\n",
       "      <th>investment</th>\n",
       "      <th>global market</th>\n",
       "      <th>autonomous car</th>\n",
       "      <th>customer experience</th>\n",
       "      <th>data science</th>\n",
       "      <th>cryptocurrency</th>\n",
       "      <th>camera</th>\n",
       "      <th>robot</th>\n",
       "      <th>chatgpt</th>\n",
       "      <th>image</th>\n",
       "      <th>voice</th>\n",
       "      <th>patient care</th>\n",
       "      <th>research</th>\n",
       "    </tr>\n",
       "  </thead>\n",
       "  <tbody>\n",
       "    <tr>\n",
       "      <th>0</th>\n",
       "      <td>0.189048</td>\n",
       "      <td>0.083276</td>\n",
       "      <td>0.404735</td>\n",
       "      <td>0.713980</td>\n",
       "      <td>0.048833</td>\n",
       "      <td>0.850423</td>\n",
       "      <td>0.983356</td>\n",
       "      <td>0.147552</td>\n",
       "      <td>0.309551</td>\n",
       "      <td>0.222135</td>\n",
       "      <td>0.069777</td>\n",
       "      <td>0.119665</td>\n",
       "      <td>0.168936</td>\n",
       "      <td>0.394003</td>\n",
       "      <td>0.333103</td>\n",
       "      <td>0.521404</td>\n",
       "      <td>0.112032</td>\n",
       "      <td>0.955376</td>\n",
       "    </tr>\n",
       "    <tr>\n",
       "      <th>1</th>\n",
       "      <td>0.971177</td>\n",
       "      <td>0.940174</td>\n",
       "      <td>0.996037</td>\n",
       "      <td>0.863431</td>\n",
       "      <td>0.056253</td>\n",
       "      <td>0.965887</td>\n",
       "      <td>0.934546</td>\n",
       "      <td>0.058829</td>\n",
       "      <td>0.938672</td>\n",
       "      <td>0.906139</td>\n",
       "      <td>0.100718</td>\n",
       "      <td>0.126258</td>\n",
       "      <td>0.119053</td>\n",
       "      <td>0.952202</td>\n",
       "      <td>0.931842</td>\n",
       "      <td>0.687049</td>\n",
       "      <td>0.673787</td>\n",
       "      <td>0.829878</td>\n",
       "    </tr>\n",
       "    <tr>\n",
       "      <th>2</th>\n",
       "      <td>0.549969</td>\n",
       "      <td>0.325538</td>\n",
       "      <td>0.870079</td>\n",
       "      <td>0.918746</td>\n",
       "      <td>0.397629</td>\n",
       "      <td>0.731781</td>\n",
       "      <td>0.385335</td>\n",
       "      <td>0.249390</td>\n",
       "      <td>0.777407</td>\n",
       "      <td>0.891850</td>\n",
       "      <td>0.139737</td>\n",
       "      <td>0.427788</td>\n",
       "      <td>0.280470</td>\n",
       "      <td>0.662784</td>\n",
       "      <td>0.752450</td>\n",
       "      <td>0.798037</td>\n",
       "      <td>0.200582</td>\n",
       "      <td>0.984621</td>\n",
       "    </tr>\n",
       "    <tr>\n",
       "      <th>3</th>\n",
       "      <td>0.855386</td>\n",
       "      <td>0.097613</td>\n",
       "      <td>0.962276</td>\n",
       "      <td>0.854594</td>\n",
       "      <td>0.066213</td>\n",
       "      <td>0.693219</td>\n",
       "      <td>0.998088</td>\n",
       "      <td>0.143273</td>\n",
       "      <td>0.964067</td>\n",
       "      <td>0.686721</td>\n",
       "      <td>0.048727</td>\n",
       "      <td>0.356305</td>\n",
       "      <td>0.380920</td>\n",
       "      <td>0.827936</td>\n",
       "      <td>0.877390</td>\n",
       "      <td>0.840519</td>\n",
       "      <td>0.088012</td>\n",
       "      <td>0.995317</td>\n",
       "    </tr>\n",
       "    <tr>\n",
       "      <th>4</th>\n",
       "      <td>0.700213</td>\n",
       "      <td>0.208949</td>\n",
       "      <td>0.770048</td>\n",
       "      <td>0.858501</td>\n",
       "      <td>0.190716</td>\n",
       "      <td>0.424776</td>\n",
       "      <td>0.628448</td>\n",
       "      <td>0.093216</td>\n",
       "      <td>0.920040</td>\n",
       "      <td>0.800532</td>\n",
       "      <td>0.081283</td>\n",
       "      <td>0.272123</td>\n",
       "      <td>0.432931</td>\n",
       "      <td>0.262712</td>\n",
       "      <td>0.536358</td>\n",
       "      <td>0.648307</td>\n",
       "      <td>0.110431</td>\n",
       "      <td>0.609417</td>\n",
       "    </tr>\n",
       "  </tbody>\n",
       "</table>\n",
       "</div>"
      ],
      "text/plain": [
       "   digital transaction  healthcare  news platform  data analytics  insurance   \n",
       "0             0.189048    0.083276       0.404735        0.713980   0.048833  \\\n",
       "1             0.971177    0.940174       0.996037        0.863431   0.056253   \n",
       "2             0.549969    0.325538       0.870079        0.918746   0.397629   \n",
       "3             0.855386    0.097613       0.962276        0.854594   0.066213   \n",
       "4             0.700213    0.208949       0.770048        0.858501   0.190716   \n",
       "\n",
       "   investment  global market  autonomous car  customer experience   \n",
       "0    0.850423       0.983356        0.147552             0.309551  \\\n",
       "1    0.965887       0.934546        0.058829             0.938672   \n",
       "2    0.731781       0.385335        0.249390             0.777407   \n",
       "3    0.693219       0.998088        0.143273             0.964067   \n",
       "4    0.424776       0.628448        0.093216             0.920040   \n",
       "\n",
       "   data science  cryptocurrency    camera     robot   chatgpt     image   \n",
       "0      0.222135        0.069777  0.119665  0.168936  0.394003  0.333103  \\\n",
       "1      0.906139        0.100718  0.126258  0.119053  0.952202  0.931842   \n",
       "2      0.891850        0.139737  0.427788  0.280470  0.662784  0.752450   \n",
       "3      0.686721        0.048727  0.356305  0.380920  0.827936  0.877390   \n",
       "4      0.800532        0.081283  0.272123  0.432931  0.262712  0.536358   \n",
       "\n",
       "      voice  patient care  research  \n",
       "0  0.521404      0.112032  0.955376  \n",
       "1  0.687049      0.673787  0.829878  \n",
       "2  0.798037      0.200582  0.984621  \n",
       "3  0.840519      0.088012  0.995317  \n",
       "4  0.648307      0.110431  0.609417  "
      ]
     },
     "execution_count": 25,
     "metadata": {},
     "output_type": "execute_result"
    }
   ],
   "source": [
    "pos_pred_df = pd.DataFrame(topic_pos, columns=candidate_labels) \n",
    "pos_pred_df.head()"
   ]
  },
  {
   "cell_type": "code",
   "execution_count": null,
   "metadata": {
    "tags": []
   },
   "outputs": [
    {
     "data": {
      "text/plain": [
       "(1000, 18)"
      ]
     },
     "execution_count": 26,
     "metadata": {},
     "output_type": "execute_result"
    }
   ],
   "source": [
    "pos_pred_df.shape"
   ]
  },
  {
   "cell_type": "code",
   "execution_count": null,
   "metadata": {
    "tags": []
   },
   "outputs": [],
   "source": [
    "# SAVE THE RESULTS\n",
    "pos_pred_df.to_json('result/pos_pred.json', orient='records', lines=True)"
   ]
  },
  {
   "cell_type": "code",
   "execution_count": null,
   "metadata": {
    "tags": []
   },
   "outputs": [
    {
     "data": {
      "text/html": [
       "<div>\n",
       "<style scoped>\n",
       "    .dataframe tbody tr th:only-of-type {\n",
       "        vertical-align: middle;\n",
       "    }\n",
       "\n",
       "    .dataframe tbody tr th {\n",
       "        vertical-align: top;\n",
       "    }\n",
       "\n",
       "    .dataframe thead th {\n",
       "        text-align: right;\n",
       "    }\n",
       "</style>\n",
       "<table border=\"1\" class=\"dataframe\">\n",
       "  <thead>\n",
       "    <tr style=\"text-align: right;\">\n",
       "      <th></th>\n",
       "      <th>id</th>\n",
       "      <th>cleaned text</th>\n",
       "      <th>sentiment</th>\n",
       "      <th>digital transaction</th>\n",
       "      <th>healthcare</th>\n",
       "      <th>news platform</th>\n",
       "      <th>data analytics</th>\n",
       "      <th>insurance</th>\n",
       "      <th>investment</th>\n",
       "      <th>global market</th>\n",
       "      <th>autonomous car</th>\n",
       "      <th>customer experience</th>\n",
       "      <th>data science</th>\n",
       "      <th>cryptocurrency</th>\n",
       "      <th>camera</th>\n",
       "      <th>robot</th>\n",
       "      <th>chatgpt</th>\n",
       "      <th>image</th>\n",
       "      <th>voice</th>\n",
       "      <th>patient care</th>\n",
       "      <th>research</th>\n",
       "    </tr>\n",
       "  </thead>\n",
       "  <tbody>\n",
       "    <tr>\n",
       "      <th>0</th>\n",
       "      <td>1</td>\n",
       "      <td>Children With Autism Saw Their Learning and Social Skills Boosted After Playing With This AI Robot admin  Latest posts by admin see all  Mansplaining in conferences: How can we get him to forestall  February 27, 2020 Coronavirus Could Explode in the U.S. Overnight Like it Did in Italy  February 27, 2020 Levi Strauss marks the next phase in corporate paid leave policies  February 27, 2020 Scientists who designed an artificially clever robotic that helped youngsters with autism spice up their ...</td>\n",
       "      <td>5</td>\n",
       "      <td>0.189048</td>\n",
       "      <td>0.083276</td>\n",
       "      <td>0.404735</td>\n",
       "      <td>0.713980</td>\n",
       "      <td>0.048833</td>\n",
       "      <td>0.850423</td>\n",
       "      <td>0.983356</td>\n",
       "      <td>0.147552</td>\n",
       "      <td>0.309551</td>\n",
       "      <td>0.222135</td>\n",
       "      <td>0.069777</td>\n",
       "      <td>0.119665</td>\n",
       "      <td>0.168936</td>\n",
       "      <td>0.394003</td>\n",
       "      <td>0.333103</td>\n",
       "      <td>0.521404</td>\n",
       "      <td>0.112032</td>\n",
       "      <td>0.955376</td>\n",
       "    </tr>\n",
       "    <tr>\n",
       "      <th>1</th>\n",
       "      <td>2</td>\n",
       "      <td>Forget ML, AI and Industry 4.0  obsolescence should be your focus The world entered a new era of accelerated transformation in the last eighteen months that will continue to evolve and press forward for years to come. Most businesses are playing catchup trying to make sense of a new timeline where the ten years that had been set aside for careful planning and implementation of what was coming up next no longer exists. The next is happening now and, regardless of your industry or seniority, t...</td>\n",
       "      <td>4</td>\n",
       "      <td>0.971177</td>\n",
       "      <td>0.940174</td>\n",
       "      <td>0.996037</td>\n",
       "      <td>0.863431</td>\n",
       "      <td>0.056253</td>\n",
       "      <td>0.965887</td>\n",
       "      <td>0.934546</td>\n",
       "      <td>0.058829</td>\n",
       "      <td>0.938672</td>\n",
       "      <td>0.906139</td>\n",
       "      <td>0.100718</td>\n",
       "      <td>0.126258</td>\n",
       "      <td>0.119053</td>\n",
       "      <td>0.952202</td>\n",
       "      <td>0.931842</td>\n",
       "      <td>0.687049</td>\n",
       "      <td>0.673787</td>\n",
       "      <td>0.829878</td>\n",
       "    </tr>\n",
       "  </tbody>\n",
       "</table>\n",
       "</div>"
      ],
      "text/plain": [
       "   id   \n",
       "0   1  \\\n",
       "1   2   \n",
       "\n",
       "                                                                                                                                                                                                                                                                                                                                                                                                                                                                                                          cleaned text   \n",
       "0  Children With Autism Saw Their Learning and Social Skills Boosted After Playing With This AI Robot admin  Latest posts by admin see all  Mansplaining in conferences: How can we get him to forestall  February 27, 2020 Coronavirus Could Explode in the U.S. Overnight Like it Did in Italy  February 27, 2020 Levi Strauss marks the next phase in corporate paid leave policies  February 27, 2020 Scientists who designed an artificially clever robotic that helped youngsters with autism spice up their ...  \\\n",
       "1  Forget ML, AI and Industry 4.0  obsolescence should be your focus The world entered a new era of accelerated transformation in the last eighteen months that will continue to evolve and press forward for years to come. Most businesses are playing catchup trying to make sense of a new timeline where the ten years that had been set aside for careful planning and implementation of what was coming up next no longer exists. The next is happening now and, regardless of your industry or seniority, t...   \n",
       "\n",
       "   sentiment  digital transaction  healthcare  news platform  data analytics   \n",
       "0          5             0.189048    0.083276       0.404735        0.713980  \\\n",
       "1          4             0.971177    0.940174       0.996037        0.863431   \n",
       "\n",
       "   insurance  investment  global market  autonomous car  customer experience   \n",
       "0   0.048833    0.850423       0.983356        0.147552             0.309551  \\\n",
       "1   0.056253    0.965887       0.934546        0.058829             0.938672   \n",
       "\n",
       "   data science  cryptocurrency    camera     robot   chatgpt     image   \n",
       "0      0.222135        0.069777  0.119665  0.168936  0.394003  0.333103  \\\n",
       "1      0.906139        0.100718  0.126258  0.119053  0.952202  0.931842   \n",
       "\n",
       "      voice  patient care  research  \n",
       "0  0.521404      0.112032  0.955376  \n",
       "1  0.687049      0.673787  0.829878  "
      ]
     },
     "execution_count": 28,
     "metadata": {},
     "output_type": "execute_result"
    }
   ],
   "source": [
    "pos_news_topics = df_news_positive.join(pos_pred_df, how='inner')\n",
    "pos_news_topics = pos_news_topics[['id', 'cleaned text', 'sentiment'] + candidate_labels]\n",
    "\n",
    "# Reset multi-level index\n",
    "pos_news_topics.columns = pos_news_topics.columns.get_level_values(0)\n",
    "\n",
    "# Select the small-ish articles only\n",
    "pos_news_topics.head(2)"
   ]
  },
  {
   "cell_type": "code",
   "execution_count": null,
   "metadata": {
    "tags": []
   },
   "outputs": [
    {
     "data": {
      "text/plain": [
       "(1000, 21)"
      ]
     },
     "execution_count": 29,
     "metadata": {},
     "output_type": "execute_result"
    }
   ],
   "source": [
    "pos_news_topics.shape"
   ]
  },
  {
   "cell_type": "code",
   "execution_count": null,
   "metadata": {
    "tags": []
   },
   "outputs": [],
   "source": [
    "# SAVE THE RESULTS\n",
    "pos_news_topics.to_json('result/pos_news_topics.json', orient='records', lines=True)"
   ]
  },
  {
   "cell_type": "code",
   "execution_count": null,
   "metadata": {
    "tags": []
   },
   "outputs": [
    {
     "name": "stdout",
     "output_type": "stream",
     "text": [
      "<class 'pandas.core.frame.DataFrame'>\n",
      "Index: 1000 entries, 0 to 999\n",
      "Data columns (total 21 columns):\n",
      " #   Column               Non-Null Count  Dtype  \n",
      "---  ------               --------------  -----  \n",
      " 0   id                   1000 non-null   int64  \n",
      " 1   cleaned text         1000 non-null   object \n",
      " 2   sentiment            1000 non-null   int64  \n",
      " 3   digital transaction  1000 non-null   float64\n",
      " 4   healthcare           1000 non-null   float64\n",
      " 5   news platform        1000 non-null   float64\n",
      " 6   data analytics       1000 non-null   float64\n",
      " 7   insurance            1000 non-null   float64\n",
      " 8   investment           1000 non-null   float64\n",
      " 9   global market        1000 non-null   float64\n",
      " 10  autonomous car       1000 non-null   float64\n",
      " 11  customer experience  1000 non-null   float64\n",
      " 12  data science         1000 non-null   float64\n",
      " 13  cryptocurrency       1000 non-null   float64\n",
      " 14  camera               1000 non-null   float64\n",
      " 15  robot                1000 non-null   float64\n",
      " 16  chatgpt              1000 non-null   float64\n",
      " 17  image                1000 non-null   float64\n",
      " 18  voice                1000 non-null   float64\n",
      " 19  patient care         1000 non-null   float64\n",
      " 20  research             1000 non-null   float64\n",
      "dtypes: float64(18), int64(2), object(1)\n",
      "memory usage: 204.2+ KB\n"
     ]
    }
   ],
   "source": [
    "pos_news_topics.info()"
   ]
  },
  {
   "cell_type": "markdown",
   "metadata": {},
   "source": [
    "## Negetive Sentiment Articles"
   ]
  },
  {
   "cell_type": "code",
   "execution_count": 26,
   "metadata": {
    "tags": []
   },
   "outputs": [],
   "source": [
    "# Put reviews in a list\n",
    "seq_neg = df_news_negative['cleaned text'].sample(1000).to_list()\n",
    "\n",
    "# Set the hyppothesis template\n",
    "hypothesis_template = \"The topic of this news article is {}.\""
   ]
  },
  {
   "cell_type": "code",
   "execution_count": null,
   "metadata": {
    "tags": []
   },
   "outputs": [
    {
     "name": "stdout",
     "output_type": "stream",
     "text": [
      "CPU times: user 21min 29s, sys: 12min 55s, total: 34min 25s\n",
      "Wall time: 32min 30s\n"
     ]
    }
   ],
   "source": [
    "%%time\n",
    "\n",
    "topic_neg = zsl.predict(seq_neg, \n",
    "                        labels=candidate_labels, \n",
    "                        include_labels=False, \n",
    "                        nli_template=hypothesis_template, \n",
    "                        batch_size=18)"
   ]
  },
  {
   "cell_type": "code",
   "execution_count": null,
   "metadata": {
    "tags": []
   },
   "outputs": [
    {
     "data": {
      "text/html": [
       "<div>\n",
       "<style scoped>\n",
       "    .dataframe tbody tr th:only-of-type {\n",
       "        vertical-align: middle;\n",
       "    }\n",
       "\n",
       "    .dataframe tbody tr th {\n",
       "        vertical-align: top;\n",
       "    }\n",
       "\n",
       "    .dataframe thead th {\n",
       "        text-align: right;\n",
       "    }\n",
       "</style>\n",
       "<table border=\"1\" class=\"dataframe\">\n",
       "  <thead>\n",
       "    <tr style=\"text-align: right;\">\n",
       "      <th></th>\n",
       "      <th>digital transaction</th>\n",
       "      <th>healthcare</th>\n",
       "      <th>news platform</th>\n",
       "      <th>data analytics</th>\n",
       "      <th>insurance</th>\n",
       "      <th>investment</th>\n",
       "      <th>global market</th>\n",
       "      <th>autonomous car</th>\n",
       "      <th>customer experience</th>\n",
       "      <th>data science</th>\n",
       "      <th>cryptocurrency</th>\n",
       "      <th>camera</th>\n",
       "      <th>robot</th>\n",
       "      <th>chatgpt</th>\n",
       "      <th>image</th>\n",
       "      <th>voice</th>\n",
       "      <th>patient care</th>\n",
       "      <th>research</th>\n",
       "    </tr>\n",
       "  </thead>\n",
       "  <tbody>\n",
       "    <tr>\n",
       "      <th>0</th>\n",
       "      <td>0.520370</td>\n",
       "      <td>0.112797</td>\n",
       "      <td>0.747345</td>\n",
       "      <td>0.642699</td>\n",
       "      <td>0.054052</td>\n",
       "      <td>0.187685</td>\n",
       "      <td>0.775824</td>\n",
       "      <td>0.039266</td>\n",
       "      <td>0.662619</td>\n",
       "      <td>0.514457</td>\n",
       "      <td>0.035682</td>\n",
       "      <td>0.179212</td>\n",
       "      <td>0.462046</td>\n",
       "      <td>0.876484</td>\n",
       "      <td>0.296175</td>\n",
       "      <td>0.683526</td>\n",
       "      <td>0.085167</td>\n",
       "      <td>0.555365</td>\n",
       "    </tr>\n",
       "    <tr>\n",
       "      <th>1</th>\n",
       "      <td>0.091209</td>\n",
       "      <td>0.003056</td>\n",
       "      <td>0.635477</td>\n",
       "      <td>0.033356</td>\n",
       "      <td>0.002520</td>\n",
       "      <td>0.009066</td>\n",
       "      <td>0.311910</td>\n",
       "      <td>0.001832</td>\n",
       "      <td>0.045789</td>\n",
       "      <td>0.136891</td>\n",
       "      <td>0.003965</td>\n",
       "      <td>0.007374</td>\n",
       "      <td>0.067747</td>\n",
       "      <td>0.995085</td>\n",
       "      <td>0.112712</td>\n",
       "      <td>0.330906</td>\n",
       "      <td>0.005189</td>\n",
       "      <td>0.981931</td>\n",
       "    </tr>\n",
       "    <tr>\n",
       "      <th>2</th>\n",
       "      <td>0.830772</td>\n",
       "      <td>0.053557</td>\n",
       "      <td>0.937766</td>\n",
       "      <td>0.872668</td>\n",
       "      <td>0.081875</td>\n",
       "      <td>0.383067</td>\n",
       "      <td>0.837185</td>\n",
       "      <td>0.341534</td>\n",
       "      <td>0.538601</td>\n",
       "      <td>0.847025</td>\n",
       "      <td>0.021629</td>\n",
       "      <td>0.285224</td>\n",
       "      <td>0.607073</td>\n",
       "      <td>0.962344</td>\n",
       "      <td>0.945322</td>\n",
       "      <td>0.900375</td>\n",
       "      <td>0.060884</td>\n",
       "      <td>0.892582</td>\n",
       "    </tr>\n",
       "    <tr>\n",
       "      <th>3</th>\n",
       "      <td>0.150539</td>\n",
       "      <td>0.010173</td>\n",
       "      <td>0.761225</td>\n",
       "      <td>0.921766</td>\n",
       "      <td>0.026464</td>\n",
       "      <td>0.860801</td>\n",
       "      <td>0.296030</td>\n",
       "      <td>0.003235</td>\n",
       "      <td>0.945704</td>\n",
       "      <td>0.935439</td>\n",
       "      <td>0.007286</td>\n",
       "      <td>0.044527</td>\n",
       "      <td>0.090656</td>\n",
       "      <td>0.199957</td>\n",
       "      <td>0.305413</td>\n",
       "      <td>0.252674</td>\n",
       "      <td>0.006992</td>\n",
       "      <td>0.966840</td>\n",
       "    </tr>\n",
       "    <tr>\n",
       "      <th>4</th>\n",
       "      <td>0.083841</td>\n",
       "      <td>0.054111</td>\n",
       "      <td>0.120562</td>\n",
       "      <td>0.008824</td>\n",
       "      <td>0.006225</td>\n",
       "      <td>0.008848</td>\n",
       "      <td>0.049754</td>\n",
       "      <td>0.003521</td>\n",
       "      <td>0.057006</td>\n",
       "      <td>0.012429</td>\n",
       "      <td>0.002367</td>\n",
       "      <td>0.010106</td>\n",
       "      <td>0.032996</td>\n",
       "      <td>0.607921</td>\n",
       "      <td>0.365569</td>\n",
       "      <td>0.033469</td>\n",
       "      <td>0.022034</td>\n",
       "      <td>0.168864</td>\n",
       "    </tr>\n",
       "  </tbody>\n",
       "</table>\n",
       "</div>"
      ],
      "text/plain": [
       "   digital transaction  healthcare  news platform  data analytics  insurance   \n",
       "0             0.520370    0.112797       0.747345        0.642699   0.054052  \\\n",
       "1             0.091209    0.003056       0.635477        0.033356   0.002520   \n",
       "2             0.830772    0.053557       0.937766        0.872668   0.081875   \n",
       "3             0.150539    0.010173       0.761225        0.921766   0.026464   \n",
       "4             0.083841    0.054111       0.120562        0.008824   0.006225   \n",
       "\n",
       "   investment  global market  autonomous car  customer experience   \n",
       "0    0.187685       0.775824        0.039266             0.662619  \\\n",
       "1    0.009066       0.311910        0.001832             0.045789   \n",
       "2    0.383067       0.837185        0.341534             0.538601   \n",
       "3    0.860801       0.296030        0.003235             0.945704   \n",
       "4    0.008848       0.049754        0.003521             0.057006   \n",
       "\n",
       "   data science  cryptocurrency    camera     robot   chatgpt     image   \n",
       "0      0.514457        0.035682  0.179212  0.462046  0.876484  0.296175  \\\n",
       "1      0.136891        0.003965  0.007374  0.067747  0.995085  0.112712   \n",
       "2      0.847025        0.021629  0.285224  0.607073  0.962344  0.945322   \n",
       "3      0.935439        0.007286  0.044527  0.090656  0.199957  0.305413   \n",
       "4      0.012429        0.002367  0.010106  0.032996  0.607921  0.365569   \n",
       "\n",
       "      voice  patient care  research  \n",
       "0  0.683526      0.085167  0.555365  \n",
       "1  0.330906      0.005189  0.981931  \n",
       "2  0.900375      0.060884  0.892582  \n",
       "3  0.252674      0.006992  0.966840  \n",
       "4  0.033469      0.022034  0.168864  "
      ]
     },
     "execution_count": 28,
     "metadata": {},
     "output_type": "execute_result"
    }
   ],
   "source": [
    "neg_pred_df = pd.DataFrame(topic_neg, columns=candidate_labels)\n",
    "neg_pred_df.head()"
   ]
  },
  {
   "cell_type": "code",
   "execution_count": null,
   "metadata": {},
   "outputs": [
    {
     "data": {
      "text/plain": [
       "(1000, 18)"
      ]
     },
     "execution_count": 29,
     "metadata": {},
     "output_type": "execute_result"
    }
   ],
   "source": [
    "neg_pred_df.shape"
   ]
  },
  {
   "cell_type": "code",
   "execution_count": null,
   "metadata": {},
   "outputs": [],
   "source": [
    "# SAVE THE RESULTS\n",
    "neg_pred_df.to_json('result/neg_pred.json', orient='records', lines=True)"
   ]
  },
  {
   "cell_type": "code",
   "execution_count": null,
   "metadata": {
    "tags": []
   },
   "outputs": [
    {
     "data": {
      "text/html": [
       "<div>\n",
       "<style scoped>\n",
       "    .dataframe tbody tr th:only-of-type {\n",
       "        vertical-align: middle;\n",
       "    }\n",
       "\n",
       "    .dataframe tbody tr th {\n",
       "        vertical-align: top;\n",
       "    }\n",
       "\n",
       "    .dataframe thead th {\n",
       "        text-align: right;\n",
       "    }\n",
       "</style>\n",
       "<table border=\"1\" class=\"dataframe\">\n",
       "  <thead>\n",
       "    <tr style=\"text-align: right;\">\n",
       "      <th></th>\n",
       "      <th>id</th>\n",
       "      <th>cleaned text</th>\n",
       "      <th>sentiment</th>\n",
       "      <th>digital transaction</th>\n",
       "      <th>healthcare</th>\n",
       "      <th>news platform</th>\n",
       "      <th>data analytics</th>\n",
       "      <th>insurance</th>\n",
       "      <th>investment</th>\n",
       "      <th>global market</th>\n",
       "      <th>autonomous car</th>\n",
       "      <th>customer experience</th>\n",
       "      <th>data science</th>\n",
       "      <th>cryptocurrency</th>\n",
       "      <th>camera</th>\n",
       "      <th>robot</th>\n",
       "      <th>chatgpt</th>\n",
       "      <th>image</th>\n",
       "      <th>voice</th>\n",
       "      <th>patient care</th>\n",
       "      <th>research</th>\n",
       "    </tr>\n",
       "  </thead>\n",
       "  <tbody>\n",
       "    <tr>\n",
       "      <th>0</th>\n",
       "      <td>5</td>\n",
       "      <td>Cr Bard Inc Has Returned 48.9 Since SmarTrend Recommendation BCR  SmarTrend identified an Uptrend for Cr Bard Inc :BCR on December 23rd, 2016 at 222.45.  In approximately 40 months, Cr Bard Inc has returned 48.91 as of todays recent price of 331.24.In the past 52 weeks, Cr Bard Inc share prices have been bracketed by a low of 0.00 and a high of 0.00 and are now at 331.24, 100 above that low price.  In the last five trading sessions, the 50day moving average MA has remained constant while the...</td>\n",
       "      <td>2</td>\n",
       "      <td>0.520370</td>\n",
       "      <td>0.112797</td>\n",
       "      <td>0.747345</td>\n",
       "      <td>0.642699</td>\n",
       "      <td>0.054052</td>\n",
       "      <td>0.187685</td>\n",
       "      <td>0.775824</td>\n",
       "      <td>0.039266</td>\n",
       "      <td>0.662619</td>\n",
       "      <td>0.514457</td>\n",
       "      <td>0.035682</td>\n",
       "      <td>0.179212</td>\n",
       "      <td>0.462046</td>\n",
       "      <td>0.876484</td>\n",
       "      <td>0.296175</td>\n",
       "      <td>0.683526</td>\n",
       "      <td>0.085167</td>\n",
       "      <td>0.555365</td>\n",
       "    </tr>\n",
       "    <tr>\n",
       "      <th>1</th>\n",
       "      <td>12</td>\n",
       "      <td>Conversational AI Marketplace Enlargement Possibilities, Regional Traits and Call for, Most sensible Avid gamers, Alternatives with Forecasts 2025  International Conversational AI marketplace 2020 analysis document is a solitary instrument that provides an indepth scrutiny of various Conversational AI marketplace insights, alternatives, collateral approaches and more than a few techniques of creating robust determinations. The Conversational AI marketplace CAGR charge would possibly building...</td>\n",
       "      <td>2</td>\n",
       "      <td>0.091209</td>\n",
       "      <td>0.003056</td>\n",
       "      <td>0.635477</td>\n",
       "      <td>0.033356</td>\n",
       "      <td>0.002520</td>\n",
       "      <td>0.009066</td>\n",
       "      <td>0.311910</td>\n",
       "      <td>0.001832</td>\n",
       "      <td>0.045789</td>\n",
       "      <td>0.136891</td>\n",
       "      <td>0.003965</td>\n",
       "      <td>0.007374</td>\n",
       "      <td>0.067747</td>\n",
       "      <td>0.995085</td>\n",
       "      <td>0.112712</td>\n",
       "      <td>0.330906</td>\n",
       "      <td>0.005189</td>\n",
       "      <td>0.981931</td>\n",
       "    </tr>\n",
       "  </tbody>\n",
       "</table>\n",
       "</div>"
      ],
      "text/plain": [
       "   id   \n",
       "0   5  \\\n",
       "1  12   \n",
       "\n",
       "                                                                                                                                                                                                                                                                                                                                                                                                                                                                                                          cleaned text   \n",
       "0  Cr Bard Inc Has Returned 48.9 Since SmarTrend Recommendation BCR  SmarTrend identified an Uptrend for Cr Bard Inc :BCR on December 23rd, 2016 at 222.45.  In approximately 40 months, Cr Bard Inc has returned 48.91 as of todays recent price of 331.24.In the past 52 weeks, Cr Bard Inc share prices have been bracketed by a low of 0.00 and a high of 0.00 and are now at 331.24, 100 above that low price.  In the last five trading sessions, the 50day moving average MA has remained constant while the...  \\\n",
       "1  Conversational AI Marketplace Enlargement Possibilities, Regional Traits and Call for, Most sensible Avid gamers, Alternatives with Forecasts 2025  International Conversational AI marketplace 2020 analysis document is a solitary instrument that provides an indepth scrutiny of various Conversational AI marketplace insights, alternatives, collateral approaches and more than a few techniques of creating robust determinations. The Conversational AI marketplace CAGR charge would possibly building...   \n",
       "\n",
       "   sentiment  digital transaction  healthcare  news platform  data analytics   \n",
       "0          2             0.520370    0.112797       0.747345        0.642699  \\\n",
       "1          2             0.091209    0.003056       0.635477        0.033356   \n",
       "\n",
       "   insurance  investment  global market  autonomous car  customer experience   \n",
       "0   0.054052    0.187685       0.775824        0.039266             0.662619  \\\n",
       "1   0.002520    0.009066       0.311910        0.001832             0.045789   \n",
       "\n",
       "   data science  cryptocurrency    camera     robot   chatgpt     image   \n",
       "0      0.514457        0.035682  0.179212  0.462046  0.876484  0.296175  \\\n",
       "1      0.136891        0.003965  0.007374  0.067747  0.995085  0.112712   \n",
       "\n",
       "      voice  patient care  research  \n",
       "0  0.683526      0.085167  0.555365  \n",
       "1  0.330906      0.005189  0.981931  "
      ]
     },
     "execution_count": 31,
     "metadata": {},
     "output_type": "execute_result"
    }
   ],
   "source": [
    "neg_news_topics = df_news_negative.join(neg_pred_df, how='inner')\n",
    "neg_news_topics = neg_news_topics[['id', 'cleaned text', 'sentiment'] + candidate_labels]\n",
    "\n",
    "# Reset multi-level index\n",
    "neg_news_topics.columns = neg_news_topics.columns.get_level_values(0)\n",
    "\n",
    "# Select the small-ish articles only\n",
    "neg_news_topics.head(2)"
   ]
  },
  {
   "cell_type": "code",
   "execution_count": null,
   "metadata": {},
   "outputs": [
    {
     "data": {
      "text/plain": [
       "(1000, 21)"
      ]
     },
     "execution_count": 32,
     "metadata": {},
     "output_type": "execute_result"
    }
   ],
   "source": [
    "neg_news_topics.shape"
   ]
  },
  {
   "cell_type": "code",
   "execution_count": null,
   "metadata": {},
   "outputs": [],
   "source": [
    "# SAVE THE RESULTS\n",
    "neg_news_topics.to_json('result/neg_news_topics.json', orient='records', lines=True)"
   ]
  },
  {
   "cell_type": "code",
   "execution_count": null,
   "metadata": {},
   "outputs": [],
   "source": []
  },
  {
   "cell_type": "code",
   "execution_count": null,
   "metadata": {},
   "outputs": [],
   "source": []
  },
  {
   "cell_type": "code",
   "execution_count": null,
   "metadata": {},
   "outputs": [],
   "source": []
  },
  {
   "cell_type": "code",
   "execution_count": null,
   "metadata": {},
   "outputs": [],
   "source": []
  },
  {
   "cell_type": "code",
   "execution_count": null,
   "metadata": {},
   "outputs": [],
   "source": []
  },
  {
   "cell_type": "code",
   "execution_count": null,
   "metadata": {},
   "outputs": [],
   "source": []
  }
 ],
 "metadata": {
  "kernelspec": {
   "display_name": "default:Python",
   "language": "python",
   "name": "conda-env-default-py"
  },
  "language_info": {
   "codemirror_mode": {
    "name": "ipython",
    "version": 3
   },
   "file_extension": ".py",
   "mimetype": "text/x-python",
   "name": "python",
   "nbconvert_exporter": "python",
   "pygments_lexer": "ipython3",
   "version": "3.9.16"
  }
 },
 "nbformat": 4,
 "nbformat_minor": 4
}
