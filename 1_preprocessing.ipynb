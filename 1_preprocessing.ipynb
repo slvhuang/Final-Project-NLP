{
 "cells": [
  {
   "attachments": {},
   "cell_type": "markdown",
   "metadata": {},
   "source": [
    "# MSCA 32018 Natural Language Processing and Cognitive Computing\n",
    "## Final Project - Preprocessing\n",
    "\n",
    "Shijia Huang\n",
    "\n",
    "-----"
   ]
  },
  {
   "cell_type": "code",
   "execution_count": 1,
   "metadata": {},
   "outputs": [],
   "source": [
    "# Import basic libraries\n",
    "import time\n",
    "import pandas as pd\n",
    "import numpy as np\n",
    "import seaborn as sns\n",
    "import matplotlib.pyplot as plt\n",
    "\n",
    "%matplotlib inline"
   ]
  },
  {
   "cell_type": "code",
   "execution_count": 2,
   "metadata": {},
   "outputs": [
    {
     "name": "stdout",
     "output_type": "stream",
     "text": [
      "3.5.2\n"
     ]
    }
   ],
   "source": [
    "# Import NLP libraries\n",
    "import re\n",
    "import nltk\n",
    "from nltk.corpus import stopwords\n",
    "from nltk.stem import WordNetLemmatizer\n",
    "from nltk.tokenize import word_tokenize\n",
    "from sklearn.feature_extraction.text import TfidfVectorizer\n",
    "\n",
    "from pprint import pprint\n",
    "import string\n",
    "from rake_nltk import Rake\n",
    "\n",
    "import spacy\n",
    "from spacy import displacy\n",
    "from spacy.util import minibatch, compounding\n",
    "spacy.prefer_gpu()\n",
    "print(spacy.__version__)\n",
    "\n",
    "import gensim\n",
    "from gensim import corpora, models\n",
    "from gensim.utils import simple_preprocess\n",
    "from gensim.models.ldamulticore import LdaMulticore\n",
    "from gensim.models import CoherenceModel\n",
    "\n",
    "import pyLDAvis\n",
    "import pyLDAvis.gensim as gensimvis\n",
    "#import pyLDAvis.gensim_models as gensimvis\n",
    "pyLDAvis.enable_notebook()"
   ]
  },
  {
   "cell_type": "code",
   "execution_count": 3,
   "metadata": {},
   "outputs": [],
   "source": [
    "import warnings\n",
    "warnings.filterwarnings('ignore')\n",
    "pd.set_option('display.max_rows', 100)\n",
    "pd.set_option('display.max_columns', None)\n",
    "pd.set_option('display.max_colwidth', 500)"
   ]
  },
  {
   "cell_type": "code",
   "execution_count": 4,
   "metadata": {},
   "outputs": [
    {
     "name": "stdout",
     "output_type": "stream",
     "text": [
      "Available CPUs: 12\n"
     ]
    }
   ],
   "source": [
    "import multiprocessing as mp\n",
    "\n",
    "num_processors = mp.cpu_count()\n",
    "print(f'Available CPUs: {num_processors}')"
   ]
  },
  {
   "attachments": {},
   "cell_type": "markdown",
   "metadata": {},
   "source": [
    "### Read News Articles"
   ]
  },
  {
   "cell_type": "code",
   "execution_count": 5,
   "metadata": {},
   "outputs": [
    {
     "name": "stdout",
     "output_type": "stream",
     "text": [
      "CPU times: user 6.9 s, sys: 4.74 s, total: 11.6 s\n",
      "Wall time: 48.4 s\n"
     ]
    },
    {
     "data": {
      "text/plain": [
       "(200332, 5)"
      ]
     },
     "execution_count": 5,
     "metadata": {},
     "output_type": "execute_result"
    }
   ],
   "source": [
    "%%time \n",
    "\n",
    "df_news_raw = pd.read_parquet('https://storage.googleapis.com/msca-bdp-data-open/news_final_project/news_final_project.parquet', engine='pyarrow')\n",
    "df_news_raw.shape"
   ]
  },
  {
   "cell_type": "code",
   "execution_count": 6,
   "metadata": {},
   "outputs": [
    {
     "name": "stdout",
     "output_type": "stream",
     "text": [
      "<class 'pandas.core.frame.DataFrame'>\n",
      "RangeIndex: 200332 entries, 0 to 200331\n",
      "Data columns (total 5 columns):\n",
      " #   Column    Non-Null Count   Dtype \n",
      "---  ------    --------------   ----- \n",
      " 0   url       200332 non-null  object\n",
      " 1   date      200332 non-null  object\n",
      " 2   language  200332 non-null  object\n",
      " 3   title     200332 non-null  object\n",
      " 4   text      200332 non-null  object\n",
      "dtypes: object(5)\n",
      "memory usage: 7.6+ MB\n"
     ]
    }
   ],
   "source": [
    "df_news_raw.info()"
   ]
  },
  {
   "cell_type": "code",
   "execution_count": 7,
   "metadata": {},
   "outputs": [
    {
     "data": {
      "text/html": [
       "<div>\n",
       "<style scoped>\n",
       "    .dataframe tbody tr th:only-of-type {\n",
       "        vertical-align: middle;\n",
       "    }\n",
       "\n",
       "    .dataframe tbody tr th {\n",
       "        vertical-align: top;\n",
       "    }\n",
       "\n",
       "    .dataframe thead th {\n",
       "        text-align: right;\n",
       "    }\n",
       "</style>\n",
       "<table border=\"1\" class=\"dataframe\">\n",
       "  <thead>\n",
       "    <tr style=\"text-align: right;\">\n",
       "      <th></th>\n",
       "      <th>url</th>\n",
       "      <th>date</th>\n",
       "      <th>language</th>\n",
       "      <th>title</th>\n",
       "      <th>text</th>\n",
       "    </tr>\n",
       "  </thead>\n",
       "  <tbody>\n",
       "    <tr>\n",
       "      <th>0</th>\n",
       "      <td>http://en.people.cn/n3/2021/0318/c90000-9830122.html</td>\n",
       "      <td>2021-03-18</td>\n",
       "      <td>en</td>\n",
       "      <td>Artificial intelligence improves parking efficiency in Chinese cities - People's Daily Online</td>\n",
       "      <td>\\n\\nArtificial intelligence improves parking efficiency in Chinese cities - People's Daily Online\\n\\nHome\\nChina Politics\\nForeign Affairs\\nOpinions\\nVideo: We Are China\\nBusiness\\nMilitary\\nWorld\\nSociety\\nCulture\\nTravel\\nScience\\nSports\\nPhoto\\n\\nLanguages\\n\\nChinese\\nJapanese\\nFrench\\nSpanish\\nRussian\\nArabic\\nKorean\\nGerman\\nPortuguese\\nThursday, March 18, 2021\\nHome&gt;&gt;\\n\\t\\t\\nArtificial intelligence improves parking efficiency in Chinese cities\\nBy Liu Shiyao (People's Daily) 09:16, Mar...</td>\n",
       "    </tr>\n",
       "    <tr>\n",
       "      <th>1</th>\n",
       "      <td>http://newsparliament.com/2020/02/27/children-with-autism-saw-their-learning-and-social-skills-boosted-after-playing-with-this-ai-robot/</td>\n",
       "      <td>2020-02-27</td>\n",
       "      <td>en</td>\n",
       "      <td>Children With Autism Saw Their Learning and Social Skills Boosted After Playing With This AI Robot – News Parliament</td>\n",
       "      <td>\\nChildren With Autism Saw Their Learning and Social Skills Boosted After Playing With This AI Robot – News Parliament\\n \\n\\nSkip to content\\n\\t\\t\\tThursday, February 27, 2020\\t\\t\\n\\nLatest:\\n\\n\\nMansplaining in conferences: How can we get him to forestall?\\n\\n\\nDrax power station to cease burning coal in March 2021\\n\\n\\nCoronavirus Could Explode in the U.S. Overnight Like it Did in Italy\\n\\n\\nCoronavirus: Dettol sales surge as markets fall again\\n\\n\\nLevi Strauss marks the next phase in cor...</td>\n",
       "    </tr>\n",
       "    <tr>\n",
       "      <th>2</th>\n",
       "      <td>http://www.dataweek.co.za/12835r</td>\n",
       "      <td>2021-03-26</td>\n",
       "      <td>en</td>\n",
       "      <td>Forget ML, AI and Industry 4.0 – obsolescence should be your focus - 26 February 2021 - Test &amp; Rework Solutions - Dataweek</td>\n",
       "      <td>\\n\\nForget ML, AI and Industry 4.0 – obsolescence should be your focus - 26 February 2021 - Test &amp; Rework Solutions - Dataweek\\nHome\\nAbout us\\nBack issues / E-book / PDF\\nEMP Handbook\\nSubscribe\\nAdvertise\\n\\nCategories\\n\\n▸ Editor's Choice\\n▸ Multimedia, Videos\\n▸ Analogue, Mixed Signal, LSI\\n▸ Circuit &amp; System Protection\\n▸ Computer/Embedded Technology\\n▸ Design Automation\\n▸ DSP, Micros &amp; Memory\\n▸ Electronics Technology\\n▸ Enclosures, Racks, Cabinets &amp; Panel Products\\n▸ Events\\n▸ Interc...</td>\n",
       "    </tr>\n",
       "    <tr>\n",
       "      <th>3</th>\n",
       "      <td>http://www.homeoffice.consumerelectronicsnet.com/strategy-analytics-71-of-smartphones-sold-globally-in-2021-will-be-ai-powered/</td>\n",
       "      <td>2021-03-10</td>\n",
       "      <td>en</td>\n",
       "      <td>Strategy Analytics: 71% of Smartphones Sold Globally in 2021 will be AI Powered – Consumer Electronics Net</td>\n",
       "      <td>\\n\\nStrategy Analytics: 71% of Smartphones Sold Globally in 2021 will be AI Powered – Consumer Electronics Net\\n \\nSkip to content\\n\\nConsumer Electronics Net\\n\\nPrimary Menu\\n\\nConsumer Electronics Net\\n\\nSearch for:\\n \\nHomeNewsStrategy Analytics: 71% of Smartphones Sold Globally in 2021 will be AI Powered \\n \\n                                 News\\n                             \\n \\nStrategy Analytics: 71% of Smartphones Sold Globally in 2021 will be AI Powered\\n                    7 hours...</td>\n",
       "    </tr>\n",
       "    <tr>\n",
       "      <th>4</th>\n",
       "      <td>http://www.itbusinessnet.com/2020/10/olympus-to-support-endoscopic-ai-diagnosis-education-for-doctors-in-india-and-to-launch-ai-diagnostic-support-application/?utm_source=rss&amp;utm_medium=rss&amp;utm_campaign=olympus-to-support-endoscopic-ai-diagnosis-education-for-doctors-in-india-and-to-launch-ai-diagnostic-support-application</td>\n",
       "      <td>2020-10-20</td>\n",
       "      <td>en</td>\n",
       "      <td>Olympus to Support Endoscopic AI Diagnosis Education for Doctors in India and to Launch AI Diagnostic Support Application | | IT Business Net</td>\n",
       "      <td>\\n\\nOlympus to Support Endoscopic AI Diagnosis Education for Doctors in India and to Launch AI Diagnostic Support Application | | IT Business Net\\n \\nSkip to content\\n\\nIT Business Net\\n\\nNews for IT Professionals\\nPrimary Menu\\n\\nIT Business Net\\nAbout IT Business Net\\n\\nSearch for:\\n \\nHome2020OctoberOlympus to Support Endoscopic AI Diagnosis Education for Doctors in India and to Launch AI Diagnostic Support Application \\n \\n                                 News\\n                          ...</td>\n",
       "    </tr>\n",
       "  </tbody>\n",
       "</table>\n",
       "</div>"
      ],
      "text/plain": [
       "                                                                                                                                                                                                                                                                                                                                    url   \n",
       "0                                                                                                                                                                                                                                                                                  http://en.people.cn/n3/2021/0318/c90000-9830122.html  \\\n",
       "1                                                                                                                                                                                              http://newsparliament.com/2020/02/27/children-with-autism-saw-their-learning-and-social-skills-boosted-after-playing-with-this-ai-robot/   \n",
       "2                                                                                                                                                                                                                                                                                                      http://www.dataweek.co.za/12835r   \n",
       "3                                                                                                                                                                                                       http://www.homeoffice.consumerelectronicsnet.com/strategy-analytics-71-of-smartphones-sold-globally-in-2021-will-be-ai-powered/   \n",
       "4  http://www.itbusinessnet.com/2020/10/olympus-to-support-endoscopic-ai-diagnosis-education-for-doctors-in-india-and-to-launch-ai-diagnostic-support-application/?utm_source=rss&utm_medium=rss&utm_campaign=olympus-to-support-endoscopic-ai-diagnosis-education-for-doctors-in-india-and-to-launch-ai-diagnostic-support-application   \n",
       "\n",
       "         date language   \n",
       "0  2021-03-18       en  \\\n",
       "1  2020-02-27       en   \n",
       "2  2021-03-26       en   \n",
       "3  2021-03-10       en   \n",
       "4  2020-10-20       en   \n",
       "\n",
       "                                                                                                                                           title   \n",
       "0                                                  Artificial intelligence improves parking efficiency in Chinese cities - People's Daily Online  \\\n",
       "1                           Children With Autism Saw Their Learning and Social Skills Boosted After Playing With This AI Robot – News Parliament   \n",
       "2                     Forget ML, AI and Industry 4.0 – obsolescence should be your focus - 26 February 2021 - Test & Rework Solutions - Dataweek   \n",
       "3                                     Strategy Analytics: 71% of Smartphones Sold Globally in 2021 will be AI Powered – Consumer Electronics Net   \n",
       "4  Olympus to Support Endoscopic AI Diagnosis Education for Doctors in India and to Launch AI Diagnostic Support Application | | IT Business Net   \n",
       "\n",
       "                                                                                                                                                                                                                                                                                                                                                                                                                                                                                                                  text  \n",
       "0  \\n\\nArtificial intelligence improves parking efficiency in Chinese cities - People's Daily Online\\n\\nHome\\nChina Politics\\nForeign Affairs\\nOpinions\\nVideo: We Are China\\nBusiness\\nMilitary\\nWorld\\nSociety\\nCulture\\nTravel\\nScience\\nSports\\nPhoto\\n\\nLanguages\\n\\nChinese\\nJapanese\\nFrench\\nSpanish\\nRussian\\nArabic\\nKorean\\nGerman\\nPortuguese\\nThursday, March 18, 2021\\nHome>>\\n\\t\\t\\nArtificial intelligence improves parking efficiency in Chinese cities\\nBy Liu Shiyao (People's Daily) 09:16, Mar...  \n",
       "1  \\nChildren With Autism Saw Their Learning and Social Skills Boosted After Playing With This AI Robot – News Parliament\\n \\n\\nSkip to content\\n\\t\\t\\tThursday, February 27, 2020\\t\\t\\n\\nLatest:\\n\\n\\nMansplaining in conferences: How can we get him to forestall?\\n\\n\\nDrax power station to cease burning coal in March 2021\\n\\n\\nCoronavirus Could Explode in the U.S. Overnight Like it Did in Italy\\n\\n\\nCoronavirus: Dettol sales surge as markets fall again\\n\\n\\nLevi Strauss marks the next phase in cor...  \n",
       "2  \\n\\nForget ML, AI and Industry 4.0 – obsolescence should be your focus - 26 February 2021 - Test & Rework Solutions - Dataweek\\nHome\\nAbout us\\nBack issues / E-book / PDF\\nEMP Handbook\\nSubscribe\\nAdvertise\\n\\nCategories\\n\\n▸ Editor's Choice\\n▸ Multimedia, Videos\\n▸ Analogue, Mixed Signal, LSI\\n▸ Circuit & System Protection\\n▸ Computer/Embedded Technology\\n▸ Design Automation\\n▸ DSP, Micros & Memory\\n▸ Electronics Technology\\n▸ Enclosures, Racks, Cabinets & Panel Products\\n▸ Events\\n▸ Interc...  \n",
       "3  \\n\\nStrategy Analytics: 71% of Smartphones Sold Globally in 2021 will be AI Powered – Consumer Electronics Net\\n \\nSkip to content\\n\\nConsumer Electronics Net\\n\\nPrimary Menu\\n\\nConsumer Electronics Net\\n\\nSearch for:\\n \\nHomeNewsStrategy Analytics: 71% of Smartphones Sold Globally in 2021 will be AI Powered \\n \\n                                 News\\n                             \\n \\nStrategy Analytics: 71% of Smartphones Sold Globally in 2021 will be AI Powered\\n                    7 hours...  \n",
       "4  \\n\\nOlympus to Support Endoscopic AI Diagnosis Education for Doctors in India and to Launch AI Diagnostic Support Application | | IT Business Net\\n \\nSkip to content\\n\\nIT Business Net\\n\\nNews for IT Professionals\\nPrimary Menu\\n\\nIT Business Net\\nAbout IT Business Net\\n\\nSearch for:\\n \\nHome2020OctoberOlympus to Support Endoscopic AI Diagnosis Education for Doctors in India and to Launch AI Diagnostic Support Application \\n \\n                                 News\\n                          ...  "
      ]
     },
     "execution_count": 7,
     "metadata": {},
     "output_type": "execute_result"
    }
   ],
   "source": [
    "df_news_raw.head()"
   ]
  },
  {
   "attachments": {},
   "cell_type": "markdown",
   "metadata": {},
   "source": [
    "## Text Cleaning\n",
    "\n",
    "- Filter out non-English articles\n",
    "- Add id column\n",
    "- Remove web crawling artifacts\n",
    "- Remove Urls and links\n",
    "- Remove punctuation and special characters"
   ]
  },
  {
   "cell_type": "code",
   "execution_count": 8,
   "metadata": {},
   "outputs": [],
   "source": [
    "# Filter non-English articles\n",
    "df_news = df_news_raw[df_news_raw['language'] == 'en'].reset_index(drop=True)"
   ]
  },
  {
   "cell_type": "code",
   "execution_count": 9,
   "metadata": {},
   "outputs": [],
   "source": [
    "# Create id column\n",
    "df_news['id'] = df_news.index"
   ]
  },
  {
   "cell_type": "code",
   "execution_count": 10,
   "metadata": {},
   "outputs": [
    {
     "data": {
      "text/plain": [
       "url         0\n",
       "date        0\n",
       "language    0\n",
       "title       0\n",
       "text        0\n",
       "id          0\n",
       "dtype: int64"
      ]
     },
     "execution_count": 10,
     "metadata": {},
     "output_type": "execute_result"
    }
   ],
   "source": [
    "# Check for missing values\n",
    "df_news.isnull().sum()"
   ]
  },
  {
   "attachments": {},
   "cell_type": "markdown",
   "metadata": {},
   "source": [
    "### Clean News Titles"
   ]
  },
  {
   "cell_type": "code",
   "execution_count": 11,
   "metadata": {},
   "outputs": [],
   "source": [
    "# define function to clean news titles\n",
    "def clean_news_title(title):\n",
    "\n",
    "    # remove name of news source (at the end of the title)\n",
    "    split_chars = [' | ', ' - ', ' – ', ' — ']\n",
    "    for char in split_chars:\n",
    "        if char in title:\n",
    "            title = title.split(char)[-0]\n",
    "            break\n",
    "\n",
    "    return title"
   ]
  },
  {
   "cell_type": "code",
   "execution_count": 12,
   "metadata": {},
   "outputs": [
    {
     "name": "stdout",
     "output_type": "stream",
     "text": [
      "CPU times: user 206 ms, sys: 10.8 ms, total: 216 ms\n",
      "Wall time: 215 ms\n"
     ]
    }
   ],
   "source": [
    "%%time\n",
    "\n",
    "# clean the news title\n",
    "news_title_cleaned = np.array(df_news['title'].apply(clean_news_title))\n",
    "df_news['cleaned title'] = news_title_cleaned"
   ]
  },
  {
   "cell_type": "code",
   "execution_count": 13,
   "metadata": {},
   "outputs": [
    {
     "data": {
      "text/html": [
       "<div>\n",
       "<style scoped>\n",
       "    .dataframe tbody tr th:only-of-type {\n",
       "        vertical-align: middle;\n",
       "    }\n",
       "\n",
       "    .dataframe tbody tr th {\n",
       "        vertical-align: top;\n",
       "    }\n",
       "\n",
       "    .dataframe thead th {\n",
       "        text-align: right;\n",
       "    }\n",
       "</style>\n",
       "<table border=\"1\" class=\"dataframe\">\n",
       "  <thead>\n",
       "    <tr style=\"text-align: right;\">\n",
       "      <th></th>\n",
       "      <th>title</th>\n",
       "      <th>cleaned title</th>\n",
       "    </tr>\n",
       "  </thead>\n",
       "  <tbody>\n",
       "    <tr>\n",
       "      <th>104231</th>\n",
       "      <td>SK hynix Develops PIM, Next-Generation AI Accelerator</td>\n",
       "      <td>SK hynix Develops PIM, Next-Generation AI Accelerator</td>\n",
       "    </tr>\n",
       "    <tr>\n",
       "      <th>171930</th>\n",
       "      <td>Hewlett Packard Enterprise Powers the University of Edinburgh’s International Data Facility with Software, HPC and AI Solutions  | Business Wire</td>\n",
       "      <td>Hewlett Packard Enterprise Powers the University of Edinburgh’s International Data Facility with Software, HPC and AI Solutions</td>\n",
       "    </tr>\n",
       "    <tr>\n",
       "      <th>185642</th>\n",
       "      <td>SDAIA, Google Cloud to launch training program to empower women in AI sector</td>\n",
       "      <td>SDAIA, Google Cloud to launch training program to empower women in AI sector</td>\n",
       "    </tr>\n",
       "    <tr>\n",
       "      <th>181261</th>\n",
       "      <td>Artists are unhappy with a man who submitted AI artwork to a contest</td>\n",
       "      <td>Artists are unhappy with a man who submitted AI artwork to a contest</td>\n",
       "    </tr>\n",
       "    <tr>\n",
       "      <th>195250</th>\n",
       "      <td>Portrait of Shakespeare said to be painted while Bard was alive goes on display - Independent.ie</td>\n",
       "      <td>Portrait of Shakespeare said to be painted while Bard was alive goes on display</td>\n",
       "    </tr>\n",
       "  </tbody>\n",
       "</table>\n",
       "</div>"
      ],
      "text/plain": [
       "                                                                                                                                                   title   \n",
       "104231                                                                                             SK hynix Develops PIM, Next-Generation AI Accelerator  \\\n",
       "171930  Hewlett Packard Enterprise Powers the University of Edinburgh’s International Data Facility with Software, HPC and AI Solutions  | Business Wire   \n",
       "185642                                                                      SDAIA, Google Cloud to launch training program to empower women in AI sector   \n",
       "181261                                                                              Artists are unhappy with a man who submitted AI artwork to a contest   \n",
       "195250                                                  Portrait of Shakespeare said to be painted while Bard was alive goes on display - Independent.ie   \n",
       "\n",
       "                                                                                                                           cleaned title  \n",
       "104231                                                                             SK hynix Develops PIM, Next-Generation AI Accelerator  \n",
       "171930  Hewlett Packard Enterprise Powers the University of Edinburgh’s International Data Facility with Software, HPC and AI Solutions   \n",
       "185642                                                      SDAIA, Google Cloud to launch training program to empower women in AI sector  \n",
       "181261                                                              Artists are unhappy with a man who submitted AI artwork to a contest  \n",
       "195250                                                   Portrait of Shakespeare said to be painted while Bard was alive goes on display  "
      ]
     },
     "execution_count": 13,
     "metadata": {},
     "output_type": "execute_result"
    }
   ],
   "source": [
    "df_news[['title', 'cleaned title']].sample(5)"
   ]
  },
  {
   "cell_type": "code",
   "execution_count": 14,
   "metadata": {},
   "outputs": [
    {
     "data": {
      "text/html": [
       "<div>\n",
       "<style scoped>\n",
       "    .dataframe tbody tr th:only-of-type {\n",
       "        vertical-align: middle;\n",
       "    }\n",
       "\n",
       "    .dataframe tbody tr th {\n",
       "        vertical-align: top;\n",
       "    }\n",
       "\n",
       "    .dataframe thead th {\n",
       "        text-align: right;\n",
       "    }\n",
       "</style>\n",
       "<table border=\"1\" class=\"dataframe\">\n",
       "  <thead>\n",
       "    <tr style=\"text-align: right;\">\n",
       "      <th></th>\n",
       "      <th>title</th>\n",
       "      <th>cleaned title</th>\n",
       "    </tr>\n",
       "  </thead>\n",
       "  <tbody>\n",
       "    <tr>\n",
       "      <th>18629</th>\n",
       "      <td>Wharton Professor Who Tested ChatGPT Says AI Can Be an 'Amazing Tool'</td>\n",
       "      <td>Wharton Professor Who Tested ChatGPT Says AI Can Be an 'Amazing Tool'</td>\n",
       "    </tr>\n",
       "    <tr>\n",
       "      <th>187265</th>\n",
       "      <td>OrigiMed announced its strategic partnership with Janssen to develop clinical innovative solutions driven by data science</td>\n",
       "      <td>OrigiMed announced its strategic partnership with Janssen to develop clinical innovative solutions driven by data science</td>\n",
       "    </tr>\n",
       "    <tr>\n",
       "      <th>55630</th>\n",
       "      <td>Unmanned submarines, flying bikes, AI pilots proposed as future game changers</td>\n",
       "      <td>Unmanned submarines, flying bikes, AI pilots proposed as future game changers</td>\n",
       "    </tr>\n",
       "    <tr>\n",
       "      <th>59151</th>\n",
       "      <td>Replicant Named 2022 Hot Vendor in Conversational AI by Aragon Research</td>\n",
       "      <td>Replicant Named 2022 Hot Vendor in Conversational AI by Aragon Research</td>\n",
       "    </tr>\n",
       "    <tr>\n",
       "      <th>148277</th>\n",
       "      <td>Infosys and Aramco Aim to Leverage AI to Create Digitally Connected Employee Experiences</td>\n",
       "      <td>Infosys and Aramco Aim to Leverage AI to Create Digitally Connected Employee Experiences</td>\n",
       "    </tr>\n",
       "  </tbody>\n",
       "</table>\n",
       "</div>"
      ],
      "text/plain": [
       "                                                                                                                            title   \n",
       "18629                                                       Wharton Professor Who Tested ChatGPT Says AI Can Be an 'Amazing Tool'  \\\n",
       "187265  OrigiMed announced its strategic partnership with Janssen to develop clinical innovative solutions driven by data science   \n",
       "55630                                               Unmanned submarines, flying bikes, AI pilots proposed as future game changers   \n",
       "59151                                                     Replicant Named 2022 Hot Vendor in Conversational AI by Aragon Research   \n",
       "148277                                   Infosys and Aramco Aim to Leverage AI to Create Digitally Connected Employee Experiences   \n",
       "\n",
       "                                                                                                                    cleaned title  \n",
       "18629                                                       Wharton Professor Who Tested ChatGPT Says AI Can Be an 'Amazing Tool'  \n",
       "187265  OrigiMed announced its strategic partnership with Janssen to develop clinical innovative solutions driven by data science  \n",
       "55630                                               Unmanned submarines, flying bikes, AI pilots proposed as future game changers  \n",
       "59151                                                     Replicant Named 2022 Hot Vendor in Conversational AI by Aragon Research  \n",
       "148277                                   Infosys and Aramco Aim to Leverage AI to Create Digitally Connected Employee Experiences  "
      ]
     },
     "execution_count": 14,
     "metadata": {},
     "output_type": "execute_result"
    }
   ],
   "source": [
    "# Filter out titles stays the same after cleaning\n",
    "df_uncleaned = df_news[df_news['title'] == df_news['cleaned title']]\n",
    "df_uncleaned[['title', 'cleaned title']].sample(5)"
   ]
  },
  {
   "attachments": {},
   "cell_type": "markdown",
   "metadata": {},
   "source": [
    "### Clean News Text"
   ]
  },
  {
   "cell_type": "code",
   "execution_count": 15,
   "metadata": {},
   "outputs": [
    {
     "data": {
      "text/plain": [
       "0"
      ]
     },
     "execution_count": 15,
     "metadata": {},
     "output_type": "execute_result"
    }
   ],
   "source": [
    "# check if any news title is empty after cleaning\n",
    "len(df_news[df_news['cleaned title'] == ''])"
   ]
  },
  {
   "attachments": {},
   "cell_type": "markdown",
   "metadata": {},
   "source": [
    "#### Find Long Paragraphs"
   ]
  },
  {
   "cell_type": "code",
   "execution_count": 16,
   "metadata": {},
   "outputs": [],
   "source": [
    "# find main paragraphs in news articles\n",
    "def find_paragraphs(news_df):\n",
    "\n",
    "    text = news_df['text']\n",
    "    \n",
    "    # remove the space at the end of the title\n",
    "    title = news_df['cleaned title'].strip()\n",
    "\n",
    "    # replace 3 or more spaces with '\\n'\n",
    "    text = re.sub(' {3,}', '\\n', text)\n",
    "\n",
    "    # split text by '\\n' or '\\t'\n",
    "    split_chars = '[\\n\\t]+'\n",
    "    sentences = re.split(split_chars, text)\n",
    "\n",
    "    # remove empty sentences\n",
    "    sentences = [sentence for sentence in sentences if sentence != '']\n",
    "\n",
    "    # remove sentences with less than 10 words except for cleaned title\n",
    "    sentences = [sentence for sentence in sentences if len(\n",
    "        sentence.split()) > 10 or sentence.startswith(title)]\n",
    "\n",
    "    # join sentences by '\\n'\n",
    "    paragraph = '\\n'.join(sentences)\n",
    "\n",
    "    return paragraph"
   ]
  },
  {
   "cell_type": "code",
   "execution_count": 17,
   "metadata": {},
   "outputs": [
    {
     "name": "stdout",
     "output_type": "stream",
     "text": [
      "CPU times: user 1min 20s, sys: 1.16 s, total: 1min 22s\n",
      "Wall time: 1min 22s\n"
     ]
    }
   ],
   "source": [
    "%%time\n",
    "\n",
    "# find paragraphs in news articles\n",
    "news_paragraphs = df_news.apply(find_paragraphs, axis=1)\n",
    "df_news['paragraph'] = news_paragraphs"
   ]
  },
  {
   "cell_type": "code",
   "execution_count": 18,
   "metadata": {},
   "outputs": [
    {
     "data": {
      "text/html": [
       "<div>\n",
       "<style scoped>\n",
       "    .dataframe tbody tr th:only-of-type {\n",
       "        vertical-align: middle;\n",
       "    }\n",
       "\n",
       "    .dataframe tbody tr th {\n",
       "        vertical-align: top;\n",
       "    }\n",
       "\n",
       "    .dataframe thead th {\n",
       "        text-align: right;\n",
       "    }\n",
       "</style>\n",
       "<table border=\"1\" class=\"dataframe\">\n",
       "  <thead>\n",
       "    <tr style=\"text-align: right;\">\n",
       "      <th></th>\n",
       "      <th>text</th>\n",
       "      <th>paragraph</th>\n",
       "    </tr>\n",
       "  </thead>\n",
       "  <tbody>\n",
       "    <tr>\n",
       "      <th>28939</th>\n",
       "      <td>Vectorspace AI Releases Thematic Crypto Basket APIs for Exchanges\\n\\nSkip to contentCircle - Country Music &amp; LifestyleAdvertise With UsTeacher TributeAsk The ExpertHealth UpdateWatch LiveNewsVideoVaccine TrackerWeatherSportsCommunityContestsAbout UsCoronavirusSearchHomeWatch East Texas NowWatch Live/Watch NewscastsBig Red BoxSee it, Snap it, Send itNewsNationalCrimeCoronavirusStateA Better East TexasHeroes FlightEast Texas Now7 InvestigatesPet ProjectSept 11thVideoWeatherLake LevelsPollen Ce...</td>\n",
       "      <td>Vectorspace AI Releases Thematic Crypto Basket APIs for Exchanges\\nSkip to contentCircle - Country Music &amp; LifestyleAdvertise With UsTeacher TributeAsk The ExpertHealth UpdateWatch LiveNewsVideoVaccine TrackerWeatherSportsCommunityContestsAbout UsCoronavirusSearchHomeWatch East Texas NowWatch Live/Watch NewscastsBig Red BoxSee it, Snap it, Send itNewsNationalCrimeCoronavirusStateA Better East TexasHeroes FlightEast Texas Now7 InvestigatesPet ProjectSept 11thVideoWeatherLake LevelsPollen Cent...</td>\n",
       "    </tr>\n",
       "    <tr>\n",
       "      <th>169653</th>\n",
       "      <td>\\n\\nArtificial Intelligence in Energy Market Research Report, Size, Share, Industry Outlook – 2020-2028 – The Bisouv Network\\n\\nSkip to the content\\n\\n \\nSearch\\nThe Bisouv Network\\n\\n \\nMenu\\n\\nEnergy\\nEntertainment\\nFashion\\nPolitics\\nSports\\nAll News\\nWorld\\nContact\\n\\n Search\\nSearch for:\\nClose search\\n \\nClose Menu\\n \\n\\n\\nEnergy\\nEntertainment\\nFashion\\nPolitics\\nSports\\nAll News\\nWorld\\nContact\\nCategories\\n\\nAll News \\n\\nArtificial Intelligence in Energy Market Research Report, Size...</td>\n",
       "      <td>Artificial Intelligence in Energy Market Research Report, Size, Share, Industry Outlook – 2020-2028 – The Bisouv Network\\nArtificial Intelligence in Energy Market Research Report, Size, Share, Industry Outlook – 2020-2028\\nThe global Artificial Intelligence in energy market is expected to reach a market size of USD 20.83 Billion at a steady CAGR of 23.6% in 2028, according to latest analysis by Emergen Research. Adoption of Artificial Intelligence solutions among oilfield services providers ...</td>\n",
       "    </tr>\n",
       "    <tr>\n",
       "      <th>196969</th>\n",
       "      <td>\\nGoogle unveils its ChatGPT rival: Bard | CNN Business\\n\\nCNN values your feedback\\n\\n                                                        1. How relevant is this ad to you?\\n                                                \\n\\n                                                2. Did you encounter any technical issues?\\n                                        \\n                                                                        Video player was slow to load content\\n                    ...</td>\n",
       "      <td>Google unveils its ChatGPT rival: Bard | CNN Business\\nVideo: This tiny shape-shifting robot can melt its way out of a cage\\nVideo: This tiny shape-shifting robot can melt its way out of a cage\\nHear why this teacher says schools should embrace ChatGPT, not ban it\\n'Make my dad famous': A daughter's quest to showcase her dad's artwork\\nHe loves artificial intelligence. Hear why he is issuing a warning about ChatGPT\\nTinder is reportedly testing a $500 per month subscription plan. Is it worth...</td>\n",
       "    </tr>\n",
       "    <tr>\n",
       "      <th>41131</th>\n",
       "      <td>AIRS Medical showcases award-winning MRI enhancement AI solution at RSNA 2022\\n\\nSkip to contentFirst Alert WeatherShare Your HolidaysNBC15 InvestigatesLatest NewsNewscastsConnectedHomeSubmit a News TipSubmit Photos, VideoFirst Alert WeatherClosingsDownload AppInteractive RadarMap RoomWeather CamsWeather HeadlinesNewsLocalStateRegionalNationalCrimeMaking A DifferenceCoronavirusCOVID-19 NewsVaccine TrackerCOVID-19 MapNavigating SchoolNBC15 InvestigatesNBC15 InvestigatesInvestigate TVShare You...</td>\n",
       "      <td>AIRS Medical showcases award-winning MRI enhancement AI solution at RSNA 2022\\nSkip to contentFirst Alert WeatherShare Your HolidaysNBC15 InvestigatesLatest NewsNewscastsConnectedHomeSubmit a News TipSubmit Photos, VideoFirst Alert WeatherClosingsDownload AppInteractive RadarMap RoomWeather CamsWeather HeadlinesNewsLocalStateRegionalNationalCrimeMaking A DifferenceCoronavirusCOVID-19 NewsVaccine TrackerCOVID-19 MapNavigating SchoolNBC15 InvestigatesNBC15 InvestigatesInvestigate TVShare Your ...</td>\n",
       "    </tr>\n",
       "    <tr>\n",
       "      <th>77576</th>\n",
       "      <td>The third Wireless Communication AI Competition has been launched by IMT-2020(5G) Promotion Group\\n\\nSkip to contentSky CamsBusiness PartnersCommunity CalendarTop TeacherLive HealthyBooks to KidsLiveNewsWeatherSportsMorning BreakInvestigatesCommunityHomeProgramming ScheduleDownload Our AppsSubmit Photos &amp; VideosNewsHealthBack 2 SchoolCoronavirusTracking the VaccineCrimeMurdaugh CaseLowcountry NewsWTOC InvestigatesEducationElections CenterTrafficGas PricesNationalFirst Alert WeatherHeadlinesS...</td>\n",
       "      <td>The third Wireless Communication AI Competition has been launched by IMT-2020(5G) Promotion Group\\nSkip to contentSky CamsBusiness PartnersCommunity CalendarTop TeacherLive HealthyBooks to KidsLiveNewsWeatherSportsMorning BreakInvestigatesCommunityHomeProgramming ScheduleDownload Our AppsSubmit Photos &amp; VideosNewsHealthBack 2 SchoolCoronavirusTracking the VaccineCrimeMurdaugh CaseLowcountry NewsWTOC InvestigatesEducationElections CenterTrafficGas PricesNationalFirst Alert WeatherHeadlinesSky...</td>\n",
       "    </tr>\n",
       "  </tbody>\n",
       "</table>\n",
       "</div>"
      ],
      "text/plain": [
       "                                                                                                                                                                                                                                                                                                                                                                                                                                                                                                                       text   \n",
       "28939   Vectorspace AI Releases Thematic Crypto Basket APIs for Exchanges\\n\\nSkip to contentCircle - Country Music & LifestyleAdvertise With UsTeacher TributeAsk The ExpertHealth UpdateWatch LiveNewsVideoVaccine TrackerWeatherSportsCommunityContestsAbout UsCoronavirusSearchHomeWatch East Texas NowWatch Live/Watch NewscastsBig Red BoxSee it, Snap it, Send itNewsNationalCrimeCoronavirusStateA Better East TexasHeroes FlightEast Texas Now7 InvestigatesPet ProjectSept 11thVideoWeatherLake LevelsPollen Ce...  \\\n",
       "169653  \\n\\nArtificial Intelligence in Energy Market Research Report, Size, Share, Industry Outlook – 2020-2028 – The Bisouv Network\\n\\nSkip to the content\\n\\n \\nSearch\\nThe Bisouv Network\\n\\n \\nMenu\\n\\nEnergy\\nEntertainment\\nFashion\\nPolitics\\nSports\\nAll News\\nWorld\\nContact\\n\\n Search\\nSearch for:\\nClose search\\n \\nClose Menu\\n \\n\\n\\nEnergy\\nEntertainment\\nFashion\\nPolitics\\nSports\\nAll News\\nWorld\\nContact\\nCategories\\n\\nAll News \\n\\nArtificial Intelligence in Energy Market Research Report, Size...   \n",
       "196969  \\nGoogle unveils its ChatGPT rival: Bard | CNN Business\\n\\nCNN values your feedback\\n\\n                                                        1. How relevant is this ad to you?\\n                                                \\n\\n                                                2. Did you encounter any technical issues?\\n                                        \\n                                                                        Video player was slow to load content\\n                    ...   \n",
       "41131   AIRS Medical showcases award-winning MRI enhancement AI solution at RSNA 2022\\n\\nSkip to contentFirst Alert WeatherShare Your HolidaysNBC15 InvestigatesLatest NewsNewscastsConnectedHomeSubmit a News TipSubmit Photos, VideoFirst Alert WeatherClosingsDownload AppInteractive RadarMap RoomWeather CamsWeather HeadlinesNewsLocalStateRegionalNationalCrimeMaking A DifferenceCoronavirusCOVID-19 NewsVaccine TrackerCOVID-19 MapNavigating SchoolNBC15 InvestigatesNBC15 InvestigatesInvestigate TVShare You...   \n",
       "77576   The third Wireless Communication AI Competition has been launched by IMT-2020(5G) Promotion Group\\n\\nSkip to contentSky CamsBusiness PartnersCommunity CalendarTop TeacherLive HealthyBooks to KidsLiveNewsWeatherSportsMorning BreakInvestigatesCommunityHomeProgramming ScheduleDownload Our AppsSubmit Photos & VideosNewsHealthBack 2 SchoolCoronavirusTracking the VaccineCrimeMurdaugh CaseLowcountry NewsWTOC InvestigatesEducationElections CenterTrafficGas PricesNationalFirst Alert WeatherHeadlinesS...   \n",
       "\n",
       "                                                                                                                                                                                                                                                                                                                                                                                                                                                                                                                  paragraph  \n",
       "28939   Vectorspace AI Releases Thematic Crypto Basket APIs for Exchanges\\nSkip to contentCircle - Country Music & LifestyleAdvertise With UsTeacher TributeAsk The ExpertHealth UpdateWatch LiveNewsVideoVaccine TrackerWeatherSportsCommunityContestsAbout UsCoronavirusSearchHomeWatch East Texas NowWatch Live/Watch NewscastsBig Red BoxSee it, Snap it, Send itNewsNationalCrimeCoronavirusStateA Better East TexasHeroes FlightEast Texas Now7 InvestigatesPet ProjectSept 11thVideoWeatherLake LevelsPollen Cent...  \n",
       "169653  Artificial Intelligence in Energy Market Research Report, Size, Share, Industry Outlook – 2020-2028 – The Bisouv Network\\nArtificial Intelligence in Energy Market Research Report, Size, Share, Industry Outlook – 2020-2028\\nThe global Artificial Intelligence in energy market is expected to reach a market size of USD 20.83 Billion at a steady CAGR of 23.6% in 2028, according to latest analysis by Emergen Research. Adoption of Artificial Intelligence solutions among oilfield services providers ...  \n",
       "196969  Google unveils its ChatGPT rival: Bard | CNN Business\\nVideo: This tiny shape-shifting robot can melt its way out of a cage\\nVideo: This tiny shape-shifting robot can melt its way out of a cage\\nHear why this teacher says schools should embrace ChatGPT, not ban it\\n'Make my dad famous': A daughter's quest to showcase her dad's artwork\\nHe loves artificial intelligence. Hear why he is issuing a warning about ChatGPT\\nTinder is reportedly testing a $500 per month subscription plan. Is it worth...  \n",
       "41131   AIRS Medical showcases award-winning MRI enhancement AI solution at RSNA 2022\\nSkip to contentFirst Alert WeatherShare Your HolidaysNBC15 InvestigatesLatest NewsNewscastsConnectedHomeSubmit a News TipSubmit Photos, VideoFirst Alert WeatherClosingsDownload AppInteractive RadarMap RoomWeather CamsWeather HeadlinesNewsLocalStateRegionalNationalCrimeMaking A DifferenceCoronavirusCOVID-19 NewsVaccine TrackerCOVID-19 MapNavigating SchoolNBC15 InvestigatesNBC15 InvestigatesInvestigate TVShare Your ...  \n",
       "77576   The third Wireless Communication AI Competition has been launched by IMT-2020(5G) Promotion Group\\nSkip to contentSky CamsBusiness PartnersCommunity CalendarTop TeacherLive HealthyBooks to KidsLiveNewsWeatherSportsMorning BreakInvestigatesCommunityHomeProgramming ScheduleDownload Our AppsSubmit Photos & VideosNewsHealthBack 2 SchoolCoronavirusTracking the VaccineCrimeMurdaugh CaseLowcountry NewsWTOC InvestigatesEducationElections CenterTrafficGas PricesNationalFirst Alert WeatherHeadlinesSky...  "
      ]
     },
     "execution_count": 18,
     "metadata": {},
     "output_type": "execute_result"
    }
   ],
   "source": [
    "df_news[['text', 'paragraph']].sample(5)"
   ]
  },
  {
   "cell_type": "code",
   "execution_count": 19,
   "metadata": {},
   "outputs": [
    {
     "data": {
      "text/html": [
       "<div>\n",
       "<style scoped>\n",
       "    .dataframe tbody tr th:only-of-type {\n",
       "        vertical-align: middle;\n",
       "    }\n",
       "\n",
       "    .dataframe tbody tr th {\n",
       "        vertical-align: top;\n",
       "    }\n",
       "\n",
       "    .dataframe thead th {\n",
       "        text-align: right;\n",
       "    }\n",
       "</style>\n",
       "<table border=\"1\" class=\"dataframe\">\n",
       "  <thead>\n",
       "    <tr style=\"text-align: right;\">\n",
       "      <th></th>\n",
       "      <th>url</th>\n",
       "      <th>date</th>\n",
       "      <th>language</th>\n",
       "      <th>title</th>\n",
       "      <th>text</th>\n",
       "      <th>id</th>\n",
       "      <th>cleaned title</th>\n",
       "      <th>paragraph</th>\n",
       "    </tr>\n",
       "  </thead>\n",
       "  <tbody>\n",
       "    <tr>\n",
       "      <th>55364</th>\n",
       "      <td>https://www.post-gazette.com/opinion/Op-Ed/2021/11/03/Maureen-Dowd-AI-is-not-A-OK/stories/202111030018</td>\n",
       "      <td>2021-11-03</td>\n",
       "      <td>en</td>\n",
       "      <td>Maureen Dowd: AI is not A-OK  | Pittsburgh Post-Gazette</td>\n",
       "      <td>\\n Maureen Dowd: AI is not A-OK  | Pittsburgh Post-Gazette\\n\\n \\n \\n12:09AM\\nObituaries\\nPGe\\n\\nPG Store\\nArchives\\n\\nClassifieds \\n\\nClassified\\nEvents\\nJobs\\nReal Estate\\nLegal Notices\\nPets\\n\\nMENU\\n\\nSUBSCRIBE\\n\\n\\nLOGIN\\n\\n\\nREGISTER\\n\\n\\nLOG OUT\\n\\n\\nMY PROFILE\\n \\n\\nHome\\nNews\\nLocal\\nSports\\nOpinion\\nA&amp;E\\nLife\\nBusiness\\nContact Us\\n\\n\\n \\nNEWSLETTERS\\n \\n \\nMENU\\nACCOUNT\\n\\nSubscribe\\n\\n\\nLogin\\n\\n\\nRegister\\n\\n\\nLog out\\n\\n\\nMy Profile\\n\\n\\nSubscriber Services\\n\\nSearch\\nSECTIONS\\n...</td>\n",
       "      <td>55364</td>\n",
       "      <td>Maureen Dowd: AI is not A-OK</td>\n",
       "      <td></td>\n",
       "    </tr>\n",
       "  </tbody>\n",
       "</table>\n",
       "</div>"
      ],
      "text/plain": [
       "                                                                                                          url   \n",
       "55364  https://www.post-gazette.com/opinion/Op-Ed/2021/11/03/Maureen-Dowd-AI-is-not-A-OK/stories/202111030018  \\\n",
       "\n",
       "             date language   \n",
       "55364  2021-11-03       en  \\\n",
       "\n",
       "                                                          title   \n",
       "55364   Maureen Dowd: AI is not A-OK  | Pittsburgh Post-Gazette  \\\n",
       "\n",
       "                                                                                                                                                                                                                                                                                                                                                                                                                                                                                                                      text   \n",
       "55364  \\n Maureen Dowd: AI is not A-OK  | Pittsburgh Post-Gazette\\n\\n \\n \\n12:09AM\\nObituaries\\nPGe\\n\\nPG Store\\nArchives\\n\\nClassifieds \\n\\nClassified\\nEvents\\nJobs\\nReal Estate\\nLegal Notices\\nPets\\n\\nMENU\\n\\nSUBSCRIBE\\n\\n\\nLOGIN\\n\\n\\nREGISTER\\n\\n\\nLOG OUT\\n\\n\\nMY PROFILE\\n \\n\\nHome\\nNews\\nLocal\\nSports\\nOpinion\\nA&E\\nLife\\nBusiness\\nContact Us\\n\\n\\n \\nNEWSLETTERS\\n \\n \\nMENU\\nACCOUNT\\n\\nSubscribe\\n\\n\\nLogin\\n\\n\\nRegister\\n\\n\\nLog out\\n\\n\\nMy Profile\\n\\n\\nSubscriber Services\\n\\nSearch\\nSECTIONS\\n...  \\\n",
       "\n",
       "          id                   cleaned title paragraph  \n",
       "55364  55364   Maureen Dowd: AI is not A-OK             "
      ]
     },
     "execution_count": 19,
     "metadata": {},
     "output_type": "execute_result"
    }
   ],
   "source": [
    "# check if any news article paragraph is empty after cleaning\n",
    "df_news[df_news['paragraph'] == ''].head()"
   ]
  },
  {
   "cell_type": "code",
   "execution_count": 20,
   "metadata": {},
   "outputs": [
    {
     "data": {
      "text/plain": [
       "1"
      ]
     },
     "execution_count": 20,
     "metadata": {},
     "output_type": "execute_result"
    }
   ],
   "source": [
    "len(df_news[df_news['paragraph'] == ''])"
   ]
  },
  {
   "attachments": {},
   "cell_type": "markdown",
   "metadata": {},
   "source": [
    "#### Find Main Text"
   ]
  },
  {
   "cell_type": "code",
   "execution_count": 21,
   "metadata": {},
   "outputs": [],
   "source": [
    "# function to extract news main text by searching the location of news title (cleaned)\n",
    "def extract_news_text(news_df):\n",
    "    paragraph = news_df['paragraph']\n",
    "    title = news_df['cleaned title']\n",
    "\n",
    "    try:\n",
    "        # split paragraph by title\n",
    "        texts = paragraph.split(title)\n",
    "\n",
    "        # get the text section with the longest length\n",
    "        text = max(texts, key=len)\n",
    "\n",
    "        # append the cleaned title back to the text due to the split\n",
    "        text = title + text\n",
    "\n",
    "    except:\n",
    "        text = paragraph\n",
    "\n",
    "    return text"
   ]
  },
  {
   "cell_type": "code",
   "execution_count": 22,
   "metadata": {},
   "outputs": [],
   "source": [
    "# function to remove duplicate sentences in news main text\n",
    "def remove_duplicate_sentences(text):\n",
    "\n",
    "    # split text by '\\n\\t'\n",
    "    sentences = text.split('\\n')\n",
    "\n",
    "    # remove duplicate sentences while preserving the order\n",
    "    sentences = list(dict.fromkeys(sentences))\n",
    "\n",
    "    # join sentences by '\\n'\n",
    "    text = '\\n'.join(sentences)\n",
    "\n",
    "    return text"
   ]
  },
  {
   "cell_type": "code",
   "execution_count": 23,
   "metadata": {},
   "outputs": [
    {
     "name": "stdout",
     "output_type": "stream",
     "text": [
      "CPU times: user 5.26 s, sys: 4.61 s, total: 9.86 s\n",
      "Wall time: 12.9 s\n"
     ]
    }
   ],
   "source": [
    "%%time\n",
    "\n",
    "# extract news text\n",
    "news_text = df_news.apply(extract_news_text, axis=1)\n",
    "df_news['main text'] = news_text"
   ]
  },
  {
   "cell_type": "code",
   "execution_count": 24,
   "metadata": {},
   "outputs": [
    {
     "name": "stdout",
     "output_type": "stream",
     "text": [
      "CPU times: user 4.72 s, sys: 4.19 s, total: 8.91 s\n",
      "Wall time: 12.4 s\n"
     ]
    }
   ],
   "source": [
    "%%time\n",
    "\n",
    "# remove duplicate sentences in news text\n",
    "news_text_cleaned = np.array(df_news['main text'].apply(remove_duplicate_sentences))\n",
    "df_news['main text nodup'] = news_text_cleaned"
   ]
  },
  {
   "cell_type": "code",
   "execution_count": 25,
   "metadata": {},
   "outputs": [
    {
     "data": {
      "text/html": [
       "<div>\n",
       "<style scoped>\n",
       "    .dataframe tbody tr th:only-of-type {\n",
       "        vertical-align: middle;\n",
       "    }\n",
       "\n",
       "    .dataframe tbody tr th {\n",
       "        vertical-align: top;\n",
       "    }\n",
       "\n",
       "    .dataframe thead th {\n",
       "        text-align: right;\n",
       "    }\n",
       "</style>\n",
       "<table border=\"1\" class=\"dataframe\">\n",
       "  <thead>\n",
       "    <tr style=\"text-align: right;\">\n",
       "      <th></th>\n",
       "      <th>text</th>\n",
       "      <th>paragraph</th>\n",
       "      <th>main text</th>\n",
       "      <th>main text nodup</th>\n",
       "    </tr>\n",
       "  </thead>\n",
       "  <tbody>\n",
       "    <tr>\n",
       "      <th>0</th>\n",
       "      <td>\\n\\nArtificial intelligence improves parking efficiency in Chinese cities - People's Daily Online\\n\\nHome\\nChina Politics\\nForeign Affairs\\nOpinions\\nVideo: We Are China\\nBusiness\\nMilitary\\nWorld\\nSociety\\nCulture\\nTravel\\nScience\\nSports\\nPhoto\\n\\nLanguages\\n\\nChinese\\nJapanese\\nFrench\\nSpanish\\nRussian\\nArabic\\nKorean\\nGerman\\nPortuguese\\nThursday, March 18, 2021\\nHome&gt;&gt;\\n\\t\\t\\nArtificial intelligence improves parking efficiency in Chinese cities\\nBy Liu Shiyao (People's Daily) 09:16, Mar...</td>\n",
       "      <td>Artificial intelligence improves parking efficiency in Chinese cities - People's Daily Online\\nArtificial intelligence improves parking efficiency in Chinese cities\\nPhoto taken on July 1, 2019, shows a sign for electronic toll collection (ETC) newly set up at a roadside parking space on Yangzhuang road, Shijingshan district, Beijing. Some urban areas of the city started to use ETC system for roadside parking spaces since July 1, 2019. (People’s Daily Online/Li Wenming)\\nThanks to the applic...</td>\n",
       "      <td>Artificial intelligence improves parking efficiency in Chinese cities\\nPhoto taken on July 1, 2019, shows a sign for electronic toll collection (ETC) newly set up at a roadside parking space on Yangzhuang road, Shijingshan district, Beijing. Some urban areas of the city started to use ETC system for roadside parking spaces since July 1, 2019. (People’s Daily Online/Li Wenming)\\nThanks to the application of an artificial intelligence (AI)-empowered roadside electronic toll collection (ETC) sy...</td>\n",
       "      <td>Artificial intelligence improves parking efficiency in Chinese cities\\nPhoto taken on July 1, 2019, shows a sign for electronic toll collection (ETC) newly set up at a roadside parking space on Yangzhuang road, Shijingshan district, Beijing. Some urban areas of the city started to use ETC system for roadside parking spaces since July 1, 2019. (People’s Daily Online/Li Wenming)\\nThanks to the application of an artificial intelligence (AI)-empowered roadside electronic toll collection (ETC) sy...</td>\n",
       "    </tr>\n",
       "    <tr>\n",
       "      <th>1</th>\n",
       "      <td>\\nChildren With Autism Saw Their Learning and Social Skills Boosted After Playing With This AI Robot – News Parliament\\n \\n\\nSkip to content\\n\\t\\t\\tThursday, February 27, 2020\\t\\t\\n\\nLatest:\\n\\n\\nMansplaining in conferences: How can we get him to forestall?\\n\\n\\nDrax power station to cease burning coal in March 2021\\n\\n\\nCoronavirus Could Explode in the U.S. Overnight Like it Did in Italy\\n\\n\\nCoronavirus: Dettol sales surge as markets fall again\\n\\n\\nLevi Strauss marks the next phase in cor...</td>\n",
       "      <td>Children With Autism Saw Their Learning and Social Skills Boosted After Playing With This AI Robot – News Parliament\\nCoronavirus Could Explode in the U.S. Overnight Like it Did in Italy\\nLevi Strauss marks the next phase in corporate paid leave policies\\nChildren With Autism Saw Their Learning and Social Skills Boosted After Playing With This AI Robot\\nadmin  Latest posts by admin (see all)  Mansplaining in conferences: How can we get him to forestall? - February 27, 2020\\nCoronavirus Could...</td>\n",
       "      <td>Children With Autism Saw Their Learning and Social Skills Boosted After Playing With This AI Robot\\nadmin  Latest posts by admin (see all)  Mansplaining in conferences: How can we get him to forestall? - February 27, 2020\\nCoronavirus Could Explode in the U.S. Overnight Like it Did in Italy - February 27, 2020\\nLevi Strauss marks the next phase in corporate paid leave policies - February 27, 2020\\nScientists who designed an artificially clever robotic that helped youngsters with autism spice...</td>\n",
       "      <td>Children With Autism Saw Their Learning and Social Skills Boosted After Playing With This AI Robot\\nadmin  Latest posts by admin (see all)  Mansplaining in conferences: How can we get him to forestall? - February 27, 2020\\nCoronavirus Could Explode in the U.S. Overnight Like it Did in Italy - February 27, 2020\\nLevi Strauss marks the next phase in corporate paid leave policies - February 27, 2020\\nScientists who designed an artificially clever robotic that helped youngsters with autism spice...</td>\n",
       "    </tr>\n",
       "    <tr>\n",
       "      <th>2</th>\n",
       "      <td>\\n\\nForget ML, AI and Industry 4.0 – obsolescence should be your focus - 26 February 2021 - Test &amp; Rework Solutions - Dataweek\\nHome\\nAbout us\\nBack issues / E-book / PDF\\nEMP Handbook\\nSubscribe\\nAdvertise\\n\\nCategories\\n\\n▸ Editor's Choice\\n▸ Multimedia, Videos\\n▸ Analogue, Mixed Signal, LSI\\n▸ Circuit &amp; System Protection\\n▸ Computer/Embedded Technology\\n▸ Design Automation\\n▸ DSP, Micros &amp; Memory\\n▸ Electronics Technology\\n▸ Enclosures, Racks, Cabinets &amp; Panel Products\\n▸ Events\\n▸ Interc...</td>\n",
       "      <td>Forget ML, AI and Industry 4.0 – obsolescence should be your focus - 26 February 2021 - Test &amp; Rework Solutions - Dataweek\\nForget ML, AI and Industry 4.0 – obsolescence should be your focus\\nThe world entered a new era of accelerated transformation in the last eighteen months that will continue to evolve and press forward for years to come. Most businesses are playing catch-up trying to make sense of a new timeline where the ten years that had been set aside for careful planning and impleme...</td>\n",
       "      <td>Forget ML, AI and Industry 4.0 – obsolescence should be your focus\\nThe world entered a new era of accelerated transformation in the last eighteen months that will continue to evolve and press forward for years to come. Most businesses are playing catch-up trying to make sense of a new timeline where the ten years that had been set aside for careful planning and implementation of what was coming up next no longer exists. The next is happening now and, regardless of your industry or seniority...</td>\n",
       "      <td>Forget ML, AI and Industry 4.0 – obsolescence should be your focus\\nThe world entered a new era of accelerated transformation in the last eighteen months that will continue to evolve and press forward for years to come. Most businesses are playing catch-up trying to make sense of a new timeline where the ten years that had been set aside for careful planning and implementation of what was coming up next no longer exists. The next is happening now and, regardless of your industry or seniority...</td>\n",
       "    </tr>\n",
       "    <tr>\n",
       "      <th>3</th>\n",
       "      <td>\\n\\nStrategy Analytics: 71% of Smartphones Sold Globally in 2021 will be AI Powered – Consumer Electronics Net\\n \\nSkip to content\\n\\nConsumer Electronics Net\\n\\nPrimary Menu\\n\\nConsumer Electronics Net\\n\\nSearch for:\\n \\nHomeNewsStrategy Analytics: 71% of Smartphones Sold Globally in 2021 will be AI Powered \\n \\n                                 News\\n                             \\n \\nStrategy Analytics: 71% of Smartphones Sold Globally in 2021 will be AI Powered\\n                    7 hours...</td>\n",
       "      <td>Strategy Analytics: 71% of Smartphones Sold Globally in 2021 will be AI Powered – Consumer Electronics Net\\nHomeNewsStrategy Analytics: 71% of Smartphones Sold Globally in 2021 will be AI Powered \\nStrategy Analytics: 71% of Smartphones Sold Globally in 2021 will be AI Powered\\nBOSTON–(BUSINESS WIRE)–Strategy Analytics in a newly published report, Smartphones: Global Artificial Intelligence Technologies Forecast to 2025, finds that on-device Artificial Intelligence (AI) is being rapidly impl...</td>\n",
       "      <td>Strategy Analytics: 71% of Smartphones Sold Globally in 2021 will be AI Powered\\nBOSTON–(BUSINESS WIRE)–Strategy Analytics in a newly published report, Smartphones: Global Artificial Intelligence Technologies Forecast to 2025, finds that on-device Artificial Intelligence (AI) is being rapidly implemented by smartphone vendors. AI is used in various functions inside smartphones such as intelligent power optimization, imaging, virtual assistants, and to enhance device performance. The report h...</td>\n",
       "      <td>Strategy Analytics: 71% of Smartphones Sold Globally in 2021 will be AI Powered\\nBOSTON–(BUSINESS WIRE)–Strategy Analytics in a newly published report, Smartphones: Global Artificial Intelligence Technologies Forecast to 2025, finds that on-device Artificial Intelligence (AI) is being rapidly implemented by smartphone vendors. AI is used in various functions inside smartphones such as intelligent power optimization, imaging, virtual assistants, and to enhance device performance. The report h...</td>\n",
       "    </tr>\n",
       "    <tr>\n",
       "      <th>4</th>\n",
       "      <td>\\n\\nOlympus to Support Endoscopic AI Diagnosis Education for Doctors in India and to Launch AI Diagnostic Support Application | | IT Business Net\\n \\nSkip to content\\n\\nIT Business Net\\n\\nNews for IT Professionals\\nPrimary Menu\\n\\nIT Business Net\\nAbout IT Business Net\\n\\nSearch for:\\n \\nHome2020OctoberOlympus to Support Endoscopic AI Diagnosis Education for Doctors in India and to Launch AI Diagnostic Support Application \\n \\n                                 News\\n                          ...</td>\n",
       "      <td>Olympus to Support Endoscopic AI Diagnosis Education for Doctors in India and to Launch AI Diagnostic Support Application | | IT Business Net\\nHome2020OctoberOlympus to Support Endoscopic AI Diagnosis Education for Doctors in India and to Launch AI Diagnostic Support Application \\nOlympus to Support Endoscopic AI Diagnosis Education for Doctors in India and to Launch AI Diagnostic Support Application\\nTOKYO, Oct 20, 2020 – (ACN Newswire) –  Olympus Corporation took part in a ground-breaking ...</td>\n",
       "      <td>Olympus to Support Endoscopic AI Diagnosis Education for Doctors in India and to Launch AI Diagnostic Support Application\\nTOKYO, Oct 20, 2020 – (ACN Newswire) –  Olympus Corporation took part in a ground-breaking project as a business promoter, in cooperation with the Ministry of Internal Affairs and Communications (MIC), entitled, “Survey Study for International Expansion of AI Diagnosis Support System Using Ultra-High Magnifying Endoscopes in India.” The project aims to develop advanced e...</td>\n",
       "      <td>Olympus to Support Endoscopic AI Diagnosis Education for Doctors in India and to Launch AI Diagnostic Support Application\\nTOKYO, Oct 20, 2020 – (ACN Newswire) –  Olympus Corporation took part in a ground-breaking project as a business promoter, in cooperation with the Ministry of Internal Affairs and Communications (MIC), entitled, “Survey Study for International Expansion of AI Diagnosis Support System Using Ultra-High Magnifying Endoscopes in India.” The project aims to develop advanced e...</td>\n",
       "    </tr>\n",
       "  </tbody>\n",
       "</table>\n",
       "</div>"
      ],
      "text/plain": [
       "                                                                                                                                                                                                                                                                                                                                                                                                                                                                                                                  text   \n",
       "0  \\n\\nArtificial intelligence improves parking efficiency in Chinese cities - People's Daily Online\\n\\nHome\\nChina Politics\\nForeign Affairs\\nOpinions\\nVideo: We Are China\\nBusiness\\nMilitary\\nWorld\\nSociety\\nCulture\\nTravel\\nScience\\nSports\\nPhoto\\n\\nLanguages\\n\\nChinese\\nJapanese\\nFrench\\nSpanish\\nRussian\\nArabic\\nKorean\\nGerman\\nPortuguese\\nThursday, March 18, 2021\\nHome>>\\n\\t\\t\\nArtificial intelligence improves parking efficiency in Chinese cities\\nBy Liu Shiyao (People's Daily) 09:16, Mar...  \\\n",
       "1  \\nChildren With Autism Saw Their Learning and Social Skills Boosted After Playing With This AI Robot – News Parliament\\n \\n\\nSkip to content\\n\\t\\t\\tThursday, February 27, 2020\\t\\t\\n\\nLatest:\\n\\n\\nMansplaining in conferences: How can we get him to forestall?\\n\\n\\nDrax power station to cease burning coal in March 2021\\n\\n\\nCoronavirus Could Explode in the U.S. Overnight Like it Did in Italy\\n\\n\\nCoronavirus: Dettol sales surge as markets fall again\\n\\n\\nLevi Strauss marks the next phase in cor...   \n",
       "2  \\n\\nForget ML, AI and Industry 4.0 – obsolescence should be your focus - 26 February 2021 - Test & Rework Solutions - Dataweek\\nHome\\nAbout us\\nBack issues / E-book / PDF\\nEMP Handbook\\nSubscribe\\nAdvertise\\n\\nCategories\\n\\n▸ Editor's Choice\\n▸ Multimedia, Videos\\n▸ Analogue, Mixed Signal, LSI\\n▸ Circuit & System Protection\\n▸ Computer/Embedded Technology\\n▸ Design Automation\\n▸ DSP, Micros & Memory\\n▸ Electronics Technology\\n▸ Enclosures, Racks, Cabinets & Panel Products\\n▸ Events\\n▸ Interc...   \n",
       "3  \\n\\nStrategy Analytics: 71% of Smartphones Sold Globally in 2021 will be AI Powered – Consumer Electronics Net\\n \\nSkip to content\\n\\nConsumer Electronics Net\\n\\nPrimary Menu\\n\\nConsumer Electronics Net\\n\\nSearch for:\\n \\nHomeNewsStrategy Analytics: 71% of Smartphones Sold Globally in 2021 will be AI Powered \\n \\n                                 News\\n                             \\n \\nStrategy Analytics: 71% of Smartphones Sold Globally in 2021 will be AI Powered\\n                    7 hours...   \n",
       "4  \\n\\nOlympus to Support Endoscopic AI Diagnosis Education for Doctors in India and to Launch AI Diagnostic Support Application | | IT Business Net\\n \\nSkip to content\\n\\nIT Business Net\\n\\nNews for IT Professionals\\nPrimary Menu\\n\\nIT Business Net\\nAbout IT Business Net\\n\\nSearch for:\\n \\nHome2020OctoberOlympus to Support Endoscopic AI Diagnosis Education for Doctors in India and to Launch AI Diagnostic Support Application \\n \\n                                 News\\n                          ...   \n",
       "\n",
       "                                                                                                                                                                                                                                                                                                                                                                                                                                                                                                             paragraph   \n",
       "0  Artificial intelligence improves parking efficiency in Chinese cities - People's Daily Online\\nArtificial intelligence improves parking efficiency in Chinese cities\\nPhoto taken on July 1, 2019, shows a sign for electronic toll collection (ETC) newly set up at a roadside parking space on Yangzhuang road, Shijingshan district, Beijing. Some urban areas of the city started to use ETC system for roadside parking spaces since July 1, 2019. (People’s Daily Online/Li Wenming)\\nThanks to the applic...  \\\n",
       "1  Children With Autism Saw Their Learning and Social Skills Boosted After Playing With This AI Robot – News Parliament\\nCoronavirus Could Explode in the U.S. Overnight Like it Did in Italy\\nLevi Strauss marks the next phase in corporate paid leave policies\\nChildren With Autism Saw Their Learning and Social Skills Boosted After Playing With This AI Robot\\nadmin  Latest posts by admin (see all)  Mansplaining in conferences: How can we get him to forestall? - February 27, 2020\\nCoronavirus Could...   \n",
       "2  Forget ML, AI and Industry 4.0 – obsolescence should be your focus - 26 February 2021 - Test & Rework Solutions - Dataweek\\nForget ML, AI and Industry 4.0 – obsolescence should be your focus\\nThe world entered a new era of accelerated transformation in the last eighteen months that will continue to evolve and press forward for years to come. Most businesses are playing catch-up trying to make sense of a new timeline where the ten years that had been set aside for careful planning and impleme...   \n",
       "3  Strategy Analytics: 71% of Smartphones Sold Globally in 2021 will be AI Powered – Consumer Electronics Net\\nHomeNewsStrategy Analytics: 71% of Smartphones Sold Globally in 2021 will be AI Powered \\nStrategy Analytics: 71% of Smartphones Sold Globally in 2021 will be AI Powered\\nBOSTON–(BUSINESS WIRE)–Strategy Analytics in a newly published report, Smartphones: Global Artificial Intelligence Technologies Forecast to 2025, finds that on-device Artificial Intelligence (AI) is being rapidly impl...   \n",
       "4  Olympus to Support Endoscopic AI Diagnosis Education for Doctors in India and to Launch AI Diagnostic Support Application | | IT Business Net\\nHome2020OctoberOlympus to Support Endoscopic AI Diagnosis Education for Doctors in India and to Launch AI Diagnostic Support Application \\nOlympus to Support Endoscopic AI Diagnosis Education for Doctors in India and to Launch AI Diagnostic Support Application\\nTOKYO, Oct 20, 2020 – (ACN Newswire) –  Olympus Corporation took part in a ground-breaking ...   \n",
       "\n",
       "                                                                                                                                                                                                                                                                                                                                                                                                                                                                                                             main text   \n",
       "0  Artificial intelligence improves parking efficiency in Chinese cities\\nPhoto taken on July 1, 2019, shows a sign for electronic toll collection (ETC) newly set up at a roadside parking space on Yangzhuang road, Shijingshan district, Beijing. Some urban areas of the city started to use ETC system for roadside parking spaces since July 1, 2019. (People’s Daily Online/Li Wenming)\\nThanks to the application of an artificial intelligence (AI)-empowered roadside electronic toll collection (ETC) sy...  \\\n",
       "1  Children With Autism Saw Their Learning and Social Skills Boosted After Playing With This AI Robot\\nadmin  Latest posts by admin (see all)  Mansplaining in conferences: How can we get him to forestall? - February 27, 2020\\nCoronavirus Could Explode in the U.S. Overnight Like it Did in Italy - February 27, 2020\\nLevi Strauss marks the next phase in corporate paid leave policies - February 27, 2020\\nScientists who designed an artificially clever robotic that helped youngsters with autism spice...   \n",
       "2  Forget ML, AI and Industry 4.0 – obsolescence should be your focus\\nThe world entered a new era of accelerated transformation in the last eighteen months that will continue to evolve and press forward for years to come. Most businesses are playing catch-up trying to make sense of a new timeline where the ten years that had been set aside for careful planning and implementation of what was coming up next no longer exists. The next is happening now and, regardless of your industry or seniority...   \n",
       "3  Strategy Analytics: 71% of Smartphones Sold Globally in 2021 will be AI Powered\\nBOSTON–(BUSINESS WIRE)–Strategy Analytics in a newly published report, Smartphones: Global Artificial Intelligence Technologies Forecast to 2025, finds that on-device Artificial Intelligence (AI) is being rapidly implemented by smartphone vendors. AI is used in various functions inside smartphones such as intelligent power optimization, imaging, virtual assistants, and to enhance device performance. The report h...   \n",
       "4  Olympus to Support Endoscopic AI Diagnosis Education for Doctors in India and to Launch AI Diagnostic Support Application\\nTOKYO, Oct 20, 2020 – (ACN Newswire) –  Olympus Corporation took part in a ground-breaking project as a business promoter, in cooperation with the Ministry of Internal Affairs and Communications (MIC), entitled, “Survey Study for International Expansion of AI Diagnosis Support System Using Ultra-High Magnifying Endoscopes in India.” The project aims to develop advanced e...   \n",
       "\n",
       "                                                                                                                                                                                                                                                                                                                                                                                                                                                                                                       main text nodup  \n",
       "0  Artificial intelligence improves parking efficiency in Chinese cities\\nPhoto taken on July 1, 2019, shows a sign for electronic toll collection (ETC) newly set up at a roadside parking space on Yangzhuang road, Shijingshan district, Beijing. Some urban areas of the city started to use ETC system for roadside parking spaces since July 1, 2019. (People’s Daily Online/Li Wenming)\\nThanks to the application of an artificial intelligence (AI)-empowered roadside electronic toll collection (ETC) sy...  \n",
       "1  Children With Autism Saw Their Learning and Social Skills Boosted After Playing With This AI Robot\\nadmin  Latest posts by admin (see all)  Mansplaining in conferences: How can we get him to forestall? - February 27, 2020\\nCoronavirus Could Explode in the U.S. Overnight Like it Did in Italy - February 27, 2020\\nLevi Strauss marks the next phase in corporate paid leave policies - February 27, 2020\\nScientists who designed an artificially clever robotic that helped youngsters with autism spice...  \n",
       "2  Forget ML, AI and Industry 4.0 – obsolescence should be your focus\\nThe world entered a new era of accelerated transformation in the last eighteen months that will continue to evolve and press forward for years to come. Most businesses are playing catch-up trying to make sense of a new timeline where the ten years that had been set aside for careful planning and implementation of what was coming up next no longer exists. The next is happening now and, regardless of your industry or seniority...  \n",
       "3  Strategy Analytics: 71% of Smartphones Sold Globally in 2021 will be AI Powered\\nBOSTON–(BUSINESS WIRE)–Strategy Analytics in a newly published report, Smartphones: Global Artificial Intelligence Technologies Forecast to 2025, finds that on-device Artificial Intelligence (AI) is being rapidly implemented by smartphone vendors. AI is used in various functions inside smartphones such as intelligent power optimization, imaging, virtual assistants, and to enhance device performance. The report h...  \n",
       "4  Olympus to Support Endoscopic AI Diagnosis Education for Doctors in India and to Launch AI Diagnostic Support Application\\nTOKYO, Oct 20, 2020 – (ACN Newswire) –  Olympus Corporation took part in a ground-breaking project as a business promoter, in cooperation with the Ministry of Internal Affairs and Communications (MIC), entitled, “Survey Study for International Expansion of AI Diagnosis Support System Using Ultra-High Magnifying Endoscopes in India.” The project aims to develop advanced e...  "
      ]
     },
     "execution_count": 25,
     "metadata": {},
     "output_type": "execute_result"
    }
   ],
   "source": [
    "df_news[['text', 'paragraph', 'main text', 'main text nodup']].head()"
   ]
  },
  {
   "cell_type": "code",
   "execution_count": 26,
   "metadata": {},
   "outputs": [
    {
     "data": {
      "text/html": [
       "<div>\n",
       "<style scoped>\n",
       "    .dataframe tbody tr th:only-of-type {\n",
       "        vertical-align: middle;\n",
       "    }\n",
       "\n",
       "    .dataframe tbody tr th {\n",
       "        vertical-align: top;\n",
       "    }\n",
       "\n",
       "    .dataframe thead th {\n",
       "        text-align: right;\n",
       "    }\n",
       "</style>\n",
       "<table border=\"1\" class=\"dataframe\">\n",
       "  <thead>\n",
       "    <tr style=\"text-align: right;\">\n",
       "      <th></th>\n",
       "      <th>url</th>\n",
       "      <th>date</th>\n",
       "      <th>language</th>\n",
       "      <th>title</th>\n",
       "      <th>text</th>\n",
       "      <th>id</th>\n",
       "      <th>cleaned title</th>\n",
       "      <th>paragraph</th>\n",
       "      <th>main text</th>\n",
       "      <th>main text nodup</th>\n",
       "    </tr>\n",
       "  </thead>\n",
       "  <tbody>\n",
       "    <tr>\n",
       "      <th>43396</th>\n",
       "      <td>https://www.todayonline.com/world/chinese-ai-startup-sensetime-file-hong-kong-ipo-end-august-sources</td>\n",
       "      <td>2021-08-19</td>\n",
       "      <td>en</td>\n",
       "      <td>Chinese AI startup SenseTime to file for Hong Kong IPO by end-August -sources</td>\n",
       "      <td>\\n\\n\\nChinese AI startup SenseTime to file for Hong Kong IPO by end-August -sources\\n\\n</td>\n",
       "      <td>43396</td>\n",
       "      <td>Chinese AI startup SenseTime to file for Hong Kong IPO by end-August -sources</td>\n",
       "      <td>Chinese AI startup SenseTime to file for Hong Kong IPO by end-August -sources</td>\n",
       "      <td>Chinese AI startup SenseTime to file for Hong Kong IPO by end-August -sources</td>\n",
       "      <td>Chinese AI startup SenseTime to file for Hong Kong IPO by end-August -sources</td>\n",
       "    </tr>\n",
       "    <tr>\n",
       "      <th>163009</th>\n",
       "      <td>https://www.alpenhornnews.com/artificial-intelligence-speech-recognition-system-market-73030/</td>\n",
       "      <td>2022-09-28</td>\n",
       "      <td>en</td>\n",
       "      <td>Artificial Intelligence Speech Recognition System  Market Growth By Top Companies with Forecast 2028</td>\n",
       "      <td>\\nArtificial Intelligence Speech Recognition System  Market Growth By Top Companies with Forecast 2028 \\nContact Us\\n\\n\\nAbout Us\\n\\nSeptember 28, 2022\\t\\t\\t\\t\\t\\t\\t\\n\\nBusiness\\n\\n\\nHealth\\n\\n\\nScience\\n\\n\\nTechnology\\n\\n\\nWorld\\n\\nBusiness\\n\\n\\nHealth\\n\\n\\nScience\\n\\n\\nTechnology\\n\\n\\nWorld\\nBusiness\\nHealth\\nScience\\nTechnology\\nWorld\\n</td>\n",
       "      <td>163009</td>\n",
       "      <td>Artificial Intelligence Speech Recognition System  Market Growth By Top Companies with Forecast 2028</td>\n",
       "      <td>Artificial Intelligence Speech Recognition System  Market Growth By Top Companies with Forecast 2028</td>\n",
       "      <td>Artificial Intelligence Speech Recognition System  Market Growth By Top Companies with Forecast 2028</td>\n",
       "      <td>Artificial Intelligence Speech Recognition System  Market Growth By Top Companies with Forecast 2028</td>\n",
       "    </tr>\n",
       "    <tr>\n",
       "      <th>114046</th>\n",
       "      <td>https://www.todayonline.com/world/russia-bans-us-ngo-bard-college</td>\n",
       "      <td>2021-06-21</td>\n",
       "      <td>en</td>\n",
       "      <td>Russia bans U.S. NGO Bard College</td>\n",
       "      <td>\\n\\n\\nRussia bans U.S. NGO Bard College\\n</td>\n",
       "      <td>114046</td>\n",
       "      <td>Russia bans U.S. NGO Bard College</td>\n",
       "      <td>Russia bans U.S. NGO Bard College</td>\n",
       "      <td>Russia bans U.S. NGO Bard College</td>\n",
       "      <td>Russia bans U.S. NGO Bard College</td>\n",
       "    </tr>\n",
       "    <tr>\n",
       "      <th>20601</th>\n",
       "      <td>https://www.alpenhornnews.com/machine-learning-software-market-57352/</td>\n",
       "      <td>2022-09-04</td>\n",
       "      <td>en</td>\n",
       "      <td>Machine Learning Software  Market to Grow with Sustainable CAGR During 2022 â?? 2028</td>\n",
       "      <td>\\nMachine Learning Software  Market to Grow with Sustainable CAGR During 2022 â?? 2028 \\nContact Us\\n\\n\\nAbout Us\\n\\nSeptember 04, 2022\\t\\t\\t\\t\\t\\t\\t\\n\\nBusiness\\n\\n\\nHealth\\n\\n\\nScience\\n\\n\\nTechnology\\n\\n\\nWorld\\n\\nBusiness\\n\\n\\nHealth\\n\\n\\nScience\\n\\n\\nTechnology\\n\\n\\nWorld\\nBusiness\\nHealth\\nScience\\nTechnology\\nWorld\\n</td>\n",
       "      <td>20601</td>\n",
       "      <td>Machine Learning Software  Market to Grow with Sustainable CAGR During 2022 â?? 2028</td>\n",
       "      <td>Machine Learning Software  Market to Grow with Sustainable CAGR During 2022 â?? 2028</td>\n",
       "      <td>Machine Learning Software  Market to Grow with Sustainable CAGR During 2022 â?? 2028</td>\n",
       "      <td>Machine Learning Software  Market to Grow with Sustainable CAGR During 2022 â?? 2028</td>\n",
       "    </tr>\n",
       "    <tr>\n",
       "      <th>115555</th>\n",
       "      <td>https://www.alpenhornnews.com/tiny-machine-learning-tinyml-market-38537/</td>\n",
       "      <td>2022-07-30</td>\n",
       "      <td>en</td>\n",
       "      <td>Tiny Machine Learning (TinyML)  Market Development, Growth, Trends, Demand, Share, Analysis and Forecast 2028</td>\n",
       "      <td>\\nTiny Machine Learning (TinyML)  Market Development, Growth, Trends, Demand, Share, Analysis and Forecast 2028 \\nContact Us\\n\\n\\nAbout Us\\n\\nJuly 30, 2022\\t\\t\\t\\t\\t\\t\\t\\n\\nBusiness\\n\\n\\nHealth\\n\\n\\nScience\\n\\n\\nTechnology\\n\\n\\nWorld\\n\\nBusiness\\n\\n\\nHealth\\n\\n\\nScience\\n\\n\\nTechnology\\n\\n\\nWorld\\nBusiness\\nHealth\\nScience\\nTechnology\\nWorld\\n\\n</td>\n",
       "      <td>115555</td>\n",
       "      <td>Tiny Machine Learning (TinyML)  Market Development, Growth, Trends, Demand, Share, Analysis and Forecast 2028</td>\n",
       "      <td>Tiny Machine Learning (TinyML)  Market Development, Growth, Trends, Demand, Share, Analysis and Forecast 2028</td>\n",
       "      <td>Tiny Machine Learning (TinyML)  Market Development, Growth, Trends, Demand, Share, Analysis and Forecast 2028</td>\n",
       "      <td>Tiny Machine Learning (TinyML)  Market Development, Growth, Trends, Demand, Share, Analysis and Forecast 2028</td>\n",
       "    </tr>\n",
       "  </tbody>\n",
       "</table>\n",
       "</div>"
      ],
      "text/plain": [
       "                                                                                                         url   \n",
       "43396   https://www.todayonline.com/world/chinese-ai-startup-sensetime-file-hong-kong-ipo-end-august-sources  \\\n",
       "163009         https://www.alpenhornnews.com/artificial-intelligence-speech-recognition-system-market-73030/   \n",
       "114046                                     https://www.todayonline.com/world/russia-bans-us-ngo-bard-college   \n",
       "20601                                  https://www.alpenhornnews.com/machine-learning-software-market-57352/   \n",
       "115555                              https://www.alpenhornnews.com/tiny-machine-learning-tinyml-market-38537/   \n",
       "\n",
       "              date language   \n",
       "43396   2021-08-19       en  \\\n",
       "163009  2022-09-28       en   \n",
       "114046  2021-06-21       en   \n",
       "20601   2022-09-04       en   \n",
       "115555  2022-07-30       en   \n",
       "\n",
       "                                                                                                                 title   \n",
       "43396                                    Chinese AI startup SenseTime to file for Hong Kong IPO by end-August -sources  \\\n",
       "163009           Artificial Intelligence Speech Recognition System  Market Growth By Top Companies with Forecast 2028    \n",
       "114046                                                                               Russia bans U.S. NGO Bard College   \n",
       "20601                            Machine Learning Software  Market to Grow with Sustainable CAGR During 2022 â?? 2028    \n",
       "115555  Tiny Machine Learning (TinyML)  Market Development, Growth, Trends, Demand, Share, Analysis and Forecast 2028    \n",
       "\n",
       "                                                                                                                                                                                                                                                                                                                                                               text   \n",
       "43396                                                                                                                                                                                                                                                                       \\n\\n\\nChinese AI startup SenseTime to file for Hong Kong IPO by end-August -sources\\n\\n  \\\n",
       "163009        \\nArtificial Intelligence Speech Recognition System  Market Growth By Top Companies with Forecast 2028 \\nContact Us\\n\\n\\nAbout Us\\n\\nSeptember 28, 2022\\t\\t\\t\\t\\t\\t\\t\\n\\nBusiness\\n\\n\\nHealth\\n\\n\\nScience\\n\\n\\nTechnology\\n\\n\\nWorld\\n\\nBusiness\\n\\n\\nHealth\\n\\n\\nScience\\n\\n\\nTechnology\\n\\n\\nWorld\\nBusiness\\nHealth\\nScience\\nTechnology\\nWorld\\n   \n",
       "114046                                                                                                                                                                                                                                                                                                                    \\n\\n\\nRussia bans U.S. NGO Bard College\\n   \n",
       "20601                         \\nMachine Learning Software  Market to Grow with Sustainable CAGR During 2022 â?? 2028 \\nContact Us\\n\\n\\nAbout Us\\n\\nSeptember 04, 2022\\t\\t\\t\\t\\t\\t\\t\\n\\nBusiness\\n\\n\\nHealth\\n\\n\\nScience\\n\\n\\nTechnology\\n\\n\\nWorld\\n\\nBusiness\\n\\n\\nHealth\\n\\n\\nScience\\n\\n\\nTechnology\\n\\n\\nWorld\\nBusiness\\nHealth\\nScience\\nTechnology\\nWorld\\n   \n",
       "115555  \\nTiny Machine Learning (TinyML)  Market Development, Growth, Trends, Demand, Share, Analysis and Forecast 2028 \\nContact Us\\n\\n\\nAbout Us\\n\\nJuly 30, 2022\\t\\t\\t\\t\\t\\t\\t\\n\\nBusiness\\n\\n\\nHealth\\n\\n\\nScience\\n\\n\\nTechnology\\n\\n\\nWorld\\n\\nBusiness\\n\\n\\nHealth\\n\\n\\nScience\\n\\n\\nTechnology\\n\\n\\nWorld\\nBusiness\\nHealth\\nScience\\nTechnology\\nWorld\\n\\n   \n",
       "\n",
       "            id   \n",
       "43396    43396  \\\n",
       "163009  163009   \n",
       "114046  114046   \n",
       "20601    20601   \n",
       "115555  115555   \n",
       "\n",
       "                                                                                                         cleaned title   \n",
       "43396                                    Chinese AI startup SenseTime to file for Hong Kong IPO by end-August -sources  \\\n",
       "163009           Artificial Intelligence Speech Recognition System  Market Growth By Top Companies with Forecast 2028    \n",
       "114046                                                                               Russia bans U.S. NGO Bard College   \n",
       "20601                            Machine Learning Software  Market to Grow with Sustainable CAGR During 2022 â?? 2028    \n",
       "115555  Tiny Machine Learning (TinyML)  Market Development, Growth, Trends, Demand, Share, Analysis and Forecast 2028    \n",
       "\n",
       "                                                                                                             paragraph   \n",
       "43396                                    Chinese AI startup SenseTime to file for Hong Kong IPO by end-August -sources  \\\n",
       "163009           Artificial Intelligence Speech Recognition System  Market Growth By Top Companies with Forecast 2028    \n",
       "114046                                                                               Russia bans U.S. NGO Bard College   \n",
       "20601                            Machine Learning Software  Market to Grow with Sustainable CAGR During 2022 â?? 2028    \n",
       "115555  Tiny Machine Learning (TinyML)  Market Development, Growth, Trends, Demand, Share, Analysis and Forecast 2028    \n",
       "\n",
       "                                                                                                             main text   \n",
       "43396                                    Chinese AI startup SenseTime to file for Hong Kong IPO by end-August -sources  \\\n",
       "163009           Artificial Intelligence Speech Recognition System  Market Growth By Top Companies with Forecast 2028    \n",
       "114046                                                                               Russia bans U.S. NGO Bard College   \n",
       "20601                            Machine Learning Software  Market to Grow with Sustainable CAGR During 2022 â?? 2028    \n",
       "115555  Tiny Machine Learning (TinyML)  Market Development, Growth, Trends, Demand, Share, Analysis and Forecast 2028    \n",
       "\n",
       "                                                                                                       main text nodup  \n",
       "43396                                    Chinese AI startup SenseTime to file for Hong Kong IPO by end-August -sources  \n",
       "163009           Artificial Intelligence Speech Recognition System  Market Growth By Top Companies with Forecast 2028   \n",
       "114046                                                                               Russia bans U.S. NGO Bard College  \n",
       "20601                            Machine Learning Software  Market to Grow with Sustainable CAGR During 2022 â?? 2028   \n",
       "115555  Tiny Machine Learning (TinyML)  Market Development, Growth, Trends, Demand, Share, Analysis and Forecast 2028   "
      ]
     },
     "execution_count": 26,
     "metadata": {},
     "output_type": "execute_result"
    }
   ],
   "source": [
    "# check if any news text is empty after extraction\n",
    "df_news[df_news['main text'] == df_news['cleaned title']].sample(5)"
   ]
  },
  {
   "cell_type": "code",
   "execution_count": 27,
   "metadata": {},
   "outputs": [
    {
     "data": {
      "text/plain": [
       "289"
      ]
     },
     "execution_count": 27,
     "metadata": {},
     "output_type": "execute_result"
    }
   ],
   "source": [
    "len(df_news[df_news['main text'] == df_news['cleaned title']])"
   ]
  },
  {
   "cell_type": "code",
   "execution_count": 28,
   "metadata": {},
   "outputs": [
    {
     "data": {
      "text/plain": [
       "28198"
      ]
     },
     "execution_count": 28,
     "metadata": {},
     "output_type": "execute_result"
    }
   ],
   "source": [
    "# check if main text is stays the same after removing duplicate sentences\n",
    "len(df_news[df_news['main text nodup'] != df_news['main text']])"
   ]
  },
  {
   "cell_type": "code",
   "execution_count": 29,
   "metadata": {},
   "outputs": [],
   "source": [
    "# drop news articles with empty main text (except for cleaned title)\n",
    "df_news_noemp = df_news[df_news['main text'] != df_news['cleaned title']].reset_index(drop=True)"
   ]
  },
  {
   "cell_type": "code",
   "execution_count": 30,
   "metadata": {},
   "outputs": [
    {
     "data": {
      "text/plain": [
       "(200043, 10)"
      ]
     },
     "execution_count": 30,
     "metadata": {},
     "output_type": "execute_result"
    }
   ],
   "source": [
    "df_news_noemp.shape"
   ]
  },
  {
   "cell_type": "code",
   "execution_count": 31,
   "metadata": {},
   "outputs": [
    {
     "name": "stdout",
     "output_type": "stream",
     "text": [
      "<class 'pandas.core.frame.DataFrame'>\n",
      "RangeIndex: 200043 entries, 0 to 200042\n",
      "Data columns (total 10 columns):\n",
      " #   Column           Non-Null Count   Dtype \n",
      "---  ------           --------------   ----- \n",
      " 0   url              200043 non-null  object\n",
      " 1   date             200043 non-null  object\n",
      " 2   language         200043 non-null  object\n",
      " 3   title            200043 non-null  object\n",
      " 4   text             200043 non-null  object\n",
      " 5   id               200043 non-null  int64 \n",
      " 6   cleaned title    200043 non-null  object\n",
      " 7   paragraph        200043 non-null  object\n",
      " 8   main text        200043 non-null  object\n",
      " 9   main text nodup  200043 non-null  object\n",
      "dtypes: int64(1), object(9)\n",
      "memory usage: 15.3+ MB\n"
     ]
    }
   ],
   "source": [
    "df_news_noemp.info()"
   ]
  },
  {
   "attachments": {},
   "cell_type": "markdown",
   "metadata": {},
   "source": [
    "#### Clean Main Text"
   ]
  },
  {
   "cell_type": "code",
   "execution_count": 32,
   "metadata": {},
   "outputs": [],
   "source": [
    "# function to remove Links, Emails, and URLs\n",
    "def remove_links(text):\n",
    "\n",
    "    # remove links\n",
    "    text = re.sub(r'http\\S+', '', str(text))\n",
    "\n",
    "    # remove emails\n",
    "    text = re.sub(r'\\S*@\\S*\\s?', '', str(text))\n",
    "\n",
    "    # remove URLs\n",
    "    text = re.sub(r'www\\S+', '', str(text))\n",
    "\n",
    "    return text"
   ]
  },
  {
   "cell_type": "code",
   "execution_count": 33,
   "metadata": {},
   "outputs": [],
   "source": [
    "# function to remove special characters\n",
    "def remove_spc_char(text):\n",
    "\n",
    "    # remove newline characters\n",
    "    text = re.sub(r'\\n+', ' ', text)\n",
    "\n",
    "    # remove tab characters\n",
    "    text = re.sub(r'\\t+', ' ', text)\n",
    "\n",
    "    # remove special characters\n",
    "    text = re.sub(r'[^a-zA-Z0-9 @ . , : - _]', '', str(text))\n",
    "\n",
    "    return text\n"
   ]
  },
  {
   "cell_type": "code",
   "execution_count": 34,
   "metadata": {},
   "outputs": [],
   "source": [
    "# remove links, emails, and URLs and special characters\n",
    "news_text_cleaned = np.array(df_news_noemp['main text nodup'].apply(remove_links))\n",
    "news_text_cleaned = np.array(df_news_noemp['main text nodup'].apply(remove_spc_char))\n",
    "df_news_noemp['cleaned text'] = news_text_cleaned"
   ]
  },
  {
   "cell_type": "code",
   "execution_count": 35,
   "metadata": {},
   "outputs": [
    {
     "data": {
      "text/html": [
       "<div>\n",
       "<style scoped>\n",
       "    .dataframe tbody tr th:only-of-type {\n",
       "        vertical-align: middle;\n",
       "    }\n",
       "\n",
       "    .dataframe tbody tr th {\n",
       "        vertical-align: top;\n",
       "    }\n",
       "\n",
       "    .dataframe thead th {\n",
       "        text-align: right;\n",
       "    }\n",
       "</style>\n",
       "<table border=\"1\" class=\"dataframe\">\n",
       "  <thead>\n",
       "    <tr style=\"text-align: right;\">\n",
       "      <th></th>\n",
       "      <th>main text nodup</th>\n",
       "      <th>cleaned text</th>\n",
       "    </tr>\n",
       "  </thead>\n",
       "  <tbody>\n",
       "    <tr>\n",
       "      <th>0</th>\n",
       "      <td>Artificial intelligence improves parking efficiency in Chinese cities\\nPhoto taken on July 1, 2019, shows a sign for electronic toll collection (ETC) newly set up at a roadside parking space on Yangzhuang road, Shijingshan district, Beijing. Some urban areas of the city started to use ETC system for roadside parking spaces since July 1, 2019. (People’s Daily Online/Li Wenming)\\nThanks to the application of an artificial intelligence (AI)-empowered roadside electronic toll collection (ETC) sy...</td>\n",
       "      <td>Artificial intelligence improves parking efficiency in Chinese cities Photo taken on July 1, 2019, shows a sign for electronic toll collection ETC newly set up at a roadside parking space on Yangzhuang road, Shijingshan district, Beijing. Some urban areas of the city started to use ETC system for roadside parking spaces since July 1, 2019. Peoples Daily OnlineLi Wenming Thanks to the application of an artificial intelligence AIempowered roadside electronic toll collection ETC system, Chinas ...</td>\n",
       "    </tr>\n",
       "    <tr>\n",
       "      <th>1</th>\n",
       "      <td>Children With Autism Saw Their Learning and Social Skills Boosted After Playing With This AI Robot\\nadmin  Latest posts by admin (see all)  Mansplaining in conferences: How can we get him to forestall? - February 27, 2020\\nCoronavirus Could Explode in the U.S. Overnight Like it Did in Italy - February 27, 2020\\nLevi Strauss marks the next phase in corporate paid leave policies - February 27, 2020\\nScientists who designed an artificially clever robotic that helped youngsters with autism spice...</td>\n",
       "      <td>Children With Autism Saw Their Learning and Social Skills Boosted After Playing With This AI Robot admin  Latest posts by admin see all  Mansplaining in conferences: How can we get him to forestall  February 27, 2020 Coronavirus Could Explode in the U.S. Overnight Like it Did in Italy  February 27, 2020 Levi Strauss marks the next phase in corporate paid leave policies  February 27, 2020 Scientists who designed an artificially clever robotic that helped youngsters with autism spice up their ...</td>\n",
       "    </tr>\n",
       "    <tr>\n",
       "      <th>2</th>\n",
       "      <td>Forget ML, AI and Industry 4.0 – obsolescence should be your focus\\nThe world entered a new era of accelerated transformation in the last eighteen months that will continue to evolve and press forward for years to come. Most businesses are playing catch-up trying to make sense of a new timeline where the ten years that had been set aside for careful planning and implementation of what was coming up next no longer exists. The next is happening now and, regardless of your industry or seniority...</td>\n",
       "      <td>Forget ML, AI and Industry 4.0  obsolescence should be your focus The world entered a new era of accelerated transformation in the last eighteen months that will continue to evolve and press forward for years to come. Most businesses are playing catchup trying to make sense of a new timeline where the ten years that had been set aside for careful planning and implementation of what was coming up next no longer exists. The next is happening now and, regardless of your industry or seniority, t...</td>\n",
       "    </tr>\n",
       "    <tr>\n",
       "      <th>3</th>\n",
       "      <td>Strategy Analytics: 71% of Smartphones Sold Globally in 2021 will be AI Powered\\nBOSTON–(BUSINESS WIRE)–Strategy Analytics in a newly published report, Smartphones: Global Artificial Intelligence Technologies Forecast to 2025, finds that on-device Artificial Intelligence (AI) is being rapidly implemented by smartphone vendors. AI is used in various functions inside smartphones such as intelligent power optimization, imaging, virtual assistants, and to enhance device performance. The report h...</td>\n",
       "      <td>Strategy Analytics: 71 of Smartphones Sold Globally in 2021 will be AI Powered BOSTONBUSINESS WIREStrategy Analytics in a newly published report, Smartphones: Global Artificial Intelligence Technologies Forecast to 2025, finds that ondevice Artificial Intelligence AI is being rapidly implemented by smartphone vendors. AI is used in various functions inside smartphones such as intelligent power optimization, imaging, virtual assistants, and to enhance device performance. The report highlights...</td>\n",
       "    </tr>\n",
       "    <tr>\n",
       "      <th>4</th>\n",
       "      <td>Olympus to Support Endoscopic AI Diagnosis Education for Doctors in India and to Launch AI Diagnostic Support Application\\nTOKYO, Oct 20, 2020 – (ACN Newswire) –  Olympus Corporation took part in a ground-breaking project as a business promoter, in cooperation with the Ministry of Internal Affairs and Communications (MIC), entitled, “Survey Study for International Expansion of AI Diagnosis Support System Using Ultra-High Magnifying Endoscopes in India.” The project aims to develop advanced e...</td>\n",
       "      <td>Olympus to Support Endoscopic AI Diagnosis Education for Doctors in India and to Launch AI Diagnostic Support Application TOKYO, Oct 20, 2020  ACN Newswire   Olympus Corporation took part in a groundbreaking project as a business promoter, in cooperation with the Ministry of Internal Affairs and Communications MIC, entitled, Survey Study for International Expansion of AI Diagnosis Support System Using UltraHigh Magnifying Endoscopes in India. The project aims to develop advanced endoscopy di...</td>\n",
       "    </tr>\n",
       "  </tbody>\n",
       "</table>\n",
       "</div>"
      ],
      "text/plain": [
       "                                                                                                                                                                                                                                                                                                                                                                                                                                                                                                       main text nodup   \n",
       "0  Artificial intelligence improves parking efficiency in Chinese cities\\nPhoto taken on July 1, 2019, shows a sign for electronic toll collection (ETC) newly set up at a roadside parking space on Yangzhuang road, Shijingshan district, Beijing. Some urban areas of the city started to use ETC system for roadside parking spaces since July 1, 2019. (People’s Daily Online/Li Wenming)\\nThanks to the application of an artificial intelligence (AI)-empowered roadside electronic toll collection (ETC) sy...  \\\n",
       "1  Children With Autism Saw Their Learning and Social Skills Boosted After Playing With This AI Robot\\nadmin  Latest posts by admin (see all)  Mansplaining in conferences: How can we get him to forestall? - February 27, 2020\\nCoronavirus Could Explode in the U.S. Overnight Like it Did in Italy - February 27, 2020\\nLevi Strauss marks the next phase in corporate paid leave policies - February 27, 2020\\nScientists who designed an artificially clever robotic that helped youngsters with autism spice...   \n",
       "2  Forget ML, AI and Industry 4.0 – obsolescence should be your focus\\nThe world entered a new era of accelerated transformation in the last eighteen months that will continue to evolve and press forward for years to come. Most businesses are playing catch-up trying to make sense of a new timeline where the ten years that had been set aside for careful planning and implementation of what was coming up next no longer exists. The next is happening now and, regardless of your industry or seniority...   \n",
       "3  Strategy Analytics: 71% of Smartphones Sold Globally in 2021 will be AI Powered\\nBOSTON–(BUSINESS WIRE)–Strategy Analytics in a newly published report, Smartphones: Global Artificial Intelligence Technologies Forecast to 2025, finds that on-device Artificial Intelligence (AI) is being rapidly implemented by smartphone vendors. AI is used in various functions inside smartphones such as intelligent power optimization, imaging, virtual assistants, and to enhance device performance. The report h...   \n",
       "4  Olympus to Support Endoscopic AI Diagnosis Education for Doctors in India and to Launch AI Diagnostic Support Application\\nTOKYO, Oct 20, 2020 – (ACN Newswire) –  Olympus Corporation took part in a ground-breaking project as a business promoter, in cooperation with the Ministry of Internal Affairs and Communications (MIC), entitled, “Survey Study for International Expansion of AI Diagnosis Support System Using Ultra-High Magnifying Endoscopes in India.” The project aims to develop advanced e...   \n",
       "\n",
       "                                                                                                                                                                                                                                                                                                                                                                                                                                                                                                          cleaned text  \n",
       "0  Artificial intelligence improves parking efficiency in Chinese cities Photo taken on July 1, 2019, shows a sign for electronic toll collection ETC newly set up at a roadside parking space on Yangzhuang road, Shijingshan district, Beijing. Some urban areas of the city started to use ETC system for roadside parking spaces since July 1, 2019. Peoples Daily OnlineLi Wenming Thanks to the application of an artificial intelligence AIempowered roadside electronic toll collection ETC system, Chinas ...  \n",
       "1  Children With Autism Saw Their Learning and Social Skills Boosted After Playing With This AI Robot admin  Latest posts by admin see all  Mansplaining in conferences: How can we get him to forestall  February 27, 2020 Coronavirus Could Explode in the U.S. Overnight Like it Did in Italy  February 27, 2020 Levi Strauss marks the next phase in corporate paid leave policies  February 27, 2020 Scientists who designed an artificially clever robotic that helped youngsters with autism spice up their ...  \n",
       "2  Forget ML, AI and Industry 4.0  obsolescence should be your focus The world entered a new era of accelerated transformation in the last eighteen months that will continue to evolve and press forward for years to come. Most businesses are playing catchup trying to make sense of a new timeline where the ten years that had been set aside for careful planning and implementation of what was coming up next no longer exists. The next is happening now and, regardless of your industry or seniority, t...  \n",
       "3  Strategy Analytics: 71 of Smartphones Sold Globally in 2021 will be AI Powered BOSTONBUSINESS WIREStrategy Analytics in a newly published report, Smartphones: Global Artificial Intelligence Technologies Forecast to 2025, finds that ondevice Artificial Intelligence AI is being rapidly implemented by smartphone vendors. AI is used in various functions inside smartphones such as intelligent power optimization, imaging, virtual assistants, and to enhance device performance. The report highlights...  \n",
       "4  Olympus to Support Endoscopic AI Diagnosis Education for Doctors in India and to Launch AI Diagnostic Support Application TOKYO, Oct 20, 2020  ACN Newswire   Olympus Corporation took part in a groundbreaking project as a business promoter, in cooperation with the Ministry of Internal Affairs and Communications MIC, entitled, Survey Study for International Expansion of AI Diagnosis Support System Using UltraHigh Magnifying Endoscopes in India. The project aims to develop advanced endoscopy di...  "
      ]
     },
     "execution_count": 35,
     "metadata": {},
     "output_type": "execute_result"
    }
   ],
   "source": [
    "df_news_noemp[['main text nodup', 'cleaned text']].head()"
   ]
  },
  {
   "cell_type": "code",
   "execution_count": 36,
   "metadata": {},
   "outputs": [
    {
     "name": "stdout",
     "output_type": "stream",
     "text": [
      "<class 'pandas.core.frame.DataFrame'>\n",
      "RangeIndex: 200043 entries, 0 to 200042\n",
      "Data columns (total 11 columns):\n",
      " #   Column           Non-Null Count   Dtype \n",
      "---  ------           --------------   ----- \n",
      " 0   url              200043 non-null  object\n",
      " 1   date             200043 non-null  object\n",
      " 2   language         200043 non-null  object\n",
      " 3   title            200043 non-null  object\n",
      " 4   text             200043 non-null  object\n",
      " 5   id               200043 non-null  int64 \n",
      " 6   cleaned title    200043 non-null  object\n",
      " 7   paragraph        200043 non-null  object\n",
      " 8   main text        200043 non-null  object\n",
      " 9   main text nodup  200043 non-null  object\n",
      " 10  cleaned text     200043 non-null  object\n",
      "dtypes: int64(1), object(10)\n",
      "memory usage: 16.8+ MB\n"
     ]
    }
   ],
   "source": [
    "df_news_noemp.info()"
   ]
  },
  {
   "cell_type": "code",
   "execution_count": 37,
   "metadata": {},
   "outputs": [
    {
     "data": {
      "text/plain": [
       "0"
      ]
     },
     "execution_count": 37,
     "metadata": {},
     "output_type": "execute_result"
    }
   ],
   "source": [
    "# check if any news text is empty after cleaning\n",
    "len(df_news_noemp[df_news_noemp['cleaned text'] == ''])"
   ]
  },
  {
   "attachments": {},
   "cell_type": "markdown",
   "metadata": {},
   "source": [
    "## Show a example"
   ]
  },
  {
   "cell_type": "code",
   "execution_count": 38,
   "metadata": {},
   "outputs": [
    {
     "data": {
      "text/plain": [
       "'Study finds artificial intelligence may decrease frequency of adverse drug events'"
      ]
     },
     "execution_count": 38,
     "metadata": {},
     "output_type": "execute_result"
    }
   ],
   "source": [
    "k = 3333\n",
    "\n",
    "# original title\n",
    "df_news_noemp['title'][k]"
   ]
  },
  {
   "cell_type": "code",
   "execution_count": 39,
   "metadata": {},
   "outputs": [
    {
     "data": {
      "text/plain": [
       "'Study finds artificial intelligence may decrease frequency of adverse drug events'"
      ]
     },
     "execution_count": 39,
     "metadata": {},
     "output_type": "execute_result"
    }
   ],
   "source": [
    "# cleaned title\n",
    "df_news_noemp['cleaned title'][k].strip()"
   ]
  },
  {
   "cell_type": "code",
   "execution_count": 40,
   "metadata": {},
   "outputs": [
    {
     "name": "stdout",
     "output_type": "stream",
     "text": [
      "\n",
      "Study finds artificial intelligence may decrease frequency of adverse drug events\n",
      "\n",
      "Fri, Jan 21, 2022 |Updated 14:01 IST\n",
      "\n",
      "\n",
      "Toggle navigation\n",
      "Toggle navigation\n",
      "             \n",
      "               National\n",
      "             \n",
      "\n",
      "\n",
      "General News\n",
      "\n",
      "\n",
      "Politics\n",
      "\n",
      "\n",
      "Features\n",
      "             \n",
      "               World\n",
      "             \n",
      "\n",
      "\n",
      "Asia\n",
      "\n",
      "\n",
      "US\n",
      "\n",
      "\n",
      "Europe\n",
      "\n",
      "\n",
      "Pacific\n",
      "\n",
      "\n",
      "Others\n",
      "\n",
      "\n",
      "Middle East\n",
      "             \n",
      "               Business\n",
      "             \n",
      "\n",
      "\n",
      "Corporate\n",
      "             \n",
      "               Sports\n",
      "             \n",
      "\n",
      "\n",
      "Cricket\n",
      "\n",
      "\n",
      "Football\n",
      "\n",
      "\n",
      "Others\n",
      "\n",
      "\n",
      "Tennis\n",
      "\n",
      "\n",
      "Hockey\n",
      "             \n",
      "               Lifestyle\n",
      "             \n",
      "\n",
      "\n",
      "Relationships\n",
      "\n",
      "\n",
      "Sexuality\n",
      "\n",
      "\n",
      "Beauty\n",
      "\n",
      "\n",
      "Parenting\n",
      "\n",
      "\n",
      "Fashion\n",
      "\n",
      "\n",
      "Food\n",
      "\n",
      "\n",
      "Travel\n",
      "\n",
      "\n",
      "Quirky\n",
      "\n",
      "\n",
      "Fitness\n",
      "\n",
      "\n",
      "Culture\n",
      "             \n",
      "               Entertainment\n",
      "             \n",
      "\n",
      "\n",
      "Bollywood\n",
      "\n",
      "\n",
      "Hollywood\n",
      "\n",
      "\n",
      "Music\n",
      "\n",
      "\n",
      "Out of box\n",
      "             \n",
      "               Health\n",
      "             \n",
      "             \n",
      "               Science\n",
      "             \n",
      "             \n",
      "               Tech\n",
      "             \n",
      "\n",
      "\n",
      "Mobile\n",
      "\n",
      "\n",
      "Internet\n",
      "\n",
      "\n",
      "Computers\n",
      "\n",
      "\n",
      "Others\n",
      "             \n",
      "               Environment\n",
      "             \n",
      "             \n",
      "               Videos\n",
      "             \n",
      "\n",
      "\n",
      "National\n",
      "\n",
      "\n",
      "World\n",
      "\n",
      "\n",
      "Entertainment\n",
      "\n",
      "\n",
      "Sports\n",
      "\n",
      "\n",
      "Business\n",
      "\n",
      "\n",
      "Health\n",
      "\n",
      "\n",
      "Technology\n",
      "\n",
      "\n",
      "Travel\n",
      "\n",
      "Toggle navigation\n",
      "\n",
      "Representative image\n",
      "Study finds artificial intelligence may decrease frequency of adverse drug events\n",
      "\n",
      "\n",
      "ANI |\n",
      " Updated: Jan 21, 2022 13:39  IST\n",
      "Washington [US], January 21 (ANI): A new study has found that artificial intelligence (AI) could be harnessed to prevent or mitigate the effects of adverse drug events (ADEs).The study has been published in 'The Lancet Digital Health Journal'.The review's authors described the use of AI to reduce the frequency of ADEs as an emerging area of study and identify several use cases in which AI could contribute to reducing or preventing ADEs. Furthermore, genetic information is thought to be critical in improving the performance of AI algorithms.  With the prevalence of genotyping, researchers are confident that this type of data can be more accessible over time and ultimately used to improve AI algorithm functioning and patient health.\"One of our challenges is how to identify and select the most relevant genetic variables among large amounts of genetic profile information,\" said lead author Ania Syrowatka, PhD, of the Division of General Internal Medicine and Primary Care.\"Through this paper, we wanted to present a review of how AI could be used to prevent ADEs, and in the process, learned that we are still in the early stages of development and implementation. Systematic and comprehensive evaluations of these types of tools in prospective trials are necessary to generate the evidence to advance this field in a transparent, safe, and effective way,\" Syrowatka added. (ANI)\n",
      "Tags\n",
      "Artificial intelligence\n",
      "\n",
      " AI\n",
      "\n",
      " adverse drug events\n",
      "\n",
      " ADEs\n",
      "\n",
      " science news\n",
      "\n",
      "  Loading...   \n",
      "  \n",
      "Related News\n",
      "\n",
      "Study finds blood cancer may stop by targeting bone cells\n",
      "\n",
      "Updated: Jan 21, 2022 10:13 IST\n",
      "\n",
      "Exploring RNAi and nanotechnology for cancer therapeutics: CSIR study\n",
      "\n",
      "Updated: Jan 20, 2022 18:58 IST\n",
      "\n",
      "Machine learning model uses blood tests to estimate COVID-19 survival: Study\n",
      "\n",
      "Updated: Jan 20, 2022 18:18 IST\n",
      "\n",
      "Study finds Epstein-Barr virus might be leading cause of multiple sclerosis\n",
      "\n",
      "Updated: Jan 20, 2022 17:52 IST\n",
      "\n",
      "Heart disease causes early brain dysfunction, may treble key Alzheimer's protein: Study\n",
      "\n",
      "Updated: Jan 20, 2022 17:38 IST\n",
      "\n",
      "Study identifies estrogen-regulated brain circuit that helps women control obesity\n",
      "\n",
      "Updated: Jan 20, 2022 15:44 IST\n",
      "\n",
      "Study examines development of fatty liver disease under healthy diet\n",
      "\n",
      "  Loading...   \n",
      "Home\n",
      "About Us\n",
      "Our Products\n",
      "Advertise\n",
      "Contact Us\n",
      "Privacy Policy\n",
      "Terms & Condition\n",
      "copyrights © aninews.in | All rights Reserved\n",
      "\n",
      "\n"
     ]
    }
   ],
   "source": [
    "# print the original news text\n",
    "print(df_news_noemp['text'][k])"
   ]
  },
  {
   "cell_type": "code",
   "execution_count": 41,
   "metadata": {},
   "outputs": [
    {
     "name": "stdout",
     "output_type": "stream",
     "text": [
      "Study finds artificial intelligence may decrease frequency of adverse drug events\n",
      "Study finds artificial intelligence may decrease frequency of adverse drug events\n",
      "Washington [US], January 21 (ANI): A new study has found that artificial intelligence (AI) could be harnessed to prevent or mitigate the effects of adverse drug events (ADEs).The study has been published in 'The Lancet Digital Health Journal'.The review's authors described the use of AI to reduce the frequency of ADEs as an emerging area of study and identify several use cases in which AI could contribute to reducing or preventing ADEs. Furthermore, genetic information is thought to be critical in improving the performance of AI algorithms.  With the prevalence of genotyping, researchers are confident that this type of data can be more accessible over time and ultimately used to improve AI algorithm functioning and patient health.\"One of our challenges is how to identify and select the most relevant genetic variables among large amounts of genetic profile information,\" said lead author Ania Syrowatka, PhD, of the Division of General Internal Medicine and Primary Care.\"Through this paper, we wanted to present a review of how AI could be used to prevent ADEs, and in the process, learned that we are still in the early stages of development and implementation. Systematic and comprehensive evaluations of these types of tools in prospective trials are necessary to generate the evidence to advance this field in a transparent, safe, and effective way,\" Syrowatka added. (ANI)\n",
      "Machine learning model uses blood tests to estimate COVID-19 survival: Study\n",
      "Study finds Epstein-Barr virus might be leading cause of multiple sclerosis\n",
      "Heart disease causes early brain dysfunction, may treble key Alzheimer's protein: Study\n"
     ]
    }
   ],
   "source": [
    "# print the paragraphs extracted from the news text\n",
    "print(df_news_noemp['paragraph'][k])"
   ]
  },
  {
   "cell_type": "code",
   "execution_count": 42,
   "metadata": {},
   "outputs": [
    {
     "name": "stdout",
     "output_type": "stream",
     "text": [
      "Study finds artificial intelligence may decrease frequency of adverse drug events\n",
      "Washington [US], January 21 (ANI): A new study has found that artificial intelligence (AI) could be harnessed to prevent or mitigate the effects of adverse drug events (ADEs).The study has been published in 'The Lancet Digital Health Journal'.The review's authors described the use of AI to reduce the frequency of ADEs as an emerging area of study and identify several use cases in which AI could contribute to reducing or preventing ADEs. Furthermore, genetic information is thought to be critical in improving the performance of AI algorithms.  With the prevalence of genotyping, researchers are confident that this type of data can be more accessible over time and ultimately used to improve AI algorithm functioning and patient health.\"One of our challenges is how to identify and select the most relevant genetic variables among large amounts of genetic profile information,\" said lead author Ania Syrowatka, PhD, of the Division of General Internal Medicine and Primary Care.\"Through this paper, we wanted to present a review of how AI could be used to prevent ADEs, and in the process, learned that we are still in the early stages of development and implementation. Systematic and comprehensive evaluations of these types of tools in prospective trials are necessary to generate the evidence to advance this field in a transparent, safe, and effective way,\" Syrowatka added. (ANI)\n",
      "Machine learning model uses blood tests to estimate COVID-19 survival: Study\n",
      "Study finds Epstein-Barr virus might be leading cause of multiple sclerosis\n",
      "Heart disease causes early brain dysfunction, may treble key Alzheimer's protein: Study\n"
     ]
    }
   ],
   "source": [
    "# print the extracted news main text\n",
    "print(df_news_noemp['main text'][k])"
   ]
  },
  {
   "cell_type": "code",
   "execution_count": 43,
   "metadata": {},
   "outputs": [
    {
     "name": "stdout",
     "output_type": "stream",
     "text": [
      "Study finds artificial intelligence may decrease frequency of adverse drug events\n",
      "Washington [US], January 21 (ANI): A new study has found that artificial intelligence (AI) could be harnessed to prevent or mitigate the effects of adverse drug events (ADEs).The study has been published in 'The Lancet Digital Health Journal'.The review's authors described the use of AI to reduce the frequency of ADEs as an emerging area of study and identify several use cases in which AI could contribute to reducing or preventing ADEs. Furthermore, genetic information is thought to be critical in improving the performance of AI algorithms.  With the prevalence of genotyping, researchers are confident that this type of data can be more accessible over time and ultimately used to improve AI algorithm functioning and patient health.\"One of our challenges is how to identify and select the most relevant genetic variables among large amounts of genetic profile information,\" said lead author Ania Syrowatka, PhD, of the Division of General Internal Medicine and Primary Care.\"Through this paper, we wanted to present a review of how AI could be used to prevent ADEs, and in the process, learned that we are still in the early stages of development and implementation. Systematic and comprehensive evaluations of these types of tools in prospective trials are necessary to generate the evidence to advance this field in a transparent, safe, and effective way,\" Syrowatka added. (ANI)\n",
      "Machine learning model uses blood tests to estimate COVID-19 survival: Study\n",
      "Study finds Epstein-Barr virus might be leading cause of multiple sclerosis\n",
      "Heart disease causes early brain dysfunction, may treble key Alzheimer's protein: Study\n"
     ]
    }
   ],
   "source": [
    "# print the extracted news main text without duplicate sentences\n",
    "print(df_news_noemp['main text nodup'][k])"
   ]
  },
  {
   "cell_type": "code",
   "execution_count": 44,
   "metadata": {},
   "outputs": [
    {
     "name": "stdout",
     "output_type": "stream",
     "text": [
      "Study finds artificial intelligence may decrease frequency of adverse drug events Washington US, January 21 ANI: A new study has found that artificial intelligence AI could be harnessed to prevent or mitigate the effects of adverse drug events ADEs.The study has been published in The Lancet Digital Health Journal.The reviews authors described the use of AI to reduce the frequency of ADEs as an emerging area of study and identify several use cases in which AI could contribute to reducing or preventing ADEs. Furthermore, genetic information is thought to be critical in improving the performance of AI algorithms.  With the prevalence of genotyping, researchers are confident that this type of data can be more accessible over time and ultimately used to improve AI algorithm functioning and patient health.One of our challenges is how to identify and select the most relevant genetic variables among large amounts of genetic profile information, said lead author Ania Syrowatka, PhD, of the Division of General Internal Medicine and Primary Care.Through this paper, we wanted to present a review of how AI could be used to prevent ADEs, and in the process, learned that we are still in the early stages of development and implementation. Systematic and comprehensive evaluations of these types of tools in prospective trials are necessary to generate the evidence to advance this field in a transparent, safe, and effective way, Syrowatka added. ANI Machine learning model uses blood tests to estimate COVID19 survival: Study Study finds EpsteinBarr virus might be leading cause of multiple sclerosis Heart disease causes early brain dysfunction, may treble key Alzheimers protein: Study\n"
     ]
    }
   ],
   "source": [
    "# print the cleaned news main text\n",
    "print(df_news_noemp['cleaned text'][k])"
   ]
  },
  {
   "attachments": {},
   "cell_type": "markdown",
   "metadata": {},
   "source": [
    "## Save Cleaned Data"
   ]
  },
  {
   "cell_type": "code",
   "execution_count": 45,
   "metadata": {},
   "outputs": [
    {
     "data": {
      "text/html": [
       "<div>\n",
       "<style scoped>\n",
       "    .dataframe tbody tr th:only-of-type {\n",
       "        vertical-align: middle;\n",
       "    }\n",
       "\n",
       "    .dataframe tbody tr th {\n",
       "        vertical-align: top;\n",
       "    }\n",
       "\n",
       "    .dataframe thead th {\n",
       "        text-align: right;\n",
       "    }\n",
       "</style>\n",
       "<table border=\"1\" class=\"dataframe\">\n",
       "  <thead>\n",
       "    <tr style=\"text-align: right;\">\n",
       "      <th></th>\n",
       "      <th>id</th>\n",
       "      <th>date</th>\n",
       "      <th>cleaned title</th>\n",
       "      <th>cleaned text</th>\n",
       "    </tr>\n",
       "  </thead>\n",
       "  <tbody>\n",
       "    <tr>\n",
       "      <th>0</th>\n",
       "      <td>0</td>\n",
       "      <td>2021-03-18</td>\n",
       "      <td>Artificial intelligence improves parking efficiency in Chinese cities</td>\n",
       "      <td>Artificial intelligence improves parking efficiency in Chinese cities Photo taken on July 1, 2019, shows a sign for electronic toll collection ETC newly set up at a roadside parking space on Yangzhuang road, Shijingshan district, Beijing. Some urban areas of the city started to use ETC system for roadside parking spaces since July 1, 2019. Peoples Daily OnlineLi Wenming Thanks to the application of an artificial intelligence AIempowered roadside electronic toll collection ETC system, Chinas ...</td>\n",
       "    </tr>\n",
       "    <tr>\n",
       "      <th>1</th>\n",
       "      <td>1</td>\n",
       "      <td>2020-02-27</td>\n",
       "      <td>Children With Autism Saw Their Learning and Social Skills Boosted After Playing With This AI Robot</td>\n",
       "      <td>Children With Autism Saw Their Learning and Social Skills Boosted After Playing With This AI Robot admin  Latest posts by admin see all  Mansplaining in conferences: How can we get him to forestall  February 27, 2020 Coronavirus Could Explode in the U.S. Overnight Like it Did in Italy  February 27, 2020 Levi Strauss marks the next phase in corporate paid leave policies  February 27, 2020 Scientists who designed an artificially clever robotic that helped youngsters with autism spice up their ...</td>\n",
       "    </tr>\n",
       "    <tr>\n",
       "      <th>2</th>\n",
       "      <td>2</td>\n",
       "      <td>2021-03-26</td>\n",
       "      <td>Forget ML, AI and Industry 4.0 – obsolescence should be your focus</td>\n",
       "      <td>Forget ML, AI and Industry 4.0  obsolescence should be your focus The world entered a new era of accelerated transformation in the last eighteen months that will continue to evolve and press forward for years to come. Most businesses are playing catchup trying to make sense of a new timeline where the ten years that had been set aside for careful planning and implementation of what was coming up next no longer exists. The next is happening now and, regardless of your industry or seniority, t...</td>\n",
       "    </tr>\n",
       "    <tr>\n",
       "      <th>3</th>\n",
       "      <td>3</td>\n",
       "      <td>2021-03-10</td>\n",
       "      <td>Strategy Analytics: 71% of Smartphones Sold Globally in 2021 will be AI Powered</td>\n",
       "      <td>Strategy Analytics: 71 of Smartphones Sold Globally in 2021 will be AI Powered BOSTONBUSINESS WIREStrategy Analytics in a newly published report, Smartphones: Global Artificial Intelligence Technologies Forecast to 2025, finds that ondevice Artificial Intelligence AI is being rapidly implemented by smartphone vendors. AI is used in various functions inside smartphones such as intelligent power optimization, imaging, virtual assistants, and to enhance device performance. The report highlights...</td>\n",
       "    </tr>\n",
       "    <tr>\n",
       "      <th>4</th>\n",
       "      <td>4</td>\n",
       "      <td>2020-10-20</td>\n",
       "      <td>Olympus to Support Endoscopic AI Diagnosis Education for Doctors in India and to Launch AI Diagnostic Support Application</td>\n",
       "      <td>Olympus to Support Endoscopic AI Diagnosis Education for Doctors in India and to Launch AI Diagnostic Support Application TOKYO, Oct 20, 2020  ACN Newswire   Olympus Corporation took part in a groundbreaking project as a business promoter, in cooperation with the Ministry of Internal Affairs and Communications MIC, entitled, Survey Study for International Expansion of AI Diagnosis Support System Using UltraHigh Magnifying Endoscopes in India. The project aims to develop advanced endoscopy di...</td>\n",
       "    </tr>\n",
       "  </tbody>\n",
       "</table>\n",
       "</div>"
      ],
      "text/plain": [
       "   id        date   \n",
       "0   0  2021-03-18  \\\n",
       "1   1  2020-02-27   \n",
       "2   2  2021-03-26   \n",
       "3   3  2021-03-10   \n",
       "4   4  2020-10-20   \n",
       "\n",
       "                                                                                                               cleaned title   \n",
       "0                                                      Artificial intelligence improves parking efficiency in Chinese cities  \\\n",
       "1                         Children With Autism Saw Their Learning and Social Skills Boosted After Playing With This AI Robot   \n",
       "2                                                         Forget ML, AI and Industry 4.0 – obsolescence should be your focus   \n",
       "3                                            Strategy Analytics: 71% of Smartphones Sold Globally in 2021 will be AI Powered   \n",
       "4  Olympus to Support Endoscopic AI Diagnosis Education for Doctors in India and to Launch AI Diagnostic Support Application   \n",
       "\n",
       "                                                                                                                                                                                                                                                                                                                                                                                                                                                                                                          cleaned text  \n",
       "0  Artificial intelligence improves parking efficiency in Chinese cities Photo taken on July 1, 2019, shows a sign for electronic toll collection ETC newly set up at a roadside parking space on Yangzhuang road, Shijingshan district, Beijing. Some urban areas of the city started to use ETC system for roadside parking spaces since July 1, 2019. Peoples Daily OnlineLi Wenming Thanks to the application of an artificial intelligence AIempowered roadside electronic toll collection ETC system, Chinas ...  \n",
       "1  Children With Autism Saw Their Learning and Social Skills Boosted After Playing With This AI Robot admin  Latest posts by admin see all  Mansplaining in conferences: How can we get him to forestall  February 27, 2020 Coronavirus Could Explode in the U.S. Overnight Like it Did in Italy  February 27, 2020 Levi Strauss marks the next phase in corporate paid leave policies  February 27, 2020 Scientists who designed an artificially clever robotic that helped youngsters with autism spice up their ...  \n",
       "2  Forget ML, AI and Industry 4.0  obsolescence should be your focus The world entered a new era of accelerated transformation in the last eighteen months that will continue to evolve and press forward for years to come. Most businesses are playing catchup trying to make sense of a new timeline where the ten years that had been set aside for careful planning and implementation of what was coming up next no longer exists. The next is happening now and, regardless of your industry or seniority, t...  \n",
       "3  Strategy Analytics: 71 of Smartphones Sold Globally in 2021 will be AI Powered BOSTONBUSINESS WIREStrategy Analytics in a newly published report, Smartphones: Global Artificial Intelligence Technologies Forecast to 2025, finds that ondevice Artificial Intelligence AI is being rapidly implemented by smartphone vendors. AI is used in various functions inside smartphones such as intelligent power optimization, imaging, virtual assistants, and to enhance device performance. The report highlights...  \n",
       "4  Olympus to Support Endoscopic AI Diagnosis Education for Doctors in India and to Launch AI Diagnostic Support Application TOKYO, Oct 20, 2020  ACN Newswire   Olympus Corporation took part in a groundbreaking project as a business promoter, in cooperation with the Ministry of Internal Affairs and Communications MIC, entitled, Survey Study for International Expansion of AI Diagnosis Support System Using UltraHigh Magnifying Endoscopes in India. The project aims to develop advanced endoscopy di...  "
      ]
     },
     "execution_count": 45,
     "metadata": {},
     "output_type": "execute_result"
    }
   ],
   "source": [
    "# discard irrelevant columns\n",
    "df_news_cleaned = df_news_noemp[['id', 'date', 'cleaned title', 'cleaned text']].copy()\n",
    "df_news_cleaned.head()"
   ]
  },
  {
   "cell_type": "code",
   "execution_count": 47,
   "metadata": {},
   "outputs": [],
   "source": [
    "%%time\n",
    "\n",
    "# save processed news text as parquet file\n",
    "# GCP version\n",
    "# path = \"gs://nlp-final-project-data/data/\"\n",
    "# df_news_cleaned.to_parquet(path + 'news_cleaned.parquet', engine='pyarrow')"
   ]
  }
 ],
 "metadata": {
  "kernelspec": {
   "display_name": "Python 3",
   "language": "python",
   "name": "python3"
  },
  "language_info": {
   "codemirror_mode": {
    "name": "ipython",
    "version": 3
   },
   "file_extension": ".py",
   "mimetype": "text/x-python",
   "name": "python",
   "nbconvert_exporter": "python",
   "pygments_lexer": "ipython3",
   "version": "3.9.16"
  },
  "orig_nbformat": 4
 },
 "nbformat": 4,
 "nbformat_minor": 2
}
