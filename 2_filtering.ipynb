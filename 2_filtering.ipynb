{
 "cells": [
  {
   "attachments": {},
   "cell_type": "markdown",
   "metadata": {},
   "source": [
    "# MSCA 32018 Natural Language Processing and Cognitive Computing\n",
    "## Final Project - Filtering\n",
    "\n",
    "Shijia Huang\n",
    "\n",
    "-----"
   ]
  },
  {
   "cell_type": "code",
   "execution_count": 1,
   "metadata": {},
   "outputs": [],
   "source": [
    "# Import basic libraries\n",
    "import time\n",
    "import pandas as pd\n",
    "import numpy as np\n",
    "import seaborn as sns\n",
    "import matplotlib.pyplot as plt\n",
    "\n",
    "%matplotlib inline"
   ]
  },
  {
   "cell_type": "code",
   "execution_count": 2,
   "metadata": {},
   "outputs": [
    {
     "name": "stdout",
     "output_type": "stream",
     "text": [
      "3.5.2\n"
     ]
    }
   ],
   "source": [
    "# Import NLP libraries\n",
    "import re\n",
    "import nltk\n",
    "from nltk.corpus import stopwords\n",
    "from nltk.stem import WordNetLemmatizer\n",
    "from nltk.tokenize import word_tokenize\n",
    "from sklearn.feature_extraction.text import TfidfVectorizer\n",
    "\n",
    "from pprint import pprint\n",
    "import string\n",
    "from rake_nltk import Rake\n",
    "import math\n",
    "from textblob import TextBlob\n",
    "\n",
    "import spacy\n",
    "from spacy import displacy\n",
    "from spacy.util import minibatch, compounding\n",
    "spacy.prefer_gpu()\n",
    "print(spacy.__version__)\n",
    "\n",
    "import gensim\n",
    "from gensim import corpora, models\n",
    "from gensim.utils import simple_preprocess\n",
    "from gensim.models.ldamulticore import LdaMulticore\n",
    "from gensim.models import CoherenceModel\n",
    "\n",
    "import pyLDAvis\n",
    "import pyLDAvis.gensim as gensimvis\n",
    "#import pyLDAvis.gensim_models as gensimvis\n",
    "pyLDAvis.enable_notebook()"
   ]
  },
  {
   "cell_type": "code",
   "execution_count": 3,
   "metadata": {},
   "outputs": [],
   "source": [
    "import warnings\n",
    "warnings.filterwarnings('ignore')\n",
    "pd.set_option('display.max_rows', 100)\n",
    "pd.set_option('display.max_columns', None)\n",
    "pd.set_option('display.max_colwidth', 500)"
   ]
  },
  {
   "cell_type": "code",
   "execution_count": 4,
   "metadata": {},
   "outputs": [
    {
     "name": "stdout",
     "output_type": "stream",
     "text": [
      "Available CPUs: 12\n"
     ]
    }
   ],
   "source": [
    "import multiprocessing as mp\n",
    "\n",
    "num_processors = mp.cpu_count()\n",
    "print(f'Available CPUs: {num_processors}')"
   ]
  },
  {
   "attachments": {},
   "cell_type": "markdown",
   "metadata": {},
   "source": [
    "### Read Cleaned New Articles"
   ]
  },
  {
   "cell_type": "code",
   "execution_count": 5,
   "metadata": {},
   "outputs": [
    {
     "name": "stdout",
     "output_type": "stream",
     "text": [
      "CPU times: user 2.41 s, sys: 1.87 s, total: 4.28 s\n",
      "Wall time: 4.23 s\n"
     ]
    },
    {
     "data": {
      "text/plain": [
       "(200043, 4)"
      ]
     },
     "execution_count": 5,
     "metadata": {},
     "output_type": "execute_result"
    }
   ],
   "source": [
    "%%time\n",
    "\n",
    "# GCP version\n",
    "path = \"gs://nlp-final-project-data/data/\"\n",
    "df_news = pd.read_parquet(path + 'news_cleaned.parquet', engine='pyarrow')\n",
    "df_news.shape"
   ]
  },
  {
   "cell_type": "code",
   "execution_count": 6,
   "metadata": {},
   "outputs": [
    {
     "name": "stdout",
     "output_type": "stream",
     "text": [
      "<class 'pandas.core.frame.DataFrame'>\n",
      "RangeIndex: 200043 entries, 0 to 200042\n",
      "Data columns (total 4 columns):\n",
      " #   Column         Non-Null Count   Dtype \n",
      "---  ------         --------------   ----- \n",
      " 0   id             200043 non-null  int64 \n",
      " 1   date           200043 non-null  object\n",
      " 2   cleaned title  200043 non-null  object\n",
      " 3   cleaned text   200043 non-null  object\n",
      "dtypes: int64(1), object(3)\n",
      "memory usage: 6.1+ MB\n"
     ]
    }
   ],
   "source": [
    "df_news.info()"
   ]
  },
  {
   "cell_type": "code",
   "execution_count": 7,
   "metadata": {},
   "outputs": [
    {
     "data": {
      "text/html": [
       "<div>\n",
       "<style scoped>\n",
       "    .dataframe tbody tr th:only-of-type {\n",
       "        vertical-align: middle;\n",
       "    }\n",
       "\n",
       "    .dataframe tbody tr th {\n",
       "        vertical-align: top;\n",
       "    }\n",
       "\n",
       "    .dataframe thead th {\n",
       "        text-align: right;\n",
       "    }\n",
       "</style>\n",
       "<table border=\"1\" class=\"dataframe\">\n",
       "  <thead>\n",
       "    <tr style=\"text-align: right;\">\n",
       "      <th></th>\n",
       "      <th>id</th>\n",
       "      <th>date</th>\n",
       "      <th>cleaned title</th>\n",
       "      <th>cleaned text</th>\n",
       "    </tr>\n",
       "  </thead>\n",
       "  <tbody>\n",
       "    <tr>\n",
       "      <th>0</th>\n",
       "      <td>0</td>\n",
       "      <td>2021-03-18</td>\n",
       "      <td>Artificial intelligence improves parking efficiency in Chinese cities</td>\n",
       "      <td>Artificial intelligence improves parking efficiency in Chinese cities Photo taken on July 1, 2019, shows a sign for electronic toll collection ETC newly set up at a roadside parking space on Yangzhuang road, Shijingshan district, Beijing. Some urban areas of the city started to use ETC system for roadside parking spaces since July 1, 2019. Peoples Daily OnlineLi Wenming Thanks to the application of an artificial intelligence AIempowered roadside electronic toll collection ETC system, Chinas ...</td>\n",
       "    </tr>\n",
       "    <tr>\n",
       "      <th>1</th>\n",
       "      <td>1</td>\n",
       "      <td>2020-02-27</td>\n",
       "      <td>Children With Autism Saw Their Learning and Social Skills Boosted After Playing With This AI Robot</td>\n",
       "      <td>Children With Autism Saw Their Learning and Social Skills Boosted After Playing With This AI Robot admin  Latest posts by admin see all  Mansplaining in conferences: How can we get him to forestall  February 27, 2020 Coronavirus Could Explode in the U.S. Overnight Like it Did in Italy  February 27, 2020 Levi Strauss marks the next phase in corporate paid leave policies  February 27, 2020 Scientists who designed an artificially clever robotic that helped youngsters with autism spice up their ...</td>\n",
       "    </tr>\n",
       "    <tr>\n",
       "      <th>2</th>\n",
       "      <td>2</td>\n",
       "      <td>2021-03-26</td>\n",
       "      <td>Forget ML, AI and Industry 4.0 – obsolescence should be your focus</td>\n",
       "      <td>Forget ML, AI and Industry 4.0  obsolescence should be your focus The world entered a new era of accelerated transformation in the last eighteen months that will continue to evolve and press forward for years to come. Most businesses are playing catchup trying to make sense of a new timeline where the ten years that had been set aside for careful planning and implementation of what was coming up next no longer exists. The next is happening now and, regardless of your industry or seniority, t...</td>\n",
       "    </tr>\n",
       "    <tr>\n",
       "      <th>3</th>\n",
       "      <td>3</td>\n",
       "      <td>2021-03-10</td>\n",
       "      <td>Strategy Analytics: 71% of Smartphones Sold Globally in 2021 will be AI Powered</td>\n",
       "      <td>Strategy Analytics: 71 of Smartphones Sold Globally in 2021 will be AI Powered BOSTONBUSINESS WIREStrategy Analytics in a newly published report, Smartphones: Global Artificial Intelligence Technologies Forecast to 2025, finds that ondevice Artificial Intelligence AI is being rapidly implemented by smartphone vendors. AI is used in various functions inside smartphones such as intelligent power optimization, imaging, virtual assistants, and to enhance device performance. The report highlights...</td>\n",
       "    </tr>\n",
       "    <tr>\n",
       "      <th>4</th>\n",
       "      <td>4</td>\n",
       "      <td>2020-10-20</td>\n",
       "      <td>Olympus to Support Endoscopic AI Diagnosis Education for Doctors in India and to Launch AI Diagnostic Support Application</td>\n",
       "      <td>Olympus to Support Endoscopic AI Diagnosis Education for Doctors in India and to Launch AI Diagnostic Support Application TOKYO, Oct 20, 2020  ACN Newswire   Olympus Corporation took part in a groundbreaking project as a business promoter, in cooperation with the Ministry of Internal Affairs and Communications MIC, entitled, Survey Study for International Expansion of AI Diagnosis Support System Using UltraHigh Magnifying Endoscopes in India. The project aims to develop advanced endoscopy di...</td>\n",
       "    </tr>\n",
       "  </tbody>\n",
       "</table>\n",
       "</div>"
      ],
      "text/plain": [
       "   id        date   \n",
       "0   0  2021-03-18  \\\n",
       "1   1  2020-02-27   \n",
       "2   2  2021-03-26   \n",
       "3   3  2021-03-10   \n",
       "4   4  2020-10-20   \n",
       "\n",
       "                                                                                                               cleaned title   \n",
       "0                                                      Artificial intelligence improves parking efficiency in Chinese cities  \\\n",
       "1                         Children With Autism Saw Their Learning and Social Skills Boosted After Playing With This AI Robot   \n",
       "2                                                         Forget ML, AI and Industry 4.0 – obsolescence should be your focus   \n",
       "3                                            Strategy Analytics: 71% of Smartphones Sold Globally in 2021 will be AI Powered   \n",
       "4  Olympus to Support Endoscopic AI Diagnosis Education for Doctors in India and to Launch AI Diagnostic Support Application   \n",
       "\n",
       "                                                                                                                                                                                                                                                                                                                                                                                                                                                                                                          cleaned text  \n",
       "0  Artificial intelligence improves parking efficiency in Chinese cities Photo taken on July 1, 2019, shows a sign for electronic toll collection ETC newly set up at a roadside parking space on Yangzhuang road, Shijingshan district, Beijing. Some urban areas of the city started to use ETC system for roadside parking spaces since July 1, 2019. Peoples Daily OnlineLi Wenming Thanks to the application of an artificial intelligence AIempowered roadside electronic toll collection ETC system, Chinas ...  \n",
       "1  Children With Autism Saw Their Learning and Social Skills Boosted After Playing With This AI Robot admin  Latest posts by admin see all  Mansplaining in conferences: How can we get him to forestall  February 27, 2020 Coronavirus Could Explode in the U.S. Overnight Like it Did in Italy  February 27, 2020 Levi Strauss marks the next phase in corporate paid leave policies  February 27, 2020 Scientists who designed an artificially clever robotic that helped youngsters with autism spice up their ...  \n",
       "2  Forget ML, AI and Industry 4.0  obsolescence should be your focus The world entered a new era of accelerated transformation in the last eighteen months that will continue to evolve and press forward for years to come. Most businesses are playing catchup trying to make sense of a new timeline where the ten years that had been set aside for careful planning and implementation of what was coming up next no longer exists. The next is happening now and, regardless of your industry or seniority, t...  \n",
       "3  Strategy Analytics: 71 of Smartphones Sold Globally in 2021 will be AI Powered BOSTONBUSINESS WIREStrategy Analytics in a newly published report, Smartphones: Global Artificial Intelligence Technologies Forecast to 2025, finds that ondevice Artificial Intelligence AI is being rapidly implemented by smartphone vendors. AI is used in various functions inside smartphones such as intelligent power optimization, imaging, virtual assistants, and to enhance device performance. The report highlights...  \n",
       "4  Olympus to Support Endoscopic AI Diagnosis Education for Doctors in India and to Launch AI Diagnostic Support Application TOKYO, Oct 20, 2020  ACN Newswire   Olympus Corporation took part in a groundbreaking project as a business promoter, in cooperation with the Ministry of Internal Affairs and Communications MIC, entitled, Survey Study for International Expansion of AI Diagnosis Support System Using UltraHigh Magnifying Endoscopes in India. The project aims to develop advanced endoscopy di...  "
      ]
     },
     "execution_count": 7,
     "metadata": {},
     "output_type": "execute_result"
    }
   ],
   "source": [
    "df_news.head()"
   ]
  },
  {
   "cell_type": "code",
   "execution_count": 8,
   "metadata": {},
   "outputs": [],
   "source": [
    "### SAMPLE DATA\n",
    "#df_news = df_news.sample(frac=0.01, random_state=42)\n",
    "df_news.shape"
   ]
  },
  {
   "attachments": {},
   "cell_type": "markdown",
   "metadata": {},
   "source": [
    "## Text Normalization"
   ]
  },
  {
   "cell_type": "code",
   "execution_count": 9,
   "metadata": {},
   "outputs": [],
   "source": [
    "# function to remove special characters from a sentence\n",
    "def remove_spc_char(text):\n",
    "    cleaned_text = re.sub(r'[^a-zA-Z0-9 @ . , : - _]', '', text)\n",
    "    return cleaned_text"
   ]
  },
  {
   "cell_type": "code",
   "execution_count": 10,
   "metadata": {},
   "outputs": [],
   "source": [
    "# function to tokenize text into words and remove punctuation\n",
    "def sent_to_words(sentences):\n",
    "    for sentence in sentences:\n",
    "        yield(gensim.utils.simple_preprocess(str(sentence), deacc=True))"
   ]
  },
  {
   "cell_type": "code",
   "execution_count": 11,
   "metadata": {},
   "outputs": [],
   "source": [
    "# function to remove stopwords from list of tokens\n",
    "stop_words = stopwords.words('english')\n",
    "\n",
    "def remove_stopwords(texts):\n",
    "    cleaned_texts = [[word for word in simple_preprocess(str(doc)) if word not in stop_words] for doc in texts]\n",
    "    return cleaned_texts\n"
   ]
  },
  {
   "cell_type": "code",
   "execution_count": 12,
   "metadata": {},
   "outputs": [],
   "source": [
    "# function to make ngrams from original tokens\n",
    "def make_bigrams(texts_wstops):\n",
    "    bigram = gensim.models.Phrases(texts_wstops, min_count=1, threshold=3)\n",
    "    bigram_mod = gensim.models.phrases.Phraser(bigram)\n",
    "    texts_nostops = remove_stopwords(texts_wstops)\n",
    "    return [bigram_mod[doc] for doc in texts_nostops]\n",
    "\n",
    "def make_trigrams(texts_wstops):\n",
    "    bigram = gensim.models.Phrases(texts_wstops, min_count=1, threshold=3)\n",
    "    bigram_mod = gensim.models.phrases.Phraser(bigram)\n",
    "    trigram = gensim.models.Phrases(bigram[texts_wstops], threshold=1)\n",
    "    trigram_mod = gensim.models.phrases.Phraser(trigram)\n",
    "    texts_nostops = remove_stopwords(texts_wstops)\n",
    "    return [trigram_mod[bigram_mod[doc]] for doc in texts_nostops]"
   ]
  },
  {
   "cell_type": "code",
   "execution_count": 13,
   "metadata": {},
   "outputs": [],
   "source": [
    "# function to lemmatize words\n",
    "def lemmatization(texts, allowed_postags=['NOUN', 'ADJ', 'VERB', 'ADV']):\n",
    "    texts_out = []\n",
    "    for sent in texts:\n",
    "        doc = nlp(\" \".join(sent)) \n",
    "        texts_out.append([token.lemma_ for token in doc if token.pos_ in allowed_postags])\n",
    "    return texts_out"
   ]
  },
  {
   "attachments": {},
   "cell_type": "markdown",
   "metadata": {},
   "source": [
    "### Normalize News Titles"
   ]
  },
  {
   "cell_type": "code",
   "execution_count": 14,
   "metadata": {},
   "outputs": [
    {
     "name": "stdout",
     "output_type": "stream",
     "text": [
      "CPU times: user 50 s, sys: 518 ms, total: 50.5 s\n",
      "Wall time: 50.7 s\n"
     ]
    }
   ],
   "source": [
    "%%time\n",
    "\n",
    "# remove special characters\n",
    "title_cleaned = np.array(df_news['cleaned title'].apply(remove_spc_char))\n",
    "\n",
    "# tokenize the news title\n",
    "title_tokens = list(sent_to_words(title_cleaned))\n",
    "\n",
    "# remove stopwords\n",
    "title_token_nostops = remove_stopwords(title_tokens)\n",
    "\n",
    "# make bigrams and trigrams\n",
    "title_bigrams = make_bigrams(title_tokens)\n",
    "title_trigrams = make_trigrams(title_tokens)\n",
    "\n",
    "# combine tokens and ngrams\n",
    "df_news['title_tokens'] = list(zip(title_token_nostops, title_bigrams, title_trigrams))\n",
    "df_news['title_tokens'] = df_news['title_tokens'].apply(lambda x: list(x[0] + x[1] + x[2]))\n",
    "title_tokens_all = df_news['title_tokens'].tolist()"
   ]
  },
  {
   "cell_type": "code",
   "execution_count": 15,
   "metadata": {},
   "outputs": [
    {
     "name": "stdout",
     "output_type": "stream",
     "text": [
      "CPU times: user 9min 21s, sys: 3.81 s, total: 9min 24s\n",
      "Wall time: 9min 27s\n"
     ]
    },
    {
     "data": {
      "text/html": [
       "<div>\n",
       "<style scoped>\n",
       "    .dataframe tbody tr th:only-of-type {\n",
       "        vertical-align: middle;\n",
       "    }\n",
       "\n",
       "    .dataframe tbody tr th {\n",
       "        vertical-align: top;\n",
       "    }\n",
       "\n",
       "    .dataframe thead th {\n",
       "        text-align: right;\n",
       "    }\n",
       "</style>\n",
       "<table border=\"1\" class=\"dataframe\">\n",
       "  <thead>\n",
       "    <tr style=\"text-align: right;\">\n",
       "      <th></th>\n",
       "      <th>cleaned title</th>\n",
       "      <th>title_tokens</th>\n",
       "      <th>title_lemmatized</th>\n",
       "    </tr>\n",
       "  </thead>\n",
       "  <tbody>\n",
       "    <tr>\n",
       "      <th>0</th>\n",
       "      <td>Artificial intelligence improves parking efficiency in Chinese cities</td>\n",
       "      <td>[artificial, intelligence, improves, parking, efficiency, chinese, cities, artificial_intelligence, improves, parking, efficiency, chinese, cities, artificial_intelligence, improves, parking, efficiency, chinese, cities]</td>\n",
       "      <td>[artificial, intelligence, improve, parking, efficiency, chinese, city, artificial_intelligence, improve, parking, efficiency, chinese, city, artificial_intelligence, improve, parking, efficiency, chinese, city]</td>\n",
       "    </tr>\n",
       "    <tr>\n",
       "      <th>1</th>\n",
       "      <td>Children With Autism Saw Their Learning and Social Skills Boosted After Playing With This AI Robot</td>\n",
       "      <td>[children, autism, saw, learning, social, skills, boosted, playing, ai, robot, children, autism, saw, learning, social, skills, boosted, playing, ai, robot, children, autism, saw, learning, social, skills, boosted, playing, ai_robot]</td>\n",
       "      <td>[child, autism, see, learn, social, skill, boost, play, robot, child, autism, see, learn, social, skill, boost, play, robot, child, autism, see, learn, social, skill, boost, play, ai_robot]</td>\n",
       "    </tr>\n",
       "    <tr>\n",
       "      <th>2</th>\n",
       "      <td>Forget ML, AI and Industry 4.0 – obsolescence should be your focus</td>\n",
       "      <td>[forget, ml, ai, industry, obsolescence, focus, forget, ml, ai, industry, obsolescence, focus, forget, ml, ai, industry, obsolescence, focus]</td>\n",
       "      <td>[forget, ml, ai, industry, obsolescence, focus, forget, ml, ai, industry, obsolescence, focus, forget, ml, ai, industry, obsolescence, focus]</td>\n",
       "    </tr>\n",
       "    <tr>\n",
       "      <th>3</th>\n",
       "      <td>Strategy Analytics: 71% of Smartphones Sold Globally in 2021 will be AI Powered</td>\n",
       "      <td>[strategy, analytics, smartphones, sold, globally, ai, powered, strategy, analytics, smartphones_sold, globally, ai, powered, strategy, analytics, smartphones_sold, globally, ai_powered]</td>\n",
       "      <td>[strategy, analytic, smartphone, sell, globally, ai, powered, strategy, analytic, smartphones_sold, globally, ai, powered, strategy, analytic, smartphones_sold, globally, ai_powere]</td>\n",
       "    </tr>\n",
       "    <tr>\n",
       "      <th>4</th>\n",
       "      <td>Olympus to Support Endoscopic AI Diagnosis Education for Doctors in India and to Launch AI Diagnostic Support Application</td>\n",
       "      <td>[olympus, support, endoscopic, ai, diagnosis, education, doctors, india, launch, ai, diagnostic, support, application, olympus, support_endoscopic, ai, diagnosis, education, doctors, india, launch, ai, diagnostic, support, application, olympus, support_endoscopic, ai_diagnosis, education, doctors, india, launch, ai, diagnostic, support, application]</td>\n",
       "      <td>[olympu, support, endoscopic, ai, diagnosis, education, doctor, india, launch, ai, diagnostic, support, application, ai, diagnosis, education, doctor, india, launch, ai, diagnostic, support, application, education, doctor, india, launch, ai, diagnostic, support, application]</td>\n",
       "    </tr>\n",
       "  </tbody>\n",
       "</table>\n",
       "</div>"
      ],
      "text/plain": [
       "                                                                                                               cleaned title   \n",
       "0                                                      Artificial intelligence improves parking efficiency in Chinese cities  \\\n",
       "1                         Children With Autism Saw Their Learning and Social Skills Boosted After Playing With This AI Robot   \n",
       "2                                                         Forget ML, AI and Industry 4.0 – obsolescence should be your focus   \n",
       "3                                            Strategy Analytics: 71% of Smartphones Sold Globally in 2021 will be AI Powered   \n",
       "4  Olympus to Support Endoscopic AI Diagnosis Education for Doctors in India and to Launch AI Diagnostic Support Application   \n",
       "\n",
       "                                                                                                                                                                                                                                                                                                                                                      title_tokens   \n",
       "0                                                                                                                                     [artificial, intelligence, improves, parking, efficiency, chinese, cities, artificial_intelligence, improves, parking, efficiency, chinese, cities, artificial_intelligence, improves, parking, efficiency, chinese, cities]  \\\n",
       "1                                                                                                                        [children, autism, saw, learning, social, skills, boosted, playing, ai, robot, children, autism, saw, learning, social, skills, boosted, playing, ai, robot, children, autism, saw, learning, social, skills, boosted, playing, ai_robot]   \n",
       "2                                                                                                                                                                                                                    [forget, ml, ai, industry, obsolescence, focus, forget, ml, ai, industry, obsolescence, focus, forget, ml, ai, industry, obsolescence, focus]   \n",
       "3                                                                                                                                                                       [strategy, analytics, smartphones, sold, globally, ai, powered, strategy, analytics, smartphones_sold, globally, ai, powered, strategy, analytics, smartphones_sold, globally, ai_powered]   \n",
       "4  [olympus, support, endoscopic, ai, diagnosis, education, doctors, india, launch, ai, diagnostic, support, application, olympus, support_endoscopic, ai, diagnosis, education, doctors, india, launch, ai, diagnostic, support, application, olympus, support_endoscopic, ai_diagnosis, education, doctors, india, launch, ai, diagnostic, support, application]   \n",
       "\n",
       "                                                                                                                                                                                                                                                                      title_lemmatized  \n",
       "0                                                                  [artificial, intelligence, improve, parking, efficiency, chinese, city, artificial_intelligence, improve, parking, efficiency, chinese, city, artificial_intelligence, improve, parking, efficiency, chinese, city]  \n",
       "1                                                                                        [child, autism, see, learn, social, skill, boost, play, robot, child, autism, see, learn, social, skill, boost, play, robot, child, autism, see, learn, social, skill, boost, play, ai_robot]  \n",
       "2                                                                                                                                        [forget, ml, ai, industry, obsolescence, focus, forget, ml, ai, industry, obsolescence, focus, forget, ml, ai, industry, obsolescence, focus]  \n",
       "3                                                                                                [strategy, analytic, smartphone, sell, globally, ai, powered, strategy, analytic, smartphones_sold, globally, ai, powered, strategy, analytic, smartphones_sold, globally, ai_powere]  \n",
       "4  [olympu, support, endoscopic, ai, diagnosis, education, doctor, india, launch, ai, diagnostic, support, application, ai, diagnosis, education, doctor, india, launch, ai, diagnostic, support, application, education, doctor, india, launch, ai, diagnostic, support, application]  "
      ]
     },
     "execution_count": 15,
     "metadata": {},
     "output_type": "execute_result"
    }
   ],
   "source": [
    "%%time\n",
    "\n",
    "# lemmatize the tokens keeping only noun, adj, vb, adv\n",
    "nlp = spacy.load('en_core_web_sm', disable=['parser', 'ner'])\n",
    "title_lemmatized = lemmatization(title_tokens_all, allowed_postags=['NOUN', 'ADJ', 'VERB', 'ADV', 'PROPN'])\n",
    "\n",
    "df_news['title_lemmatized'] = title_lemmatized\n",
    "df_news[['cleaned title', 'title_tokens', 'title_lemmatized']].head()"
   ]
  },
  {
   "attachments": {},
   "cell_type": "markdown",
   "metadata": {},
   "source": [
    "### Normalize News Text"
   ]
  },
  {
   "cell_type": "code",
   "execution_count": 16,
   "metadata": {},
   "outputs": [
    {
     "name": "stdout",
     "output_type": "stream",
     "text": [
      "CPU times: user 55min 52s, sys: 14min 31s, total: 1h 10min 23s\n",
      "Wall time: 1h 25min 17s\n"
     ]
    }
   ],
   "source": [
    "%%time\n",
    "\n",
    "# tokenize the news text\n",
    "text_cleaned = np.array(df_news['cleaned text'])\n",
    "text_tokens = list(sent_to_words(text_cleaned))\n",
    "\n",
    "# remove stopwords\n",
    "text_token_nostops = remove_stopwords(text_tokens)\n",
    "\n",
    "# make bigrams and trigrams\n",
    "text_bigrams = make_bigrams(text_tokens)\n",
    "text_trigrams = make_trigrams(text_tokens)\n",
    "\n",
    "# combine tokens and ngrams\n",
    "df_news['text_tokens'] = list(zip(text_token_nostops, text_bigrams, text_trigrams))\n",
    "df_news['text_tokens'] = df_news['text_tokens'].apply(lambda x: list(x[0] + x[1] + x[2]))\n",
    "text_tokens_all = df_news['text_tokens'].tolist()"
   ]
  },
  {
   "cell_type": "code",
   "execution_count": 18,
   "metadata": {},
   "outputs": [
    {
     "name": "stdout",
     "output_type": "stream",
     "text": [
      "CPU times: user 4h 5min 28s, sys: 1h 54min 45s, total: 6h 14s\n",
      "Wall time: 14h 34min 12s\n"
     ]
    },
    {
     "data": {
      "text/html": [
       "<div>\n",
       "<style scoped>\n",
       "    .dataframe tbody tr th:only-of-type {\n",
       "        vertical-align: middle;\n",
       "    }\n",
       "\n",
       "    .dataframe tbody tr th {\n",
       "        vertical-align: top;\n",
       "    }\n",
       "\n",
       "    .dataframe thead th {\n",
       "        text-align: right;\n",
       "    }\n",
       "</style>\n",
       "<table border=\"1\" class=\"dataframe\">\n",
       "  <thead>\n",
       "    <tr style=\"text-align: right;\">\n",
       "      <th></th>\n",
       "      <th>cleaned text</th>\n",
       "      <th>text_tokens</th>\n",
       "      <th>text_lemmatized</th>\n",
       "    </tr>\n",
       "  </thead>\n",
       "  <tbody>\n",
       "    <tr>\n",
       "      <th>0</th>\n",
       "      <td>Artificial intelligence improves parking efficiency in Chinese cities Photo taken on July 1, 2019, shows a sign for electronic toll collection ETC newly set up at a roadside parking space on Yangzhuang road, Shijingshan district, Beijing. Some urban areas of the city started to use ETC system for roadside parking spaces since July 1, 2019. Peoples Daily OnlineLi Wenming Thanks to the application of an artificial intelligence AIempowered roadside electronic toll collection ETC system, Chinas ...</td>\n",
       "      <td>[artificial, intelligence, improves, parking, efficiency, chinese, cities, photo, taken, july, shows, sign, electronic, toll, collection, etc, newly, set, roadside, parking, space, yangzhuang, road, shijingshan, district, beijing, urban, areas, city, started, use, etc, system, roadside, parking, spaces, since, july, peoples, daily, onlineli, wenming, thanks, application, artificial, intelligence, aiempowered, roadside, electronic, toll, collection, etc, system, chinas, capital, city, beijing...</td>\n",
       "      <td>[artificial, intelligence, improve, parking, efficiency, chinese, city, photo, take, show, sign, electronic, toll, collection, newly, set, roadside, parking, space, area, start, use, system, roadside, parking, space, people, daily, onlineli, wenme, thank, application, artificial, intelligence, aiempowere, roadside, electronic, toll, collection, system, china, see, significant, improvement, efficiency, parking, fee, collection, turnover, roadside, parking, spot, order, roadside, parking, traf...</td>\n",
       "    </tr>\n",
       "    <tr>\n",
       "      <th>1</th>\n",
       "      <td>Children With Autism Saw Their Learning and Social Skills Boosted After Playing With This AI Robot admin  Latest posts by admin see all  Mansplaining in conferences: How can we get him to forestall  February 27, 2020 Coronavirus Could Explode in the U.S. Overnight Like it Did in Italy  February 27, 2020 Levi Strauss marks the next phase in corporate paid leave policies  February 27, 2020 Scientists who designed an artificially clever robotic that helped youngsters with autism spice up their ...</td>\n",
       "      <td>[children, autism, saw, learning, social, skills, boosted, playing, ai, robot, admin, latest, posts, admin, see, mansplaining, conferences, get, forestall, february, coronavirus, could, explode, overnight, like, italy, february, levi, strauss, marks, next, phase, corporate, paid, leave, policies, february, scientists, designed, artificially, clever, robotic, helped, youngsters, autism, spice, studying, social, talents, hope, era, may, future, help, others, developmental, dysfunction, learn, ...</td>\n",
       "      <td>[child, autism, see, learn, social, skill, boost, play, robot, late, post, admin, see, mansplaining, conference, get, explode, overnight, mark, next, phase, corporate, pay, leave, policy, scientist, design, artificially, clever, robotic, help, youngster, autism, spice, study, social, talent, era, future, help, other, developmental, dysfunction, learn, notice, youngster, gentle, average, autism, take, domestic, s, refer, socially, assistive, robotic, name, kiwi, month, accord, commentary, way...</td>\n",
       "    </tr>\n",
       "    <tr>\n",
       "      <th>2</th>\n",
       "      <td>Forget ML, AI and Industry 4.0  obsolescence should be your focus The world entered a new era of accelerated transformation in the last eighteen months that will continue to evolve and press forward for years to come. Most businesses are playing catchup trying to make sense of a new timeline where the ten years that had been set aside for careful planning and implementation of what was coming up next no longer exists. The next is happening now and, regardless of your industry or seniority, t...</td>\n",
       "      <td>[forget, ml, ai, industry, obsolescence, focus, world, entered, new, era, accelerated, transformation, last, eighteen, months, continue, evolve, press, forward, years, come, businesses, playing, catchup, trying, make, sense, new, timeline, ten, years, set, aside, careful, planning, implementation, coming, next, longer, exists, next, happening, regardless, industry, seniority, status, quo, shifted, better, face, back, invited, attend, pompous, meeting, london, brazilian, embassy, along, selec...</td>\n",
       "      <td>[forget, ai, industry, obsolescence, focus, world, enter, new, era, accelerate, transformation, last, month, continue, evolve, press, forward, year, come, business, play, catchup, try, make, sense, new, timeline, year, set, aside, careful, planning, implementation, come, next, long, exist, next, happen, regardless, industry, seniority, status, quo, shift, well, face, back, invite, attend, pompous, meeting, brazilian, embassy, select, lead, name, oil, energy, industry, get, update, go, happen...</td>\n",
       "    </tr>\n",
       "    <tr>\n",
       "      <th>3</th>\n",
       "      <td>Strategy Analytics: 71 of Smartphones Sold Globally in 2021 will be AI Powered BOSTONBUSINESS WIREStrategy Analytics in a newly published report, Smartphones: Global Artificial Intelligence Technologies Forecast to 2025, finds that ondevice Artificial Intelligence AI is being rapidly implemented by smartphone vendors. AI is used in various functions inside smartphones such as intelligent power optimization, imaging, virtual assistants, and to enhance device performance. The report highlights...</td>\n",
       "      <td>[strategy, analytics, smartphones, sold, globally, ai, powered, bostonbusiness, wirestrategy, analytics, newly, published, report, smartphones, global, artificial, intelligence, technologies, forecast, finds, ondevice, artificial, intelligence, ai, rapidly, implemented, smartphone, vendors, ai, used, various, functions, inside, smartphones, intelligent, power, optimization, imaging, virtual, assistants, enhance, device, performance, report, highlights, fact, ai, become, important, technology...</td>\n",
       "      <td>[strategy, analytic, smartphone, sell, globally, ai, power, bostonbusiness, wirestrategy, analytic, newly, publish, report, smartphone, global, artificial, intelligence, technology, forecast, find, ondevice, artificial, intelligence, ai, rapidly, implement, vendor, ai, use, various, function, smartphone, intelligent, power, optimization, image, virtual, assistant, enhance, device, performance, report, highlight, fact, ai, become, important, technology, modern, smartphone, push, add, ondevice...</td>\n",
       "    </tr>\n",
       "    <tr>\n",
       "      <th>4</th>\n",
       "      <td>Olympus to Support Endoscopic AI Diagnosis Education for Doctors in India and to Launch AI Diagnostic Support Application TOKYO, Oct 20, 2020  ACN Newswire   Olympus Corporation took part in a groundbreaking project as a business promoter, in cooperation with the Ministry of Internal Affairs and Communications MIC, entitled, Survey Study for International Expansion of AI Diagnosis Support System Using UltraHigh Magnifying Endoscopes in India. The project aims to develop advanced endoscopy di...</td>\n",
       "      <td>[olympus, support, endoscopic, ai, diagnosis, education, doctors, india, launch, ai, diagnostic, support, application, tokyo, oct, acn, newswire, olympus, corporation, took, part, groundbreaking, project, business, promoter, cooperation, ministry, internal, affairs, communications, mic, entitled, survey, study, international, expansion, ai, diagnosis, support, system, using, ultrahigh, magnifying, endoscopes, india, project, aims, develop, advanced, endoscopy, diagnostics, india, relatively,...</td>\n",
       "      <td>[olympu, support, ai, diagnosis, education, doctor, launch, ai, diagnostic, support, application, corporation, take, part, groundbreaking, project, business, promoter, cooperation, affair, communication, entitle, survey, study, international, expansion, ai, diagnosis, support, system, use, ultrahigh, magnifying, endoscope, project, aim, develop, advanced, endoscopy, diagnostic, relatively, endoscopist, collaboration, cybernet, establish, ai, diagnostic, support, system, major, medical, insti...</td>\n",
       "    </tr>\n",
       "  </tbody>\n",
       "</table>\n",
       "</div>"
      ],
      "text/plain": [
       "                                                                                                                                                                                                                                                                                                                                                                                                                                                                                                          cleaned text   \n",
       "0  Artificial intelligence improves parking efficiency in Chinese cities Photo taken on July 1, 2019, shows a sign for electronic toll collection ETC newly set up at a roadside parking space on Yangzhuang road, Shijingshan district, Beijing. Some urban areas of the city started to use ETC system for roadside parking spaces since July 1, 2019. Peoples Daily OnlineLi Wenming Thanks to the application of an artificial intelligence AIempowered roadside electronic toll collection ETC system, Chinas ...  \\\n",
       "1  Children With Autism Saw Their Learning and Social Skills Boosted After Playing With This AI Robot admin  Latest posts by admin see all  Mansplaining in conferences: How can we get him to forestall  February 27, 2020 Coronavirus Could Explode in the U.S. Overnight Like it Did in Italy  February 27, 2020 Levi Strauss marks the next phase in corporate paid leave policies  February 27, 2020 Scientists who designed an artificially clever robotic that helped youngsters with autism spice up their ...   \n",
       "2  Forget ML, AI and Industry 4.0  obsolescence should be your focus The world entered a new era of accelerated transformation in the last eighteen months that will continue to evolve and press forward for years to come. Most businesses are playing catchup trying to make sense of a new timeline where the ten years that had been set aside for careful planning and implementation of what was coming up next no longer exists. The next is happening now and, regardless of your industry or seniority, t...   \n",
       "3  Strategy Analytics: 71 of Smartphones Sold Globally in 2021 will be AI Powered BOSTONBUSINESS WIREStrategy Analytics in a newly published report, Smartphones: Global Artificial Intelligence Technologies Forecast to 2025, finds that ondevice Artificial Intelligence AI is being rapidly implemented by smartphone vendors. AI is used in various functions inside smartphones such as intelligent power optimization, imaging, virtual assistants, and to enhance device performance. The report highlights...   \n",
       "4  Olympus to Support Endoscopic AI Diagnosis Education for Doctors in India and to Launch AI Diagnostic Support Application TOKYO, Oct 20, 2020  ACN Newswire   Olympus Corporation took part in a groundbreaking project as a business promoter, in cooperation with the Ministry of Internal Affairs and Communications MIC, entitled, Survey Study for International Expansion of AI Diagnosis Support System Using UltraHigh Magnifying Endoscopes in India. The project aims to develop advanced endoscopy di...   \n",
       "\n",
       "                                                                                                                                                                                                                                                                                                                                                                                                                                                                                                           text_tokens   \n",
       "0  [artificial, intelligence, improves, parking, efficiency, chinese, cities, photo, taken, july, shows, sign, electronic, toll, collection, etc, newly, set, roadside, parking, space, yangzhuang, road, shijingshan, district, beijing, urban, areas, city, started, use, etc, system, roadside, parking, spaces, since, july, peoples, daily, onlineli, wenming, thanks, application, artificial, intelligence, aiempowered, roadside, electronic, toll, collection, etc, system, chinas, capital, city, beijing...  \\\n",
       "1  [children, autism, saw, learning, social, skills, boosted, playing, ai, robot, admin, latest, posts, admin, see, mansplaining, conferences, get, forestall, february, coronavirus, could, explode, overnight, like, italy, february, levi, strauss, marks, next, phase, corporate, paid, leave, policies, february, scientists, designed, artificially, clever, robotic, helped, youngsters, autism, spice, studying, social, talents, hope, era, may, future, help, others, developmental, dysfunction, learn, ...   \n",
       "2  [forget, ml, ai, industry, obsolescence, focus, world, entered, new, era, accelerated, transformation, last, eighteen, months, continue, evolve, press, forward, years, come, businesses, playing, catchup, trying, make, sense, new, timeline, ten, years, set, aside, careful, planning, implementation, coming, next, longer, exists, next, happening, regardless, industry, seniority, status, quo, shifted, better, face, back, invited, attend, pompous, meeting, london, brazilian, embassy, along, selec...   \n",
       "3  [strategy, analytics, smartphones, sold, globally, ai, powered, bostonbusiness, wirestrategy, analytics, newly, published, report, smartphones, global, artificial, intelligence, technologies, forecast, finds, ondevice, artificial, intelligence, ai, rapidly, implemented, smartphone, vendors, ai, used, various, functions, inside, smartphones, intelligent, power, optimization, imaging, virtual, assistants, enhance, device, performance, report, highlights, fact, ai, become, important, technology...   \n",
       "4  [olympus, support, endoscopic, ai, diagnosis, education, doctors, india, launch, ai, diagnostic, support, application, tokyo, oct, acn, newswire, olympus, corporation, took, part, groundbreaking, project, business, promoter, cooperation, ministry, internal, affairs, communications, mic, entitled, survey, study, international, expansion, ai, diagnosis, support, system, using, ultrahigh, magnifying, endoscopes, india, project, aims, develop, advanced, endoscopy, diagnostics, india, relatively,...   \n",
       "\n",
       "                                                                                                                                                                                                                                                                                                                                                                                                                                                                                                       text_lemmatized  \n",
       "0  [artificial, intelligence, improve, parking, efficiency, chinese, city, photo, take, show, sign, electronic, toll, collection, newly, set, roadside, parking, space, area, start, use, system, roadside, parking, space, people, daily, onlineli, wenme, thank, application, artificial, intelligence, aiempowere, roadside, electronic, toll, collection, system, china, see, significant, improvement, efficiency, parking, fee, collection, turnover, roadside, parking, spot, order, roadside, parking, traf...  \n",
       "1  [child, autism, see, learn, social, skill, boost, play, robot, late, post, admin, see, mansplaining, conference, get, explode, overnight, mark, next, phase, corporate, pay, leave, policy, scientist, design, artificially, clever, robotic, help, youngster, autism, spice, study, social, talent, era, future, help, other, developmental, dysfunction, learn, notice, youngster, gentle, average, autism, take, domestic, s, refer, socially, assistive, robotic, name, kiwi, month, accord, commentary, way...  \n",
       "2  [forget, ai, industry, obsolescence, focus, world, enter, new, era, accelerate, transformation, last, month, continue, evolve, press, forward, year, come, business, play, catchup, try, make, sense, new, timeline, year, set, aside, careful, planning, implementation, come, next, long, exist, next, happen, regardless, industry, seniority, status, quo, shift, well, face, back, invite, attend, pompous, meeting, brazilian, embassy, select, lead, name, oil, energy, industry, get, update, go, happen...  \n",
       "3  [strategy, analytic, smartphone, sell, globally, ai, power, bostonbusiness, wirestrategy, analytic, newly, publish, report, smartphone, global, artificial, intelligence, technology, forecast, find, ondevice, artificial, intelligence, ai, rapidly, implement, vendor, ai, use, various, function, smartphone, intelligent, power, optimization, image, virtual, assistant, enhance, device, performance, report, highlight, fact, ai, become, important, technology, modern, smartphone, push, add, ondevice...  \n",
       "4  [olympu, support, ai, diagnosis, education, doctor, launch, ai, diagnostic, support, application, corporation, take, part, groundbreaking, project, business, promoter, cooperation, affair, communication, entitle, survey, study, international, expansion, ai, diagnosis, support, system, use, ultrahigh, magnifying, endoscope, project, aim, develop, advanced, endoscopy, diagnostic, relatively, endoscopist, collaboration, cybernet, establish, ai, diagnostic, support, system, major, medical, insti...  "
      ]
     },
     "execution_count": 18,
     "metadata": {},
     "output_type": "execute_result"
    }
   ],
   "source": [
    "%%time\n",
    "\n",
    "# lemmatize the tokens keeping only noun, adj, vb, adv\n",
    "nlp = spacy.load('en_core_web_sm', disable=['parser', 'ner'])\n",
    "text_lemmatized = lemmatization(text_tokens_all, allowed_postags=['NOUN', 'ADJ', 'VERB', 'ADV'])\n",
    "\n",
    "df_news['text_lemmatized'] = text_lemmatized\n",
    "df_news[['cleaned text', 'text_tokens', 'text_lemmatized']].head()"
   ]
  },
  {
   "cell_type": "code",
   "execution_count": 19,
   "metadata": {},
   "outputs": [],
   "source": [
    "%%time\n",
    "\n",
    "# save lemmatized news text as parquet file\n",
    "# path = \"gs://nlp-final-project-data/data/\"\n",
    "# df_news.to_parquet(path + 'news_lemmatized.parquet', engine='pyarrow')"
   ]
  },
  {
   "attachments": {},
   "cell_type": "markdown",
   "metadata": {},
   "source": [
    "## News Article Filtering with TF-IDF Keywords"
   ]
  },
  {
   "cell_type": "code",
   "execution_count": null,
   "metadata": {},
   "outputs": [],
   "source": [
    "%%time\n",
    "\n",
    "# load lemmatized news text from parquet file on GCP\n",
    "path = \"gs://nlp-final-project-data/data/\"\n",
    "df_news = pd.read_parquet(path + 'news_lemmatized.parquet', engine='pyarrow')\n",
    "df_news.shape"
   ]
  },
  {
   "cell_type": "code",
   "execution_count": null,
   "metadata": {},
   "outputs": [],
   "source": [
    "%%time\n",
    "# read from local file\n",
    "# path = '/Users/silvia/Desktop/Spring 2023/32018 NLP/Final Project Data/data/news_lemmatized.parquet'\n",
    "# df_news = pd.read_parquet(path, engine='pyarrow')\n",
    "# df_news.shape"
   ]
  },
  {
   "cell_type": "code",
   "execution_count": 25,
   "metadata": {},
   "outputs": [],
   "source": [
    "# drop article with no title tokens after lemmatization\n",
    "df_news = df_news[df_news['title_lemmatized'].map(len) > 3]"
   ]
  },
  {
   "cell_type": "code",
   "execution_count": 21,
   "metadata": {},
   "outputs": [],
   "source": [
    "# extract top n keywords from lemmatized text using TF-IDF\n",
    "def get_keywords_tfidf(text, n):\n",
    "\n",
    "    # create tf-idf vectorizer object\n",
    "    vectorizer = TfidfVectorizer()\n",
    "\n",
    "    # tokenize and build vocab\n",
    "    tfidf = vectorizer.fit_transform(text)\n",
    "\n",
    "    # sort weights in descending order and get top n\n",
    "    sorted_weights = np.argsort(np.asarray(tfidf.sum(axis=0))).flatten()[::-1][:n]\n",
    "\n",
    "    # get feature names\n",
    "    feature_names = np.array(vectorizer.get_feature_names())\n",
    "\n",
    "    # get top n keywords\n",
    "    keywords = feature_names[sorted_weights]\n",
    "\n",
    "    return keywords"
   ]
  },
  {
   "attachments": {},
   "cell_type": "markdown",
   "metadata": {},
   "source": [
    "### Title Keywords"
   ]
  },
  {
   "cell_type": "code",
   "execution_count": 26,
   "metadata": {},
   "outputs": [
    {
     "name": "stdout",
     "output_type": "stream",
     "text": [
      "CPU times: user 3min 27s, sys: 1.71 s, total: 3min 29s\n",
      "Wall time: 3min 30s\n"
     ]
    },
    {
     "data": {
      "text/html": [
       "<div>\n",
       "<style scoped>\n",
       "    .dataframe tbody tr th:only-of-type {\n",
       "        vertical-align: middle;\n",
       "    }\n",
       "\n",
       "    .dataframe tbody tr th {\n",
       "        vertical-align: top;\n",
       "    }\n",
       "\n",
       "    .dataframe thead th {\n",
       "        text-align: right;\n",
       "    }\n",
       "</style>\n",
       "<table border=\"1\" class=\"dataframe\">\n",
       "  <thead>\n",
       "    <tr style=\"text-align: right;\">\n",
       "      <th></th>\n",
       "      <th>cleaned title</th>\n",
       "      <th>title_lemmatized</th>\n",
       "      <th>title_keywords</th>\n",
       "    </tr>\n",
       "  </thead>\n",
       "  <tbody>\n",
       "    <tr>\n",
       "      <th>0</th>\n",
       "      <td>Artificial intelligence improves parking efficiency in Chinese cities</td>\n",
       "      <td>[artificial, intelligence, improve, parking, efficiency, chinese, city, artificial_intelligence, improve, parking, efficiency, chinese, city, artificial_intelligence, improve, parking, efficiency, chinese, city]</td>\n",
       "      <td>[parking, improve, efficiency, city, chinese, artificial_intelligence, intelligence, artificial]</td>\n",
       "    </tr>\n",
       "    <tr>\n",
       "      <th>1</th>\n",
       "      <td>Children With Autism Saw Their Learning and Social Skills Boosted After Playing With This AI Robot</td>\n",
       "      <td>[child, autism, see, learn, social, skill, boost, play, robot, child, autism, see, learn, social, skill, boost, play, robot, child, autism, see, learn, social, skill, boost, play, ai_robot]</td>\n",
       "      <td>[social, skill, see, play, learn, child, boost, autism, robot, ai_robot]</td>\n",
       "    </tr>\n",
       "    <tr>\n",
       "      <th>2</th>\n",
       "      <td>Forget ML, AI and Industry 4.0 – obsolescence should be your focus</td>\n",
       "      <td>[forget, ml, ai, industry, obsolescence, focus, forget, ml, ai, industry, obsolescence, focus, forget, ml, ai, industry, obsolescence, focus]</td>\n",
       "      <td>[obsolescence, ml, industry, forget, focus, ai]</td>\n",
       "    </tr>\n",
       "    <tr>\n",
       "      <th>3</th>\n",
       "      <td>Strategy Analytics: 71% of Smartphones Sold Globally in 2021 will be AI Powered</td>\n",
       "      <td>[strategy, analytic, smartphone, sell, globally, ai, powered, strategy, analytic, smartphones_sold, globally, ai, powered, strategy, analytic, smartphones_sold, globally, ai_powere]</td>\n",
       "      <td>[strategy, globally, analytic, smartphones_sold, powered, ai, smartphone, sell, ai_powere]</td>\n",
       "    </tr>\n",
       "    <tr>\n",
       "      <th>4</th>\n",
       "      <td>Olympus to Support Endoscopic AI Diagnosis Education for Doctors in India and to Launch AI Diagnostic Support Application</td>\n",
       "      <td>[olympu, support, endoscopic, ai, diagnosis, education, doctor, india, launch, ai, diagnostic, support, application, ai, diagnosis, education, doctor, india, launch, ai, diagnostic, support, application, education, doctor, india, launch, ai, diagnostic, support, application]</td>\n",
       "      <td>[ai, support, launch, india, education, doctor, diagnostic, application, diagnosis, olympu]</td>\n",
       "    </tr>\n",
       "  </tbody>\n",
       "</table>\n",
       "</div>"
      ],
      "text/plain": [
       "                                                                                                               cleaned title   \n",
       "0                                                      Artificial intelligence improves parking efficiency in Chinese cities  \\\n",
       "1                         Children With Autism Saw Their Learning and Social Skills Boosted After Playing With This AI Robot   \n",
       "2                                                         Forget ML, AI and Industry 4.0 – obsolescence should be your focus   \n",
       "3                                            Strategy Analytics: 71% of Smartphones Sold Globally in 2021 will be AI Powered   \n",
       "4  Olympus to Support Endoscopic AI Diagnosis Education for Doctors in India and to Launch AI Diagnostic Support Application   \n",
       "\n",
       "                                                                                                                                                                                                                                                                      title_lemmatized   \n",
       "0                                                                  [artificial, intelligence, improve, parking, efficiency, chinese, city, artificial_intelligence, improve, parking, efficiency, chinese, city, artificial_intelligence, improve, parking, efficiency, chinese, city]  \\\n",
       "1                                                                                        [child, autism, see, learn, social, skill, boost, play, robot, child, autism, see, learn, social, skill, boost, play, robot, child, autism, see, learn, social, skill, boost, play, ai_robot]   \n",
       "2                                                                                                                                        [forget, ml, ai, industry, obsolescence, focus, forget, ml, ai, industry, obsolescence, focus, forget, ml, ai, industry, obsolescence, focus]   \n",
       "3                                                                                                [strategy, analytic, smartphone, sell, globally, ai, powered, strategy, analytic, smartphones_sold, globally, ai, powered, strategy, analytic, smartphones_sold, globally, ai_powere]   \n",
       "4  [olympu, support, endoscopic, ai, diagnosis, education, doctor, india, launch, ai, diagnostic, support, application, ai, diagnosis, education, doctor, india, launch, ai, diagnostic, support, application, education, doctor, india, launch, ai, diagnostic, support, application]   \n",
       "\n",
       "                                                                                     title_keywords  \n",
       "0  [parking, improve, efficiency, city, chinese, artificial_intelligence, intelligence, artificial]  \n",
       "1                          [social, skill, see, play, learn, child, boost, autism, robot, ai_robot]  \n",
       "2                                                   [obsolescence, ml, industry, forget, focus, ai]  \n",
       "3        [strategy, globally, analytic, smartphones_sold, powered, ai, smartphone, sell, ai_powere]  \n",
       "4       [ai, support, launch, india, education, doctor, diagnostic, application, diagnosis, olympu]  "
      ]
     },
     "execution_count": 26,
     "metadata": {},
     "output_type": "execute_result"
    }
   ],
   "source": [
    "%%time\n",
    "\n",
    "# extact keywords from news title\n",
    "df_news['title_keywords'] = df_news['title_lemmatized'].apply(lambda x: get_keywords_tfidf(x, n=10))\n",
    "df_news[['cleaned title', 'title_lemmatized', 'title_keywords']].head()"
   ]
  },
  {
   "attachments": {},
   "cell_type": "markdown",
   "metadata": {},
   "source": [
    "### Text Keywords"
   ]
  },
  {
   "cell_type": "code",
   "execution_count": 27,
   "metadata": {},
   "outputs": [
    {
     "name": "stdout",
     "output_type": "stream",
     "text": [
      "CPU times: user 16min 34s, sys: 1min 7s, total: 17min 42s\n",
      "Wall time: 25min 44s\n"
     ]
    },
    {
     "data": {
      "text/html": [
       "<div>\n",
       "<style scoped>\n",
       "    .dataframe tbody tr th:only-of-type {\n",
       "        vertical-align: middle;\n",
       "    }\n",
       "\n",
       "    .dataframe tbody tr th {\n",
       "        vertical-align: top;\n",
       "    }\n",
       "\n",
       "    .dataframe thead th {\n",
       "        text-align: right;\n",
       "    }\n",
       "</style>\n",
       "<table border=\"1\" class=\"dataframe\">\n",
       "  <thead>\n",
       "    <tr style=\"text-align: right;\">\n",
       "      <th></th>\n",
       "      <th>cleaned text</th>\n",
       "      <th>text_lemmatized</th>\n",
       "      <th>text_keywords</th>\n",
       "    </tr>\n",
       "  </thead>\n",
       "  <tbody>\n",
       "    <tr>\n",
       "      <th>0</th>\n",
       "      <td>Artificial intelligence improves parking efficiency in Chinese cities Photo taken on July 1, 2019, shows a sign for electronic toll collection ETC newly set up at a roadside parking space on Yangzhuang road, Shijingshan district, Beijing. Some urban areas of the city started to use ETC system for roadside parking spaces since July 1, 2019. Peoples Daily OnlineLi Wenming Thanks to the application of an artificial intelligence AIempowered roadside electronic toll collection ETC system, Chinas ...</td>\n",
       "      <td>[artificial, intelligence, improve, parking, efficiency, chinese, city, photo, take, show, sign, electronic, toll, collection, newly, set, roadside, parking, space, area, start, use, system, roadside, parking, space, people, daily, onlineli, wenme, thank, application, artificial, intelligence, aiempowere, roadside, electronic, toll, collection, system, china, see, significant, improvement, efficiency, parking, fee, collection, turnover, roadside, parking, spot, order, roadside, parking, traf...</td>\n",
       "      <td>[system, parking, roadside, city, vehicle, camera, collection, aipark, roadside_parke, eye]</td>\n",
       "    </tr>\n",
       "    <tr>\n",
       "      <th>1</th>\n",
       "      <td>Children With Autism Saw Their Learning and Social Skills Boosted After Playing With This AI Robot admin  Latest posts by admin see all  Mansplaining in conferences: How can we get him to forestall  February 27, 2020 Coronavirus Could Explode in the U.S. Overnight Like it Did in Italy  February 27, 2020 Levi Strauss marks the next phase in corporate paid leave policies  February 27, 2020 Scientists who designed an artificially clever robotic that helped youngsters with autism spice up their ...</td>\n",
       "      <td>[child, autism, see, learn, social, skill, boost, play, robot, late, post, admin, see, mansplaining, conference, get, explode, overnight, mark, next, phase, corporate, pay, leave, policy, scientist, design, artificially, clever, robotic, help, youngster, autism, spice, study, social, talent, era, future, help, other, developmental, dysfunction, learn, notice, youngster, gentle, average, autism, take, domestic, s, refer, socially, assistive, robotic, name, kiwi, month, accord, commentary, way...</td>\n",
       "      <td>[robotic, youngster, kid, child, kiwi, market, autism, learn, crew, talent]</td>\n",
       "    </tr>\n",
       "    <tr>\n",
       "      <th>2</th>\n",
       "      <td>Forget ML, AI and Industry 4.0  obsolescence should be your focus The world entered a new era of accelerated transformation in the last eighteen months that will continue to evolve and press forward for years to come. Most businesses are playing catchup trying to make sense of a new timeline where the ten years that had been set aside for careful planning and implementation of what was coming up next no longer exists. The next is happening now and, regardless of your industry or seniority, t...</td>\n",
       "      <td>[forget, ai, industry, obsolescence, focus, world, enter, new, era, accelerate, transformation, last, month, continue, evolve, press, forward, year, come, business, play, catchup, try, make, sense, new, timeline, year, set, aside, careful, planning, implementation, come, next, long, exist, next, happen, regardless, industry, seniority, status, quo, shift, well, face, back, invite, attend, pompous, meeting, brazilian, embassy, select, lead, name, oil, energy, industry, get, update, go, happen...</td>\n",
       "      <td>[electronic, come, card, industry, repair, new, system, require, test, business]</td>\n",
       "    </tr>\n",
       "    <tr>\n",
       "      <th>3</th>\n",
       "      <td>Strategy Analytics: 71 of Smartphones Sold Globally in 2021 will be AI Powered BOSTONBUSINESS WIREStrategy Analytics in a newly published report, Smartphones: Global Artificial Intelligence Technologies Forecast to 2025, finds that ondevice Artificial Intelligence AI is being rapidly implemented by smartphone vendors. AI is used in various functions inside smartphones such as intelligent power optimization, imaging, virtual assistants, and to enhance device performance. The report highlights...</td>\n",
       "      <td>[strategy, analytic, smartphone, sell, globally, ai, power, bostonbusiness, wirestrategy, analytic, newly, publish, report, smartphone, global, artificial, intelligence, technology, forecast, find, ondevice, artificial, intelligence, ai, rapidly, implement, vendor, ai, use, various, function, smartphone, intelligent, power, optimization, image, virtual, assistant, enhance, device, performance, report, highlight, fact, ai, become, important, technology, modern, smartphone, push, add, ondevice...</td>\n",
       "      <td>[ai, smartphone, strategy, analytic, ondevice, power, technology, report, well, become]</td>\n",
       "    </tr>\n",
       "    <tr>\n",
       "      <th>4</th>\n",
       "      <td>Olympus to Support Endoscopic AI Diagnosis Education for Doctors in India and to Launch AI Diagnostic Support Application TOKYO, Oct 20, 2020  ACN Newswire   Olympus Corporation took part in a groundbreaking project as a business promoter, in cooperation with the Ministry of Internal Affairs and Communications MIC, entitled, Survey Study for International Expansion of AI Diagnosis Support System Using UltraHigh Magnifying Endoscopes in India. The project aims to develop advanced endoscopy di...</td>\n",
       "      <td>[olympu, support, ai, diagnosis, education, doctor, launch, ai, diagnostic, support, application, corporation, take, part, groundbreaking, project, business, promoter, cooperation, affair, communication, entitle, survey, study, international, expansion, ai, diagnosis, support, system, use, ultrahigh, magnifying, endoscope, project, aim, develop, advanced, endoscopy, diagnostic, relatively, endoscopist, collaboration, cybernet, establish, ai, diagnostic, support, system, major, medical, insti...</td>\n",
       "      <td>[ai, support, diagnostic, train, system, endoscope, doctor, project, use, diagnosis]</td>\n",
       "    </tr>\n",
       "  </tbody>\n",
       "</table>\n",
       "</div>"
      ],
      "text/plain": [
       "                                                                                                                                                                                                                                                                                                                                                                                                                                                                                                          cleaned text   \n",
       "0  Artificial intelligence improves parking efficiency in Chinese cities Photo taken on July 1, 2019, shows a sign for electronic toll collection ETC newly set up at a roadside parking space on Yangzhuang road, Shijingshan district, Beijing. Some urban areas of the city started to use ETC system for roadside parking spaces since July 1, 2019. Peoples Daily OnlineLi Wenming Thanks to the application of an artificial intelligence AIempowered roadside electronic toll collection ETC system, Chinas ...  \\\n",
       "1  Children With Autism Saw Their Learning and Social Skills Boosted After Playing With This AI Robot admin  Latest posts by admin see all  Mansplaining in conferences: How can we get him to forestall  February 27, 2020 Coronavirus Could Explode in the U.S. Overnight Like it Did in Italy  February 27, 2020 Levi Strauss marks the next phase in corporate paid leave policies  February 27, 2020 Scientists who designed an artificially clever robotic that helped youngsters with autism spice up their ...   \n",
       "2  Forget ML, AI and Industry 4.0  obsolescence should be your focus The world entered a new era of accelerated transformation in the last eighteen months that will continue to evolve and press forward for years to come. Most businesses are playing catchup trying to make sense of a new timeline where the ten years that had been set aside for careful planning and implementation of what was coming up next no longer exists. The next is happening now and, regardless of your industry or seniority, t...   \n",
       "3  Strategy Analytics: 71 of Smartphones Sold Globally in 2021 will be AI Powered BOSTONBUSINESS WIREStrategy Analytics in a newly published report, Smartphones: Global Artificial Intelligence Technologies Forecast to 2025, finds that ondevice Artificial Intelligence AI is being rapidly implemented by smartphone vendors. AI is used in various functions inside smartphones such as intelligent power optimization, imaging, virtual assistants, and to enhance device performance. The report highlights...   \n",
       "4  Olympus to Support Endoscopic AI Diagnosis Education for Doctors in India and to Launch AI Diagnostic Support Application TOKYO, Oct 20, 2020  ACN Newswire   Olympus Corporation took part in a groundbreaking project as a business promoter, in cooperation with the Ministry of Internal Affairs and Communications MIC, entitled, Survey Study for International Expansion of AI Diagnosis Support System Using UltraHigh Magnifying Endoscopes in India. The project aims to develop advanced endoscopy di...   \n",
       "\n",
       "                                                                                                                                                                                                                                                                                                                                                                                                                                                                                                       text_lemmatized   \n",
       "0  [artificial, intelligence, improve, parking, efficiency, chinese, city, photo, take, show, sign, electronic, toll, collection, newly, set, roadside, parking, space, area, start, use, system, roadside, parking, space, people, daily, onlineli, wenme, thank, application, artificial, intelligence, aiempowere, roadside, electronic, toll, collection, system, china, see, significant, improvement, efficiency, parking, fee, collection, turnover, roadside, parking, spot, order, roadside, parking, traf...  \\\n",
       "1  [child, autism, see, learn, social, skill, boost, play, robot, late, post, admin, see, mansplaining, conference, get, explode, overnight, mark, next, phase, corporate, pay, leave, policy, scientist, design, artificially, clever, robotic, help, youngster, autism, spice, study, social, talent, era, future, help, other, developmental, dysfunction, learn, notice, youngster, gentle, average, autism, take, domestic, s, refer, socially, assistive, robotic, name, kiwi, month, accord, commentary, way...   \n",
       "2  [forget, ai, industry, obsolescence, focus, world, enter, new, era, accelerate, transformation, last, month, continue, evolve, press, forward, year, come, business, play, catchup, try, make, sense, new, timeline, year, set, aside, careful, planning, implementation, come, next, long, exist, next, happen, regardless, industry, seniority, status, quo, shift, well, face, back, invite, attend, pompous, meeting, brazilian, embassy, select, lead, name, oil, energy, industry, get, update, go, happen...   \n",
       "3  [strategy, analytic, smartphone, sell, globally, ai, power, bostonbusiness, wirestrategy, analytic, newly, publish, report, smartphone, global, artificial, intelligence, technology, forecast, find, ondevice, artificial, intelligence, ai, rapidly, implement, vendor, ai, use, various, function, smartphone, intelligent, power, optimization, image, virtual, assistant, enhance, device, performance, report, highlight, fact, ai, become, important, technology, modern, smartphone, push, add, ondevice...   \n",
       "4  [olympu, support, ai, diagnosis, education, doctor, launch, ai, diagnostic, support, application, corporation, take, part, groundbreaking, project, business, promoter, cooperation, affair, communication, entitle, survey, study, international, expansion, ai, diagnosis, support, system, use, ultrahigh, magnifying, endoscope, project, aim, develop, advanced, endoscopy, diagnostic, relatively, endoscopist, collaboration, cybernet, establish, ai, diagnostic, support, system, major, medical, insti...   \n",
       "\n",
       "                                                                                 text_keywords  \n",
       "0  [system, parking, roadside, city, vehicle, camera, collection, aipark, roadside_parke, eye]  \n",
       "1                  [robotic, youngster, kid, child, kiwi, market, autism, learn, crew, talent]  \n",
       "2             [electronic, come, card, industry, repair, new, system, require, test, business]  \n",
       "3      [ai, smartphone, strategy, analytic, ondevice, power, technology, report, well, become]  \n",
       "4         [ai, support, diagnostic, train, system, endoscope, doctor, project, use, diagnosis]  "
      ]
     },
     "execution_count": 27,
     "metadata": {},
     "output_type": "execute_result"
    }
   ],
   "source": [
    "%%time\n",
    "\n",
    "# extract keywords from news text\n",
    "df_news['text_keywords'] = df_news['text_lemmatized'].apply(lambda x: get_keywords_tfidf(x, n=10))\n",
    "df_news[['cleaned text', 'text_lemmatized', 'text_keywords']].head()"
   ]
  },
  {
   "cell_type": "code",
   "execution_count": 28,
   "metadata": {},
   "outputs": [
    {
     "data": {
      "text/plain": [
       "ai                         113353\n",
       "intelligence                25125\n",
       "artificial_intelligence     21939\n",
       "market                      19097\n",
       "artificial                  15959\n",
       "chatgpt                     14164\n",
       "use                         13399\n",
       "new                         13043\n",
       "global                      10831\n",
       "platform                     8208\n",
       "technology                   8110\n",
       "machine                      8110\n",
       "launch                       7791\n",
       "google                       7788\n",
       "datum                        6410\n",
       "learn                        6312\n",
       "microsoft                    6076\n",
       "solution                     5757\n",
       "forecast                     5613\n",
       "machine_learne               5574\n",
       "tool                         5317\n",
       "analysis                     5188\n",
       "growth                       5183\n",
       "company                      4494\n",
       "research                     4423\n",
       "industry                     4225\n",
       "science                      4200\n",
       "help                         4151\n",
       "tech                         4073\n",
       "report                       3968\n",
       "Name: count, dtype: int64"
      ]
     },
     "execution_count": 28,
     "metadata": {},
     "output_type": "execute_result"
    }
   ],
   "source": [
    "# Combine all keywords into one list across all news titles\n",
    "title_keywords_all = []\n",
    "for keywords in df_news['title_keywords']:\n",
    "    title_keywords_all.extend(keywords)\n",
    "\n",
    "title_keywords_all = pd.Series(title_keywords_all)\n",
    "title_keywords_all.value_counts().head(30)\n"
   ]
  },
  {
   "cell_type": "code",
   "execution_count": 29,
   "metadata": {},
   "outputs": [
    {
     "data": {
      "text/plain": [
       "ai              103452\n",
       "use              54302\n",
       "technology       41912\n",
       "company          40686\n",
       "say              39567\n",
       "market           31454\n",
       "new              29309\n",
       "datum            27475\n",
       "report           24135\n",
       "global           17969\n",
       "solution         17042\n",
       "business         16878\n",
       "industry         16735\n",
       "intelligence     16317\n",
       "analysis         16270\n",
       "platform         15647\n",
       "system           15302\n",
       "make             14339\n",
       "chatgpt          14254\n",
       "research         13529\n",
       "service          12883\n",
       "model            12623\n",
       "growth           12574\n",
       "help             12434\n",
       "also             12271\n",
       "customer         12212\n",
       "work             11698\n",
       "product          10457\n",
       "artificial        9984\n",
       "tool              9982\n",
       "Name: count, dtype: int64"
      ]
     },
     "execution_count": 29,
     "metadata": {},
     "output_type": "execute_result"
    }
   ],
   "source": [
    "# Combine all keywords into one list across all news article text\n",
    "text_keywords_all = []\n",
    "for keywords in df_news['text_keywords']:\n",
    "    text_keywords_all.extend(keywords)\n",
    "\n",
    "text_keywords_all = pd.Series(text_keywords_all)\n",
    "text_keywords_all.value_counts().head(30)"
   ]
  },
  {
   "cell_type": "code",
   "execution_count": 30,
   "metadata": {},
   "outputs": [],
   "source": [
    "# select keywords from top 30 keywords that related to ai, ds, ml and industry forecasting\n",
    "title_keywords = ['ai', 'ml', 'artificial', 'intelligence', 'artificial_intelligence', 'data', 'science', 'machine', 'machine_learne', 'technology', 'chatgpt', 'model', 'industry', 'forecast', 'market']\n",
    "\n",
    "text_keywords = ['ai', 'ml', 'artificial', 'intelligence', 'artificial_intelligence', 'data', 'science', 'technology', 'machine', 'chatgpt', 'model', 'industry', 'forecast', 'market']"
   ]
  },
  {
   "cell_type": "code",
   "execution_count": 31,
   "metadata": {},
   "outputs": [
    {
     "data": {
      "text/plain": [
       "(154283, 10)"
      ]
     },
     "execution_count": 31,
     "metadata": {},
     "output_type": "execute_result"
    }
   ],
   "source": [
    "# Filter out news articles that do not contain any of the keywords\n",
    "\n",
    "# filter by title keywords\n",
    "df_news_filtered = df_news[df_news['title_keywords'].apply(lambda x: any([keyword in x for keyword in title_keywords]))].reset_index(drop=True)\n",
    "\n",
    "# filter by text keywords\n",
    "df_news_filtered = df_news_filtered[df_news_filtered['text_keywords'].apply(lambda x: any([keyword in x for keyword in text_keywords]))].reset_index(drop=True)\n",
    "\n",
    "\n",
    "df_news_filtered.shape"
   ]
  },
  {
   "cell_type": "code",
   "execution_count": 32,
   "metadata": {},
   "outputs": [
    {
     "name": "stdout",
     "output_type": "stream",
     "text": [
      "<class 'pandas.core.frame.DataFrame'>\n",
      "RangeIndex: 154283 entries, 0 to 154282\n",
      "Data columns (total 10 columns):\n",
      " #   Column            Non-Null Count   Dtype \n",
      "---  ------            --------------   ----- \n",
      " 0   id                154283 non-null  int64 \n",
      " 1   date              154283 non-null  object\n",
      " 2   cleaned title     154283 non-null  object\n",
      " 3   cleaned text      154283 non-null  object\n",
      " 4   title_tokens      154283 non-null  object\n",
      " 5   title_lemmatized  154283 non-null  object\n",
      " 6   text_tokens       154283 non-null  object\n",
      " 7   text_lemmatized   154283 non-null  object\n",
      " 8   title_keywords    154283 non-null  object\n",
      " 9   text_keywords     154283 non-null  object\n",
      "dtypes: int64(1), object(9)\n",
      "memory usage: 11.8+ MB\n"
     ]
    }
   ],
   "source": [
    "df_news_filtered.info()"
   ]
  },
  {
   "attachments": {},
   "cell_type": "markdown",
   "metadata": {},
   "source": [
    "## Save Filtered Data"
   ]
  },
  {
   "cell_type": "code",
   "execution_count": 33,
   "metadata": {},
   "outputs": [],
   "source": [
    "%%time\n",
    "\n",
    "# save processed news text as parquet file\n",
    "# path = \"gs://nlp-final-project-data/data/\"\n",
    "# df_news_filtered.to_parquet(path + 'news_filtered.parquet', engine='pyarrow')"
   ]
  }
 ],
 "metadata": {
  "kernelspec": {
   "display_name": "Python 3",
   "language": "python",
   "name": "python3"
  },
  "language_info": {
   "codemirror_mode": {
    "name": "ipython",
    "version": 3
   },
   "file_extension": ".py",
   "mimetype": "text/x-python",
   "name": "python",
   "nbconvert_exporter": "python",
   "pygments_lexer": "ipython3",
   "version": "3.9.16"
  },
  "orig_nbformat": 4
 },
 "nbformat": 4,
 "nbformat_minor": 2
}
