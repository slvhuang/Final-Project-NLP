{
 "cells": [
  {
   "attachments": {},
   "cell_type": "markdown",
   "metadata": {},
   "source": [
    "# MSCA 32018 Natural Language Processing and Cognitive Computing\n",
    "## Final Project - Topic Detection - LDA\n",
    "\n",
    "Shijia Huang\n",
    "\n",
    "-----"
   ]
  },
  {
   "cell_type": "code",
   "execution_count": 1,
   "metadata": {},
   "outputs": [],
   "source": [
    "# Import basic libraries\n",
    "import time\n",
    "import pandas as pd\n",
    "import numpy as np\n",
    "import seaborn as sns\n",
    "import matplotlib.pyplot as plt \n",
    "\n",
    "%matplotlib inline"
   ]
  },
  {
   "cell_type": "code",
   "execution_count": 2,
   "metadata": {},
   "outputs": [
    {
     "name": "stdout",
     "output_type": "stream",
     "text": [
      "3.5.2\n"
     ]
    }
   ],
   "source": [
    "# Import NLP libraries\n",
    "import re\n",
    "import nltk\n",
    "from nltk.corpus import stopwords\n",
    "from nltk.stem import WordNetLemmatizer\n",
    "from nltk.tokenize import word_tokenize\n",
    "from sklearn.feature_extraction.text import CountVectorizer, TfidfVectorizer\n",
    "\n",
    "from pprint import pprint\n",
    "import string\n",
    "from rake_nltk import Rake\n",
    "\n",
    "import spacy\n",
    "from spacy import displacy\n",
    "from spacy.util import minibatch, compounding\n",
    "spacy.prefer_gpu()\n",
    "print(spacy.__version__)\n",
    "\n",
    "import gensim\n",
    "from gensim import corpora, models\n",
    "from gensim.utils import simple_preprocess\n",
    "from gensim.models.ldamulticore import LdaMulticore\n",
    "from gensim.models import CoherenceModel\n",
    "\n",
    "import pyLDAvis\n",
    "import pyLDAvis.gensim as gensimvis\n",
    "#import pyLDAvis.gensim_models as gensimvis\n",
    "pyLDAvis.enable_notebook()"
   ]
  },
  {
   "cell_type": "code",
   "execution_count": 3,
   "metadata": {},
   "outputs": [],
   "source": [
    "import warnings\n",
    "warnings.filterwarnings('ignore')\n",
    "pd.set_option('display.max_rows', 100)\n",
    "pd.set_option('display.max_columns', None)\n",
    "pd.set_option('display.max_colwidth', 500)"
   ]
  },
  {
   "cell_type": "code",
   "execution_count": 4,
   "metadata": {},
   "outputs": [
    {
     "name": "stdout",
     "output_type": "stream",
     "text": [
      "Available CPUs: 12\n"
     ]
    }
   ],
   "source": [
    "import multiprocessing as mp\n",
    "\n",
    "num_processors = mp.cpu_count()\n",
    "print(f'Available CPUs: {num_processors}')"
   ]
  },
  {
   "attachments": {},
   "cell_type": "markdown",
   "metadata": {},
   "source": [
    "### Read Cleaned New Articles"
   ]
  },
  {
   "cell_type": "code",
   "execution_count": 5,
   "metadata": {},
   "outputs": [
    {
     "name": "stdout",
     "output_type": "stream",
     "text": [
      "CPU times: user 1min 46s, sys: 52.8 s, total: 2min 39s\n",
      "Wall time: 5min 38s\n"
     ]
    },
    {
     "data": {
      "text/plain": [
       "(154283, 10)"
      ]
     },
     "execution_count": 5,
     "metadata": {},
     "output_type": "execute_result"
    }
   ],
   "source": [
    "%%time\n",
    "\n",
    "# GCP version\n",
    "path = \"gs://nlp-final-project-data/data/\"\n",
    "df_news = pd.read_parquet(path + 'news_filtered.parquet', engine='pyarrow')\n",
    "df_news.shape"
   ]
  },
  {
   "cell_type": "code",
   "execution_count": 6,
   "metadata": {},
   "outputs": [
    {
     "name": "stdout",
     "output_type": "stream",
     "text": [
      "<class 'pandas.core.frame.DataFrame'>\n",
      "RangeIndex: 154283 entries, 0 to 154282\n",
      "Data columns (total 10 columns):\n",
      " #   Column            Non-Null Count   Dtype \n",
      "---  ------            --------------   ----- \n",
      " 0   id                154283 non-null  int64 \n",
      " 1   date              154283 non-null  object\n",
      " 2   cleaned title     154283 non-null  object\n",
      " 3   cleaned text      154283 non-null  object\n",
      " 4   title_tokens      154283 non-null  object\n",
      " 5   title_lemmatized  154283 non-null  object\n",
      " 6   text_tokens       154283 non-null  object\n",
      " 7   text_lemmatized   154283 non-null  object\n",
      " 8   title_keywords    154283 non-null  object\n",
      " 9   text_keywords     154283 non-null  object\n",
      "dtypes: int64(1), object(9)\n",
      "memory usage: 11.8+ MB\n"
     ]
    }
   ],
   "source": [
    "df_news.info()"
   ]
  },
  {
   "cell_type": "code",
   "execution_count": 7,
   "metadata": {},
   "outputs": [
    {
     "data": {
      "text/html": [
       "<div>\n",
       "<style scoped>\n",
       "    .dataframe tbody tr th:only-of-type {\n",
       "        vertical-align: middle;\n",
       "    }\n",
       "\n",
       "    .dataframe tbody tr th {\n",
       "        vertical-align: top;\n",
       "    }\n",
       "\n",
       "    .dataframe thead th {\n",
       "        text-align: right;\n",
       "    }\n",
       "</style>\n",
       "<table border=\"1\" class=\"dataframe\">\n",
       "  <thead>\n",
       "    <tr style=\"text-align: right;\">\n",
       "      <th></th>\n",
       "      <th>id</th>\n",
       "      <th>date</th>\n",
       "      <th>cleaned title</th>\n",
       "      <th>cleaned text</th>\n",
       "      <th>title_tokens</th>\n",
       "      <th>title_lemmatized</th>\n",
       "      <th>text_tokens</th>\n",
       "      <th>text_lemmatized</th>\n",
       "      <th>title_keywords</th>\n",
       "      <th>text_keywords</th>\n",
       "    </tr>\n",
       "  </thead>\n",
       "  <tbody>\n",
       "    <tr>\n",
       "      <th>0</th>\n",
       "      <td>1</td>\n",
       "      <td>2020-02-27</td>\n",
       "      <td>Children With Autism Saw Their Learning and Social Skills Boosted After Playing With This AI Robot</td>\n",
       "      <td>Children With Autism Saw Their Learning and Social Skills Boosted After Playing With This AI Robot admin  Latest posts by admin see all  Mansplaining in conferences: How can we get him to forestall  February 27, 2020 Coronavirus Could Explode in the U.S. Overnight Like it Did in Italy  February 27, 2020 Levi Strauss marks the next phase in corporate paid leave policies  February 27, 2020 Scientists who designed an artificially clever robotic that helped youngsters with autism spice up their ...</td>\n",
       "      <td>[children, autism, saw, learning, social, skills, boosted, playing, ai, robot, children, autism, saw, learning, social, skills, boosted, playing, ai, robot, children, autism, saw, learning, social, skills, boosted, playing, ai_robot]</td>\n",
       "      <td>[child, autism, see, learn, social, skill, boost, play, robot, child, autism, see, learn, social, skill, boost, play, robot, child, autism, see, learn, social, skill, boost, play, ai_robot]</td>\n",
       "      <td>[children, autism, saw, learning, social, skills, boosted, playing, ai, robot, admin, latest, posts, admin, see, mansplaining, conferences, get, forestall, february, coronavirus, could, explode, overnight, like, italy, february, levi, strauss, marks, next, phase, corporate, paid, leave, policies, february, scientists, designed, artificially, clever, robotic, helped, youngsters, autism, spice, studying, social, talents, hope, era, may, future, help, others, developmental, dysfunction, learn, ...</td>\n",
       "      <td>[child, autism, see, learn, social, skill, boost, play, robot, late, post, admin, see, mansplaining, conference, get, explode, overnight, mark, next, phase, corporate, pay, leave, policy, scientist, design, artificially, clever, robotic, help, youngster, autism, spice, study, social, talent, era, future, help, other, developmental, dysfunction, learn, notice, youngster, gentle, average, autism, take, domestic, s, refer, socially, assistive, robotic, name, kiwi, month, accord, commentary, way...</td>\n",
       "      <td>[social, skill, see, play, learn, child, boost, autism, robot, ai_robot]</td>\n",
       "      <td>[robotic, youngster, kid, child, kiwi, market, autism, learn, crew, talent]</td>\n",
       "    </tr>\n",
       "    <tr>\n",
       "      <th>1</th>\n",
       "      <td>2</td>\n",
       "      <td>2021-03-26</td>\n",
       "      <td>Forget ML, AI and Industry 4.0 – obsolescence should be your focus</td>\n",
       "      <td>Forget ML, AI and Industry 4.0  obsolescence should be your focus The world entered a new era of accelerated transformation in the last eighteen months that will continue to evolve and press forward for years to come. Most businesses are playing catchup trying to make sense of a new timeline where the ten years that had been set aside for careful planning and implementation of what was coming up next no longer exists. The next is happening now and, regardless of your industry or seniority, t...</td>\n",
       "      <td>[forget, ml, ai, industry, obsolescence, focus, forget, ml, ai, industry, obsolescence, focus, forget, ml, ai, industry, obsolescence, focus]</td>\n",
       "      <td>[forget, ml, ai, industry, obsolescence, focus, forget, ml, ai, industry, obsolescence, focus, forget, ml, ai, industry, obsolescence, focus]</td>\n",
       "      <td>[forget, ml, ai, industry, obsolescence, focus, world, entered, new, era, accelerated, transformation, last, eighteen, months, continue, evolve, press, forward, years, come, businesses, playing, catchup, trying, make, sense, new, timeline, ten, years, set, aside, careful, planning, implementation, coming, next, longer, exists, next, happening, regardless, industry, seniority, status, quo, shifted, better, face, back, invited, attend, pompous, meeting, london, brazilian, embassy, along, selec...</td>\n",
       "      <td>[forget, ai, industry, obsolescence, focus, world, enter, new, era, accelerate, transformation, last, month, continue, evolve, press, forward, year, come, business, play, catchup, try, make, sense, new, timeline, year, set, aside, careful, planning, implementation, come, next, long, exist, next, happen, regardless, industry, seniority, status, quo, shift, well, face, back, invite, attend, pompous, meeting, brazilian, embassy, select, lead, name, oil, energy, industry, get, update, go, happen...</td>\n",
       "      <td>[obsolescence, ml, industry, forget, focus, ai]</td>\n",
       "      <td>[electronic, come, card, industry, repair, new, system, require, test, business]</td>\n",
       "    </tr>\n",
       "  </tbody>\n",
       "</table>\n",
       "</div>"
      ],
      "text/plain": [
       "   id        date   \n",
       "0   1  2020-02-27  \\\n",
       "1   2  2021-03-26   \n",
       "\n",
       "                                                                                        cleaned title   \n",
       "0  Children With Autism Saw Their Learning and Social Skills Boosted After Playing With This AI Robot  \\\n",
       "1                                  Forget ML, AI and Industry 4.0 – obsolescence should be your focus   \n",
       "\n",
       "                                                                                                                                                                                                                                                                                                                                                                                                                                                                                                          cleaned text   \n",
       "0  Children With Autism Saw Their Learning and Social Skills Boosted After Playing With This AI Robot admin  Latest posts by admin see all  Mansplaining in conferences: How can we get him to forestall  February 27, 2020 Coronavirus Could Explode in the U.S. Overnight Like it Did in Italy  February 27, 2020 Levi Strauss marks the next phase in corporate paid leave policies  February 27, 2020 Scientists who designed an artificially clever robotic that helped youngsters with autism spice up their ...  \\\n",
       "1  Forget ML, AI and Industry 4.0  obsolescence should be your focus The world entered a new era of accelerated transformation in the last eighteen months that will continue to evolve and press forward for years to come. Most businesses are playing catchup trying to make sense of a new timeline where the ten years that had been set aside for careful planning and implementation of what was coming up next no longer exists. The next is happening now and, regardless of your industry or seniority, t...   \n",
       "\n",
       "                                                                                                                                                                                                                                title_tokens   \n",
       "0  [children, autism, saw, learning, social, skills, boosted, playing, ai, robot, children, autism, saw, learning, social, skills, boosted, playing, ai, robot, children, autism, saw, learning, social, skills, boosted, playing, ai_robot]  \\\n",
       "1                                                                                              [forget, ml, ai, industry, obsolescence, focus, forget, ml, ai, industry, obsolescence, focus, forget, ml, ai, industry, obsolescence, focus]   \n",
       "\n",
       "                                                                                                                                                                                title_lemmatized   \n",
       "0  [child, autism, see, learn, social, skill, boost, play, robot, child, autism, see, learn, social, skill, boost, play, robot, child, autism, see, learn, social, skill, boost, play, ai_robot]  \\\n",
       "1                                                  [forget, ml, ai, industry, obsolescence, focus, forget, ml, ai, industry, obsolescence, focus, forget, ml, ai, industry, obsolescence, focus]   \n",
       "\n",
       "                                                                                                                                                                                                                                                                                                                                                                                                                                                                                                           text_tokens   \n",
       "0  [children, autism, saw, learning, social, skills, boosted, playing, ai, robot, admin, latest, posts, admin, see, mansplaining, conferences, get, forestall, february, coronavirus, could, explode, overnight, like, italy, february, levi, strauss, marks, next, phase, corporate, paid, leave, policies, february, scientists, designed, artificially, clever, robotic, helped, youngsters, autism, spice, studying, social, talents, hope, era, may, future, help, others, developmental, dysfunction, learn, ...  \\\n",
       "1  [forget, ml, ai, industry, obsolescence, focus, world, entered, new, era, accelerated, transformation, last, eighteen, months, continue, evolve, press, forward, years, come, businesses, playing, catchup, trying, make, sense, new, timeline, ten, years, set, aside, careful, planning, implementation, coming, next, longer, exists, next, happening, regardless, industry, seniority, status, quo, shifted, better, face, back, invited, attend, pompous, meeting, london, brazilian, embassy, along, selec...   \n",
       "\n",
       "                                                                                                                                                                                                                                                                                                                                                                                                                                                                                                       text_lemmatized   \n",
       "0  [child, autism, see, learn, social, skill, boost, play, robot, late, post, admin, see, mansplaining, conference, get, explode, overnight, mark, next, phase, corporate, pay, leave, policy, scientist, design, artificially, clever, robotic, help, youngster, autism, spice, study, social, talent, era, future, help, other, developmental, dysfunction, learn, notice, youngster, gentle, average, autism, take, domestic, s, refer, socially, assistive, robotic, name, kiwi, month, accord, commentary, way...  \\\n",
       "1  [forget, ai, industry, obsolescence, focus, world, enter, new, era, accelerate, transformation, last, month, continue, evolve, press, forward, year, come, business, play, catchup, try, make, sense, new, timeline, year, set, aside, careful, planning, implementation, come, next, long, exist, next, happen, regardless, industry, seniority, status, quo, shift, well, face, back, invite, attend, pompous, meeting, brazilian, embassy, select, lead, name, oil, energy, industry, get, update, go, happen...   \n",
       "\n",
       "                                                             title_keywords   \n",
       "0  [social, skill, see, play, learn, child, boost, autism, robot, ai_robot]  \\\n",
       "1                           [obsolescence, ml, industry, forget, focus, ai]   \n",
       "\n",
       "                                                                      text_keywords  \n",
       "0       [robotic, youngster, kid, child, kiwi, market, autism, learn, crew, talent]  \n",
       "1  [electronic, come, card, industry, repair, new, system, require, test, business]  "
      ]
     },
     "execution_count": 7,
     "metadata": {},
     "output_type": "execute_result"
    }
   ],
   "source": [
    "df_news.head(2)"
   ]
  },
  {
   "cell_type": "code",
   "execution_count": 8,
   "metadata": {},
   "outputs": [
    {
     "data": {
      "text/plain": [
       "(1543, 10)"
      ]
     },
     "execution_count": 8,
     "metadata": {},
     "output_type": "execute_result"
    }
   ],
   "source": [
    "### SAMPLE DATA\n",
    "# df_news = df_news.sample(frac=0.01, random_state=42)\n",
    "df_news.shape"
   ]
  },
  {
   "attachments": {},
   "cell_type": "markdown",
   "metadata": {},
   "source": [
    "## 1. Topic Modeling - LDA"
   ]
  },
  {
   "cell_type": "code",
   "execution_count": 9,
   "metadata": {},
   "outputs": [
    {
     "name": "stdout",
     "output_type": "stream",
     "text": [
      "CPU times: user 2.38 s, sys: 782 ms, total: 3.16 s\n",
      "Wall time: 3.75 s\n"
     ]
    }
   ],
   "source": [
    "%%time\n",
    "\n",
    "# Create term dictionary\n",
    "text_lemmatized = df_news['text_lemmatized'].tolist()\n",
    "text_dict = corpora.Dictionary(text_lemmatized)\n",
    "\n",
    "# Convert list of documents (corpus) into Document Term Matrix using dictionary prepared above\n",
    "text_doc_term_matrix = [text_dict.doc2bow(doc) for doc in text_lemmatized]"
   ]
  },
  {
   "attachments": {},
   "cell_type": "markdown",
   "metadata": {},
   "source": [
    "### Initial Model - 10 Topics"
   ]
  },
  {
   "cell_type": "code",
   "execution_count": 10,
   "metadata": {},
   "outputs": [
    {
     "name": "stdout",
     "output_type": "stream",
     "text": [
      "CPU times: user 1min 48s, sys: 33.8 s, total: 2min 22s\n",
      "Wall time: 1min 23s\n"
     ]
    }
   ],
   "source": [
    "%%time\n",
    "\n",
    "# Build LDA model for news text\n",
    "lda_model_text = LdaMulticore(corpus=text_doc_term_matrix,\n",
    "                              id2word=text_dict,\n",
    "                              num_topics=10,\n",
    "                              random_state=100,\n",
    "                              passes=10,\n",
    "                              alpha='asymmetric',\n",
    "                              eta='auto',\n",
    "                              workers=num_processors-1)"
   ]
  },
  {
   "cell_type": "code",
   "execution_count": 11,
   "metadata": {},
   "outputs": [
    {
     "name": "stdout",
     "output_type": "stream",
     "text": [
      "[(0,\n",
      "  '0.010*\"ai\" + 0.009*\"trade\" + 0.009*\"use\" + 0.007*\"dollar\" + 0.005*\"machine\" '\n",
      "  '+ 0.005*\"say\" + 0.004*\"model\" + 0.004*\"datum\" + 0.004*\"learn\" + '\n",
      "  '0.004*\"company\"'),\n",
      " (1,\n",
      "  '0.008*\"market\" + 0.007*\"datum\" + 0.006*\"company\" + 0.006*\"stock\" + '\n",
      "  '0.006*\"ai\" + 0.005*\"share\" + 0.004*\"intelligence\" + 0.004*\"say\" + '\n",
      "  '0.004*\"technology\" + 0.003*\"new\"'),\n",
      " (2,\n",
      "  '0.070*\"market\" + 0.020*\"report\" + 0.016*\"analysis\" + 0.014*\"global\" + '\n",
      "  '0.013*\"industry\" + 0.013*\"ai\" + 0.012*\"growth\" + 0.011*\"forecast\" + '\n",
      "  '0.011*\"intelligence\" + 0.008*\"research\"'),\n",
      " (3,\n",
      "  '0.011*\"ai\" + 0.010*\"use\" + 0.009*\"say\" + 0.008*\"technology\" + '\n",
      "  '0.005*\"company\" + 0.005*\"new\" + 0.004*\"datum\" + 0.004*\"also\" + 0.004*\"make\" '\n",
      "  '+ 0.004*\"work\"'),\n",
      " (4,\n",
      "  '0.008*\"ai\" + 0.006*\"company\" + 0.005*\"say\" + 0.004*\"quote\" + '\n",
      "  '0.004*\"chatgpt\" + 0.004*\"use\" + 0.004*\"new\" + 0.003*\"user\" + '\n",
      "  '0.003*\"technology\" + 0.003*\"also\"'),\n",
      " (5,\n",
      "  '0.009*\"use\" + 0.008*\"say\" + 0.008*\"ai\" + 0.005*\"technology\" + '\n",
      "  '0.005*\"system\" + 0.004*\"human\" + 0.004*\"communication\" + 0.004*\"new\" + '\n",
      "  '0.004*\"make\" + 0.004*\"digi\"'),\n",
      " (6,\n",
      "  '0.022*\"ai\" + 0.009*\"technology\" + 0.009*\"company\" + 0.007*\"solution\" + '\n",
      "  '0.006*\"datum\" + 0.006*\"customer\" + 0.005*\"use\" + 0.005*\"platform\" + '\n",
      "  '0.005*\"business\" + 0.005*\"new\"'),\n",
      " (7,\n",
      "  '0.019*\"ai\" + 0.007*\"use\" + 0.006*\"company\" + 0.006*\"new\" + '\n",
      "  '0.005*\"technology\" + 0.005*\"datum\" + 0.005*\"say\" + 0.005*\"platform\" + '\n",
      "  '0.004*\"customer\" + 0.004*\"business\"'),\n",
      " (8,\n",
      "  '0.024*\"ai\" + 0.011*\"use\" + 0.009*\"say\" + 0.007*\"technology\" + 0.007*\"new\" + '\n",
      "  '0.005*\"work\" + 0.005*\"make\" + 0.005*\"chatgpt\" + 0.005*\"company\" + '\n",
      "  '0.004*\"datum\"'),\n",
      " (9,\n",
      "  '0.006*\"model\" + 0.006*\"datum\" + 0.005*\"use\" + 0.004*\"machine\" + '\n",
      "  '0.004*\"learn\" + 0.004*\"new\" + 0.004*\"design\" + 0.003*\"ai\" + '\n",
      "  '0.003*\"starfille\" + 0.003*\"also\"')]\n"
     ]
    }
   ],
   "source": [
    "# print the topics\n",
    "pprint(lda_model_text.print_topics())"
   ]
  },
  {
   "cell_type": "code",
   "execution_count": 12,
   "metadata": {},
   "outputs": [
    {
     "name": "stdout",
     "output_type": "stream",
     "text": [
      "\n",
      "Coherence Score:  0.3347979245710021\n"
     ]
    }
   ],
   "source": [
    "# Compute Coherence Score\n",
    "coherence_model_lda_text = CoherenceModel(model=lda_model_text, texts=text_lemmatized, dictionary=text_dict, coherence='c_v')\n",
    "\n",
    "coherence_lda_text = coherence_model_lda_text.get_coherence()\n",
    "print('\\nCoherence Score: ', coherence_lda_text)"
   ]
  },
  {
   "attachments": {},
   "cell_type": "markdown",
   "metadata": {},
   "source": [
    "### Hyperparameter Tuning\n",
    "\n",
    "- Number of Topics (K)\n",
    "- Dirichlet hyperparameter alpha: Asymmetric\n",
    "- Dirichlet hyperparameter beta: Auto"
   ]
  },
  {
   "cell_type": "code",
   "execution_count": 13,
   "metadata": {},
   "outputs": [],
   "source": [
    "# supporting function\n",
    "def compute_coherence_values(corpus, dictionary, texts, k):\n",
    "\n",
    "    lda_model = LdaMulticore(corpus=corpus,\n",
    "                             id2word=dictionary,\n",
    "                             num_topics=k,\n",
    "                             random_state=100,\n",
    "                             passes=10,\n",
    "                             alpha='asymmetric',\n",
    "                             eta='auto',\n",
    "                             workers=num_processors-1)\n",
    "\n",
    "    coherence_model_lda = CoherenceModel(model=lda_model, texts=texts, dictionary=dictionary, coherence='c_v')\n",
    "\n",
    "    return coherence_model_lda.get_coherence()"
   ]
  },
  {
   "cell_type": "code",
   "execution_count": 14,
   "metadata": {},
   "outputs": [
    {
     "name": "stdout",
     "output_type": "stream",
     "text": [
      "LDA will execute 19 iterations\n",
      "Completed model based on 2 LDA topics. Finished 5.3% of LDA runs\n",
      "Completed model based on 3 LDA topics. Finished 10.5% of LDA runs\n",
      "Completed model based on 4 LDA topics. Finished 15.8% of LDA runs\n",
      "Completed model based on 5 LDA topics. Finished 21.1% of LDA runs\n",
      "Completed model based on 6 LDA topics. Finished 26.3% of LDA runs\n",
      "Completed model based on 7 LDA topics. Finished 31.6% of LDA runs\n",
      "Completed model based on 8 LDA topics. Finished 36.8% of LDA runs\n",
      "Completed model based on 9 LDA topics. Finished 42.1% of LDA runs\n",
      "Completed model based on 10 LDA topics. Finished 47.4% of LDA runs\n",
      "Completed model based on 11 LDA topics. Finished 52.6% of LDA runs\n",
      "Completed model based on 12 LDA topics. Finished 57.9% of LDA runs\n",
      "Completed model based on 13 LDA topics. Finished 63.2% of LDA runs\n",
      "Completed model based on 14 LDA topics. Finished 68.4% of LDA runs\n",
      "Completed model based on 15 LDA topics. Finished 73.7% of LDA runs\n",
      "Completed model based on 16 LDA topics. Finished 78.9% of LDA runs\n",
      "Completed model based on 17 LDA topics. Finished 84.2% of LDA runs\n",
      "Completed model based on 18 LDA topics. Finished 89.5% of LDA runs\n",
      "Completed model based on 19 LDA topics. Finished 94.7% of LDA runs\n",
      "Completed model based on 20 LDA topics. Finished 100.0% of LDA runs\n",
      "CPU times: user 40min 7s, sys: 13min 12s, total: 53min 20s\n",
      "Wall time: 36min 49s\n"
     ]
    }
   ],
   "source": [
    "%%time\n",
    "\n",
    "grid = {}\n",
    "grid['Validation_Set'] = {}\n",
    "\n",
    "# Topics range\n",
    "min_topics = 2\n",
    "max_topics = 20\n",
    "step_size = 1\n",
    "topics_range = range(min_topics, max_topics+1, step_size)\n",
    "\n",
    "# Validation sets\n",
    "num_of_docs = len(text_doc_term_matrix)\n",
    "corpus_sets = [text_doc_term_matrix]\n",
    "corpus_title = ['100% Corpus']\n",
    "model_results = {'Topics': [], 'Coherence': []}\n",
    "\n",
    "itr = 0\n",
    "itr_total = len(topics_range)*len(corpus_title)\n",
    "print(f'LDA will execute {itr_total} iterations')\n",
    "\n",
    "# iterate through validation corpuses\n",
    "for i in range(len(corpus_sets)):\n",
    "    \n",
    "    # iterate through number of topics\n",
    "    for k in topics_range:\n",
    "\n",
    "        cv = compute_coherence_values(corpus=corpus_sets[i], dictionary=text_dict, texts=text_lemmatized, k=k)\n",
    "        \n",
    "        model_results['Topics'].append(k)\n",
    "        model_results['Coherence'].append(cv)\n",
    "        \n",
    "        itr += 1\n",
    "\n",
    "        pct_completed = round((itr / itr_total * 100), 1)\n",
    "        print(f'Completed model based on {k} LDA topics. Finished {pct_completed}% of LDA runs')\n"
   ]
  },
  {
   "cell_type": "code",
   "execution_count": 15,
   "metadata": {},
   "outputs": [],
   "source": [
    "## change directory when running on GCP\n",
    "\n",
    "text_lda_tuning = pd.DataFrame(model_results)\n",
    "path_result = 'gs://nlp-final-project-data/result/'\n",
    "#path_result = 'gs://nlp-final-project-data/sample/result/'\n",
    "text_lda_tuning.to_csv(path_result + 'text_lda_tuning_results.csv', index=False)"
   ]
  },
  {
   "cell_type": "code",
   "execution_count": 16,
   "metadata": {},
   "outputs": [
    {
     "data": {
      "text/html": [
       "<div>\n",
       "<style scoped>\n",
       "    .dataframe tbody tr th:only-of-type {\n",
       "        vertical-align: middle;\n",
       "    }\n",
       "\n",
       "    .dataframe tbody tr th {\n",
       "        vertical-align: top;\n",
       "    }\n",
       "\n",
       "    .dataframe thead th {\n",
       "        text-align: right;\n",
       "    }\n",
       "</style>\n",
       "<table border=\"1\" class=\"dataframe\">\n",
       "  <thead>\n",
       "    <tr style=\"text-align: right;\">\n",
       "      <th></th>\n",
       "      <th>Topics</th>\n",
       "      <th>Coherence</th>\n",
       "    </tr>\n",
       "  </thead>\n",
       "  <tbody>\n",
       "    <tr>\n",
       "      <th>1</th>\n",
       "      <td>3</td>\n",
       "      <td>0.411176</td>\n",
       "    </tr>\n",
       "    <tr>\n",
       "      <th>0</th>\n",
       "      <td>2</td>\n",
       "      <td>0.394838</td>\n",
       "    </tr>\n",
       "    <tr>\n",
       "      <th>2</th>\n",
       "      <td>4</td>\n",
       "      <td>0.373657</td>\n",
       "    </tr>\n",
       "    <tr>\n",
       "      <th>3</th>\n",
       "      <td>5</td>\n",
       "      <td>0.368144</td>\n",
       "    </tr>\n",
       "    <tr>\n",
       "      <th>4</th>\n",
       "      <td>6</td>\n",
       "      <td>0.362681</td>\n",
       "    </tr>\n",
       "    <tr>\n",
       "      <th>16</th>\n",
       "      <td>18</td>\n",
       "      <td>0.360788</td>\n",
       "    </tr>\n",
       "    <tr>\n",
       "      <th>6</th>\n",
       "      <td>8</td>\n",
       "      <td>0.358680</td>\n",
       "    </tr>\n",
       "    <tr>\n",
       "      <th>9</th>\n",
       "      <td>11</td>\n",
       "      <td>0.358639</td>\n",
       "    </tr>\n",
       "    <tr>\n",
       "      <th>5</th>\n",
       "      <td>7</td>\n",
       "      <td>0.357939</td>\n",
       "    </tr>\n",
       "    <tr>\n",
       "      <th>7</th>\n",
       "      <td>9</td>\n",
       "      <td>0.352790</td>\n",
       "    </tr>\n",
       "  </tbody>\n",
       "</table>\n",
       "</div>"
      ],
      "text/plain": [
       "    Topics  Coherence\n",
       "1        3   0.411176\n",
       "0        2   0.394838\n",
       "2        4   0.373657\n",
       "3        5   0.368144\n",
       "4        6   0.362681\n",
       "16      18   0.360788\n",
       "6        8   0.358680\n",
       "9       11   0.358639\n",
       "5        7   0.357939\n",
       "7        9   0.352790"
      ]
     },
     "execution_count": 16,
     "metadata": {},
     "output_type": "execute_result"
    }
   ],
   "source": [
    "# Best LDA parameters\n",
    "text_lda_tuning.sort_values(by=['Coherence'], ascending=False).head(10)"
   ]
  },
  {
   "cell_type": "code",
   "execution_count": 17,
   "metadata": {},
   "outputs": [
    {
     "data": {
      "text/html": [
       "<div>\n",
       "<style scoped>\n",
       "    .dataframe tbody tr th:only-of-type {\n",
       "        vertical-align: middle;\n",
       "    }\n",
       "\n",
       "    .dataframe tbody tr th {\n",
       "        vertical-align: top;\n",
       "    }\n",
       "\n",
       "    .dataframe thead th {\n",
       "        text-align: right;\n",
       "    }\n",
       "</style>\n",
       "<table border=\"1\" class=\"dataframe\">\n",
       "  <thead>\n",
       "    <tr style=\"text-align: right;\">\n",
       "      <th></th>\n",
       "      <th>Topics</th>\n",
       "      <th>Coherence</th>\n",
       "    </tr>\n",
       "  </thead>\n",
       "  <tbody>\n",
       "    <tr>\n",
       "      <th>8</th>\n",
       "      <td>10</td>\n",
       "      <td>0.334798</td>\n",
       "    </tr>\n",
       "    <tr>\n",
       "      <th>17</th>\n",
       "      <td>19</td>\n",
       "      <td>0.340437</td>\n",
       "    </tr>\n",
       "    <tr>\n",
       "      <th>11</th>\n",
       "      <td>13</td>\n",
       "      <td>0.340544</td>\n",
       "    </tr>\n",
       "    <tr>\n",
       "      <th>12</th>\n",
       "      <td>14</td>\n",
       "      <td>0.341734</td>\n",
       "    </tr>\n",
       "    <tr>\n",
       "      <th>18</th>\n",
       "      <td>20</td>\n",
       "      <td>0.342207</td>\n",
       "    </tr>\n",
       "    <tr>\n",
       "      <th>10</th>\n",
       "      <td>12</td>\n",
       "      <td>0.348095</td>\n",
       "    </tr>\n",
       "    <tr>\n",
       "      <th>15</th>\n",
       "      <td>17</td>\n",
       "      <td>0.348188</td>\n",
       "    </tr>\n",
       "    <tr>\n",
       "      <th>13</th>\n",
       "      <td>15</td>\n",
       "      <td>0.349462</td>\n",
       "    </tr>\n",
       "    <tr>\n",
       "      <th>14</th>\n",
       "      <td>16</td>\n",
       "      <td>0.349527</td>\n",
       "    </tr>\n",
       "    <tr>\n",
       "      <th>7</th>\n",
       "      <td>9</td>\n",
       "      <td>0.352790</td>\n",
       "    </tr>\n",
       "  </tbody>\n",
       "</table>\n",
       "</div>"
      ],
      "text/plain": [
       "    Topics  Coherence\n",
       "8       10   0.334798\n",
       "17      19   0.340437\n",
       "11      13   0.340544\n",
       "12      14   0.341734\n",
       "18      20   0.342207\n",
       "10      12   0.348095\n",
       "15      17   0.348188\n",
       "13      15   0.349462\n",
       "14      16   0.349527\n",
       "7        9   0.352790"
      ]
     },
     "execution_count": 17,
     "metadata": {},
     "output_type": "execute_result"
    }
   ],
   "source": [
    "# Worst LDA parameters\n",
    "text_lda_tuning.sort_values(by=['Coherence']).head(10)"
   ]
  },
  {
   "cell_type": "code",
   "execution_count": 18,
   "metadata": {},
   "outputs": [
    {
     "data": {
      "image/png": "[encoded data removed]",
      "text/plain": [
       "<Figure size 1200x800 with 1 Axes>"
      ]
     },
     "metadata": {},
     "output_type": "display_data"
    }
   ],
   "source": [
    "# plot the coherence scores\n",
    "plt.figure(figsize=(12, 8))\n",
    "plt.plot(text_lda_tuning['Topics'], text_lda_tuning['Coherence'])\n",
    "plt.xlabel('Number of Topics')\n",
    "plt.ylabel('Coherence Score')\n",
    "plt.title('Coherence Scores by Number of Topics (News Text)')\n",
    "plt.legend(('coherence_values'), loc='best')\n",
    "plt.show()"
   ]
  },
  {
   "attachments": {},
   "cell_type": "markdown",
   "metadata": {},
   "source": [
    "### Runnning Best Model"
   ]
  },
  {
   "cell_type": "code",
   "execution_count": 19,
   "metadata": {},
   "outputs": [
    {
     "name": "stdout",
     "output_type": "stream",
     "text": [
      "Best number of topics for news text: 3\n"
     ]
    }
   ],
   "source": [
    "text_lda_tuning_best = text_lda_tuning.sort_values(by=['Coherence'], ascending=False).head(1)\n",
    "\n",
    "text_tuned_topics = int(text_lda_tuning_best['Topics'].to_string(index=False))\n",
    "\n",
    "print(f'Best number of topics for news text: {text_tuned_topics}')"
   ]
  },
  {
   "cell_type": "code",
   "execution_count": 21,
   "metadata": {},
   "outputs": [
    {
     "name": "stdout",
     "output_type": "stream",
     "text": [
      "\n",
      "Coherence Score:  0.41117594814759567\n",
      "CPU times: user 50.3 s, sys: 5.81 s, total: 56.1 s\n",
      "Wall time: 1min 40s\n"
     ]
    }
   ],
   "source": [
    "%%time\n",
    "\n",
    "# Build LDA model for news text\n",
    "lda_model_text_tuned = LdaMulticore(corpus=text_doc_term_matrix,\n",
    "                                    id2word=text_dict,\n",
    "                                    num_topics=text_tuned_topics,\n",
    "                                    random_state=100,\n",
    "                                    passes=10,\n",
    "                                    alpha='asymmetric',\n",
    "                                    eta='auto',\n",
    "                                    workers=num_processors-1)\n",
    "\n",
    "coherence_lda_text_tuned = CoherenceModel(model=lda_model_text_tuned, texts=text_lemmatized, dictionary=text_dict, coherence='c_v').get_coherence()\n",
    "\n",
    "print('\\nCoherence Score: ', coherence_lda_text_tuned)"
   ]
  },
  {
   "cell_type": "code",
   "execution_count": 22,
   "metadata": {},
   "outputs": [
    {
     "name": "stdout",
     "output_type": "stream",
     "text": [
      "CPU times: user 2 s, sys: 530 ms, total: 2.53 s\n",
      "Wall time: 6.51 s\n"
     ]
    },
    {
     "data": {
      "text/html": [
       "\n",
       "<link rel=\"stylesheet\" type=\"text/css\" href=\"https://cdn.jsdelivr.net/gh/bmabey/pyLDAvis@3.4.0/pyLDAvis/js/ldavis.v1.0.0.css\">\n",
       "\n",
       "\n",
       "<div id=\"ldavis_el3298875701625125787785112\" style=\"background-color:white;\"></div>\n",
       "<script type=\"text/javascript\">\n",
       "\n",
       "var ldavis_el3298875701625125787785112_data = {\"mdsDat\": {\"x\": [0.10374951970980523, 0.019933504880367294, -0.12368302459017252], \"y\": [0.005982845927235206, -0.07734342570822177, 0.07136057978098656], \"topics\": [1, 2, 3], \"cluster\": [1, 1, 1], \"Freq\": [53.8837159552777, 24.807881759545147, 21.30840228517715]}, \"tinfo\": {\"Term\": [\"market\", \"report\", \"analysis\", \"growth\", \"global\", \"forecast\", \"industry\", \"intelligence\", \"trend\", \"research\", \"player\", \"artificial\", \"key\", \"segment\", \"artificial_intelligence\", \"ai\", \"business\", \"size\", \"datum\", \"study\", \"customer\", \"region\", \"say\", \"revenue\", \"share\", \"opportunity\", \"application\", \"chatgpt\", \"solution\", \"market_size\", \"starfille\", \"clearview\", \"avatar\", \"lunit\", \"misinformation\", \"moral\", \"replicant\", \"stable_diffusion\", \"overjet\", \"cheat\", \"assignment\", \"controversy\", \"glaucoma\", \"gleamer\", \"edgecortix\", \"anthropic\", \"exam\", \"boneview\", \"ultrasight\", \"replit\", \"rsna\", \"attorney\", \"misuse\", \"turnitin\", \"cadence\", \"npc\", \"argument\", \"nav\", \"autism\", \"langchain\", \"chatgpt\", \"wrong\", \"educator\", \"letter\", \"essay\", \"person\", \"bug\", \"discrimination\", \"abuse\", \"preview\", \"bias\", \"google\", \"teacher\", \"write\", \"bing\", \"chatbot\", \"child\", \"ban\", \"sometimes\", \"openai\", \"writing\", \"rewrite\", \"friend\", \"gpt\", \"say\", \"doctor\", \"question\", \"text\", \"image\", \"think\", \"patient\", \"human\", \"student\", \"tell\", \"ask\", \"use\", \"school\", \"even\", \"people\", \"s\", \"try\", \"train\", \"work\", \"example\", \"model\", \"tool\", \"ai\", \"way\", \"make\", \"see\", \"user\", \"get\", \"new\", \"system\", \"create\", \"technology\", \"take\", \"first\", \"time\", \"also\", \"company\", \"need\", \"well\", \"help\", \"datum\", \"learn\", \"world\", \"year\", \"include\", \"service\", \"provide\", \"shipium\", \"hailo\", \"intellishift\", \"onetrust\", \"govee\", \"laivly\", \"dotdata\", \"tilda\", \"tanla\", \"deeep\", \"upcycle\", \"cookie_set\", \"bigai\", \"cookie_use\", \"oneflow\", \"bigid\", \"verbit\", \"digital_waste\", \"palantir\", \"zenarate\", \"aiflow\", \"recorded_future\", \"th_suppli\", \"psychedelic\", \"knime\", \"vanceai\", \"loyalty_management\", \"gainshare\", \"slaughterbot\", \"paid_link\", \"berkshire\", \"grooper\", \"holographic\", \"dsg\", \"arize\", \"tractable\", \"trade\", \"optimus\", \"crude\", \"marketbeat\", \"ev\", \"automation\", \"matrix\", \"enterprise\", \"customer\", \"etf\", \"dollar\", \"organization\", \"solution\", \"prnewswire\", \"digital_transformation\", \"experience\", \"datum\", \"press_release\", \"analytic\", \"brand\", \"platform\", \"retailer\", \"ai\", \"digital\", \"endorse\", \"accelerate\", \"cookie\", \"business\", \"gray\", \"reflect\", \"process\", \"leader\", \"technology\", \"company\", \"partner\", \"enable\", \"operation\", \"support\", \"provide\", \"new\", \"help\", \"group\", \"use\", \"include\", \"lead\", \"industry\", \"make\", \"service\", \"intelligence\", \"product\", \"say\", \"global\", \"work\", \"model\", \"year\", \"also\", \"market\", \"learn\", \"system\", \"digi\", \"digi_communication\", \"digi_symbol\", \"global_artificial_intelligence\", \"swot_analysis\", \"swot\", \"subsegment\", \"type_application\", \"top_player\", \"report_include\", \"based_personalization\", \"communications_report\", \"restraint\", \"company_profile\", \"size_share\", \"key_player\", \"buyback\", \"growth_factor\", \"cloud_club\", \"growth_trend\", \"regional_analysis\", \"forecast_period\", \"report_cover\", \"market_analysis\", \"top_manufacturer\", \"live_broadcast\", \"shares_buyback\", \"market_segmentation\", \"product_type\", \"agriculture_market\", \"market_size\", \"global_artificial\", \"research_report\", \"market_report\", \"competitive_landscape\", \"forecast\", \"market\", \"cagr\", \"overview\", \"segment\", \"growth_rate\", \"leading_player\", \"analysis\", \"regional\", \"growth\", \"trend\", \"player\", \"report\", \"size\", \"chapter\", \"outlook\", \"region\", \"global\", \"segmentation\", \"key\", \"industry\", \"revenue\", \"intelligence\", \"artificial\", \"research\", \"opportunity\", \"study\", \"artificial_intelligence\", \"share\", \"demand\", \"application\", \"business\", \"covid\", \"ai\", \"development\", \"product\", \"service\", \"company\", \"include\", \"datum\", \"technology\", \"software\", \"also\"], \"Freq\": [20794.0, 7344.0, 5304.0, 4087.0, 5650.0, 3097.0, 6295.0, 5779.0, 2400.0, 4610.0, 2031.0, 4070.0, 2353.0, 1379.0, 3643.0, 27415.0, 5317.0, 1399.0, 7773.0, 2319.0, 3493.0, 1352.0, 8510.0, 1713.0, 3175.0, 2080.0, 3813.0, 3253.0, 4116.0, 730.0, 141.3461256956302, 209.32679560798533, 106.89585094791035, 103.06825275869943, 109.57442820883172, 99.1602494231733, 68.83553264512985, 70.71543264931637, 64.07791081453014, 140.5019918803829, 70.64534701907232, 64.03225280450745, 51.754033447264305, 63.99872737414777, 80.0024772385037, 52.668672041865634, 114.81622249812068, 57.3508015436248, 53.56379908293818, 44.1403880674313, 48.83077708110889, 57.29624067653819, 61.06543092466115, 47.84030823900475, 47.82008185753654, 60.9854611735454, 69.43637152197131, 43.12025061662255, 59.08059417896502, 38.42039988040112, 3116.3418420825906, 219.76932706909622, 202.81167181173842, 179.6516884675605, 199.82219638464773, 426.25457764283976, 87.22743167704901, 82.54886981655123, 79.74305318240978, 68.47467450442957, 491.43703409095474, 366.2575350548995, 219.3819683071502, 1548.1329691970352, 353.3830939594601, 1217.602976448916, 316.6014793700549, 242.2119090932535, 177.0956717060738, 434.4326511636536, 201.00194841589735, 137.5624634309515, 145.64397019558294, 491.0403695689244, 7060.833114886872, 357.84458207005775, 904.908746595833, 717.9855034065116, 1979.16215558169, 1146.8763924837444, 1237.1251094311892, 2047.5373455322572, 1108.468349379042, 602.8142453661792, 770.2299120694488, 8673.193816336108, 624.6261152040623, 1482.3828353900328, 2281.7010458459854, 1225.5071538970803, 892.5443547304906, 1023.3861488404275, 3458.945616646491, 1035.4771905017285, 3125.1847055870826, 2410.3355552539088, 16022.87106984228, 1991.4457588930043, 3545.2841467839767, 1963.336748789788, 2273.1578382137063, 2274.4982835657415, 4848.307242433787, 3322.844664426773, 2255.7143728918345, 5953.354087376013, 1930.3795936450963, 1712.5071080023513, 2420.9172962070074, 3392.11507889495, 4964.487629574661, 2296.84312911527, 2301.4683518146144, 2772.0320461615543, 3285.328622615517, 2115.7584445728244, 1936.877405608337, 1992.5674409018281, 2125.0664921065595, 2038.5487091156065, 2024.3841985425545, 45.16881938929165, 51.627065036028476, 50.63702930142663, 43.2538567341353, 66.27513005598254, 39.54667539060443, 36.73676124031129, 39.464803196118375, 37.622773063709566, 34.85414954583382, 35.724038246407865, 43.969413431041566, 26.499484779896225, 37.48387605552338, 28.320649694532488, 22.748173530695002, 25.472843662523072, 26.380675106399583, 27.27772090214446, 24.547203183832814, 22.720702290432953, 23.61941155923225, 22.70351855394362, 26.323928535494524, 39.994415917606844, 21.77509564730262, 28.100927642164294, 20.8447250410961, 20.8222920897255, 23.533250536286644, 37.92134852583016, 26.266831917202115, 113.3784100390918, 29.583515953065543, 54.771011157737085, 36.333725055717444, 771.3216751000368, 46.67347863674409, 50.4559979568638, 41.024372013656794, 40.768053554091324, 622.4597931416718, 130.3354953329034, 904.9283842107441, 1937.417722341369, 49.59423215079111, 474.1653110714811, 930.668511492445, 1899.1778516360553, 785.1458781630665, 122.38940767259706, 1159.9923696794021, 2927.329043519662, 831.407853657044, 561.2539895121504, 483.7215927787393, 1790.5474604241324, 134.2688790932555, 7505.559019008217, 796.827719410914, 560.8627023539678, 473.7327602076033, 338.2311757764292, 1872.7763561897534, 471.6792924776603, 637.630140830986, 846.3401451880953, 618.1640594738249, 3041.044923175024, 2734.1367774693035, 697.1528926872583, 718.6514748334175, 496.81099551413246, 873.8731852692295, 1438.1349255426867, 2005.6678915613797, 1472.31544329793, 901.0287246738982, 2205.357037120978, 1296.4495296246012, 992.8699575984818, 1383.4220282349659, 1249.2930603897626, 1161.5247754180537, 1225.2861044867202, 1065.1748842746572, 1359.773425117115, 1175.5601797218346, 1072.8613265292893, 985.0640325023005, 951.5955290840777, 999.8419920296841, 1195.1766198952243, 912.6981197924177, 919.3105568254957, 464.22032040520565, 272.82574315475273, 229.68355404771643, 203.77829880425952, 187.4318578969377, 134.02539859442197, 134.8292270451479, 130.49855102694144, 108.97556344601115, 112.39991643578368, 85.79137939808977, 117.53604502900424, 157.00870005435232, 94.33988049464031, 101.19910216498823, 473.5210840063311, 167.22636405032037, 118.30147013580105, 79.69042846425636, 101.97121907502321, 93.37684674659803, 315.2544482944124, 114.73715463774728, 132.7208772958795, 82.18199445103784, 69.32858746027182, 83.02751047170605, 77.87775670921943, 107.7965417261706, 73.56106049501287, 720.2684484919165, 352.6658017785123, 492.9244352021166, 177.63398891240453, 192.58643777558459, 2927.13609686932, 18779.83976673764, 519.6116754525495, 579.7071934287852, 1274.676555090387, 317.0748654776213, 131.13317245293047, 4401.406425373165, 572.1120892668579, 3344.801326281876, 2012.545905754727, 1704.5806917341386, 5642.51599084528, 1176.3687642120697, 362.05768080806047, 496.0759353114678, 1113.7632546617954, 3727.5045461052528, 317.8468590364445, 1619.0601453403774, 3702.349780192702, 1171.8077298058945, 2956.8482788858346, 2207.6436097335386, 2397.895913645989, 1210.023004254129, 1306.7404690762473, 1797.7754926507087, 1498.2271074477467, 929.242176984452, 1552.5994992517813, 1731.1643580837606, 769.6948678749318, 3887.0022680276443, 1252.8152665319271, 1443.5749550954322, 1377.1810831294706, 1890.0820003742976, 1335.5072051716638, 1560.5150287448, 1432.752284243566, 1212.3127316810285, 1208.37462089426], \"Total\": [20794.0, 7344.0, 5304.0, 4087.0, 5650.0, 3097.0, 6295.0, 5779.0, 2400.0, 4610.0, 2031.0, 4070.0, 2353.0, 1379.0, 3643.0, 27415.0, 5317.0, 1399.0, 7773.0, 2319.0, 3493.0, 1352.0, 8510.0, 1713.0, 3175.0, 2080.0, 3813.0, 3253.0, 4116.0, 730.0, 142.45050066268504, 211.29254890673042, 107.98397690956669, 104.157340364869, 110.83450652584689, 100.33162596369388, 69.71017087986174, 71.62303479882031, 64.92559021334301, 142.38558554725952, 71.6163469739749, 64.9245865370709, 52.49325371865398, 64.91615475723945, 81.17701060656405, 53.44702436190773, 116.53079249568393, 58.2216618082211, 54.39919955575264, 44.83747869144586, 49.61708829706823, 58.21989174930859, 62.05108003009104, 48.65599203122222, 48.64745229932748, 62.04068113606763, 70.63889584738968, 43.87525486089453, 60.12095428053175, 39.09740083667052, 3253.385816514339, 223.7112317089582, 207.23691339537623, 183.47576631819817, 204.52169121857935, 439.69896096742644, 88.78476909688737, 84.01525608221407, 81.1601261436116, 69.6907723411923, 510.49013986057645, 381.94062021948446, 227.25414600062848, 1670.9465161857838, 370.3444740512735, 1310.161772933083, 331.557538321787, 252.74685208409645, 183.3784535095673, 464.2227967636128, 209.96183042899276, 142.1973816442327, 150.84276633154465, 529.2001779957276, 8510.473047686946, 381.37622120223455, 1004.5451121655475, 791.6688357023808, 2304.6094786965605, 1298.677833435203, 1406.8687804554033, 2435.7541938151912, 1273.5028951182755, 668.1719310774304, 867.8659806084925, 11531.233034935993, 698.7041287910744, 1771.4669517473537, 2828.1934011214926, 1456.3911917833395, 1034.5041240502421, 1217.1541611134353, 4675.116154858978, 1247.591001187936, 4273.664834604661, 3236.0890631384714, 27415.43235687814, 2625.9791412217064, 5194.13653455291, 2653.757592568513, 3153.1914685843026, 3172.238933880903, 7786.363506986864, 5016.570082128268, 3159.3237135289714, 10427.151294794603, 2672.7673532635704, 2320.1687934727142, 3592.5620049074573, 5600.331691818894, 9588.706407418262, 3539.606023647918, 3836.7361397981463, 5143.106457119757, 7773.172694879979, 3524.2156515307597, 3151.54435884119, 3603.8099720516966, 4757.023226902824, 4577.254567663131, 4657.948857646311, 45.934390789419076, 52.503103800226555, 51.56583537756907, 44.054044409555246, 67.52562429670186, 40.2976498217915, 37.48141624075001, 40.29388330529727, 38.42179868241477, 35.603817800812074, 36.5402135943762, 44.99228431425344, 27.15966567034232, 38.421999194581595, 29.034022621887953, 23.40362759350847, 26.215666693815724, 27.15059776799821, 28.086677234458158, 25.28057091497663, 23.402358631979457, 24.339056146269208, 23.399858742581934, 27.141572504873125, 41.246588423147976, 22.45736448607104, 29.0070457129079, 21.525478475829352, 21.52404018172387, 24.329152223334493, 39.302699453403896, 27.159266599905873, 119.15143056434361, 30.909989690868226, 59.12166994306121, 38.4011267220736, 1029.7013660521056, 50.601845784131946, 55.16007188003408, 44.068162874497524, 43.8915765485868, 908.335401474084, 160.48093244141677, 1451.5547090302687, 3493.157256327313, 55.329197188776014, 730.5749661093196, 1733.2927616802858, 4116.533850227519, 1455.5522125106222, 161.1226380676754, 2344.0096236453924, 7773.172694879979, 1681.712303479698, 1045.4198925816356, 872.2388648039644, 4468.453204435759, 183.79244242693443, 27415.43235687814, 1670.8110691865472, 1096.075340158249, 888.223133103674, 597.0397716932903, 5317.707687023819, 917.3823407165008, 1352.608978598225, 1956.2312004369214, 1312.3056546061855, 10427.151294794603, 9588.706407418262, 1594.3351226895993, 1662.7851967629729, 1024.8057451712443, 2251.067019645702, 4657.948857646311, 7786.363506986864, 5143.106457119757, 2483.4914255399462, 11531.233034935993, 4757.023226902824, 3237.3329864491593, 6295.725138162346, 5194.13653455291, 4577.254567663131, 5779.868821393605, 4274.490054053723, 8510.473047686946, 5650.211050163776, 4675.116154858978, 4273.664834604661, 3603.8099720516966, 5600.331691818894, 20794.663263936724, 3524.2156515307597, 5016.570082128268, 467.0817812421131, 274.7033177359668, 231.37274927452967, 205.37843523562785, 188.90793535195294, 135.18044354246345, 136.05234487774325, 131.72026727513577, 110.05482372460592, 113.5204782436718, 86.64799017933879, 118.72463271775383, 158.5981559861542, 95.32057153433928, 102.2562895226976, 478.4848527066726, 169.0091219990327, 119.59663148236075, 80.58770409380513, 103.12378135070783, 94.46200858263938, 319.0062685185163, 116.13350523404968, 134.34750865479046, 83.19582797347809, 70.19188542375642, 84.06486691206794, 78.86140746999794, 109.2065798131591, 74.53119236044714, 730.0630163735575, 359.0465111639473, 504.09722302544077, 180.32386568999792, 195.96696103323697, 3097.3201117495737, 20794.663263936724, 536.6066528008613, 611.6628725434535, 1379.9962364311377, 329.1568126154903, 133.5081843874191, 5304.225961710077, 623.607297760451, 4087.8620162253337, 2400.0047114915387, 2031.4210479477238, 7344.315637020309, 1399.8069943903888, 396.34735136488575, 560.5794353319166, 1352.5232099232562, 5650.211050163776, 351.7441211850543, 2353.0570821544698, 6295.725138162346, 1713.8273535821277, 5779.868821393605, 4070.7547360197987, 4610.312468605332, 2080.290227091216, 2319.6826656485873, 3643.6861877418123, 3175.57587650638, 1575.656887094136, 3813.0514641168115, 5317.707687023819, 1204.2707123926784, 27415.43235687814, 3114.909850499614, 4274.490054053723, 4577.254567663131, 9588.706407418262, 4757.023226902824, 7773.172694879979, 10427.151294794603, 3541.4778313636107, 5600.331691818894], \"Category\": [\"Default\", \"Default\", \"Default\", \"Default\", \"Default\", \"Default\", \"Default\", \"Default\", \"Default\", \"Default\", \"Default\", \"Default\", \"Default\", \"Default\", \"Default\", \"Default\", \"Default\", \"Default\", \"Default\", \"Default\", \"Default\", \"Default\", \"Default\", \"Default\", \"Default\", \"Default\", \"Default\", \"Default\", \"Default\", \"Default\", \"Topic1\", \"Topic1\", \"Topic1\", \"Topic1\", \"Topic1\", \"Topic1\", \"Topic1\", \"Topic1\", \"Topic1\", \"Topic1\", \"Topic1\", \"Topic1\", \"Topic1\", \"Topic1\", \"Topic1\", \"Topic1\", \"Topic1\", \"Topic1\", \"Topic1\", \"Topic1\", \"Topic1\", \"Topic1\", \"Topic1\", \"Topic1\", \"Topic1\", \"Topic1\", \"Topic1\", \"Topic1\", \"Topic1\", \"Topic1\", \"Topic1\", \"Topic1\", \"Topic1\", \"Topic1\", \"Topic1\", \"Topic1\", \"Topic1\", \"Topic1\", \"Topic1\", \"Topic1\", \"Topic1\", \"Topic1\", \"Topic1\", \"Topic1\", \"Topic1\", \"Topic1\", \"Topic1\", \"Topic1\", \"Topic1\", \"Topic1\", \"Topic1\", \"Topic1\", \"Topic1\", \"Topic1\", \"Topic1\", \"Topic1\", \"Topic1\", \"Topic1\", \"Topic1\", \"Topic1\", \"Topic1\", \"Topic1\", \"Topic1\", \"Topic1\", \"Topic1\", \"Topic1\", \"Topic1\", \"Topic1\", \"Topic1\", \"Topic1\", \"Topic1\", \"Topic1\", \"Topic1\", \"Topic1\", \"Topic1\", \"Topic1\", \"Topic1\", \"Topic1\", \"Topic1\", \"Topic1\", \"Topic1\", \"Topic1\", \"Topic1\", \"Topic1\", \"Topic1\", \"Topic1\", \"Topic1\", \"Topic1\", \"Topic1\", \"Topic1\", \"Topic1\", \"Topic1\", \"Topic1\", \"Topic1\", \"Topic1\", \"Topic1\", \"Topic1\", \"Topic1\", \"Topic1\", \"Topic1\", \"Topic1\", \"Topic2\", \"Topic2\", \"Topic2\", \"Topic2\", \"Topic2\", \"Topic2\", \"Topic2\", \"Topic2\", \"Topic2\", \"Topic2\", \"Topic2\", \"Topic2\", \"Topic2\", \"Topic2\", \"Topic2\", \"Topic2\", \"Topic2\", \"Topic2\", \"Topic2\", \"Topic2\", \"Topic2\", \"Topic2\", \"Topic2\", \"Topic2\", \"Topic2\", \"Topic2\", \"Topic2\", \"Topic2\", \"Topic2\", \"Topic2\", \"Topic2\", \"Topic2\", \"Topic2\", \"Topic2\", \"Topic2\", \"Topic2\", \"Topic2\", \"Topic2\", \"Topic2\", \"Topic2\", \"Topic2\", \"Topic2\", \"Topic2\", \"Topic2\", \"Topic2\", \"Topic2\", \"Topic2\", \"Topic2\", \"Topic2\", \"Topic2\", \"Topic2\", \"Topic2\", \"Topic2\", \"Topic2\", \"Topic2\", \"Topic2\", \"Topic2\", \"Topic2\", \"Topic2\", \"Topic2\", \"Topic2\", \"Topic2\", \"Topic2\", \"Topic2\", \"Topic2\", \"Topic2\", \"Topic2\", \"Topic2\", \"Topic2\", \"Topic2\", \"Topic2\", \"Topic2\", \"Topic2\", \"Topic2\", \"Topic2\", \"Topic2\", \"Topic2\", \"Topic2\", \"Topic2\", \"Topic2\", \"Topic2\", \"Topic2\", \"Topic2\", \"Topic2\", \"Topic2\", \"Topic2\", \"Topic2\", \"Topic2\", \"Topic2\", \"Topic2\", \"Topic2\", \"Topic2\", \"Topic2\", \"Topic2\", \"Topic2\", \"Topic3\", \"Topic3\", \"Topic3\", \"Topic3\", \"Topic3\", \"Topic3\", \"Topic3\", \"Topic3\", \"Topic3\", \"Topic3\", \"Topic3\", \"Topic3\", \"Topic3\", \"Topic3\", \"Topic3\", \"Topic3\", \"Topic3\", \"Topic3\", \"Topic3\", \"Topic3\", \"Topic3\", \"Topic3\", \"Topic3\", \"Topic3\", \"Topic3\", \"Topic3\", \"Topic3\", \"Topic3\", \"Topic3\", \"Topic3\", \"Topic3\", \"Topic3\", \"Topic3\", \"Topic3\", \"Topic3\", \"Topic3\", \"Topic3\", \"Topic3\", \"Topic3\", \"Topic3\", \"Topic3\", \"Topic3\", \"Topic3\", \"Topic3\", \"Topic3\", \"Topic3\", \"Topic3\", \"Topic3\", \"Topic3\", \"Topic3\", \"Topic3\", \"Topic3\", \"Topic3\", \"Topic3\", \"Topic3\", \"Topic3\", \"Topic3\", \"Topic3\", \"Topic3\", \"Topic3\", \"Topic3\", \"Topic3\", \"Topic3\", \"Topic3\", \"Topic3\", \"Topic3\", \"Topic3\", \"Topic3\", \"Topic3\", \"Topic3\", \"Topic3\", \"Topic3\", \"Topic3\", \"Topic3\", \"Topic3\", \"Topic3\", \"Topic3\", \"Topic3\"], \"logprob\": [30.0, 29.0, 28.0, 27.0, 26.0, 25.0, 24.0, 23.0, 22.0, 21.0, 20.0, 19.0, 18.0, 17.0, 16.0, 15.0, 14.0, 13.0, 12.0, 11.0, 10.0, 9.0, 8.0, 7.0, 6.0, 5.0, 4.0, 3.0, 2.0, 1.0, -8.7513, -8.3586, -9.0306, -9.0671, -9.0059, -9.1058, -9.4708, -9.4438, -9.5424, -8.7573, -9.4448, -9.5431, -9.756, -9.5436, -9.3204, -9.7385, -8.9592, -9.6533, -9.7216, -9.9151, -9.8141, -9.6543, -9.5906, -9.8346, -9.8351, -9.5919, -9.4621, -9.9385, -9.6236, -10.0539, -5.6581, -8.3099, -8.3902, -8.5115, -8.4051, -7.6475, -9.234, -9.2891, -9.3237, -9.476, -7.5052, -7.7992, -8.3117, -6.3577, -7.8349, -6.5979, -7.9449, -8.2127, -8.5258, -7.6285, -8.3992, -8.7784, -8.7213, -7.506, -4.8402, -7.8224, -6.8947, -7.126, -6.1121, -6.6577, -6.582, -6.0781, -6.6918, -7.3009, -7.0558, -4.6345, -7.2653, -6.4011, -5.9698, -6.5914, -6.9084, -6.7716, -5.5538, -6.7599, -5.6552, -5.915, -4.0207, -6.1059, -5.5291, -6.1201, -5.9736, -5.973, -5.2161, -5.5939, -5.9813, -5.0108, -6.137, -6.2568, -5.9106, -5.5733, -5.1924, -5.9632, -5.9612, -5.7752, -5.6053, -6.0453, -6.1337, -6.1053, -6.0409, -6.0825, -6.0895, -9.1164, -8.9828, -9.0021, -9.1597, -8.733, -9.2493, -9.3231, -9.2514, -9.2992, -9.3757, -9.351, -9.1433, -9.6497, -9.3029, -9.5832, -9.8023, -9.6892, -9.6542, -9.6208, -9.7262, -9.8036, -9.7648, -9.8043, -9.6564, -9.2381, -9.8461, -9.591, -9.8897, -9.8908, -9.7684, -9.2913, -9.6585, -8.1961, -9.5396, -8.9237, -9.3341, -6.2787, -9.0837, -9.0057, -9.2127, -9.2189, -6.4932, -8.0567, -6.119, -5.3577, -9.023, -6.7653, -6.0909, -5.3777, -6.261, -8.1196, -5.8707, -4.945, -6.2037, -6.5967, -6.7453, -5.4366, -8.027, -4.0034, -6.2462, -6.5974, -6.7662, -7.1031, -5.3917, -6.7705, -6.4691, -6.1859, -6.5001, -4.9069, -5.0133, -6.3798, -6.3495, -6.7186, -6.1539, -5.6557, -5.3231, -5.6322, -6.1233, -5.2282, -5.7594, -6.0262, -5.6945, -5.7965, -5.8693, -5.8159, -5.9559, -5.7118, -5.8573, -5.9487, -6.0341, -6.0687, -6.0192, -5.8408, -6.1104, -6.1032, -6.6344, -7.1659, -7.3381, -7.4577, -7.5414, -7.8767, -7.8708, -7.9034, -8.0836, -8.0527, -8.3229, -8.008, -7.7185, -8.2279, -8.1577, -6.6146, -7.6554, -8.0015, -8.3966, -8.1501, -8.2381, -7.0214, -8.0321, -7.8865, -8.3658, -8.5359, -8.3556, -8.4196, -8.0945, -8.4767, -6.1951, -6.9092, -6.5744, -7.595, -7.5142, -4.793, -2.9342, -6.5217, -6.4122, -5.6243, -7.0156, -7.8986, -4.3851, -6.4254, -4.6596, -5.1676, -5.3337, -4.1367, -5.7046, -6.883, -6.568, -5.7593, -4.5513, -7.0132, -5.3852, -4.558, -5.7085, -4.7829, -5.0751, -4.9924, -5.6764, -5.5995, -5.2805, -5.4627, -5.9404, -5.4271, -5.3182, -6.1288, -4.5094, -5.6416, -5.4999, -5.547, -5.2304, -5.5777, -5.422, -5.5074, -5.6745, -5.6777], \"loglift\": [30.0, 29.0, 28.0, 27.0, 26.0, 25.0, 24.0, 23.0, 22.0, 21.0, 20.0, 19.0, 18.0, 17.0, 16.0, 15.0, 14.0, 13.0, 12.0, 11.0, 10.0, 9.0, 8.0, 7.0, 6.0, 5.0, 4.0, 3.0, 2.0, 1.0, 0.6106, 0.609, 0.6082, 0.6078, 0.6069, 0.6066, 0.6057, 0.6056, 0.6052, 0.605, 0.6047, 0.6045, 0.6042, 0.6041, 0.6038, 0.6037, 0.6035, 0.6033, 0.6029, 0.6027, 0.6024, 0.6023, 0.6023, 0.6014, 0.6012, 0.6012, 0.6012, 0.601, 0.6009, 0.6009, 0.5753, 0.6006, 0.5968, 0.5973, 0.5951, 0.5873, 0.6006, 0.6007, 0.6007, 0.6007, 0.5803, 0.5764, 0.5831, 0.542, 0.5715, 0.5451, 0.5722, 0.5758, 0.5835, 0.552, 0.5747, 0.5852, 0.5833, 0.5435, 0.4316, 0.5547, 0.5139, 0.5206, 0.4661, 0.494, 0.4898, 0.4447, 0.4795, 0.5154, 0.499, 0.3335, 0.5063, 0.4402, 0.4036, 0.4457, 0.4707, 0.4449, 0.3171, 0.432, 0.3054, 0.3237, 0.0813, 0.3417, 0.2364, 0.317, 0.2911, 0.2857, 0.1446, 0.2064, 0.2815, 0.0579, 0.2929, 0.3147, 0.2236, 0.117, -0.0399, 0.1859, 0.1073, 0.0003, -0.2429, 0.1081, 0.1315, 0.0258, -0.1875, -0.1905, -0.215, 1.3772, 1.3772, 1.3758, 1.3757, 1.3753, 1.3752, 1.3739, 1.3732, 1.373, 1.3727, 1.3714, 1.371, 1.3694, 1.3693, 1.3691, 1.3656, 1.3653, 1.3652, 1.3648, 1.3646, 1.3644, 1.364, 1.3638, 1.3634, 1.3632, 1.3632, 1.3623, 1.3619, 1.3609, 1.3607, 1.3582, 1.3606, 1.3443, 1.3501, 1.3176, 1.3387, 1.1051, 1.3132, 1.3049, 1.3224, 1.3202, 1.0161, 1.1859, 0.9215, 0.8046, 1.2846, 0.9617, 0.7721, 0.6204, 0.7767, 1.1191, 0.6906, 0.4174, 0.6896, 0.772, 0.8045, 0.4795, 1.08, 0.0985, 0.6536, 0.724, 0.7654, 0.8258, 0.3504, 0.7288, 0.642, 0.5562, 0.6412, 0.1618, 0.1392, 0.5668, 0.5551, 0.67, 0.4478, 0.2188, 0.0376, 0.1432, 0.3801, -0.2602, 0.094, 0.2121, -0.1213, -0.0309, 0.0226, -0.1572, 0.0045, -0.44, -0.1759, -0.0779, -0.0735, 0.0624, -0.329, -1.4624, 0.043, -0.3029, 1.5399, 1.5392, 1.5387, 1.5382, 1.5382, 1.5375, 1.537, 1.5368, 1.5362, 1.5361, 1.5361, 1.536, 1.536, 1.5357, 1.5357, 1.5356, 1.5355, 1.5352, 1.5349, 1.5348, 1.5345, 1.5342, 1.534, 1.5339, 1.5338, 1.5337, 1.5337, 1.5335, 1.5331, 1.533, 1.5326, 1.5281, 1.5237, 1.531, 1.5287, 1.4896, 1.4442, 1.5139, 1.4924, 1.4667, 1.5087, 1.5281, 1.3595, 1.4599, 1.3455, 1.37, 1.3707, 1.2825, 1.3722, 1.4556, 1.4238, 1.3518, 1.1301, 1.4447, 1.1722, 1.0152, 1.1659, 0.8758, 0.9342, 0.8924, 1.0042, 0.9722, 0.8396, 0.7949, 1.018, 0.6476, 0.4238, 1.0984, -0.4074, 0.6353, 0.4605, 0.345, -0.0779, 0.2758, -0.0596, -0.4387, 0.4741, 0.0125]}, \"token.table\": {\"Topic\": [1, 2, 3, 1, 2, 3, 3, 1, 2, 3, 2, 1, 2, 3, 1, 2, 3, 1, 2, 3, 1, 1, 2, 3, 1, 2, 3, 1, 2, 1, 2, 3, 1, 2, 3, 1, 2, 3, 1, 3, 1, 2, 1, 2, 1, 2, 3, 1, 2, 3, 1, 2, 3, 3, 1, 2, 3, 1, 2, 3, 2, 2, 1, 2, 3, 1, 1, 2, 3, 1, 2, 3, 1, 2, 3, 1, 2, 3, 1, 1, 2, 3, 1, 2, 3, 1, 2, 3, 1, 2, 3, 1, 2, 3, 1, 2, 3, 1, 2, 3, 3, 1, 2, 3, 1, 2, 3, 2, 3, 1, 2, 3, 1, 1, 2, 3, 1, 2, 1, 2, 1, 2, 3, 1, 2, 3, 1, 2, 3, 1, 2, 3, 1, 2, 3, 2, 1, 2, 3, 1, 2, 3, 1, 2, 3, 1, 2, 3, 1, 2, 3, 1, 2, 3, 1, 2, 3, 2, 1, 2, 3, 1, 2, 3, 1, 2, 3, 2, 1, 2, 1, 2, 1, 2, 3, 1, 2, 3, 1, 2, 3, 1, 2, 3, 1, 2, 3, 1, 2, 1, 2, 3, 1, 2, 3, 1, 2, 3, 1, 2, 3, 1, 2, 3, 1, 2, 3, 1, 2, 3, 1, 2, 3, 1, 2, 3, 2, 1, 2, 3, 1, 1, 3, 1, 2, 3, 1, 2, 3, 1, 2, 3, 1, 2, 3, 1, 2, 1, 2, 3, 1, 2, 3, 1, 2, 1, 2, 3, 1, 2, 3, 1, 2, 3, 1, 2, 3, 1, 2, 3, 2, 1, 2, 3, 1, 2, 3, 1, 2, 3, 1, 2, 3, 1, 2, 3, 1, 2, 3, 1, 2, 3, 1, 2, 1, 2, 3, 1, 2, 3, 1, 2, 2, 1, 1, 2, 3, 1, 2, 3, 2, 3, 1, 2, 3, 1, 2, 3, 3, 2, 3, 1, 2, 1, 2, 3, 1, 2, 3, 2, 3, 1, 2, 3, 2, 3, 1, 2, 3, 1, 2, 1, 2, 3, 1, 3, 1, 2, 1, 2, 3, 1, 2, 1, 1, 2, 3, 1, 2, 3, 1, 2, 3, 2, 2, 1, 2, 3, 1, 2, 3, 1, 2, 3, 1, 2, 1, 2, 3, 1, 2, 3, 1, 1, 2, 3, 2, 2, 1, 2, 3, 1, 2, 3, 1, 2, 3, 1, 2, 3, 1, 2, 3, 1, 2, 3, 1, 2, 3, 1, 2, 1, 2, 3, 1, 2, 3, 1, 2, 3, 2, 3, 1, 2, 3, 2, 1, 2, 3, 2, 1, 2, 3, 1, 2, 3, 1, 2, 3, 2, 3, 1, 2, 1, 1, 2, 3, 2, 3, 2, 3, 1, 2, 3, 1, 2, 3, 1, 2, 3, 1, 2, 3, 1, 2, 3, 1, 2, 3, 1, 1, 2, 3, 1, 2, 3, 1, 2, 3, 1, 2, 3, 1, 2, 3, 1, 2, 3, 1, 2, 3, 1, 2, 3, 2, 3, 2, 1, 2, 3, 2, 3, 2, 1, 2, 3, 1, 2, 3, 1, 2, 3, 1, 1, 2, 1, 2, 3, 1, 2, 3, 2, 3, 1, 2, 3, 2, 3, 1, 2, 3, 1, 2, 3, 1, 2, 3, 2, 1, 2, 3, 1, 2, 3, 1, 2, 3, 1, 2, 3, 2, 1, 2, 3, 2, 1, 2, 3, 1, 2, 3, 2, 3, 2, 3, 1, 2, 1, 2, 3, 1, 2, 3, 1, 2, 3, 1, 2, 3, 1, 2, 3, 1, 2, 1, 2, 3, 1, 2, 3, 2, 2, 1, 2, 3, 1, 2, 3, 1, 2, 3, 1, 2, 3, 1, 2, 3, 1, 2, 3, 1, 2, 3, 1, 2, 3, 2], \"Freq\": [0.9857057129068678, 0.012321321411335849, 0.012321321411335849, 0.3929192868243666, 0.5336496904147557, 0.07430565309572548, 0.9928728852494646, 0.5844518441811135, 0.27378740201107393, 0.14178145904836723, 0.9828069196653695, 0.6056784109689645, 0.17856085229037869, 0.21570150956677744, 0.09256770046080429, 0.07767391566161175, 0.8297157835600808, 0.2697480715653963, 0.5366264827949906, 0.19322379594400732, 0.9916361225485487, 0.3758144922735563, 0.21688666092828407, 0.40728534996568944, 0.9767989600102132, 0.014156506666814683, 0.014156506666814683, 0.06765708755947376, 0.9302849539427642, 0.317385861783277, 0.14051448369971706, 0.5424055594562505, 0.34745033868699, 0.15917946006197012, 0.4934563261921074, 0.8872337632823503, 0.0599170853125743, 0.05300357546881573, 0.9913937669258824, 0.013963292491913838, 0.9790468220971388, 0.01717626003679191, 0.9813550151698983, 0.01663313585033726, 0.22238481476356212, 0.6847690830838398, 0.09247685366405553, 0.990887750778148, 0.009260633184842503, 0.009260633184842503, 0.957479778697617, 0.01582611204458871, 0.023739168066883067, 0.9925215786540735, 0.025443544944936163, 0.9668547079075742, 0.025443544944936163, 0.9618207320010147, 0.03526023050105553, 0.0019589016945030847, 0.9573019165840231, 0.9827536311669723, 0.9531666454705298, 0.027001887973669397, 0.018901321581568577, 0.979017057049227, 0.35426075639205523, 0.5548938708535751, 0.090571520242629, 0.9798978009962528, 0.011263193114899457, 0.011263193114899457, 0.32231933398341434, 0.3522194355606389, 0.3255162001897843, 0.005916840394009759, 0.005916840394009759, 0.9881123457996298, 0.9866909309999686, 0.007454249736043488, 0.024226311642141337, 0.9690524656856535, 0.08073726212576636, 0.0050460788828603975, 0.9133402777977319, 0.9296561883905688, 0.02671425828708531, 0.04350607778182465, 0.9577714343571052, 0.038421511326905695, 0.0036884650873829465, 0.9902687793716336, 0.007023182832422933, 0.007023182832422933, 0.9560934780868761, 0.006032135508434549, 0.03920888080482457, 0.9891498828586596, 0.004732774559132342, 0.004732774559132342, 0.9927072733934568, 0.008422851914625986, 0.008422851914625986, 0.9938965259258665, 0.5176923548477428, 0.28512709471267705, 0.1971068796660423, 0.010490914856083815, 0.9861459964718786, 0.005102900992736194, 0.015308702978208582, 0.9848598915980855, 0.9857590693081585, 0.32493647692814204, 0.5661264391840825, 0.10887046907386203, 0.02222603309081603, 0.9779454559959053, 0.026026756050242787, 0.9629899738589831, 0.27153363162864547, 0.08885045438613169, 0.6393911203487982, 0.7140768735850886, 0.23391081984901615, 0.05222636708401579, 0.054387166255413996, 0.9064527709235666, 0.018129055418471332, 0.35956010790093995, 0.5545126823281216, 0.08588219137761305, 0.4226073611054285, 0.37655152083883997, 0.2008189012741473, 0.9830406445682266, 0.20055127647921797, 0.2094364596143732, 0.5895953666113718, 0.36052407738858866, 0.23724603133585664, 0.4022588325626906, 0.0021409526985631823, 0.004281905397126365, 0.9934020521333166, 0.0036402909445788266, 0.0036402909445788266, 0.9937994278700196, 0.0043220301575509846, 0.0043220301575509846, 0.9940669362367266, 0.4357165291910801, 0.47701383758968524, 0.08738271052458475, 0.18619357502947087, 0.7571872051198482, 0.05585807250884126, 0.9576216414154095, 0.9879158127992781, 0.01190260015420817, 0.01190260015420817, 0.9387056142919862, 0.03408707537931793, 0.02622082721485995, 0.3394586613345447, 0.648804054324896, 0.01095027939788854, 0.9871558684533748, 0.03235200043743241, 0.9705600131229721, 0.9855006904323121, 0.012318758630403902, 0.9795552185855381, 0.009650790330892, 0.014476185496338001, 0.46909246096156315, 0.43240702491200506, 0.09862969692012354, 0.4780693268077229, 0.5118261304181919, 0.010948152522314266, 0.29554518154303633, 0.6234694389194588, 0.08060323132991899, 0.9778913855462555, 0.01955782771092511, 0.004889456927731278, 0.09036820077003198, 0.9036820077003198, 0.045566829840027585, 0.9341200117205656, 0.022783414920013793, 0.836594777304862, 0.1428194862740419, 0.02032214033938936, 0.9868636223705367, 0.008581422803222058, 0.008581422803222058, 0.8295988020228503, 0.11542244202057048, 0.05450504206526939, 0.42619278945039485, 0.4948785142767348, 0.07892459063896201, 0.7383083527453475, 0.22110460301130372, 0.04094529685394513, 0.026797359331746966, 0.02808879833568658, 0.9450104911328118, 0.0031347346390528884, 0.009404203917158665, 0.9874414113016597, 0.9678952696949319, 0.026517678621778954, 0.013258839310889477, 0.9755880699042576, 0.7168438593047588, 0.16140020051188939, 0.12136538515054184, 0.9906034836152917, 0.9858871068277918, 0.015404486044184247, 0.13220745090191766, 0.2081338182873563, 0.6597983627340682, 0.00835546344754801, 0.011140617930064014, 0.9831595323281491, 0.004869060370689424, 0.004869060370689424, 0.9932883156206425, 0.9582641400898284, 0.026182080330323182, 0.013091040165161591, 0.014809192960676452, 0.9774067354046458, 0.9278152586032653, 0.06802718800349807, 0.003779288222416559, 0.47744542330944584, 0.5145073968083526, 0.007630406308598449, 0.0368198454962501, 0.9573159829025025, 0.5605012305195938, 0.36279569590384625, 0.07650519669448479, 0.04892533045542393, 0.1330768988387531, 0.8182761518669652, 0.008361439512177979, 0.008361439512177979, 0.9866498624370016, 0.003038065632164708, 0.03341872195381179, 0.9630668053962125, 0.009697084289405144, 0.009697084289405144, 0.9891025975193246, 0.9904176369812182, 0.5389738717468384, 0.28620834747884055, 0.17479708178225387, 0.04196340720642815, 0.9483730028652761, 0.00839268144128563, 0.8408073381132762, 0.139997706199525, 0.01929587152896679, 0.8587138160688645, 0.10500694466329723, 0.03601477854154409, 0.4467079302834376, 0.2724392835987459, 0.2808479034629048, 0.19219390514135212, 0.2196728684384215, 0.5880180469696575, 0.2764768629497547, 0.21194252635384828, 0.5116033064721056, 0.019392684956578747, 0.9890269327855162, 0.16999162622683092, 0.1419430078994038, 0.6880411071530982, 0.0062697909516460735, 0.004179860634430716, 0.9906269703600796, 0.02424442937537085, 0.969777175014834, 0.992613717596242, 0.9719316165988906, 0.4865115842555094, 0.3067339702639497, 0.20665158721710208, 0.4511144167687484, 0.4709268742619705, 0.07772579478110192, 0.01498035501850826, 0.9812132537122911, 0.6004172869162832, 0.25906473674601443, 0.1407405360635522, 0.9810559923637533, 0.016350933206062554, 0.005450311068687518, 0.9830196123588807, 0.9652827205198711, 0.03447438287570968, 0.9888885376602862, 0.009600859588934817, 0.6825003494647526, 0.24046345175782113, 0.07700991249249677, 0.03943319444956294, 0.05746666752100941, 0.903116331418039, 0.007443383282748673, 0.9899699766055735, 0.005545577653704145, 0.01109115530740829, 0.9871128223593378, 0.012680473657288456, 0.9890769452684995, 0.0013697447721257004, 0.010957958177005603, 0.9862162359305043, 0.06807635726825625, 0.9303768826661688, 0.10593158789257294, 0.8100650838843813, 0.08723777826447184, 0.9924706975110474, 0.009022460886464067, 0.9830610518047175, 0.01611575494761832, 0.7312225270209054, 0.23048134051698937, 0.038140567009410424, 0.9867277545748562, 0.009966947015907638, 0.980051287139653, 0.6489422790711357, 0.24211734138613986, 0.10905168468500583, 0.622626980573125, 0.2576298933642097, 0.11969644098476744, 0.9832258267154544, 0.01611845617566319, 0.01611845617566319, 0.9643858298467939, 0.9760738333180908, 0.9348959228751479, 0.05816172792080413, 0.006462414213422681, 0.434228635130886, 0.48496995878663, 0.0809909589120529, 0.21391246000430678, 0.2042984168580458, 0.5816496103487893, 0.07904849987219924, 0.9288198734983412, 0.32654610491265723, 0.5371279570206429, 0.13673396972491125, 0.051732186684353185, 0.06421926622885223, 0.8847987791530751, 0.9857438305866522, 0.03596752555622392, 0.016348875252829055, 0.9482347646640852, 0.9864708716393826, 0.9613098685406273, 0.5005221227603617, 0.43717283153379966, 0.0627220705213486, 0.8792575520792942, 0.04478029570007724, 0.07605542285568673, 0.8068755125074173, 0.1736090607542252, 0.01980062607380165, 0.9688446819676673, 0.02501711620104305, 0.004548566582007828, 0.4359450375504107, 0.4008098368854135, 0.1633674935378849, 0.07630126711377302, 0.08466979318431588, 0.8393139382515034, 0.473327095456794, 0.49413921648818576, 0.032110129591290046, 0.9757389352364383, 0.014349101988771151, 0.44725293562442314, 0.5393142157683136, 0.013740489573714997, 0.47029205944293256, 0.43246421987904454, 0.09712553401538825, 0.4131486978956027, 0.24915252732662338, 0.3378180746099945, 0.009156957407794422, 0.9889514000417976, 0.43452602462078965, 0.30871957678097606, 0.25655069141395437, 0.9579400749655105, 0.9009052844317234, 0.07366518347839505, 0.025882361762679346, 0.9860694620107041, 0.49016383189109053, 0.4716810328001746, 0.03844422210910514, 0.08428690847121839, 0.09241985577984473, 0.8236457547099763, 0.04008933200394226, 0.04329647856425764, 0.9172439162501989, 0.010586266531958797, 0.9845227874721681, 0.9898125213165, 0.014345109004586956, 0.9813219048910162, 0.14609938529757022, 0.08564446724340323, 0.7683493301343791, 0.008610779447194416, 0.9902396364273577, 0.008808983325929082, 0.9866061325040572, 0.3192842155545469, 0.1605097279282369, 0.5201382805025839, 0.007934977256952927, 0.013886210199667622, 0.9779859469194483, 0.0063052435495359795, 0.0063052435495359795, 0.9899232372771488, 0.16866852407341973, 0.7290832976076853, 0.10337748249661209, 0.12311625179688133, 0.19313497319795128, 0.6838495123504499, 0.9704820046916599, 0.014064956589734202, 0.014064956589734202, 0.9875629885136833, 0.8418067940240511, 0.13869899868911773, 0.019912232485071357, 0.8296836098810163, 0.15980310288035435, 0.010575205337670509, 0.8945131053989903, 0.08444203714966468, 0.021468314529575767, 0.7397058440820347, 0.22119578730318612, 0.03918971359375018, 0.0333334242410417, 0.04275373978742305, 0.9239155632027862, 0.031272733039404074, 0.06538844180966306, 0.9040662824118634, 0.4454635349331226, 0.2538639664503622, 0.30083535439083364, 0.36245394371312467, 0.16563924795230545, 0.4717254627995315, 0.011895575841998329, 0.9873327948858612, 0.9796581434223721, 0.07786787781230449, 0.08143979881286892, 0.840115819332753, 0.00977934956047894, 0.9877143056083729, 0.975653261316208, 0.47946085810911376, 0.17817420581086618, 0.3422300117951978, 0.3694856049625184, 0.46131042986444604, 0.16907428077180328, 0.9652169958493269, 0.027266016831901888, 0.010906406732760755, 0.9913011952010923, 0.9898175109533679, 0.007019982347187007, 0.8700412101513876, 0.06831551018336707, 0.061248388440260135, 0.37418911338775973, 0.06250855004749442, 0.5634391373246567, 0.007350112200554874, 0.9922651470749079, 0.5179765816939195, 0.3882603193829208, 0.09417756030798537, 0.007397519743200693, 0.9912676455888929, 0.005293583872678019, 0.005293583872678019, 0.9899001841907896, 0.66240477967971, 0.18319289573447292, 0.1542886847643983, 0.7220980148696378, 0.1964256258065077, 0.08118925866668984, 0.989021891299227, 0.963678788062218, 0.02200179881420589, 0.013201079288523534, 0.5709133618279645, 0.2916424547822678, 0.13742967369384734, 0.9024623333513272, 0.08979724709963455, 0.007483103924969546, 0.9069448835420929, 0.08968396480708718, 0.003789463301707909, 0.9829119163931409, 0.8832059579903726, 0.10010180866499428, 0.016940306081768264, 0.9678888407083075, 0.6738923355234794, 0.2491258324219389, 0.07682539636698897, 0.7447261039418669, 0.19591549788346208, 0.05933087633063836, 0.012019833498367117, 0.9856263468661036, 0.009086380461635514, 0.9904154703182712, 0.05208180516355441, 0.9374724929439794, 0.17675027537138405, 0.7487607819304236, 0.07380780729794059, 0.8404851519089203, 0.11091446286188096, 0.04847372821371094, 0.0870831623785072, 0.07416652106877647, 0.8387483534350957, 0.8632155051289386, 0.08216496969312406, 0.05509886202950672, 0.9865177544668852, 0.007591846119710732, 0.9869399955623952, 0.9926616648955743, 0.985215915802437, 0.7521311878550672, 0.19121979352247473, 0.056628809600986846, 0.7208569548174363, 0.2162888003455748, 0.06279352268097332, 0.979634097921209, 0.9536282365802851, 0.7581933796601713, 0.20144866792578134, 0.039985085316081366, 0.5997284973892048, 0.21893608770401216, 0.1811435487551053, 0.7398746652326413, 0.2295130141065696, 0.030587475318955688, 0.6146193038870083, 0.2804974004316548, 0.10502787278606078, 0.92642103442878, 0.0628386360562157, 0.010772337609636976, 0.9573168589229671, 0.02857662265441693, 0.014288311327208465, 0.9834106151908081, 0.01341014475260193, 0.0044700482508673095, 0.5530258297346791, 0.26416487200572725, 0.18313951210481091, 0.98890171761072], \"Term\": [\"abuse\", \"abuse\", \"abuse\", \"accelerate\", \"accelerate\", \"accelerate\", \"agriculture_market\", \"ai\", \"ai\", \"ai\", \"aiflow\", \"also\", \"also\", \"also\", \"analysis\", \"analysis\", \"analysis\", \"analytic\", \"analytic\", \"analytic\", \"anthropic\", \"application\", \"application\", \"application\", \"argument\", \"argument\", \"argument\", \"arize\", \"arize\", \"artificial\", \"artificial\", \"artificial\", \"artificial_intelligence\", \"artificial_intelligence\", \"artificial_intelligence\", \"ask\", \"ask\", \"ask\", \"assignment\", \"assignment\", \"attorney\", \"attorney\", \"autism\", \"autism\", \"automation\", \"automation\", \"automation\", \"avatar\", \"avatar\", \"avatar\", \"ban\", \"ban\", \"ban\", \"based_personalization\", \"berkshire\", \"berkshire\", \"berkshire\", \"bias\", \"bias\", \"bias\", \"bigai\", \"bigid\", \"bing\", \"bing\", \"bing\", \"boneview\", \"brand\", \"brand\", \"brand\", \"bug\", \"bug\", \"bug\", \"business\", \"business\", \"business\", \"buyback\", \"buyback\", \"buyback\", \"cadence\", \"cagr\", \"cagr\", \"cagr\", \"chapter\", \"chapter\", \"chapter\", \"chatbot\", \"chatbot\", \"chatbot\", \"chatgpt\", \"chatgpt\", \"chatgpt\", \"cheat\", \"cheat\", \"cheat\", \"child\", \"child\", \"child\", \"clearview\", \"clearview\", \"clearview\", \"cloud_club\", \"communications_report\", \"communications_report\", \"communications_report\", \"company\", \"company\", \"company\", \"company_profile\", \"company_profile\", \"competitive_landscape\", \"competitive_landscape\", \"competitive_landscape\", \"controversy\", \"cookie\", \"cookie\", \"cookie\", \"cookie_set\", \"cookie_set\", \"cookie_use\", \"cookie_use\", \"covid\", \"covid\", \"covid\", \"create\", \"create\", \"create\", \"crude\", \"crude\", \"crude\", \"customer\", \"customer\", \"customer\", \"datum\", \"datum\", \"datum\", \"deeep\", \"demand\", \"demand\", \"demand\", \"development\", \"development\", \"development\", \"digi\", \"digi\", \"digi\", \"digi_communication\", \"digi_communication\", \"digi_communication\", \"digi_symbol\", \"digi_symbol\", \"digi_symbol\", \"digital\", \"digital\", \"digital\", \"digital_transformation\", \"digital_transformation\", \"digital_transformation\", \"digital_waste\", \"discrimination\", \"discrimination\", \"discrimination\", \"doctor\", \"doctor\", \"doctor\", \"dollar\", \"dollar\", \"dollar\", \"dotdata\", \"dsg\", \"dsg\", \"edgecortix\", \"edgecortix\", \"educator\", \"educator\", \"educator\", \"enable\", \"enable\", \"enable\", \"endorse\", \"endorse\", \"endorse\", \"enterprise\", \"enterprise\", \"enterprise\", \"essay\", \"essay\", \"essay\", \"etf\", \"etf\", \"ev\", \"ev\", \"ev\", \"even\", \"even\", \"even\", \"exam\", \"exam\", \"exam\", \"example\", \"example\", \"example\", \"experience\", \"experience\", \"experience\", \"first\", \"first\", \"first\", \"forecast\", \"forecast\", \"forecast\", \"forecast_period\", \"forecast_period\", \"forecast_period\", \"friend\", \"friend\", \"friend\", \"gainshare\", \"get\", \"get\", \"get\", \"glaucoma\", \"gleamer\", \"gleamer\", \"global\", \"global\", \"global\", \"global_artificial\", \"global_artificial\", \"global_artificial\", \"global_artificial_intelligence\", \"global_artificial_intelligence\", \"global_artificial_intelligence\", \"google\", \"google\", \"google\", \"govee\", \"govee\", \"gpt\", \"gpt\", \"gpt\", \"gray\", \"gray\", \"gray\", \"grooper\", \"grooper\", \"group\", \"group\", \"group\", \"growth\", \"growth\", \"growth\", \"growth_factor\", \"growth_factor\", \"growth_factor\", \"growth_rate\", \"growth_rate\", \"growth_rate\", \"growth_trend\", \"growth_trend\", \"growth_trend\", \"hailo\", \"help\", \"help\", \"help\", \"holographic\", \"holographic\", \"holographic\", \"human\", \"human\", \"human\", \"image\", \"image\", \"image\", \"include\", \"include\", \"include\", \"industry\", \"industry\", \"industry\", \"intelligence\", \"intelligence\", \"intelligence\", \"intellishift\", \"intellishift\", \"key\", \"key\", \"key\", \"key_player\", \"key_player\", \"key_player\", \"knime\", \"knime\", \"laivly\", \"langchain\", \"lead\", \"lead\", \"lead\", \"leader\", \"leader\", \"leader\", \"leading_player\", \"leading_player\", \"learn\", \"learn\", \"learn\", \"letter\", \"letter\", \"letter\", \"live_broadcast\", \"loyalty_management\", \"loyalty_management\", \"lunit\", \"lunit\", \"make\", \"make\", \"make\", \"market\", \"market\", \"market\", \"market_analysis\", \"market_analysis\", \"market_report\", \"market_report\", \"market_report\", \"market_segmentation\", \"market_segmentation\", \"market_size\", \"market_size\", \"market_size\", \"marketbeat\", \"marketbeat\", \"matrix\", \"matrix\", \"matrix\", \"misinformation\", \"misinformation\", \"misuse\", \"misuse\", \"model\", \"model\", \"model\", \"moral\", \"moral\", \"nav\", \"need\", \"need\", \"need\", \"new\", \"new\", \"new\", \"npc\", \"npc\", \"npc\", \"oneflow\", \"onetrust\", \"openai\", \"openai\", \"openai\", \"operation\", \"operation\", \"operation\", \"opportunity\", \"opportunity\", \"opportunity\", \"optimus\", \"optimus\", \"organization\", \"organization\", \"organization\", \"outlook\", \"outlook\", \"outlook\", \"overjet\", \"overview\", \"overview\", \"overview\", \"paid_link\", \"palantir\", \"partner\", \"partner\", \"partner\", \"patient\", \"patient\", \"patient\", \"people\", \"people\", \"people\", \"person\", \"person\", \"person\", \"platform\", \"platform\", \"platform\", \"player\", \"player\", \"player\", \"press_release\", \"press_release\", \"press_release\", \"preview\", \"preview\", \"prnewswire\", \"prnewswire\", \"prnewswire\", \"process\", \"process\", \"process\", \"product\", \"product\", \"product\", \"product_type\", \"product_type\", \"provide\", \"provide\", \"provide\", \"psychedelic\", \"question\", \"question\", \"question\", \"recorded_future\", \"reflect\", \"reflect\", \"reflect\", \"region\", \"region\", \"region\", \"regional\", \"regional\", \"regional\", \"regional_analysis\", \"regional_analysis\", \"replicant\", \"replicant\", \"replit\", \"report\", \"report\", \"report\", \"report_cover\", \"report_cover\", \"report_include\", \"report_include\", \"research\", \"research\", \"research\", \"research_report\", \"research_report\", \"research_report\", \"restraint\", \"restraint\", \"restraint\", \"retailer\", \"retailer\", \"retailer\", \"revenue\", \"revenue\", \"revenue\", \"rewrite\", \"rewrite\", \"rewrite\", \"rsna\", \"s\", \"s\", \"s\", \"say\", \"say\", \"say\", \"school\", \"school\", \"school\", \"see\", \"see\", \"see\", \"segment\", \"segment\", \"segment\", \"segmentation\", \"segmentation\", \"segmentation\", \"service\", \"service\", \"service\", \"share\", \"share\", \"share\", \"shares_buyback\", \"shares_buyback\", \"shipium\", \"size\", \"size\", \"size\", \"size_share\", \"size_share\", \"slaughterbot\", \"software\", \"software\", \"software\", \"solution\", \"solution\", \"solution\", \"sometimes\", \"sometimes\", \"sometimes\", \"stable_diffusion\", \"starfille\", \"starfille\", \"student\", \"student\", \"student\", \"study\", \"study\", \"study\", \"subsegment\", \"subsegment\", \"support\", \"support\", \"support\", \"swot\", \"swot\", \"swot_analysis\", \"swot_analysis\", \"swot_analysis\", \"system\", \"system\", \"system\", \"take\", \"take\", \"take\", \"tanla\", \"teacher\", \"teacher\", \"teacher\", \"technology\", \"technology\", \"technology\", \"tell\", \"tell\", \"tell\", \"text\", \"text\", \"text\", \"th_suppli\", \"think\", \"think\", \"think\", \"tilda\", \"time\", \"time\", \"time\", \"tool\", \"tool\", \"tool\", \"top_manufacturer\", \"top_manufacturer\", \"top_player\", \"top_player\", \"tractable\", \"tractable\", \"trade\", \"trade\", \"trade\", \"train\", \"train\", \"train\", \"trend\", \"trend\", \"trend\", \"try\", \"try\", \"try\", \"turnitin\", \"type_application\", \"type_application\", \"ultrasight\", \"upcycle\", \"use\", \"use\", \"use\", \"user\", \"user\", \"user\", \"vanceai\", \"verbit\", \"way\", \"way\", \"way\", \"well\", \"well\", \"well\", \"work\", \"work\", \"work\", \"world\", \"world\", \"world\", \"write\", \"write\", \"write\", \"writing\", \"writing\", \"writing\", \"wrong\", \"wrong\", \"wrong\", \"year\", \"year\", \"year\", \"zenarate\"]}, \"R\": 30, \"lambda.step\": 0.01, \"plot.opts\": {\"xlab\": \"PC1\", \"ylab\": \"PC2\"}, \"topic.order\": [1, 2, 3]};\n",
       "\n",
       "function LDAvis_load_lib(url, callback){\n",
       "  var s = document.createElement('script');\n",
       "  s.src = url;\n",
       "  s.async = true;\n",
       "  s.onreadystatechange = s.onload = callback;\n",
       "  s.onerror = function(){console.warn(\"failed to load library \" + url);};\n",
       "  document.getElementsByTagName(\"head\")[0].appendChild(s);\n",
       "}\n",
       "\n",
       "if(typeof(LDAvis) !== \"undefined\"){\n",
       "   // already loaded: just create the visualization\n",
       "   !function(LDAvis){\n",
       "       new LDAvis(\"#\" + \"ldavis_el3298875701625125787785112\", ldavis_el3298875701625125787785112_data);\n",
       "   }(LDAvis);\n",
       "}else if(typeof define === \"function\" && define.amd){\n",
       "   // require.js is available: use it to load d3/LDAvis\n",
       "   require.config({paths: {d3: \"https://d3js.org/d3.v5\"}});\n",
       "   require([\"d3\"], function(d3){\n",
       "      window.d3 = d3;\n",
       "      LDAvis_load_lib(\"https://cdn.jsdelivr.net/gh/bmabey/pyLDAvis@3.4.0/pyLDAvis/js/ldavis.v3.0.0.js\", function(){\n",
       "        new LDAvis(\"#\" + \"ldavis_el3298875701625125787785112\", ldavis_el3298875701625125787785112_data);\n",
       "      });\n",
       "    });\n",
       "}else{\n",
       "    // require.js not available: dynamically load d3 & LDAvis\n",
       "    LDAvis_load_lib(\"https://d3js.org/d3.v5.js\", function(){\n",
       "         LDAvis_load_lib(\"https://cdn.jsdelivr.net/gh/bmabey/pyLDAvis@3.4.0/pyLDAvis/js/ldavis.v3.0.0.js\", function(){\n",
       "                 new LDAvis(\"#\" + \"ldavis_el3298875701625125787785112\", ldavis_el3298875701625125787785112_data);\n",
       "            })\n",
       "         });\n",
       "}\n",
       "</script>"
      ],
      "text/plain": [
       "<IPython.core.display.HTML object>"
      ]
     },
     "execution_count": 22,
     "metadata": {},
     "output_type": "execute_result"
    }
   ],
   "source": [
    "%%time\n",
    "\n",
    "lda_display_text_tuned = pyLDAvis.gensim.prepare(lda_model_text_tuned, text_doc_term_matrix, text_dict, sort_topics=False, mds='mmds')\n",
    "\n",
    "pyLDAvis.display(lda_display_text_tuned)"
   ]
  }
 ],
 "metadata": {
  "kernelspec": {
   "display_name": "Python 3",
   "language": "python",
   "name": "python3"
  },
  "language_info": {
   "codemirror_mode": {
    "name": "ipython",
    "version": 3
   },
   "file_extension": ".py",
   "mimetype": "text/x-python",
   "name": "python",
   "nbconvert_exporter": "python",
   "pygments_lexer": "ipython3",
   "version": "3.9.16"
  },
  "orig_nbformat": 4
 },
 "nbformat": 4,
 "nbformat_minor": 2
}
