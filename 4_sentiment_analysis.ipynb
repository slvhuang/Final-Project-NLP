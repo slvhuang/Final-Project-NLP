{
 "cells": [
  {
   "attachments": {},
   "cell_type": "markdown",
   "metadata": {},
   "source": [
    "# MSCA 32018 Natural Language Processing and Cognitive Computing\n",
    "## Final Project - Sentiment Analysis\n",
    "### Customized model on open-source data\n",
    "\n",
    "Shijia Huang\n",
    "\n",
    "-----"
   ]
  },
  {
   "cell_type": "code",
   "execution_count": 1,
   "metadata": {},
   "outputs": [],
   "source": [
    "#!pip install -r requirements.txt"
   ]
  },
  {
   "cell_type": "code",
   "execution_count": 2,
   "metadata": {},
   "outputs": [],
   "source": [
    "# Import basic libraries\n",
    "import time\n",
    "import pandas as pd\n",
    "import numpy as np\n",
    "import seaborn as sns\n",
    "import matplotlib.pyplot as plt \n",
    "\n",
    "%matplotlib inline"
   ]
  },
  {
   "cell_type": "code",
   "execution_count": 3,
   "metadata": {},
   "outputs": [],
   "source": [
    "import warnings\n",
    "warnings.filterwarnings('ignore')\n",
    "pd.set_option('display.max_rows', 100)\n",
    "pd.set_option('display.max_columns', None)\n",
    "pd.set_option('display.max_colwidth', 500)"
   ]
  },
  {
   "cell_type": "code",
   "execution_count": 4,
   "metadata": {},
   "outputs": [
    {
     "name": "stderr",
     "output_type": "stream",
     "text": [
      "2023-05-20 16:24:30.413693: I tensorflow/core/platform/cpu_feature_guard.cc:182] This TensorFlow binary is optimized to use available CPU instructions in performance-critical operations.\n",
      "To enable the following instructions: AVX2 FMA, in other operations, rebuild TensorFlow with the appropriate compiler flags.\n"
     ]
    },
    {
     "name": "stdout",
     "output_type": "stream",
     "text": [
      "3.5.2\n"
     ]
    }
   ],
   "source": [
    "# Import NLP libraries\n",
    "import re\n",
    "import nltk\n",
    "from nltk.corpus import stopwords\n",
    "from nltk.stem import WordNetLemmatizer\n",
    "from nltk.tokenize import word_tokenize\n",
    "from sklearn.feature_extraction.text import CountVectorizer, TfidfVectorizer\n",
    "\n",
    "from pprint import pprint\n",
    "import string\n",
    "from rake_nltk import Rake\n",
    "\n",
    "import eli5\n",
    "import pickle\n",
    "\n",
    "import spacy\n",
    "from spacy import displacy\n",
    "from spacy.util import minibatch, compounding\n",
    "spacy.prefer_gpu()\n",
    "print(spacy.__version__)\n",
    "\n",
    "import gensim\n",
    "from gensim import corpora, models\n",
    "from gensim.utils import simple_preprocess\n",
    "from gensim.models.ldamulticore import LdaMulticore\n",
    "from gensim.models import CoherenceModel\n",
    "\n",
    "import pyLDAvis\n",
    "import pyLDAvis.gensim as gensimvis\n",
    "#import pyLDAvis.gensim_models as gensimvis\n",
    "pyLDAvis.enable_notebook()"
   ]
  },
  {
   "cell_type": "code",
   "execution_count": 5,
   "metadata": {},
   "outputs": [],
   "source": [
    "# Import sklearn libraries\n",
    "import sklearn\n",
    "import imblearn\n",
    "from imblearn.over_sampling import SMOTE\n",
    "from sklearn.model_selection import train_test_split\n",
    "from sklearn.feature_extraction.text import CountVectorizer\n",
    "from sklearn.metrics import confusion_matrix, classification_report, accuracy_score\n",
    "from sklearn.naive_bayes import MultinomialNB\n",
    "from sklearn.linear_model import LogisticRegression, SGDClassifier"
   ]
  },
  {
   "cell_type": "code",
   "execution_count": 6,
   "metadata": {},
   "outputs": [
    {
     "name": "stdout",
     "output_type": "stream",
     "text": [
      "Available CPUs: 12\n"
     ]
    }
   ],
   "source": [
    "import multiprocessing as mp\n",
    "\n",
    "num_processors = mp.cpu_count()\n",
    "print(f'Available CPUs: {num_processors}')"
   ]
  },
  {
   "attachments": {},
   "cell_type": "markdown",
   "metadata": {},
   "source": [
    "### Read Cleaned New Articles"
   ]
  },
  {
   "cell_type": "code",
   "execution_count": 7,
   "metadata": {},
   "outputs": [
    {
     "name": "stdout",
     "output_type": "stream",
     "text": [
      "CPU times: user 1min 14s, sys: 25.5 s, total: 1min 40s\n",
      "Wall time: 2min 37s\n"
     ]
    },
    {
     "data": {
      "text/plain": [
       "(154283, 10)"
      ]
     },
     "execution_count": 7,
     "metadata": {},
     "output_type": "execute_result"
    }
   ],
   "source": [
    "%%time\n",
    "\n",
    "# GCP version\n",
    "path = \"gs://nlp-final-project-data/data/\"\n",
    "df_news = pd.read_parquet(path + 'news_filtered.parquet', engine='pyarrow')\n",
    "df_news.shape"
   ]
  },
  {
   "cell_type": "code",
   "execution_count": 8,
   "metadata": {},
   "outputs": [
    {
     "name": "stdout",
     "output_type": "stream",
     "text": [
      "<class 'pandas.core.frame.DataFrame'>\n",
      "RangeIndex: 154283 entries, 0 to 154282\n",
      "Data columns (total 10 columns):\n",
      " #   Column            Non-Null Count   Dtype \n",
      "---  ------            --------------   ----- \n",
      " 0   id                154283 non-null  int64 \n",
      " 1   date              154283 non-null  object\n",
      " 2   cleaned title     154283 non-null  object\n",
      " 3   cleaned text      154283 non-null  object\n",
      " 4   title_tokens      154283 non-null  object\n",
      " 5   title_lemmatized  154283 non-null  object\n",
      " 6   text_tokens       154283 non-null  object\n",
      " 7   text_lemmatized   154283 non-null  object\n",
      " 8   title_keywords    154283 non-null  object\n",
      " 9   text_keywords     154283 non-null  object\n",
      "dtypes: int64(1), object(9)\n",
      "memory usage: 11.8+ MB\n"
     ]
    }
   ],
   "source": [
    "df_news.info()"
   ]
  },
  {
   "cell_type": "code",
   "execution_count": 9,
   "metadata": {},
   "outputs": [
    {
     "data": {
      "text/html": [
       "<div>\n",
       "<style scoped>\n",
       "    .dataframe tbody tr th:only-of-type {\n",
       "        vertical-align: middle;\n",
       "    }\n",
       "\n",
       "    .dataframe tbody tr th {\n",
       "        vertical-align: top;\n",
       "    }\n",
       "\n",
       "    .dataframe thead th {\n",
       "        text-align: right;\n",
       "    }\n",
       "</style>\n",
       "<table border=\"1\" class=\"dataframe\">\n",
       "  <thead>\n",
       "    <tr style=\"text-align: right;\">\n",
       "      <th></th>\n",
       "      <th>id</th>\n",
       "      <th>date</th>\n",
       "      <th>cleaned title</th>\n",
       "      <th>cleaned text</th>\n",
       "      <th>title_tokens</th>\n",
       "      <th>title_lemmatized</th>\n",
       "      <th>text_tokens</th>\n",
       "      <th>text_lemmatized</th>\n",
       "      <th>title_keywords</th>\n",
       "      <th>text_keywords</th>\n",
       "    </tr>\n",
       "  </thead>\n",
       "  <tbody>\n",
       "    <tr>\n",
       "      <th>0</th>\n",
       "      <td>1</td>\n",
       "      <td>2020-02-27</td>\n",
       "      <td>Children With Autism Saw Their Learning and Social Skills Boosted After Playing With This AI Robot</td>\n",
       "      <td>Children With Autism Saw Their Learning and Social Skills Boosted After Playing With This AI Robot admin  Latest posts by admin see all  Mansplaining in conferences: How can we get him to forestall  February 27, 2020 Coronavirus Could Explode in the U.S. Overnight Like it Did in Italy  February 27, 2020 Levi Strauss marks the next phase in corporate paid leave policies  February 27, 2020 Scientists who designed an artificially clever robotic that helped youngsters with autism spice up their ...</td>\n",
       "      <td>[children, autism, saw, learning, social, skills, boosted, playing, ai, robot, children, autism, saw, learning, social, skills, boosted, playing, ai, robot, children, autism, saw, learning, social, skills, boosted, playing, ai_robot]</td>\n",
       "      <td>[child, autism, see, learn, social, skill, boost, play, robot, child, autism, see, learn, social, skill, boost, play, robot, child, autism, see, learn, social, skill, boost, play, ai_robot]</td>\n",
       "      <td>[children, autism, saw, learning, social, skills, boosted, playing, ai, robot, admin, latest, posts, admin, see, mansplaining, conferences, get, forestall, february, coronavirus, could, explode, overnight, like, italy, february, levi, strauss, marks, next, phase, corporate, paid, leave, policies, february, scientists, designed, artificially, clever, robotic, helped, youngsters, autism, spice, studying, social, talents, hope, era, may, future, help, others, developmental, dysfunction, learn, ...</td>\n",
       "      <td>[child, autism, see, learn, social, skill, boost, play, robot, late, post, admin, see, mansplaining, conference, get, explode, overnight, mark, next, phase, corporate, pay, leave, policy, scientist, design, artificially, clever, robotic, help, youngster, autism, spice, study, social, talent, era, future, help, other, developmental, dysfunction, learn, notice, youngster, gentle, average, autism, take, domestic, s, refer, socially, assistive, robotic, name, kiwi, month, accord, commentary, way...</td>\n",
       "      <td>[social, skill, see, play, learn, child, boost, autism, robot, ai_robot]</td>\n",
       "      <td>[robotic, youngster, kid, child, kiwi, market, autism, learn, crew, talent]</td>\n",
       "    </tr>\n",
       "    <tr>\n",
       "      <th>1</th>\n",
       "      <td>2</td>\n",
       "      <td>2021-03-26</td>\n",
       "      <td>Forget ML, AI and Industry 4.0 – obsolescence should be your focus</td>\n",
       "      <td>Forget ML, AI and Industry 4.0  obsolescence should be your focus The world entered a new era of accelerated transformation in the last eighteen months that will continue to evolve and press forward for years to come. Most businesses are playing catchup trying to make sense of a new timeline where the ten years that had been set aside for careful planning and implementation of what was coming up next no longer exists. The next is happening now and, regardless of your industry or seniority, t...</td>\n",
       "      <td>[forget, ml, ai, industry, obsolescence, focus, forget, ml, ai, industry, obsolescence, focus, forget, ml, ai, industry, obsolescence, focus]</td>\n",
       "      <td>[forget, ml, ai, industry, obsolescence, focus, forget, ml, ai, industry, obsolescence, focus, forget, ml, ai, industry, obsolescence, focus]</td>\n",
       "      <td>[forget, ml, ai, industry, obsolescence, focus, world, entered, new, era, accelerated, transformation, last, eighteen, months, continue, evolve, press, forward, years, come, businesses, playing, catchup, trying, make, sense, new, timeline, ten, years, set, aside, careful, planning, implementation, coming, next, longer, exists, next, happening, regardless, industry, seniority, status, quo, shifted, better, face, back, invited, attend, pompous, meeting, london, brazilian, embassy, along, selec...</td>\n",
       "      <td>[forget, ai, industry, obsolescence, focus, world, enter, new, era, accelerate, transformation, last, month, continue, evolve, press, forward, year, come, business, play, catchup, try, make, sense, new, timeline, year, set, aside, careful, planning, implementation, come, next, long, exist, next, happen, regardless, industry, seniority, status, quo, shift, well, face, back, invite, attend, pompous, meeting, brazilian, embassy, select, lead, name, oil, energy, industry, get, update, go, happen...</td>\n",
       "      <td>[obsolescence, ml, industry, forget, focus, ai]</td>\n",
       "      <td>[electronic, come, card, industry, repair, new, system, require, test, business]</td>\n",
       "    </tr>\n",
       "  </tbody>\n",
       "</table>\n",
       "</div>"
      ],
      "text/plain": [
       "   id        date   \n",
       "0   1  2020-02-27  \\\n",
       "1   2  2021-03-26   \n",
       "\n",
       "                                                                                        cleaned title   \n",
       "0  Children With Autism Saw Their Learning and Social Skills Boosted After Playing With This AI Robot  \\\n",
       "1                                  Forget ML, AI and Industry 4.0 – obsolescence should be your focus   \n",
       "\n",
       "                                                                                                                                                                                                                                                                                                                                                                                                                                                                                                          cleaned text   \n",
       "0  Children With Autism Saw Their Learning and Social Skills Boosted After Playing With This AI Robot admin  Latest posts by admin see all  Mansplaining in conferences: How can we get him to forestall  February 27, 2020 Coronavirus Could Explode in the U.S. Overnight Like it Did in Italy  February 27, 2020 Levi Strauss marks the next phase in corporate paid leave policies  February 27, 2020 Scientists who designed an artificially clever robotic that helped youngsters with autism spice up their ...  \\\n",
       "1  Forget ML, AI and Industry 4.0  obsolescence should be your focus The world entered a new era of accelerated transformation in the last eighteen months that will continue to evolve and press forward for years to come. Most businesses are playing catchup trying to make sense of a new timeline where the ten years that had been set aside for careful planning and implementation of what was coming up next no longer exists. The next is happening now and, regardless of your industry or seniority, t...   \n",
       "\n",
       "                                                                                                                                                                                                                                title_tokens   \n",
       "0  [children, autism, saw, learning, social, skills, boosted, playing, ai, robot, children, autism, saw, learning, social, skills, boosted, playing, ai, robot, children, autism, saw, learning, social, skills, boosted, playing, ai_robot]  \\\n",
       "1                                                                                              [forget, ml, ai, industry, obsolescence, focus, forget, ml, ai, industry, obsolescence, focus, forget, ml, ai, industry, obsolescence, focus]   \n",
       "\n",
       "                                                                                                                                                                                title_lemmatized   \n",
       "0  [child, autism, see, learn, social, skill, boost, play, robot, child, autism, see, learn, social, skill, boost, play, robot, child, autism, see, learn, social, skill, boost, play, ai_robot]  \\\n",
       "1                                                  [forget, ml, ai, industry, obsolescence, focus, forget, ml, ai, industry, obsolescence, focus, forget, ml, ai, industry, obsolescence, focus]   \n",
       "\n",
       "                                                                                                                                                                                                                                                                                                                                                                                                                                                                                                           text_tokens   \n",
       "0  [children, autism, saw, learning, social, skills, boosted, playing, ai, robot, admin, latest, posts, admin, see, mansplaining, conferences, get, forestall, february, coronavirus, could, explode, overnight, like, italy, february, levi, strauss, marks, next, phase, corporate, paid, leave, policies, february, scientists, designed, artificially, clever, robotic, helped, youngsters, autism, spice, studying, social, talents, hope, era, may, future, help, others, developmental, dysfunction, learn, ...  \\\n",
       "1  [forget, ml, ai, industry, obsolescence, focus, world, entered, new, era, accelerated, transformation, last, eighteen, months, continue, evolve, press, forward, years, come, businesses, playing, catchup, trying, make, sense, new, timeline, ten, years, set, aside, careful, planning, implementation, coming, next, longer, exists, next, happening, regardless, industry, seniority, status, quo, shifted, better, face, back, invited, attend, pompous, meeting, london, brazilian, embassy, along, selec...   \n",
       "\n",
       "                                                                                                                                                                                                                                                                                                                                                                                                                                                                                                       text_lemmatized   \n",
       "0  [child, autism, see, learn, social, skill, boost, play, robot, late, post, admin, see, mansplaining, conference, get, explode, overnight, mark, next, phase, corporate, pay, leave, policy, scientist, design, artificially, clever, robotic, help, youngster, autism, spice, study, social, talent, era, future, help, other, developmental, dysfunction, learn, notice, youngster, gentle, average, autism, take, domestic, s, refer, socially, assistive, robotic, name, kiwi, month, accord, commentary, way...  \\\n",
       "1  [forget, ai, industry, obsolescence, focus, world, enter, new, era, accelerate, transformation, last, month, continue, evolve, press, forward, year, come, business, play, catchup, try, make, sense, new, timeline, year, set, aside, careful, planning, implementation, come, next, long, exist, next, happen, regardless, industry, seniority, status, quo, shift, well, face, back, invite, attend, pompous, meeting, brazilian, embassy, select, lead, name, oil, energy, industry, get, update, go, happen...   \n",
       "\n",
       "                                                             title_keywords   \n",
       "0  [social, skill, see, play, learn, child, boost, autism, robot, ai_robot]  \\\n",
       "1                           [obsolescence, ml, industry, forget, focus, ai]   \n",
       "\n",
       "                                                                      text_keywords  \n",
       "0       [robotic, youngster, kid, child, kiwi, market, autism, learn, crew, talent]  \n",
       "1  [electronic, come, card, industry, repair, new, system, require, test, business]  "
      ]
     },
     "execution_count": 9,
     "metadata": {},
     "output_type": "execute_result"
    }
   ],
   "source": [
    "df_news.head(2)"
   ]
  },
  {
   "cell_type": "code",
   "execution_count": 10,
   "metadata": {},
   "outputs": [
    {
     "data": {
      "text/plain": [
       "(154283, 10)"
      ]
     },
     "execution_count": 10,
     "metadata": {},
     "output_type": "execute_result"
    }
   ],
   "source": [
    "### SAMPLE DATA\n",
    "# df_news = df_news.sample(frac=0.1, random_state=2023)\n",
    "df_news.shape"
   ]
  },
  {
   "cell_type": "code",
   "execution_count": 11,
   "metadata": {},
   "outputs": [
    {
     "name": "stdout",
     "output_type": "stream",
     "text": [
      "CPU times: user 3 µs, sys: 2 µs, total: 5 µs\n",
      "Wall time: 9.06 µs\n"
     ]
    }
   ],
   "source": [
    "%%time\n",
    "\n",
    "# save sample data as parquet file\n",
    "# path = \"gs://nlp-final-project-data/sample/\"\n",
    "# df_news.to_parquet(path + 'news_sampled.parquet', engine='pyarrow')"
   ]
  },
  {
   "attachments": {},
   "cell_type": "markdown",
   "metadata": {},
   "source": [
    "## Data Preparation"
   ]
  },
  {
   "attachments": {},
   "cell_type": "markdown",
   "metadata": {},
   "source": [
    "### Load Open Source Data\n",
    "Public Perception of AI Dataset: https://www.kaggle.com/datasets/saurabhshahane/public-perception-of-ai"
   ]
  },
  {
   "cell_type": "code",
   "execution_count": 12,
   "metadata": {},
   "outputs": [
    {
     "data": {
      "text/plain": [
       "(17073, 27)"
      ]
     },
     "execution_count": 12,
     "metadata": {},
     "output_type": "execute_result"
    }
   ],
   "source": [
    "df_ai_news = pd.read_csv('gs://nlp-final-project-data/data/robot-ai-all-public.csv')\n",
    "df_ai_news.shape"
   ]
  },
  {
   "cell_type": "code",
   "execution_count": 13,
   "metadata": {},
   "outputs": [
    {
     "name": "stdout",
     "output_type": "stream",
     "text": [
      "<class 'pandas.core.frame.DataFrame'>\n",
      "RangeIndex: 17073 entries, 0 to 17072\n",
      "Data columns (total 27 columns):\n",
      " #   Column                     Non-Null Count  Dtype \n",
      "---  ------                     --------------  ----- \n",
      " 0   Article ID                 17073 non-null  object\n",
      " 1   Article Date               9129 non-null   object\n",
      " 2   Paragraph number           17073 non-null  object\n",
      " 3   NYT section                17061 non-null  object\n",
      " 4   Paragraph                  17061 non-null  object\n",
      " 5   Title                      17070 non-null  object\n",
      " 6   WorkTimeInSeconds          17073 non-null  int64 \n",
      " 7   AI Mood                    17073 non-null  int64 \n",
      " 8   AI Relevance               17073 non-null  int64 \n",
      " 9   Fiction                    17073 non-null  int64 \n",
      " 10  Controling AI (negative)   17073 non-null  int64 \n",
      " 11  Cyborg (negative)          17073 non-null  int64 \n",
      " 12  Ethics (negative)          17073 non-null  int64 \n",
      " 13  Military (negative)        17073 non-null  int64 \n",
      " 14  Progress (negative)        17073 non-null  int64 \n",
      " 15  Singularity (negative)     17073 non-null  int64 \n",
      " 16  Work (negative)            17073 non-null  int64 \n",
      " 17  Other (negative)           17073 non-null  object\n",
      " 18  Cyborg (positive)          17073 non-null  int64 \n",
      " 19  Decisions (positive)       17073 non-null  int64 \n",
      " 20  Education (positive)       17073 non-null  int64 \n",
      " 21  Entertain (positive)       17073 non-null  int64 \n",
      " 22  Healthcare (positive)      17073 non-null  int64 \n",
      " 23  Singularity (positive)     17073 non-null  int64 \n",
      " 24  Transportation (positive)  17073 non-null  int64 \n",
      " 25  Work (positive)            17073 non-null  int64 \n",
      " 26  Other (positive)           17073 non-null  object\n",
      "dtypes: int64(19), object(8)\n",
      "memory usage: 3.5+ MB\n"
     ]
    }
   ],
   "source": [
    "df_ai_news.info()"
   ]
  },
  {
   "cell_type": "code",
   "execution_count": 14,
   "metadata": {},
   "outputs": [
    {
     "data": {
      "text/html": [
       "<div>\n",
       "<style scoped>\n",
       "    .dataframe tbody tr th:only-of-type {\n",
       "        vertical-align: middle;\n",
       "    }\n",
       "\n",
       "    .dataframe tbody tr th {\n",
       "        vertical-align: top;\n",
       "    }\n",
       "\n",
       "    .dataframe thead th {\n",
       "        text-align: right;\n",
       "    }\n",
       "</style>\n",
       "<table border=\"1\" class=\"dataframe\">\n",
       "  <thead>\n",
       "    <tr style=\"text-align: right;\">\n",
       "      <th></th>\n",
       "      <th>Article ID</th>\n",
       "      <th>Article Date</th>\n",
       "      <th>Paragraph number</th>\n",
       "      <th>NYT section</th>\n",
       "      <th>Paragraph</th>\n",
       "      <th>Title</th>\n",
       "      <th>WorkTimeInSeconds</th>\n",
       "      <th>AI Mood</th>\n",
       "      <th>AI Relevance</th>\n",
       "      <th>Fiction</th>\n",
       "      <th>Controling AI (negative)</th>\n",
       "      <th>Cyborg (negative)</th>\n",
       "      <th>Ethics (negative)</th>\n",
       "      <th>Military (negative)</th>\n",
       "      <th>Progress (negative)</th>\n",
       "      <th>Singularity (negative)</th>\n",
       "      <th>Work (negative)</th>\n",
       "      <th>Other (negative)</th>\n",
       "      <th>Cyborg (positive)</th>\n",
       "      <th>Decisions (positive)</th>\n",
       "      <th>Education (positive)</th>\n",
       "      <th>Entertain (positive)</th>\n",
       "      <th>Healthcare (positive)</th>\n",
       "      <th>Singularity (positive)</th>\n",
       "      <th>Transportation (positive)</th>\n",
       "      <th>Work (positive)</th>\n",
       "      <th>Other (positive)</th>\n",
       "    </tr>\n",
       "  </thead>\n",
       "  <tbody>\n",
       "    <tr>\n",
       "      <th>0</th>\n",
       "      <td>4fd1cbc98eb7c8105d701286</td>\n",
       "      <td>1996-10-06 00:00:00 UTC</td>\n",
       "      <td>18</td>\n",
       "      <td>New York and Region</td>\n",
       "      <td>Thus, next weekend will feature the robot who is named Sico (pronounced SEE-co). ''He can speak seven languages,'' Ms. Finkel said, ''and he interacts. Whatever language you speak he can speak.'' Of course he has never spoken to a Long Islander. No one is quite sure how he will interpret the Long Island accent.</td>\n",
       "      <td>LONG ISLAND JOURNAL</td>\n",
       "      <td>1472</td>\n",
       "      <td>4</td>\n",
       "      <td>5</td>\n",
       "      <td>0</td>\n",
       "      <td>0</td>\n",
       "      <td>0</td>\n",
       "      <td>0</td>\n",
       "      <td>0</td>\n",
       "      <td>0</td>\n",
       "      <td>0</td>\n",
       "      <td>0</td>\n",
       "      <td>{}</td>\n",
       "      <td>0</td>\n",
       "      <td>0</td>\n",
       "      <td>0</td>\n",
       "      <td>0</td>\n",
       "      <td>0</td>\n",
       "      <td>0</td>\n",
       "      <td>0</td>\n",
       "      <td>0</td>\n",
       "      <td>{}</td>\n",
       "    </tr>\n",
       "    <tr>\n",
       "      <th>1</th>\n",
       "      <td>4fd1cbc98eb7c8105d701286</td>\n",
       "      <td>1996-10-06 00:00:00 UTC</td>\n",
       "      <td>18</td>\n",
       "      <td>New York and Region</td>\n",
       "      <td>Thus, next weekend will feature the robot who is named Sico (pronounced SEE-co). ''He can speak seven languages,'' Ms. Finkel said, ''and he interacts. Whatever language you speak he can speak.'' Of course he has never spoken to a Long Islander. No one is quite sure how he will interpret the Long Island accent.</td>\n",
       "      <td>LONG ISLAND JOURNAL</td>\n",
       "      <td>49</td>\n",
       "      <td>4</td>\n",
       "      <td>5</td>\n",
       "      <td>0</td>\n",
       "      <td>0</td>\n",
       "      <td>0</td>\n",
       "      <td>0</td>\n",
       "      <td>0</td>\n",
       "      <td>0</td>\n",
       "      <td>0</td>\n",
       "      <td>0</td>\n",
       "      <td>{}</td>\n",
       "      <td>0</td>\n",
       "      <td>0</td>\n",
       "      <td>0</td>\n",
       "      <td>0</td>\n",
       "      <td>0</td>\n",
       "      <td>0</td>\n",
       "      <td>0</td>\n",
       "      <td>0</td>\n",
       "      <td>{}</td>\n",
       "    </tr>\n",
       "  </tbody>\n",
       "</table>\n",
       "</div>"
      ],
      "text/plain": [
       "                 Article ID             Article Date Paragraph number   \n",
       "0  4fd1cbc98eb7c8105d701286  1996-10-06 00:00:00 UTC               18  \\\n",
       "1  4fd1cbc98eb7c8105d701286  1996-10-06 00:00:00 UTC               18   \n",
       "\n",
       "           NYT section   \n",
       "0  New York and Region  \\\n",
       "1  New York and Region   \n",
       "\n",
       "                                                                                                                                                                                                                                                                                                                  Paragraph   \n",
       "0  Thus, next weekend will feature the robot who is named Sico (pronounced SEE-co). ''He can speak seven languages,'' Ms. Finkel said, ''and he interacts. Whatever language you speak he can speak.'' Of course he has never spoken to a Long Islander. No one is quite sure how he will interpret the Long Island accent.  \\\n",
       "1  Thus, next weekend will feature the robot who is named Sico (pronounced SEE-co). ''He can speak seven languages,'' Ms. Finkel said, ''and he interacts. Whatever language you speak he can speak.'' Of course he has never spoken to a Long Islander. No one is quite sure how he will interpret the Long Island accent.   \n",
       "\n",
       "                 Title  WorkTimeInSeconds  AI Mood  AI Relevance  Fiction   \n",
       "0  LONG ISLAND JOURNAL               1472        4             5        0  \\\n",
       "1  LONG ISLAND JOURNAL                 49        4             5        0   \n",
       "\n",
       "   Controling AI (negative)  Cyborg (negative)  Ethics (negative)   \n",
       "0                         0                  0                  0  \\\n",
       "1                         0                  0                  0   \n",
       "\n",
       "   Military (negative)  Progress (negative)  Singularity (negative)   \n",
       "0                    0                    0                       0  \\\n",
       "1                    0                    0                       0   \n",
       "\n",
       "   Work (negative) Other (negative)  Cyborg (positive)  Decisions (positive)   \n",
       "0                0               {}                  0                     0  \\\n",
       "1                0               {}                  0                     0   \n",
       "\n",
       "   Education (positive)  Entertain (positive)  Healthcare (positive)   \n",
       "0                     0                     0                      0  \\\n",
       "1                     0                     0                      0   \n",
       "\n",
       "   Singularity (positive)  Transportation (positive)  Work (positive)   \n",
       "0                       0                          0                0  \\\n",
       "1                       0                          0                0   \n",
       "\n",
       "  Other (positive)  \n",
       "0               {}  \n",
       "1               {}  "
      ]
     },
     "execution_count": 14,
     "metadata": {},
     "output_type": "execute_result"
    }
   ],
   "source": [
    "df_ai_news.head(2)"
   ]
  },
  {
   "attachments": {},
   "cell_type": "markdown",
   "metadata": {},
   "source": [
    "### Data Preprocessing"
   ]
  },
  {
   "cell_type": "code",
   "execution_count": 15,
   "metadata": {},
   "outputs": [
    {
     "data": {
      "text/plain": [
       "Article ID                      0\n",
       "Article Date                 7944\n",
       "Paragraph number                0\n",
       "NYT section                    12\n",
       "Paragraph                      12\n",
       "Title                           3\n",
       "WorkTimeInSeconds               0\n",
       "AI Mood                         0\n",
       "AI Relevance                    0\n",
       "Fiction                         0\n",
       "Controling AI (negative)        0\n",
       "Cyborg (negative)               0\n",
       "Ethics (negative)               0\n",
       "Military (negative)             0\n",
       "Progress (negative)             0\n",
       "Singularity (negative)          0\n",
       "Work (negative)                 0\n",
       "Other (negative)                0\n",
       "Cyborg (positive)               0\n",
       "Decisions (positive)            0\n",
       "Education (positive)            0\n",
       "Entertain (positive)            0\n",
       "Healthcare (positive)           0\n",
       "Singularity (positive)          0\n",
       "Transportation (positive)       0\n",
       "Work (positive)                 0\n",
       "Other (positive)                0\n",
       "dtype: int64"
      ]
     },
     "execution_count": 15,
     "metadata": {},
     "output_type": "execute_result"
    }
   ],
   "source": [
    "# check for null values\n",
    "df_ai_news.isnull().sum()"
   ]
  },
  {
   "cell_type": "code",
   "execution_count": 16,
   "metadata": {},
   "outputs": [
    {
     "data": {
      "text/plain": [
       "(4940, 25)"
      ]
     },
     "execution_count": 16,
     "metadata": {},
     "output_type": "execute_result"
    }
   ],
   "source": [
    "# drop null text values\n",
    "df_ai_news.dropna(subset=['Paragraph'], inplace=True)\n",
    "\n",
    "# drop columns with too many null values\n",
    "df_ai_news.drop(columns=['Article Date', 'WorkTimeInSeconds'], inplace=True)\n",
    "\n",
    "# drop duplicate texts\n",
    "df_ai_news.drop_duplicates(subset=['Paragraph'], inplace=True)\n",
    "\n",
    "# Phrase paragraph as string\n",
    "df_ai_news['Paragraph'] = df_ai_news['Paragraph'].astype(str)\n",
    "\n",
    "df_ai_news.shape"
   ]
  },
  {
   "cell_type": "code",
   "execution_count": 17,
   "metadata": {},
   "outputs": [
    {
     "data": {
      "text/html": [
       "<div>\n",
       "<style scoped>\n",
       "    .dataframe tbody tr th:only-of-type {\n",
       "        vertical-align: middle;\n",
       "    }\n",
       "\n",
       "    .dataframe tbody tr th {\n",
       "        vertical-align: top;\n",
       "    }\n",
       "\n",
       "    .dataframe thead th {\n",
       "        text-align: right;\n",
       "    }\n",
       "</style>\n",
       "<table border=\"1\" class=\"dataframe\">\n",
       "  <thead>\n",
       "    <tr style=\"text-align: right;\">\n",
       "      <th></th>\n",
       "      <th>count</th>\n",
       "      <th>mean</th>\n",
       "      <th>std</th>\n",
       "      <th>min</th>\n",
       "      <th>25%</th>\n",
       "      <th>50%</th>\n",
       "      <th>75%</th>\n",
       "      <th>max</th>\n",
       "    </tr>\n",
       "  </thead>\n",
       "  <tbody>\n",
       "    <tr>\n",
       "      <th>AI Mood</th>\n",
       "      <td>4940.0</td>\n",
       "      <td>3.271</td>\n",
       "      <td>0.816</td>\n",
       "      <td>1.0</td>\n",
       "      <td>3.0</td>\n",
       "      <td>3.0</td>\n",
       "      <td>4.0</td>\n",
       "      <td>5.0</td>\n",
       "    </tr>\n",
       "    <tr>\n",
       "      <th>AI Relevance</th>\n",
       "      <td>4940.0</td>\n",
       "      <td>3.822</td>\n",
       "      <td>1.262</td>\n",
       "      <td>1.0</td>\n",
       "      <td>3.0</td>\n",
       "      <td>4.0</td>\n",
       "      <td>5.0</td>\n",
       "      <td>5.0</td>\n",
       "    </tr>\n",
       "    <tr>\n",
       "      <th>Fiction</th>\n",
       "      <td>4940.0</td>\n",
       "      <td>0.077</td>\n",
       "      <td>0.266</td>\n",
       "      <td>0.0</td>\n",
       "      <td>0.0</td>\n",
       "      <td>0.0</td>\n",
       "      <td>0.0</td>\n",
       "      <td>1.0</td>\n",
       "    </tr>\n",
       "    <tr>\n",
       "      <th>Controling AI (negative)</th>\n",
       "      <td>4940.0</td>\n",
       "      <td>0.025</td>\n",
       "      <td>0.155</td>\n",
       "      <td>0.0</td>\n",
       "      <td>0.0</td>\n",
       "      <td>0.0</td>\n",
       "      <td>0.0</td>\n",
       "      <td>1.0</td>\n",
       "    </tr>\n",
       "    <tr>\n",
       "      <th>Cyborg (negative)</th>\n",
       "      <td>4940.0</td>\n",
       "      <td>0.005</td>\n",
       "      <td>0.074</td>\n",
       "      <td>0.0</td>\n",
       "      <td>0.0</td>\n",
       "      <td>0.0</td>\n",
       "      <td>0.0</td>\n",
       "      <td>1.0</td>\n",
       "    </tr>\n",
       "    <tr>\n",
       "      <th>Ethics (negative)</th>\n",
       "      <td>4940.0</td>\n",
       "      <td>0.006</td>\n",
       "      <td>0.080</td>\n",
       "      <td>0.0</td>\n",
       "      <td>0.0</td>\n",
       "      <td>0.0</td>\n",
       "      <td>0.0</td>\n",
       "      <td>1.0</td>\n",
       "    </tr>\n",
       "    <tr>\n",
       "      <th>Military (negative)</th>\n",
       "      <td>4940.0</td>\n",
       "      <td>0.016</td>\n",
       "      <td>0.125</td>\n",
       "      <td>0.0</td>\n",
       "      <td>0.0</td>\n",
       "      <td>0.0</td>\n",
       "      <td>0.0</td>\n",
       "      <td>1.0</td>\n",
       "    </tr>\n",
       "    <tr>\n",
       "      <th>Progress (negative)</th>\n",
       "      <td>4940.0</td>\n",
       "      <td>0.026</td>\n",
       "      <td>0.159</td>\n",
       "      <td>0.0</td>\n",
       "      <td>0.0</td>\n",
       "      <td>0.0</td>\n",
       "      <td>0.0</td>\n",
       "      <td>1.0</td>\n",
       "    </tr>\n",
       "    <tr>\n",
       "      <th>Singularity (negative)</th>\n",
       "      <td>4940.0</td>\n",
       "      <td>0.008</td>\n",
       "      <td>0.087</td>\n",
       "      <td>0.0</td>\n",
       "      <td>0.0</td>\n",
       "      <td>0.0</td>\n",
       "      <td>0.0</td>\n",
       "      <td>1.0</td>\n",
       "    </tr>\n",
       "    <tr>\n",
       "      <th>Work (negative)</th>\n",
       "      <td>4940.0</td>\n",
       "      <td>0.013</td>\n",
       "      <td>0.113</td>\n",
       "      <td>0.0</td>\n",
       "      <td>0.0</td>\n",
       "      <td>0.0</td>\n",
       "      <td>0.0</td>\n",
       "      <td>1.0</td>\n",
       "    </tr>\n",
       "    <tr>\n",
       "      <th>Cyborg (positive)</th>\n",
       "      <td>4940.0</td>\n",
       "      <td>0.014</td>\n",
       "      <td>0.118</td>\n",
       "      <td>0.0</td>\n",
       "      <td>0.0</td>\n",
       "      <td>0.0</td>\n",
       "      <td>0.0</td>\n",
       "      <td>1.0</td>\n",
       "    </tr>\n",
       "    <tr>\n",
       "      <th>Decisions (positive)</th>\n",
       "      <td>4940.0</td>\n",
       "      <td>0.039</td>\n",
       "      <td>0.194</td>\n",
       "      <td>0.0</td>\n",
       "      <td>0.0</td>\n",
       "      <td>0.0</td>\n",
       "      <td>0.0</td>\n",
       "      <td>1.0</td>\n",
       "    </tr>\n",
       "    <tr>\n",
       "      <th>Education (positive)</th>\n",
       "      <td>4940.0</td>\n",
       "      <td>0.019</td>\n",
       "      <td>0.137</td>\n",
       "      <td>0.0</td>\n",
       "      <td>0.0</td>\n",
       "      <td>0.0</td>\n",
       "      <td>0.0</td>\n",
       "      <td>1.0</td>\n",
       "    </tr>\n",
       "    <tr>\n",
       "      <th>Entertain (positive)</th>\n",
       "      <td>4940.0</td>\n",
       "      <td>0.050</td>\n",
       "      <td>0.218</td>\n",
       "      <td>0.0</td>\n",
       "      <td>0.0</td>\n",
       "      <td>0.0</td>\n",
       "      <td>0.0</td>\n",
       "      <td>1.0</td>\n",
       "    </tr>\n",
       "    <tr>\n",
       "      <th>Healthcare (positive)</th>\n",
       "      <td>4940.0</td>\n",
       "      <td>0.027</td>\n",
       "      <td>0.162</td>\n",
       "      <td>0.0</td>\n",
       "      <td>0.0</td>\n",
       "      <td>0.0</td>\n",
       "      <td>0.0</td>\n",
       "      <td>1.0</td>\n",
       "    </tr>\n",
       "    <tr>\n",
       "      <th>Singularity (positive)</th>\n",
       "      <td>4940.0</td>\n",
       "      <td>0.006</td>\n",
       "      <td>0.078</td>\n",
       "      <td>0.0</td>\n",
       "      <td>0.0</td>\n",
       "      <td>0.0</td>\n",
       "      <td>0.0</td>\n",
       "      <td>1.0</td>\n",
       "    </tr>\n",
       "    <tr>\n",
       "      <th>Transportation (positive)</th>\n",
       "      <td>4940.0</td>\n",
       "      <td>0.037</td>\n",
       "      <td>0.188</td>\n",
       "      <td>0.0</td>\n",
       "      <td>0.0</td>\n",
       "      <td>0.0</td>\n",
       "      <td>0.0</td>\n",
       "      <td>1.0</td>\n",
       "    </tr>\n",
       "    <tr>\n",
       "      <th>Work (positive)</th>\n",
       "      <td>4940.0</td>\n",
       "      <td>0.052</td>\n",
       "      <td>0.223</td>\n",
       "      <td>0.0</td>\n",
       "      <td>0.0</td>\n",
       "      <td>0.0</td>\n",
       "      <td>0.0</td>\n",
       "      <td>1.0</td>\n",
       "    </tr>\n",
       "  </tbody>\n",
       "</table>\n",
       "</div>"
      ],
      "text/plain": [
       "                            count   mean    std  min  25%  50%  75%  max\n",
       "AI Mood                    4940.0  3.271  0.816  1.0  3.0  3.0  4.0  5.0\n",
       "AI Relevance               4940.0  3.822  1.262  1.0  3.0  4.0  5.0  5.0\n",
       "Fiction                    4940.0  0.077  0.266  0.0  0.0  0.0  0.0  1.0\n",
       "Controling AI (negative)   4940.0  0.025  0.155  0.0  0.0  0.0  0.0  1.0\n",
       "Cyborg (negative)          4940.0  0.005  0.074  0.0  0.0  0.0  0.0  1.0\n",
       "Ethics (negative)          4940.0  0.006  0.080  0.0  0.0  0.0  0.0  1.0\n",
       "Military (negative)        4940.0  0.016  0.125  0.0  0.0  0.0  0.0  1.0\n",
       "Progress (negative)        4940.0  0.026  0.159  0.0  0.0  0.0  0.0  1.0\n",
       "Singularity (negative)     4940.0  0.008  0.087  0.0  0.0  0.0  0.0  1.0\n",
       "Work (negative)            4940.0  0.013  0.113  0.0  0.0  0.0  0.0  1.0\n",
       "Cyborg (positive)          4940.0  0.014  0.118  0.0  0.0  0.0  0.0  1.0\n",
       "Decisions (positive)       4940.0  0.039  0.194  0.0  0.0  0.0  0.0  1.0\n",
       "Education (positive)       4940.0  0.019  0.137  0.0  0.0  0.0  0.0  1.0\n",
       "Entertain (positive)       4940.0  0.050  0.218  0.0  0.0  0.0  0.0  1.0\n",
       "Healthcare (positive)      4940.0  0.027  0.162  0.0  0.0  0.0  0.0  1.0\n",
       "Singularity (positive)     4940.0  0.006  0.078  0.0  0.0  0.0  0.0  1.0\n",
       "Transportation (positive)  4940.0  0.037  0.188  0.0  0.0  0.0  0.0  1.0\n",
       "Work (positive)            4940.0  0.052  0.223  0.0  0.0  0.0  0.0  1.0"
      ]
     },
     "execution_count": 17,
     "metadata": {},
     "output_type": "execute_result"
    }
   ],
   "source": [
    "# Basic statistics\n",
    "df_ai_news.describe().round(3).T"
   ]
  },
  {
   "cell_type": "code",
   "execution_count": 18,
   "metadata": {},
   "outputs": [
    {
     "data": {
      "text/html": [
       "<div>\n",
       "<style scoped>\n",
       "    .dataframe tbody tr th:only-of-type {\n",
       "        vertical-align: middle;\n",
       "    }\n",
       "\n",
       "    .dataframe tbody tr th {\n",
       "        vertical-align: top;\n",
       "    }\n",
       "\n",
       "    .dataframe thead th {\n",
       "        text-align: right;\n",
       "    }\n",
       "</style>\n",
       "<table border=\"1\" class=\"dataframe\">\n",
       "  <thead>\n",
       "    <tr style=\"text-align: right;\">\n",
       "      <th></th>\n",
       "      <th>Article ID</th>\n",
       "      <th>Paragraph number</th>\n",
       "      <th>NYT section</th>\n",
       "      <th>Paragraph</th>\n",
       "      <th>Title</th>\n",
       "      <th>AI Mood</th>\n",
       "      <th>AI Relevance</th>\n",
       "      <th>Fiction</th>\n",
       "      <th>Controling AI (negative)</th>\n",
       "      <th>Cyborg (negative)</th>\n",
       "      <th>Ethics (negative)</th>\n",
       "      <th>Military (negative)</th>\n",
       "      <th>Progress (negative)</th>\n",
       "      <th>Singularity (negative)</th>\n",
       "      <th>Work (negative)</th>\n",
       "      <th>Other (negative)</th>\n",
       "      <th>Cyborg (positive)</th>\n",
       "      <th>Decisions (positive)</th>\n",
       "      <th>Education (positive)</th>\n",
       "      <th>Entertain (positive)</th>\n",
       "      <th>Healthcare (positive)</th>\n",
       "      <th>Singularity (positive)</th>\n",
       "      <th>Transportation (positive)</th>\n",
       "      <th>Work (positive)</th>\n",
       "      <th>Other (positive)</th>\n",
       "    </tr>\n",
       "  </thead>\n",
       "  <tbody>\n",
       "    <tr>\n",
       "      <th>0</th>\n",
       "      <td>4fd1cbc98eb7c8105d701286</td>\n",
       "      <td>18</td>\n",
       "      <td>New York and Region</td>\n",
       "      <td>Thus, next weekend will feature the robot who is named Sico (pronounced SEE-co). ''He can speak seven languages,'' Ms. Finkel said, ''and he interacts. Whatever language you speak he can speak.'' Of course he has never spoken to a Long Islander. No one is quite sure how he will interpret the Long Island accent.</td>\n",
       "      <td>LONG ISLAND JOURNAL</td>\n",
       "      <td>4</td>\n",
       "      <td>5</td>\n",
       "      <td>0</td>\n",
       "      <td>0</td>\n",
       "      <td>0</td>\n",
       "      <td>0</td>\n",
       "      <td>0</td>\n",
       "      <td>0</td>\n",
       "      <td>0</td>\n",
       "      <td>0</td>\n",
       "      <td>{}</td>\n",
       "      <td>0</td>\n",
       "      <td>0</td>\n",
       "      <td>0</td>\n",
       "      <td>0</td>\n",
       "      <td>0</td>\n",
       "      <td>0</td>\n",
       "      <td>0</td>\n",
       "      <td>0</td>\n",
       "      <td>{}</td>\n",
       "    </tr>\n",
       "    <tr>\n",
       "      <th>3</th>\n",
       "      <td>54b0793b7988100e21965770</td>\n",
       "      <td>16</td>\n",
       "      <td>Technology</td>\n",
       "      <td>That phrase was coined in the 1970۪s by Masahiro Mori, the Japanese robotics specialist, as he sought to describe the emotional response of humans to robots and other nonhuman entities. He theorized that as a robot became more lifelike, the emotional response of humans became increasingly positive and empathetic  until a certain point at which the robot took on a zombie-like quality, and the human response turned to repulsion. Then, as the robot becomes indistinguishable from a human, the re...</td>\n",
       "      <td>Camera System Creates Sophisticated 3-D Effects</td>\n",
       "      <td>3</td>\n",
       "      <td>4</td>\n",
       "      <td>0</td>\n",
       "      <td>0</td>\n",
       "      <td>0</td>\n",
       "      <td>0</td>\n",
       "      <td>0</td>\n",
       "      <td>0</td>\n",
       "      <td>0</td>\n",
       "      <td>0</td>\n",
       "      <td>{}</td>\n",
       "      <td>0</td>\n",
       "      <td>0</td>\n",
       "      <td>0</td>\n",
       "      <td>0</td>\n",
       "      <td>0</td>\n",
       "      <td>0</td>\n",
       "      <td>0</td>\n",
       "      <td>0</td>\n",
       "      <td>{}</td>\n",
       "    </tr>\n",
       "  </tbody>\n",
       "</table>\n",
       "</div>"
      ],
      "text/plain": [
       "                 Article ID Paragraph number          NYT section   \n",
       "0  4fd1cbc98eb7c8105d701286               18  New York and Region  \\\n",
       "3  54b0793b7988100e21965770               16           Technology   \n",
       "\n",
       "                                                                                                                                                                                                                                                                                                                                                                                                                                                                                                             Paragraph   \n",
       "0                                                                                                                                                                                             Thus, next weekend will feature the robot who is named Sico (pronounced SEE-co). ''He can speak seven languages,'' Ms. Finkel said, ''and he interacts. Whatever language you speak he can speak.'' Of course he has never spoken to a Long Islander. No one is quite sure how he will interpret the Long Island accent.  \\\n",
       "3  That phrase was coined in the 1970۪s by Masahiro Mori, the Japanese robotics specialist, as he sought to describe the emotional response of humans to robots and other nonhuman entities. He theorized that as a robot became more lifelike, the emotional response of humans became increasingly positive and empathetic  until a certain point at which the robot took on a zombie-like quality, and the human response turned to repulsion. Then, as the robot becomes indistinguishable from a human, the re...   \n",
       "\n",
       "                                             Title  AI Mood  AI Relevance   \n",
       "0                              LONG ISLAND JOURNAL        4             5  \\\n",
       "3  Camera System Creates Sophisticated 3-D Effects        3             4   \n",
       "\n",
       "   Fiction  Controling AI (negative)  Cyborg (negative)  Ethics (negative)   \n",
       "0        0                         0                  0                  0  \\\n",
       "3        0                         0                  0                  0   \n",
       "\n",
       "   Military (negative)  Progress (negative)  Singularity (negative)   \n",
       "0                    0                    0                       0  \\\n",
       "3                    0                    0                       0   \n",
       "\n",
       "   Work (negative) Other (negative)  Cyborg (positive)  Decisions (positive)   \n",
       "0                0               {}                  0                     0  \\\n",
       "3                0               {}                  0                     0   \n",
       "\n",
       "   Education (positive)  Entertain (positive)  Healthcare (positive)   \n",
       "0                     0                     0                      0  \\\n",
       "3                     0                     0                      0   \n",
       "\n",
       "   Singularity (positive)  Transportation (positive)  Work (positive)   \n",
       "0                       0                          0                0  \\\n",
       "3                       0                          0                0   \n",
       "\n",
       "  Other (positive)  \n",
       "0               {}  \n",
       "3               {}  "
      ]
     },
     "execution_count": 18,
     "metadata": {},
     "output_type": "execute_result"
    }
   ],
   "source": [
    "df_ai_news.head(2)"
   ]
  },
  {
   "attachments": {},
   "cell_type": "markdown",
   "metadata": {},
   "source": [
    "### Text Cleaning"
   ]
  },
  {
   "cell_type": "code",
   "execution_count": 19,
   "metadata": {},
   "outputs": [],
   "source": [
    "# function to remove special characters from a sentence\n",
    "def remove_spc_char(text):\n",
    "    cleaned_text = re.sub(r'[^a-zA-Z0-9 @ . , : - _]', '', text)\n",
    "    return cleaned_text"
   ]
  },
  {
   "cell_type": "code",
   "execution_count": 20,
   "metadata": {},
   "outputs": [],
   "source": [
    "# function to tokenize text into words and remove punctuation\n",
    "def sent_to_words(sentences):\n",
    "    for sentence in sentences:\n",
    "        yield(gensim.utils.simple_preprocess(str(sentence), deacc=True))"
   ]
  },
  {
   "cell_type": "code",
   "execution_count": 21,
   "metadata": {},
   "outputs": [],
   "source": [
    "# function to remove stopwords from list of tokens\n",
    "stop_words = stopwords.words('english')\n",
    "\n",
    "def remove_stopwords(texts):\n",
    "    cleaned_texts = [[word for word in simple_preprocess(str(doc)) if word not in stop_words] for doc in texts]\n",
    "    return cleaned_texts\n"
   ]
  },
  {
   "cell_type": "code",
   "execution_count": 22,
   "metadata": {},
   "outputs": [],
   "source": [
    "# function to make ngrams from original tokens\n",
    "def make_bigrams(texts_wstops):\n",
    "    bigram = gensim.models.Phrases(texts_wstops, min_count=1, threshold=3)\n",
    "    bigram_mod = gensim.models.phrases.Phraser(bigram)\n",
    "    texts_nostops = remove_stopwords(texts_wstops)\n",
    "    return [bigram_mod[doc] for doc in texts_nostops]\n",
    "\n",
    "def make_trigrams(texts_wstops):\n",
    "    bigram = gensim.models.Phrases(texts_wstops, min_count=1, threshold=3)\n",
    "    bigram_mod = gensim.models.phrases.Phraser(bigram)\n",
    "    trigram = gensim.models.Phrases(bigram[texts_wstops], threshold=1)\n",
    "    trigram_mod = gensim.models.phrases.Phraser(trigram)\n",
    "    texts_nostops = remove_stopwords(texts_wstops)\n",
    "    return [trigram_mod[bigram_mod[doc]] for doc in texts_nostops]"
   ]
  },
  {
   "cell_type": "code",
   "execution_count": 23,
   "metadata": {},
   "outputs": [],
   "source": [
    "# function to lemmatize words\n",
    "def lemmatization(texts, allowed_postags=['NOUN', 'ADJ', 'VERB', 'ADV']):\n",
    "    texts_out = []\n",
    "    for sent in texts:\n",
    "        doc = nlp(\" \".join(sent)) \n",
    "        texts_out.append([token.lemma_ for token in doc if token.pos_ in allowed_postags])\n",
    "    return texts_out"
   ]
  },
  {
   "cell_type": "code",
   "execution_count": 24,
   "metadata": {},
   "outputs": [
    {
     "name": "stdout",
     "output_type": "stream",
     "text": [
      "CPU times: user 8.76 s, sys: 80.8 ms, total: 8.84 s\n",
      "Wall time: 8.85 s\n"
     ]
    }
   ],
   "source": [
    "%%time\n",
    "\n",
    "# remove special characters\n",
    "para_cleaned = np.array(df_ai_news['Paragraph'].apply(lambda x: remove_spc_char(x)))\n",
    "\n",
    "# tokenize the paragraphs\n",
    "para_tokens = list(sent_to_words(para_cleaned))\n",
    "\n",
    "# remove stopwords\n",
    "para_token_nostops = remove_stopwords(para_tokens)\n",
    "\n",
    "# make bigrams and trigrams\n",
    "para_bigrams = make_bigrams(para_tokens)\n",
    "para_trigrams = make_trigrams(para_tokens)\n",
    "\n",
    "# combine tokens and ngrams\n",
    "df_ai_news['para_tokens'] = list(zip(para_token_nostops, para_bigrams, para_trigrams))\n",
    "df_ai_news['para_tokens'] = df_ai_news['para_tokens'].apply(lambda x: list(x[0] + x[1] + x[2]))\n",
    "para_tokens_all = df_ai_news['para_tokens'].tolist()"
   ]
  },
  {
   "cell_type": "code",
   "execution_count": 25,
   "metadata": {},
   "outputs": [
    {
     "name": "stdout",
     "output_type": "stream",
     "text": [
      "CPU times: user 55.4 s, sys: 3.68 s, total: 59.1 s\n",
      "Wall time: 59.1 s\n"
     ]
    },
    {
     "data": {
      "text/html": [
       "<div>\n",
       "<style scoped>\n",
       "    .dataframe tbody tr th:only-of-type {\n",
       "        vertical-align: middle;\n",
       "    }\n",
       "\n",
       "    .dataframe tbody tr th {\n",
       "        vertical-align: top;\n",
       "    }\n",
       "\n",
       "    .dataframe thead th {\n",
       "        text-align: right;\n",
       "    }\n",
       "</style>\n",
       "<table border=\"1\" class=\"dataframe\">\n",
       "  <thead>\n",
       "    <tr style=\"text-align: right;\">\n",
       "      <th></th>\n",
       "      <th>Paragraph</th>\n",
       "      <th>para_tokens</th>\n",
       "      <th>para_lemmatized</th>\n",
       "    </tr>\n",
       "  </thead>\n",
       "  <tbody>\n",
       "    <tr>\n",
       "      <th>0</th>\n",
       "      <td>Thus, next weekend will feature the robot who is named Sico (pronounced SEE-co). ''He can speak seven languages,'' Ms. Finkel said, ''and he interacts. Whatever language you speak he can speak.'' Of course he has never spoken to a Long Islander. No one is quite sure how he will interpret the Long Island accent.</td>\n",
       "      <td>[thus, next, weekend, feature, robot, named, sico, pronounced, seeco, speak, seven, languages, ms, finkel, said, interacts, whatever, language, speak, speak, course, never, spoken, long, islander, one, quite, sure, interpret, long, island, accent, thus, next, weekend, feature, robot_named, sico, pronounced, seeco, speak, seven, languages, ms_finkel, said, interacts, whatever, language, speak, speak, course, never, spoken, long, islander, one, quite_sure, interpret, long_island, accent, thus,...</td>\n",
       "      <td>[thus, next, weekend, feature, robot, name, sico, pronounced, seeco, speak, language, ms, finkel, say, interact, language, speak, speak, course, never, speak, long, islander, quite, sure, interpret, long, island, accent, thus, next, weekend, feature, robot_name, sico, pronounced, seeco, speak, language, say, interact, language, speak, speak, course, never, speak, long, islander, quite_sure, interpret, long_island, accent, thus, next, weekend, feature, robot_name, sico, pronounced, seeco, spe...</td>\n",
       "    </tr>\n",
       "    <tr>\n",
       "      <th>3</th>\n",
       "      <td>That phrase was coined in the 1970۪s by Masahiro Mori, the Japanese robotics specialist, as he sought to describe the emotional response of humans to robots and other nonhuman entities. He theorized that as a robot became more lifelike, the emotional response of humans became increasingly positive and empathetic  until a certain point at which the robot took on a zombie-like quality, and the human response turned to repulsion. Then, as the robot becomes indistinguishable from a human, the re...</td>\n",
       "      <td>[phrase, coined, masahiro, mori, japanese, robotics, specialist, sought, describe, emotional, response, humans, robots, nonhuman, entities, theorized, robot, became, lifelike, emotional, response, humans, became, increasingly, positive, empathetic, certain, point, robot, took, zombielike, quality, human, response, turned, repulsion, robot, becomes, human, response, turns, positive, critics, quick, point, eerie, look, characters, polar, express, phrase, coined, masahiro_mori, japanese_robotic...</td>\n",
       "      <td>[phrase, coin, masahiro, mori, japanese, robotic, specialist, seek, describe, emotional, response, humans, robots, nonhuman, entities, theorize, robot, become, lifelike, emotional, response, human, become, increasingly, positive, empathetic, certain, point, robot, take, zombielike, quality, human, response, turn, repulsion, robot, become, human, response, turn, positive, critic, quick, point, eerie, look, character, polar, express, phrase, coin, masahiro_mori, japanese_robotic, specialist, s...</td>\n",
       "    </tr>\n",
       "    <tr>\n",
       "      <th>6</th>\n",
       "      <td>Users can program the robot to clean a swimming pool at regular intervals or use a remote control to steer it by hand. The Polaris 9300xi sells for $1,379.</td>\n",
       "      <td>[users, program, robot, clean, swimming, pool, regular, intervals, use, remote, control, steer, hand, polaris, xi, sells, users, program, robot, clean_swimming, pool, regular_intervals, use, remote_control, steer, hand, polaris_xi, sells, users, program, robot, clean_swimming, pool, regular_intervals, use, remote_control, steer, hand, polaris_xi, sells]</td>\n",
       "      <td>[user, program, robot, clean, swimming, pool, regular, interval, use, remote, control, steer, hand, polaris, xi, sell, user, program, robot, clean_swimme, pool, regular_interval, use, remote_control, steer, hand, polaris_xi, sell, user, program, robot, clean_swimme, pool, regular_interval, use, remote_control, steer, hand, polaris_xi, sell]</td>\n",
       "    </tr>\n",
       "    <tr>\n",
       "      <th>9</th>\n",
       "      <td>Although ticket sales are roughly even with last year's unimpressive sales, more studios have at least one successful movie. Most of the money last summer was earned by ''Rambo'' ($146 million by Labor Day, the official end of summer), ''Back to the Future'' ($133 million) and ''Cocoon'' ($70 million). This year, in addition to the top three movies, Warner Brothers' ''Cobra,'' starring Sylvester Stallone as a snarling cop, Paramount's teen-age Walter Mitty fantasy ''Ferris Bueller's Day Off,...</td>\n",
       "      <td>[although, ticket, sales, roughly, even, last, years, unimpressive, sales, studios, least, one, successful, movie, money, last, summer, earned, rambo, million, labor, day, official, end, summer, back, future, million, cocoon, million, year, addition, top, three, movies, warner, brothers, cobra, starring, sylvester, stallone, snarling, cop, paramounts, teenage, walter, mitty, fantasy, ferris, buellers, day, tristars, peaceful, robot, fantasy, short, circuit, universals, robert, redford, comed...</td>\n",
       "      <td>[ticket, sale, roughly, even, last, year, unimpressive, sale, studio, least, successful, movie, money, last, summer, earn, rambo, labor, day, official, end, summer, back, future, cocoon, year, addition, top, movie, warner, brother, cobra, star, sylvester, stallone, snarling, cop, paramount, teenage, walter, mitty, fantasy, ferris, bueller, day, tristar, peaceful, robot, fantasy, short, circuit, universal, robert, redford, comedy, legal, eagle, mgms, poltergeist, ii, side, disney, ruthless, p...</td>\n",
       "    </tr>\n",
       "    <tr>\n",
       "      <th>12</th>\n",
       "      <td>Dr. Rus envisions millions of these modules capable of prowling the earth, and possibly space, as the devices shrink. Confronting the New England snow scene around her at Dartmouth, and her driveway in particular, she said that a snow-cleaning robot made of her modules might be a good idea. ''It could also check the pipes in my house to make sure they aren't going to burst,'' she added.</td>\n",
       "      <td>[dr, rus, envisions, millions, modules, capable, prowling, earth, possibly, space, devices, shrink, confronting, new, england, snow, scene, around, dartmouth, driveway, particular, said, snowcleaning, robot, made, modules, might, good, idea, could, also, check, pipes, house, make, sure, arent, going, burst, added, dr_rus, envisions, millions, modules, capable, prowling, earth, possibly, space, devices, shrink, confronting, new_england, snow, scene, around, dartmouth, driveway, particular, sa...</td>\n",
       "      <td>[dr, rus, envision, million, module, capable, prowl, earth, possibly, space, device, shrink, confront, new, england, snow, scene, dartmouth, driveway, particular, say, snowcleane, robot, make, module, good, idea, also, check, pipe, house, make, sure, go, burst, add, dr_rus, envision, million, module, capable, prowl, earth, possibly, space, device, shrink, confront, snow, scene, dartmouth, driveway, particular, say, snowcleane, robot, make, module, good_idea, could_also, check, pipe, house, m...</td>\n",
       "    </tr>\n",
       "  </tbody>\n",
       "</table>\n",
       "</div>"
      ],
      "text/plain": [
       "                                                                                                                                                                                                                                                                                                                                                                                                                                                                                                              Paragraph   \n",
       "0                                                                                                                                                                                              Thus, next weekend will feature the robot who is named Sico (pronounced SEE-co). ''He can speak seven languages,'' Ms. Finkel said, ''and he interacts. Whatever language you speak he can speak.'' Of course he has never spoken to a Long Islander. No one is quite sure how he will interpret the Long Island accent.  \\\n",
       "3   That phrase was coined in the 1970۪s by Masahiro Mori, the Japanese robotics specialist, as he sought to describe the emotional response of humans to robots and other nonhuman entities. He theorized that as a robot became more lifelike, the emotional response of humans became increasingly positive and empathetic  until a certain point at which the robot took on a zombie-like quality, and the human response turned to repulsion. Then, as the robot becomes indistinguishable from a human, the re...   \n",
       "6                                                                                                                                                                                                                                                                                                                                                           Users can program the robot to clean a swimming pool at regular intervals or use a remote control to steer it by hand. The Polaris 9300xi sells for $1,379.   \n",
       "9   Although ticket sales are roughly even with last year's unimpressive sales, more studios have at least one successful movie. Most of the money last summer was earned by ''Rambo'' ($146 million by Labor Day, the official end of summer), ''Back to the Future'' ($133 million) and ''Cocoon'' ($70 million). This year, in addition to the top three movies, Warner Brothers' ''Cobra,'' starring Sylvester Stallone as a snarling cop, Paramount's teen-age Walter Mitty fantasy ''Ferris Bueller's Day Off,...   \n",
       "12                                                                                                                Dr. Rus envisions millions of these modules capable of prowling the earth, and possibly space, as the devices shrink. Confronting the New England snow scene around her at Dartmouth, and her driveway in particular, she said that a snow-cleaning robot made of her modules might be a good idea. ''It could also check the pipes in my house to make sure they aren't going to burst,'' she added.   \n",
       "\n",
       "                                                                                                                                                                                                                                                                                                                                                                                                                                                                                                            para_tokens   \n",
       "0   [thus, next, weekend, feature, robot, named, sico, pronounced, seeco, speak, seven, languages, ms, finkel, said, interacts, whatever, language, speak, speak, course, never, spoken, long, islander, one, quite, sure, interpret, long, island, accent, thus, next, weekend, feature, robot_named, sico, pronounced, seeco, speak, seven, languages, ms_finkel, said, interacts, whatever, language, speak, speak, course, never, spoken, long, islander, one, quite_sure, interpret, long_island, accent, thus,...  \\\n",
       "3   [phrase, coined, masahiro, mori, japanese, robotics, specialist, sought, describe, emotional, response, humans, robots, nonhuman, entities, theorized, robot, became, lifelike, emotional, response, humans, became, increasingly, positive, empathetic, certain, point, robot, took, zombielike, quality, human, response, turned, repulsion, robot, becomes, human, response, turns, positive, critics, quick, point, eerie, look, characters, polar, express, phrase, coined, masahiro_mori, japanese_robotic...   \n",
       "6                                                                                                                                                   [users, program, robot, clean, swimming, pool, regular, intervals, use, remote, control, steer, hand, polaris, xi, sells, users, program, robot, clean_swimming, pool, regular_intervals, use, remote_control, steer, hand, polaris_xi, sells, users, program, robot, clean_swimming, pool, regular_intervals, use, remote_control, steer, hand, polaris_xi, sells]   \n",
       "9   [although, ticket, sales, roughly, even, last, years, unimpressive, sales, studios, least, one, successful, movie, money, last, summer, earned, rambo, million, labor, day, official, end, summer, back, future, million, cocoon, million, year, addition, top, three, movies, warner, brothers, cobra, starring, sylvester, stallone, snarling, cop, paramounts, teenage, walter, mitty, fantasy, ferris, buellers, day, tristars, peaceful, robot, fantasy, short, circuit, universals, robert, redford, comed...   \n",
       "12  [dr, rus, envisions, millions, modules, capable, prowling, earth, possibly, space, devices, shrink, confronting, new, england, snow, scene, around, dartmouth, driveway, particular, said, snowcleaning, robot, made, modules, might, good, idea, could, also, check, pipes, house, make, sure, arent, going, burst, added, dr_rus, envisions, millions, modules, capable, prowling, earth, possibly, space, devices, shrink, confronting, new_england, snow, scene, around, dartmouth, driveway, particular, sa...   \n",
       "\n",
       "                                                                                                                                                                                                                                                                                                                                                                                                                                                                                                        para_lemmatized  \n",
       "0   [thus, next, weekend, feature, robot, name, sico, pronounced, seeco, speak, language, ms, finkel, say, interact, language, speak, speak, course, never, speak, long, islander, quite, sure, interpret, long, island, accent, thus, next, weekend, feature, robot_name, sico, pronounced, seeco, speak, language, say, interact, language, speak, speak, course, never, speak, long, islander, quite_sure, interpret, long_island, accent, thus, next, weekend, feature, robot_name, sico, pronounced, seeco, spe...  \n",
       "3   [phrase, coin, masahiro, mori, japanese, robotic, specialist, seek, describe, emotional, response, humans, robots, nonhuman, entities, theorize, robot, become, lifelike, emotional, response, human, become, increasingly, positive, empathetic, certain, point, robot, take, zombielike, quality, human, response, turn, repulsion, robot, become, human, response, turn, positive, critic, quick, point, eerie, look, character, polar, express, phrase, coin, masahiro_mori, japanese_robotic, specialist, s...  \n",
       "6                                                                                                                                                                [user, program, robot, clean, swimming, pool, regular, interval, use, remote, control, steer, hand, polaris, xi, sell, user, program, robot, clean_swimme, pool, regular_interval, use, remote_control, steer, hand, polaris_xi, sell, user, program, robot, clean_swimme, pool, regular_interval, use, remote_control, steer, hand, polaris_xi, sell]  \n",
       "9   [ticket, sale, roughly, even, last, year, unimpressive, sale, studio, least, successful, movie, money, last, summer, earn, rambo, labor, day, official, end, summer, back, future, cocoon, year, addition, top, movie, warner, brother, cobra, star, sylvester, stallone, snarling, cop, paramount, teenage, walter, mitty, fantasy, ferris, bueller, day, tristar, peaceful, robot, fantasy, short, circuit, universal, robert, redford, comedy, legal, eagle, mgms, poltergeist, ii, side, disney, ruthless, p...  \n",
       "12  [dr, rus, envision, million, module, capable, prowl, earth, possibly, space, device, shrink, confront, new, england, snow, scene, dartmouth, driveway, particular, say, snowcleane, robot, make, module, good, idea, also, check, pipe, house, make, sure, go, burst, add, dr_rus, envision, million, module, capable, prowl, earth, possibly, space, device, shrink, confront, snow, scene, dartmouth, driveway, particular, say, snowcleane, robot, make, module, good_idea, could_also, check, pipe, house, m...  "
      ]
     },
     "execution_count": 25,
     "metadata": {},
     "output_type": "execute_result"
    }
   ],
   "source": [
    "%%time\n",
    "\n",
    "# lemmatize the tokens keeping only noun, adj, vb, adv\n",
    "nlp = spacy.load('en_core_web_sm', disable=['parser', 'ner'])\n",
    "para_lemmatized = lemmatization(para_tokens_all, allowed_postags=['NOUN', 'ADJ', 'VERB', 'ADV', 'PROPN'])\n",
    "\n",
    "df_ai_news['para_lemmatized'] = para_lemmatized\n",
    "df_ai_news[['Paragraph', 'para_tokens', 'para_lemmatized']].head()"
   ]
  },
  {
   "attachments": {},
   "cell_type": "markdown",
   "metadata": {},
   "source": [
    "### Target Variable"
   ]
  },
  {
   "cell_type": "code",
   "execution_count": 26,
   "metadata": {},
   "outputs": [
    {
     "data": {
      "text/plain": [
       "AI Mood\n",
       "3    3174\n",
       "4     754\n",
       "5     557\n",
       "2     383\n",
       "1      72\n",
       "Name: count, dtype: int64"
      ]
     },
     "execution_count": 26,
     "metadata": {},
     "output_type": "execute_result"
    }
   ],
   "source": [
    "df_ai_news['AI Mood'].value_counts()"
   ]
  },
  {
   "cell_type": "code",
   "execution_count": 27,
   "metadata": {},
   "outputs": [
    {
     "data": {
      "text/plain": [
       "['Negative', 'Mostly Negative', 'Neutral', 'Mostly Positive', 'Positive']"
      ]
     },
     "execution_count": 27,
     "metadata": {},
     "output_type": "execute_result"
    }
   ],
   "source": [
    "# mapping the sentiment values to text\n",
    "sentiment_map = {'Negative': 1,\n",
    "                 'Mostly Negative': 2,\n",
    "                 'Neutral': 3, \n",
    "                 'Mostly Positive': 4,\n",
    "                 'Positive': 5}\n",
    "\n",
    "sentiment_labels = list(sentiment_map.keys())\n",
    "sentiment_labels"
   ]
  },
  {
   "cell_type": "code",
   "execution_count": 28,
   "metadata": {},
   "outputs": [
    {
     "data": {
      "image/png": "[encoded data removed]",
      "text/plain": [
       "<Figure size 600x400 with 1 Axes>"
      ]
     },
     "metadata": {},
     "output_type": "display_data"
    }
   ],
   "source": [
    "# Visualize the AI Mood distribution\n",
    "sns.set_style('whitegrid')\n",
    "plt.figure(figsize=(6, 4))\n",
    "sns.countplot(x='AI Mood', data=df_ai_news, palette='viridis')\n",
    "plt.title('Sentiment Distribution')\n",
    "plt.xlabel('Sentiment')\n",
    "plt.ylabel('Count')\n",
    "plt.xticks(ticks=np.arange(5), labels=sentiment_labels)\n",
    "plt.show()"
   ]
  },
  {
   "attachments": {},
   "cell_type": "markdown",
   "metadata": {},
   "source": [
    "## Resample Data to Balance Classes - SMOTE"
   ]
  },
  {
   "cell_type": "code",
   "execution_count": 29,
   "metadata": {},
   "outputs": [],
   "source": [
    "# convert lemmatized tokens back to string\n",
    "df_ai_news['para_lemmatized_str'] = df_ai_news['para_lemmatized'].apply(lambda x: ' '.join(x))"
   ]
  },
  {
   "cell_type": "code",
   "execution_count": 30,
   "metadata": {},
   "outputs": [
    {
     "name": "stdout",
     "output_type": "stream",
     "text": [
      "X Shape: (4940,)\n",
      "y Shape: (4940,)\n"
     ]
    }
   ],
   "source": [
    "# Define X and y\n",
    "X = df_ai_news['para_lemmatized_str']\n",
    "y = df_ai_news['AI Mood']\n",
    "\n",
    "print(f\"X Shape: {X.shape}\")\n",
    "print(f\"y Shape: {y.shape}\")"
   ]
  },
  {
   "attachments": {},
   "cell_type": "markdown",
   "metadata": {},
   "source": [
    "### Initialize vectorizer"
   ]
  },
  {
   "cell_type": "code",
   "execution_count": 31,
   "metadata": {},
   "outputs": [],
   "source": [
    "tfidf = TfidfVectorizer(lowercase=False,\n",
    "                        ngram_range=(1, 1))"
   ]
  },
  {
   "cell_type": "code",
   "execution_count": 32,
   "metadata": {},
   "outputs": [
    {
     "name": "stdout",
     "output_type": "stream",
     "text": [
      "(4940, 32686)\n"
     ]
    }
   ],
   "source": [
    "X_vec = tfidf.fit_transform(X)\n",
    "print(X_vec.shape)"
   ]
  },
  {
   "cell_type": "code",
   "execution_count": 33,
   "metadata": {},
   "outputs": [],
   "source": [
    "# Access the feature names\n",
    "feature_names = tfidf.get_feature_names_out()"
   ]
  },
  {
   "cell_type": "code",
   "execution_count": 34,
   "metadata": {},
   "outputs": [
    {
     "data": {
      "image/png": "[encoded data removed]",
      "text/plain": [
       "<Figure size 600x400 with 1 Axes>"
      ]
     },
     "metadata": {},
     "output_type": "display_data"
    }
   ],
   "source": [
    "# Apply SMOTE oversampling\n",
    "sm = SMOTE(random_state=2023)\n",
    "X_res, y_res = sm.fit_resample(X_vec, y)\n",
    "\n",
    "# Convert the oversampled data to a dataframe\n",
    "df_ai_news_res = pd.DataFrame(X_res.toarray(), columns=feature_names)\n",
    "df_ai_news_res['AI Mood'] = y_res\n",
    "\n",
    "# Visualize the AI Mood distribution\n",
    "sns.set_style('whitegrid')\n",
    "plt.figure(figsize=(6, 4))\n",
    "sns.countplot(x='AI Mood', data=df_ai_news_res, palette='viridis')\n",
    "plt.title('Sentiment Distribution (After SMOTE)')\n",
    "plt.xlabel('Sentiment')\n",
    "plt.ylabel('Count')\n",
    "plt.xticks(ticks=np.arange(5), labels=sentiment_labels)\n",
    "plt.show()"
   ]
  },
  {
   "attachments": {},
   "cell_type": "markdown",
   "metadata": {},
   "source": [
    "### Train-test split"
   ]
  },
  {
   "cell_type": "code",
   "execution_count": 35,
   "metadata": {},
   "outputs": [
    {
     "name": "stdout",
     "output_type": "stream",
     "text": [
      "Training records, X_train: (12696, 32686) y_train: (12696,)\n",
      "Testing records, X_test: (3174, 32686) y_test: (3174,)\n"
     ]
    }
   ],
   "source": [
    "# Split the data into train and test sets\n",
    "X_train, X_test, y_train, y_test = train_test_split(X_res.toarray(), y_res, test_size=0.2, random_state=2023)\n",
    "\n",
    "print(f\"Training records, X_train: {X_train.shape} y_train: {y_train.shape}\")\n",
    "print(f\"Testing records, X_test: {X_test.shape} y_test: {y_test.shape}\")"
   ]
  },
  {
   "attachments": {},
   "cell_type": "markdown",
   "metadata": {},
   "source": [
    "## Build Customized Model using Open Source Data"
   ]
  },
  {
   "attachments": {},
   "cell_type": "markdown",
   "metadata": {},
   "source": [
    "### Naive Bayes Model"
   ]
  },
  {
   "cell_type": "code",
   "execution_count": 36,
   "metadata": {},
   "outputs": [],
   "source": [
    "# Mutinomial Naive Bayes\n",
    "mnb = MultinomialNB()"
   ]
  },
  {
   "cell_type": "code",
   "execution_count": 37,
   "metadata": {},
   "outputs": [
    {
     "name": "stdout",
     "output_type": "stream",
     "text": [
      "CPU times: user 2.24 s, sys: 681 ms, total: 2.92 s\n",
      "Wall time: 2.01 s\n"
     ]
    },
    {
     "data": {
      "text/html": [
       "<style>#sk-container-id-1 {color: black;background-color: white;}#sk-container-id-1 pre{padding: 0;}#sk-container-id-1 div.sk-toggleable {background-color: white;}#sk-container-id-1 label.sk-toggleable__label {cursor: pointer;display: block;width: 100%;margin-bottom: 0;padding: 0.3em;box-sizing: border-box;text-align: center;}#sk-container-id-1 label.sk-toggleable__label-arrow:before {content: \"▸\";float: left;margin-right: 0.25em;color: #696969;}#sk-container-id-1 label.sk-toggleable__label-arrow:hover:before {color: black;}#sk-container-id-1 div.sk-estimator:hover label.sk-toggleable__label-arrow:before {color: black;}#sk-container-id-1 div.sk-toggleable__content {max-height: 0;max-width: 0;overflow: hidden;text-align: left;background-color: #f0f8ff;}#sk-container-id-1 div.sk-toggleable__content pre {margin: 0.2em;color: black;border-radius: 0.25em;background-color: #f0f8ff;}#sk-container-id-1 input.sk-toggleable__control:checked~div.sk-toggleable__content {max-height: 200px;max-width: 100%;overflow: auto;}#sk-container-id-1 input.sk-toggleable__control:checked~label.sk-toggleable__label-arrow:before {content: \"▾\";}#sk-container-id-1 div.sk-estimator input.sk-toggleable__control:checked~label.sk-toggleable__label {background-color: #d4ebff;}#sk-container-id-1 div.sk-label input.sk-toggleable__control:checked~label.sk-toggleable__label {background-color: #d4ebff;}#sk-container-id-1 input.sk-hidden--visually {border: 0;clip: rect(1px 1px 1px 1px);clip: rect(1px, 1px, 1px, 1px);height: 1px;margin: -1px;overflow: hidden;padding: 0;position: absolute;width: 1px;}#sk-container-id-1 div.sk-estimator {font-family: monospace;background-color: #f0f8ff;border: 1px dotted black;border-radius: 0.25em;box-sizing: border-box;margin-bottom: 0.5em;}#sk-container-id-1 div.sk-estimator:hover {background-color: #d4ebff;}#sk-container-id-1 div.sk-parallel-item::after {content: \"\";width: 100%;border-bottom: 1px solid gray;flex-grow: 1;}#sk-container-id-1 div.sk-label:hover label.sk-toggleable__label {background-color: #d4ebff;}#sk-container-id-1 div.sk-serial::before {content: \"\";position: absolute;border-left: 1px solid gray;box-sizing: border-box;top: 0;bottom: 0;left: 50%;z-index: 0;}#sk-container-id-1 div.sk-serial {display: flex;flex-direction: column;align-items: center;background-color: white;padding-right: 0.2em;padding-left: 0.2em;position: relative;}#sk-container-id-1 div.sk-item {position: relative;z-index: 1;}#sk-container-id-1 div.sk-parallel {display: flex;align-items: stretch;justify-content: center;background-color: white;position: relative;}#sk-container-id-1 div.sk-item::before, #sk-container-id-1 div.sk-parallel-item::before {content: \"\";position: absolute;border-left: 1px solid gray;box-sizing: border-box;top: 0;bottom: 0;left: 50%;z-index: -1;}#sk-container-id-1 div.sk-parallel-item {display: flex;flex-direction: column;z-index: 1;position: relative;background-color: white;}#sk-container-id-1 div.sk-parallel-item:first-child::after {align-self: flex-end;width: 50%;}#sk-container-id-1 div.sk-parallel-item:last-child::after {align-self: flex-start;width: 50%;}#sk-container-id-1 div.sk-parallel-item:only-child::after {width: 0;}#sk-container-id-1 div.sk-dashed-wrapped {border: 1px dashed gray;margin: 0 0.4em 0.5em 0.4em;box-sizing: border-box;padding-bottom: 0.4em;background-color: white;}#sk-container-id-1 div.sk-label label {font-family: monospace;font-weight: bold;display: inline-block;line-height: 1.2em;}#sk-container-id-1 div.sk-label-container {text-align: center;}#sk-container-id-1 div.sk-container {/* jupyter's `normalize.less` sets `[hidden] { display: none; }` but bootstrap.min.css set `[hidden] { display: none !important; }` so we also need the `!important` here to be able to override the default hidden behavior on the sphinx rendered scikit-learn.org. See: https://github.com/scikit-learn/scikit-learn/issues/21755 */display: inline-block !important;position: relative;}#sk-container-id-1 div.sk-text-repr-fallback {display: none;}</style><div id=\"sk-container-id-1\" class=\"sk-top-container\"><div class=\"sk-text-repr-fallback\"><pre>MultinomialNB()</pre><b>In a Jupyter environment, please rerun this cell to show the HTML representation or trust the notebook. <br />On GitHub, the HTML representation is unable to render, please try loading this page with nbviewer.org.</b></div><div class=\"sk-container\" hidden><div class=\"sk-item\"><div class=\"sk-estimator sk-toggleable\"><input class=\"sk-toggleable__control sk-hidden--visually\" id=\"sk-estimator-id-1\" type=\"checkbox\" checked><label for=\"sk-estimator-id-1\" class=\"sk-toggleable__label sk-toggleable__label-arrow\">MultinomialNB</label><div class=\"sk-toggleable__content\"><pre>MultinomialNB()</pre></div></div></div></div></div>"
      ],
      "text/plain": [
       "MultinomialNB()"
      ]
     },
     "execution_count": 37,
     "metadata": {},
     "output_type": "execute_result"
    }
   ],
   "source": [
    "# fit the model\n",
    "%time mnb.fit(X_train, y_train)"
   ]
  },
  {
   "cell_type": "code",
   "execution_count": 38,
   "metadata": {},
   "outputs": [
    {
     "data": {
      "text/plain": [
       "array([4, 4, 5, 5, 1, 1, 3, 2, 2, 1])"
      ]
     },
     "execution_count": 38,
     "metadata": {},
     "output_type": "execute_result"
    }
   ],
   "source": [
    "# make class predictions\n",
    "mnb_pred = mnb.predict(X_test)\n",
    "mnb_pred[:10]"
   ]
  },
  {
   "cell_type": "code",
   "execution_count": 39,
   "metadata": {},
   "outputs": [
    {
     "name": "stdout",
     "output_type": "stream",
     "text": [
      "Test Accuracy: 85.4%\n"
     ]
    }
   ],
   "source": [
    "# calculate accuracy of class predictions\n",
    "print(f\"Test Accuracy: {accuracy_score(y_test, mnb_pred) * 100:.1f}%\")"
   ]
  },
  {
   "cell_type": "code",
   "execution_count": 40,
   "metadata": {},
   "outputs": [
    {
     "name": "stdout",
     "output_type": "stream",
     "text": [
      "              precision    recall  f1-score   support\n",
      "\n",
      "           1       0.95      1.00      0.98       624\n",
      "           2       0.85      0.98      0.91       643\n",
      "           3       0.97      0.39      0.56       656\n",
      "           4       0.78      0.94      0.85       625\n",
      "           5       0.81      0.98      0.89       626\n",
      "\n",
      "    accuracy                           0.85      3174\n",
      "   macro avg       0.87      0.86      0.84      3174\n",
      "weighted avg       0.87      0.85      0.83      3174\n",
      "\n"
     ]
    }
   ],
   "source": [
    "# calculate precision and recall\n",
    "print(classification_report(y_test, mnb_pred))"
   ]
  },
  {
   "cell_type": "code",
   "execution_count": 41,
   "metadata": {},
   "outputs": [
    {
     "name": "stdout",
     "output_type": "stream",
     "text": [
      "[[624   0   0   0   0]\n",
      " [  9 630   1   2   1]\n",
      " [ 20  98 257 160 121]\n",
      " [  0   8   6 590  21]\n",
      " [  2   7   0   6 611]]\n"
     ]
    }
   ],
   "source": [
    "# calculate the confusion matrix\n",
    "print(confusion_matrix(y_test, mnb_pred))"
   ]
  },
  {
   "cell_type": "code",
   "execution_count": 42,
   "metadata": {},
   "outputs": [
    {
     "data": {
      "image/png": "[encoded data removed]",
      "text/plain": [
       "<Figure size 600x400 with 2 Axes>"
      ]
     },
     "metadata": {},
     "output_type": "display_data"
    }
   ],
   "source": [
    "# plot confusion matrix\n",
    "plt.figure(figsize=(6, 4))\n",
    "sns.heatmap(confusion_matrix(y_test, mnb_pred), annot=True, fmt='d', cmap='Blues')\n",
    "plt.xlabel('Predicted')\n",
    "plt.ylabel('Actual')\n",
    "plt.title('Confusion Matrix - Multinomial Naive Bayes')\n",
    "plt.show()"
   ]
  },
  {
   "cell_type": "code",
   "execution_count": 43,
   "metadata": {},
   "outputs": [
    {
     "name": "stdout",
     "output_type": "stream",
     "text": [
      "Training Accuracy: 92.3%\n"
     ]
    }
   ],
   "source": [
    "# test for overfitting\n",
    "mnb_pred_train = mnb.predict(X_train)\n",
    "print(f\"Training Accuracy: {accuracy_score(y_train, mnb_pred_train) * 100:.1f}%\")"
   ]
  },
  {
   "attachments": {},
   "cell_type": "markdown",
   "metadata": {},
   "source": [
    "###  Logistic Regression Model"
   ]
  },
  {
   "cell_type": "code",
   "execution_count": 44,
   "metadata": {},
   "outputs": [],
   "source": [
    "# Logistic Regression model\n",
    "logreg = LogisticRegression(max_iter=200)"
   ]
  },
  {
   "cell_type": "code",
   "execution_count": 45,
   "metadata": {},
   "outputs": [
    {
     "name": "stdout",
     "output_type": "stream",
     "text": [
      "CPU times: user 11min 8s, sys: 46.9 s, total: 11min 55s\n",
      "Wall time: 2min 6s\n"
     ]
    },
    {
     "data": {
      "text/html": [
       "<style>#sk-container-id-2 {color: black;background-color: white;}#sk-container-id-2 pre{padding: 0;}#sk-container-id-2 div.sk-toggleable {background-color: white;}#sk-container-id-2 label.sk-toggleable__label {cursor: pointer;display: block;width: 100%;margin-bottom: 0;padding: 0.3em;box-sizing: border-box;text-align: center;}#sk-container-id-2 label.sk-toggleable__label-arrow:before {content: \"▸\";float: left;margin-right: 0.25em;color: #696969;}#sk-container-id-2 label.sk-toggleable__label-arrow:hover:before {color: black;}#sk-container-id-2 div.sk-estimator:hover label.sk-toggleable__label-arrow:before {color: black;}#sk-container-id-2 div.sk-toggleable__content {max-height: 0;max-width: 0;overflow: hidden;text-align: left;background-color: #f0f8ff;}#sk-container-id-2 div.sk-toggleable__content pre {margin: 0.2em;color: black;border-radius: 0.25em;background-color: #f0f8ff;}#sk-container-id-2 input.sk-toggleable__control:checked~div.sk-toggleable__content {max-height: 200px;max-width: 100%;overflow: auto;}#sk-container-id-2 input.sk-toggleable__control:checked~label.sk-toggleable__label-arrow:before {content: \"▾\";}#sk-container-id-2 div.sk-estimator input.sk-toggleable__control:checked~label.sk-toggleable__label {background-color: #d4ebff;}#sk-container-id-2 div.sk-label input.sk-toggleable__control:checked~label.sk-toggleable__label {background-color: #d4ebff;}#sk-container-id-2 input.sk-hidden--visually {border: 0;clip: rect(1px 1px 1px 1px);clip: rect(1px, 1px, 1px, 1px);height: 1px;margin: -1px;overflow: hidden;padding: 0;position: absolute;width: 1px;}#sk-container-id-2 div.sk-estimator {font-family: monospace;background-color: #f0f8ff;border: 1px dotted black;border-radius: 0.25em;box-sizing: border-box;margin-bottom: 0.5em;}#sk-container-id-2 div.sk-estimator:hover {background-color: #d4ebff;}#sk-container-id-2 div.sk-parallel-item::after {content: \"\";width: 100%;border-bottom: 1px solid gray;flex-grow: 1;}#sk-container-id-2 div.sk-label:hover label.sk-toggleable__label {background-color: #d4ebff;}#sk-container-id-2 div.sk-serial::before {content: \"\";position: absolute;border-left: 1px solid gray;box-sizing: border-box;top: 0;bottom: 0;left: 50%;z-index: 0;}#sk-container-id-2 div.sk-serial {display: flex;flex-direction: column;align-items: center;background-color: white;padding-right: 0.2em;padding-left: 0.2em;position: relative;}#sk-container-id-2 div.sk-item {position: relative;z-index: 1;}#sk-container-id-2 div.sk-parallel {display: flex;align-items: stretch;justify-content: center;background-color: white;position: relative;}#sk-container-id-2 div.sk-item::before, #sk-container-id-2 div.sk-parallel-item::before {content: \"\";position: absolute;border-left: 1px solid gray;box-sizing: border-box;top: 0;bottom: 0;left: 50%;z-index: -1;}#sk-container-id-2 div.sk-parallel-item {display: flex;flex-direction: column;z-index: 1;position: relative;background-color: white;}#sk-container-id-2 div.sk-parallel-item:first-child::after {align-self: flex-end;width: 50%;}#sk-container-id-2 div.sk-parallel-item:last-child::after {align-self: flex-start;width: 50%;}#sk-container-id-2 div.sk-parallel-item:only-child::after {width: 0;}#sk-container-id-2 div.sk-dashed-wrapped {border: 1px dashed gray;margin: 0 0.4em 0.5em 0.4em;box-sizing: border-box;padding-bottom: 0.4em;background-color: white;}#sk-container-id-2 div.sk-label label {font-family: monospace;font-weight: bold;display: inline-block;line-height: 1.2em;}#sk-container-id-2 div.sk-label-container {text-align: center;}#sk-container-id-2 div.sk-container {/* jupyter's `normalize.less` sets `[hidden] { display: none; }` but bootstrap.min.css set `[hidden] { display: none !important; }` so we also need the `!important` here to be able to override the default hidden behavior on the sphinx rendered scikit-learn.org. See: https://github.com/scikit-learn/scikit-learn/issues/21755 */display: inline-block !important;position: relative;}#sk-container-id-2 div.sk-text-repr-fallback {display: none;}</style><div id=\"sk-container-id-2\" class=\"sk-top-container\"><div class=\"sk-text-repr-fallback\"><pre>LogisticRegression(max_iter=200)</pre><b>In a Jupyter environment, please rerun this cell to show the HTML representation or trust the notebook. <br />On GitHub, the HTML representation is unable to render, please try loading this page with nbviewer.org.</b></div><div class=\"sk-container\" hidden><div class=\"sk-item\"><div class=\"sk-estimator sk-toggleable\"><input class=\"sk-toggleable__control sk-hidden--visually\" id=\"sk-estimator-id-2\" type=\"checkbox\" checked><label for=\"sk-estimator-id-2\" class=\"sk-toggleable__label sk-toggleable__label-arrow\">LogisticRegression</label><div class=\"sk-toggleable__content\"><pre>LogisticRegression(max_iter=200)</pre></div></div></div></div></div>"
      ],
      "text/plain": [
       "LogisticRegression(max_iter=200)"
      ]
     },
     "execution_count": 45,
     "metadata": {},
     "output_type": "execute_result"
    }
   ],
   "source": [
    "# fit the model\n",
    "%time logreg.fit(X_train, y_train)"
   ]
  },
  {
   "cell_type": "code",
   "execution_count": 46,
   "metadata": {},
   "outputs": [
    {
     "data": {
      "text/plain": [
       "array([4, 4, 5, ..., 4, 4, 1])"
      ]
     },
     "execution_count": 46,
     "metadata": {},
     "output_type": "execute_result"
    }
   ],
   "source": [
    "# make class predictions\n",
    "logreg_pred = logreg.predict(X_test)\n",
    "logreg_pred"
   ]
  },
  {
   "cell_type": "code",
   "execution_count": 47,
   "metadata": {},
   "outputs": [
    {
     "name": "stdout",
     "output_type": "stream",
     "text": [
      "Test Accuracy: 91.3%\n"
     ]
    }
   ],
   "source": [
    "# calculate accuracy of class predictions\n",
    "print(f\"Test Accuracy: {accuracy_score(y_test, logreg_pred) * 100:.1f}%\")"
   ]
  },
  {
   "cell_type": "code",
   "execution_count": 48,
   "metadata": {},
   "outputs": [
    {
     "name": "stdout",
     "output_type": "stream",
     "text": [
      "              precision    recall  f1-score   support\n",
      "\n",
      "           1       0.99      1.00      1.00       624\n",
      "           2       0.93      0.98      0.96       643\n",
      "           3       0.87      0.74      0.80       656\n",
      "           4       0.87      0.91      0.89       625\n",
      "           5       0.90      0.94      0.92       626\n",
      "\n",
      "    accuracy                           0.91      3174\n",
      "   macro avg       0.91      0.91      0.91      3174\n",
      "weighted avg       0.91      0.91      0.91      3174\n",
      "\n"
     ]
    }
   ],
   "source": [
    "# calculate precision and recall\n",
    "print(classification_report(y_test, logreg_pred))"
   ]
  },
  {
   "cell_type": "code",
   "execution_count": 49,
   "metadata": {},
   "outputs": [
    {
     "name": "stdout",
     "output_type": "stream",
     "text": [
      "[[624   0   0   0   0]\n",
      " [  2 633   7   1   0]\n",
      " [  1  40 483  79  53]\n",
      " [  0   5  41 568  11]\n",
      " [  1   4  26   4 591]]\n"
     ]
    }
   ],
   "source": [
    "# calculate the confusion matrix\n",
    "print(confusion_matrix(y_test, logreg_pred))"
   ]
  },
  {
   "cell_type": "code",
   "execution_count": 50,
   "metadata": {},
   "outputs": [
    {
     "data": {
      "image/png": "[encoded data removed]",
      "text/plain": [
       "<Figure size 600x400 with 2 Axes>"
      ]
     },
     "metadata": {},
     "output_type": "display_data"
    }
   ],
   "source": [
    "# plot confusion matrix\n",
    "plt.figure(figsize=(6, 4))\n",
    "sns.heatmap(confusion_matrix(y_test, logreg_pred), annot=True, fmt='d', cmap='Blues')\n",
    "plt.xlabel('Predicted')\n",
    "plt.ylabel('Actual')\n",
    "plt.title('Confusion Matrix for Logistic Regression')\n",
    "plt.show()"
   ]
  },
  {
   "cell_type": "code",
   "execution_count": 51,
   "metadata": {},
   "outputs": [
    {
     "name": "stdout",
     "output_type": "stream",
     "text": [
      "Training Accuracy: 97.4%\n"
     ]
    }
   ],
   "source": [
    "# test for overfitting\n",
    "logreg_pred_train = logreg.predict(X_train)\n",
    "print(f\"Training Accuracy: {accuracy_score(y_train, logreg_pred_train) * 100:.1f}%\")"
   ]
  },
  {
   "attachments": {},
   "cell_type": "markdown",
   "metadata": {},
   "source": [
    "### Support Vector Machine"
   ]
  },
  {
   "cell_type": "code",
   "execution_count": 52,
   "metadata": {},
   "outputs": [],
   "source": [
    "# Support Vector Machine model\n",
    "svm = SGDClassifier(max_iter=100, tol=None)"
   ]
  },
  {
   "cell_type": "code",
   "execution_count": 53,
   "metadata": {},
   "outputs": [
    {
     "name": "stdout",
     "output_type": "stream",
     "text": [
      "CPU times: user 7min 15s, sys: 3.05 s, total: 7min 18s\n",
      "Wall time: 7min 20s\n"
     ]
    },
    {
     "data": {
      "text/html": [
       "<style>#sk-container-id-3 {color: black;background-color: white;}#sk-container-id-3 pre{padding: 0;}#sk-container-id-3 div.sk-toggleable {background-color: white;}#sk-container-id-3 label.sk-toggleable__label {cursor: pointer;display: block;width: 100%;margin-bottom: 0;padding: 0.3em;box-sizing: border-box;text-align: center;}#sk-container-id-3 label.sk-toggleable__label-arrow:before {content: \"▸\";float: left;margin-right: 0.25em;color: #696969;}#sk-container-id-3 label.sk-toggleable__label-arrow:hover:before {color: black;}#sk-container-id-3 div.sk-estimator:hover label.sk-toggleable__label-arrow:before {color: black;}#sk-container-id-3 div.sk-toggleable__content {max-height: 0;max-width: 0;overflow: hidden;text-align: left;background-color: #f0f8ff;}#sk-container-id-3 div.sk-toggleable__content pre {margin: 0.2em;color: black;border-radius: 0.25em;background-color: #f0f8ff;}#sk-container-id-3 input.sk-toggleable__control:checked~div.sk-toggleable__content {max-height: 200px;max-width: 100%;overflow: auto;}#sk-container-id-3 input.sk-toggleable__control:checked~label.sk-toggleable__label-arrow:before {content: \"▾\";}#sk-container-id-3 div.sk-estimator input.sk-toggleable__control:checked~label.sk-toggleable__label {background-color: #d4ebff;}#sk-container-id-3 div.sk-label input.sk-toggleable__control:checked~label.sk-toggleable__label {background-color: #d4ebff;}#sk-container-id-3 input.sk-hidden--visually {border: 0;clip: rect(1px 1px 1px 1px);clip: rect(1px, 1px, 1px, 1px);height: 1px;margin: -1px;overflow: hidden;padding: 0;position: absolute;width: 1px;}#sk-container-id-3 div.sk-estimator {font-family: monospace;background-color: #f0f8ff;border: 1px dotted black;border-radius: 0.25em;box-sizing: border-box;margin-bottom: 0.5em;}#sk-container-id-3 div.sk-estimator:hover {background-color: #d4ebff;}#sk-container-id-3 div.sk-parallel-item::after {content: \"\";width: 100%;border-bottom: 1px solid gray;flex-grow: 1;}#sk-container-id-3 div.sk-label:hover label.sk-toggleable__label {background-color: #d4ebff;}#sk-container-id-3 div.sk-serial::before {content: \"\";position: absolute;border-left: 1px solid gray;box-sizing: border-box;top: 0;bottom: 0;left: 50%;z-index: 0;}#sk-container-id-3 div.sk-serial {display: flex;flex-direction: column;align-items: center;background-color: white;padding-right: 0.2em;padding-left: 0.2em;position: relative;}#sk-container-id-3 div.sk-item {position: relative;z-index: 1;}#sk-container-id-3 div.sk-parallel {display: flex;align-items: stretch;justify-content: center;background-color: white;position: relative;}#sk-container-id-3 div.sk-item::before, #sk-container-id-3 div.sk-parallel-item::before {content: \"\";position: absolute;border-left: 1px solid gray;box-sizing: border-box;top: 0;bottom: 0;left: 50%;z-index: -1;}#sk-container-id-3 div.sk-parallel-item {display: flex;flex-direction: column;z-index: 1;position: relative;background-color: white;}#sk-container-id-3 div.sk-parallel-item:first-child::after {align-self: flex-end;width: 50%;}#sk-container-id-3 div.sk-parallel-item:last-child::after {align-self: flex-start;width: 50%;}#sk-container-id-3 div.sk-parallel-item:only-child::after {width: 0;}#sk-container-id-3 div.sk-dashed-wrapped {border: 1px dashed gray;margin: 0 0.4em 0.5em 0.4em;box-sizing: border-box;padding-bottom: 0.4em;background-color: white;}#sk-container-id-3 div.sk-label label {font-family: monospace;font-weight: bold;display: inline-block;line-height: 1.2em;}#sk-container-id-3 div.sk-label-container {text-align: center;}#sk-container-id-3 div.sk-container {/* jupyter's `normalize.less` sets `[hidden] { display: none; }` but bootstrap.min.css set `[hidden] { display: none !important; }` so we also need the `!important` here to be able to override the default hidden behavior on the sphinx rendered scikit-learn.org. See: https://github.com/scikit-learn/scikit-learn/issues/21755 */display: inline-block !important;position: relative;}#sk-container-id-3 div.sk-text-repr-fallback {display: none;}</style><div id=\"sk-container-id-3\" class=\"sk-top-container\"><div class=\"sk-text-repr-fallback\"><pre>SGDClassifier(max_iter=100, tol=None)</pre><b>In a Jupyter environment, please rerun this cell to show the HTML representation or trust the notebook. <br />On GitHub, the HTML representation is unable to render, please try loading this page with nbviewer.org.</b></div><div class=\"sk-container\" hidden><div class=\"sk-item\"><div class=\"sk-estimator sk-toggleable\"><input class=\"sk-toggleable__control sk-hidden--visually\" id=\"sk-estimator-id-3\" type=\"checkbox\" checked><label for=\"sk-estimator-id-3\" class=\"sk-toggleable__label sk-toggleable__label-arrow\">SGDClassifier</label><div class=\"sk-toggleable__content\"><pre>SGDClassifier(max_iter=100, tol=None)</pre></div></div></div></div></div>"
      ],
      "text/plain": [
       "SGDClassifier(max_iter=100, tol=None)"
      ]
     },
     "execution_count": 53,
     "metadata": {},
     "output_type": "execute_result"
    }
   ],
   "source": [
    "# fit the model\n",
    "%time svm.fit(X_train, y_train)"
   ]
  },
  {
   "cell_type": "code",
   "execution_count": 54,
   "metadata": {},
   "outputs": [],
   "source": [
    "# make class predictions\n",
    "svm_pred = svm.predict(X_test)"
   ]
  },
  {
   "cell_type": "code",
   "execution_count": 55,
   "metadata": {},
   "outputs": [
    {
     "name": "stdout",
     "output_type": "stream",
     "text": [
      "Test Accuracy: 92.5%\n"
     ]
    }
   ],
   "source": [
    "# calculate accuracy of class predictions\n",
    "print(f\"Test Accuracy: {accuracy_score(y_test, svm_pred) * 100:.1f}%\")"
   ]
  },
  {
   "cell_type": "code",
   "execution_count": 56,
   "metadata": {},
   "outputs": [
    {
     "name": "stdout",
     "output_type": "stream",
     "text": [
      "              precision    recall  f1-score   support\n",
      "\n",
      "           1       0.99      1.00      1.00       624\n",
      "           2       0.95      1.00      0.97       643\n",
      "           3       0.94      0.71      0.81       656\n",
      "           4       0.86      0.95      0.90       625\n",
      "           5       0.90      0.98      0.94       626\n",
      "\n",
      "    accuracy                           0.93      3174\n",
      "   macro avg       0.93      0.93      0.92      3174\n",
      "weighted avg       0.93      0.93      0.92      3174\n",
      "\n"
     ]
    }
   ],
   "source": [
    "# calculate precision and recall\n",
    "print(classification_report(y_test, svm_pred))"
   ]
  },
  {
   "cell_type": "code",
   "execution_count": 57,
   "metadata": {},
   "outputs": [
    {
     "name": "stdout",
     "output_type": "stream",
     "text": [
      "[[624   0   0   0   0]\n",
      " [  2 640   0   1   0]\n",
      " [  2  34 466  95  59]\n",
      " [  0   0  25 592   8]\n",
      " [  2   1   7   1 615]]\n"
     ]
    }
   ],
   "source": [
    "# calculate the confusion matrix\n",
    "print(confusion_matrix(y_test, svm_pred))"
   ]
  },
  {
   "cell_type": "code",
   "execution_count": 58,
   "metadata": {},
   "outputs": [
    {
     "data": {
      "image/png": "[encoded data removed]",
      "text/plain": [
       "<Figure size 600x400 with 2 Axes>"
      ]
     },
     "metadata": {},
     "output_type": "display_data"
    }
   ],
   "source": [
    "# plot confusion matrix\n",
    "plt.figure(figsize=(6, 4))\n",
    "sns.heatmap(confusion_matrix(y_test, svm_pred), annot=True, fmt='d', cmap='Blues')\n",
    "plt.xlabel('Predicted')\n",
    "plt.ylabel('Actual')\n",
    "plt.title('Confusion Matrix for SVM')\n",
    "plt.show()"
   ]
  },
  {
   "cell_type": "code",
   "execution_count": 59,
   "metadata": {},
   "outputs": [
    {
     "name": "stdout",
     "output_type": "stream",
     "text": [
      "Training Accuracy: 98.3%\n"
     ]
    }
   ],
   "source": [
    "# test for overfitting\n",
    "svm_pred_train = svm.predict(X_train)\n",
    "print(f\"Training Accuracy: {accuracy_score(y_train, svm_pred_train) * 100:.1f}%\")"
   ]
  },
  {
   "cell_type": "code",
   "execution_count": 60,
   "metadata": {},
   "outputs": [
    {
     "name": "stdout",
     "output_type": "stream",
     "text": [
      "Multinomial Naive Bayes Test Accuracy: 85.4%\n",
      "Logistic Regression Test Accuracy: 91.3%\n",
      "SVM Test Accuracy: 92.5%\n"
     ]
    }
   ],
   "source": [
    "# compare the models\n",
    "print(f\"Multinomial Naive Bayes Test Accuracy: {accuracy_score(y_test, mnb_pred) * 100:.1f}%\")\n",
    "print(f\"Logistic Regression Test Accuracy: {accuracy_score(y_test, logreg_pred) * 100:.1f}%\")\n",
    "print(f\"SVM Test Accuracy: {accuracy_score(y_test, svm_pred) * 100:.1f}%\")"
   ]
  },
  {
   "attachments": {},
   "cell_type": "markdown",
   "metadata": {},
   "source": [
    "Based on the result of the three models, I choose the SVM model to predict the sentiment of the news articles."
   ]
  },
  {
   "attachments": {},
   "cell_type": "markdown",
   "metadata": {},
   "source": [
    "## Predict Sentiment of News Articles"
   ]
  },
  {
   "cell_type": "code",
   "execution_count": 61,
   "metadata": {},
   "outputs": [],
   "source": [
    "# convert lemmatized tokens back to string\n",
    "news_lemmatized_str = df_news['text_lemmatized'].apply(lambda x: ' '.join(x))\n",
    "\n",
    "# vectorize the text using tfidf\n",
    "news_vec = tfidf.transform(news_lemmatized_str)"
   ]
  },
  {
   "cell_type": "code",
   "execution_count": 62,
   "metadata": {},
   "outputs": [
    {
     "data": {
      "text/plain": [
       "(154283, 32686)"
      ]
     },
     "execution_count": 62,
     "metadata": {},
     "output_type": "execute_result"
    }
   ],
   "source": [
    "news_vec.toarray().shape"
   ]
  },
  {
   "cell_type": "code",
   "execution_count": 63,
   "metadata": {},
   "outputs": [
    {
     "data": {
      "text/plain": [
       "array([5, 4, 5, 3, 2, 3, 5, 5, 5, 2])"
      ]
     },
     "execution_count": 63,
     "metadata": {},
     "output_type": "execute_result"
    }
   ],
   "source": [
    "# make predictions\n",
    "news_pred = svm.predict(news_vec)\n",
    "news_pred[:10]"
   ]
  },
  {
   "cell_type": "code",
   "execution_count": 64,
   "metadata": {},
   "outputs": [
    {
     "data": {
      "text/html": [
       "<div>\n",
       "<style scoped>\n",
       "    .dataframe tbody tr th:only-of-type {\n",
       "        vertical-align: middle;\n",
       "    }\n",
       "\n",
       "    .dataframe tbody tr th {\n",
       "        vertical-align: top;\n",
       "    }\n",
       "\n",
       "    .dataframe thead th {\n",
       "        text-align: right;\n",
       "    }\n",
       "</style>\n",
       "<table border=\"1\" class=\"dataframe\">\n",
       "  <thead>\n",
       "    <tr style=\"text-align: right;\">\n",
       "      <th></th>\n",
       "      <th>id</th>\n",
       "      <th>date</th>\n",
       "      <th>cleaned title</th>\n",
       "      <th>cleaned text</th>\n",
       "      <th>title_tokens</th>\n",
       "      <th>title_lemmatized</th>\n",
       "      <th>text_tokens</th>\n",
       "      <th>text_lemmatized</th>\n",
       "      <th>title_keywords</th>\n",
       "      <th>text_keywords</th>\n",
       "      <th>sentiment</th>\n",
       "    </tr>\n",
       "  </thead>\n",
       "  <tbody>\n",
       "    <tr>\n",
       "      <th>0</th>\n",
       "      <td>1</td>\n",
       "      <td>2020-02-27</td>\n",
       "      <td>Children With Autism Saw Their Learning and Social Skills Boosted After Playing With This AI Robot</td>\n",
       "      <td>Children With Autism Saw Their Learning and Social Skills Boosted After Playing With This AI Robot admin  Latest posts by admin see all  Mansplaining in conferences: How can we get him to forestall  February 27, 2020 Coronavirus Could Explode in the U.S. Overnight Like it Did in Italy  February 27, 2020 Levi Strauss marks the next phase in corporate paid leave policies  February 27, 2020 Scientists who designed an artificially clever robotic that helped youngsters with autism spice up their ...</td>\n",
       "      <td>[children, autism, saw, learning, social, skills, boosted, playing, ai, robot, children, autism, saw, learning, social, skills, boosted, playing, ai, robot, children, autism, saw, learning, social, skills, boosted, playing, ai_robot]</td>\n",
       "      <td>[child, autism, see, learn, social, skill, boost, play, robot, child, autism, see, learn, social, skill, boost, play, robot, child, autism, see, learn, social, skill, boost, play, ai_robot]</td>\n",
       "      <td>[children, autism, saw, learning, social, skills, boosted, playing, ai, robot, admin, latest, posts, admin, see, mansplaining, conferences, get, forestall, february, coronavirus, could, explode, overnight, like, italy, february, levi, strauss, marks, next, phase, corporate, paid, leave, policies, february, scientists, designed, artificially, clever, robotic, helped, youngsters, autism, spice, studying, social, talents, hope, era, may, future, help, others, developmental, dysfunction, learn, ...</td>\n",
       "      <td>[child, autism, see, learn, social, skill, boost, play, robot, late, post, admin, see, mansplaining, conference, get, explode, overnight, mark, next, phase, corporate, pay, leave, policy, scientist, design, artificially, clever, robotic, help, youngster, autism, spice, study, social, talent, era, future, help, other, developmental, dysfunction, learn, notice, youngster, gentle, average, autism, take, domestic, s, refer, socially, assistive, robotic, name, kiwi, month, accord, commentary, way...</td>\n",
       "      <td>[social, skill, see, play, learn, child, boost, autism, robot, ai_robot]</td>\n",
       "      <td>[robotic, youngster, kid, child, kiwi, market, autism, learn, crew, talent]</td>\n",
       "      <td>5</td>\n",
       "    </tr>\n",
       "    <tr>\n",
       "      <th>1</th>\n",
       "      <td>2</td>\n",
       "      <td>2021-03-26</td>\n",
       "      <td>Forget ML, AI and Industry 4.0 – obsolescence should be your focus</td>\n",
       "      <td>Forget ML, AI and Industry 4.0  obsolescence should be your focus The world entered a new era of accelerated transformation in the last eighteen months that will continue to evolve and press forward for years to come. Most businesses are playing catchup trying to make sense of a new timeline where the ten years that had been set aside for careful planning and implementation of what was coming up next no longer exists. The next is happening now and, regardless of your industry or seniority, t...</td>\n",
       "      <td>[forget, ml, ai, industry, obsolescence, focus, forget, ml, ai, industry, obsolescence, focus, forget, ml, ai, industry, obsolescence, focus]</td>\n",
       "      <td>[forget, ml, ai, industry, obsolescence, focus, forget, ml, ai, industry, obsolescence, focus, forget, ml, ai, industry, obsolescence, focus]</td>\n",
       "      <td>[forget, ml, ai, industry, obsolescence, focus, world, entered, new, era, accelerated, transformation, last, eighteen, months, continue, evolve, press, forward, years, come, businesses, playing, catchup, trying, make, sense, new, timeline, ten, years, set, aside, careful, planning, implementation, coming, next, longer, exists, next, happening, regardless, industry, seniority, status, quo, shifted, better, face, back, invited, attend, pompous, meeting, london, brazilian, embassy, along, selec...</td>\n",
       "      <td>[forget, ai, industry, obsolescence, focus, world, enter, new, era, accelerate, transformation, last, month, continue, evolve, press, forward, year, come, business, play, catchup, try, make, sense, new, timeline, year, set, aside, careful, planning, implementation, come, next, long, exist, next, happen, regardless, industry, seniority, status, quo, shift, well, face, back, invite, attend, pompous, meeting, brazilian, embassy, select, lead, name, oil, energy, industry, get, update, go, happen...</td>\n",
       "      <td>[obsolescence, ml, industry, forget, focus, ai]</td>\n",
       "      <td>[electronic, come, card, industry, repair, new, system, require, test, business]</td>\n",
       "      <td>4</td>\n",
       "    </tr>\n",
       "  </tbody>\n",
       "</table>\n",
       "</div>"
      ],
      "text/plain": [
       "   id        date   \n",
       "0   1  2020-02-27  \\\n",
       "1   2  2021-03-26   \n",
       "\n",
       "                                                                                        cleaned title   \n",
       "0  Children With Autism Saw Their Learning and Social Skills Boosted After Playing With This AI Robot  \\\n",
       "1                                  Forget ML, AI and Industry 4.0 – obsolescence should be your focus   \n",
       "\n",
       "                                                                                                                                                                                                                                                                                                                                                                                                                                                                                                          cleaned text   \n",
       "0  Children With Autism Saw Their Learning and Social Skills Boosted After Playing With This AI Robot admin  Latest posts by admin see all  Mansplaining in conferences: How can we get him to forestall  February 27, 2020 Coronavirus Could Explode in the U.S. Overnight Like it Did in Italy  February 27, 2020 Levi Strauss marks the next phase in corporate paid leave policies  February 27, 2020 Scientists who designed an artificially clever robotic that helped youngsters with autism spice up their ...  \\\n",
       "1  Forget ML, AI and Industry 4.0  obsolescence should be your focus The world entered a new era of accelerated transformation in the last eighteen months that will continue to evolve and press forward for years to come. Most businesses are playing catchup trying to make sense of a new timeline where the ten years that had been set aside for careful planning and implementation of what was coming up next no longer exists. The next is happening now and, regardless of your industry or seniority, t...   \n",
       "\n",
       "                                                                                                                                                                                                                                title_tokens   \n",
       "0  [children, autism, saw, learning, social, skills, boosted, playing, ai, robot, children, autism, saw, learning, social, skills, boosted, playing, ai, robot, children, autism, saw, learning, social, skills, boosted, playing, ai_robot]  \\\n",
       "1                                                                                              [forget, ml, ai, industry, obsolescence, focus, forget, ml, ai, industry, obsolescence, focus, forget, ml, ai, industry, obsolescence, focus]   \n",
       "\n",
       "                                                                                                                                                                                title_lemmatized   \n",
       "0  [child, autism, see, learn, social, skill, boost, play, robot, child, autism, see, learn, social, skill, boost, play, robot, child, autism, see, learn, social, skill, boost, play, ai_robot]  \\\n",
       "1                                                  [forget, ml, ai, industry, obsolescence, focus, forget, ml, ai, industry, obsolescence, focus, forget, ml, ai, industry, obsolescence, focus]   \n",
       "\n",
       "                                                                                                                                                                                                                                                                                                                                                                                                                                                                                                           text_tokens   \n",
       "0  [children, autism, saw, learning, social, skills, boosted, playing, ai, robot, admin, latest, posts, admin, see, mansplaining, conferences, get, forestall, february, coronavirus, could, explode, overnight, like, italy, february, levi, strauss, marks, next, phase, corporate, paid, leave, policies, february, scientists, designed, artificially, clever, robotic, helped, youngsters, autism, spice, studying, social, talents, hope, era, may, future, help, others, developmental, dysfunction, learn, ...  \\\n",
       "1  [forget, ml, ai, industry, obsolescence, focus, world, entered, new, era, accelerated, transformation, last, eighteen, months, continue, evolve, press, forward, years, come, businesses, playing, catchup, trying, make, sense, new, timeline, ten, years, set, aside, careful, planning, implementation, coming, next, longer, exists, next, happening, regardless, industry, seniority, status, quo, shifted, better, face, back, invited, attend, pompous, meeting, london, brazilian, embassy, along, selec...   \n",
       "\n",
       "                                                                                                                                                                                                                                                                                                                                                                                                                                                                                                       text_lemmatized   \n",
       "0  [child, autism, see, learn, social, skill, boost, play, robot, late, post, admin, see, mansplaining, conference, get, explode, overnight, mark, next, phase, corporate, pay, leave, policy, scientist, design, artificially, clever, robotic, help, youngster, autism, spice, study, social, talent, era, future, help, other, developmental, dysfunction, learn, notice, youngster, gentle, average, autism, take, domestic, s, refer, socially, assistive, robotic, name, kiwi, month, accord, commentary, way...  \\\n",
       "1  [forget, ai, industry, obsolescence, focus, world, enter, new, era, accelerate, transformation, last, month, continue, evolve, press, forward, year, come, business, play, catchup, try, make, sense, new, timeline, year, set, aside, careful, planning, implementation, come, next, long, exist, next, happen, regardless, industry, seniority, status, quo, shift, well, face, back, invite, attend, pompous, meeting, brazilian, embassy, select, lead, name, oil, energy, industry, get, update, go, happen...   \n",
       "\n",
       "                                                             title_keywords   \n",
       "0  [social, skill, see, play, learn, child, boost, autism, robot, ai_robot]  \\\n",
       "1                           [obsolescence, ml, industry, forget, focus, ai]   \n",
       "\n",
       "                                                                      text_keywords   \n",
       "0       [robotic, youngster, kid, child, kiwi, market, autism, learn, crew, talent]  \\\n",
       "1  [electronic, come, card, industry, repair, new, system, require, test, business]   \n",
       "\n",
       "   sentiment  \n",
       "0          5  \n",
       "1          4  "
      ]
     },
     "execution_count": 64,
     "metadata": {},
     "output_type": "execute_result"
    }
   ],
   "source": [
    "# add predictions to the dataframe\n",
    "df_news['sentiment'] = news_pred\n",
    "df_news.head(2)"
   ]
  },
  {
   "cell_type": "code",
   "execution_count": 65,
   "metadata": {},
   "outputs": [
    {
     "data": {
      "text/plain": [
       "sentiment\n",
       "5    64525\n",
       "4    39703\n",
       "3    35123\n",
       "2    14759\n",
       "1      173\n",
       "Name: count, dtype: int64"
      ]
     },
     "execution_count": 65,
     "metadata": {},
     "output_type": "execute_result"
    }
   ],
   "source": [
    "df_news['sentiment'].value_counts()"
   ]
  },
  {
   "cell_type": "code",
   "execution_count": 66,
   "metadata": {},
   "outputs": [
    {
     "data": {
      "image/png": "[encoded data removed]",
      "text/plain": [
       "<Figure size 600x400 with 1 Axes>"
      ]
     },
     "metadata": {},
     "output_type": "display_data"
    }
   ],
   "source": [
    "# plot the sentiment distribution\n",
    "sns.set_style('whitegrid')\n",
    "plt.figure(figsize=(6, 4))\n",
    "sns.countplot(x='sentiment', data=df_news, palette='viridis')\n",
    "plt.title('Sentiment Distribution')\n",
    "plt.xlabel('Sentiment')\n",
    "plt.ylabel('Count')\n",
    "plt.xticks(ticks=np.arange(5), labels=sentiment_labels)\n",
    "plt.show()"
   ]
  },
  {
   "attachments": {},
   "cell_type": "markdown",
   "metadata": {},
   "source": [
    "### Show the prediction result"
   ]
  },
  {
   "cell_type": "code",
   "execution_count": 67,
   "metadata": {},
   "outputs": [
    {
     "data": {
      "text/plain": [
       "Index([3148], dtype='int64')"
      ]
     },
     "execution_count": 67,
     "metadata": {},
     "output_type": "execute_result"
    }
   ],
   "source": [
    "# randomly select article with sentiment = 5\n",
    "df_news[df_news['sentiment'] == 5].sample(1).index"
   ]
  },
  {
   "cell_type": "code",
   "execution_count": 68,
   "metadata": {},
   "outputs": [
    {
     "data": {
      "text/html": [
       "\n",
       "    <style>\n",
       "    table.eli5-weights tr:hover {\n",
       "        filter: brightness(85%);\n",
       "    }\n",
       "</style>\n",
       "\n",
       "\n",
       "\n",
       "    \n",
       "\n",
       "    \n",
       "\n",
       "    \n",
       "\n",
       "    \n",
       "\n",
       "    \n",
       "\n",
       "    \n",
       "\n",
       "\n",
       "    \n",
       "\n",
       "    \n",
       "\n",
       "    \n",
       "\n",
       "    \n",
       "        \n",
       "\n",
       "    \n",
       "\n",
       "        \n",
       "\n",
       "        \n",
       "    \n",
       "        \n",
       "        \n",
       "    \n",
       "        <p style=\"margin-bottom: 0.5em; margin-top: 0em\">\n",
       "            <b>\n",
       "    \n",
       "        y=5\n",
       "    \n",
       "</b>\n",
       "\n",
       "    \n",
       "    (score <b>0.418</b>)\n",
       "\n",
       "top features\n",
       "        </p>\n",
       "    \n",
       "    <table class=\"eli5-weights\"\n",
       "           style=\"border-collapse: collapse; border: none; margin-top: 0em; table-layout: auto; margin-bottom: 2em;\">\n",
       "        <thead>\n",
       "        <tr style=\"border: none;\">\n",
       "            \n",
       "                <th style=\"padding: 0 1em 0 0.5em; text-align: right; border: none;\" title=\"Feature contribution already accounts for the feature value (for linear models, contribution = weight * feature value), and the sum of feature contributions is equal to the score or, for some classifiers, to the probability. Feature values are shown if &quot;show_feature_values&quot; is True.\">\n",
       "                    Contribution<sup>?</sup>\n",
       "                </th>\n",
       "            \n",
       "            <th style=\"padding: 0 0.5em 0 0.5em; text-align: left; border: none;\">Feature</th>\n",
       "            \n",
       "        </tr>\n",
       "        </thead>\n",
       "        <tbody>\n",
       "        \n",
       "            <tr style=\"background-color: hsl(120, 100.00%, 80.52%); border: none;\">\n",
       "    <td style=\"padding: 0 1em 0 0.5em; text-align: right; border: none;\">\n",
       "        +1.047\n",
       "    </td>\n",
       "    <td style=\"padding: 0 0.5em 0 0.5em; text-align: left; border: none;\">\n",
       "        Highlighted in text (sum)\n",
       "    </td>\n",
       "    \n",
       "</tr>\n",
       "        \n",
       "        \n",
       "            <tr style=\"background-color: hsl(120, 100.00%, 80.52%); border: none;\">\n",
       "                <td colspan=\"2\" style=\"padding: 0 0.5em 0 0.5em; text-align: center; border: none; white-space: nowrap;\">\n",
       "                    <i>&hellip; 204 more positive &hellip;</i>\n",
       "                </td>\n",
       "            </tr>\n",
       "        \n",
       "\n",
       "        \n",
       "            <tr style=\"background-color: hsl(0, 100.00%, 80.00%); border: none;\">\n",
       "                <td colspan=\"2\" style=\"padding: 0 0.5em 0 0.5em; text-align: center; border: none; white-space: nowrap;\">\n",
       "                    <i>&hellip; 248 more negative &hellip;</i>\n",
       "                </td>\n",
       "            </tr>\n",
       "        \n",
       "        \n",
       "            <tr style=\"background-color: hsl(0, 100.00%, 80.00%); border: none;\">\n",
       "    <td style=\"padding: 0 1em 0 0.5em; text-align: right; border: none;\">\n",
       "        -1.087\n",
       "    </td>\n",
       "    <td style=\"padding: 0 0.5em 0 0.5em; text-align: left; border: none;\">\n",
       "        &lt;BIAS&gt;\n",
       "    </td>\n",
       "    \n",
       "</tr>\n",
       "        \n",
       "\n",
       "        </tbody>\n",
       "    </table>\n",
       "\n",
       "    \n",
       "\n",
       "\n",
       "\n",
       "    <p style=\"margin-bottom: 2.5em; margin-top:-0.5em;\">\n",
       "        <span style=\"background-color: hsl(0, 100.00%, 82.24%); opacity: 0.86\" title=\"-0.003\">big</span><span style=\"opacity: 0.80\"> </span><span style=\"background-color: hsl(120, 100.00%, 83.46%); opacity: 0.86\" title=\"0.003\">datum</span><span style=\"opacity: 0.80\"> machine learning differ relate pro con technology product project consider </span><span style=\"background-color: hsl(0, 100.00%, 82.24%); opacity: 0.86\" title=\"-0.003\">big</span><span style=\"opacity: 0.80\"> </span><span style=\"background-color: hsl(120, 100.00%, 83.46%); opacity: 0.86\" title=\"0.003\">datum</span><span style=\"opacity: 0.80\"> machine </span><span style=\"background-color: hsl(120, 100.00%, 63.99%); opacity: 0.97\" title=\"0.009\">learn</span><span style=\"opacity: 0.80\"> powerful analytic pair here explanation difference use together </span><span style=\"background-color: hsl(120, 100.00%, 83.46%); opacity: 0.86\" title=\"0.003\">datum</span><span style=\"opacity: 0.80\"> heart modern enterprise help organization well understand customer make well business decision </span><span style=\"background-color: hsl(120, 100.00%, 60.00%); opacity: 1.00\" title=\"0.011\">improve</span><span style=\"opacity: 0.80\"> business process track inventory monitor competitor take step successfully run operation decade many organization get well grasp handle increase amount different form </span><span style=\"background-color: hsl(120, 100.00%, 83.46%); opacity: 0.86\" title=\"0.003\">datum</span><span style=\"opacity: 0.80\"> </span><span style=\"background-color: hsl(0, 100.00%, 82.24%); opacity: 0.86\" title=\"-0.003\">big</span><span style=\"opacity: 0.80\"> </span><span style=\"background-color: hsl(120, 100.00%, 83.46%); opacity: 0.86\" title=\"0.003\">datum</span><span style=\"opacity: 0.80\"> re create collect many case </span><span style=\"background-color: hsl(0, 100.00%, 82.24%); opacity: 0.86\" title=\"-0.003\">big</span><span style=\"opacity: 0.80\"> </span><span style=\"background-color: hsl(120, 100.00%, 83.46%); opacity: 0.86\" title=\"0.003\">datum</span><span style=\"opacity: 0.80\"> large complex combination structure unstructured semistructured </span><span style=\"background-color: hsl(120, 100.00%, 83.46%); opacity: 0.86\" title=\"0.003\">datum</span><span style=\"opacity: 0.80\"> traditional </span><span style=\"background-color: hsl(120, 100.00%, 81.54%); opacity: 0.87\" title=\"0.004\">data</span><span style=\"opacity: 0.80\"> management tool process store manage effectively efficiently spark hadoop nosql database </span><span style=\"background-color: hsl(0, 100.00%, 82.24%); opacity: 0.86\" title=\"-0.003\">big</span><span style=\"opacity: 0.80\"> </span><span style=\"background-color: hsl(120, 100.00%, 83.46%); opacity: 0.86\" title=\"0.003\">datum</span><span style=\"opacity: 0.80\"> platform emerge help fill gap enable </span><span style=\"background-color: hsl(120, 100.00%, 83.46%); opacity: 0.86\" title=\"0.003\">datum</span><span style=\"opacity: 0.80\"> lake set repository </span><span style=\"background-color: hsl(120, 100.00%, 83.46%); opacity: 0.86\" title=\"0.003\">datum</span><span style=\"opacity: 0.80\"> however simply sufficient get business </span><span style=\"background-color: hsl(0, 100.00%, 69.62%); opacity: 0.93\" title=\"-0.007\">value</span><span style=\"opacity: 0.80\"> </span><span style=\"background-color: hsl(0, 100.00%, 82.24%); opacity: 0.86\" title=\"-0.003\">big</span><span style=\"opacity: 0.80\"> </span><span style=\"background-color: hsl(120, 100.00%, 83.46%); opacity: 0.86\" title=\"0.003\">datum</span><span style=\"opacity: 0.80\"> conventional </span><span style=\"background-color: hsl(120, 100.00%, 81.54%); opacity: 0.87\" title=\"0.004\">data</span><span style=\"opacity: 0.80\"> analytic application fully tap potential benefit company master </span><span style=\"background-color: hsl(0, 100.00%, 82.24%); opacity: 0.86\" title=\"-0.003\">big</span><span style=\"opacity: 0.80\"> </span><span style=\"background-color: hsl(120, 100.00%, 81.54%); opacity: 0.87\" title=\"0.004\">data</span><span style=\"opacity: 0.80\"> management process forwardthinke one apply intelligent advanced form analytic extract </span><span style=\"background-color: hsl(0, 100.00%, 69.62%); opacity: 0.93\" title=\"-0.007\">value</span><span style=\"opacity: 0.80\"> </span><span style=\"background-color: hsl(120, 100.00%, 83.46%); opacity: 0.86\" title=\"0.003\">datum</span><span style=\"opacity: 0.80\"> particular machine </span><span style=\"background-color: hsl(120, 100.00%, 63.99%); opacity: 0.97\" title=\"0.009\">learn</span><span style=\"opacity: 0.80\"> spot pattern provide cognitive capability large volume </span><span style=\"background-color: hsl(120, 100.00%, 83.46%); opacity: 0.86\" title=\"0.003\">datum</span><span style=\"opacity: 0.80\"> give organization ability take </span><span style=\"background-color: hsl(0, 100.00%, 82.24%); opacity: 0.86\" title=\"-0.003\">big</span><span style=\"opacity: 0.80\"> </span><span style=\"background-color: hsl(120, 100.00%, 81.54%); opacity: 0.87\" title=\"0.004\">data</span><span style=\"opacity: 0.80\"> analytic initiative next level use machine learning algorithm </span><span style=\"background-color: hsl(0, 100.00%, 82.24%); opacity: 0.86\" title=\"-0.003\">big</span><span style=\"opacity: 0.80\"> </span><span style=\"background-color: hsl(120, 100.00%, 81.54%); opacity: 0.87\" title=\"0.004\">data</span><span style=\"opacity: 0.80\"> analytic logical step company look maximize </span><span style=\"background-color: hsl(120, 100.00%, 81.54%); opacity: 0.87\" title=\"0.004\">data</span><span style=\"opacity: 0.80\"> potential </span><span style=\"background-color: hsl(0, 100.00%, 69.62%); opacity: 0.93\" title=\"-0.007\">value</span><span style=\"opacity: 0.80\"> machine learning tool use datadriven algorithm statistical model analyze </span><span style=\"background-color: hsl(120, 100.00%, 81.54%); opacity: 0.87\" title=\"0.004\">data</span><span style=\"opacity: 0.80\"> set draw inference identify pattern make prediction base algorithm </span><span style=\"background-color: hsl(120, 100.00%, 63.99%); opacity: 0.97\" title=\"0.009\">learn</span><span style=\"opacity: 0.80\"> </span><span style=\"background-color: hsl(120, 100.00%, 83.46%); opacity: 0.86\" title=\"0.003\">datum</span><span style=\"opacity: 0.80\"> run oppose traditional rulesbase analytic system follow explicit instruction </span><span style=\"background-color: hsl(0, 100.00%, 82.24%); opacity: 0.86\" title=\"-0.003\">big</span><span style=\"opacity: 0.80\"> </span><span style=\"background-color: hsl(120, 100.00%, 83.46%); opacity: 0.86\" title=\"0.003\">datum</span><span style=\"opacity: 0.80\"> provide ample amount raw material machine </span><span style=\"background-color: hsl(120, 100.00%, 63.99%); opacity: 0.97\" title=\"0.009\">learn</span><span style=\"opacity: 0.80\"> system derive insight combine organization produce significant analytic finding result however order fully harness combine power </span><span style=\"background-color: hsl(0, 100.00%, 82.24%); opacity: 0.86\" title=\"-0.003\">big</span><span style=\"opacity: 0.80\"> </span><span style=\"background-color: hsl(120, 100.00%, 81.54%); opacity: 0.87\" title=\"0.004\">data</span><span style=\"opacity: 0.80\"> machine </span><span style=\"background-color: hsl(120, 100.00%, 63.99%); opacity: 0.97\" title=\"0.009\">learn</span><span style=\"opacity: 0.80\"> important first understand let look </span><span style=\"background-color: hsl(0, 100.00%, 82.24%); opacity: 0.86\" title=\"-0.003\">big</span><span style=\"opacity: 0.80\"> </span><span style=\"background-color: hsl(120, 100.00%, 83.46%); opacity: 0.86\" title=\"0.003\">datum</span><span style=\"opacity: 0.80\"> machine </span><span style=\"background-color: hsl(120, 100.00%, 63.99%); opacity: 0.97\" title=\"0.009\">learn</span><span style=\"opacity: 0.80\"> key attribute aspect </span><span style=\"background-color: hsl(0, 100.00%, 82.24%); opacity: 0.86\" title=\"-0.003\">big</span><span style=\"opacity: 0.80\"> </span><span style=\"background-color: hsl(120, 100.00%, 81.54%); opacity: 0.87\" title=\"0.004\">data</span><span style=\"opacity: 0.80\"> machine </span><span style=\"background-color: hsl(120, 100.00%, 63.99%); opacity: 0.97\" title=\"0.009\">learn</span><span style=\"opacity: 0.80\"> </span><span style=\"background-color: hsl(0, 100.00%, 82.24%); opacity: 0.86\" title=\"-0.003\">big</span><span style=\"opacity: 0.80\"> </span><span style=\"background-color: hsl(120, 100.00%, 83.46%); opacity: 0.86\" title=\"0.003\">datum</span><span style=\"opacity: 0.80\"> course </span><span style=\"background-color: hsl(120, 100.00%, 81.54%); opacity: 0.87\" title=\"0.004\">data</span><span style=\"opacity: 0.80\"> term embody idea work large quantity </span><span style=\"background-color: hsl(120, 100.00%, 83.46%); opacity: 0.86\" title=\"0.003\">datum</span><span style=\"opacity: 0.80\"> </span><span style=\"background-color: hsl(120, 100.00%, 83.46%); opacity: 0.86\" title=\"0.003\">datum</span><span style=\"opacity: 0.80\"> quantity volume attribute </span><span style=\"background-color: hsl(0, 100.00%, 82.24%); opacity: 0.86\" title=\"-0.003\">big</span><span style=\"opacity: 0.80\"> </span><span style=\"background-color: hsl(120, 100.00%, 83.46%); opacity: 0.86\" title=\"0.003\">datum</span><span style=\"opacity: 0.80\"> various also consider example follow list include volume deal challenge store </span><span style=\"background-color: hsl(0, 100.00%, 82.24%); opacity: 0.86\" title=\"-0.003\">big</span><span style=\"opacity: 0.80\"> </span><span style=\"background-color: hsl(120, 100.00%, 83.46%); opacity: 0.86\" title=\"0.003\">datum</span><span style=\"opacity: 0.80\"> significant undertaking many organization today uncommon company process terabyte petabyte even exabyte </span><span style=\"background-color: hsl(120, 100.00%, 81.54%); opacity: 0.87\" title=\"0.004\">data</span><span style=\"opacity: 0.80\"> daily velocity much </span><span style=\"background-color: hsl(120, 100.00%, 83.46%); opacity: 0.86\" title=\"0.003\">datum</span><span style=\"opacity: 0.80\"> static sitting rest many </span><span style=\"background-color: hsl(0, 100.00%, 82.24%); opacity: 0.86\" title=\"-0.003\">big</span><span style=\"opacity: 0.80\"> </span><span style=\"background-color: hsl(120, 100.00%, 83.46%); opacity: 0.86\" title=\"0.003\">datum</span><span style=\"opacity: 0.80\"> system </span><span style=\"background-color: hsl(120, 100.00%, 83.46%); opacity: 0.86\" title=\"0.003\">datum</span><span style=\"opacity: 0.80\"> generate analyze high velocity </span><span style=\"background-color: hsl(0, 100.00%, 82.24%); opacity: 0.86\" title=\"-0.003\">big</span><span style=\"opacity: 0.80\"> </span><span style=\"background-color: hsl(120, 100.00%, 83.46%); opacity: 0.86\" title=\"0.003\">datum</span><span style=\"opacity: 0.80\"> application require extremely high processing analysis speed second millisecond matter keep incoming </span><span style=\"background-color: hsl(120, 100.00%, 83.46%); opacity: 0.86\" title=\"0.003\">datum</span><span style=\"opacity: 0.80\"> </span><span style=\"background-color: hsl(0, 100.00%, 63.82%); opacity: 0.97\" title=\"-0.009\">variety</span><span style=\"opacity: 0.80\"> </span><span style=\"background-color: hsl(0, 100.00%, 82.24%); opacity: 0.86\" title=\"-0.003\">big</span><span style=\"opacity: 0.80\"> </span><span style=\"background-color: hsl(120, 100.00%, 83.46%); opacity: 0.86\" title=\"0.003\">datum</span><span style=\"opacity: 0.80\"> come various structured unstructured semistructured format addition spreadsheet </span><span style=\"background-color: hsl(120, 100.00%, 83.46%); opacity: 0.86\" title=\"0.003\">datum</span><span style=\"opacity: 0.80\"> uncommon </span><span style=\"background-color: hsl(0, 100.00%, 82.24%); opacity: 0.86\" title=\"-0.003\">big</span><span style=\"opacity: 0.80\"> </span><span style=\"background-color: hsl(120, 100.00%, 83.46%); opacity: 0.86\" title=\"0.003\">datum</span><span style=\"opacity: 0.80\"> environment include video image text document sensor </span><span style=\"background-color: hsl(120, 100.00%, 83.46%); opacity: 0.86\" title=\"0.003\">datum</span><span style=\"opacity: 0.80\"> log file type </span><span style=\"background-color: hsl(120, 100.00%, 81.54%); opacity: 0.87\" title=\"0.004\">data</span><span style=\"opacity: 0.80\"> veracity </span><span style=\"background-color: hsl(0, 100.00%, 82.24%); opacity: 0.86\" title=\"-0.003\">big</span><span style=\"opacity: 0.80\"> </span><span style=\"background-color: hsl(120, 100.00%, 83.46%); opacity: 0.86\" title=\"0.003\">datum</span><span style=\"opacity: 0.80\"> typically collect </span><span style=\"background-color: hsl(0, 100.00%, 63.82%); opacity: 0.97\" title=\"-0.009\">variety</span><span style=\"opacity: 0.80\"> source </span><span style=\"background-color: hsl(0, 100.00%, 63.82%); opacity: 0.97\" title=\"-0.009\">variety</span><span style=\"opacity: 0.80\"> form </span><span style=\"background-color: hsl(120, 100.00%, 83.46%); opacity: 0.86\" title=\"0.003\">datum</span><span style=\"opacity: 0.80\"> quality also vary veracity refer accuracy trustworthiness successfully address </span><span style=\"background-color: hsl(120, 100.00%, 83.46%); opacity: 0.86\" title=\"0.003\">datum</span><span style=\"opacity: 0.80\"> veracity challenge require cleansing </span><span style=\"background-color: hsl(120, 100.00%, 83.46%); opacity: 0.86\" title=\"0.003\">datum</span><span style=\"opacity: 0.80\"> remove duplicate record fix error inconsistency reduce noise eliminate irregularity validity build concept veracity focus apply set </span><span style=\"background-color: hsl(0, 100.00%, 82.24%); opacity: 0.86\" title=\"-0.003\">big</span><span style=\"opacity: 0.80\"> </span><span style=\"background-color: hsl(120, 100.00%, 83.46%); opacity: 0.86\" title=\"0.003\">datum</span><span style=\"opacity: 0.80\"> different use case </span><span style=\"background-color: hsl(120, 100.00%, 83.46%); opacity: 0.86\" title=\"0.003\">datum</span><span style=\"opacity: 0.80\"> generate application mean applicable effective </span><span style=\"background-color: hsl(120, 100.00%, 83.46%); opacity: 0.86\" title=\"0.003\">datum</span><span style=\"opacity: 0.80\"> analysis depend identify right </span><span style=\"background-color: hsl(120, 100.00%, 83.46%); opacity: 0.86\" title=\"0.003\">datum</span><span style=\"opacity: 0.80\"> invalid finding insight produce likewise old </span><span style=\"background-color: hsl(120, 100.00%, 83.46%); opacity: 0.86\" title=\"0.003\">datum</span><span style=\"opacity: 0.80\"> long relevant visualization people eye often glaze look lot </span><span style=\"background-color: hsl(120, 100.00%, 83.46%); opacity: 0.86\" title=\"0.003\">datum</span><span style=\"opacity: 0.80\"> screen visualize large amount complex </span><span style=\"background-color: hsl(120, 100.00%, 83.46%); opacity: 0.86\" title=\"0.003\">datum</span><span style=\"opacity: 0.80\"> use chart graph heatmap type </span><span style=\"background-color: hsl(120, 100.00%, 83.46%); opacity: 0.86\" title=\"0.003\">datum</span><span style=\"opacity: 0.80\"> visualization effective way conveying insight find </span><span style=\"background-color: hsl(120, 100.00%, 81.54%); opacity: 0.87\" title=\"0.004\">data</span><span style=\"opacity: 0.80\"> </span><span style=\"background-color: hsl(0, 100.00%, 69.62%); opacity: 0.93\" title=\"-0.007\">value</span><span style=\"opacity: 0.80\"> end day get </span><span style=\"background-color: hsl(0, 100.00%, 69.62%); opacity: 0.93\" title=\"-0.007\">value</span><span style=\"opacity: 0.80\"> </span><span style=\"background-color: hsl(120, 100.00%, 83.46%); opacity: 0.86\" title=\"0.003\">datum</span><span style=\"opacity: 0.80\"> re work spend money collect store process analyze set </span><span style=\"background-color: hsl(0, 100.00%, 82.24%); opacity: 0.86\" title=\"-0.003\">big</span><span style=\"opacity: 0.80\"> </span><span style=\"background-color: hsl(120, 100.00%, 83.46%); opacity: 0.86\" title=\"0.003\">datum</span><span style=\"opacity: 0.80\"> want sure organization realize expect benefit simply hoard </span><span style=\"background-color: hsl(120, 100.00%, 83.46%); opacity: 0.86\" title=\"0.003\">datum</span><span style=\"opacity: 0.80\"> </span><span style=\"background-color: hsl(0, 100.00%, 82.24%); opacity: 0.86\" title=\"-0.003\">big</span><span style=\"opacity: 0.80\"> </span><span style=\"background-color: hsl(120, 100.00%, 81.54%); opacity: 0.87\" title=\"0.004\">data</span><span style=\"opacity: 0.80\"> analytic overall process explore analyzing set </span><span style=\"background-color: hsl(0, 100.00%, 82.24%); opacity: 0.86\" title=\"-0.003\">big</span><span style=\"opacity: 0.80\"> </span><span style=\"background-color: hsl(120, 100.00%, 83.46%); opacity: 0.86\" title=\"0.003\">datum</span><span style=\"opacity: 0.80\"> incorporate discipline </span><span style=\"background-color: hsl(120, 100.00%, 83.46%); opacity: 0.86\" title=\"0.003\">datum</span><span style=\"opacity: 0.80\"> mining predictive modeling statistical analysis machine </span><span style=\"background-color: hsl(120, 100.00%, 63.99%); opacity: 0.97\" title=\"0.009\">learn</span><span style=\"opacity: 0.80\"> modern application machine learning provide considerable </span><span style=\"background-color: hsl(0, 100.00%, 69.62%); opacity: 0.93\" title=\"-0.007\">value</span><span style=\"opacity: 0.80\"> organization derive higherlevel insight </span><span style=\"background-color: hsl(0, 100.00%, 82.24%); opacity: 0.86\" title=\"-0.003\">big</span><span style=\"opacity: 0.80\"> </span><span style=\"background-color: hsl(120, 100.00%, 83.46%); opacity: 0.86\" title=\"0.003\">datum</span><span style=\"opacity: 0.80\"> type analytic deliver machine learning system able </span><span style=\"background-color: hsl(120, 100.00%, 63.99%); opacity: 0.97\" title=\"0.009\">learn</span><span style=\"opacity: 0.80\"> </span><span style=\"background-color: hsl(120, 100.00%, 83.46%); opacity: 0.86\" title=\"0.003\">datum</span><span style=\"opacity: 0.80\"> adapt time follow specific instruction program code past company build complex rulesbase system vast range analytic reporting use often brittle unable handle continually change business need machine </span><span style=\"background-color: hsl(120, 100.00%, 63.99%); opacity: 0.97\" title=\"0.009\">learn</span><span style=\"opacity: 0.80\"> company well position </span><span style=\"background-color: hsl(120, 100.00%, 60.00%); opacity: 1.00\" title=\"0.011\">improve</span><span style=\"opacity: 0.80\"> decisionmake business operation predictive analysis capability ongoing basis </span><span style=\"background-color: hsl(0, 100.00%, 82.24%); opacity: 0.86\" title=\"-0.003\">big</span><span style=\"opacity: 0.80\"> </span><span style=\"background-color: hsl(120, 100.00%, 81.54%); opacity: 0.87\" title=\"0.004\">data</span><span style=\"opacity: 0.80\"> machine learning compete concept mutually exclusive contrary combine provide opportunity achieve incredible result fact successfully deal </span><span style=\"background-color: hsl(0, 100.00%, 82.24%); opacity: 0.86\" title=\"-0.003\">big</span><span style=\"opacity: 0.80\"> </span><span style=\"background-color: hsl(120, 100.00%, 83.46%); opacity: 0.86\" title=\"0.003\">datum</span><span style=\"opacity: 0.80\"> help make machine learning model accurate powerful effective </span><span style=\"background-color: hsl(0, 100.00%, 82.24%); opacity: 0.86\" title=\"-0.003\">big</span><span style=\"opacity: 0.80\"> </span><span style=\"background-color: hsl(120, 100.00%, 83.46%); opacity: 0.86\" title=\"0.003\">datum</span><span style=\"opacity: 0.80\"> management approach </span><span style=\"background-color: hsl(120, 100.00%, 60.00%); opacity: 1.00\" title=\"0.011\">improve</span><span style=\"opacity: 0.80\"> machine learning give analytic team large quantity highquality relevant </span><span style=\"background-color: hsl(120, 100.00%, 83.46%); opacity: 0.86\" title=\"0.003\">datum</span><span style=\"opacity: 0.80\"> need successfully build model many organization already discover power </span><span style=\"background-color: hsl(0, 100.00%, 82.24%); opacity: 0.86\" title=\"-0.003\">big</span><span style=\"opacity: 0.80\"> </span><span style=\"background-color: hsl(120, 100.00%, 81.54%); opacity: 0.87\" title=\"0.004\">data</span><span style=\"opacity: 0.80\"> analytic enhance machine </span><span style=\"background-color: hsl(120, 100.00%, 63.99%); opacity: 0.97\" title=\"0.009\">learn</span><span style=\"opacity: 0.80\"> example use machine </span><span style=\"background-color: hsl(120, 100.00%, 63.99%); opacity: 0.97\" title=\"0.009\">learn</span><span style=\"opacity: 0.80\"> algorithm well understand view preference individual user provide well recommendation help keep people stream platform long similarly use machine learning provide user personalize experience search also build predictive text email give optimize direction map user amount </span><span style=\"background-color: hsl(120, 100.00%, 83.46%); opacity: 0.86\" title=\"0.003\">datum</span><span style=\"opacity: 0.80\"> generate continue grow astounding rate market research firm predict </span><span style=\"background-color: hsl(120, 100.00%, 83.46%); opacity: 0.86\" title=\"0.003\">datum</span><span style=\"opacity: 0.80\"> create replicate worldwide almost time count enterprise continue store analyze huge volume </span><span style=\"background-color: hsl(120, 100.00%, 83.46%); opacity: 0.86\" title=\"0.003\">datum</span><span style=\"opacity: 0.80\"> way possibly able make sense help machine </span><span style=\"background-color: hsl(120, 100.00%, 63.99%); opacity: 0.97\" title=\"0.009\">learn</span><span style=\"opacity: 0.80\"> thank work </span><span style=\"background-color: hsl(120, 100.00%, 83.46%); opacity: 0.86\" title=\"0.003\">datum</span><span style=\"opacity: 0.80\"> scientist machine </span><span style=\"background-color: hsl(120, 100.00%, 63.99%); opacity: 0.97\" title=\"0.009\">learn</span><span style=\"opacity: 0.80\"> engineer management analytic professional company use </span><span style=\"background-color: hsl(0, 100.00%, 82.24%); opacity: 0.86\" title=\"-0.003\">big</span><span style=\"opacity: 0.80\"> </span><span style=\"background-color: hsl(120, 100.00%, 81.54%); opacity: 0.87\" title=\"0.004\">data</span><span style=\"opacity: 0.80\"> machine </span><span style=\"background-color: hsl(120, 100.00%, 63.99%); opacity: 0.97\" title=\"0.009\">learn</span><span style=\"opacity: 0.80\"> </span><span style=\"background-color: hsl(120, 100.00%, 83.46%); opacity: 0.86\" title=\"0.003\">datum</span><span style=\"opacity: 0.80\"> visualization tool together power predictive prescriptive analytic application help business leader make well decision come year surprise company combine </span><span style=\"background-color: hsl(0, 100.00%, 82.24%); opacity: 0.86\" title=\"-0.003\">big</span><span style=\"opacity: 0.80\"> </span><span style=\"background-color: hsl(120, 100.00%, 81.54%); opacity: 0.87\" title=\"0.004\">data</span><span style=\"opacity: 0.80\"> machine learning leave competitor </span><span style=\"background-color: hsl(120, 100.00%, 81.54%); opacity: 0.87\" title=\"0.004\">data</span><span style=\"opacity: 0.80\"> science machine </span><span style=\"background-color: hsl(120, 100.00%, 63.99%); opacity: 0.97\" title=\"0.009\">learn</span><span style=\"opacity: 0.80\"> work together unlock </span><span style=\"background-color: hsl(0, 100.00%, 69.62%); opacity: 0.93\" title=\"-0.007\">value</span><span style=\"opacity: 0.80\"> </span><span style=\"background-color: hsl(120, 100.00%, 83.46%); opacity: 0.86\" title=\"0.003\">datum</span><span style=\"opacity: 0.80\"> harness intelligence innovation update tool introduce feature help administrator optimize operation onpremise quality </span><span style=\"background-color: hsl(0, 100.00%, 82.24%); opacity: 0.86\" title=\"-0.003\">big</span><span style=\"opacity: 0.80\"> </span><span style=\"background-color: hsl(120, 100.00%, 83.46%); opacity: 0.86\" title=\"0.003\">datum</span><span style=\"opacity: 0.80\"> </span><span style=\"background-color: hsl(120, 100.00%, 60.00%); opacity: 1.00\" title=\"0.011\">improve</span><span style=\"opacity: 0.80\"> volume collect </span><span style=\"background-color: hsl(120, 100.00%, 83.46%); opacity: 0.86\" title=\"0.003\">datum</span><span style=\"opacity: 0.80\"> increase exponentially method </span><span style=\"background-color: hsl(120, 100.00%, 60.00%); opacity: 1.00\" title=\"0.011\">improve</span><span style=\"opacity: 0.80\"> ensure </span><span style=\"background-color: hsl(0, 100.00%, 82.24%); opacity: 0.86\" title=\"-0.003\">big</span><span style=\"opacity: 0.80\"> </span><span style=\"background-color: hsl(120, 100.00%, 81.54%); opacity: 0.87\" title=\"0.004\">data</span><span style=\"opacity: 0.80\"> quality critical make </span><span style=\"background-color: hsl(0, 100.00%, 82.24%); opacity: 0.86\" title=\"-0.003\">big</span><span style=\"opacity: 0.80\"> </span><span style=\"background-color: hsl(120, 100.00%, 83.46%); opacity: 0.86\" title=\"0.003\">datum</span><span style=\"opacity: 0.80\"> integration strategy depart traditional technique embrace several </span><span style=\"background-color: hsl(120, 100.00%, 83.46%); opacity: 0.86\" title=\"0.003\">datum</span><span style=\"opacity: 0.80\"> process work together say monitoring system design solely driver safety many industry expert concern regard like strengthen global footprint ecommerce giant face roadblock challenge today upped game small business lending credit option top merchant show add security feature information governance prevent unintended overshare sensitive information add ai live search product recommendation tune organization digital signature acquire small competitor digital asset management platform hyland look purchase rule java use android phone subject american copyright law end handbook look oracle autonomous database offer oracle user issue organization consider oracle autonomous database automate routine administrative operational task </span><span style=\"background-color: hsl(120, 100.00%, 60.00%); opacity: 1.00\" title=\"0.011\">improve</span><span style=\"opacity: 0.80\"> productivity result strong lead growth cloud revenue growth customer base however sap multitenant saas viable choice company need ease infrastructure management financial industry investment firm dediq form new business unit develop application help bank good database design meet processing need sql server system webinar consultant verbeeck offer sql server azure database choice offer user sql server database move azure cloud several different way here get option use leave outer join right outer join </span><span style=\"background-color: hsl(120, 100.00%, 63.99%); opacity: 0.97\" title=\"0.009\">learn</span><span style=\"opacity: 0.80\"> leave outer join right outer join technique find various example create sql </span><span style=\"background-color: hsl(120, 100.00%, 61.65%); opacity: 0.99\" title=\"0.010\">big_data</span><span style=\"opacity: 0.80\"> </span><span style=\"background-color: hsl(120, 100.00%, 78.63%); opacity: 0.88\" title=\"0.004\">machine_learne</span><span style=\"opacity: 0.80\"> differ relate weigh pros_con technology product project consider </span><span style=\"background-color: hsl(120, 100.00%, 61.65%); opacity: 0.99\" title=\"0.010\">big_data</span><span style=\"opacity: 0.80\"> </span><span style=\"background-color: hsl(120, 100.00%, 78.63%); opacity: 0.88\" title=\"0.004\">machine_learne</span><span style=\"opacity: 0.80\"> powerful analytic pair here explanation difference use together </span><span style=\"background-color: hsl(120, 100.00%, 83.46%); opacity: 0.86\" title=\"0.003\">datum</span><span style=\"opacity: 0.80\"> heart modern_enterprise helping_organization customer make_bett business_decision </span><span style=\"background-color: hsl(120, 100.00%, 60.00%); opacity: 1.00\" title=\"0.011\">improve</span><span style=\"opacity: 0.80\"> business_processe track inventory monitor competitor take_step successfully run operation past_two decade many organization get better_grasp handle increasing_amount different_form </span><span style=\"background-color: hsl(120, 100.00%, 83.46%); opacity: 0.86\" title=\"0.003\">datum</span><span style=\"opacity: 0.80\"> </span><span style=\"background-color: hsl(120, 100.00%, 61.65%); opacity: 0.99\" title=\"0.010\">big_data</span><span style=\"opacity: 0.80\"> re create collect many_case </span><span style=\"background-color: hsl(120, 100.00%, 61.65%); opacity: 0.99\" title=\"0.010\">big_data</span><span style=\"opacity: 0.80\"> large complex combination structured_unstructure semistructured_data traditional </span><span style=\"background-color: hsl(120, 100.00%, 83.46%); opacity: 0.86\" title=\"0.003\">datum</span><span style=\"opacity: 0.80\"> management tool process store manage effectively efficiently nosql_database platform emerge help fill_gap enable data_lake set repository </span><span style=\"background-color: hsl(120, 100.00%, 83.46%); opacity: 0.86\" title=\"0.003\">datum</span><span style=\"opacity: 0.80\"> however simply_isnt sufficient get business </span><span style=\"background-color: hsl(0, 100.00%, 69.62%); opacity: 0.93\" title=\"-0.007\">value</span><span style=\"opacity: 0.80\"> </span><span style=\"background-color: hsl(120, 100.00%, 61.65%); opacity: 0.99\" title=\"0.010\">big_data</span><span style=\"opacity: 0.80\"> conventional data_analytic application fully tap potential_benefit company master management process forwardthinking_one apply intelligent advanced form analytic extract_value </span><span style=\"background-color: hsl(120, 100.00%, 83.46%); opacity: 0.86\" title=\"0.003\">datum</span><span style=\"opacity: 0.80\"> particular machine_learning spot_pattern provide cognitive capability large_volume </span><span style=\"background-color: hsl(120, 100.00%, 81.54%); opacity: 0.87\" title=\"0.004\">data</span><span style=\"opacity: 0.80\"> give organization ability take </span><span style=\"background-color: hsl(120, 100.00%, 61.65%); opacity: 0.99\" title=\"0.010\">big_data</span><span style=\"opacity: 0.80\"> analytic initiative next_level use </span><span style=\"background-color: hsl(120, 100.00%, 78.63%); opacity: 0.88\" title=\"0.004\">machine_learne</span><span style=\"opacity: 0.80\"> algorithm </span><span style=\"background-color: hsl(120, 100.00%, 61.65%); opacity: 0.99\" title=\"0.010\">big_data</span><span style=\"opacity: 0.80\"> analytic logical_step company look maximize </span><span style=\"background-color: hsl(120, 100.00%, 81.54%); opacity: 0.87\" title=\"0.004\">data</span><span style=\"opacity: 0.80\"> potential </span><span style=\"background-color: hsl(0, 100.00%, 69.62%); opacity: 0.93\" title=\"-0.007\">value</span><span style=\"opacity: 0.80\"> </span><span style=\"background-color: hsl(120, 100.00%, 78.63%); opacity: 0.88\" title=\"0.004\">machine_learne</span><span style=\"opacity: 0.80\"> tool use datadriven algorithm statistical_model analyze data_set draw_inference identify pattern make_prediction base algorithm </span><span style=\"background-color: hsl(120, 100.00%, 63.99%); opacity: 0.97\" title=\"0.009\">learn</span><span style=\"opacity: 0.80\"> </span><span style=\"background-color: hsl(120, 100.00%, 83.46%); opacity: 0.86\" title=\"0.003\">datum</span><span style=\"opacity: 0.80\"> run oppose traditional_rulesbase analytic system follow explicit_instruction </span><span style=\"background-color: hsl(120, 100.00%, 61.65%); opacity: 0.99\" title=\"0.010\">big_data</span><span style=\"opacity: 0.80\"> provide raw_material machine_learning system derive_insight combine organization produce significant analytic finding result however order fully_harness combine power </span><span style=\"background-color: hsl(120, 100.00%, 78.63%); opacity: 0.88\" title=\"0.004\">machine_learne</span><span style=\"opacity: 0.80\"> important first understand lets_look </span><span style=\"background-color: hsl(120, 100.00%, 61.65%); opacity: 0.99\" title=\"0.010\">big_data</span><span style=\"opacity: 0.80\"> </span><span style=\"background-color: hsl(120, 100.00%, 78.63%); opacity: 0.88\" title=\"0.004\">machine_learne</span><span style=\"opacity: 0.80\"> key attribute aspect </span><span style=\"background-color: hsl(120, 100.00%, 61.65%); opacity: 0.99\" title=\"0.010\">big_data</span><span style=\"opacity: 0.80\"> </span><span style=\"background-color: hsl(120, 100.00%, 78.63%); opacity: 0.88\" title=\"0.004\">machine_learne</span><span style=\"opacity: 0.80\"> </span><span style=\"background-color: hsl(120, 100.00%, 61.65%); opacity: 0.99\" title=\"0.010\">big_data</span><span style=\"opacity: 0.80\"> course </span><span style=\"background-color: hsl(120, 100.00%, 81.54%); opacity: 0.87\" title=\"0.004\">data</span><span style=\"opacity: 0.80\"> term embody idea work large_quantitie </span><span style=\"background-color: hsl(120, 100.00%, 83.46%); opacity: 0.86\" title=\"0.003\">datum</span><span style=\"opacity: 0.80\"> </span><span style=\"background-color: hsl(120, 100.00%, 83.46%); opacity: 0.86\" title=\"0.003\">datum</span><span style=\"opacity: 0.80\"> quantity volume attribute </span><span style=\"background-color: hsl(120, 100.00%, 61.65%); opacity: 0.99\" title=\"0.010\">big_data</span><span style=\"opacity: 0.80\"> various also consider example follow list include volume deal challenge store </span><span style=\"background-color: hsl(120, 100.00%, 61.65%); opacity: 0.99\" title=\"0.010\">big_data</span><span style=\"opacity: 0.80\"> significant undertake many organization todays_world uncommon company processing_terabyte petabyte even exabyte </span><span style=\"background-color: hsl(120, 100.00%, 81.54%); opacity: 0.87\" title=\"0.004\">data</span><span style=\"opacity: 0.80\"> daily velocity much </span><span style=\"background-color: hsl(120, 100.00%, 83.46%); opacity: 0.86\" title=\"0.003\">datum</span><span style=\"opacity: 0.80\"> static sitting rest many </span><span style=\"background-color: hsl(120, 100.00%, 61.65%); opacity: 0.99\" title=\"0.010\">big_data</span><span style=\"opacity: 0.80\"> system </span><span style=\"background-color: hsl(120, 100.00%, 83.46%); opacity: 0.86\" title=\"0.003\">datum</span><span style=\"opacity: 0.80\"> generate transform analyze high_velocity </span><span style=\"background-color: hsl(120, 100.00%, 61.65%); opacity: 0.99\" title=\"0.010\">big_data</span><span style=\"opacity: 0.80\"> application require processing analysis speed second millisecond matter keep incoming </span><span style=\"background-color: hsl(120, 100.00%, 83.46%); opacity: 0.86\" title=\"0.003\">datum</span><span style=\"opacity: 0.80\"> </span><span style=\"background-color: hsl(0, 100.00%, 63.82%); opacity: 0.97\" title=\"-0.009\">variety</span><span style=\"opacity: 0.80\"> </span><span style=\"background-color: hsl(120, 100.00%, 61.65%); opacity: 0.99\" title=\"0.010\">big_data</span><span style=\"opacity: 0.80\"> come various structured_unstructure semistructure format addition spreadsheet </span><span style=\"background-color: hsl(120, 100.00%, 61.65%); opacity: 0.99\" title=\"0.010\">big_data</span><span style=\"opacity: 0.80\"> environment include video image text document sensor </span><span style=\"background-color: hsl(120, 100.00%, 83.46%); opacity: 0.86\" title=\"0.003\">datum</span><span style=\"opacity: 0.80\"> log_file type veracity typically collect </span><span style=\"background-color: hsl(0, 100.00%, 63.82%); opacity: 0.97\" title=\"-0.009\">variety</span><span style=\"opacity: 0.80\"> source </span><span style=\"background-color: hsl(0, 100.00%, 63.82%); opacity: 0.97\" title=\"-0.009\">variety</span><span style=\"opacity: 0.80\"> form </span><span style=\"background-color: hsl(120, 100.00%, 83.46%); opacity: 0.86\" title=\"0.003\">datum</span><span style=\"opacity: 0.80\"> quality also vary veracity_refer </span><span style=\"background-color: hsl(120, 100.00%, 81.54%); opacity: 0.87\" title=\"0.004\">data</span><span style=\"opacity: 0.80\"> accuracy trustworthiness successfully address </span><span style=\"background-color: hsl(120, 100.00%, 83.46%); opacity: 0.86\" title=\"0.003\">datum</span><span style=\"opacity: 0.80\"> veracity challenge require cleanse </span><span style=\"background-color: hsl(120, 100.00%, 83.46%); opacity: 0.86\" title=\"0.003\">datum</span><span style=\"opacity: 0.80\"> remove_duplicate record fix_error inconsistency reduce noise eliminate irregularity validity builds_upon concept veracity focus apply set </span><span style=\"background-color: hsl(120, 100.00%, 61.65%); opacity: 0.99\" title=\"0.010\">big_data</span><span style=\"opacity: 0.80\"> different use_case </span><span style=\"background-color: hsl(120, 100.00%, 83.46%); opacity: 0.86\" title=\"0.003\">datum</span><span style=\"opacity: 0.80\"> generate application doesnt_mean applicable effective </span><span style=\"background-color: hsl(120, 100.00%, 83.46%); opacity: 0.86\" title=\"0.003\">datum</span><span style=\"opacity: 0.80\"> analysis depend identify right </span><span style=\"background-color: hsl(120, 100.00%, 83.46%); opacity: 0.86\" title=\"0.003\">datum</span><span style=\"opacity: 0.80\"> invalid finding insight produce likewise old </span><span style=\"background-color: hsl(120, 100.00%, 83.46%); opacity: 0.86\" title=\"0.003\">datum</span><span style=\"opacity: 0.80\"> long relevant visualization people eye often glaze look lot </span><span style=\"background-color: hsl(120, 100.00%, 83.46%); opacity: 0.86\" title=\"0.003\">datum</span><span style=\"opacity: 0.80\"> screen visualize large_amount complex </span><span style=\"background-color: hsl(120, 100.00%, 83.46%); opacity: 0.86\" title=\"0.003\">datum</span><span style=\"opacity: 0.80\"> use charts_graphs heatmap type data_visualization conveying insight find </span><span style=\"background-color: hsl(120, 100.00%, 81.54%); opacity: 0.87\" title=\"0.004\">data</span><span style=\"opacity: 0.80\"> </span><span style=\"background-color: hsl(0, 100.00%, 69.62%); opacity: 0.93\" title=\"-0.007\">value</span><span style=\"opacity: 0.80\"> end day get </span><span style=\"background-color: hsl(0, 100.00%, 69.62%); opacity: 0.93\" title=\"-0.007\">value</span><span style=\"opacity: 0.80\"> </span><span style=\"background-color: hsl(120, 100.00%, 83.46%); opacity: 0.86\" title=\"0.003\">datum</span><span style=\"opacity: 0.80\"> re work process analyze set want sure organization realize expect benefit simply hoard </span><span style=\"background-color: hsl(120, 100.00%, 83.46%); opacity: 0.86\" title=\"0.003\">datum</span><span style=\"opacity: 0.80\"> </span><span style=\"background-color: hsl(120, 100.00%, 61.65%); opacity: 0.99\" title=\"0.010\">big_data</span><span style=\"opacity: 0.80\"> analytic overall process explore analyzing set </span><span style=\"background-color: hsl(120, 100.00%, 61.65%); opacity: 0.99\" title=\"0.010\">big_data</span><span style=\"opacity: 0.80\"> incorporate discipline data_mine predictive_modele statistical_analysis </span><span style=\"background-color: hsl(120, 100.00%, 78.63%); opacity: 0.88\" title=\"0.004\">machine_learne</span><span style=\"opacity: 0.80\"> cornerstone modern application machine_learning provide considerable_value organization derive higherlevel insight type analytic deliver </span><span style=\"background-color: hsl(120, 100.00%, 78.63%); opacity: 0.88\" title=\"0.004\">machine_learne</span><span style=\"opacity: 0.80\"> system able </span><span style=\"background-color: hsl(120, 100.00%, 63.99%); opacity: 0.97\" title=\"0.009\">learn</span><span style=\"opacity: 0.80\"> </span><span style=\"background-color: hsl(120, 100.00%, 83.46%); opacity: 0.86\" title=\"0.003\">datum</span><span style=\"opacity: 0.80\"> adapt time follow specific_instruction program code past company build complex_rulesbase system vast_range analytic reporting use often brittle unable handle continually_change business need </span><span style=\"background-color: hsl(120, 100.00%, 78.63%); opacity: 0.88\" title=\"0.004\">machine_learne</span><span style=\"opacity: 0.80\"> company better_positione </span><span style=\"background-color: hsl(120, 100.00%, 60.00%); opacity: 1.00\" title=\"0.011\">improve</span><span style=\"opacity: 0.80\"> decisionmake business operation predictive analysis capability ongoing_basis </span><span style=\"background-color: hsl(120, 100.00%, 61.65%); opacity: 0.99\" title=\"0.010\">big_data</span><span style=\"opacity: 0.80\"> machine_learning compete concept mutually_exclusive contrary combine provide opportunity achieve incredible result fact successfully deal vs </span><span style=\"background-color: hsl(120, 100.00%, 61.65%); opacity: 0.99\" title=\"0.010\">big_data</span><span style=\"opacity: 0.80\"> help make machine_learning model accurate powerful effective </span><span style=\"background-color: hsl(120, 100.00%, 61.65%); opacity: 0.99\" title=\"0.010\">big_data</span><span style=\"opacity: 0.80\"> management approach </span><span style=\"background-color: hsl(120, 100.00%, 60.00%); opacity: 1.00\" title=\"0.011\">improve</span><span style=\"opacity: 0.80\"> </span><span style=\"background-color: hsl(120, 100.00%, 78.63%); opacity: 0.88\" title=\"0.004\">machine_learne</span><span style=\"opacity: 0.80\"> give analytic team large_quantitie highquality relevant </span><span style=\"background-color: hsl(120, 100.00%, 83.46%); opacity: 0.86\" title=\"0.003\">datum</span><span style=\"opacity: 0.80\"> need successfully build model many organization already discover power analytic enhance </span><span style=\"background-color: hsl(120, 100.00%, 78.63%); opacity: 0.88\" title=\"0.004\">machine_learne</span><span style=\"opacity: 0.80\"> example netflix use </span><span style=\"background-color: hsl(120, 100.00%, 78.63%); opacity: 0.88\" title=\"0.004\">machine_learne</span><span style=\"opacity: 0.80\"> algorithm view preference individual user provide well recommendation help keep people stream platform long similarly use </span><span style=\"background-color: hsl(120, 100.00%, 78.63%); opacity: 0.88\" title=\"0.004\">machine_learne</span><span style=\"opacity: 0.80\"> provide user personalize experience search also build predictive text email give optimize direction google_map user amount </span><span style=\"background-color: hsl(120, 100.00%, 83.46%); opacity: 0.86\" title=\"0.003\">datum</span><span style=\"opacity: 0.80\"> generate continue grow astounding_rate market research firm_idc predict zettabyte </span><span style=\"background-color: hsl(120, 100.00%, 83.46%); opacity: 0.86\" title=\"0.003\">datum</span><span style=\"opacity: 0.80\"> create replicate worldwide almost three_time zettabyte count enterprise continue store analyze huge_volume </span><span style=\"background-color: hsl(120, 100.00%, 83.46%); opacity: 0.86\" title=\"0.003\">datum</span><span style=\"opacity: 0.80\"> way possibly able make_sense help </span><span style=\"background-color: hsl(120, 100.00%, 78.63%); opacity: 0.88\" title=\"0.004\">machine_learne</span><span style=\"opacity: 0.80\"> thank work data_scientist </span><span style=\"background-color: hsl(120, 100.00%, 78.63%); opacity: 0.88\" title=\"0.004\">machine_learne</span><span style=\"opacity: 0.80\"> engineer </span><span style=\"background-color: hsl(120, 100.00%, 83.46%); opacity: 0.86\" title=\"0.003\">datum</span><span style=\"opacity: 0.80\"> management analytic professional company use </span><span style=\"background-color: hsl(120, 100.00%, 61.65%); opacity: 0.99\" title=\"0.010\">big_data</span><span style=\"opacity: 0.80\"> </span><span style=\"background-color: hsl(120, 100.00%, 78.63%); opacity: 0.88\" title=\"0.004\">machine_learne</span><span style=\"opacity: 0.80\"> data_visualization tool together power predictive_prescriptive analytic application help business_leader make_bett decision coming_year surprise company combine </span><span style=\"background-color: hsl(120, 100.00%, 61.65%); opacity: 0.99\" title=\"0.010\">big_data</span><span style=\"opacity: 0.80\"> </span><span style=\"background-color: hsl(120, 100.00%, 78.63%); opacity: 0.88\" title=\"0.004\">machine_learne</span><span style=\"opacity: 0.80\"> left_behind competitor data_science machine_learning ai unlock </span><span style=\"background-color: hsl(0, 100.00%, 69.62%); opacity: 0.93\" title=\"-0.007\">value</span><span style=\"opacity: 0.80\"> </span><span style=\"background-color: hsl(120, 100.00%, 83.46%); opacity: 0.86\" title=\"0.003\">datum</span><span style=\"opacity: 0.80\"> harness intelligence innovation update tool introduce feature help administrator optimize operation onpremise quality </span><span style=\"background-color: hsl(120, 100.00%, 61.65%); opacity: 0.99\" title=\"0.010\">big_data</span><span style=\"opacity: 0.80\"> </span><span style=\"background-color: hsl(120, 100.00%, 60.00%); opacity: 1.00\" title=\"0.011\">improve</span><span style=\"opacity: 0.80\"> volume collect </span><span style=\"background-color: hsl(120, 100.00%, 83.46%); opacity: 0.86\" title=\"0.003\">datum</span><span style=\"opacity: 0.80\"> method </span><span style=\"background-color: hsl(120, 100.00%, 60.00%); opacity: 1.00\" title=\"0.011\">improve</span><span style=\"opacity: 0.80\"> ensure </span><span style=\"background-color: hsl(120, 100.00%, 61.65%); opacity: 0.99\" title=\"0.010\">big_data</span><span style=\"opacity: 0.80\"> quality critical making </span><span style=\"background-color: hsl(120, 100.00%, 61.65%); opacity: 0.99\" title=\"0.010\">big_data</span><span style=\"opacity: 0.80\"> integration strategy depart traditional technique embrace several </span><span style=\"background-color: hsl(120, 100.00%, 83.46%); opacity: 0.86\" title=\"0.003\">datum</span><span style=\"opacity: 0.80\"> process say monitoring_system design solely driver_safety many industry_expert concerns_regarde amazon strengthen global_footprint ecommerce_giant faces_roadblock challenge today upped game small_business lending credit option top merchant add security feature information governance prevent_unintende overshare adobe_commerce add ai live search product_recommendation tune organization digital_signature acquire small competitor digital_asset management platform hyland_look build purchase supreme_court rule java_apis use android_phone subject american end handbook_look oracle autonomous database offer oracle user issue organization consider oracle autonomous database automate_routine administrative operational task improve_productivity result strong lead growth cloud revenue growth customer_base however sap multitenant_saas erp viable choice company need ease infrastructure management financial industry investment_firm dediq form new business_unit develop application help bank good database design meet processing need sql_server system koen_verbeeck offered_sql server azure database choice offer user sql_server database move azure_cloud several different_way here youll_get option use left_out join right_outer join left_out join right_outer join technique find various example create sql differ relate weigh pros_con technology product project consider big_data_machine_learne powerful_analytic pair here explanation difference use together </span><span style=\"background-color: hsl(120, 100.00%, 83.46%); opacity: 0.86\" title=\"0.003\">datum</span><span style=\"opacity: 0.80\"> heart modern_enterprise helping_organization customer make_better_business_decision </span><span style=\"background-color: hsl(120, 100.00%, 60.00%); opacity: 1.00\" title=\"0.011\">improve</span><span style=\"opacity: 0.80\"> business_processe monitor competitor take_step successfully run operation many_organization get better_grasp handle increasing_amount different_form </span><span style=\"background-color: hsl(120, 100.00%, 83.46%); opacity: 0.86\" title=\"0.003\">datum</span><span style=\"opacity: 0.80\"> </span><span style=\"background-color: hsl(120, 100.00%, 61.65%); opacity: 0.99\" title=\"0.010\">big_data</span><span style=\"opacity: 0.80\"> theyre_create collect many_case </span><span style=\"background-color: hsl(120, 100.00%, 61.65%); opacity: 0.99\" title=\"0.010\">big_data</span><span style=\"opacity: 0.80\"> combination structured_unstructure semistructured_data traditional data_management tool process store_manage effectively efficiently nosql_database platform emerge help fill_gap enable data_lake set repository </span><span style=\"background-color: hsl(120, 100.00%, 83.46%); opacity: 0.86\" title=\"0.003\">datum</span><span style=\"opacity: 0.80\"> however simply_isnt sufficient get business_value </span><span style=\"background-color: hsl(120, 100.00%, 61.65%); opacity: 0.99\" title=\"0.010\">big_data</span><span style=\"opacity: 0.80\"> conventional data_analytic application fully tap potential_benefit company master management process forwardthinking_one apply intelligent advanced_form analytic extract_value </span><span style=\"background-color: hsl(120, 100.00%, 83.46%); opacity: 0.86\" title=\"0.003\">datum</span><span style=\"opacity: 0.80\"> particular machine_learning spot_pattern provide cognitive_capabilitie large_volume </span><span style=\"background-color: hsl(120, 100.00%, 83.46%); opacity: 0.86\" title=\"0.003\">datum</span><span style=\"opacity: 0.80\"> gives_organization ability take big_data_analytic initiative next_level using_machine_learne algorithm big_data_analytic logical_step companies_looking maximize </span><span style=\"background-color: hsl(120, 100.00%, 81.54%); opacity: 0.87\" title=\"0.004\">data</span><span style=\"opacity: 0.80\"> potential </span><span style=\"background-color: hsl(0, 100.00%, 69.62%); opacity: 0.93\" title=\"-0.007\">value</span><span style=\"opacity: 0.80\"> machine_learning_tool use datadriven_algorithm statistical_model analyze_data_set draw_inference identified_pattern make_prediction base </span><span style=\"background-color: hsl(120, 100.00%, 83.46%); opacity: 0.86\" title=\"0.003\">datum</span><span style=\"opacity: 0.80\"> run oppose traditional_rulesbase analytic system follow explicit_instruction </span><span style=\"background-color: hsl(120, 100.00%, 61.65%); opacity: 0.99\" title=\"0.010\">big_data</span><span style=\"opacity: 0.80\"> provide raw_material machine_learning_system derive_insight combine organization produce significant analytic finding result however order fully_harness combined_power big_data_machine_learning important first understand lets_look </span><span style=\"background-color: hsl(120, 100.00%, 61.65%); opacity: 0.99\" title=\"0.010\">big_data</span><span style=\"opacity: 0.80\"> key_attribute aspect big_data_machine_learning </span><span style=\"background-color: hsl(120, 100.00%, 61.65%); opacity: 0.99\" title=\"0.010\">big_data</span><span style=\"opacity: 0.80\"> course </span><span style=\"background-color: hsl(120, 100.00%, 81.54%); opacity: 0.87\" title=\"0.004\">data</span><span style=\"opacity: 0.80\"> term embody idea work large_quantitie </span><span style=\"background-color: hsl(120, 100.00%, 83.46%); opacity: 0.86\" title=\"0.003\">datum</span><span style=\"opacity: 0.80\"> </span><span style=\"background-color: hsl(120, 100.00%, 83.46%); opacity: 0.86\" title=\"0.003\">datum</span><span style=\"opacity: 0.80\"> quantity volume attribute </span><span style=\"background-color: hsl(120, 100.00%, 61.65%); opacity: 0.99\" title=\"0.010\">big_data</span><span style=\"opacity: 0.80\"> various also consider example follow list_include volume deal challenge store </span><span style=\"background-color: hsl(120, 100.00%, 61.65%); opacity: 0.99\" title=\"0.010\">big_data</span><span style=\"opacity: 0.80\"> significant_undertake many_organization todays_world uncommon company processing_terabyte petabyte even exabyte </span><span style=\"background-color: hsl(120, 100.00%, 81.54%); opacity: 0.87\" title=\"0.004\">data</span><span style=\"opacity: 0.80\"> daily velocity much </span><span style=\"background-color: hsl(120, 100.00%, 83.46%); opacity: 0.86\" title=\"0.003\">datum</span><span style=\"opacity: 0.80\"> static sitting rest many </span><span style=\"background-color: hsl(120, 100.00%, 61.65%); opacity: 0.99\" title=\"0.010\">big_data</span><span style=\"opacity: 0.80\"> system data_generate transform analyze high_velocity processing analysis speed second millisecond matter keep incoming_data </span><span style=\"background-color: hsl(0, 100.00%, 63.82%); opacity: 0.97\" title=\"-0.009\">variety</span><span style=\"opacity: 0.80\"> </span><span style=\"background-color: hsl(120, 100.00%, 61.65%); opacity: 0.99\" title=\"0.010\">big_data</span><span style=\"opacity: 0.80\"> come various structured_unstructure semistructure format addition uncommon </span><span style=\"background-color: hsl(120, 100.00%, 61.65%); opacity: 0.99\" title=\"0.010\">big_data</span><span style=\"opacity: 0.80\"> environment include video document sensor_data log_files type typically_collecte </span><span style=\"background-color: hsl(0, 100.00%, 63.82%); opacity: 0.97\" title=\"-0.009\">variety</span><span style=\"opacity: 0.80\"> source </span><span style=\"background-color: hsl(0, 100.00%, 63.82%); opacity: 0.97\" title=\"-0.009\">variety</span><span style=\"opacity: 0.80\"> form data_quality also_varie veracity_refer </span><span style=\"background-color: hsl(120, 100.00%, 81.54%); opacity: 0.87\" title=\"0.004\">data</span><span style=\"opacity: 0.80\"> accuracy trustworthiness successfully address </span><span style=\"background-color: hsl(120, 100.00%, 83.46%); opacity: 0.86\" title=\"0.003\">datum</span><span style=\"opacity: 0.80\"> veracity challenge require cleansing_data remove_duplicate record fix_error inconsistency reduce_noise eliminate irregularity validity builds_upon concept veracity focus apply set </span><span style=\"background-color: hsl(120, 100.00%, 61.65%); opacity: 0.99\" title=\"0.010\">big_data</span><span style=\"opacity: 0.80\"> different_use_case data_generate application doesnt_mean applicable effective data_analysis depend identify right </span><span style=\"background-color: hsl(120, 100.00%, 83.46%); opacity: 0.86\" title=\"0.003\">datum</span><span style=\"opacity: 0.80\"> invalid finding insight produce likewise old </span><span style=\"background-color: hsl(120, 100.00%, 83.46%); opacity: 0.86\" title=\"0.003\">datum</span><span style=\"opacity: 0.80\"> long relevant visualization often glaze look lot </span><span style=\"background-color: hsl(120, 100.00%, 83.46%); opacity: 0.86\" title=\"0.003\">datum</span><span style=\"opacity: 0.80\"> screen visualizing large_amount complex_data use charts_graph heatmap type data_visualization conveying insight find </span><span style=\"background-color: hsl(120, 100.00%, 81.54%); opacity: 0.87\" title=\"0.004\">data</span><span style=\"opacity: 0.80\"> </span><span style=\"background-color: hsl(0, 100.00%, 69.62%); opacity: 0.93\" title=\"-0.007\">value</span><span style=\"opacity: 0.80\"> end day get </span><span style=\"background-color: hsl(0, 100.00%, 69.62%); opacity: 0.93\" title=\"-0.007\">value</span><span style=\"opacity: 0.80\"> </span><span style=\"background-color: hsl(120, 100.00%, 83.46%); opacity: 0.86\" title=\"0.003\">datum</span><span style=\"opacity: 0.80\"> re work process analyze set want sure organization realize expected_benefit simply hoard </span><span style=\"background-color: hsl(120, 100.00%, 81.54%); opacity: 0.87\" title=\"0.004\">data</span><span style=\"opacity: 0.80\"> big_data_analytic overall_process explore analyzing set </span><span style=\"background-color: hsl(120, 100.00%, 61.65%); opacity: 0.99\" title=\"0.010\">big_data</span><span style=\"opacity: 0.80\"> incorporate discipline data_mine predictive_modele statistical_analysis_machine_learne cornerstone modern ai_application machine_learning provide considerable_value organization derive higherlevel insight type analytic deliver machine_learning_system able </span><span style=\"background-color: hsl(120, 100.00%, 63.99%); opacity: 0.97\" title=\"0.009\">learn</span><span style=\"opacity: 0.80\"> </span><span style=\"background-color: hsl(120, 100.00%, 83.46%); opacity: 0.86\" title=\"0.003\">datum</span><span style=\"opacity: 0.80\"> adapt time follow specific_instruction program code past company build complex_rulesbase system vast_range analytics_reporting use often brittle unable handle continually_change business_need machine_learning company better_positione improve_decisionmake business_operation predictive_analysis capability ongoing_basis big_data_machine_learning compete concept mutually_exclusive contrary combine provide opportunity achieve incredible_result fact successfully deal vs </span><span style=\"background-color: hsl(120, 100.00%, 61.65%); opacity: 0.99\" title=\"0.010\">big_data</span><span style=\"opacity: 0.80\"> help make machine_learning_model accurate powerful effective </span><span style=\"background-color: hsl(120, 100.00%, 61.65%); opacity: 0.99\" title=\"0.010\">big_data</span><span style=\"opacity: 0.80\"> management approach </span><span style=\"background-color: hsl(120, 100.00%, 60.00%); opacity: 1.00\" title=\"0.011\">improve</span><span style=\"opacity: 0.80\"> </span><span style=\"background-color: hsl(120, 100.00%, 78.63%); opacity: 0.88\" title=\"0.004\">machine_learne</span><span style=\"opacity: 0.80\"> give analytics_team large_quantitie highquality relevant_data need successfully_build model already discover power big_data_analytic enhance </span><span style=\"background-color: hsl(120, 100.00%, 78.63%); opacity: 0.88\" title=\"0.004\">machine_learne</span><span style=\"opacity: 0.80\"> example netflix_use better_understand viewing preference individual_user provide_better recommendation help streaming_platform long similarly provide_user personalized_experience search also build_predictive text email give optimize direction google_map user amount data_generate continue grow astounding_rate firm_idc predict zettabyte </span><span style=\"background-color: hsl(120, 100.00%, 83.46%); opacity: 0.86\" title=\"0.003\">datum</span><span style=\"opacity: 0.80\"> create replicate worldwide almost_three_time zettabyte count store analyze huge_volume </span><span style=\"background-color: hsl(120, 100.00%, 83.46%); opacity: 0.86\" title=\"0.003\">datum</span><span style=\"opacity: 0.80\"> way possibly able make_sense help </span><span style=\"background-color: hsl(120, 100.00%, 78.63%); opacity: 0.88\" title=\"0.004\">machine_learne</span><span style=\"opacity: 0.80\"> thank work data_scientist machine_learning_engineer analytics_professional company use big_data_machine_learning data_visualization tool together power predictive_prescriptive analytic application help business_leader make_better_decision coming_year surprise company combine big_data_machine_learne left_behind competitor data_science vs_machine_learning ai unlock_value </span><span style=\"background-color: hsl(120, 100.00%, 83.46%); opacity: 0.86\" title=\"0.003\">datum</span><span style=\"opacity: 0.80\"> harness intelligence innovation update tool introduce feature help administrator optimize operation onpremise </span><span style=\"background-color: hsl(120, 100.00%, 61.65%); opacity: 0.99\" title=\"0.010\">big_data</span><span style=\"opacity: 0.80\"> </span><span style=\"background-color: hsl(120, 100.00%, 60.00%); opacity: 1.00\" title=\"0.011\">improve</span><span style=\"opacity: 0.80\"> volume collected_data method </span><span style=\"background-color: hsl(120, 100.00%, 60.00%); opacity: 1.00\" title=\"0.011\">improve</span><span style=\"opacity: 0.80\"> ensure </span><span style=\"background-color: hsl(120, 100.00%, 61.65%); opacity: 0.99\" title=\"0.010\">big_data</span><span style=\"opacity: 0.80\"> quality critical making </span><span style=\"background-color: hsl(120, 100.00%, 61.65%); opacity: 0.99\" title=\"0.010\">big_data</span><span style=\"opacity: 0.80\"> integration_strategy depart traditional_technique embrace several </span><span style=\"background-color: hsl(120, 100.00%, 83.46%); opacity: 0.86\" title=\"0.003\">datum</span><span style=\"opacity: 0.80\"> process say designed_solely driver_safety many industry_expert concerns_regarde amazon strengthen global_footprint ecommerce_giant_faces_roadblock challenge today upped game small_business_lende credit option top_merchant add information governance prevent_unintende overshare adobe_commerce add ai live search product_recommendation tune organization digital_signature acquire smaller_competitor digital_asset management_platform hyland_look build purchase alfresco android_phone subject american_copyright_law end handbook_look oracle_autonomous database_offer oracle user issue organization consider oracle_autonomous database automate_routine_administrative operational_task dbas improve_productivity result strong lead growth cloud revenue_growth customer_base however sap erp viable_choice companies_need ease infrastructure_management sap financial_industry investment_firm dediq business_unit develop application help_bank good database_design must_meet processing need sql_server_system webinar_consultant koen_verbeeck_offered_sql server azure_database choice offer_user sql_server_database move here youll_get option using_left_outer join_vs right_outer join join_vs right_outer join technique find various_example creating_sql</span>\n",
       "    </p>\n",
       "\n",
       "\n",
       "    \n",
       "\n",
       "    \n",
       "\n",
       "    \n",
       "\n",
       "    \n",
       "\n",
       "\n",
       "    \n",
       "\n",
       "    \n",
       "\n",
       "    \n",
       "\n",
       "    \n",
       "\n",
       "    \n",
       "\n",
       "    \n",
       "\n",
       "\n",
       "    \n",
       "\n",
       "    \n",
       "\n",
       "    \n",
       "\n",
       "    \n",
       "\n",
       "    \n",
       "\n",
       "    \n",
       "\n",
       "\n",
       "\n"
      ],
      "text/plain": [
       "<IPython.core.display.HTML object>"
      ]
     },
     "execution_count": 68,
     "metadata": {},
     "output_type": "execute_result"
    }
   ],
   "source": [
    "clf = svm\n",
    "element = 56787\n",
    "text = news_lemmatized_str[element]\n",
    "targets = 5\n",
    "\n",
    "eli5.show_prediction(clf, doc=text, targets=[targets], vec=tfidf, top=10, feature_names=feature_names)"
   ]
  },
  {
   "cell_type": "code",
   "execution_count": 69,
   "metadata": {},
   "outputs": [
    {
     "data": {
      "text/plain": [
       "Index([105906], dtype='int64')"
      ]
     },
     "execution_count": 69,
     "metadata": {},
     "output_type": "execute_result"
    }
   ],
   "source": [
    "# randomly select article with sentiment = 5\n",
    "df_news[df_news['sentiment'] == 1].sample(1).index"
   ]
  },
  {
   "cell_type": "code",
   "execution_count": 70,
   "metadata": {},
   "outputs": [
    {
     "data": {
      "text/html": [
       "\n",
       "    <style>\n",
       "    table.eli5-weights tr:hover {\n",
       "        filter: brightness(85%);\n",
       "    }\n",
       "</style>\n",
       "\n",
       "\n",
       "\n",
       "    \n",
       "\n",
       "    \n",
       "\n",
       "    \n",
       "\n",
       "    \n",
       "\n",
       "    \n",
       "\n",
       "    \n",
       "\n",
       "\n",
       "    \n",
       "\n",
       "    \n",
       "\n",
       "    \n",
       "\n",
       "    \n",
       "        \n",
       "\n",
       "    \n",
       "\n",
       "        \n",
       "\n",
       "        \n",
       "    \n",
       "        \n",
       "        \n",
       "    \n",
       "        <p style=\"margin-bottom: 0.5em; margin-top: 0em\">\n",
       "            <b>\n",
       "    \n",
       "        y=5\n",
       "    \n",
       "</b>\n",
       "\n",
       "    \n",
       "    (score <b>-1.382</b>)\n",
       "\n",
       "top features\n",
       "        </p>\n",
       "    \n",
       "    <table class=\"eli5-weights\"\n",
       "           style=\"border-collapse: collapse; border: none; margin-top: 0em; table-layout: auto; margin-bottom: 2em;\">\n",
       "        <thead>\n",
       "        <tr style=\"border: none;\">\n",
       "            \n",
       "                <th style=\"padding: 0 1em 0 0.5em; text-align: right; border: none;\" title=\"Feature contribution already accounts for the feature value (for linear models, contribution = weight * feature value), and the sum of feature contributions is equal to the score or, for some classifiers, to the probability. Feature values are shown if &quot;show_feature_values&quot; is True.\">\n",
       "                    Contribution<sup>?</sup>\n",
       "                </th>\n",
       "            \n",
       "            <th style=\"padding: 0 0.5em 0 0.5em; text-align: left; border: none;\">Feature</th>\n",
       "            \n",
       "        </tr>\n",
       "        </thead>\n",
       "        <tbody>\n",
       "        \n",
       "        \n",
       "            <tr style=\"background-color: hsl(120, 100.00%, 80.00%); border: none;\">\n",
       "                <td colspan=\"2\" style=\"padding: 0 0.5em 0 0.5em; text-align: center; border: none; white-space: nowrap;\">\n",
       "                    <i>&hellip; 82 more positive &hellip;</i>\n",
       "                </td>\n",
       "            </tr>\n",
       "        \n",
       "\n",
       "        \n",
       "            <tr style=\"background-color: hsl(0, 100.00%, 97.86%); border: none;\">\n",
       "                <td colspan=\"2\" style=\"padding: 0 0.5em 0 0.5em; text-align: center; border: none; white-space: nowrap;\">\n",
       "                    <i>&hellip; 101 more negative &hellip;</i>\n",
       "                </td>\n",
       "            </tr>\n",
       "        \n",
       "        \n",
       "            <tr style=\"background-color: hsl(0, 100.00%, 97.86%); border: none;\">\n",
       "    <td style=\"padding: 0 1em 0 0.5em; text-align: right; border: none;\">\n",
       "        -0.045\n",
       "    </td>\n",
       "    <td style=\"padding: 0 0.5em 0 0.5em; text-align: left; border: none;\">\n",
       "        Highlighted in text (sum)\n",
       "    </td>\n",
       "    \n",
       "</tr>\n",
       "        \n",
       "            <tr style=\"background-color: hsl(0, 100.00%, 80.00%); border: none;\">\n",
       "    <td style=\"padding: 0 1em 0 0.5em; text-align: right; border: none;\">\n",
       "        -1.087\n",
       "    </td>\n",
       "    <td style=\"padding: 0 0.5em 0 0.5em; text-align: left; border: none;\">\n",
       "        &lt;BIAS&gt;\n",
       "    </td>\n",
       "    \n",
       "</tr>\n",
       "        \n",
       "\n",
       "        </tbody>\n",
       "    </table>\n",
       "\n",
       "    \n",
       "\n",
       "\n",
       "\n",
       "    <p style=\"margin-bottom: 2.5em; margin-top:-0.5em;\">\n",
       "        <span style=\"background-color: hsl(120, 100.00%, 83.62%); opacity: 0.86\" title=\"0.008\">say</span><span style=\"opacity: 0.80\"> hell create truthgpt counter </span><span style=\"background-color: hsl(0, 100.00%, 74.27%); opacity: 0.91\" title=\"-0.014\">ai</span><span style=\"opacity: 0.80\"> image release </span><span style=\"background-color: hsl(120, 100.00%, 78.59%); opacity: 0.88\" title=\"0.011\">news</span><span style=\"opacity: 0.80\"> </span><span style=\"background-color: hsl(0, 100.00%, 74.30%); opacity: 0.91\" title=\"-0.014\">musk</span><span style=\"opacity: 0.80\"> </span><span style=\"background-color: hsl(120, 100.00%, 75.40%); opacity: 0.90\" title=\"0.013\">gesture</span><span style=\"opacity: 0.80\"> </span><span style=\"background-color: hsl(0, 100.00%, 83.97%); opacity: 0.85\" title=\"-0.007\">interview</span><span style=\"opacity: 0.80\"> host tucker image release </span><span style=\"background-color: hsl(120, 100.00%, 78.59%); opacity: 0.88\" title=\"0.011\">news</span><span style=\"opacity: 0.80\"> </span><span style=\"background-color: hsl(0, 100.00%, 74.30%); opacity: 0.91\" title=\"-0.014\">musk</span><span style=\"opacity: 0.80\"> </span><span style=\"background-color: hsl(120, 100.00%, 75.40%); opacity: 0.90\" title=\"0.013\">gesture</span><span style=\"opacity: 0.80\"> </span><span style=\"background-color: hsl(0, 100.00%, 83.97%); opacity: 0.85\" title=\"-0.007\">interview</span><span style=\"opacity: 0.80\"> host tucker tell segment air night plan create alternative popular </span><span style=\"background-color: hsl(0, 100.00%, 74.27%); opacity: 0.91\" title=\"-0.014\">ai</span><span style=\"opacity: 0.80\"> </span><span style=\"background-color: hsl(0, 100.00%, 75.68%); opacity: 0.90\" title=\"-0.013\">chatbot</span><span style=\"opacity: 0.80\"> chatgpt </span><span style=\"background-color: hsl(120, 100.00%, 86.86%); opacity: 0.84\" title=\"0.005\">call</span><span style=\"opacity: 0.80\"> truthgpt maximum truthseeking </span><span style=\"background-color: hsl(0, 100.00%, 74.27%); opacity: 0.91\" title=\"-0.014\">ai</span><span style=\"opacity: 0.80\"> try </span><span style=\"background-color: hsl(120, 100.00%, 81.53%); opacity: 0.87\" title=\"0.009\">understand</span><span style=\"opacity: 0.80\"> </span><span style=\"background-color: hsl(120, 100.00%, 81.28%); opacity: 0.87\" title=\"0.009\">nature</span><span style=\"opacity: 0.80\"> sound warn </span><span style=\"background-color: hsl(120, 100.00%, 60.00%); opacity: 1.00\" title=\"0.027\">bell</span><span style=\"opacity: 0.80\"> danger artificial intelligence </span><span style=\"background-color: hsl(120, 100.00%, 77.13%); opacity: 0.89\" title=\"0.012\">humanity</span><span style=\"opacity: 0.80\"> claim popular </span><span style=\"background-color: hsl(0, 100.00%, 75.68%); opacity: 0.90\" title=\"-0.013\">chatbot</span><span style=\"opacity: 0.80\"> liberal bias plan counter </span><span style=\"background-color: hsl(0, 100.00%, 74.27%); opacity: 0.91\" title=\"-0.014\">ai</span><span style=\"opacity: 0.80\"> creation tell host tucker segment air night plan create alternative popular </span><span style=\"background-color: hsl(0, 100.00%, 74.27%); opacity: 0.91\" title=\"-0.014\">ai</span><span style=\"opacity: 0.80\"> </span><span style=\"background-color: hsl(0, 100.00%, 75.68%); opacity: 0.90\" title=\"-0.013\">chatbot</span><span style=\"opacity: 0.80\"> chatgpt </span><span style=\"background-color: hsl(120, 100.00%, 86.86%); opacity: 0.84\" title=\"0.005\">call</span><span style=\"opacity: 0.80\"> truthgpt maximum truthseeking </span><span style=\"background-color: hsl(0, 100.00%, 74.27%); opacity: 0.91\" title=\"-0.014\">ai</span><span style=\"opacity: 0.80\"> try </span><span style=\"background-color: hsl(120, 100.00%, 81.53%); opacity: 0.87\" title=\"0.009\">understand</span><span style=\"opacity: 0.80\"> </span><span style=\"background-color: hsl(120, 100.00%, 81.28%); opacity: 0.87\" title=\"0.009\">nature</span><span style=\"opacity: 0.80\"> </span><span style=\"background-color: hsl(120, 100.00%, 83.62%); opacity: 0.86\" title=\"0.008\">say</span><span style=\"opacity: 0.80\"> want </span><span style=\"background-color: hsl(120, 100.00%, 81.53%); opacity: 0.87\" title=\"0.009\">understand</span><span style=\"opacity: 0.80\"> </span><span style=\"background-color: hsl(120, 100.00%, 77.13%); opacity: 0.89\" title=\"0.012\">humanity</span><span style=\"opacity: 0.80\"> less likely destroy also </span><span style=\"background-color: hsl(120, 100.00%, 83.62%); opacity: 0.86\" title=\"0.008\">say</span><span style=\"opacity: 0.80\"> s worried chatgpt train politically correct </span><span style=\"background-color: hsl(0, 100.00%, 80.90%); opacity: 0.87\" title=\"-0.009\">first</span><span style=\"opacity: 0.80\"> </span><span style=\"background-color: hsl(0, 100.00%, 83.97%); opacity: 0.85\" title=\"-0.007\">interview</span><span style=\"opacity: 0.80\"> also advocate regulation artificial intelligence </span><span style=\"background-color: hsl(120, 100.00%, 83.62%); opacity: 0.86\" title=\"0.008\">say</span><span style=\"opacity: 0.80\"> s big fan </span><span style=\"background-color: hsl(120, 100.00%, 86.86%); opacity: 0.84\" title=\"0.005\">call</span><span style=\"opacity: 0.80\"> </span><span style=\"background-color: hsl(0, 100.00%, 74.27%); opacity: 0.91\" title=\"-0.014\">ai</span><span style=\"opacity: 0.80\"> </span><span style=\"background-color: hsl(120, 100.00%, 73.90%); opacity: 0.91\" title=\"0.015\">dangerous</span><span style=\"opacity: 0.80\"> car rocket </span><span style=\"background-color: hsl(120, 100.00%, 83.62%); opacity: 0.86\" title=\"0.008\">say</span><span style=\"opacity: 0.80\"> </span><span style=\"background-color: hsl(0, 100.00%, 72.05%); opacity: 0.92\" title=\"-0.016\">potential</span><span style=\"opacity: 0.80\"> destroy </span><span style=\"background-color: hsl(120, 100.00%, 77.13%); opacity: 0.89\" title=\"0.012\">humanity</span><span style=\"opacity: 0.80\"> separately </span><span style=\"background-color: hsl(0, 100.00%, 68.50%); opacity: 0.94\" title=\"-0.019\">incorporate</span><span style=\"opacity: 0.80\"> new </span><span style=\"background-color: hsl(120, 100.00%, 85.14%); opacity: 0.85\" title=\"0.007\">business</span><span style=\"opacity: 0.80\"> </span><span style=\"background-color: hsl(120, 100.00%, 86.86%); opacity: 0.84\" title=\"0.005\">call</span><span style=\"opacity: 0.80\"> </span><span style=\"background-color: hsl(120, 100.00%, 85.14%); opacity: 0.85\" title=\"0.007\">business</span><span style=\"opacity: 0.80\"> filing </span><span style=\"background-color: hsl(120, 100.00%, 60.62%); opacity: 1.00\" title=\"0.026\">website</span><span style=\"opacity: 0.80\"> </span><span style=\"background-color: hsl(120, 100.00%, 83.62%); opacity: 0.86\" title=\"0.008\">say</span><span style=\"opacity: 0.80\"> </span><span style=\"background-color: hsl(120, 100.00%, 85.14%); opacity: 0.85\" title=\"0.007\">business</span><span style=\"opacity: 0.80\"> form list director adviser </span><span style=\"background-color: hsl(0, 100.00%, 74.30%); opacity: 0.91\" title=\"-0.014\">musk</span><span style=\"opacity: 0.80\"> many </span><span style=\"background-color: hsl(120, 100.00%, 81.63%); opacity: 0.87\" title=\"0.009\">year</span><span style=\"opacity: 0.80\"> express strong opinion artificial intelligence dismiss tech leader include gate describe limited </span><span style=\"background-color: hsl(120, 100.00%, 65.21%); opacity: 0.96\" title=\"0.022\">understanding</span><span style=\"opacity: 0.80\"> field </span><span style=\"background-color: hsl(0, 100.00%, 74.30%); opacity: 0.91\" title=\"-0.014\">musk</span><span style=\"opacity: 0.80\"> early investor openai startup board </span><span style=\"background-color: hsl(120, 100.00%, 80.59%); opacity: 0.87\" title=\"0.010\">found</span><span style=\"opacity: 0.80\"> </span><span style=\"background-color: hsl(0, 100.00%, 74.27%); opacity: 0.91\" title=\"-0.014\">ai</span><span style=\"opacity: 0.80\"> research last </span><span style=\"background-color: hsl(120, 100.00%, 81.63%); opacity: 0.87\" title=\"0.009\">year</span><span style=\"opacity: 0.80\"> resign board early move startup tie </span><span style=\"background-color: hsl(0, 100.00%, 69.42%); opacity: 0.94\" title=\"-0.018\">tesla</span><span style=\"opacity: 0.80\"> work build automate driving system </span><span style=\"background-color: hsl(0, 100.00%, 69.42%); opacity: 0.94\" title=\"-0.018\">tesla</span><span style=\"opacity: 0.80\"> continue become focused eliminate </span><span style=\"background-color: hsl(0, 100.00%, 72.05%); opacity: 0.92\" title=\"-0.016\">potential</span><span style=\"opacity: 0.80\"> future conflict </span><span style=\"background-color: hsl(120, 100.00%, 83.62%); opacity: 0.86\" title=\"0.008\">say</span><span style=\"opacity: 0.80\"> come name concept tell carlson lament closely ally long nonprofit elaborate departure </span><span style=\"background-color: hsl(120, 100.00%, 83.62%); opacity: 0.86\" title=\"0.008\">say</span><span style=\"opacity: 0.80\"> also relate need focus engineering problem </span><span style=\"background-color: hsl(0, 100.00%, 69.42%); opacity: 0.94\" title=\"-0.018\">tesla</span><span style=\"opacity: 0.80\"> difference leader well part way good term </span><span style=\"background-color: hsl(120, 100.00%, 83.62%); opacity: 0.86\" title=\"0.008\">say</span><span style=\"opacity: 0.80\"> </span><span style=\"background-color: hsl(0, 100.00%, 69.42%); opacity: 0.94\" title=\"-0.018\">tesla</span><span style=\"opacity: 0.80\"> compete people agree team want </span><span style=\"background-color: hsl(120, 100.00%, 71.75%); opacity: 0.92\" title=\"0.016\">tweet</span><span style=\"opacity: 0.80\"> specify question surround quality </span><span style=\"background-color: hsl(0, 100.00%, 69.42%); opacity: 0.94\" title=\"-0.018\">tesla</span><span style=\"opacity: 0.80\"> </span><span style=\"background-color: hsl(0, 100.00%, 74.27%); opacity: 0.91\" title=\"-0.014\">ai</span><span style=\"opacity: 0.80\"> system safety regulator last month </span><span style=\"background-color: hsl(0, 100.00%, 74.96%); opacity: 0.90\" title=\"-0.014\">announce</span><span style=\"opacity: 0.80\"> </span><span style=\"background-color: hsl(0, 100.00%, 69.57%); opacity: 0.94\" title=\"-0.018\">investigation</span><span style=\"opacity: 0.80\"> fatal crash involve </span><span style=\"background-color: hsl(0, 100.00%, 69.42%); opacity: 0.94\" title=\"-0.018\">tesla</span><span style=\"opacity: 0.80\"> suspect use automate driving system run park part large </span><span style=\"background-color: hsl(0, 100.00%, 69.57%); opacity: 0.94\" title=\"-0.018\">investigation</span><span style=\"opacity: 0.80\"> agency multiple instance </span><span style=\"background-color: hsl(0, 100.00%, 69.42%); opacity: 0.94\" title=\"-0.018\">tesla</span><span style=\"opacity: 0.80\"> use automaker autopilot system crash park emergency </span><span style=\"background-color: hsl(120, 100.00%, 73.10%); opacity: 0.91\" title=\"0.015\">vehicle</span><span style=\"opacity: 0.80\"> tend crash nhtsa become </span><span style=\"background-color: hsl(120, 100.00%, 60.78%); opacity: 0.99\" title=\"0.026\">aggressive</span><span style=\"opacity: 0.80\"> pursue safety problem </span><span style=\"background-color: hsl(0, 100.00%, 69.42%); opacity: 0.94\" title=\"-0.018\">tesla</span><span style=\"opacity: 0.80\"> past </span><span style=\"background-color: hsl(120, 100.00%, 81.63%); opacity: 0.87\" title=\"0.009\">year</span><span style=\"opacity: 0.80\"> </span><span style=\"background-color: hsl(0, 100.00%, 74.96%); opacity: 0.90\" title=\"-0.014\">announce</span><span style=\"opacity: 0.80\"> multiple </span><span style=\"background-color: hsl(0, 100.00%, 74.19%); opacity: 0.91\" title=\"-0.014\">recall</span><span style=\"opacity: 0.80\"> </span><span style=\"background-color: hsl(0, 100.00%, 69.57%); opacity: 0.94\" title=\"-0.018\">investigation</span><span style=\"opacity: 0.80\"> resign still far away work chatgpt publicly unveil </span><span style=\"background-color: hsl(0, 100.00%, 80.90%); opacity: 0.87\" title=\"-0.009\">first</span><span style=\"opacity: 0.80\"> generation gpt system chatgpt </span><span style=\"background-color: hsl(120, 100.00%, 80.59%); opacity: 0.87\" title=\"0.010\">found</span><span style=\"opacity: 0.80\"> begin major shift </span><span style=\"background-color: hsl(0, 100.00%, 68.50%); opacity: 0.94\" title=\"-0.019\">incorporate</span><span style=\"opacity: 0.80\"> forprofit </span><span style=\"background-color: hsl(120, 100.00%, 85.14%); opacity: 0.85\" title=\"0.007\">business</span><span style=\"opacity: 0.80\"> </span><span style=\"background-color: hsl(0, 100.00%, 74.30%); opacity: 0.91\" title=\"-0.014\">musk</span><span style=\"opacity: 0.80\"> </span><span style=\"background-color: hsl(120, 100.00%, 71.75%); opacity: 0.92\" title=\"0.016\">tweet</span><span style=\"opacity: 0.80\"> openai open noting control limit </span><span style=\"background-color: hsl(120, 100.00%, 65.17%); opacity: 0.96\" title=\"0.022\">complementary</span><span style=\"opacity: 0.80\"> day </span><span style=\"background-color: hsl(120, 100.00%, 71.75%); opacity: 0.92\" title=\"0.016\">tweet</span><span style=\"opacity: 0.80\"> ceo complain </span><span style=\"background-color: hsl(120, 100.00%, 78.59%); opacity: 0.88\" title=\"0.011\">news</span><span style=\"opacity: 0.80\"> medium widely cover chatgpt far leave cause however repeatedly highlight example </span><span style=\"background-color: hsl(120, 100.00%, 83.62%); opacity: 0.86\" title=\"0.008\">say</span><span style=\"opacity: 0.80\"> show leftwe bias censorship </span><span style=\"background-color: hsl(0, 100.00%, 75.68%); opacity: 0.90\" title=\"-0.013\">chatbot</span><span style=\"opacity: 0.80\"> chatgpt filter try prevent spew toxic offensive answer copyright associate press right reserve material publish broadcast rewrite redistribute padel fast grow sport world right reserve says_hell create_truthgpt counter </span><span style=\"background-color: hsl(0, 100.00%, 74.27%); opacity: 0.91\" title=\"-0.014\">ai</span><span style=\"opacity: 0.80\"> image release </span><span style=\"background-color: hsl(120, 100.00%, 75.40%); opacity: 0.90\" title=\"0.013\">gesture</span><span style=\"opacity: 0.80\"> </span><span style=\"background-color: hsl(0, 100.00%, 83.97%); opacity: 0.85\" title=\"-0.007\">interview</span><span style=\"opacity: 0.80\"> carlson billionaire_twitter image release </span><span style=\"background-color: hsl(120, 100.00%, 75.40%); opacity: 0.90\" title=\"0.013\">gesture</span><span style=\"opacity: 0.80\"> </span><span style=\"background-color: hsl(0, 100.00%, 83.97%); opacity: 0.85\" title=\"-0.007\">interview</span><span style=\"opacity: 0.80\"> carlson billionaire_twitter owner_told carlson segment_aire plan create alternative popular </span><span style=\"background-color: hsl(0, 100.00%, 74.27%); opacity: 0.91\" title=\"-0.014\">ai</span><span style=\"opacity: 0.80\"> chatbot_chatgpt calling_truthgpt maximum_truthseeking try </span><span style=\"background-color: hsl(120, 100.00%, 81.53%); opacity: 0.87\" title=\"0.009\">understand</span><span style=\"opacity: 0.80\"> </span><span style=\"background-color: hsl(120, 100.00%, 81.28%); opacity: 0.87\" title=\"0.009\">nature</span><span style=\"opacity: 0.80\"> </span><span style=\"background-color: hsl(120, 100.00%, 78.59%); opacity: 0.88\" title=\"0.011\">news</span><span style=\"opacity: 0.80\"> owner_elon </span><span style=\"background-color: hsl(0, 100.00%, 74.30%); opacity: 0.91\" title=\"-0.014\">musk</span><span style=\"opacity: 0.80\"> sounding_warning </span><span style=\"background-color: hsl(120, 100.00%, 60.00%); opacity: 1.00\" title=\"0.027\">bell</span><span style=\"opacity: 0.80\"> danger artificial_intelligence </span><span style=\"background-color: hsl(120, 100.00%, 77.13%); opacity: 0.89\" title=\"0.012\">humanity</span><span style=\"opacity: 0.80\"> claim popular_chatbot plan counter </span><span style=\"background-color: hsl(0, 100.00%, 74.27%); opacity: 0.91\" title=\"-0.014\">ai</span><span style=\"opacity: 0.80\"> creation_musk </span><span style=\"background-color: hsl(120, 100.00%, 78.59%); opacity: 0.88\" title=\"0.011\">news</span><span style=\"opacity: 0.80\"> carlson segment_aire plan create alternative popular </span><span style=\"background-color: hsl(0, 100.00%, 74.27%); opacity: 0.91\" title=\"-0.014\">ai</span><span style=\"opacity: 0.80\"> chatbot_chatgpt calling_truthgpt maximum_truthseeking try </span><span style=\"background-color: hsl(120, 100.00%, 81.53%); opacity: 0.87\" title=\"0.009\">understand</span><span style=\"opacity: 0.80\"> </span><span style=\"background-color: hsl(120, 100.00%, 81.28%); opacity: 0.87\" title=\"0.009\">nature</span><span style=\"opacity: 0.80\"> universe idea_musk </span><span style=\"background-color: hsl(120, 100.00%, 83.62%); opacity: 0.86\" title=\"0.008\">say</span><span style=\"opacity: 0.80\"> want understand_humanity less_likely destroy also </span><span style=\"background-color: hsl(120, 100.00%, 83.62%); opacity: 0.86\" title=\"0.008\">say</span><span style=\"opacity: 0.80\"> hes_worrie train politically_correct </span><span style=\"background-color: hsl(0, 100.00%, 80.90%); opacity: 0.87\" title=\"-0.009\">first</span><span style=\"opacity: 0.80\"> twopart_interview carlson_musk also_advocate regulation artificial_intelligence big_fan </span><span style=\"background-color: hsl(120, 100.00%, 86.86%); opacity: 0.84\" title=\"0.005\">call</span><span style=\"opacity: 0.80\"> </span><span style=\"background-color: hsl(0, 100.00%, 74.27%); opacity: 0.91\" title=\"-0.014\">ai</span><span style=\"opacity: 0.80\"> </span><span style=\"background-color: hsl(120, 100.00%, 73.90%); opacity: 0.91\" title=\"0.015\">dangerous</span><span style=\"opacity: 0.80\"> car rocket </span><span style=\"background-color: hsl(120, 100.00%, 83.62%); opacity: 0.86\" title=\"0.008\">say</span><span style=\"opacity: 0.80\"> </span><span style=\"background-color: hsl(0, 100.00%, 72.05%); opacity: 0.92\" title=\"-0.016\">potential</span><span style=\"opacity: 0.80\"> destroy_humanity </span><span style=\"background-color: hsl(0, 100.00%, 68.50%); opacity: 0.94\" title=\"-0.019\">incorporate</span><span style=\"opacity: 0.80\"> new </span><span style=\"background-color: hsl(120, 100.00%, 85.14%); opacity: 0.85\" title=\"0.007\">business</span><span style=\"opacity: 0.80\"> </span><span style=\"background-color: hsl(120, 100.00%, 86.86%); opacity: 0.84\" title=\"0.005\">call</span><span style=\"opacity: 0.80\"> accord nevada_business filing </span><span style=\"background-color: hsl(120, 100.00%, 60.62%); opacity: 1.00\" title=\"0.026\">website</span><span style=\"opacity: 0.80\"> office </span><span style=\"background-color: hsl(120, 100.00%, 83.62%); opacity: 0.86\" title=\"0.008\">say</span><span style=\"opacity: 0.80\"> </span><span style=\"background-color: hsl(120, 100.00%, 85.14%); opacity: 0.85\" title=\"0.007\">business</span><span style=\"opacity: 0.80\"> form director longtime_advis secretary_musk many </span><span style=\"background-color: hsl(120, 100.00%, 81.63%); opacity: 0.87\" title=\"0.009\">year</span><span style=\"opacity: 0.80\"> opinion artificial_intelligence dismiss tech_leader include bill_gate describe limited </span><span style=\"background-color: hsl(120, 100.00%, 65.21%); opacity: 0.96\" title=\"0.022\">understanding</span><span style=\"opacity: 0.80\"> field startup_behind chatgpt cochaire board_upon founding nonprofit </span><span style=\"background-color: hsl(0, 100.00%, 74.27%); opacity: 0.91\" title=\"-0.014\">ai</span><span style=\"opacity: 0.80\"> last years_resigne board early move startup_tie teslas_work building automated_drive system tesla_continue become focused eliminate_potential future_conflict </span><span style=\"background-color: hsl(120, 100.00%, 83.62%); opacity: 0.86\" title=\"0.008\">say</span><span style=\"opacity: 0.80\"> post come name concept_musk told_carlson lament closely_allie longer_nonprofit musk_elaborate departure </span><span style=\"background-color: hsl(120, 100.00%, 83.62%); opacity: 0.86\" title=\"0.008\">say</span><span style=\"opacity: 0.80\"> also related need focus engineering problem </span><span style=\"background-color: hsl(0, 100.00%, 69.42%); opacity: 0.94\" title=\"-0.018\">tesla</span><span style=\"opacity: 0.80\"> difference leader well part way good term </span><span style=\"background-color: hsl(120, 100.00%, 83.62%); opacity: 0.86\" title=\"0.008\">say</span><span style=\"opacity: 0.80\"> </span><span style=\"background-color: hsl(0, 100.00%, 69.42%); opacity: 0.94\" title=\"-0.018\">tesla</span><span style=\"opacity: 0.80\"> compete people openai openai musk_tweeted without_specifye questions_surrounde quality </span><span style=\"background-color: hsl(0, 100.00%, 69.42%); opacity: 0.94\" title=\"-0.018\">tesla</span><span style=\"opacity: 0.80\"> </span><span style=\"background-color: hsl(0, 100.00%, 74.27%); opacity: 0.91\" title=\"-0.014\">ai</span><span style=\"opacity: 0.80\"> system last_month </span><span style=\"background-color: hsl(0, 100.00%, 74.96%); opacity: 0.90\" title=\"-0.014\">announce</span><span style=\"opacity: 0.80\"> </span><span style=\"background-color: hsl(0, 100.00%, 69.57%); opacity: 0.94\" title=\"-0.018\">investigation</span><span style=\"opacity: 0.80\"> fatal_crash suspect use automated_drive system run part larger_investigation agency multiple_instance teslas_use automakers_autopilot system_crashe parked_emergency </span><span style=\"background-color: hsl(120, 100.00%, 73.10%); opacity: 0.91\" title=\"0.015\">vehicle</span><span style=\"opacity: 0.80\"> tend crashes_nhtsa become </span><span style=\"background-color: hsl(120, 100.00%, 60.78%); opacity: 0.99\" title=\"0.026\">aggressive</span><span style=\"opacity: 0.80\"> pursuing_safety problem </span><span style=\"background-color: hsl(0, 100.00%, 69.42%); opacity: 0.94\" title=\"-0.018\">tesla</span><span style=\"opacity: 0.80\"> announcing_multiple </span><span style=\"background-color: hsl(0, 100.00%, 74.19%); opacity: 0.91\" title=\"-0.014\">recall</span><span style=\"opacity: 0.80\"> </span><span style=\"background-color: hsl(0, 100.00%, 69.57%); opacity: 0.94\" title=\"-0.018\">investigation</span><span style=\"opacity: 0.80\"> </span><span style=\"background-color: hsl(120, 100.00%, 81.63%); opacity: 0.87\" title=\"0.009\">year</span><span style=\"opacity: 0.80\"> board openai still_far away work chatgpt publicly_unveile </span><span style=\"background-color: hsl(0, 100.00%, 80.90%); opacity: 0.87\" title=\"-0.009\">first</span><span style=\"opacity: 0.80\"> generation gpt system chatgpt </span><span style=\"background-color: hsl(120, 100.00%, 80.59%); opacity: 0.87\" title=\"0.010\">found</span><span style=\"opacity: 0.80\"> begin major_shift </span><span style=\"background-color: hsl(0, 100.00%, 68.50%); opacity: 0.94\" title=\"-0.019\">incorporate</span><span style=\"opacity: 0.80\"> forprofit_business </span><span style=\"background-color: hsl(0, 100.00%, 74.30%); opacity: 0.91\" title=\"-0.014\">musk</span><span style=\"opacity: 0.80\"> </span><span style=\"background-color: hsl(120, 100.00%, 71.75%); opacity: 0.92\" title=\"0.016\">tweet</span><span style=\"opacity: 0.80\"> openai open noting control limit </span><span style=\"background-color: hsl(120, 100.00%, 65.17%); opacity: 0.96\" title=\"0.022\">complementary</span><span style=\"opacity: 0.80\"> day release chatgpt musk_tweete complain </span><span style=\"background-color: hsl(120, 100.00%, 78.59%); opacity: 0.88\" title=\"0.011\">news</span><span style=\"opacity: 0.80\"> medium wasnt_widely cover chatgpt far_left cause however repeatedly_highlighte example </span><span style=\"background-color: hsl(120, 100.00%, 83.62%); opacity: 0.86\" title=\"0.008\">say</span><span style=\"opacity: 0.80\"> bias </span><span style=\"background-color: hsl(0, 100.00%, 75.68%); opacity: 0.90\" title=\"-0.013\">chatbot</span><span style=\"opacity: 0.80\"> chatgpt filter try prevent spewing_toxic offensive_answer copyright associated_press rights_reserve rewrite redistribute padel fastest_growe sport rights_reserve elon_musk_says_hell create_truthgpt bias image_release </span><span style=\"background-color: hsl(120, 100.00%, 75.40%); opacity: 0.90\" title=\"0.013\">gesture</span><span style=\"opacity: 0.80\"> </span><span style=\"background-color: hsl(0, 100.00%, 83.97%); opacity: 0.85\" title=\"-0.007\">interview</span><span style=\"opacity: 0.80\"> carlson billionaire_twitter image_release </span><span style=\"background-color: hsl(120, 100.00%, 75.40%); opacity: 0.90\" title=\"0.013\">gesture</span><span style=\"opacity: 0.80\"> </span><span style=\"background-color: hsl(0, 100.00%, 83.97%); opacity: 0.85\" title=\"-0.007\">interview</span><span style=\"opacity: 0.80\"> carlson carlson plan create alternative popular </span><span style=\"background-color: hsl(0, 100.00%, 74.27%); opacity: 0.91\" title=\"-0.014\">ai</span><span style=\"opacity: 0.80\"> chatbot_chatgpt try </span><span style=\"background-color: hsl(120, 100.00%, 81.53%); opacity: 0.87\" title=\"0.009\">understand</span><span style=\"opacity: 0.80\"> </span><span style=\"background-color: hsl(120, 100.00%, 81.28%); opacity: 0.87\" title=\"0.009\">nature</span><span style=\"opacity: 0.80\"> via_ap_billionaire_twitter sounding_warning </span><span style=\"background-color: hsl(120, 100.00%, 60.00%); opacity: 1.00\" title=\"0.027\">bell</span><span style=\"opacity: 0.80\"> danger claim popular_chatbot plan carlson plan create alternative popular </span><span style=\"background-color: hsl(0, 100.00%, 74.27%); opacity: 0.91\" title=\"-0.014\">ai</span><span style=\"opacity: 0.80\"> chatbot_chatgpt try </span><span style=\"background-color: hsl(120, 100.00%, 81.53%); opacity: 0.87\" title=\"0.009\">understand</span><span style=\"opacity: 0.80\"> </span><span style=\"background-color: hsl(120, 100.00%, 81.28%); opacity: 0.87\" title=\"0.009\">nature</span><span style=\"opacity: 0.80\"> universe idea_musk </span><span style=\"background-color: hsl(120, 100.00%, 83.62%); opacity: 0.86\" title=\"0.008\">say</span><span style=\"opacity: 0.80\"> want understand_humanity less_likely destroy musk_also said_hes_worrie chatgpt train politically_correct </span><span style=\"background-color: hsl(0, 100.00%, 80.90%); opacity: 0.87\" title=\"-0.009\">first</span><span style=\"opacity: 0.80\"> twopart_interview carlson_musk_also_advocate regulation big_fan </span><span style=\"background-color: hsl(120, 100.00%, 86.86%); opacity: 0.84\" title=\"0.005\">call</span><span style=\"opacity: 0.80\"> </span><span style=\"background-color: hsl(0, 100.00%, 74.27%); opacity: 0.91\" title=\"-0.014\">ai</span><span style=\"opacity: 0.80\"> </span><span style=\"background-color: hsl(120, 100.00%, 73.90%); opacity: 0.91\" title=\"0.015\">dangerous</span><span style=\"opacity: 0.80\"> car rocket </span><span style=\"background-color: hsl(120, 100.00%, 83.62%); opacity: 0.86\" title=\"0.008\">say</span><span style=\"opacity: 0.80\"> </span><span style=\"background-color: hsl(0, 100.00%, 72.05%); opacity: 0.92\" title=\"-0.016\">potential</span><span style=\"opacity: 0.80\"> destroy_humanity_separately_musk incorporated_new </span><span style=\"background-color: hsl(120, 100.00%, 85.14%); opacity: 0.85\" title=\"0.007\">business</span><span style=\"opacity: 0.80\"> </span><span style=\"background-color: hsl(120, 100.00%, 86.86%); opacity: 0.84\" title=\"0.005\">call</span><span style=\"opacity: 0.80\"> </span><span style=\"background-color: hsl(0, 100.00%, 74.27%); opacity: 0.91\" title=\"-0.014\">ai</span><span style=\"opacity: 0.80\"> corp_accorde </span><span style=\"background-color: hsl(120, 100.00%, 60.62%); opacity: 1.00\" title=\"0.026\">website</span><span style=\"opacity: 0.80\"> nevada_secretary states_office </span><span style=\"background-color: hsl(120, 100.00%, 83.62%); opacity: 0.86\" title=\"0.008\">say</span><span style=\"opacity: 0.80\"> </span><span style=\"background-color: hsl(120, 100.00%, 85.14%); opacity: 0.85\" title=\"0.007\">business</span><span style=\"opacity: 0.80\"> form director longtime_advis secretary_musk many_year expressed_strong_opinion dismiss tech_leader bill_gate describe limited_understande field_musk startup_behind_chatgpt cochaire board_upon founding nonprofit </span><span style=\"background-color: hsl(0, 100.00%, 74.27%); opacity: 0.91\" title=\"-0.014\">ai</span><span style=\"opacity: 0.80\"> last years_resigne board early move san_francisco_startup_tie teslas_work building_automated_driving system tesla_continue become focused </span><span style=\"background-color: hsl(120, 100.00%, 83.62%); opacity: 0.86\" title=\"0.008\">say</span><span style=\"opacity: 0.80\"> come name concept_musk_told_carlson lament closely_allie longer_nonprofit musk_elaborate departure </span><span style=\"background-color: hsl(120, 100.00%, 83.62%); opacity: 0.86\" title=\"0.008\">say</span><span style=\"opacity: 0.80\"> also related need focus_engineering problem </span><span style=\"background-color: hsl(0, 100.00%, 69.42%); opacity: 0.94\" title=\"-0.018\">tesla</span><span style=\"opacity: 0.80\"> difference opinion openais_leader well part_way good_term </span><span style=\"background-color: hsl(120, 100.00%, 83.62%); opacity: 0.86\" title=\"0.008\">say</span><span style=\"opacity: 0.80\"> </span><span style=\"background-color: hsl(0, 100.00%, 69.42%); opacity: 0.94\" title=\"-0.018\">tesla</span><span style=\"opacity: 0.80\"> compete people openai_didnt_agree openai_team_wante musk_tweeted_without_specifying questions_surrounde quality last_month_announce </span><span style=\"background-color: hsl(0, 100.00%, 69.57%); opacity: 0.94\" title=\"-0.018\">investigation</span><span style=\"opacity: 0.80\"> fatal_crash_involving_tesla suspect use run part larger_investigation agency multiple_instance teslas_use automakers_autopilot_system_crashe parked_emergency </span><span style=\"background-color: hsl(120, 100.00%, 73.10%); opacity: 0.91\" title=\"0.015\">vehicle</span><span style=\"opacity: 0.80\"> tend crashes_nhtsa pursuing_safety_problem </span><span style=\"background-color: hsl(0, 100.00%, 69.42%); opacity: 0.94\" title=\"-0.018\">tesla</span><span style=\"opacity: 0.80\"> </span><span style=\"background-color: hsl(0, 100.00%, 74.19%); opacity: 0.91\" title=\"-0.014\">recall</span><span style=\"opacity: 0.80\"> </span><span style=\"background-color: hsl(0, 100.00%, 69.57%); opacity: 0.94\" title=\"-0.018\">investigation</span><span style=\"opacity: 0.80\"> </span><span style=\"background-color: hsl(120, 100.00%, 81.63%); opacity: 0.87\" title=\"0.009\">year</span><span style=\"opacity: 0.80\"> musk_resigne board_openai still_far away work chatgpt publicly_unveile chatgpt </span><span style=\"background-color: hsl(120, 100.00%, 80.59%); opacity: 0.87\" title=\"0.010\">found</span><span style=\"opacity: 0.80\"> </span><span style=\"background-color: hsl(0, 100.00%, 68.50%); opacity: 0.94\" title=\"-0.019\">incorporate</span><span style=\"opacity: 0.80\"> forprofit_business </span><span style=\"background-color: hsl(0, 100.00%, 74.30%); opacity: 0.91\" title=\"-0.014\">musk</span><span style=\"opacity: 0.80\"> </span><span style=\"background-color: hsl(120, 100.00%, 71.75%); opacity: 0.92\" title=\"0.016\">tweet</span><span style=\"opacity: 0.80\"> openai open noting control limit </span><span style=\"background-color: hsl(120, 100.00%, 65.17%); opacity: 0.96\" title=\"0.022\">complementary</span><span style=\"opacity: 0.80\"> day nov_release scary_good complain wasnt_widely_covering chatgpt far_left_cause repeatedly_highlighte example </span><span style=\"background-color: hsl(120, 100.00%, 83.62%); opacity: 0.86\" title=\"0.008\">say</span><span style=\"opacity: 0.80\"> chatbots_chatgpt filter try prevent spewing_toxic offensive_answer copyright_associated_press rights_reserve rewrite redistribute padel fastest_growe sport rights_reserve</span>\n",
       "    </p>\n",
       "\n",
       "\n",
       "    \n",
       "\n",
       "    \n",
       "\n",
       "    \n",
       "\n",
       "    \n",
       "\n",
       "\n",
       "    \n",
       "\n",
       "    \n",
       "\n",
       "    \n",
       "\n",
       "    \n",
       "\n",
       "    \n",
       "\n",
       "    \n",
       "\n",
       "\n",
       "    \n",
       "\n",
       "    \n",
       "\n",
       "    \n",
       "\n",
       "    \n",
       "\n",
       "    \n",
       "\n",
       "    \n",
       "\n",
       "\n",
       "\n"
      ],
      "text/plain": [
       "<IPython.core.display.HTML object>"
      ]
     },
     "execution_count": 70,
     "metadata": {},
     "output_type": "execute_result"
    }
   ],
   "source": [
    "clf = svm\n",
    "element = 121165\n",
    "text = news_lemmatized_str[element]\n",
    "targets = 5\n",
    "\n",
    "eli5.show_prediction(clf, doc=text, targets=[targets], vec=tfidf, top=30, feature_names=feature_names)"
   ]
  },
  {
   "cell_type": "code",
   "execution_count": 71,
   "metadata": {},
   "outputs": [
    {
     "name": "stdout",
     "output_type": "stream",
     "text": [
      "CPU times: user 1min 32s, sys: 50.3 s, total: 2min 22s\n",
      "Wall time: 28min 55s\n"
     ]
    }
   ],
   "source": [
    "%%time\n",
    "\n",
    "# save the dataframe as parquet file\n",
    "path = \"gs://nlp-final-project-data/data/\"\n",
    "df_news.to_parquet(path + 'news_sentiment.parquet', engine='pyarrow')"
   ]
  },
  {
   "cell_type": "code",
   "execution_count": 72,
   "metadata": {},
   "outputs": [
    {
     "name": "stdout",
     "output_type": "stream",
     "text": [
      "TF-IDF vectorizer saved locally.\n",
      "CPU times: user 9.7 ms, sys: 27.4 ms, total: 37.1 ms\n",
      "Wall time: 65.5 ms\n"
     ]
    }
   ],
   "source": [
    "%%time\n",
    "\n",
    "# Save the fitted vectorizer to a file\n",
    "filename = 'result/tfidf_vectorizer.pkl'\n",
    "with open(filename, 'wb') as file:\n",
    "    pickle.dump(tfidf, file)\n",
    "\n",
    "print(\"TF-IDF vectorizer saved locally.\")"
   ]
  },
  {
   "cell_type": "code",
   "execution_count": 73,
   "metadata": {},
   "outputs": [
    {
     "name": "stdout",
     "output_type": "stream",
     "text": [
      "SVM model saved locally.\n",
      "CPU times: user 2 ms, sys: 9.62 ms, total: 11.6 ms\n",
      "Wall time: 17.3 ms\n"
     ]
    }
   ],
   "source": [
    "%%time\n",
    "\n",
    "# Save the model\n",
    "filename = 'result/svm_sentiment.pkl'\n",
    "with open(filename, 'wb') as file:\n",
    "    pickle.dump(svm, file)\n",
    "\n",
    "print(\"SVM model saved locally.\")"
   ]
  },
  {
   "attachments": {},
   "cell_type": "markdown",
   "metadata": {},
   "source": [
    "## Sentiment Overtime Analysis and Visualization"
   ]
  },
  {
   "cell_type": "code",
   "execution_count": 35,
   "metadata": {},
   "outputs": [
    {
     "name": "stdout",
     "output_type": "stream",
     "text": [
      "CPU times: user 1min 25s, sys: 45.9 s, total: 2min 11s\n",
      "Wall time: 3min 14s\n"
     ]
    }
   ],
   "source": [
    "%%time\n",
    "\n",
    "# reload the data\n",
    "path = \"gs://nlp-final-project-data/data/\"\n",
    "df_news = pd.read_parquet(path + 'news_sentiment.parquet', engine='pyarrow')"
   ]
  },
  {
   "cell_type": "code",
   "execution_count": 43,
   "metadata": {},
   "outputs": [
    {
     "data": {
      "text/plain": [
       "['Negative', 'Mostly Negative', 'Neutral', 'Mostly Positive', 'Positive']"
      ]
     },
     "execution_count": 43,
     "metadata": {},
     "output_type": "execute_result"
    }
   ],
   "source": [
    "# mapping the sentiment values to text\n",
    "sentiment_map = {'Negative': 1,\n",
    "                 'Mostly Negative': 2,\n",
    "                 'Neutral': 3, \n",
    "                 'Mostly Positive': 4,\n",
    "                 'Positive': 5}\n",
    "\n",
    "sentiment_labels = list(sentiment_map.keys())\n",
    "sentiment_labels"
   ]
  },
  {
   "attachments": {},
   "cell_type": "markdown",
   "metadata": {},
   "source": [
    "### Timeline of Sentiment Change"
   ]
  },
  {
   "cell_type": "code",
   "execution_count": 44,
   "metadata": {},
   "outputs": [
    {
     "data": {
      "text/html": [
       "<div>\n",
       "<style scoped>\n",
       "    .dataframe tbody tr th:only-of-type {\n",
       "        vertical-align: middle;\n",
       "    }\n",
       "\n",
       "    .dataframe tbody tr th {\n",
       "        vertical-align: top;\n",
       "    }\n",
       "\n",
       "    .dataframe thead th {\n",
       "        text-align: right;\n",
       "    }\n",
       "</style>\n",
       "<table border=\"1\" class=\"dataframe\">\n",
       "  <thead>\n",
       "    <tr style=\"text-align: right;\">\n",
       "      <th></th>\n",
       "      <th>sentiment</th>\n",
       "      <th>date</th>\n",
       "    </tr>\n",
       "  </thead>\n",
       "  <tbody>\n",
       "    <tr>\n",
       "      <th>0</th>\n",
       "      <td>5</td>\n",
       "      <td>2020-02-27</td>\n",
       "    </tr>\n",
       "    <tr>\n",
       "      <th>1</th>\n",
       "      <td>4</td>\n",
       "      <td>2021-03-26</td>\n",
       "    </tr>\n",
       "    <tr>\n",
       "      <th>2</th>\n",
       "      <td>5</td>\n",
       "      <td>2021-03-10</td>\n",
       "    </tr>\n",
       "    <tr>\n",
       "      <th>3</th>\n",
       "      <td>3</td>\n",
       "      <td>2020-10-20</td>\n",
       "    </tr>\n",
       "    <tr>\n",
       "      <th>4</th>\n",
       "      <td>2</td>\n",
       "      <td>2020-04-17</td>\n",
       "    </tr>\n",
       "  </tbody>\n",
       "</table>\n",
       "</div>"
      ],
      "text/plain": [
       "   sentiment       date\n",
       "0          5 2020-02-27\n",
       "1          4 2021-03-26\n",
       "2          5 2021-03-10\n",
       "3          3 2020-10-20\n",
       "4          2 2020-04-17"
      ]
     },
     "execution_count": 44,
     "metadata": {},
     "output_type": "execute_result"
    }
   ],
   "source": [
    "# select the columns to plot\n",
    "df_plot = df_news[['sentiment', 'date']]\n",
    "df_plot['date'] = pd.to_datetime(df_plot['date'])\n",
    "df_plot.head()"
   ]
  },
  {
   "cell_type": "code",
   "execution_count": 45,
   "metadata": {},
   "outputs": [
    {
     "data": {
      "text/html": [
       "<div>\n",
       "<style scoped>\n",
       "    .dataframe tbody tr th:only-of-type {\n",
       "        vertical-align: middle;\n",
       "    }\n",
       "\n",
       "    .dataframe tbody tr th {\n",
       "        vertical-align: top;\n",
       "    }\n",
       "\n",
       "    .dataframe thead th {\n",
       "        text-align: right;\n",
       "    }\n",
       "</style>\n",
       "<table border=\"1\" class=\"dataframe\">\n",
       "  <thead>\n",
       "    <tr style=\"text-align: right;\">\n",
       "      <th></th>\n",
       "      <th>sentiment</th>\n",
       "      <th>date</th>\n",
       "      <th>year-month</th>\n",
       "    </tr>\n",
       "  </thead>\n",
       "  <tbody>\n",
       "    <tr>\n",
       "      <th>0</th>\n",
       "      <td>5</td>\n",
       "      <td>2020-02-27</td>\n",
       "      <td>2020-02</td>\n",
       "    </tr>\n",
       "    <tr>\n",
       "      <th>1</th>\n",
       "      <td>4</td>\n",
       "      <td>2021-03-26</td>\n",
       "      <td>2021-03</td>\n",
       "    </tr>\n",
       "    <tr>\n",
       "      <th>2</th>\n",
       "      <td>5</td>\n",
       "      <td>2021-03-10</td>\n",
       "      <td>2021-03</td>\n",
       "    </tr>\n",
       "    <tr>\n",
       "      <th>3</th>\n",
       "      <td>3</td>\n",
       "      <td>2020-10-20</td>\n",
       "      <td>2020-10</td>\n",
       "    </tr>\n",
       "    <tr>\n",
       "      <th>4</th>\n",
       "      <td>2</td>\n",
       "      <td>2020-04-17</td>\n",
       "      <td>2020-04</td>\n",
       "    </tr>\n",
       "  </tbody>\n",
       "</table>\n",
       "</div>"
      ],
      "text/plain": [
       "   sentiment       date year-month\n",
       "0          5 2020-02-27    2020-02\n",
       "1          4 2021-03-26    2021-03\n",
       "2          5 2021-03-10    2021-03\n",
       "3          3 2020-10-20    2020-10\n",
       "4          2 2020-04-17    2020-04"
      ]
     },
     "execution_count": 45,
     "metadata": {},
     "output_type": "execute_result"
    }
   ],
   "source": [
    "# phrase the date column as year-month\n",
    "df_plot['year-month'] = df_plot['date'].dt.strftime('%Y-%m')\n",
    "df_plot.head()"
   ]
  },
  {
   "cell_type": "code",
   "execution_count": 46,
   "metadata": {},
   "outputs": [
    {
     "data": {
      "text/html": [
       "<div>\n",
       "<style scoped>\n",
       "    .dataframe tbody tr th:only-of-type {\n",
       "        vertical-align: middle;\n",
       "    }\n",
       "\n",
       "    .dataframe tbody tr th {\n",
       "        vertical-align: top;\n",
       "    }\n",
       "\n",
       "    .dataframe thead th {\n",
       "        text-align: right;\n",
       "    }\n",
       "</style>\n",
       "<table border=\"1\" class=\"dataframe\">\n",
       "  <thead>\n",
       "    <tr style=\"text-align: right;\">\n",
       "      <th></th>\n",
       "      <th>year-month</th>\n",
       "      <th>sentiment</th>\n",
       "      <th>count</th>\n",
       "    </tr>\n",
       "  </thead>\n",
       "  <tbody>\n",
       "    <tr>\n",
       "      <th>0</th>\n",
       "      <td>2020-01</td>\n",
       "      <td>1</td>\n",
       "      <td>4</td>\n",
       "    </tr>\n",
       "    <tr>\n",
       "      <th>1</th>\n",
       "      <td>2020-01</td>\n",
       "      <td>2</td>\n",
       "      <td>282</td>\n",
       "    </tr>\n",
       "    <tr>\n",
       "      <th>2</th>\n",
       "      <td>2020-01</td>\n",
       "      <td>3</td>\n",
       "      <td>609</td>\n",
       "    </tr>\n",
       "    <tr>\n",
       "      <th>3</th>\n",
       "      <td>2020-01</td>\n",
       "      <td>4</td>\n",
       "      <td>597</td>\n",
       "    </tr>\n",
       "    <tr>\n",
       "      <th>4</th>\n",
       "      <td>2020-01</td>\n",
       "      <td>5</td>\n",
       "      <td>1045</td>\n",
       "    </tr>\n",
       "  </tbody>\n",
       "</table>\n",
       "</div>"
      ],
      "text/plain": [
       "  year-month  sentiment  count\n",
       "0    2020-01          1      4\n",
       "1    2020-01          2    282\n",
       "2    2020-01          3    609\n",
       "3    2020-01          4    597\n",
       "4    2020-01          5   1045"
      ]
     },
     "execution_count": 46,
     "metadata": {},
     "output_type": "execute_result"
    }
   ],
   "source": [
    "# group by year-month and sentiment\n",
    "df_plot_ym = df_plot.groupby(['year-month', 'sentiment']).size().reset_index(name='count')\n",
    "df_plot_ym.head()"
   ]
  },
  {
   "cell_type": "code",
   "execution_count": 47,
   "metadata": {},
   "outputs": [
    {
     "data": {
      "image/png": "[encoded data removed]",
      "text/plain": [
       "<Figure size 1000x600 with 1 Axes>"
      ]
     },
     "metadata": {},
     "output_type": "display_data"
    }
   ],
   "source": [
    "# Plot timeline of the sentiment over time as a line chart\n",
    "\n",
    "from matplotlib.lines import Line2D\n",
    "\n",
    "# Set up the color palette\n",
    "palette = sns.color_palette('flare', len(sentiment_labels))\n",
    "\n",
    "plt.figure(figsize=(10, 6))\n",
    "sns.set_style('white')\n",
    "sns.lineplot(data=df_plot_ym, x='year-month', y='count', hue='sentiment', palette=palette, linewidth=2)\n",
    "plt.title('Sentiment Over Time', fontsize=16)\n",
    "plt.xlabel('Year-Month', fontsize=12)\n",
    "plt.ylabel('Count', fontsize=12)\n",
    "plt.xticks(rotation=30)\n",
    "\n",
    "\n",
    "# Define custom legend handles with consistent line width\n",
    "custom_handles = [\n",
    "    Line2D([], [], color=palette[i], linewidth=2, label=sentiment_labels[i])\n",
    "    for i in range(len(sentiment_labels))\n",
    "]\n",
    "\n",
    "plt.legend(title='Sentiment', labels=sentiment_labels, loc='upper left', handles=custom_handles)\n",
    "plt.gca().xaxis.set_major_locator(plt.MaxNLocator(15)) # set number of ticks\n",
    "plt.show()"
   ]
  },
  {
   "cell_type": "code",
   "execution_count": 48,
   "metadata": {},
   "outputs": [
    {
     "data": {
      "text/html": [
       "<div>\n",
       "<style scoped>\n",
       "    .dataframe tbody tr th:only-of-type {\n",
       "        vertical-align: middle;\n",
       "    }\n",
       "\n",
       "    .dataframe tbody tr th {\n",
       "        vertical-align: top;\n",
       "    }\n",
       "\n",
       "    .dataframe thead th {\n",
       "        text-align: right;\n",
       "    }\n",
       "</style>\n",
       "<table border=\"1\" class=\"dataframe\">\n",
       "  <thead>\n",
       "    <tr style=\"text-align: right;\">\n",
       "      <th></th>\n",
       "      <th>year-month</th>\n",
       "      <th>sentiment</th>\n",
       "    </tr>\n",
       "  </thead>\n",
       "  <tbody>\n",
       "    <tr>\n",
       "      <th>0</th>\n",
       "      <td>2020-01</td>\n",
       "      <td>3.944817</td>\n",
       "    </tr>\n",
       "    <tr>\n",
       "      <th>1</th>\n",
       "      <td>2020-02</td>\n",
       "      <td>4.065602</td>\n",
       "    </tr>\n",
       "    <tr>\n",
       "      <th>2</th>\n",
       "      <td>2020-03</td>\n",
       "      <td>4.253695</td>\n",
       "    </tr>\n",
       "    <tr>\n",
       "      <th>3</th>\n",
       "      <td>2020-04</td>\n",
       "      <td>4.259259</td>\n",
       "    </tr>\n",
       "    <tr>\n",
       "      <th>4</th>\n",
       "      <td>2020-05</td>\n",
       "      <td>4.140671</td>\n",
       "    </tr>\n",
       "  </tbody>\n",
       "</table>\n",
       "</div>"
      ],
      "text/plain": [
       "  year-month  sentiment\n",
       "0    2020-01   3.944817\n",
       "1    2020-02   4.065602\n",
       "2    2020-03   4.253695\n",
       "3    2020-04   4.259259\n",
       "4    2020-05   4.140671"
      ]
     },
     "execution_count": 48,
     "metadata": {},
     "output_type": "execute_result"
    }
   ],
   "source": [
    "# group by year-month and calculate the average sentiment\n",
    "df_plot_avg = df_plot.groupby(['year-month'])['sentiment'].mean().reset_index()\n",
    "df_plot_avg.head()"
   ]
  },
  {
   "cell_type": "code",
   "execution_count": 49,
   "metadata": {},
   "outputs": [
    {
     "data": {
      "image/png": "[encoded data removed]",
      "text/plain": [
       "<Figure size 1000x600 with 1 Axes>"
      ]
     },
     "metadata": {},
     "output_type": "display_data"
    }
   ],
   "source": [
    "# Plot timeline of average sentiment over time as a line chart\n",
    "plt.figure(figsize=(10, 6))\n",
    "sns.set_style('white')\n",
    "sns.lineplot(data=df_plot_avg, x='year-month', y='sentiment', color='blue', linewidth=2)\n",
    "plt.title('Average Sentiment Over Time', fontsize=16)\n",
    "plt.xlabel('Year-Month', fontsize=12)\n",
    "plt.ylabel('Average Sentiment', fontsize=12)\n",
    "plt.xticks(rotation=30)\n",
    "plt.gca().xaxis.set_major_locator(plt.MaxNLocator(15)) # set number of ticks\n",
    "plt.show()"
   ]
  }
 ],
 "metadata": {
  "kernelspec": {
   "display_name": "Python 3",
   "language": "python",
   "name": "python3"
  },
  "language_info": {
   "codemirror_mode": {
    "name": "ipython",
    "version": 3
   },
   "file_extension": ".py",
   "mimetype": "text/x-python",
   "name": "python",
   "nbconvert_exporter": "python",
   "pygments_lexer": "ipython3",
   "version": "3.11.3"
  },
  "orig_nbformat": 4
 },
 "nbformat": 4,
 "nbformat_minor": 2
}
