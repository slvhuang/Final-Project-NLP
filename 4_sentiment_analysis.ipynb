{
 "cells": [
  {
   "attachments": {},
   "cell_type": "markdown",
   "metadata": {},
   "source": [
    "# MSCA 32018 Natural Language Processing and Cognitive Computing\n",
    "## Final Project - Sentiment Analysis\n",
    "### Customized model on open-source data\n",
    "\n",
    "Shijia Huang\n",
    "\n",
    "-----"
   ]
  },
  {
   "cell_type": "code",
   "execution_count": 1,
   "metadata": {},
   "outputs": [],
   "source": [
    "#!pip install -r requirements.txt"
   ]
  },
  {
   "cell_type": "code",
   "execution_count": 2,
   "metadata": {},
   "outputs": [],
   "source": [
    "# Import basic libraries\n",
    "import time\n",
    "import pandas as pd\n",
    "import numpy as np\n",
    "import seaborn as sns\n",
    "import matplotlib.pyplot as plt \n",
    "\n",
    "%matplotlib inline"
   ]
  },
  {
   "cell_type": "code",
   "execution_count": 3,
   "metadata": {},
   "outputs": [
    {
     "name": "stdout",
     "output_type": "stream",
     "text": [
      "3.5.2\n"
     ]
    }
   ],
   "source": [
    "# Import NLP libraries\n",
    "import re\n",
    "import nltk\n",
    "from nltk.corpus import stopwords\n",
    "from nltk.stem import WordNetLemmatizer\n",
    "from nltk.tokenize import word_tokenize\n",
    "from sklearn.feature_extraction.text import CountVectorizer, TfidfVectorizer\n",
    "\n",
    "from pprint import pprint\n",
    "import string\n",
    "from rake_nltk import Rake\n",
    "\n",
    "import spacy\n",
    "from spacy import displacy\n",
    "from spacy.util import minibatch, compounding\n",
    "spacy.prefer_gpu()\n",
    "print(spacy.__version__)\n",
    "\n",
    "import gensim\n",
    "from gensim import corpora, models\n",
    "from gensim.utils import simple_preprocess\n",
    "from gensim.models.ldamulticore import LdaMulticore\n",
    "from gensim.models import CoherenceModel\n",
    "\n",
    "import pyLDAvis\n",
    "import pyLDAvis.gensim as gensimvis\n",
    "#import pyLDAvis.gensim_models as gensimvis\n",
    "pyLDAvis.enable_notebook()"
   ]
  },
  {
   "cell_type": "code",
   "execution_count": 4,
   "metadata": {},
   "outputs": [],
   "source": [
    "# Import sklearn libraries\n",
    "import sklearn\n",
    "import imblearn\n",
    "from imblearn.over_sampling import SMOTE\n",
    "from sklearn.model_selection import train_test_split\n",
    "from sklearn.feature_extraction.text import CountVectorizer\n",
    "from sklearn.metrics import confusion_matrix, classification_report, accuracy_score\n",
    "from sklearn.naive_bayes import MultinomialNB\n",
    "from sklearn.linear_model import LogisticRegression, SGDClassifier"
   ]
  },
  {
   "cell_type": "code",
   "execution_count": 5,
   "metadata": {},
   "outputs": [],
   "source": [
    "import warnings\n",
    "warnings.filterwarnings('ignore')\n",
    "pd.set_option('display.max_rows', 100)\n",
    "pd.set_option('display.max_columns', None)\n",
    "pd.set_option('display.max_colwidth', 500)"
   ]
  },
  {
   "cell_type": "code",
   "execution_count": 6,
   "metadata": {},
   "outputs": [
    {
     "name": "stdout",
     "output_type": "stream",
     "text": [
      "Available CPUs: 12\n"
     ]
    }
   ],
   "source": [
    "import multiprocessing as mp\n",
    "\n",
    "num_processors = mp.cpu_count()\n",
    "print(f'Available CPUs: {num_processors}')"
   ]
  },
  {
   "attachments": {},
   "cell_type": "markdown",
   "metadata": {},
   "source": [
    "### Read Cleaned New Articles"
   ]
  },
  {
   "cell_type": "code",
   "execution_count": 7,
   "metadata": {},
   "outputs": [
    {
     "name": "stdout",
     "output_type": "stream",
     "text": [
      "CPU times: user 1min 16s, sys: 29.8 s, total: 1min 45s\n",
      "Wall time: 3min 47s\n"
     ]
    },
    {
     "data": {
      "text/plain": [
       "(154283, 10)"
      ]
     },
     "execution_count": 7,
     "metadata": {},
     "output_type": "execute_result"
    }
   ],
   "source": [
    "%%time\n",
    "\n",
    "# GCP version\n",
    "path = \"gs://nlp-final-project-data/data/\"\n",
    "df_news = pd.read_parquet(path + 'news_filtered.parquet', engine='pyarrow')\n",
    "df_news.shape"
   ]
  },
  {
   "cell_type": "code",
   "execution_count": 8,
   "metadata": {},
   "outputs": [
    {
     "name": "stdout",
     "output_type": "stream",
     "text": [
      "<class 'pandas.core.frame.DataFrame'>\n",
      "RangeIndex: 154283 entries, 0 to 154282\n",
      "Data columns (total 10 columns):\n",
      " #   Column            Non-Null Count   Dtype \n",
      "---  ------            --------------   ----- \n",
      " 0   id                154283 non-null  int64 \n",
      " 1   date              154283 non-null  object\n",
      " 2   cleaned title     154283 non-null  object\n",
      " 3   cleaned text      154283 non-null  object\n",
      " 4   title_tokens      154283 non-null  object\n",
      " 5   title_lemmatized  154283 non-null  object\n",
      " 6   text_tokens       154283 non-null  object\n",
      " 7   text_lemmatized   154283 non-null  object\n",
      " 8   title_keywords    154283 non-null  object\n",
      " 9   text_keywords     154283 non-null  object\n",
      "dtypes: int64(1), object(9)\n",
      "memory usage: 11.8+ MB\n"
     ]
    }
   ],
   "source": [
    "df_news.info()"
   ]
  },
  {
   "cell_type": "code",
   "execution_count": 9,
   "metadata": {},
   "outputs": [
    {
     "data": {
      "text/html": [
       "<div>\n",
       "<style scoped>\n",
       "    .dataframe tbody tr th:only-of-type {\n",
       "        vertical-align: middle;\n",
       "    }\n",
       "\n",
       "    .dataframe tbody tr th {\n",
       "        vertical-align: top;\n",
       "    }\n",
       "\n",
       "    .dataframe thead th {\n",
       "        text-align: right;\n",
       "    }\n",
       "</style>\n",
       "<table border=\"1\" class=\"dataframe\">\n",
       "  <thead>\n",
       "    <tr style=\"text-align: right;\">\n",
       "      <th></th>\n",
       "      <th>id</th>\n",
       "      <th>date</th>\n",
       "      <th>cleaned title</th>\n",
       "      <th>cleaned text</th>\n",
       "      <th>title_tokens</th>\n",
       "      <th>title_lemmatized</th>\n",
       "      <th>text_tokens</th>\n",
       "      <th>text_lemmatized</th>\n",
       "      <th>title_keywords</th>\n",
       "      <th>text_keywords</th>\n",
       "    </tr>\n",
       "  </thead>\n",
       "  <tbody>\n",
       "    <tr>\n",
       "      <th>0</th>\n",
       "      <td>1</td>\n",
       "      <td>2020-02-27</td>\n",
       "      <td>Children With Autism Saw Their Learning and Social Skills Boosted After Playing With This AI Robot</td>\n",
       "      <td>Children With Autism Saw Their Learning and Social Skills Boosted After Playing With This AI Robot admin  Latest posts by admin see all  Mansplaining in conferences: How can we get him to forestall  February 27, 2020 Coronavirus Could Explode in the U.S. Overnight Like it Did in Italy  February 27, 2020 Levi Strauss marks the next phase in corporate paid leave policies  February 27, 2020 Scientists who designed an artificially clever robotic that helped youngsters with autism spice up their ...</td>\n",
       "      <td>[children, autism, saw, learning, social, skills, boosted, playing, ai, robot, children, autism, saw, learning, social, skills, boosted, playing, ai, robot, children, autism, saw, learning, social, skills, boosted, playing, ai_robot]</td>\n",
       "      <td>[child, autism, see, learn, social, skill, boost, play, robot, child, autism, see, learn, social, skill, boost, play, robot, child, autism, see, learn, social, skill, boost, play, ai_robot]</td>\n",
       "      <td>[children, autism, saw, learning, social, skills, boosted, playing, ai, robot, admin, latest, posts, admin, see, mansplaining, conferences, get, forestall, february, coronavirus, could, explode, overnight, like, italy, february, levi, strauss, marks, next, phase, corporate, paid, leave, policies, february, scientists, designed, artificially, clever, robotic, helped, youngsters, autism, spice, studying, social, talents, hope, era, may, future, help, others, developmental, dysfunction, learn, ...</td>\n",
       "      <td>[child, autism, see, learn, social, skill, boost, play, robot, late, post, admin, see, mansplaining, conference, get, explode, overnight, mark, next, phase, corporate, pay, leave, policy, scientist, design, artificially, clever, robotic, help, youngster, autism, spice, study, social, talent, era, future, help, other, developmental, dysfunction, learn, notice, youngster, gentle, average, autism, take, domestic, s, refer, socially, assistive, robotic, name, kiwi, month, accord, commentary, way...</td>\n",
       "      <td>[social, skill, see, play, learn, child, boost, autism, robot, ai_robot]</td>\n",
       "      <td>[robotic, youngster, kid, child, kiwi, market, autism, learn, crew, talent]</td>\n",
       "    </tr>\n",
       "    <tr>\n",
       "      <th>1</th>\n",
       "      <td>2</td>\n",
       "      <td>2021-03-26</td>\n",
       "      <td>Forget ML, AI and Industry 4.0 – obsolescence should be your focus</td>\n",
       "      <td>Forget ML, AI and Industry 4.0  obsolescence should be your focus The world entered a new era of accelerated transformation in the last eighteen months that will continue to evolve and press forward for years to come. Most businesses are playing catchup trying to make sense of a new timeline where the ten years that had been set aside for careful planning and implementation of what was coming up next no longer exists. The next is happening now and, regardless of your industry or seniority, t...</td>\n",
       "      <td>[forget, ml, ai, industry, obsolescence, focus, forget, ml, ai, industry, obsolescence, focus, forget, ml, ai, industry, obsolescence, focus]</td>\n",
       "      <td>[forget, ml, ai, industry, obsolescence, focus, forget, ml, ai, industry, obsolescence, focus, forget, ml, ai, industry, obsolescence, focus]</td>\n",
       "      <td>[forget, ml, ai, industry, obsolescence, focus, world, entered, new, era, accelerated, transformation, last, eighteen, months, continue, evolve, press, forward, years, come, businesses, playing, catchup, trying, make, sense, new, timeline, ten, years, set, aside, careful, planning, implementation, coming, next, longer, exists, next, happening, regardless, industry, seniority, status, quo, shifted, better, face, back, invited, attend, pompous, meeting, london, brazilian, embassy, along, selec...</td>\n",
       "      <td>[forget, ai, industry, obsolescence, focus, world, enter, new, era, accelerate, transformation, last, month, continue, evolve, press, forward, year, come, business, play, catchup, try, make, sense, new, timeline, year, set, aside, careful, planning, implementation, come, next, long, exist, next, happen, regardless, industry, seniority, status, quo, shift, well, face, back, invite, attend, pompous, meeting, brazilian, embassy, select, lead, name, oil, energy, industry, get, update, go, happen...</td>\n",
       "      <td>[obsolescence, ml, industry, forget, focus, ai]</td>\n",
       "      <td>[electronic, come, card, industry, repair, new, system, require, test, business]</td>\n",
       "    </tr>\n",
       "  </tbody>\n",
       "</table>\n",
       "</div>"
      ],
      "text/plain": [
       "   id        date   \n",
       "0   1  2020-02-27  \\\n",
       "1   2  2021-03-26   \n",
       "\n",
       "                                                                                        cleaned title   \n",
       "0  Children With Autism Saw Their Learning and Social Skills Boosted After Playing With This AI Robot  \\\n",
       "1                                  Forget ML, AI and Industry 4.0 – obsolescence should be your focus   \n",
       "\n",
       "                                                                                                                                                                                                                                                                                                                                                                                                                                                                                                          cleaned text   \n",
       "0  Children With Autism Saw Their Learning and Social Skills Boosted After Playing With This AI Robot admin  Latest posts by admin see all  Mansplaining in conferences: How can we get him to forestall  February 27, 2020 Coronavirus Could Explode in the U.S. Overnight Like it Did in Italy  February 27, 2020 Levi Strauss marks the next phase in corporate paid leave policies  February 27, 2020 Scientists who designed an artificially clever robotic that helped youngsters with autism spice up their ...  \\\n",
       "1  Forget ML, AI and Industry 4.0  obsolescence should be your focus The world entered a new era of accelerated transformation in the last eighteen months that will continue to evolve and press forward for years to come. Most businesses are playing catchup trying to make sense of a new timeline where the ten years that had been set aside for careful planning and implementation of what was coming up next no longer exists. The next is happening now and, regardless of your industry or seniority, t...   \n",
       "\n",
       "                                                                                                                                                                                                                                title_tokens   \n",
       "0  [children, autism, saw, learning, social, skills, boosted, playing, ai, robot, children, autism, saw, learning, social, skills, boosted, playing, ai, robot, children, autism, saw, learning, social, skills, boosted, playing, ai_robot]  \\\n",
       "1                                                                                              [forget, ml, ai, industry, obsolescence, focus, forget, ml, ai, industry, obsolescence, focus, forget, ml, ai, industry, obsolescence, focus]   \n",
       "\n",
       "                                                                                                                                                                                title_lemmatized   \n",
       "0  [child, autism, see, learn, social, skill, boost, play, robot, child, autism, see, learn, social, skill, boost, play, robot, child, autism, see, learn, social, skill, boost, play, ai_robot]  \\\n",
       "1                                                  [forget, ml, ai, industry, obsolescence, focus, forget, ml, ai, industry, obsolescence, focus, forget, ml, ai, industry, obsolescence, focus]   \n",
       "\n",
       "                                                                                                                                                                                                                                                                                                                                                                                                                                                                                                           text_tokens   \n",
       "0  [children, autism, saw, learning, social, skills, boosted, playing, ai, robot, admin, latest, posts, admin, see, mansplaining, conferences, get, forestall, february, coronavirus, could, explode, overnight, like, italy, february, levi, strauss, marks, next, phase, corporate, paid, leave, policies, february, scientists, designed, artificially, clever, robotic, helped, youngsters, autism, spice, studying, social, talents, hope, era, may, future, help, others, developmental, dysfunction, learn, ...  \\\n",
       "1  [forget, ml, ai, industry, obsolescence, focus, world, entered, new, era, accelerated, transformation, last, eighteen, months, continue, evolve, press, forward, years, come, businesses, playing, catchup, trying, make, sense, new, timeline, ten, years, set, aside, careful, planning, implementation, coming, next, longer, exists, next, happening, regardless, industry, seniority, status, quo, shifted, better, face, back, invited, attend, pompous, meeting, london, brazilian, embassy, along, selec...   \n",
       "\n",
       "                                                                                                                                                                                                                                                                                                                                                                                                                                                                                                       text_lemmatized   \n",
       "0  [child, autism, see, learn, social, skill, boost, play, robot, late, post, admin, see, mansplaining, conference, get, explode, overnight, mark, next, phase, corporate, pay, leave, policy, scientist, design, artificially, clever, robotic, help, youngster, autism, spice, study, social, talent, era, future, help, other, developmental, dysfunction, learn, notice, youngster, gentle, average, autism, take, domestic, s, refer, socially, assistive, robotic, name, kiwi, month, accord, commentary, way...  \\\n",
       "1  [forget, ai, industry, obsolescence, focus, world, enter, new, era, accelerate, transformation, last, month, continue, evolve, press, forward, year, come, business, play, catchup, try, make, sense, new, timeline, year, set, aside, careful, planning, implementation, come, next, long, exist, next, happen, regardless, industry, seniority, status, quo, shift, well, face, back, invite, attend, pompous, meeting, brazilian, embassy, select, lead, name, oil, energy, industry, get, update, go, happen...   \n",
       "\n",
       "                                                             title_keywords   \n",
       "0  [social, skill, see, play, learn, child, boost, autism, robot, ai_robot]  \\\n",
       "1                           [obsolescence, ml, industry, forget, focus, ai]   \n",
       "\n",
       "                                                                      text_keywords  \n",
       "0       [robotic, youngster, kid, child, kiwi, market, autism, learn, crew, talent]  \n",
       "1  [electronic, come, card, industry, repair, new, system, require, test, business]  "
      ]
     },
     "execution_count": 9,
     "metadata": {},
     "output_type": "execute_result"
    }
   ],
   "source": [
    "df_news.head(2)"
   ]
  },
  {
   "cell_type": "code",
   "execution_count": 10,
   "metadata": {},
   "outputs": [
    {
     "data": {
      "text/plain": [
       "(154283, 10)"
      ]
     },
     "execution_count": 10,
     "metadata": {},
     "output_type": "execute_result"
    }
   ],
   "source": [
    "### SAMPLE DATA\n",
    "# df_news = df_news.sample(frac=0.1, random_state=2023)\n",
    "df_news.shape"
   ]
  },
  {
   "cell_type": "code",
   "execution_count": 11,
   "metadata": {},
   "outputs": [
    {
     "name": "stdout",
     "output_type": "stream",
     "text": [
      "CPU times: user 2 µs, sys: 2 µs, total: 4 µs\n",
      "Wall time: 7.15 µs\n"
     ]
    }
   ],
   "source": [
    "%%time\n",
    "\n",
    "# save sample data as parquet file\n",
    "# path = \"gs://nlp-final-project-data/sample/\"\n",
    "# df_news.to_parquet(path + 'news_sampled.parquet', engine='pyarrow')"
   ]
  },
  {
   "attachments": {},
   "cell_type": "markdown",
   "metadata": {},
   "source": [
    "## Data Preparation"
   ]
  },
  {
   "attachments": {},
   "cell_type": "markdown",
   "metadata": {},
   "source": [
    "### Load Open Source Data\n",
    "Public Perception of AI Dataset: https://www.kaggle.com/datasets/saurabhshahane/public-perception-of-ai"
   ]
  },
  {
   "cell_type": "code",
   "execution_count": 12,
   "metadata": {},
   "outputs": [
    {
     "data": {
      "text/plain": [
       "(17073, 27)"
      ]
     },
     "execution_count": 12,
     "metadata": {},
     "output_type": "execute_result"
    }
   ],
   "source": [
    "df_ai_news = pd.read_csv('gs://nlp-final-project-data/data/robot-ai-all-public.csv')\n",
    "df_ai_news.shape"
   ]
  },
  {
   "cell_type": "code",
   "execution_count": 13,
   "metadata": {},
   "outputs": [
    {
     "name": "stdout",
     "output_type": "stream",
     "text": [
      "<class 'pandas.core.frame.DataFrame'>\n",
      "RangeIndex: 17073 entries, 0 to 17072\n",
      "Data columns (total 27 columns):\n",
      " #   Column                     Non-Null Count  Dtype \n",
      "---  ------                     --------------  ----- \n",
      " 0   Article ID                 17073 non-null  object\n",
      " 1   Article Date               9129 non-null   object\n",
      " 2   Paragraph number           17073 non-null  object\n",
      " 3   NYT section                17061 non-null  object\n",
      " 4   Paragraph                  17061 non-null  object\n",
      " 5   Title                      17070 non-null  object\n",
      " 6   WorkTimeInSeconds          17073 non-null  int64 \n",
      " 7   AI Mood                    17073 non-null  int64 \n",
      " 8   AI Relevance               17073 non-null  int64 \n",
      " 9   Fiction                    17073 non-null  int64 \n",
      " 10  Controling AI (negative)   17073 non-null  int64 \n",
      " 11  Cyborg (negative)          17073 non-null  int64 \n",
      " 12  Ethics (negative)          17073 non-null  int64 \n",
      " 13  Military (negative)        17073 non-null  int64 \n",
      " 14  Progress (negative)        17073 non-null  int64 \n",
      " 15  Singularity (negative)     17073 non-null  int64 \n",
      " 16  Work (negative)            17073 non-null  int64 \n",
      " 17  Other (negative)           17073 non-null  object\n",
      " 18  Cyborg (positive)          17073 non-null  int64 \n",
      " 19  Decisions (positive)       17073 non-null  int64 \n",
      " 20  Education (positive)       17073 non-null  int64 \n",
      " 21  Entertain (positive)       17073 non-null  int64 \n",
      " 22  Healthcare (positive)      17073 non-null  int64 \n",
      " 23  Singularity (positive)     17073 non-null  int64 \n",
      " 24  Transportation (positive)  17073 non-null  int64 \n",
      " 25  Work (positive)            17073 non-null  int64 \n",
      " 26  Other (positive)           17073 non-null  object\n",
      "dtypes: int64(19), object(8)\n",
      "memory usage: 3.5+ MB\n"
     ]
    }
   ],
   "source": [
    "df_ai_news.info()"
   ]
  },
  {
   "cell_type": "code",
   "execution_count": 14,
   "metadata": {},
   "outputs": [
    {
     "data": {
      "text/html": [
       "<div>\n",
       "<style scoped>\n",
       "    .dataframe tbody tr th:only-of-type {\n",
       "        vertical-align: middle;\n",
       "    }\n",
       "\n",
       "    .dataframe tbody tr th {\n",
       "        vertical-align: top;\n",
       "    }\n",
       "\n",
       "    .dataframe thead th {\n",
       "        text-align: right;\n",
       "    }\n",
       "</style>\n",
       "<table border=\"1\" class=\"dataframe\">\n",
       "  <thead>\n",
       "    <tr style=\"text-align: right;\">\n",
       "      <th></th>\n",
       "      <th>Article ID</th>\n",
       "      <th>Article Date</th>\n",
       "      <th>Paragraph number</th>\n",
       "      <th>NYT section</th>\n",
       "      <th>Paragraph</th>\n",
       "      <th>Title</th>\n",
       "      <th>WorkTimeInSeconds</th>\n",
       "      <th>AI Mood</th>\n",
       "      <th>AI Relevance</th>\n",
       "      <th>Fiction</th>\n",
       "      <th>Controling AI (negative)</th>\n",
       "      <th>Cyborg (negative)</th>\n",
       "      <th>Ethics (negative)</th>\n",
       "      <th>Military (negative)</th>\n",
       "      <th>Progress (negative)</th>\n",
       "      <th>Singularity (negative)</th>\n",
       "      <th>Work (negative)</th>\n",
       "      <th>Other (negative)</th>\n",
       "      <th>Cyborg (positive)</th>\n",
       "      <th>Decisions (positive)</th>\n",
       "      <th>Education (positive)</th>\n",
       "      <th>Entertain (positive)</th>\n",
       "      <th>Healthcare (positive)</th>\n",
       "      <th>Singularity (positive)</th>\n",
       "      <th>Transportation (positive)</th>\n",
       "      <th>Work (positive)</th>\n",
       "      <th>Other (positive)</th>\n",
       "    </tr>\n",
       "  </thead>\n",
       "  <tbody>\n",
       "    <tr>\n",
       "      <th>0</th>\n",
       "      <td>4fd1cbc98eb7c8105d701286</td>\n",
       "      <td>1996-10-06 00:00:00 UTC</td>\n",
       "      <td>18</td>\n",
       "      <td>New York and Region</td>\n",
       "      <td>Thus, next weekend will feature the robot who is named Sico (pronounced SEE-co). ''He can speak seven languages,'' Ms. Finkel said, ''and he interacts. Whatever language you speak he can speak.'' Of course he has never spoken to a Long Islander. No one is quite sure how he will interpret the Long Island accent.</td>\n",
       "      <td>LONG ISLAND JOURNAL</td>\n",
       "      <td>1472</td>\n",
       "      <td>4</td>\n",
       "      <td>5</td>\n",
       "      <td>0</td>\n",
       "      <td>0</td>\n",
       "      <td>0</td>\n",
       "      <td>0</td>\n",
       "      <td>0</td>\n",
       "      <td>0</td>\n",
       "      <td>0</td>\n",
       "      <td>0</td>\n",
       "      <td>{}</td>\n",
       "      <td>0</td>\n",
       "      <td>0</td>\n",
       "      <td>0</td>\n",
       "      <td>0</td>\n",
       "      <td>0</td>\n",
       "      <td>0</td>\n",
       "      <td>0</td>\n",
       "      <td>0</td>\n",
       "      <td>{}</td>\n",
       "    </tr>\n",
       "    <tr>\n",
       "      <th>1</th>\n",
       "      <td>4fd1cbc98eb7c8105d701286</td>\n",
       "      <td>1996-10-06 00:00:00 UTC</td>\n",
       "      <td>18</td>\n",
       "      <td>New York and Region</td>\n",
       "      <td>Thus, next weekend will feature the robot who is named Sico (pronounced SEE-co). ''He can speak seven languages,'' Ms. Finkel said, ''and he interacts. Whatever language you speak he can speak.'' Of course he has never spoken to a Long Islander. No one is quite sure how he will interpret the Long Island accent.</td>\n",
       "      <td>LONG ISLAND JOURNAL</td>\n",
       "      <td>49</td>\n",
       "      <td>4</td>\n",
       "      <td>5</td>\n",
       "      <td>0</td>\n",
       "      <td>0</td>\n",
       "      <td>0</td>\n",
       "      <td>0</td>\n",
       "      <td>0</td>\n",
       "      <td>0</td>\n",
       "      <td>0</td>\n",
       "      <td>0</td>\n",
       "      <td>{}</td>\n",
       "      <td>0</td>\n",
       "      <td>0</td>\n",
       "      <td>0</td>\n",
       "      <td>0</td>\n",
       "      <td>0</td>\n",
       "      <td>0</td>\n",
       "      <td>0</td>\n",
       "      <td>0</td>\n",
       "      <td>{}</td>\n",
       "    </tr>\n",
       "  </tbody>\n",
       "</table>\n",
       "</div>"
      ],
      "text/plain": [
       "                 Article ID             Article Date Paragraph number   \n",
       "0  4fd1cbc98eb7c8105d701286  1996-10-06 00:00:00 UTC               18  \\\n",
       "1  4fd1cbc98eb7c8105d701286  1996-10-06 00:00:00 UTC               18   \n",
       "\n",
       "           NYT section   \n",
       "0  New York and Region  \\\n",
       "1  New York and Region   \n",
       "\n",
       "                                                                                                                                                                                                                                                                                                                  Paragraph   \n",
       "0  Thus, next weekend will feature the robot who is named Sico (pronounced SEE-co). ''He can speak seven languages,'' Ms. Finkel said, ''and he interacts. Whatever language you speak he can speak.'' Of course he has never spoken to a Long Islander. No one is quite sure how he will interpret the Long Island accent.  \\\n",
       "1  Thus, next weekend will feature the robot who is named Sico (pronounced SEE-co). ''He can speak seven languages,'' Ms. Finkel said, ''and he interacts. Whatever language you speak he can speak.'' Of course he has never spoken to a Long Islander. No one is quite sure how he will interpret the Long Island accent.   \n",
       "\n",
       "                 Title  WorkTimeInSeconds  AI Mood  AI Relevance  Fiction   \n",
       "0  LONG ISLAND JOURNAL               1472        4             5        0  \\\n",
       "1  LONG ISLAND JOURNAL                 49        4             5        0   \n",
       "\n",
       "   Controling AI (negative)  Cyborg (negative)  Ethics (negative)   \n",
       "0                         0                  0                  0  \\\n",
       "1                         0                  0                  0   \n",
       "\n",
       "   Military (negative)  Progress (negative)  Singularity (negative)   \n",
       "0                    0                    0                       0  \\\n",
       "1                    0                    0                       0   \n",
       "\n",
       "   Work (negative) Other (negative)  Cyborg (positive)  Decisions (positive)   \n",
       "0                0               {}                  0                     0  \\\n",
       "1                0               {}                  0                     0   \n",
       "\n",
       "   Education (positive)  Entertain (positive)  Healthcare (positive)   \n",
       "0                     0                     0                      0  \\\n",
       "1                     0                     0                      0   \n",
       "\n",
       "   Singularity (positive)  Transportation (positive)  Work (positive)   \n",
       "0                       0                          0                0  \\\n",
       "1                       0                          0                0   \n",
       "\n",
       "  Other (positive)  \n",
       "0               {}  \n",
       "1               {}  "
      ]
     },
     "execution_count": 14,
     "metadata": {},
     "output_type": "execute_result"
    }
   ],
   "source": [
    "df_ai_news.head(2)"
   ]
  },
  {
   "attachments": {},
   "cell_type": "markdown",
   "metadata": {},
   "source": [
    "### Data Preprocessing"
   ]
  },
  {
   "cell_type": "code",
   "execution_count": 15,
   "metadata": {},
   "outputs": [
    {
     "data": {
      "text/plain": [
       "Article ID                      0\n",
       "Article Date                 7944\n",
       "Paragraph number                0\n",
       "NYT section                    12\n",
       "Paragraph                      12\n",
       "Title                           3\n",
       "WorkTimeInSeconds               0\n",
       "AI Mood                         0\n",
       "AI Relevance                    0\n",
       "Fiction                         0\n",
       "Controling AI (negative)        0\n",
       "Cyborg (negative)               0\n",
       "Ethics (negative)               0\n",
       "Military (negative)             0\n",
       "Progress (negative)             0\n",
       "Singularity (negative)          0\n",
       "Work (negative)                 0\n",
       "Other (negative)                0\n",
       "Cyborg (positive)               0\n",
       "Decisions (positive)            0\n",
       "Education (positive)            0\n",
       "Entertain (positive)            0\n",
       "Healthcare (positive)           0\n",
       "Singularity (positive)          0\n",
       "Transportation (positive)       0\n",
       "Work (positive)                 0\n",
       "Other (positive)                0\n",
       "dtype: int64"
      ]
     },
     "execution_count": 15,
     "metadata": {},
     "output_type": "execute_result"
    }
   ],
   "source": [
    "# check for null values\n",
    "df_ai_news.isnull().sum()"
   ]
  },
  {
   "cell_type": "code",
   "execution_count": 16,
   "metadata": {},
   "outputs": [
    {
     "data": {
      "text/plain": [
       "(4940, 25)"
      ]
     },
     "execution_count": 16,
     "metadata": {},
     "output_type": "execute_result"
    }
   ],
   "source": [
    "# drop null text values\n",
    "df_ai_news.dropna(subset=['Paragraph'], inplace=True)\n",
    "\n",
    "# drop columns with too many null values\n",
    "df_ai_news.drop(columns=['Article Date', 'WorkTimeInSeconds'], inplace=True)\n",
    "\n",
    "# drop duplicate texts\n",
    "df_ai_news.drop_duplicates(subset=['Paragraph'], inplace=True)\n",
    "\n",
    "# Phrase paragraph as string\n",
    "df_ai_news['Paragraph'] = df_ai_news['Paragraph'].astype(str)\n",
    "\n",
    "df_ai_news.shape"
   ]
  },
  {
   "cell_type": "code",
   "execution_count": 17,
   "metadata": {},
   "outputs": [
    {
     "data": {
      "text/html": [
       "<div>\n",
       "<style scoped>\n",
       "    .dataframe tbody tr th:only-of-type {\n",
       "        vertical-align: middle;\n",
       "    }\n",
       "\n",
       "    .dataframe tbody tr th {\n",
       "        vertical-align: top;\n",
       "    }\n",
       "\n",
       "    .dataframe thead th {\n",
       "        text-align: right;\n",
       "    }\n",
       "</style>\n",
       "<table border=\"1\" class=\"dataframe\">\n",
       "  <thead>\n",
       "    <tr style=\"text-align: right;\">\n",
       "      <th></th>\n",
       "      <th>count</th>\n",
       "      <th>mean</th>\n",
       "      <th>std</th>\n",
       "      <th>min</th>\n",
       "      <th>25%</th>\n",
       "      <th>50%</th>\n",
       "      <th>75%</th>\n",
       "      <th>max</th>\n",
       "    </tr>\n",
       "  </thead>\n",
       "  <tbody>\n",
       "    <tr>\n",
       "      <th>AI Mood</th>\n",
       "      <td>4940.0</td>\n",
       "      <td>3.271</td>\n",
       "      <td>0.816</td>\n",
       "      <td>1.0</td>\n",
       "      <td>3.0</td>\n",
       "      <td>3.0</td>\n",
       "      <td>4.0</td>\n",
       "      <td>5.0</td>\n",
       "    </tr>\n",
       "    <tr>\n",
       "      <th>AI Relevance</th>\n",
       "      <td>4940.0</td>\n",
       "      <td>3.822</td>\n",
       "      <td>1.262</td>\n",
       "      <td>1.0</td>\n",
       "      <td>3.0</td>\n",
       "      <td>4.0</td>\n",
       "      <td>5.0</td>\n",
       "      <td>5.0</td>\n",
       "    </tr>\n",
       "    <tr>\n",
       "      <th>Fiction</th>\n",
       "      <td>4940.0</td>\n",
       "      <td>0.077</td>\n",
       "      <td>0.266</td>\n",
       "      <td>0.0</td>\n",
       "      <td>0.0</td>\n",
       "      <td>0.0</td>\n",
       "      <td>0.0</td>\n",
       "      <td>1.0</td>\n",
       "    </tr>\n",
       "    <tr>\n",
       "      <th>Controling AI (negative)</th>\n",
       "      <td>4940.0</td>\n",
       "      <td>0.025</td>\n",
       "      <td>0.155</td>\n",
       "      <td>0.0</td>\n",
       "      <td>0.0</td>\n",
       "      <td>0.0</td>\n",
       "      <td>0.0</td>\n",
       "      <td>1.0</td>\n",
       "    </tr>\n",
       "    <tr>\n",
       "      <th>Cyborg (negative)</th>\n",
       "      <td>4940.0</td>\n",
       "      <td>0.005</td>\n",
       "      <td>0.074</td>\n",
       "      <td>0.0</td>\n",
       "      <td>0.0</td>\n",
       "      <td>0.0</td>\n",
       "      <td>0.0</td>\n",
       "      <td>1.0</td>\n",
       "    </tr>\n",
       "    <tr>\n",
       "      <th>Ethics (negative)</th>\n",
       "      <td>4940.0</td>\n",
       "      <td>0.006</td>\n",
       "      <td>0.080</td>\n",
       "      <td>0.0</td>\n",
       "      <td>0.0</td>\n",
       "      <td>0.0</td>\n",
       "      <td>0.0</td>\n",
       "      <td>1.0</td>\n",
       "    </tr>\n",
       "    <tr>\n",
       "      <th>Military (negative)</th>\n",
       "      <td>4940.0</td>\n",
       "      <td>0.016</td>\n",
       "      <td>0.125</td>\n",
       "      <td>0.0</td>\n",
       "      <td>0.0</td>\n",
       "      <td>0.0</td>\n",
       "      <td>0.0</td>\n",
       "      <td>1.0</td>\n",
       "    </tr>\n",
       "    <tr>\n",
       "      <th>Progress (negative)</th>\n",
       "      <td>4940.0</td>\n",
       "      <td>0.026</td>\n",
       "      <td>0.159</td>\n",
       "      <td>0.0</td>\n",
       "      <td>0.0</td>\n",
       "      <td>0.0</td>\n",
       "      <td>0.0</td>\n",
       "      <td>1.0</td>\n",
       "    </tr>\n",
       "    <tr>\n",
       "      <th>Singularity (negative)</th>\n",
       "      <td>4940.0</td>\n",
       "      <td>0.008</td>\n",
       "      <td>0.087</td>\n",
       "      <td>0.0</td>\n",
       "      <td>0.0</td>\n",
       "      <td>0.0</td>\n",
       "      <td>0.0</td>\n",
       "      <td>1.0</td>\n",
       "    </tr>\n",
       "    <tr>\n",
       "      <th>Work (negative)</th>\n",
       "      <td>4940.0</td>\n",
       "      <td>0.013</td>\n",
       "      <td>0.113</td>\n",
       "      <td>0.0</td>\n",
       "      <td>0.0</td>\n",
       "      <td>0.0</td>\n",
       "      <td>0.0</td>\n",
       "      <td>1.0</td>\n",
       "    </tr>\n",
       "    <tr>\n",
       "      <th>Cyborg (positive)</th>\n",
       "      <td>4940.0</td>\n",
       "      <td>0.014</td>\n",
       "      <td>0.118</td>\n",
       "      <td>0.0</td>\n",
       "      <td>0.0</td>\n",
       "      <td>0.0</td>\n",
       "      <td>0.0</td>\n",
       "      <td>1.0</td>\n",
       "    </tr>\n",
       "    <tr>\n",
       "      <th>Decisions (positive)</th>\n",
       "      <td>4940.0</td>\n",
       "      <td>0.039</td>\n",
       "      <td>0.194</td>\n",
       "      <td>0.0</td>\n",
       "      <td>0.0</td>\n",
       "      <td>0.0</td>\n",
       "      <td>0.0</td>\n",
       "      <td>1.0</td>\n",
       "    </tr>\n",
       "    <tr>\n",
       "      <th>Education (positive)</th>\n",
       "      <td>4940.0</td>\n",
       "      <td>0.019</td>\n",
       "      <td>0.137</td>\n",
       "      <td>0.0</td>\n",
       "      <td>0.0</td>\n",
       "      <td>0.0</td>\n",
       "      <td>0.0</td>\n",
       "      <td>1.0</td>\n",
       "    </tr>\n",
       "    <tr>\n",
       "      <th>Entertain (positive)</th>\n",
       "      <td>4940.0</td>\n",
       "      <td>0.050</td>\n",
       "      <td>0.218</td>\n",
       "      <td>0.0</td>\n",
       "      <td>0.0</td>\n",
       "      <td>0.0</td>\n",
       "      <td>0.0</td>\n",
       "      <td>1.0</td>\n",
       "    </tr>\n",
       "    <tr>\n",
       "      <th>Healthcare (positive)</th>\n",
       "      <td>4940.0</td>\n",
       "      <td>0.027</td>\n",
       "      <td>0.162</td>\n",
       "      <td>0.0</td>\n",
       "      <td>0.0</td>\n",
       "      <td>0.0</td>\n",
       "      <td>0.0</td>\n",
       "      <td>1.0</td>\n",
       "    </tr>\n",
       "    <tr>\n",
       "      <th>Singularity (positive)</th>\n",
       "      <td>4940.0</td>\n",
       "      <td>0.006</td>\n",
       "      <td>0.078</td>\n",
       "      <td>0.0</td>\n",
       "      <td>0.0</td>\n",
       "      <td>0.0</td>\n",
       "      <td>0.0</td>\n",
       "      <td>1.0</td>\n",
       "    </tr>\n",
       "    <tr>\n",
       "      <th>Transportation (positive)</th>\n",
       "      <td>4940.0</td>\n",
       "      <td>0.037</td>\n",
       "      <td>0.188</td>\n",
       "      <td>0.0</td>\n",
       "      <td>0.0</td>\n",
       "      <td>0.0</td>\n",
       "      <td>0.0</td>\n",
       "      <td>1.0</td>\n",
       "    </tr>\n",
       "    <tr>\n",
       "      <th>Work (positive)</th>\n",
       "      <td>4940.0</td>\n",
       "      <td>0.052</td>\n",
       "      <td>0.223</td>\n",
       "      <td>0.0</td>\n",
       "      <td>0.0</td>\n",
       "      <td>0.0</td>\n",
       "      <td>0.0</td>\n",
       "      <td>1.0</td>\n",
       "    </tr>\n",
       "  </tbody>\n",
       "</table>\n",
       "</div>"
      ],
      "text/plain": [
       "                            count   mean    std  min  25%  50%  75%  max\n",
       "AI Mood                    4940.0  3.271  0.816  1.0  3.0  3.0  4.0  5.0\n",
       "AI Relevance               4940.0  3.822  1.262  1.0  3.0  4.0  5.0  5.0\n",
       "Fiction                    4940.0  0.077  0.266  0.0  0.0  0.0  0.0  1.0\n",
       "Controling AI (negative)   4940.0  0.025  0.155  0.0  0.0  0.0  0.0  1.0\n",
       "Cyborg (negative)          4940.0  0.005  0.074  0.0  0.0  0.0  0.0  1.0\n",
       "Ethics (negative)          4940.0  0.006  0.080  0.0  0.0  0.0  0.0  1.0\n",
       "Military (negative)        4940.0  0.016  0.125  0.0  0.0  0.0  0.0  1.0\n",
       "Progress (negative)        4940.0  0.026  0.159  0.0  0.0  0.0  0.0  1.0\n",
       "Singularity (negative)     4940.0  0.008  0.087  0.0  0.0  0.0  0.0  1.0\n",
       "Work (negative)            4940.0  0.013  0.113  0.0  0.0  0.0  0.0  1.0\n",
       "Cyborg (positive)          4940.0  0.014  0.118  0.0  0.0  0.0  0.0  1.0\n",
       "Decisions (positive)       4940.0  0.039  0.194  0.0  0.0  0.0  0.0  1.0\n",
       "Education (positive)       4940.0  0.019  0.137  0.0  0.0  0.0  0.0  1.0\n",
       "Entertain (positive)       4940.0  0.050  0.218  0.0  0.0  0.0  0.0  1.0\n",
       "Healthcare (positive)      4940.0  0.027  0.162  0.0  0.0  0.0  0.0  1.0\n",
       "Singularity (positive)     4940.0  0.006  0.078  0.0  0.0  0.0  0.0  1.0\n",
       "Transportation (positive)  4940.0  0.037  0.188  0.0  0.0  0.0  0.0  1.0\n",
       "Work (positive)            4940.0  0.052  0.223  0.0  0.0  0.0  0.0  1.0"
      ]
     },
     "execution_count": 17,
     "metadata": {},
     "output_type": "execute_result"
    }
   ],
   "source": [
    "# Basic statistics\n",
    "df_ai_news.describe().round(3).T"
   ]
  },
  {
   "cell_type": "code",
   "execution_count": 18,
   "metadata": {},
   "outputs": [
    {
     "data": {
      "text/html": [
       "<div>\n",
       "<style scoped>\n",
       "    .dataframe tbody tr th:only-of-type {\n",
       "        vertical-align: middle;\n",
       "    }\n",
       "\n",
       "    .dataframe tbody tr th {\n",
       "        vertical-align: top;\n",
       "    }\n",
       "\n",
       "    .dataframe thead th {\n",
       "        text-align: right;\n",
       "    }\n",
       "</style>\n",
       "<table border=\"1\" class=\"dataframe\">\n",
       "  <thead>\n",
       "    <tr style=\"text-align: right;\">\n",
       "      <th></th>\n",
       "      <th>Article ID</th>\n",
       "      <th>Paragraph number</th>\n",
       "      <th>NYT section</th>\n",
       "      <th>Paragraph</th>\n",
       "      <th>Title</th>\n",
       "      <th>AI Mood</th>\n",
       "      <th>AI Relevance</th>\n",
       "      <th>Fiction</th>\n",
       "      <th>Controling AI (negative)</th>\n",
       "      <th>Cyborg (negative)</th>\n",
       "      <th>Ethics (negative)</th>\n",
       "      <th>Military (negative)</th>\n",
       "      <th>Progress (negative)</th>\n",
       "      <th>Singularity (negative)</th>\n",
       "      <th>Work (negative)</th>\n",
       "      <th>Other (negative)</th>\n",
       "      <th>Cyborg (positive)</th>\n",
       "      <th>Decisions (positive)</th>\n",
       "      <th>Education (positive)</th>\n",
       "      <th>Entertain (positive)</th>\n",
       "      <th>Healthcare (positive)</th>\n",
       "      <th>Singularity (positive)</th>\n",
       "      <th>Transportation (positive)</th>\n",
       "      <th>Work (positive)</th>\n",
       "      <th>Other (positive)</th>\n",
       "    </tr>\n",
       "  </thead>\n",
       "  <tbody>\n",
       "    <tr>\n",
       "      <th>0</th>\n",
       "      <td>4fd1cbc98eb7c8105d701286</td>\n",
       "      <td>18</td>\n",
       "      <td>New York and Region</td>\n",
       "      <td>Thus, next weekend will feature the robot who is named Sico (pronounced SEE-co). ''He can speak seven languages,'' Ms. Finkel said, ''and he interacts. Whatever language you speak he can speak.'' Of course he has never spoken to a Long Islander. No one is quite sure how he will interpret the Long Island accent.</td>\n",
       "      <td>LONG ISLAND JOURNAL</td>\n",
       "      <td>4</td>\n",
       "      <td>5</td>\n",
       "      <td>0</td>\n",
       "      <td>0</td>\n",
       "      <td>0</td>\n",
       "      <td>0</td>\n",
       "      <td>0</td>\n",
       "      <td>0</td>\n",
       "      <td>0</td>\n",
       "      <td>0</td>\n",
       "      <td>{}</td>\n",
       "      <td>0</td>\n",
       "      <td>0</td>\n",
       "      <td>0</td>\n",
       "      <td>0</td>\n",
       "      <td>0</td>\n",
       "      <td>0</td>\n",
       "      <td>0</td>\n",
       "      <td>0</td>\n",
       "      <td>{}</td>\n",
       "    </tr>\n",
       "    <tr>\n",
       "      <th>3</th>\n",
       "      <td>54b0793b7988100e21965770</td>\n",
       "      <td>16</td>\n",
       "      <td>Technology</td>\n",
       "      <td>That phrase was coined in the 1970۪s by Masahiro Mori, the Japanese robotics specialist, as he sought to describe the emotional response of humans to robots and other nonhuman entities. He theorized that as a robot became more lifelike, the emotional response of humans became increasingly positive and empathetic  until a certain point at which the robot took on a zombie-like quality, and the human response turned to repulsion. Then, as the robot becomes indistinguishable from a human, the re...</td>\n",
       "      <td>Camera System Creates Sophisticated 3-D Effects</td>\n",
       "      <td>3</td>\n",
       "      <td>4</td>\n",
       "      <td>0</td>\n",
       "      <td>0</td>\n",
       "      <td>0</td>\n",
       "      <td>0</td>\n",
       "      <td>0</td>\n",
       "      <td>0</td>\n",
       "      <td>0</td>\n",
       "      <td>0</td>\n",
       "      <td>{}</td>\n",
       "      <td>0</td>\n",
       "      <td>0</td>\n",
       "      <td>0</td>\n",
       "      <td>0</td>\n",
       "      <td>0</td>\n",
       "      <td>0</td>\n",
       "      <td>0</td>\n",
       "      <td>0</td>\n",
       "      <td>{}</td>\n",
       "    </tr>\n",
       "  </tbody>\n",
       "</table>\n",
       "</div>"
      ],
      "text/plain": [
       "                 Article ID Paragraph number          NYT section   \n",
       "0  4fd1cbc98eb7c8105d701286               18  New York and Region  \\\n",
       "3  54b0793b7988100e21965770               16           Technology   \n",
       "\n",
       "                                                                                                                                                                                                                                                                                                                                                                                                                                                                                                             Paragraph   \n",
       "0                                                                                                                                                                                             Thus, next weekend will feature the robot who is named Sico (pronounced SEE-co). ''He can speak seven languages,'' Ms. Finkel said, ''and he interacts. Whatever language you speak he can speak.'' Of course he has never spoken to a Long Islander. No one is quite sure how he will interpret the Long Island accent.  \\\n",
       "3  That phrase was coined in the 1970۪s by Masahiro Mori, the Japanese robotics specialist, as he sought to describe the emotional response of humans to robots and other nonhuman entities. He theorized that as a robot became more lifelike, the emotional response of humans became increasingly positive and empathetic  until a certain point at which the robot took on a zombie-like quality, and the human response turned to repulsion. Then, as the robot becomes indistinguishable from a human, the re...   \n",
       "\n",
       "                                             Title  AI Mood  AI Relevance   \n",
       "0                              LONG ISLAND JOURNAL        4             5  \\\n",
       "3  Camera System Creates Sophisticated 3-D Effects        3             4   \n",
       "\n",
       "   Fiction  Controling AI (negative)  Cyborg (negative)  Ethics (negative)   \n",
       "0        0                         0                  0                  0  \\\n",
       "3        0                         0                  0                  0   \n",
       "\n",
       "   Military (negative)  Progress (negative)  Singularity (negative)   \n",
       "0                    0                    0                       0  \\\n",
       "3                    0                    0                       0   \n",
       "\n",
       "   Work (negative) Other (negative)  Cyborg (positive)  Decisions (positive)   \n",
       "0                0               {}                  0                     0  \\\n",
       "3                0               {}                  0                     0   \n",
       "\n",
       "   Education (positive)  Entertain (positive)  Healthcare (positive)   \n",
       "0                     0                     0                      0  \\\n",
       "3                     0                     0                      0   \n",
       "\n",
       "   Singularity (positive)  Transportation (positive)  Work (positive)   \n",
       "0                       0                          0                0  \\\n",
       "3                       0                          0                0   \n",
       "\n",
       "  Other (positive)  \n",
       "0               {}  \n",
       "3               {}  "
      ]
     },
     "execution_count": 18,
     "metadata": {},
     "output_type": "execute_result"
    }
   ],
   "source": [
    "df_ai_news.head(2)"
   ]
  },
  {
   "attachments": {},
   "cell_type": "markdown",
   "metadata": {},
   "source": [
    "### Text Cleaning"
   ]
  },
  {
   "cell_type": "code",
   "execution_count": 19,
   "metadata": {},
   "outputs": [],
   "source": [
    "# function to remove special characters from a sentence\n",
    "def remove_spc_char(text):\n",
    "    cleaned_text = re.sub(r'[^a-zA-Z0-9 @ . , : - _]', '', text)\n",
    "    return cleaned_text"
   ]
  },
  {
   "cell_type": "code",
   "execution_count": 20,
   "metadata": {},
   "outputs": [],
   "source": [
    "# function to tokenize text into words and remove punctuation\n",
    "def sent_to_words(sentences):\n",
    "    for sentence in sentences:\n",
    "        yield(gensim.utils.simple_preprocess(str(sentence), deacc=True))"
   ]
  },
  {
   "cell_type": "code",
   "execution_count": 21,
   "metadata": {},
   "outputs": [],
   "source": [
    "# function to remove stopwords from list of tokens\n",
    "stop_words = stopwords.words('english')\n",
    "\n",
    "def remove_stopwords(texts):\n",
    "    cleaned_texts = [[word for word in simple_preprocess(str(doc)) if word not in stop_words] for doc in texts]\n",
    "    return cleaned_texts\n"
   ]
  },
  {
   "cell_type": "code",
   "execution_count": 22,
   "metadata": {},
   "outputs": [],
   "source": [
    "# function to make ngrams from original tokens\n",
    "def make_bigrams(texts_wstops):\n",
    "    bigram = gensim.models.Phrases(texts_wstops, min_count=1, threshold=3)\n",
    "    bigram_mod = gensim.models.phrases.Phraser(bigram)\n",
    "    texts_nostops = remove_stopwords(texts_wstops)\n",
    "    return [bigram_mod[doc] for doc in texts_nostops]\n",
    "\n",
    "def make_trigrams(texts_wstops):\n",
    "    bigram = gensim.models.Phrases(texts_wstops, min_count=1, threshold=3)\n",
    "    bigram_mod = gensim.models.phrases.Phraser(bigram)\n",
    "    trigram = gensim.models.Phrases(bigram[texts_wstops], threshold=1)\n",
    "    trigram_mod = gensim.models.phrases.Phraser(trigram)\n",
    "    texts_nostops = remove_stopwords(texts_wstops)\n",
    "    return [trigram_mod[bigram_mod[doc]] for doc in texts_nostops]"
   ]
  },
  {
   "cell_type": "code",
   "execution_count": 23,
   "metadata": {},
   "outputs": [],
   "source": [
    "# function to lemmatize words\n",
    "def lemmatization(texts, allowed_postags=['NOUN', 'ADJ', 'VERB', 'ADV']):\n",
    "    texts_out = []\n",
    "    for sent in texts:\n",
    "        doc = nlp(\" \".join(sent)) \n",
    "        texts_out.append([token.lemma_ for token in doc if token.pos_ in allowed_postags])\n",
    "    return texts_out"
   ]
  },
  {
   "cell_type": "code",
   "execution_count": 24,
   "metadata": {},
   "outputs": [
    {
     "name": "stdout",
     "output_type": "stream",
     "text": [
      "CPU times: user 6.39 s, sys: 70.2 ms, total: 6.46 s\n",
      "Wall time: 6.49 s\n"
     ]
    }
   ],
   "source": [
    "%%time\n",
    "\n",
    "# remove special characters\n",
    "para_cleaned = np.array(df_ai_news['Paragraph'].apply(lambda x: remove_spc_char(x)))\n",
    "\n",
    "# tokenize the paragraphs\n",
    "para_tokens = list(sent_to_words(para_cleaned))\n",
    "\n",
    "# remove stopwords\n",
    "para_token_nostops = remove_stopwords(para_tokens)\n",
    "\n",
    "# make bigrams and trigrams\n",
    "para_bigrams = make_bigrams(para_tokens)\n",
    "para_trigrams = make_trigrams(para_tokens)\n",
    "\n",
    "# combine tokens and ngrams\n",
    "df_ai_news['para_tokens'] = list(zip(para_token_nostops, para_bigrams, para_trigrams))\n",
    "df_ai_news['para_tokens'] = df_ai_news['para_tokens'].apply(lambda x: list(x[0] + x[1] + x[2]))\n",
    "para_tokens_all = df_ai_news['para_tokens'].tolist()"
   ]
  },
  {
   "cell_type": "code",
   "execution_count": 25,
   "metadata": {},
   "outputs": [
    {
     "name": "stdout",
     "output_type": "stream",
     "text": [
      "CPU times: user 49.6 s, sys: 3.18 s, total: 52.8 s\n",
      "Wall time: 52.9 s\n"
     ]
    },
    {
     "data": {
      "text/html": [
       "<div>\n",
       "<style scoped>\n",
       "    .dataframe tbody tr th:only-of-type {\n",
       "        vertical-align: middle;\n",
       "    }\n",
       "\n",
       "    .dataframe tbody tr th {\n",
       "        vertical-align: top;\n",
       "    }\n",
       "\n",
       "    .dataframe thead th {\n",
       "        text-align: right;\n",
       "    }\n",
       "</style>\n",
       "<table border=\"1\" class=\"dataframe\">\n",
       "  <thead>\n",
       "    <tr style=\"text-align: right;\">\n",
       "      <th></th>\n",
       "      <th>Paragraph</th>\n",
       "      <th>para_tokens</th>\n",
       "      <th>para_lemmatized</th>\n",
       "    </tr>\n",
       "  </thead>\n",
       "  <tbody>\n",
       "    <tr>\n",
       "      <th>0</th>\n",
       "      <td>Thus, next weekend will feature the robot who is named Sico (pronounced SEE-co). ''He can speak seven languages,'' Ms. Finkel said, ''and he interacts. Whatever language you speak he can speak.'' Of course he has never spoken to a Long Islander. No one is quite sure how he will interpret the Long Island accent.</td>\n",
       "      <td>[thus, next, weekend, feature, robot, named, sico, pronounced, seeco, speak, seven, languages, ms, finkel, said, interacts, whatever, language, speak, speak, course, never, spoken, long, islander, one, quite, sure, interpret, long, island, accent, thus, next, weekend, feature, robot_named, sico, pronounced, seeco, speak, seven, languages, ms_finkel, said, interacts, whatever, language, speak, speak, course, never, spoken, long, islander, one, quite_sure, interpret, long_island, accent, thus,...</td>\n",
       "      <td>[thus, next, weekend, feature, robot, name, sico, pronounced, seeco, speak, language, ms, finkel, say, interact, language, speak, speak, course, never, speak, long, islander, quite, sure, interpret, long, island, accent, thus, next, weekend, feature, robot_name, sico, pronounced, seeco, speak, language, say, interact, language, speak, speak, course, never, speak, long, islander, quite_sure, interpret, long_island, accent, thus, next, weekend, feature, robot_name, sico, pronounced, seeco, spe...</td>\n",
       "    </tr>\n",
       "    <tr>\n",
       "      <th>3</th>\n",
       "      <td>That phrase was coined in the 1970۪s by Masahiro Mori, the Japanese robotics specialist, as he sought to describe the emotional response of humans to robots and other nonhuman entities. He theorized that as a robot became more lifelike, the emotional response of humans became increasingly positive and empathetic  until a certain point at which the robot took on a zombie-like quality, and the human response turned to repulsion. Then, as the robot becomes indistinguishable from a human, the re...</td>\n",
       "      <td>[phrase, coined, masahiro, mori, japanese, robotics, specialist, sought, describe, emotional, response, humans, robots, nonhuman, entities, theorized, robot, became, lifelike, emotional, response, humans, became, increasingly, positive, empathetic, certain, point, robot, took, zombielike, quality, human, response, turned, repulsion, robot, becomes, human, response, turns, positive, critics, quick, point, eerie, look, characters, polar, express, phrase, coined, masahiro_mori, japanese_robotic...</td>\n",
       "      <td>[phrase, coin, masahiro, mori, japanese, robotic, specialist, seek, describe, emotional, response, humans, robots, nonhuman, entities, theorize, robot, become, lifelike, emotional, response, human, become, increasingly, positive, empathetic, certain, point, robot, take, zombielike, quality, human, response, turn, repulsion, robot, become, human, response, turn, positive, critic, quick, point, eerie, look, character, polar, express, phrase, coin, masahiro_mori, japanese_robotic, specialist, s...</td>\n",
       "    </tr>\n",
       "    <tr>\n",
       "      <th>6</th>\n",
       "      <td>Users can program the robot to clean a swimming pool at regular intervals or use a remote control to steer it by hand. The Polaris 9300xi sells for $1,379.</td>\n",
       "      <td>[users, program, robot, clean, swimming, pool, regular, intervals, use, remote, control, steer, hand, polaris, xi, sells, users, program, robot, clean_swimming, pool, regular_intervals, use, remote_control, steer, hand, polaris_xi, sells, users, program, robot, clean_swimming, pool, regular_intervals, use, remote_control, steer, hand, polaris_xi, sells]</td>\n",
       "      <td>[user, program, robot, clean, swimming, pool, regular, interval, use, remote, control, steer, hand, polaris, xi, sell, user, program, robot, clean_swimme, pool, regular_interval, use, remote_control, steer, hand, polaris_xi, sell, user, program, robot, clean_swimme, pool, regular_interval, use, remote_control, steer, hand, polaris_xi, sell]</td>\n",
       "    </tr>\n",
       "    <tr>\n",
       "      <th>9</th>\n",
       "      <td>Although ticket sales are roughly even with last year's unimpressive sales, more studios have at least one successful movie. Most of the money last summer was earned by ''Rambo'' ($146 million by Labor Day, the official end of summer), ''Back to the Future'' ($133 million) and ''Cocoon'' ($70 million). This year, in addition to the top three movies, Warner Brothers' ''Cobra,'' starring Sylvester Stallone as a snarling cop, Paramount's teen-age Walter Mitty fantasy ''Ferris Bueller's Day Off,...</td>\n",
       "      <td>[although, ticket, sales, roughly, even, last, years, unimpressive, sales, studios, least, one, successful, movie, money, last, summer, earned, rambo, million, labor, day, official, end, summer, back, future, million, cocoon, million, year, addition, top, three, movies, warner, brothers, cobra, starring, sylvester, stallone, snarling, cop, paramounts, teenage, walter, mitty, fantasy, ferris, buellers, day, tristars, peaceful, robot, fantasy, short, circuit, universals, robert, redford, comed...</td>\n",
       "      <td>[ticket, sale, roughly, even, last, year, unimpressive, sale, studio, least, successful, movie, money, last, summer, earn, rambo, labor, day, official, end, summer, back, future, cocoon, year, addition, top, movie, warner, brother, cobra, star, sylvester, stallone, snarling, cop, paramount, teenage, walter, mitty, fantasy, ferris, bueller, day, tristar, peaceful, robot, fantasy, short, circuit, universal, robert, redford, comedy, legal, eagle, mgms, poltergeist, ii, side, disney, ruthless, p...</td>\n",
       "    </tr>\n",
       "    <tr>\n",
       "      <th>12</th>\n",
       "      <td>Dr. Rus envisions millions of these modules capable of prowling the earth, and possibly space, as the devices shrink. Confronting the New England snow scene around her at Dartmouth, and her driveway in particular, she said that a snow-cleaning robot made of her modules might be a good idea. ''It could also check the pipes in my house to make sure they aren't going to burst,'' she added.</td>\n",
       "      <td>[dr, rus, envisions, millions, modules, capable, prowling, earth, possibly, space, devices, shrink, confronting, new, england, snow, scene, around, dartmouth, driveway, particular, said, snowcleaning, robot, made, modules, might, good, idea, could, also, check, pipes, house, make, sure, arent, going, burst, added, dr_rus, envisions, millions, modules, capable, prowling, earth, possibly, space, devices, shrink, confronting, new_england, snow, scene, around, dartmouth, driveway, particular, sa...</td>\n",
       "      <td>[dr, rus, envision, million, module, capable, prowl, earth, possibly, space, device, shrink, confront, new, england, snow, scene, dartmouth, driveway, particular, say, snowcleane, robot, make, module, good, idea, also, check, pipe, house, make, sure, go, burst, add, dr_rus, envision, million, module, capable, prowl, earth, possibly, space, device, shrink, confront, snow, scene, dartmouth, driveway, particular, say, snowcleane, robot, make, module, good_idea, could_also, check, pipe, house, m...</td>\n",
       "    </tr>\n",
       "  </tbody>\n",
       "</table>\n",
       "</div>"
      ],
      "text/plain": [
       "                                                                                                                                                                                                                                                                                                                                                                                                                                                                                                              Paragraph   \n",
       "0                                                                                                                                                                                              Thus, next weekend will feature the robot who is named Sico (pronounced SEE-co). ''He can speak seven languages,'' Ms. Finkel said, ''and he interacts. Whatever language you speak he can speak.'' Of course he has never spoken to a Long Islander. No one is quite sure how he will interpret the Long Island accent.  \\\n",
       "3   That phrase was coined in the 1970۪s by Masahiro Mori, the Japanese robotics specialist, as he sought to describe the emotional response of humans to robots and other nonhuman entities. He theorized that as a robot became more lifelike, the emotional response of humans became increasingly positive and empathetic  until a certain point at which the robot took on a zombie-like quality, and the human response turned to repulsion. Then, as the robot becomes indistinguishable from a human, the re...   \n",
       "6                                                                                                                                                                                                                                                                                                                                                           Users can program the robot to clean a swimming pool at regular intervals or use a remote control to steer it by hand. The Polaris 9300xi sells for $1,379.   \n",
       "9   Although ticket sales are roughly even with last year's unimpressive sales, more studios have at least one successful movie. Most of the money last summer was earned by ''Rambo'' ($146 million by Labor Day, the official end of summer), ''Back to the Future'' ($133 million) and ''Cocoon'' ($70 million). This year, in addition to the top three movies, Warner Brothers' ''Cobra,'' starring Sylvester Stallone as a snarling cop, Paramount's teen-age Walter Mitty fantasy ''Ferris Bueller's Day Off,...   \n",
       "12                                                                                                                Dr. Rus envisions millions of these modules capable of prowling the earth, and possibly space, as the devices shrink. Confronting the New England snow scene around her at Dartmouth, and her driveway in particular, she said that a snow-cleaning robot made of her modules might be a good idea. ''It could also check the pipes in my house to make sure they aren't going to burst,'' she added.   \n",
       "\n",
       "                                                                                                                                                                                                                                                                                                                                                                                                                                                                                                            para_tokens   \n",
       "0   [thus, next, weekend, feature, robot, named, sico, pronounced, seeco, speak, seven, languages, ms, finkel, said, interacts, whatever, language, speak, speak, course, never, spoken, long, islander, one, quite, sure, interpret, long, island, accent, thus, next, weekend, feature, robot_named, sico, pronounced, seeco, speak, seven, languages, ms_finkel, said, interacts, whatever, language, speak, speak, course, never, spoken, long, islander, one, quite_sure, interpret, long_island, accent, thus,...  \\\n",
       "3   [phrase, coined, masahiro, mori, japanese, robotics, specialist, sought, describe, emotional, response, humans, robots, nonhuman, entities, theorized, robot, became, lifelike, emotional, response, humans, became, increasingly, positive, empathetic, certain, point, robot, took, zombielike, quality, human, response, turned, repulsion, robot, becomes, human, response, turns, positive, critics, quick, point, eerie, look, characters, polar, express, phrase, coined, masahiro_mori, japanese_robotic...   \n",
       "6                                                                                                                                                   [users, program, robot, clean, swimming, pool, regular, intervals, use, remote, control, steer, hand, polaris, xi, sells, users, program, robot, clean_swimming, pool, regular_intervals, use, remote_control, steer, hand, polaris_xi, sells, users, program, robot, clean_swimming, pool, regular_intervals, use, remote_control, steer, hand, polaris_xi, sells]   \n",
       "9   [although, ticket, sales, roughly, even, last, years, unimpressive, sales, studios, least, one, successful, movie, money, last, summer, earned, rambo, million, labor, day, official, end, summer, back, future, million, cocoon, million, year, addition, top, three, movies, warner, brothers, cobra, starring, sylvester, stallone, snarling, cop, paramounts, teenage, walter, mitty, fantasy, ferris, buellers, day, tristars, peaceful, robot, fantasy, short, circuit, universals, robert, redford, comed...   \n",
       "12  [dr, rus, envisions, millions, modules, capable, prowling, earth, possibly, space, devices, shrink, confronting, new, england, snow, scene, around, dartmouth, driveway, particular, said, snowcleaning, robot, made, modules, might, good, idea, could, also, check, pipes, house, make, sure, arent, going, burst, added, dr_rus, envisions, millions, modules, capable, prowling, earth, possibly, space, devices, shrink, confronting, new_england, snow, scene, around, dartmouth, driveway, particular, sa...   \n",
       "\n",
       "                                                                                                                                                                                                                                                                                                                                                                                                                                                                                                        para_lemmatized  \n",
       "0   [thus, next, weekend, feature, robot, name, sico, pronounced, seeco, speak, language, ms, finkel, say, interact, language, speak, speak, course, never, speak, long, islander, quite, sure, interpret, long, island, accent, thus, next, weekend, feature, robot_name, sico, pronounced, seeco, speak, language, say, interact, language, speak, speak, course, never, speak, long, islander, quite_sure, interpret, long_island, accent, thus, next, weekend, feature, robot_name, sico, pronounced, seeco, spe...  \n",
       "3   [phrase, coin, masahiro, mori, japanese, robotic, specialist, seek, describe, emotional, response, humans, robots, nonhuman, entities, theorize, robot, become, lifelike, emotional, response, human, become, increasingly, positive, empathetic, certain, point, robot, take, zombielike, quality, human, response, turn, repulsion, robot, become, human, response, turn, positive, critic, quick, point, eerie, look, character, polar, express, phrase, coin, masahiro_mori, japanese_robotic, specialist, s...  \n",
       "6                                                                                                                                                                [user, program, robot, clean, swimming, pool, regular, interval, use, remote, control, steer, hand, polaris, xi, sell, user, program, robot, clean_swimme, pool, regular_interval, use, remote_control, steer, hand, polaris_xi, sell, user, program, robot, clean_swimme, pool, regular_interval, use, remote_control, steer, hand, polaris_xi, sell]  \n",
       "9   [ticket, sale, roughly, even, last, year, unimpressive, sale, studio, least, successful, movie, money, last, summer, earn, rambo, labor, day, official, end, summer, back, future, cocoon, year, addition, top, movie, warner, brother, cobra, star, sylvester, stallone, snarling, cop, paramount, teenage, walter, mitty, fantasy, ferris, bueller, day, tristar, peaceful, robot, fantasy, short, circuit, universal, robert, redford, comedy, legal, eagle, mgms, poltergeist, ii, side, disney, ruthless, p...  \n",
       "12  [dr, rus, envision, million, module, capable, prowl, earth, possibly, space, device, shrink, confront, new, england, snow, scene, dartmouth, driveway, particular, say, snowcleane, robot, make, module, good, idea, also, check, pipe, house, make, sure, go, burst, add, dr_rus, envision, million, module, capable, prowl, earth, possibly, space, device, shrink, confront, snow, scene, dartmouth, driveway, particular, say, snowcleane, robot, make, module, good_idea, could_also, check, pipe, house, m...  "
      ]
     },
     "execution_count": 25,
     "metadata": {},
     "output_type": "execute_result"
    }
   ],
   "source": [
    "%%time\n",
    "\n",
    "# lemmatize the tokens keeping only noun, adj, vb, adv\n",
    "nlp = spacy.load('en_core_web_sm', disable=['parser', 'ner'])\n",
    "para_lemmatized = lemmatization(para_tokens_all, allowed_postags=['NOUN', 'ADJ', 'VERB', 'ADV', 'PROPN'])\n",
    "\n",
    "df_ai_news['para_lemmatized'] = para_lemmatized\n",
    "df_ai_news[['Paragraph', 'para_tokens', 'para_lemmatized']].head()"
   ]
  },
  {
   "attachments": {},
   "cell_type": "markdown",
   "metadata": {},
   "source": [
    "### Target Variable"
   ]
  },
  {
   "cell_type": "code",
   "execution_count": 26,
   "metadata": {},
   "outputs": [
    {
     "data": {
      "text/plain": [
       "AI Mood\n",
       "3    3174\n",
       "4     754\n",
       "5     557\n",
       "2     383\n",
       "1      72\n",
       "Name: count, dtype: int64"
      ]
     },
     "execution_count": 26,
     "metadata": {},
     "output_type": "execute_result"
    }
   ],
   "source": [
    "df_ai_news['AI Mood'].value_counts()"
   ]
  },
  {
   "cell_type": "code",
   "execution_count": 27,
   "metadata": {},
   "outputs": [
    {
     "data": {
      "image/png": "[encoded data removed]",
      "text/plain": [
       "<Figure size 600x400 with 1 Axes>"
      ]
     },
     "metadata": {},
     "output_type": "display_data"
    }
   ],
   "source": [
    "# Visualize the AI Mood distribution\n",
    "sns.set_style('whitegrid')\n",
    "plt.figure(figsize=(6, 4))\n",
    "sns.countplot(x='AI Mood', data=df_ai_news, palette='viridis')\n",
    "plt.title('AI Mood Distribution')\n",
    "plt.show()"
   ]
  },
  {
   "attachments": {},
   "cell_type": "markdown",
   "metadata": {},
   "source": [
    "## Resample Data to Balance Classes - SMOTE"
   ]
  },
  {
   "cell_type": "code",
   "execution_count": 28,
   "metadata": {},
   "outputs": [],
   "source": [
    "# convert lemmatized tokens back to string\n",
    "df_ai_news['para_lemmatized_str'] = df_ai_news['para_lemmatized'].apply(lambda x: ' '.join(x))"
   ]
  },
  {
   "cell_type": "code",
   "execution_count": 29,
   "metadata": {},
   "outputs": [
    {
     "name": "stdout",
     "output_type": "stream",
     "text": [
      "X Shape: (4940,)\n",
      "y Shape: (4940,)\n"
     ]
    }
   ],
   "source": [
    "# Define X and y\n",
    "X = df_ai_news['para_lemmatized_str']\n",
    "y = df_ai_news['AI Mood']\n",
    "\n",
    "print(f\"X Shape: {X.shape}\")\n",
    "print(f\"y Shape: {y.shape}\")"
   ]
  },
  {
   "attachments": {},
   "cell_type": "markdown",
   "metadata": {},
   "source": [
    "### Initialize vectorizer"
   ]
  },
  {
   "cell_type": "code",
   "execution_count": 30,
   "metadata": {},
   "outputs": [],
   "source": [
    "tfidf = TfidfVectorizer(lowercase=False,\n",
    "                        ngram_range=(1, 1))"
   ]
  },
  {
   "cell_type": "code",
   "execution_count": 31,
   "metadata": {},
   "outputs": [
    {
     "name": "stdout",
     "output_type": "stream",
     "text": [
      "(4940, 32686)\n"
     ]
    }
   ],
   "source": [
    "X_vec = tfidf.fit_transform(X)\n",
    "print(X_vec.shape)"
   ]
  },
  {
   "cell_type": "code",
   "execution_count": 32,
   "metadata": {},
   "outputs": [],
   "source": [
    "# Access the feature names\n",
    "feature_names = tfidf.get_feature_names_out()"
   ]
  },
  {
   "cell_type": "code",
   "execution_count": 33,
   "metadata": {},
   "outputs": [
    {
     "data": {
      "image/png": "[encoded data removed]",
      "text/plain": [
       "<Figure size 600x400 with 1 Axes>"
      ]
     },
     "metadata": {},
     "output_type": "display_data"
    }
   ],
   "source": [
    "# Apply SMOTE oversampling\n",
    "sm = SMOTE(random_state=2023)\n",
    "X_res, y_res = sm.fit_resample(X_vec, y)\n",
    "\n",
    "# Convert the oversampled data to a dataframe\n",
    "df_ai_news_res = pd.DataFrame(X_res.toarray(), columns=feature_names)\n",
    "df_ai_news_res['AI Mood'] = y_res\n",
    "\n",
    "# Visualize the AI Mood distribution\n",
    "sns.set_style('whitegrid')\n",
    "plt.figure(figsize=(6, 4))\n",
    "sns.countplot(x='AI Mood', data=df_ai_news_res, palette='viridis')\n",
    "plt.title('AI Mood Distribution (After SMOTE)')\n",
    "plt.show()"
   ]
  },
  {
   "attachments": {},
   "cell_type": "markdown",
   "metadata": {},
   "source": [
    "### Train-test split"
   ]
  },
  {
   "cell_type": "code",
   "execution_count": 34,
   "metadata": {},
   "outputs": [
    {
     "name": "stdout",
     "output_type": "stream",
     "text": [
      "Training records, X_train: (12696, 32686) y_train: (12696,)\n",
      "Testing records, X_test: (3174, 32686) y_test: (3174,)\n"
     ]
    }
   ],
   "source": [
    "# Split the data into train and test sets\n",
    "X_train, X_test, y_train, y_test = train_test_split(X_res.toarray(), y_res, test_size=0.2, random_state=2023)\n",
    "\n",
    "print(f\"Training records, X_train: {X_train.shape} y_train: {y_train.shape}\")\n",
    "print(f\"Testing records, X_test: {X_test.shape} y_test: {y_test.shape}\")"
   ]
  },
  {
   "attachments": {},
   "cell_type": "markdown",
   "metadata": {},
   "source": [
    "## Build Customized Model using Open Source Data"
   ]
  },
  {
   "attachments": {},
   "cell_type": "markdown",
   "metadata": {},
   "source": [
    "### Naive Bayes Model"
   ]
  },
  {
   "cell_type": "code",
   "execution_count": 35,
   "metadata": {},
   "outputs": [],
   "source": [
    "# Mutinomial Naive Bayes\n",
    "mnb = MultinomialNB()"
   ]
  },
  {
   "cell_type": "code",
   "execution_count": 36,
   "metadata": {},
   "outputs": [
    {
     "name": "stdout",
     "output_type": "stream",
     "text": [
      "CPU times: user 2.15 s, sys: 739 ms, total: 2.88 s\n",
      "Wall time: 1.98 s\n"
     ]
    },
    {
     "data": {
      "text/html": [
       "<style>#sk-container-id-1 {color: black;background-color: white;}#sk-container-id-1 pre{padding: 0;}#sk-container-id-1 div.sk-toggleable {background-color: white;}#sk-container-id-1 label.sk-toggleable__label {cursor: pointer;display: block;width: 100%;margin-bottom: 0;padding: 0.3em;box-sizing: border-box;text-align: center;}#sk-container-id-1 label.sk-toggleable__label-arrow:before {content: \"▸\";float: left;margin-right: 0.25em;color: #696969;}#sk-container-id-1 label.sk-toggleable__label-arrow:hover:before {color: black;}#sk-container-id-1 div.sk-estimator:hover label.sk-toggleable__label-arrow:before {color: black;}#sk-container-id-1 div.sk-toggleable__content {max-height: 0;max-width: 0;overflow: hidden;text-align: left;background-color: #f0f8ff;}#sk-container-id-1 div.sk-toggleable__content pre {margin: 0.2em;color: black;border-radius: 0.25em;background-color: #f0f8ff;}#sk-container-id-1 input.sk-toggleable__control:checked~div.sk-toggleable__content {max-height: 200px;max-width: 100%;overflow: auto;}#sk-container-id-1 input.sk-toggleable__control:checked~label.sk-toggleable__label-arrow:before {content: \"▾\";}#sk-container-id-1 div.sk-estimator input.sk-toggleable__control:checked~label.sk-toggleable__label {background-color: #d4ebff;}#sk-container-id-1 div.sk-label input.sk-toggleable__control:checked~label.sk-toggleable__label {background-color: #d4ebff;}#sk-container-id-1 input.sk-hidden--visually {border: 0;clip: rect(1px 1px 1px 1px);clip: rect(1px, 1px, 1px, 1px);height: 1px;margin: -1px;overflow: hidden;padding: 0;position: absolute;width: 1px;}#sk-container-id-1 div.sk-estimator {font-family: monospace;background-color: #f0f8ff;border: 1px dotted black;border-radius: 0.25em;box-sizing: border-box;margin-bottom: 0.5em;}#sk-container-id-1 div.sk-estimator:hover {background-color: #d4ebff;}#sk-container-id-1 div.sk-parallel-item::after {content: \"\";width: 100%;border-bottom: 1px solid gray;flex-grow: 1;}#sk-container-id-1 div.sk-label:hover label.sk-toggleable__label {background-color: #d4ebff;}#sk-container-id-1 div.sk-serial::before {content: \"\";position: absolute;border-left: 1px solid gray;box-sizing: border-box;top: 0;bottom: 0;left: 50%;z-index: 0;}#sk-container-id-1 div.sk-serial {display: flex;flex-direction: column;align-items: center;background-color: white;padding-right: 0.2em;padding-left: 0.2em;position: relative;}#sk-container-id-1 div.sk-item {position: relative;z-index: 1;}#sk-container-id-1 div.sk-parallel {display: flex;align-items: stretch;justify-content: center;background-color: white;position: relative;}#sk-container-id-1 div.sk-item::before, #sk-container-id-1 div.sk-parallel-item::before {content: \"\";position: absolute;border-left: 1px solid gray;box-sizing: border-box;top: 0;bottom: 0;left: 50%;z-index: -1;}#sk-container-id-1 div.sk-parallel-item {display: flex;flex-direction: column;z-index: 1;position: relative;background-color: white;}#sk-container-id-1 div.sk-parallel-item:first-child::after {align-self: flex-end;width: 50%;}#sk-container-id-1 div.sk-parallel-item:last-child::after {align-self: flex-start;width: 50%;}#sk-container-id-1 div.sk-parallel-item:only-child::after {width: 0;}#sk-container-id-1 div.sk-dashed-wrapped {border: 1px dashed gray;margin: 0 0.4em 0.5em 0.4em;box-sizing: border-box;padding-bottom: 0.4em;background-color: white;}#sk-container-id-1 div.sk-label label {font-family: monospace;font-weight: bold;display: inline-block;line-height: 1.2em;}#sk-container-id-1 div.sk-label-container {text-align: center;}#sk-container-id-1 div.sk-container {/* jupyter's `normalize.less` sets `[hidden] { display: none; }` but bootstrap.min.css set `[hidden] { display: none !important; }` so we also need the `!important` here to be able to override the default hidden behavior on the sphinx rendered scikit-learn.org. See: https://github.com/scikit-learn/scikit-learn/issues/21755 */display: inline-block !important;position: relative;}#sk-container-id-1 div.sk-text-repr-fallback {display: none;}</style><div id=\"sk-container-id-1\" class=\"sk-top-container\"><div class=\"sk-text-repr-fallback\"><pre>MultinomialNB()</pre><b>In a Jupyter environment, please rerun this cell to show the HTML representation or trust the notebook. <br />On GitHub, the HTML representation is unable to render, please try loading this page with nbviewer.org.</b></div><div class=\"sk-container\" hidden><div class=\"sk-item\"><div class=\"sk-estimator sk-toggleable\"><input class=\"sk-toggleable__control sk-hidden--visually\" id=\"sk-estimator-id-1\" type=\"checkbox\" checked><label for=\"sk-estimator-id-1\" class=\"sk-toggleable__label sk-toggleable__label-arrow\">MultinomialNB</label><div class=\"sk-toggleable__content\"><pre>MultinomialNB()</pre></div></div></div></div></div>"
      ],
      "text/plain": [
       "MultinomialNB()"
      ]
     },
     "execution_count": 36,
     "metadata": {},
     "output_type": "execute_result"
    }
   ],
   "source": [
    "# fit the model\n",
    "%time mnb.fit(X_train, y_train)"
   ]
  },
  {
   "cell_type": "code",
   "execution_count": 37,
   "metadata": {},
   "outputs": [
    {
     "data": {
      "text/plain": [
       "array([4, 4, 5, 5, 1, 1, 3, 2, 2, 1])"
      ]
     },
     "execution_count": 37,
     "metadata": {},
     "output_type": "execute_result"
    }
   ],
   "source": [
    "# make class predictions\n",
    "mnb_pred = mnb.predict(X_test)\n",
    "mnb_pred[:10]"
   ]
  },
  {
   "cell_type": "code",
   "execution_count": 38,
   "metadata": {},
   "outputs": [
    {
     "name": "stdout",
     "output_type": "stream",
     "text": [
      "Test Accuracy: 85.4%\n"
     ]
    }
   ],
   "source": [
    "# calculate accuracy of class predictions\n",
    "print(f\"Test Accuracy: {accuracy_score(y_test, mnb_pred) * 100:.1f}%\")"
   ]
  },
  {
   "cell_type": "code",
   "execution_count": 39,
   "metadata": {},
   "outputs": [
    {
     "name": "stdout",
     "output_type": "stream",
     "text": [
      "              precision    recall  f1-score   support\n",
      "\n",
      "           1       0.95      1.00      0.98       624\n",
      "           2       0.85      0.98      0.91       643\n",
      "           3       0.97      0.39      0.56       656\n",
      "           4       0.78      0.94      0.85       625\n",
      "           5       0.81      0.98      0.89       626\n",
      "\n",
      "    accuracy                           0.85      3174\n",
      "   macro avg       0.87      0.86      0.84      3174\n",
      "weighted avg       0.87      0.85      0.83      3174\n",
      "\n"
     ]
    }
   ],
   "source": [
    "# calculate precision and recall\n",
    "print(classification_report(y_test, mnb_pred))"
   ]
  },
  {
   "cell_type": "code",
   "execution_count": 40,
   "metadata": {},
   "outputs": [
    {
     "name": "stdout",
     "output_type": "stream",
     "text": [
      "[[624   0   0   0   0]\n",
      " [  9 630   1   2   1]\n",
      " [ 20  98 257 160 121]\n",
      " [  0   8   6 590  21]\n",
      " [  2   7   0   6 611]]\n"
     ]
    }
   ],
   "source": [
    "# calculate the confusion matrix\n",
    "print(confusion_matrix(y_test, mnb_pred))"
   ]
  },
  {
   "cell_type": "code",
   "execution_count": 41,
   "metadata": {},
   "outputs": [
    {
     "data": {
      "image/png": "[encoded data removed]",
      "text/plain": [
       "<Figure size 600x400 with 2 Axes>"
      ]
     },
     "metadata": {},
     "output_type": "display_data"
    }
   ],
   "source": [
    "# plot confusion matrix\n",
    "plt.figure(figsize=(6, 4))\n",
    "sns.heatmap(confusion_matrix(y_test, mnb_pred), annot=True, fmt='d', cmap='Blues')\n",
    "plt.xlabel('Predicted')\n",
    "plt.ylabel('Actual')\n",
    "plt.title('Confusion Matrix - Multinomial Naive Bayes')\n",
    "plt.show()"
   ]
  },
  {
   "cell_type": "code",
   "execution_count": 42,
   "metadata": {},
   "outputs": [
    {
     "name": "stdout",
     "output_type": "stream",
     "text": [
      "Training Accuracy: 92.3%\n"
     ]
    }
   ],
   "source": [
    "# test for overfitting\n",
    "mnb_pred_train = mnb.predict(X_train)\n",
    "print(f\"Training Accuracy: {accuracy_score(y_train, mnb_pred_train) * 100:.1f}%\")"
   ]
  },
  {
   "attachments": {},
   "cell_type": "markdown",
   "metadata": {},
   "source": [
    "###  Logistic Regression Model"
   ]
  },
  {
   "cell_type": "code",
   "execution_count": 43,
   "metadata": {},
   "outputs": [],
   "source": [
    "# Logistic Regression model\n",
    "logreg = LogisticRegression(max_iter=200)"
   ]
  },
  {
   "cell_type": "code",
   "execution_count": 44,
   "metadata": {},
   "outputs": [
    {
     "name": "stdout",
     "output_type": "stream",
     "text": [
      "CPU times: user 10min 20s, sys: 43.2 s, total: 11min 4s\n",
      "Wall time: 1min 41s\n"
     ]
    },
    {
     "data": {
      "text/html": [
       "<style>#sk-container-id-2 {color: black;background-color: white;}#sk-container-id-2 pre{padding: 0;}#sk-container-id-2 div.sk-toggleable {background-color: white;}#sk-container-id-2 label.sk-toggleable__label {cursor: pointer;display: block;width: 100%;margin-bottom: 0;padding: 0.3em;box-sizing: border-box;text-align: center;}#sk-container-id-2 label.sk-toggleable__label-arrow:before {content: \"▸\";float: left;margin-right: 0.25em;color: #696969;}#sk-container-id-2 label.sk-toggleable__label-arrow:hover:before {color: black;}#sk-container-id-2 div.sk-estimator:hover label.sk-toggleable__label-arrow:before {color: black;}#sk-container-id-2 div.sk-toggleable__content {max-height: 0;max-width: 0;overflow: hidden;text-align: left;background-color: #f0f8ff;}#sk-container-id-2 div.sk-toggleable__content pre {margin: 0.2em;color: black;border-radius: 0.25em;background-color: #f0f8ff;}#sk-container-id-2 input.sk-toggleable__control:checked~div.sk-toggleable__content {max-height: 200px;max-width: 100%;overflow: auto;}#sk-container-id-2 input.sk-toggleable__control:checked~label.sk-toggleable__label-arrow:before {content: \"▾\";}#sk-container-id-2 div.sk-estimator input.sk-toggleable__control:checked~label.sk-toggleable__label {background-color: #d4ebff;}#sk-container-id-2 div.sk-label input.sk-toggleable__control:checked~label.sk-toggleable__label {background-color: #d4ebff;}#sk-container-id-2 input.sk-hidden--visually {border: 0;clip: rect(1px 1px 1px 1px);clip: rect(1px, 1px, 1px, 1px);height: 1px;margin: -1px;overflow: hidden;padding: 0;position: absolute;width: 1px;}#sk-container-id-2 div.sk-estimator {font-family: monospace;background-color: #f0f8ff;border: 1px dotted black;border-radius: 0.25em;box-sizing: border-box;margin-bottom: 0.5em;}#sk-container-id-2 div.sk-estimator:hover {background-color: #d4ebff;}#sk-container-id-2 div.sk-parallel-item::after {content: \"\";width: 100%;border-bottom: 1px solid gray;flex-grow: 1;}#sk-container-id-2 div.sk-label:hover label.sk-toggleable__label {background-color: #d4ebff;}#sk-container-id-2 div.sk-serial::before {content: \"\";position: absolute;border-left: 1px solid gray;box-sizing: border-box;top: 0;bottom: 0;left: 50%;z-index: 0;}#sk-container-id-2 div.sk-serial {display: flex;flex-direction: column;align-items: center;background-color: white;padding-right: 0.2em;padding-left: 0.2em;position: relative;}#sk-container-id-2 div.sk-item {position: relative;z-index: 1;}#sk-container-id-2 div.sk-parallel {display: flex;align-items: stretch;justify-content: center;background-color: white;position: relative;}#sk-container-id-2 div.sk-item::before, #sk-container-id-2 div.sk-parallel-item::before {content: \"\";position: absolute;border-left: 1px solid gray;box-sizing: border-box;top: 0;bottom: 0;left: 50%;z-index: -1;}#sk-container-id-2 div.sk-parallel-item {display: flex;flex-direction: column;z-index: 1;position: relative;background-color: white;}#sk-container-id-2 div.sk-parallel-item:first-child::after {align-self: flex-end;width: 50%;}#sk-container-id-2 div.sk-parallel-item:last-child::after {align-self: flex-start;width: 50%;}#sk-container-id-2 div.sk-parallel-item:only-child::after {width: 0;}#sk-container-id-2 div.sk-dashed-wrapped {border: 1px dashed gray;margin: 0 0.4em 0.5em 0.4em;box-sizing: border-box;padding-bottom: 0.4em;background-color: white;}#sk-container-id-2 div.sk-label label {font-family: monospace;font-weight: bold;display: inline-block;line-height: 1.2em;}#sk-container-id-2 div.sk-label-container {text-align: center;}#sk-container-id-2 div.sk-container {/* jupyter's `normalize.less` sets `[hidden] { display: none; }` but bootstrap.min.css set `[hidden] { display: none !important; }` so we also need the `!important` here to be able to override the default hidden behavior on the sphinx rendered scikit-learn.org. See: https://github.com/scikit-learn/scikit-learn/issues/21755 */display: inline-block !important;position: relative;}#sk-container-id-2 div.sk-text-repr-fallback {display: none;}</style><div id=\"sk-container-id-2\" class=\"sk-top-container\"><div class=\"sk-text-repr-fallback\"><pre>LogisticRegression(max_iter=200)</pre><b>In a Jupyter environment, please rerun this cell to show the HTML representation or trust the notebook. <br />On GitHub, the HTML representation is unable to render, please try loading this page with nbviewer.org.</b></div><div class=\"sk-container\" hidden><div class=\"sk-item\"><div class=\"sk-estimator sk-toggleable\"><input class=\"sk-toggleable__control sk-hidden--visually\" id=\"sk-estimator-id-2\" type=\"checkbox\" checked><label for=\"sk-estimator-id-2\" class=\"sk-toggleable__label sk-toggleable__label-arrow\">LogisticRegression</label><div class=\"sk-toggleable__content\"><pre>LogisticRegression(max_iter=200)</pre></div></div></div></div></div>"
      ],
      "text/plain": [
       "LogisticRegression(max_iter=200)"
      ]
     },
     "execution_count": 44,
     "metadata": {},
     "output_type": "execute_result"
    }
   ],
   "source": [
    "# fit the model\n",
    "%time logreg.fit(X_train, y_train)"
   ]
  },
  {
   "cell_type": "code",
   "execution_count": 45,
   "metadata": {},
   "outputs": [
    {
     "data": {
      "text/plain": [
       "array([4, 4, 5, ..., 4, 4, 1])"
      ]
     },
     "execution_count": 45,
     "metadata": {},
     "output_type": "execute_result"
    }
   ],
   "source": [
    "# make class predictions\n",
    "logreg_pred = logreg.predict(X_test)\n",
    "logreg_pred"
   ]
  },
  {
   "cell_type": "code",
   "execution_count": 46,
   "metadata": {},
   "outputs": [
    {
     "name": "stdout",
     "output_type": "stream",
     "text": [
      "Test Accuracy: 91.3%\n"
     ]
    }
   ],
   "source": [
    "# calculate accuracy of class predictions\n",
    "print(f\"Test Accuracy: {accuracy_score(y_test, logreg_pred) * 100:.1f}%\")"
   ]
  },
  {
   "cell_type": "code",
   "execution_count": 47,
   "metadata": {},
   "outputs": [
    {
     "name": "stdout",
     "output_type": "stream",
     "text": [
      "              precision    recall  f1-score   support\n",
      "\n",
      "           1       0.99      1.00      1.00       624\n",
      "           2       0.93      0.98      0.96       643\n",
      "           3       0.87      0.74      0.80       656\n",
      "           4       0.87      0.91      0.89       625\n",
      "           5       0.90      0.94      0.92       626\n",
      "\n",
      "    accuracy                           0.91      3174\n",
      "   macro avg       0.91      0.91      0.91      3174\n",
      "weighted avg       0.91      0.91      0.91      3174\n",
      "\n"
     ]
    }
   ],
   "source": [
    "# calculate precision and recall\n",
    "print(classification_report(y_test, logreg_pred))"
   ]
  },
  {
   "cell_type": "code",
   "execution_count": 48,
   "metadata": {},
   "outputs": [
    {
     "name": "stdout",
     "output_type": "stream",
     "text": [
      "[[624   0   0   0   0]\n",
      " [  2 633   7   1   0]\n",
      " [  1  40 483  79  53]\n",
      " [  0   5  41 568  11]\n",
      " [  1   4  26   4 591]]\n"
     ]
    }
   ],
   "source": [
    "# calculate the confusion matrix\n",
    "print(confusion_matrix(y_test, logreg_pred))"
   ]
  },
  {
   "cell_type": "code",
   "execution_count": 49,
   "metadata": {},
   "outputs": [
    {
     "data": {
      "image/png": "[encoded data removed]",
      "text/plain": [
       "<Figure size 600x400 with 2 Axes>"
      ]
     },
     "metadata": {},
     "output_type": "display_data"
    }
   ],
   "source": [
    "# plot confusion matrix\n",
    "plt.figure(figsize=(6, 4))\n",
    "sns.heatmap(confusion_matrix(y_test, logreg_pred), annot=True, fmt='d', cmap='Blues')\n",
    "plt.xlabel('Predicted')\n",
    "plt.ylabel('Actual')\n",
    "plt.title('Confusion Matrix for Logistic Regression')\n",
    "plt.show()"
   ]
  },
  {
   "cell_type": "code",
   "execution_count": 50,
   "metadata": {},
   "outputs": [
    {
     "name": "stdout",
     "output_type": "stream",
     "text": [
      "Training Accuracy: 97.4%\n"
     ]
    }
   ],
   "source": [
    "# test for overfitting\n",
    "logreg_pred_train = logreg.predict(X_train)\n",
    "print(f\"Training Accuracy: {accuracy_score(y_train, logreg_pred_train) * 100:.1f}%\")"
   ]
  },
  {
   "attachments": {},
   "cell_type": "markdown",
   "metadata": {},
   "source": [
    "### Support Vector Machine"
   ]
  },
  {
   "cell_type": "code",
   "execution_count": 51,
   "metadata": {},
   "outputs": [],
   "source": [
    "# Support Vector Machine model\n",
    "svm = SGDClassifier(max_iter=100, tol=None)"
   ]
  },
  {
   "cell_type": "code",
   "execution_count": 52,
   "metadata": {},
   "outputs": [
    {
     "name": "stdout",
     "output_type": "stream",
     "text": [
      "CPU times: user 5min 46s, sys: 2.45 s, total: 5min 49s\n",
      "Wall time: 5min 50s\n"
     ]
    },
    {
     "data": {
      "text/html": [
       "<style>#sk-container-id-3 {color: black;background-color: white;}#sk-container-id-3 pre{padding: 0;}#sk-container-id-3 div.sk-toggleable {background-color: white;}#sk-container-id-3 label.sk-toggleable__label {cursor: pointer;display: block;width: 100%;margin-bottom: 0;padding: 0.3em;box-sizing: border-box;text-align: center;}#sk-container-id-3 label.sk-toggleable__label-arrow:before {content: \"▸\";float: left;margin-right: 0.25em;color: #696969;}#sk-container-id-3 label.sk-toggleable__label-arrow:hover:before {color: black;}#sk-container-id-3 div.sk-estimator:hover label.sk-toggleable__label-arrow:before {color: black;}#sk-container-id-3 div.sk-toggleable__content {max-height: 0;max-width: 0;overflow: hidden;text-align: left;background-color: #f0f8ff;}#sk-container-id-3 div.sk-toggleable__content pre {margin: 0.2em;color: black;border-radius: 0.25em;background-color: #f0f8ff;}#sk-container-id-3 input.sk-toggleable__control:checked~div.sk-toggleable__content {max-height: 200px;max-width: 100%;overflow: auto;}#sk-container-id-3 input.sk-toggleable__control:checked~label.sk-toggleable__label-arrow:before {content: \"▾\";}#sk-container-id-3 div.sk-estimator input.sk-toggleable__control:checked~label.sk-toggleable__label {background-color: #d4ebff;}#sk-container-id-3 div.sk-label input.sk-toggleable__control:checked~label.sk-toggleable__label {background-color: #d4ebff;}#sk-container-id-3 input.sk-hidden--visually {border: 0;clip: rect(1px 1px 1px 1px);clip: rect(1px, 1px, 1px, 1px);height: 1px;margin: -1px;overflow: hidden;padding: 0;position: absolute;width: 1px;}#sk-container-id-3 div.sk-estimator {font-family: monospace;background-color: #f0f8ff;border: 1px dotted black;border-radius: 0.25em;box-sizing: border-box;margin-bottom: 0.5em;}#sk-container-id-3 div.sk-estimator:hover {background-color: #d4ebff;}#sk-container-id-3 div.sk-parallel-item::after {content: \"\";width: 100%;border-bottom: 1px solid gray;flex-grow: 1;}#sk-container-id-3 div.sk-label:hover label.sk-toggleable__label {background-color: #d4ebff;}#sk-container-id-3 div.sk-serial::before {content: \"\";position: absolute;border-left: 1px solid gray;box-sizing: border-box;top: 0;bottom: 0;left: 50%;z-index: 0;}#sk-container-id-3 div.sk-serial {display: flex;flex-direction: column;align-items: center;background-color: white;padding-right: 0.2em;padding-left: 0.2em;position: relative;}#sk-container-id-3 div.sk-item {position: relative;z-index: 1;}#sk-container-id-3 div.sk-parallel {display: flex;align-items: stretch;justify-content: center;background-color: white;position: relative;}#sk-container-id-3 div.sk-item::before, #sk-container-id-3 div.sk-parallel-item::before {content: \"\";position: absolute;border-left: 1px solid gray;box-sizing: border-box;top: 0;bottom: 0;left: 50%;z-index: -1;}#sk-container-id-3 div.sk-parallel-item {display: flex;flex-direction: column;z-index: 1;position: relative;background-color: white;}#sk-container-id-3 div.sk-parallel-item:first-child::after {align-self: flex-end;width: 50%;}#sk-container-id-3 div.sk-parallel-item:last-child::after {align-self: flex-start;width: 50%;}#sk-container-id-3 div.sk-parallel-item:only-child::after {width: 0;}#sk-container-id-3 div.sk-dashed-wrapped {border: 1px dashed gray;margin: 0 0.4em 0.5em 0.4em;box-sizing: border-box;padding-bottom: 0.4em;background-color: white;}#sk-container-id-3 div.sk-label label {font-family: monospace;font-weight: bold;display: inline-block;line-height: 1.2em;}#sk-container-id-3 div.sk-label-container {text-align: center;}#sk-container-id-3 div.sk-container {/* jupyter's `normalize.less` sets `[hidden] { display: none; }` but bootstrap.min.css set `[hidden] { display: none !important; }` so we also need the `!important` here to be able to override the default hidden behavior on the sphinx rendered scikit-learn.org. See: https://github.com/scikit-learn/scikit-learn/issues/21755 */display: inline-block !important;position: relative;}#sk-container-id-3 div.sk-text-repr-fallback {display: none;}</style><div id=\"sk-container-id-3\" class=\"sk-top-container\"><div class=\"sk-text-repr-fallback\"><pre>SGDClassifier(max_iter=100, tol=None)</pre><b>In a Jupyter environment, please rerun this cell to show the HTML representation or trust the notebook. <br />On GitHub, the HTML representation is unable to render, please try loading this page with nbviewer.org.</b></div><div class=\"sk-container\" hidden><div class=\"sk-item\"><div class=\"sk-estimator sk-toggleable\"><input class=\"sk-toggleable__control sk-hidden--visually\" id=\"sk-estimator-id-3\" type=\"checkbox\" checked><label for=\"sk-estimator-id-3\" class=\"sk-toggleable__label sk-toggleable__label-arrow\">SGDClassifier</label><div class=\"sk-toggleable__content\"><pre>SGDClassifier(max_iter=100, tol=None)</pre></div></div></div></div></div>"
      ],
      "text/plain": [
       "SGDClassifier(max_iter=100, tol=None)"
      ]
     },
     "execution_count": 52,
     "metadata": {},
     "output_type": "execute_result"
    }
   ],
   "source": [
    "# fit the model\n",
    "%time svm.fit(X_train, y_train)"
   ]
  },
  {
   "cell_type": "code",
   "execution_count": 53,
   "metadata": {},
   "outputs": [],
   "source": [
    "# make class predictions\n",
    "svm_pred = svm.predict(X_test)"
   ]
  },
  {
   "cell_type": "code",
   "execution_count": 54,
   "metadata": {},
   "outputs": [
    {
     "name": "stdout",
     "output_type": "stream",
     "text": [
      "Test Accuracy: 92.5%\n"
     ]
    }
   ],
   "source": [
    "# calculate accuracy of class predictions\n",
    "print(f\"Test Accuracy: {accuracy_score(y_test, svm_pred) * 100:.1f}%\")"
   ]
  },
  {
   "cell_type": "code",
   "execution_count": 55,
   "metadata": {},
   "outputs": [
    {
     "name": "stdout",
     "output_type": "stream",
     "text": [
      "              precision    recall  f1-score   support\n",
      "\n",
      "           1       0.99      1.00      1.00       624\n",
      "           2       0.95      1.00      0.97       643\n",
      "           3       0.94      0.71      0.81       656\n",
      "           4       0.86      0.95      0.90       625\n",
      "           5       0.90      0.98      0.94       626\n",
      "\n",
      "    accuracy                           0.92      3174\n",
      "   macro avg       0.93      0.93      0.92      3174\n",
      "weighted avg       0.93      0.92      0.92      3174\n",
      "\n"
     ]
    }
   ],
   "source": [
    "# calculate precision and recall\n",
    "print(classification_report(y_test, svm_pred))"
   ]
  },
  {
   "cell_type": "code",
   "execution_count": 56,
   "metadata": {},
   "outputs": [
    {
     "name": "stdout",
     "output_type": "stream",
     "text": [
      "[[624   0   0   0   0]\n",
      " [  2 640   0   1   0]\n",
      " [  2  34 463  97  60]\n",
      " [  0   0  24 593   8]\n",
      " [  2   1   7   1 615]]\n"
     ]
    }
   ],
   "source": [
    "# calculate the confusion matrix\n",
    "print(confusion_matrix(y_test, svm_pred))"
   ]
  },
  {
   "cell_type": "code",
   "execution_count": 57,
   "metadata": {},
   "outputs": [
    {
     "data": {
      "image/png": "[encoded data removed]",
      "text/plain": [
       "<Figure size 600x400 with 2 Axes>"
      ]
     },
     "metadata": {},
     "output_type": "display_data"
    }
   ],
   "source": [
    "# plot confusion matrix\n",
    "plt.figure(figsize=(6, 4))\n",
    "sns.heatmap(confusion_matrix(y_test, svm_pred), annot=True, fmt='d', cmap='Blues')\n",
    "plt.xlabel('Predicted')\n",
    "plt.ylabel('Actual')\n",
    "plt.title('Confusion Matrix for SVM')\n",
    "plt.show()"
   ]
  },
  {
   "cell_type": "code",
   "execution_count": 58,
   "metadata": {},
   "outputs": [
    {
     "name": "stdout",
     "output_type": "stream",
     "text": [
      "Training Accuracy: 98.3%\n"
     ]
    }
   ],
   "source": [
    "# test for overfitting\n",
    "svm_pred_train = svm.predict(X_train)\n",
    "print(f\"Training Accuracy: {accuracy_score(y_train, svm_pred_train) * 100:.1f}%\")"
   ]
  },
  {
   "cell_type": "code",
   "execution_count": 59,
   "metadata": {},
   "outputs": [
    {
     "name": "stdout",
     "output_type": "stream",
     "text": [
      "Multinomial Naive Bayes Test Accuracy: 85.4%\n",
      "Logistic Regression Test Accuracy: 91.3%\n",
      "SVM Test Accuracy: 92.5%\n"
     ]
    }
   ],
   "source": [
    "# compare the models\n",
    "print(f\"Multinomial Naive Bayes Test Accuracy: {accuracy_score(y_test, mnb_pred) * 100:.1f}%\")\n",
    "print(f\"Logistic Regression Test Accuracy: {accuracy_score(y_test, logreg_pred) * 100:.1f}%\")\n",
    "print(f\"SVM Test Accuracy: {accuracy_score(y_test, svm_pred) * 100:.1f}%\")"
   ]
  },
  {
   "attachments": {},
   "cell_type": "markdown",
   "metadata": {},
   "source": [
    "Based on the result of the three models, I choose the SVM model to predict the sentiment of the news articles."
   ]
  },
  {
   "attachments": {},
   "cell_type": "markdown",
   "metadata": {},
   "source": [
    "## Predict Sentiment of News Articles"
   ]
  },
  {
   "cell_type": "code",
   "execution_count": 60,
   "metadata": {},
   "outputs": [],
   "source": [
    "# convert lemmatized tokens back to string\n",
    "news_lemmatized_str = df_news['text_lemmatized'].apply(lambda x: ' '.join(x))\n",
    "\n",
    "# vectorize the text using tfidf\n",
    "news_vec = tfidf.transform(news_lemmatized_str)"
   ]
  },
  {
   "cell_type": "code",
   "execution_count": 61,
   "metadata": {},
   "outputs": [
    {
     "data": {
      "text/plain": [
       "(154283, 32686)"
      ]
     },
     "execution_count": 61,
     "metadata": {},
     "output_type": "execute_result"
    }
   ],
   "source": [
    "news_vec.toarray().shape"
   ]
  },
  {
   "cell_type": "code",
   "execution_count": 62,
   "metadata": {},
   "outputs": [
    {
     "data": {
      "text/plain": [
       "array([5, 4, 5, 3, 2, 3, 5, 5, 5, 2])"
      ]
     },
     "execution_count": 62,
     "metadata": {},
     "output_type": "execute_result"
    }
   ],
   "source": [
    "# make predictions\n",
    "news_pred = svm.predict(news_vec)\n",
    "news_pred[:10]"
   ]
  },
  {
   "cell_type": "code",
   "execution_count": 63,
   "metadata": {},
   "outputs": [
    {
     "data": {
      "text/html": [
       "<div>\n",
       "<style scoped>\n",
       "    .dataframe tbody tr th:only-of-type {\n",
       "        vertical-align: middle;\n",
       "    }\n",
       "\n",
       "    .dataframe tbody tr th {\n",
       "        vertical-align: top;\n",
       "    }\n",
       "\n",
       "    .dataframe thead th {\n",
       "        text-align: right;\n",
       "    }\n",
       "</style>\n",
       "<table border=\"1\" class=\"dataframe\">\n",
       "  <thead>\n",
       "    <tr style=\"text-align: right;\">\n",
       "      <th></th>\n",
       "      <th>id</th>\n",
       "      <th>date</th>\n",
       "      <th>cleaned title</th>\n",
       "      <th>cleaned text</th>\n",
       "      <th>title_tokens</th>\n",
       "      <th>title_lemmatized</th>\n",
       "      <th>text_tokens</th>\n",
       "      <th>text_lemmatized</th>\n",
       "      <th>title_keywords</th>\n",
       "      <th>text_keywords</th>\n",
       "      <th>sentiment</th>\n",
       "    </tr>\n",
       "  </thead>\n",
       "  <tbody>\n",
       "    <tr>\n",
       "      <th>0</th>\n",
       "      <td>1</td>\n",
       "      <td>2020-02-27</td>\n",
       "      <td>Children With Autism Saw Their Learning and Social Skills Boosted After Playing With This AI Robot</td>\n",
       "      <td>Children With Autism Saw Their Learning and Social Skills Boosted After Playing With This AI Robot admin  Latest posts by admin see all  Mansplaining in conferences: How can we get him to forestall  February 27, 2020 Coronavirus Could Explode in the U.S. Overnight Like it Did in Italy  February 27, 2020 Levi Strauss marks the next phase in corporate paid leave policies  February 27, 2020 Scientists who designed an artificially clever robotic that helped youngsters with autism spice up their ...</td>\n",
       "      <td>[children, autism, saw, learning, social, skills, boosted, playing, ai, robot, children, autism, saw, learning, social, skills, boosted, playing, ai, robot, children, autism, saw, learning, social, skills, boosted, playing, ai_robot]</td>\n",
       "      <td>[child, autism, see, learn, social, skill, boost, play, robot, child, autism, see, learn, social, skill, boost, play, robot, child, autism, see, learn, social, skill, boost, play, ai_robot]</td>\n",
       "      <td>[children, autism, saw, learning, social, skills, boosted, playing, ai, robot, admin, latest, posts, admin, see, mansplaining, conferences, get, forestall, february, coronavirus, could, explode, overnight, like, italy, february, levi, strauss, marks, next, phase, corporate, paid, leave, policies, february, scientists, designed, artificially, clever, robotic, helped, youngsters, autism, spice, studying, social, talents, hope, era, may, future, help, others, developmental, dysfunction, learn, ...</td>\n",
       "      <td>[child, autism, see, learn, social, skill, boost, play, robot, late, post, admin, see, mansplaining, conference, get, explode, overnight, mark, next, phase, corporate, pay, leave, policy, scientist, design, artificially, clever, robotic, help, youngster, autism, spice, study, social, talent, era, future, help, other, developmental, dysfunction, learn, notice, youngster, gentle, average, autism, take, domestic, s, refer, socially, assistive, robotic, name, kiwi, month, accord, commentary, way...</td>\n",
       "      <td>[social, skill, see, play, learn, child, boost, autism, robot, ai_robot]</td>\n",
       "      <td>[robotic, youngster, kid, child, kiwi, market, autism, learn, crew, talent]</td>\n",
       "      <td>5</td>\n",
       "    </tr>\n",
       "    <tr>\n",
       "      <th>1</th>\n",
       "      <td>2</td>\n",
       "      <td>2021-03-26</td>\n",
       "      <td>Forget ML, AI and Industry 4.0 – obsolescence should be your focus</td>\n",
       "      <td>Forget ML, AI and Industry 4.0  obsolescence should be your focus The world entered a new era of accelerated transformation in the last eighteen months that will continue to evolve and press forward for years to come. Most businesses are playing catchup trying to make sense of a new timeline where the ten years that had been set aside for careful planning and implementation of what was coming up next no longer exists. The next is happening now and, regardless of your industry or seniority, t...</td>\n",
       "      <td>[forget, ml, ai, industry, obsolescence, focus, forget, ml, ai, industry, obsolescence, focus, forget, ml, ai, industry, obsolescence, focus]</td>\n",
       "      <td>[forget, ml, ai, industry, obsolescence, focus, forget, ml, ai, industry, obsolescence, focus, forget, ml, ai, industry, obsolescence, focus]</td>\n",
       "      <td>[forget, ml, ai, industry, obsolescence, focus, world, entered, new, era, accelerated, transformation, last, eighteen, months, continue, evolve, press, forward, years, come, businesses, playing, catchup, trying, make, sense, new, timeline, ten, years, set, aside, careful, planning, implementation, coming, next, longer, exists, next, happening, regardless, industry, seniority, status, quo, shifted, better, face, back, invited, attend, pompous, meeting, london, brazilian, embassy, along, selec...</td>\n",
       "      <td>[forget, ai, industry, obsolescence, focus, world, enter, new, era, accelerate, transformation, last, month, continue, evolve, press, forward, year, come, business, play, catchup, try, make, sense, new, timeline, year, set, aside, careful, planning, implementation, come, next, long, exist, next, happen, regardless, industry, seniority, status, quo, shift, well, face, back, invite, attend, pompous, meeting, brazilian, embassy, select, lead, name, oil, energy, industry, get, update, go, happen...</td>\n",
       "      <td>[obsolescence, ml, industry, forget, focus, ai]</td>\n",
       "      <td>[electronic, come, card, industry, repair, new, system, require, test, business]</td>\n",
       "      <td>4</td>\n",
       "    </tr>\n",
       "  </tbody>\n",
       "</table>\n",
       "</div>"
      ],
      "text/plain": [
       "   id        date   \n",
       "0   1  2020-02-27  \\\n",
       "1   2  2021-03-26   \n",
       "\n",
       "                                                                                        cleaned title   \n",
       "0  Children With Autism Saw Their Learning and Social Skills Boosted After Playing With This AI Robot  \\\n",
       "1                                  Forget ML, AI and Industry 4.0 – obsolescence should be your focus   \n",
       "\n",
       "                                                                                                                                                                                                                                                                                                                                                                                                                                                                                                          cleaned text   \n",
       "0  Children With Autism Saw Their Learning and Social Skills Boosted After Playing With This AI Robot admin  Latest posts by admin see all  Mansplaining in conferences: How can we get him to forestall  February 27, 2020 Coronavirus Could Explode in the U.S. Overnight Like it Did in Italy  February 27, 2020 Levi Strauss marks the next phase in corporate paid leave policies  February 27, 2020 Scientists who designed an artificially clever robotic that helped youngsters with autism spice up their ...  \\\n",
       "1  Forget ML, AI and Industry 4.0  obsolescence should be your focus The world entered a new era of accelerated transformation in the last eighteen months that will continue to evolve and press forward for years to come. Most businesses are playing catchup trying to make sense of a new timeline where the ten years that had been set aside for careful planning and implementation of what was coming up next no longer exists. The next is happening now and, regardless of your industry or seniority, t...   \n",
       "\n",
       "                                                                                                                                                                                                                                title_tokens   \n",
       "0  [children, autism, saw, learning, social, skills, boosted, playing, ai, robot, children, autism, saw, learning, social, skills, boosted, playing, ai, robot, children, autism, saw, learning, social, skills, boosted, playing, ai_robot]  \\\n",
       "1                                                                                              [forget, ml, ai, industry, obsolescence, focus, forget, ml, ai, industry, obsolescence, focus, forget, ml, ai, industry, obsolescence, focus]   \n",
       "\n",
       "                                                                                                                                                                                title_lemmatized   \n",
       "0  [child, autism, see, learn, social, skill, boost, play, robot, child, autism, see, learn, social, skill, boost, play, robot, child, autism, see, learn, social, skill, boost, play, ai_robot]  \\\n",
       "1                                                  [forget, ml, ai, industry, obsolescence, focus, forget, ml, ai, industry, obsolescence, focus, forget, ml, ai, industry, obsolescence, focus]   \n",
       "\n",
       "                                                                                                                                                                                                                                                                                                                                                                                                                                                                                                           text_tokens   \n",
       "0  [children, autism, saw, learning, social, skills, boosted, playing, ai, robot, admin, latest, posts, admin, see, mansplaining, conferences, get, forestall, february, coronavirus, could, explode, overnight, like, italy, february, levi, strauss, marks, next, phase, corporate, paid, leave, policies, february, scientists, designed, artificially, clever, robotic, helped, youngsters, autism, spice, studying, social, talents, hope, era, may, future, help, others, developmental, dysfunction, learn, ...  \\\n",
       "1  [forget, ml, ai, industry, obsolescence, focus, world, entered, new, era, accelerated, transformation, last, eighteen, months, continue, evolve, press, forward, years, come, businesses, playing, catchup, trying, make, sense, new, timeline, ten, years, set, aside, careful, planning, implementation, coming, next, longer, exists, next, happening, regardless, industry, seniority, status, quo, shifted, better, face, back, invited, attend, pompous, meeting, london, brazilian, embassy, along, selec...   \n",
       "\n",
       "                                                                                                                                                                                                                                                                                                                                                                                                                                                                                                       text_lemmatized   \n",
       "0  [child, autism, see, learn, social, skill, boost, play, robot, late, post, admin, see, mansplaining, conference, get, explode, overnight, mark, next, phase, corporate, pay, leave, policy, scientist, design, artificially, clever, robotic, help, youngster, autism, spice, study, social, talent, era, future, help, other, developmental, dysfunction, learn, notice, youngster, gentle, average, autism, take, domestic, s, refer, socially, assistive, robotic, name, kiwi, month, accord, commentary, way...  \\\n",
       "1  [forget, ai, industry, obsolescence, focus, world, enter, new, era, accelerate, transformation, last, month, continue, evolve, press, forward, year, come, business, play, catchup, try, make, sense, new, timeline, year, set, aside, careful, planning, implementation, come, next, long, exist, next, happen, regardless, industry, seniority, status, quo, shift, well, face, back, invite, attend, pompous, meeting, brazilian, embassy, select, lead, name, oil, energy, industry, get, update, go, happen...   \n",
       "\n",
       "                                                             title_keywords   \n",
       "0  [social, skill, see, play, learn, child, boost, autism, robot, ai_robot]  \\\n",
       "1                           [obsolescence, ml, industry, forget, focus, ai]   \n",
       "\n",
       "                                                                      text_keywords   \n",
       "0       [robotic, youngster, kid, child, kiwi, market, autism, learn, crew, talent]  \\\n",
       "1  [electronic, come, card, industry, repair, new, system, require, test, business]   \n",
       "\n",
       "   sentiment  \n",
       "0          5  \n",
       "1          4  "
      ]
     },
     "execution_count": 63,
     "metadata": {},
     "output_type": "execute_result"
    }
   ],
   "source": [
    "# add predictions to the dataframe\n",
    "df_news['sentiment'] = news_pred\n",
    "df_news.head(2)"
   ]
  },
  {
   "cell_type": "code",
   "execution_count": 64,
   "metadata": {},
   "outputs": [
    {
     "data": {
      "image/png": "[encoded data removed]",
      "text/plain": [
       "<Figure size 600x400 with 1 Axes>"
      ]
     },
     "metadata": {},
     "output_type": "display_data"
    }
   ],
   "source": [
    "# plot the sentiment distribution\n",
    "sns.set_style('whitegrid')\n",
    "plt.figure(figsize=(6, 4))\n",
    "sns.countplot(x='sentiment', data=df_news, palette='viridis')\n",
    "plt.title('Sentiment Distribution')\n",
    "plt.show()"
   ]
  },
  {
   "attachments": {},
   "cell_type": "markdown",
   "metadata": {},
   "source": [
    "### Show the prediction result"
   ]
  },
  {
   "cell_type": "code",
   "execution_count": 84,
   "metadata": {},
   "outputs": [
    {
     "data": {
      "text/html": [
       "\n",
       "    <style>\n",
       "    table.eli5-weights tr:hover {\n",
       "        filter: brightness(85%);\n",
       "    }\n",
       "</style>\n",
       "\n",
       "\n",
       "\n",
       "    \n",
       "\n",
       "    \n",
       "\n",
       "    \n",
       "\n",
       "    \n",
       "\n",
       "    \n",
       "\n",
       "    \n",
       "\n",
       "\n",
       "    \n",
       "\n",
       "    \n",
       "\n",
       "    \n",
       "\n",
       "    \n",
       "        \n",
       "\n",
       "    \n",
       "\n",
       "        \n",
       "\n",
       "        \n",
       "    \n",
       "        \n",
       "        \n",
       "    \n",
       "        <p style=\"margin-bottom: 0.5em; margin-top: 0em\">\n",
       "            <b>\n",
       "    \n",
       "        y=5\n",
       "    \n",
       "</b>\n",
       "\n",
       "    \n",
       "    (score <b>-0.344</b>)\n",
       "\n",
       "top features\n",
       "        </p>\n",
       "    \n",
       "    <table class=\"eli5-weights\"\n",
       "           style=\"border-collapse: collapse; border: none; margin-top: 0em; table-layout: auto; margin-bottom: 2em;\">\n",
       "        <thead>\n",
       "        <tr style=\"border: none;\">\n",
       "            \n",
       "                <th style=\"padding: 0 1em 0 0.5em; text-align: right; border: none;\" title=\"Feature contribution already accounts for the feature value (for linear models, contribution = weight * feature value), and the sum of feature contributions is equal to the score or, for some classifiers, to the probability. Feature values are shown if &quot;show_feature_values&quot; is True.\">\n",
       "                    Contribution<sup>?</sup>\n",
       "                </th>\n",
       "            \n",
       "            <th style=\"padding: 0 0.5em 0 0.5em; text-align: left; border: none;\">Feature</th>\n",
       "            \n",
       "        </tr>\n",
       "        </thead>\n",
       "        <tbody>\n",
       "        \n",
       "            <tr style=\"background-color: hsl(120, 100.00%, 83.90%); border: none;\">\n",
       "    <td style=\"padding: 0 1em 0 0.5em; text-align: right; border: none;\">\n",
       "        +0.787\n",
       "    </td>\n",
       "    <td style=\"padding: 0 0.5em 0 0.5em; text-align: left; border: none;\">\n",
       "        Highlighted in text (sum)\n",
       "    </td>\n",
       "    \n",
       "</tr>\n",
       "        \n",
       "        \n",
       "            <tr style=\"background-color: hsl(120, 100.00%, 83.90%); border: none;\">\n",
       "                <td colspan=\"2\" style=\"padding: 0 0.5em 0 0.5em; text-align: center; border: none; white-space: nowrap;\">\n",
       "                    <i>&hellip; 194 more positive &hellip;</i>\n",
       "                </td>\n",
       "            </tr>\n",
       "        \n",
       "\n",
       "        \n",
       "            <tr style=\"background-color: hsl(0, 100.00%, 80.00%); border: none;\">\n",
       "                <td colspan=\"2\" style=\"padding: 0 0.5em 0 0.5em; text-align: center; border: none; white-space: nowrap;\">\n",
       "                    <i>&hellip; 242 more negative &hellip;</i>\n",
       "                </td>\n",
       "            </tr>\n",
       "        \n",
       "        \n",
       "            <tr style=\"background-color: hsl(0, 100.00%, 80.00%); border: none;\">\n",
       "    <td style=\"padding: 0 1em 0 0.5em; text-align: right; border: none;\">\n",
       "        -1.072\n",
       "    </td>\n",
       "    <td style=\"padding: 0 0.5em 0 0.5em; text-align: left; border: none;\">\n",
       "        &lt;BIAS&gt;\n",
       "    </td>\n",
       "    \n",
       "</tr>\n",
       "        \n",
       "\n",
       "        </tbody>\n",
       "    </table>\n",
       "\n",
       "    \n",
       "\n",
       "\n",
       "\n",
       "    <p style=\"margin-bottom: 2.5em; margin-top:-0.5em;\">\n",
       "        <span style=\"opacity: 0.80\">forget ai </span><span style=\"background-color: hsl(120, 100.00%, 86.83%); opacity: 0.84\" title=\"0.004\">industry</span><span style=\"opacity: 0.80\"> obsolescence focus world enter </span><span style=\"background-color: hsl(120, 100.00%, 83.02%); opacity: 0.86\" title=\"0.006\">new</span><span style=\"opacity: 0.80\"> era accelerate transformation last month continue evolve press forward year come </span><span style=\"background-color: hsl(120, 100.00%, 88.72%); opacity: 0.83\" title=\"0.003\">business</span><span style=\"opacity: 0.80\"> play catchup try make sense </span><span style=\"background-color: hsl(120, 100.00%, 83.02%); opacity: 0.86\" title=\"0.006\">new</span><span style=\"opacity: 0.80\"> timeline year </span><span style=\"background-color: hsl(0, 100.00%, 81.83%); opacity: 0.86\" title=\"-0.007\">set</span><span style=\"opacity: 0.80\"> aside careful planning implementation come next long exist next </span><span style=\"background-color: hsl(0, 100.00%, 71.78%); opacity: 0.92\" title=\"-0.012\">happen</span><span style=\"opacity: 0.80\"> regardless </span><span style=\"background-color: hsl(120, 100.00%, 86.83%); opacity: 0.84\" title=\"0.004\">industry</span><span style=\"opacity: 0.80\"> seniority status quo shift well face back invite attend pompous meeting brazilian embassy select lead name oil energy </span><span style=\"background-color: hsl(120, 100.00%, 86.83%); opacity: 0.84\" title=\"0.004\">industry</span><span style=\"opacity: 0.80\"> get update go </span><span style=\"background-color: hsl(0, 100.00%, 71.78%); opacity: 0.92\" title=\"-0.012\">happen</span><span style=\"opacity: 0.80\"> </span><span style=\"background-color: hsl(0, 100.00%, 73.61%); opacity: 0.91\" title=\"-0.011\">follow</span><span style=\"opacity: 0.80\"> decade soon spot buzzword come powerpoint slide different company present decommission decarbonisation emission transition green energy morning afternoon hear change kick pointing </span><span style=\"background-color: hsl(120, 100.00%, 88.72%); opacity: 0.83\" title=\"0.003\">business</span><span style=\"opacity: 0.80\"> explicitly conclude current income stream need provide capital require transition take place due course talk energy </span><span style=\"background-color: hsl(120, 100.00%, 86.83%); opacity: 0.84\" title=\"0.004\">industry</span><span style=\"opacity: 0.80\"> tell forget timeline change come transition </span><span style=\"background-color: hsl(0, 100.00%, 71.78%); opacity: 0.92\" title=\"-0.012\">happen</span><span style=\"opacity: 0.80\"> much fast anticipate big </span><span style=\"background-color: hsl(120, 100.00%, 88.72%); opacity: 0.83\" title=\"0.003\">business</span><span style=\"opacity: 0.80\"> scramble </span><span style=\"background-color: hsl(120, 100.00%, 84.47%); opacity: 0.85\" title=\"0.005\">find</span><span style=\"opacity: 0.80\"> capital fund require go day talk pandemic impact market demand consumer behaviour mess timeline transport automotive defence manufacture instance carrier plane due retired require remain service least project wind power </span><span style=\"background-color: hsl(0, 100.00%, 76.78%); opacity: 0.89\" title=\"-0.009\">involve</span><span style=\"opacity: 0.80\"> upgrade wind farm scrap </span><span style=\"background-color: hsl(120, 100.00%, 83.02%); opacity: 0.86\" title=\"0.006\">new</span><span style=\"opacity: 0.80\"> installation draw huge competition come brand operator tend favour small turbine efficient </span><span style=\"background-color: hsl(120, 100.00%, 75.31%); opacity: 0.90\" title=\"0.010\">cheap</span><span style=\"opacity: 0.80\"> run choose buy multiple </span><span style=\"background-color: hsl(0, 100.00%, 77.07%); opacity: 0.89\" title=\"-0.009\">supplier</span><span style=\"opacity: 0.80\"> instead company machine learn ml ai </span><span style=\"background-color: hsl(120, 100.00%, 86.83%); opacity: 0.84\" title=\"0.004\">industry</span><span style=\"opacity: 0.80\"> knock door still big change yet fully appreciate </span><span style=\"background-color: hsl(120, 100.00%, 88.72%); opacity: 0.83\" title=\"0.003\">business</span><span style=\"opacity: 0.80\"> leader </span><span style=\"background-color: hsl(120, 100.00%, 83.32%); opacity: 0.86\" title=\"0.006\">electronic</span><span style=\"opacity: 0.80\"> effectively become brain industrial asset infrastructure equipment operation recent year therefore require deal breakdown instance lose count many rail connection work operation </span><span style=\"background-color: hsl(0, 100.00%, 81.10%); opacity: 0.87\" title=\"-0.007\">maintenance</span><span style=\"opacity: 0.80\"> struggle cme chief mechanical engineer role suggest usually individual less </span><span style=\"background-color: hsl(120, 100.00%, 78.61%); opacity: 0.88\" title=\"0.008\">ideal</span><span style=\"opacity: 0.80\"> approach come handle </span><span style=\"background-color: hsl(120, 100.00%, 83.32%); opacity: 0.86\" title=\"0.006\">electronic</span><span style=\"opacity: 0.80\"> failure guess right less </span><span style=\"background-color: hsl(120, 100.00%, 78.61%); opacity: 0.88\" title=\"0.008\">ideal</span><span style=\"opacity: 0.80\"> mean green </span><span style=\"background-color: hsl(120, 100.00%, 75.31%); opacity: 0.90\" title=\"0.010\">cheap</span><span style=\"opacity: 0.80\"> solution illustrate video www dataweek co many decisionmaker realise problem hand regret </span><span style=\"background-color: hsl(0, 100.00%, 73.61%); opacity: 0.91\" title=\"-0.011\">follow</span><span style=\"opacity: 0.80\"> tag repairdontwaste linkedin time result comment anticipate equipment become obsolete quickly spare circuit board start take week month tell long supply quote sevenfigure price upgrade assembly line defer responsibility original equipment </span><span style=\"background-color: hsl(0, 100.00%, 77.07%); opacity: 0.89\" title=\"-0.009\">supplier</span><span style=\"opacity: 0.80\"> third party bind catch guard soon later risk exposure insist </span><span style=\"background-color: hsl(120, 100.00%, 72.13%); opacity: 0.92\" title=\"0.012\">strategy</span><span style=\"opacity: 0.80\"> get exponentially high widespread </span><span style=\"background-color: hsl(0, 100.00%, 81.45%); opacity: 0.87\" title=\"-0.007\">component</span><span style=\"opacity: 0.80\"> shortage increase lead technology provider drop support many </span><span style=\"background-color: hsl(120, 100.00%, 75.75%); opacity: 0.90\" title=\"0.010\">product</span><span style=\"opacity: 0.80\"> order remain viable last month wind multinational ship bunch expensive controller </span><span style=\"background-color: hsl(120, 100.00%, 88.06%); opacity: 0.84\" title=\"0.004\">card</span><span style=\"opacity: 0.80\"> use inverter speed govern system workshop repair </span><span style=\"background-color: hsl(120, 100.00%, 83.02%); opacity: 0.86\" title=\"0.006\">new</span><span style=\"opacity: 0.80\"> </span><span style=\"background-color: hsl(120, 100.00%, 64.24%); opacity: 0.97\" title=\"0.017\">replacement</span><span style=\"opacity: 0.80\"> </span><span style=\"background-color: hsl(120, 100.00%, 88.06%); opacity: 0.84\" title=\"0.004\">card</span><span style=\"opacity: 0.80\"> due back stock month good job local team </span><span style=\"background-color: hsl(120, 100.00%, 83.32%); opacity: 0.86\" title=\"0.006\">electronic</span><span style=\"opacity: 0.80\"> diagnostic equipment boardmaster shop ready help technician locate repair </span><span style=\"background-color: hsl(120, 100.00%, 88.06%); opacity: 0.84\" title=\"0.004\">card</span><span style=\"opacity: 0.80\"> </span><span style=\"background-color: hsl(0, 100.00%, 71.78%); opacity: 0.92\" title=\"-0.012\">happen</span><span style=\"opacity: 0.80\"> record time poor decisionmaking come </span><span style=\"background-color: hsl(0, 100.00%, 81.83%); opacity: 0.86\" title=\"-0.007\">set</span><span style=\"opacity: 0.80\"> </span><span style=\"background-color: hsl(0, 100.00%, 81.10%); opacity: 0.87\" title=\"-0.007\">maintenance</span><span style=\"opacity: 0.80\"> repair </span><span style=\"background-color: hsl(120, 100.00%, 72.13%); opacity: 0.92\" title=\"0.012\">strategy</span><span style=\"opacity: 0.80\"> often link fake news </span><span style=\"background-color: hsl(120, 100.00%, 65.98%); opacity: 0.96\" title=\"0.016\">myth</span><span style=\"opacity: 0.80\"> repair </span><span style=\"background-color: hsl(120, 100.00%, 83.32%); opacity: 0.86\" title=\"0.006\">electronic</span><span style=\"opacity: 0.80\"> </span><span style=\"background-color: hsl(120, 100.00%, 88.06%); opacity: 0.84\" title=\"0.004\">card</span><span style=\"opacity: 0.80\"> pcbpcba never good </span><span style=\"background-color: hsl(120, 100.00%, 83.02%); opacity: 0.86\" title=\"0.006\">new</span><span style=\"opacity: 0.80\"> manufacturer tell special software require troubleshoot </span><span style=\"background-color: hsl(120, 100.00%, 88.06%); opacity: 0.84\" title=\"0.004\">card</span><span style=\"opacity: 0.80\"> troubleshooting </span><span style=\"background-color: hsl(0, 100.00%, 81.45%); opacity: 0.87\" title=\"-0.007\">component</span><span style=\"opacity: 0.80\"> level impossible take long dedicated </span><span style=\"background-color: hsl(0, 100.00%, 85.27%); opacity: 0.85\" title=\"-0.005\">test</span><span style=\"opacity: 0.80\"> repair equipment prohibitively expensive mentality need change fast long take embrace </span><span style=\"background-color: hsl(120, 100.00%, 83.02%); opacity: 0.86\" title=\"0.006\">new</span><span style=\"opacity: 0.80\"> </span><span style=\"background-color: hsl(120, 100.00%, 72.13%); opacity: 0.92\" title=\"0.012\">strategy</span><span style=\"opacity: 0.80\"> inhouse </span><span style=\"background-color: hsl(120, 100.00%, 77.49%); opacity: 0.89\" title=\"0.009\">fault</span><span style=\"opacity: 0.80\"> analysis </span><span style=\"background-color: hsl(0, 100.00%, 81.10%); opacity: 0.87\" title=\"-0.007\">maintenance</span><span style=\"opacity: 0.80\"> obsolescence plan </span><span style=\"background-color: hsl(0, 100.00%, 78.46%); opacity: 0.88\" title=\"-0.008\">key</span><span style=\"opacity: 0.80\"> </span><span style=\"background-color: hsl(120, 100.00%, 83.32%); opacity: 0.86\" title=\"0.006\">electronic</span><span style=\"opacity: 0.80\"> circuit asset expensive get keep go hundred lead organisation </span><span style=\"background-color: hsl(120, 100.00%, 84.47%); opacity: 0.85\" title=\"0.005\">find</span><span style=\"opacity: 0.80\"> recent year belief </span><span style=\"background-color: hsl(120, 100.00%, 65.98%); opacity: 0.96\" title=\"0.016\">myth</span><span style=\"opacity: 0.80\"> hinder result compromise operation renewable aerospace latter reduce troubleshooting time avionic circuit </span><span style=\"background-color: hsl(120, 100.00%, 88.06%); opacity: 0.84\" title=\"0.004\">card</span><span style=\"opacity: 0.80\"> hour minute </span><span style=\"background-color: hsl(120, 100.00%, 88.06%); opacity: 0.84\" title=\"0.004\">card</span><span style=\"opacity: 0.80\"> plastic moulding machine worth ten thousand dollar map repair inhouse engineer </span><span style=\"background-color: hsl(120, 100.00%, 74.70%); opacity: 0.90\" title=\"0.010\">save</span><span style=\"opacity: 0.80\"> mobile shelter unit worth dollar decommission repair deem irreparable rail arena company bombardi operator irish rail sfmta tcdd many other discover benefit invest right tool skill development programme shield </span><span style=\"background-color: hsl(120, 100.00%, 88.72%); opacity: 0.83\" title=\"0.003\">business</span><span style=\"opacity: 0.80\"> part shortage accelerate obsolescence story technology drive several global sustainability project subject youtube series call give indepth review </span><span style=\"background-color: hsl(0, 100.00%, 78.46%); opacity: 0.88\" title=\"-0.008\">key</span><span style=\"opacity: 0.80\"> </span><span style=\"background-color: hsl(0, 100.00%, 85.27%); opacity: 0.85\" title=\"-0.005\">test</span><span style=\"opacity: 0.80\"> technique available boardmaster hardware software platform abi </span><span style=\"background-color: hsl(120, 100.00%, 83.32%); opacity: 0.86\" title=\"0.006\">electronic</span><span style=\"opacity: 0.80\"> handle predictive well corrective </span><span style=\"background-color: hsl(0, 100.00%, 81.10%); opacity: 0.87\" title=\"-0.007\">maintenance</span><span style=\"opacity: 0.80\"> critical </span><span style=\"background-color: hsl(120, 100.00%, 83.32%); opacity: 0.86\" title=\"0.006\">electronic</span><span style=\"opacity: 0.80\"> waste time money boardmaster inch rack universal diagnostic system uniquely versatile selfcontaine easytouse </span><span style=\"background-color: hsl(0, 100.00%, 85.27%); opacity: 0.85\" title=\"-0.005\">test</span><span style=\"opacity: 0.80\"> system offer comprehensive </span><span style=\"background-color: hsl(0, 100.00%, 81.83%); opacity: 0.86\" title=\"-0.007\">set</span><span style=\"opacity: 0.80\"> </span><span style=\"background-color: hsl(0, 100.00%, 85.27%); opacity: 0.85\" title=\"-0.005\">test</span><span style=\"opacity: 0.80\"> instrument faultfinde almost kind pcb </span><span style=\"background-color: hsl(120, 100.00%, 75.75%); opacity: 0.90\" title=\"0.010\">product</span><span style=\"opacity: 0.80\"> choice company operate rail transport aerospace military automotive telecom </span><span style=\"background-color: hsl(120, 100.00%, 72.95%); opacity: 0.91\" title=\"0.011\">range</span><span style=\"opacity: 0.80\"> industrial sector boardmaster abi </span><span style=\"background-color: hsl(120, 100.00%, 83.32%); opacity: 0.86\" title=\"0.006\">electronic</span><span style=\"opacity: 0.80\"> top </span><span style=\"background-color: hsl(120, 100.00%, 72.95%); opacity: 0.91\" title=\"0.011\">range</span><span style=\"opacity: 0.80\"> solution </span><span style=\"background-color: hsl(120, 100.00%, 74.70%); opacity: 0.90\" title=\"0.010\">save</span><span style=\"opacity: 0.80\"> </span><span style=\"background-color: hsl(120, 100.00%, 74.02%); opacity: 0.91\" title=\"0.011\">customer</span><span style=\"opacity: 0.80\"> time money increase asset availability reliability full </span><span style=\"background-color: hsl(120, 100.00%, 72.95%); opacity: 0.91\" title=\"0.011\">range</span><span style=\"opacity: 0.80\"> instrument variety </span><span style=\"background-color: hsl(0, 100.00%, 85.27%); opacity: 0.85\" title=\"-0.005\">test</span><span style=\"opacity: 0.80\"> method guarantee well possible </span><span style=\"background-color: hsl(120, 100.00%, 77.49%); opacity: 0.89\" title=\"0.009\">fault</span><span style=\"opacity: 0.80\"> </span><span style=\"background-color: hsl(120, 100.00%, 66.14%); opacity: 0.96\" title=\"0.016\">coverage</span><span style=\"opacity: 0.80\"> boardmaster inch rack provide ultimate diagnostic tool boardmaster inch rack come </span><span style=\"background-color: hsl(120, 100.00%, 78.18%); opacity: 0.88\" title=\"0.008\">complete</span><span style=\"opacity: 0.80\"> abis multilicence userfriendly system ultimate software preinstalle </span><span style=\"background-color: hsl(120, 100.00%, 74.02%); opacity: 0.91\" title=\"0.011\">customer</span><span style=\"opacity: 0.80\"> guarantee receive free software update life charge additional seat </span><span style=\"background-color: hsl(0, 100.00%, 81.10%); opacity: 0.87\" title=\"-0.007\">maintenance</span><span style=\"opacity: 0.80\"> fee powerful easytouse software include user access management abi exclusive testflow manager wealth customisation option processing </span><span style=\"background-color: hsl(0, 100.00%, 81.45%); opacity: 0.87\" title=\"-0.007\">component</span><span style=\"opacity: 0.80\"> print use fairly straightforward throughhole </span><span style=\"background-color: hsl(120, 100.00%, 75.75%); opacity: 0.90\" title=\"0.010\">product</span><span style=\"opacity: 0.80\"> single </span><span style=\"background-color: hsl(0, 100.00%, 81.45%); opacity: 0.87\" title=\"-0.007\">component</span><span style=\"opacity: 0.80\"> large centreline rarely purpose clean specifically rapidly expand </span><span style=\"background-color: hsl(120, 100.00%, 83.32%); opacity: 0.86\" title=\"0.006\">electronic</span><span style=\"opacity: 0.80\"> </span><span style=\"background-color: hsl(120, 100.00%, 86.83%); opacity: 0.84\" title=\"0.004\">industry</span><span style=\"opacity: 0.80\"> essentially </span><span style=\"background-color: hsl(120, 100.00%, 65.99%); opacity: 0.96\" title=\"0.016\">improve</span><span style=\"opacity: 0.80\"> </span><span style=\"background-color: hsl(120, 100.00%, 75.75%); opacity: 0.90\" title=\"0.010\">product</span><span style=\"opacity: 0.80\"> lifetime ensure good surface resistance prevent current leakage safe distancing assistant pathfindr </span><span style=\"background-color: hsl(120, 100.00%, 83.02%); opacity: 0.86\" title=\"0.006\">new</span><span style=\"opacity: 0.80\"> addition </span><span style=\"background-color: hsl(0, 100.00%, 81.45%); opacity: 0.87\" title=\"-0.007\">component</span><span style=\"opacity: 0.80\"> </span><span style=\"background-color: hsl(0, 100.00%, 77.07%); opacity: 0.89\" title=\"-0.009\">supplier</span><span style=\"opacity: 0.80\"> portfolio specialise asset intelligence use location track indium feature awardwinne durafuse novel lowtemperature alloy system design provide high reliability lowtemperature application hold industrial control cabinet manufacturing process still feature multiple manual step phoenix contact offer solution form clipx wire assistance system clipx </span><span style=\"background-color: hsl(120, 100.00%, 75.75%); opacity: 0.90\" title=\"0.010\">product</span><span style=\"opacity: 0.80\"> family tout maker battery operate zone promise chemicalfree </span><span style=\"background-color: hsl(120, 100.00%, 60.00%); opacity: 1.00\" title=\"0.020\">dry</span><span style=\"opacity: 0.80\"> contactless fast absolutely reliable destruction pcb laser mark laser cutting machine integrate operation laser mark machine design barcode mark code character graphic crimpfox vario crimp tool contact ensure reliable processing insulate uninsulated twin ferrule integrate pressure lock guarantee </span><span style=\"background-color: hsl(120, 100.00%, 78.18%); opacity: 0.88\" title=\"0.008\">complete</span><span style=\"opacity: 0.80\"> processreliable contact detail core </span><span style=\"background-color: hsl(120, 100.00%, 88.72%); opacity: 0.83\" title=\"0.003\">business</span><span style=\"opacity: 0.80\"> offer prominent trust company </span><span style=\"background-color: hsl(0, 100.00%, 76.78%); opacity: 0.89\" title=\"-0.009\">involve</span><span style=\"opacity: 0.80\"> supply local </span><span style=\"background-color: hsl(120, 100.00%, 83.32%); opacity: 0.86\" title=\"0.006\">electronic</span><span style=\"opacity: 0.80\"> manufacturing </span><span style=\"background-color: hsl(120, 100.00%, 86.83%); opacity: 0.84\" title=\"0.004\">industry</span><span style=\"opacity: 0.80\"> emp </span><span style=\"background-color: hsl(120, 100.00%, 83.32%); opacity: 0.86\" title=\"0.006\">electronic</span><span style=\"opacity: 0.80\"> manufacturing production handbook barracuda holding production logix </span><span style=\"background-color: hsl(120, 100.00%, 84.47%); opacity: 0.85\" title=\"0.005\">find</span><span style=\"opacity: 0.80\"> local contract </span><span style=\"background-color: hsl(120, 100.00%, 83.32%); opacity: 0.86\" title=\"0.006\">electronic</span><span style=\"opacity: 0.80\"> manufacturer cope financial operational fallout pandemic dataweek conduct qa forget ai </span><span style=\"background-color: hsl(120, 100.00%, 86.83%); opacity: 0.84\" title=\"0.004\">industry</span><span style=\"opacity: 0.80\"> obsolescence focus world enter new_era accelerate transformation last eighteen_month continue evolve press forward year come </span><span style=\"background-color: hsl(120, 100.00%, 88.72%); opacity: 0.83\" title=\"0.003\">business</span><span style=\"opacity: 0.80\"> try make_sense </span><span style=\"background-color: hsl(120, 100.00%, 83.02%); opacity: 0.86\" title=\"0.006\">new</span><span style=\"opacity: 0.80\"> timeline set_aside careful_planne implementation come next longer_exist next </span><span style=\"background-color: hsl(0, 100.00%, 71.78%); opacity: 0.92\" title=\"-0.012\">happen</span><span style=\"opacity: 0.80\"> regardless </span><span style=\"background-color: hsl(120, 100.00%, 86.83%); opacity: 0.84\" title=\"0.004\">industry</span><span style=\"opacity: 0.80\"> seniority status_quo shift well face back invite attend pompous meeting brazilian embassy select lead name oil energy </span><span style=\"background-color: hsl(120, 100.00%, 86.83%); opacity: 0.84\" title=\"0.004\">industry</span><span style=\"opacity: 0.80\"> get update go </span><span style=\"background-color: hsl(0, 100.00%, 71.78%); opacity: 0.92\" title=\"-0.012\">happen</span><span style=\"opacity: 0.80\"> </span><span style=\"background-color: hsl(0, 100.00%, 73.61%); opacity: 0.91\" title=\"-0.011\">follow</span><span style=\"opacity: 0.80\"> decade could_soon spot buzzword come powerpoint_slide different company present decommission decarbonisation zero_emission transition green_energy morning_afternoon hear change kick pointing </span><span style=\"background-color: hsl(120, 100.00%, 88.72%); opacity: 0.83\" title=\"0.003\">business</span><span style=\"opacity: 0.80\"> explicitly conclude provide capital require transition take_place due course talk energy </span><span style=\"background-color: hsl(120, 100.00%, 86.83%); opacity: 0.84\" title=\"0.004\">industry</span><span style=\"opacity: 0.80\"> tell forget timeline change come transition </span><span style=\"background-color: hsl(0, 100.00%, 71.78%); opacity: 0.92\" title=\"-0.012\">happen</span><span style=\"opacity: 0.80\"> anticipate big </span><span style=\"background-color: hsl(120, 100.00%, 88.72%); opacity: 0.83\" title=\"0.003\">business</span><span style=\"opacity: 0.80\"> scramble </span><span style=\"background-color: hsl(120, 100.00%, 84.47%); opacity: 0.85\" title=\"0.005\">find</span><span style=\"opacity: 0.80\"> capital_fund require go day talk pandemic impact market demand mess timeline transport automotive defence manufacture instance carrier plane due retired require remain service least project </span><span style=\"background-color: hsl(0, 100.00%, 76.78%); opacity: 0.89\" title=\"-0.009\">involve</span><span style=\"opacity: 0.80\"> upgrade wind_farm scrap </span><span style=\"background-color: hsl(120, 100.00%, 83.02%); opacity: 0.86\" title=\"0.006\">new</span><span style=\"opacity: 0.80\"> installation draw huge competition come brand operator tend favour small turbine efficient </span><span style=\"background-color: hsl(120, 100.00%, 75.31%); opacity: 0.90\" title=\"0.010\">cheap</span><span style=\"opacity: 0.80\"> run choose buy multiple </span><span style=\"background-color: hsl(0, 100.00%, 77.07%); opacity: 0.89\" title=\"-0.009\">supplier</span><span style=\"opacity: 0.80\"> instead company machine_learne ml ai </span><span style=\"background-color: hsl(120, 100.00%, 86.83%); opacity: 0.84\" title=\"0.004\">industry</span><span style=\"opacity: 0.80\"> knock door still big change yet fully_appreciate business_leader </span><span style=\"background-color: hsl(120, 100.00%, 83.32%); opacity: 0.86\" title=\"0.006\">electronic</span><span style=\"opacity: 0.80\"> effectively become brain industrial asset infrastructure equipment operation recent_year therefore require deal breakdown obsolescence instance lost_count many rail connection work operation </span><span style=\"background-color: hsl(0, 100.00%, 81.10%); opacity: 0.87\" title=\"-0.007\">maintenance</span><span style=\"opacity: 0.80\"> struggle cme chief mechanical_engineer role suggest usually individual less </span><span style=\"background-color: hsl(120, 100.00%, 78.61%); opacity: 0.88\" title=\"0.008\">ideal</span><span style=\"opacity: 0.80\"> approach come handle </span><span style=\"background-color: hsl(120, 100.00%, 83.32%); opacity: 0.86\" title=\"0.006\">electronic</span><span style=\"opacity: 0.80\"> failure guessed_right less </span><span style=\"background-color: hsl(120, 100.00%, 78.61%); opacity: 0.88\" title=\"0.008\">ideal</span><span style=\"opacity: 0.80\"> mean green </span><span style=\"background-color: hsl(120, 100.00%, 75.31%); opacity: 0.90\" title=\"0.010\">cheap</span><span style=\"opacity: 0.80\"> solution illustrate video www dataweek co many decisionmaker realise problem hand regret </span><span style=\"background-color: hsl(0, 100.00%, 73.61%); opacity: 0.91\" title=\"-0.011\">follow</span><span style=\"opacity: 0.80\"> tag repairdontwaste linkedin time result comment anticipate equipment quickly spare circuit_board start take week month tell long supply quote sevenfigure price upgrade defer responsibility </span><span style=\"background-color: hsl(0, 100.00%, 77.07%); opacity: 0.89\" title=\"-0.009\">supplier</span><span style=\"opacity: 0.80\"> third_partie bind catch guard soon later risk_exposure insist </span><span style=\"background-color: hsl(120, 100.00%, 72.13%); opacity: 0.92\" title=\"0.012\">strategy</span><span style=\"opacity: 0.80\"> get_exponentially high widespread </span><span style=\"background-color: hsl(0, 100.00%, 81.45%); opacity: 0.87\" title=\"-0.007\">component</span><span style=\"opacity: 0.80\"> shortage increase lead technology provider drop support many </span><span style=\"background-color: hsl(120, 100.00%, 75.75%); opacity: 0.90\" title=\"0.010\">product</span><span style=\"opacity: 0.80\"> order last_month multinational ship bunch expensive controller </span><span style=\"background-color: hsl(120, 100.00%, 88.06%); opacity: 0.84\" title=\"0.004\">card</span><span style=\"opacity: 0.80\"> use inverter speed govern system workshop repair </span><span style=\"background-color: hsl(120, 100.00%, 83.02%); opacity: 0.86\" title=\"0.006\">new</span><span style=\"opacity: 0.80\"> </span><span style=\"background-color: hsl(120, 100.00%, 64.24%); opacity: 0.97\" title=\"0.017\">replacement</span><span style=\"opacity: 0.80\"> </span><span style=\"background-color: hsl(120, 100.00%, 88.06%); opacity: 0.84\" title=\"0.004\">card</span><span style=\"opacity: 0.80\"> due back stock six_months good_job local team </span><span style=\"background-color: hsl(120, 100.00%, 83.32%); opacity: 0.86\" title=\"0.006\">electronic</span><span style=\"opacity: 0.80\"> boardmaster shop ready help technician locate repair </span><span style=\"background-color: hsl(120, 100.00%, 88.06%); opacity: 0.84\" title=\"0.004\">card</span><span style=\"opacity: 0.80\"> </span><span style=\"background-color: hsl(0, 100.00%, 71.78%); opacity: 0.92\" title=\"-0.012\">happen</span><span style=\"opacity: 0.80\"> record time poor decisionmaking come </span><span style=\"background-color: hsl(0, 100.00%, 81.83%); opacity: 0.86\" title=\"-0.007\">set</span><span style=\"opacity: 0.80\"> maintenance_repair </span><span style=\"background-color: hsl(120, 100.00%, 72.13%); opacity: 0.92\" title=\"0.012\">strategy</span><span style=\"opacity: 0.80\"> often_linke fake_new </span><span style=\"background-color: hsl(120, 100.00%, 65.98%); opacity: 0.96\" title=\"0.016\">myth</span><span style=\"opacity: 0.80\"> repair </span><span style=\"background-color: hsl(120, 100.00%, 83.32%); opacity: 0.86\" title=\"0.006\">electronic</span><span style=\"opacity: 0.80\"> </span><span style=\"background-color: hsl(120, 100.00%, 88.06%); opacity: 0.84\" title=\"0.004\">card</span><span style=\"opacity: 0.80\"> pcbpcba never good </span><span style=\"background-color: hsl(120, 100.00%, 83.02%); opacity: 0.86\" title=\"0.006\">new</span><span style=\"opacity: 0.80\"> manufacturer tell special software require troubleshoot </span><span style=\"background-color: hsl(120, 100.00%, 88.06%); opacity: 0.84\" title=\"0.004\">card</span><span style=\"opacity: 0.80\"> troubleshooting </span><span style=\"background-color: hsl(0, 100.00%, 81.45%); opacity: 0.87\" title=\"-0.007\">component</span><span style=\"opacity: 0.80\"> level impossible take long dedicated </span><span style=\"background-color: hsl(0, 100.00%, 85.27%); opacity: 0.85\" title=\"-0.005\">test</span><span style=\"opacity: 0.80\"> repair equipment prohibitively_expensive mentality need change fast long take embrace </span><span style=\"background-color: hsl(120, 100.00%, 83.02%); opacity: 0.86\" title=\"0.006\">new</span><span style=\"opacity: 0.80\"> </span><span style=\"background-color: hsl(120, 100.00%, 72.13%); opacity: 0.92\" title=\"0.012\">strategy</span><span style=\"opacity: 0.80\"> inhouse </span><span style=\"background-color: hsl(120, 100.00%, 77.49%); opacity: 0.89\" title=\"0.009\">fault</span><span style=\"opacity: 0.80\"> analysis </span><span style=\"background-color: hsl(0, 100.00%, 81.10%); opacity: 0.87\" title=\"-0.007\">maintenance</span><span style=\"opacity: 0.80\"> obsolescence plan </span><span style=\"background-color: hsl(0, 100.00%, 78.46%); opacity: 0.88\" title=\"-0.008\">key</span><span style=\"opacity: 0.80\"> electronic_circuit asset expensive get keep go hundred lead organisation </span><span style=\"background-color: hsl(120, 100.00%, 84.47%); opacity: 0.85\" title=\"0.005\">find</span><span style=\"opacity: 0.80\"> recent_year belief </span><span style=\"background-color: hsl(120, 100.00%, 65.98%); opacity: 0.96\" title=\"0.016\">myth</span><span style=\"opacity: 0.80\"> hinder result compromise operation ge_renewable collins_aerospace latter reduce troubleshooting time avionic circuit </span><span style=\"background-color: hsl(120, 100.00%, 88.06%); opacity: 0.84\" title=\"0.004\">card</span><span style=\"opacity: 0.80\"> hour minute </span><span style=\"background-color: hsl(120, 100.00%, 88.06%); opacity: 0.84\" title=\"0.004\">card</span><span style=\"opacity: 0.80\"> moulding_machine worth_ten thousand dollar map repair inhouse engineer </span><span style=\"background-color: hsl(120, 100.00%, 74.70%); opacity: 0.90\" title=\"0.010\">save</span><span style=\"opacity: 0.80\"> mobile shelter unit worth_million dollar decommission repair hvac circuit_board deem irreparable rail arena company bombardi operator irish_rail sfmta many_other discover benefit invest right tool skill_development programme shield </span><span style=\"background-color: hsl(120, 100.00%, 88.72%); opacity: 0.83\" title=\"0.003\">business</span><span style=\"opacity: 0.80\"> parts_shortage accelerate obsolescence story technology drive several global sustainability project subject youtube series call give indepth review </span><span style=\"background-color: hsl(0, 100.00%, 78.46%); opacity: 0.88\" title=\"-0.008\">key</span><span style=\"opacity: 0.80\"> </span><span style=\"background-color: hsl(0, 100.00%, 85.27%); opacity: 0.85\" title=\"-0.005\">test</span><span style=\"opacity: 0.80\"> technique available britishmade boardmaster platform abi </span><span style=\"background-color: hsl(120, 100.00%, 83.32%); opacity: 0.86\" title=\"0.006\">electronic</span><span style=\"opacity: 0.80\"> handle predictive well corrective_maintenance critical electronics without_wasting time money boardmaster_inch rack universal diagnostic system uniquely versatile selfcontaine easytouse </span><span style=\"background-color: hsl(0, 100.00%, 85.27%); opacity: 0.85\" title=\"-0.005\">test</span><span style=\"opacity: 0.80\"> system offers_comprehensive </span><span style=\"background-color: hsl(0, 100.00%, 81.83%); opacity: 0.86\" title=\"-0.007\">set</span><span style=\"opacity: 0.80\"> </span><span style=\"background-color: hsl(0, 100.00%, 85.27%); opacity: 0.85\" title=\"-0.005\">test</span><span style=\"opacity: 0.80\"> instrument faultfinde almost kind pcb </span><span style=\"background-color: hsl(120, 100.00%, 75.75%); opacity: 0.90\" title=\"0.010\">product</span><span style=\"opacity: 0.80\"> choice companies_operating rail_transport aerospace military automotive telecom </span><span style=\"background-color: hsl(120, 100.00%, 72.95%); opacity: 0.91\" title=\"0.011\">range</span><span style=\"opacity: 0.80\"> industrial_sector boardmaster abi </span><span style=\"background-color: hsl(120, 100.00%, 83.32%); opacity: 0.86\" title=\"0.006\">electronic</span><span style=\"opacity: 0.80\"> top </span><span style=\"background-color: hsl(120, 100.00%, 72.95%); opacity: 0.91\" title=\"0.011\">range</span><span style=\"opacity: 0.80\"> solution </span><span style=\"background-color: hsl(120, 100.00%, 74.70%); opacity: 0.90\" title=\"0.010\">save</span><span style=\"opacity: 0.80\"> </span><span style=\"background-color: hsl(120, 100.00%, 74.02%); opacity: 0.91\" title=\"0.011\">customer</span><span style=\"opacity: 0.80\"> time money increase asset availability reliability full_range instrument variety </span><span style=\"background-color: hsl(0, 100.00%, 85.27%); opacity: 0.85\" title=\"-0.005\">test</span><span style=\"opacity: 0.80\"> method guarantee best_possible </span><span style=\"background-color: hsl(120, 100.00%, 77.49%); opacity: 0.89\" title=\"0.009\">fault</span><span style=\"opacity: 0.80\"> </span><span style=\"background-color: hsl(120, 100.00%, 66.14%); opacity: 0.96\" title=\"0.016\">coverage</span><span style=\"opacity: 0.80\"> boardmaster_inch rack provide ultimate diagnostic_tool boardmaster_inch rack come </span><span style=\"background-color: hsl(120, 100.00%, 78.18%); opacity: 0.88\" title=\"0.008\">complete</span><span style=\"opacity: 0.80\"> abis multilicence userfriendly system ultimate software preinstalle </span><span style=\"background-color: hsl(120, 100.00%, 74.02%); opacity: 0.91\" title=\"0.011\">customer</span><span style=\"opacity: 0.80\"> guarantee receive free software update life charge additional seat </span><span style=\"background-color: hsl(0, 100.00%, 81.10%); opacity: 0.87\" title=\"-0.007\">maintenance</span><span style=\"opacity: 0.80\"> fee powerful software include user access management abi exclusive testflow manager wealth customisation_option processing </span><span style=\"background-color: hsl(0, 100.00%, 81.45%); opacity: 0.87\" title=\"-0.007\">component</span><span style=\"opacity: 0.80\"> printed_circuit board_pcb use throughhole </span><span style=\"background-color: hsl(120, 100.00%, 75.75%); opacity: 0.90\" title=\"0.010\">product</span><span style=\"opacity: 0.80\"> single </span><span style=\"background-color: hsl(0, 100.00%, 81.45%); opacity: 0.87\" title=\"-0.007\">component</span><span style=\"opacity: 0.80\"> large centreline rarely purpose clean specifically rapidly_expande </span><span style=\"background-color: hsl(120, 100.00%, 83.32%); opacity: 0.86\" title=\"0.006\">electronic</span><span style=\"opacity: 0.80\"> </span><span style=\"background-color: hsl(120, 100.00%, 86.83%); opacity: 0.84\" title=\"0.004\">industry</span><span style=\"opacity: 0.80\"> essentially </span><span style=\"background-color: hsl(120, 100.00%, 65.99%); opacity: 0.96\" title=\"0.016\">improve</span><span style=\"opacity: 0.80\"> </span><span style=\"background-color: hsl(120, 100.00%, 75.75%); opacity: 0.90\" title=\"0.010\">product</span><span style=\"opacity: 0.80\"> lifetime ensure good surface resistance prevent current leakage safe_distance assistant </span><span style=\"background-color: hsl(120, 100.00%, 83.02%); opacity: 0.86\" title=\"0.006\">new</span><span style=\"opacity: 0.80\"> addition </span><span style=\"background-color: hsl(0, 100.00%, 81.45%); opacity: 0.87\" title=\"-0.007\">component</span><span style=\"opacity: 0.80\"> </span><span style=\"background-color: hsl(0, 100.00%, 77.07%); opacity: 0.89\" title=\"-0.009\">supplier</span><span style=\"opacity: 0.80\"> portfolio specialise asset intelligence use location_tracke indium feature awardwinne durafuse novel lowtemperature alloy system design provide high_reliability lowtemperature application hold industrial control cabinet manufacturing_processe still feature multiple manual_step phoenix_contact offer solution form clipx wire assistance system clipx </span><span style=\"background-color: hsl(120, 100.00%, 75.75%); opacity: 0.90\" title=\"0.010\">product</span><span style=\"opacity: 0.80\"> family tout maker zone promise chemicalfree </span><span style=\"background-color: hsl(120, 100.00%, 60.00%); opacity: 1.00\" title=\"0.020\">dry</span><span style=\"opacity: 0.80\"> contactless fast absolutely reliable destruction pcb_laser mark laser_cutting machine hgtech integrate inline operation laser_marking machine design barcode mark code character graphic crimpfox vario crimping_tool ensure reliable processing insulate uninsulated twin ferrule integrate pressure lock guarantee </span><span style=\"background-color: hsl(120, 100.00%, 78.18%); opacity: 0.88\" title=\"0.008\">complete</span><span style=\"opacity: 0.80\"> processreliable contact detail core </span><span style=\"background-color: hsl(120, 100.00%, 88.72%); opacity: 0.83\" title=\"0.003\">business</span><span style=\"opacity: 0.80\"> offer prominent trust company </span><span style=\"background-color: hsl(0, 100.00%, 76.78%); opacity: 0.89\" title=\"-0.009\">involve</span><span style=\"opacity: 0.80\"> supply local electronics_manufacture </span><span style=\"background-color: hsl(120, 100.00%, 86.83%); opacity: 0.84\" title=\"0.004\">industry</span><span style=\"opacity: 0.80\"> emp electronics_manufacture production handbook barracuda holding production logix </span><span style=\"background-color: hsl(120, 100.00%, 84.47%); opacity: 0.85\" title=\"0.005\">find</span><span style=\"opacity: 0.80\"> local contract </span><span style=\"background-color: hsl(120, 100.00%, 83.32%); opacity: 0.86\" title=\"0.006\">electronic</span><span style=\"opacity: 0.80\"> manufacturer cope financial operational fallout pandemic dataweek conduct qa forget ai </span><span style=\"background-color: hsl(120, 100.00%, 86.83%); opacity: 0.84\" title=\"0.004\">industry</span><span style=\"opacity: 0.80\"> obsolescence focus world_entere new_era accelerate transformation last eighteen_month continue evolve press_forward year come </span><span style=\"background-color: hsl(120, 100.00%, 88.72%); opacity: 0.83\" title=\"0.003\">business</span><span style=\"opacity: 0.80\"> try make_sense </span><span style=\"background-color: hsl(120, 100.00%, 83.02%); opacity: 0.86\" title=\"0.006\">new</span><span style=\"opacity: 0.80\"> timeline set_aside careful_planne implementation coming_next longer_exist next </span><span style=\"background-color: hsl(0, 100.00%, 71.78%); opacity: 0.92\" title=\"-0.012\">happen</span><span style=\"opacity: 0.80\"> regardless </span><span style=\"background-color: hsl(120, 100.00%, 86.83%); opacity: 0.84\" title=\"0.004\">industry</span><span style=\"opacity: 0.80\"> seniority status_quo shift well face back invite attend pompous meeting brazilian embassy select leading_name oil energy_industry get update go </span><span style=\"background-color: hsl(0, 100.00%, 71.78%); opacity: 0.92\" title=\"-0.012\">happen</span><span style=\"opacity: 0.80\"> could_soon spot buzzword come powerpoint_slide different company present decommission decarbonisation zero_emission transition green_energy morning_afternoon hear change would_kick executive pointing </span><span style=\"background-color: hsl(120, 100.00%, 88.72%); opacity: 0.83\" title=\"0.003\">business</span><span style=\"opacity: 0.80\"> explicitly conclude provide capital require transition energy_industry tell forget timeline change come transition </span><span style=\"background-color: hsl(0, 100.00%, 71.78%); opacity: 0.92\" title=\"-0.012\">happen</span><span style=\"opacity: 0.80\"> anticipate big_businesse scramble </span><span style=\"background-color: hsl(120, 100.00%, 84.47%); opacity: 0.85\" title=\"0.005\">find</span><span style=\"opacity: 0.80\"> capital_fund require could_go day talk pandemic_impact mess timeline transport automotive instance carrier plane due retired require remain service least project </span><span style=\"background-color: hsl(0, 100.00%, 76.78%); opacity: 0.89\" title=\"-0.009\">involve</span><span style=\"opacity: 0.80\"> upgrade wind_farm scrap </span><span style=\"background-color: hsl(120, 100.00%, 83.02%); opacity: 0.86\" title=\"0.006\">new</span><span style=\"opacity: 0.80\"> installation draw huge competition come brand operator tend favour small turbine efficient </span><span style=\"background-color: hsl(120, 100.00%, 75.31%); opacity: 0.90\" title=\"0.010\">cheap</span><span style=\"opacity: 0.80\"> run choose buy multiple_supplier instead company machine_learning_ml ai </span><span style=\"background-color: hsl(120, 100.00%, 86.83%); opacity: 0.84\" title=\"0.004\">industry</span><span style=\"opacity: 0.80\"> knock door still biggest_change yet fully_appreciate business_leader </span><span style=\"background-color: hsl(120, 100.00%, 83.32%); opacity: 0.86\" title=\"0.006\">electronic</span><span style=\"opacity: 0.80\"> effectively become brain industrial_asset infrastructure equipment operation recent_year therefore require deal breakdown obsolescence instance lost_count many rail connection work operation </span><span style=\"background-color: hsl(0, 100.00%, 81.10%); opacity: 0.87\" title=\"-0.007\">maintenance</span><span style=\"opacity: 0.80\"> struggle cme chief mechanical_engineer role suggest usually individual less </span><span style=\"background-color: hsl(120, 100.00%, 78.61%); opacity: 0.88\" title=\"0.008\">ideal</span><span style=\"opacity: 0.80\"> approach come handle </span><span style=\"background-color: hsl(120, 100.00%, 83.32%); opacity: 0.86\" title=\"0.006\">electronic</span><span style=\"opacity: 0.80\"> failure guessed_right less </span><span style=\"background-color: hsl(120, 100.00%, 78.61%); opacity: 0.88\" title=\"0.008\">ideal</span><span style=\"opacity: 0.80\"> mean green </span><span style=\"background-color: hsl(120, 100.00%, 75.31%); opacity: 0.90\" title=\"0.010\">cheap</span><span style=\"opacity: 0.80\"> solution illustrate video www dataweek co many decisionmaker realise problem hand regret </span><span style=\"background-color: hsl(0, 100.00%, 73.61%); opacity: 0.91\" title=\"-0.011\">follow</span><span style=\"opacity: 0.80\"> tag repairdontwaste linkedin time result comment anticipate equipment would_become_obsolete quickly spare circuit_board start take_week month tell long supply quote sevenfigure price upgrade defer responsibility </span><span style=\"background-color: hsl(0, 100.00%, 77.07%); opacity: 0.89\" title=\"-0.009\">supplier</span><span style=\"opacity: 0.80\"> third_partie bind catch guard soon later risk_exposure insist </span><span style=\"background-color: hsl(120, 100.00%, 72.13%); opacity: 0.92\" title=\"0.012\">strategy</span><span style=\"opacity: 0.80\"> get_exponentially high widespread </span><span style=\"background-color: hsl(0, 100.00%, 81.45%); opacity: 0.87\" title=\"-0.007\">component</span><span style=\"opacity: 0.80\"> shortage increase lead_time technology_provider drop support many </span><span style=\"background-color: hsl(120, 100.00%, 75.75%); opacity: 0.90\" title=\"0.010\">product</span><span style=\"opacity: 0.80\"> order last_month multinational ship bunch expensive controller </span><span style=\"background-color: hsl(120, 100.00%, 88.06%); opacity: 0.84\" title=\"0.004\">card</span><span style=\"opacity: 0.80\"> use inverter speed govern system workshop repair </span><span style=\"background-color: hsl(120, 100.00%, 83.02%); opacity: 0.86\" title=\"0.006\">new</span><span style=\"opacity: 0.80\"> </span><span style=\"background-color: hsl(120, 100.00%, 64.24%); opacity: 0.97\" title=\"0.017\">replacement</span><span style=\"opacity: 0.80\"> </span><span style=\"background-color: hsl(120, 100.00%, 88.06%); opacity: 0.84\" title=\"0.004\">card</span><span style=\"opacity: 0.80\"> due back stock six_months good_job local team </span><span style=\"background-color: hsl(120, 100.00%, 83.32%); opacity: 0.86\" title=\"0.006\">electronic</span><span style=\"opacity: 0.80\"> boardmaster shop ready help technician locate repair </span><span style=\"background-color: hsl(120, 100.00%, 88.06%); opacity: 0.84\" title=\"0.004\">card</span><span style=\"opacity: 0.80\"> </span><span style=\"background-color: hsl(0, 100.00%, 71.78%); opacity: 0.92\" title=\"-0.012\">happen</span><span style=\"opacity: 0.80\"> record_time poor_decisionmake come </span><span style=\"background-color: hsl(0, 100.00%, 81.83%); opacity: 0.86\" title=\"-0.007\">set</span><span style=\"opacity: 0.80\"> maintenance_repair </span><span style=\"background-color: hsl(120, 100.00%, 72.13%); opacity: 0.92\" title=\"0.012\">strategy</span><span style=\"opacity: 0.80\"> often_linke repair </span><span style=\"background-color: hsl(120, 100.00%, 83.32%); opacity: 0.86\" title=\"0.006\">electronic</span><span style=\"opacity: 0.80\"> </span><span style=\"background-color: hsl(120, 100.00%, 88.06%); opacity: 0.84\" title=\"0.004\">card</span><span style=\"opacity: 0.80\"> pcbpcba never good </span><span style=\"background-color: hsl(120, 100.00%, 83.02%); opacity: 0.86\" title=\"0.006\">new</span><span style=\"opacity: 0.80\"> manufacturer told_us special software require troubleshoot </span><span style=\"background-color: hsl(120, 100.00%, 88.06%); opacity: 0.84\" title=\"0.004\">card</span><span style=\"opacity: 0.80\"> troubleshooting component_level impossible long dedicated </span><span style=\"background-color: hsl(0, 100.00%, 85.27%); opacity: 0.85\" title=\"-0.005\">test</span><span style=\"opacity: 0.80\"> prohibitively_expensive mentality need change fast long take embrace_new </span><span style=\"background-color: hsl(120, 100.00%, 72.13%); opacity: 0.92\" title=\"0.012\">strategy</span><span style=\"opacity: 0.80\"> inhouse </span><span style=\"background-color: hsl(120, 100.00%, 77.49%); opacity: 0.89\" title=\"0.009\">fault</span><span style=\"opacity: 0.80\"> analysis </span><span style=\"background-color: hsl(0, 100.00%, 81.10%); opacity: 0.87\" title=\"-0.007\">maintenance</span><span style=\"opacity: 0.80\"> obsolescence plan </span><span style=\"background-color: hsl(0, 100.00%, 78.46%); opacity: 0.88\" title=\"-0.008\">key</span><span style=\"opacity: 0.80\"> electronic_circuit asset expensive get keep_goe hundred leading_organisation </span><span style=\"background-color: hsl(120, 100.00%, 84.47%); opacity: 0.85\" title=\"0.005\">find</span><span style=\"opacity: 0.80\"> recent_year belief </span><span style=\"background-color: hsl(120, 100.00%, 65.98%); opacity: 0.96\" title=\"0.016\">myth</span><span style=\"opacity: 0.80\"> hinder result compromise operation ge_renewable collins_aerospace latter reduce troubleshooting time avionic circuit </span><span style=\"background-color: hsl(120, 100.00%, 88.06%); opacity: 0.84\" title=\"0.004\">card</span><span style=\"opacity: 0.80\"> hour minute </span><span style=\"background-color: hsl(120, 100.00%, 88.06%); opacity: 0.84\" title=\"0.004\">card</span><span style=\"opacity: 0.80\"> moulding_machine worth_ten thousand dollar map repair inhouse engineer </span><span style=\"background-color: hsl(120, 100.00%, 74.70%); opacity: 0.90\" title=\"0.010\">save</span><span style=\"opacity: 0.80\"> mobile shelter unit decommission repair hvac circuit_board deem irreparable rail arena companies_like caf bombardi operator irish_rail sfmta many_other discover benefit invest right_tool skill_development programme shield </span><span style=\"background-color: hsl(120, 100.00%, 88.72%); opacity: 0.83\" title=\"0.003\">business</span><span style=\"opacity: 0.80\"> parts_shortage accelerate obsolescence story technology drive several global sustainability project subject call review </span><span style=\"background-color: hsl(0, 100.00%, 78.46%); opacity: 0.88\" title=\"-0.008\">key</span><span style=\"opacity: 0.80\"> </span><span style=\"background-color: hsl(0, 100.00%, 85.27%); opacity: 0.85\" title=\"-0.005\">test</span><span style=\"opacity: 0.80\"> technique available britishmade boardmaster platform abi </span><span style=\"background-color: hsl(120, 100.00%, 83.32%); opacity: 0.86\" title=\"0.006\">electronic</span><span style=\"opacity: 0.80\"> handle predictive well corrective_maintenance critical </span><span style=\"background-color: hsl(120, 100.00%, 83.32%); opacity: 0.86\" title=\"0.006\">electronic</span><span style=\"opacity: 0.80\"> without_waste boardmaster_inch rack universal diagnostic_system uniquely versatile selfcontaine easytouse </span><span style=\"background-color: hsl(0, 100.00%, 85.27%); opacity: 0.85\" title=\"-0.005\">test</span><span style=\"opacity: 0.80\"> system offers_comprehensive </span><span style=\"background-color: hsl(0, 100.00%, 81.83%); opacity: 0.86\" title=\"-0.007\">set</span><span style=\"opacity: 0.80\"> </span><span style=\"background-color: hsl(0, 100.00%, 85.27%); opacity: 0.85\" title=\"-0.005\">test</span><span style=\"opacity: 0.80\"> instrument faultfinde almost kind pcb </span><span style=\"background-color: hsl(120, 100.00%, 75.75%); opacity: 0.90\" title=\"0.010\">product</span><span style=\"opacity: 0.80\"> choice companies_operate rail_transport aerospace_military automotive telecom </span><span style=\"background-color: hsl(120, 100.00%, 72.95%); opacity: 0.91\" title=\"0.011\">range</span><span style=\"opacity: 0.80\"> industrial_sector boardmaster abi </span><span style=\"background-color: hsl(120, 100.00%, 83.32%); opacity: 0.86\" title=\"0.006\">electronic</span><span style=\"opacity: 0.80\"> top </span><span style=\"background-color: hsl(120, 100.00%, 72.95%); opacity: 0.91\" title=\"0.011\">range</span><span style=\"opacity: 0.80\"> solution saves_customer time_money increase asset availability_reliability full_range instrument variety </span><span style=\"background-color: hsl(0, 100.00%, 85.27%); opacity: 0.85\" title=\"-0.005\">test</span><span style=\"opacity: 0.80\"> method guarantee best_possible </span><span style=\"background-color: hsl(120, 100.00%, 77.49%); opacity: 0.89\" title=\"0.009\">fault</span><span style=\"opacity: 0.80\"> </span><span style=\"background-color: hsl(120, 100.00%, 66.14%); opacity: 0.96\" title=\"0.016\">coverage</span><span style=\"opacity: 0.80\"> boardmaster_inch rack provide ultimate diagnostic_tool boardmaster_inch rack come </span><span style=\"background-color: hsl(120, 100.00%, 78.18%); opacity: 0.88\" title=\"0.008\">complete</span><span style=\"opacity: 0.80\"> abis multilicence userfriendly system preinstalle </span><span style=\"background-color: hsl(120, 100.00%, 74.02%); opacity: 0.91\" title=\"0.011\">customer</span><span style=\"opacity: 0.80\"> guarantee software_update life charge additional seat powerful_yet_easytouse software include management abi exclusive testflow manager wealth customisation_option processing </span><span style=\"background-color: hsl(0, 100.00%, 81.45%); opacity: 0.87\" title=\"-0.007\">component</span><span style=\"opacity: 0.80\"> use throughhole </span><span style=\"background-color: hsl(120, 100.00%, 75.75%); opacity: 0.90\" title=\"0.010\">product</span><span style=\"opacity: 0.80\"> single </span><span style=\"background-color: hsl(0, 100.00%, 81.45%); opacity: 0.87\" title=\"-0.007\">component</span><span style=\"opacity: 0.80\"> large centreline rarely purpose clean specifically rapidly_expande electronics_industry essentially </span><span style=\"background-color: hsl(120, 100.00%, 65.99%); opacity: 0.96\" title=\"0.016\">improve</span><span style=\"opacity: 0.80\"> </span><span style=\"background-color: hsl(120, 100.00%, 75.75%); opacity: 0.90\" title=\"0.010\">product</span><span style=\"opacity: 0.80\"> lifetime ensure good surface resistance prevent current leakage safe_distance assistant new_addition rs_component </span><span style=\"background-color: hsl(0, 100.00%, 77.07%); opacity: 0.89\" title=\"-0.009\">supplier</span><span style=\"opacity: 0.80\"> portfolio specialise asset_intelligence use location_tracke indium feature awardwinne durafuse novel lowtemperature alloy system_designe provide high_reliability lowtemperature application hold cabinet manufacturing_processe still feature multiple manual_step phoenix_contact offer solution form clipx wire assistance_system clipx product_family tout maker zone promise chemicalfree </span><span style=\"background-color: hsl(120, 100.00%, 60.00%); opacity: 1.00\" title=\"0.020\">dry</span><span style=\"opacity: 0.80\"> contactless fast absolutely reliable destruction pcb_laser mark integrate design barcode mark code character graphic crimpfox vario crimping_tool ensure reliable processing insulate uninsulated twin ferrule integrate pressure lock guarantee </span><span style=\"background-color: hsl(120, 100.00%, 78.18%); opacity: 0.88\" title=\"0.008\">complete</span><span style=\"opacity: 0.80\"> processreliable contact_detail core_business offer prominent trust companies_involve supply local electronics_manufacture </span><span style=\"background-color: hsl(120, 100.00%, 86.83%); opacity: 0.84\" title=\"0.004\">industry</span><span style=\"opacity: 0.80\"> emp electronics_manufacture production handbook barracuda holding production logix </span><span style=\"background-color: hsl(120, 100.00%, 84.47%); opacity: 0.85\" title=\"0.005\">find</span><span style=\"opacity: 0.80\"> local contract electronics_manufacturer cope financial_operational fallout pandemic dataweek conduct qa</span>\n",
       "    </p>\n",
       "\n",
       "\n",
       "    \n",
       "\n",
       "    \n",
       "\n",
       "    \n",
       "\n",
       "    \n",
       "\n",
       "\n",
       "    \n",
       "\n",
       "    \n",
       "\n",
       "    \n",
       "\n",
       "    \n",
       "\n",
       "    \n",
       "\n",
       "    \n",
       "\n",
       "\n",
       "    \n",
       "\n",
       "    \n",
       "\n",
       "    \n",
       "\n",
       "    \n",
       "\n",
       "    \n",
       "\n",
       "    \n",
       "\n",
       "\n",
       "\n"
      ],
      "text/plain": [
       "<IPython.core.display.HTML object>"
      ]
     },
     "execution_count": 84,
     "metadata": {},
     "output_type": "execute_result"
    }
   ],
   "source": [
    "clf = svm\n",
    "element = 1\n",
    "text = news_lemmatized_str[element]\n",
    "targets = 5\n",
    "\n",
    "eli5.show_prediction(clf, doc=text, targets=[targets], vec=tfidf, top=30, feature_names=feature_names)"
   ]
  },
  {
   "cell_type": "code",
   "execution_count": 83,
   "metadata": {},
   "outputs": [
    {
     "data": {
      "text/html": [
       "\n",
       "    <style>\n",
       "    table.eli5-weights tr:hover {\n",
       "        filter: brightness(85%);\n",
       "    }\n",
       "</style>\n",
       "\n",
       "\n",
       "\n",
       "    \n",
       "\n",
       "    \n",
       "\n",
       "    \n",
       "\n",
       "    \n",
       "\n",
       "    \n",
       "\n",
       "    \n",
       "\n",
       "\n",
       "    \n",
       "\n",
       "    \n",
       "\n",
       "    \n",
       "\n",
       "    \n",
       "        \n",
       "\n",
       "    \n",
       "\n",
       "        \n",
       "\n",
       "        \n",
       "    \n",
       "        \n",
       "        \n",
       "    \n",
       "        <p style=\"margin-bottom: 0.5em; margin-top: 0em\">\n",
       "            <b>\n",
       "    \n",
       "        y=5\n",
       "    \n",
       "</b>\n",
       "\n",
       "    \n",
       "    (score <b>-0.924</b>)\n",
       "\n",
       "top features\n",
       "        </p>\n",
       "    \n",
       "    <table class=\"eli5-weights\"\n",
       "           style=\"border-collapse: collapse; border: none; margin-top: 0em; table-layout: auto; margin-bottom: 2em;\">\n",
       "        <thead>\n",
       "        <tr style=\"border: none;\">\n",
       "            \n",
       "                <th style=\"padding: 0 1em 0 0.5em; text-align: right; border: none;\" title=\"Feature contribution already accounts for the feature value (for linear models, contribution = weight * feature value), and the sum of feature contributions is equal to the score or, for some classifiers, to the probability. Feature values are shown if &quot;show_feature_values&quot; is True.\">\n",
       "                    Contribution<sup>?</sup>\n",
       "                </th>\n",
       "            \n",
       "            <th style=\"padding: 0 0.5em 0 0.5em; text-align: left; border: none;\">Feature</th>\n",
       "            \n",
       "        </tr>\n",
       "        </thead>\n",
       "        <tbody>\n",
       "        \n",
       "            <tr style=\"background-color: hsl(120, 100.00%, 97.54%); border: none;\">\n",
       "    <td style=\"padding: 0 1em 0 0.5em; text-align: right; border: none;\">\n",
       "        +0.054\n",
       "    </td>\n",
       "    <td style=\"padding: 0 0.5em 0 0.5em; text-align: left; border: none;\">\n",
       "        Highlighted in text (sum)\n",
       "    </td>\n",
       "    \n",
       "</tr>\n",
       "        \n",
       "        \n",
       "            <tr style=\"background-color: hsl(120, 100.00%, 97.54%); border: none;\">\n",
       "                <td colspan=\"2\" style=\"padding: 0 0.5em 0 0.5em; text-align: center; border: none; white-space: nowrap;\">\n",
       "                    <i>&hellip; 91 more positive &hellip;</i>\n",
       "                </td>\n",
       "            </tr>\n",
       "        \n",
       "\n",
       "        \n",
       "            <tr style=\"background-color: hsl(0, 100.00%, 80.00%); border: none;\">\n",
       "                <td colspan=\"2\" style=\"padding: 0 0.5em 0 0.5em; text-align: center; border: none; white-space: nowrap;\">\n",
       "                    <i>&hellip; 102 more negative &hellip;</i>\n",
       "                </td>\n",
       "            </tr>\n",
       "        \n",
       "        \n",
       "            <tr style=\"background-color: hsl(0, 100.00%, 80.00%); border: none;\">\n",
       "    <td style=\"padding: 0 1em 0 0.5em; text-align: right; border: none;\">\n",
       "        -1.072\n",
       "    </td>\n",
       "    <td style=\"padding: 0 0.5em 0 0.5em; text-align: left; border: none;\">\n",
       "        &lt;BIAS&gt;\n",
       "    </td>\n",
       "    \n",
       "</tr>\n",
       "        \n",
       "\n",
       "        </tbody>\n",
       "    </table>\n",
       "\n",
       "    \n",
       "\n",
       "\n",
       "\n",
       "    <p style=\"margin-bottom: 2.5em; margin-top:-0.5em;\">\n",
       "        <span style=\"background-color: hsl(0, 100.00%, 89.80%); opacity: 0.83\" title=\"-0.003\">synthesis</span><span style=\"opacity: 0.80\"> </span><span style=\"background-color: hsl(0, 100.00%, 79.57%); opacity: 0.88\" title=\"-0.008\">ai</span><span style=\"opacity: 0.80\"> rank fast company annual </span><span style=\"background-color: hsl(0, 100.00%, 80.12%); opacity: 0.87\" title=\"-0.008\">list</span><span style=\"opacity: 0.80\"> world </span><span style=\"background-color: hsl(120, 100.00%, 80.85%); opacity: 0.87\" title=\"0.008\">innovative</span><span style=\"opacity: 0.80\"> company </span><span style=\"background-color: hsl(120, 100.00%, 82.94%); opacity: 0.86\" title=\"0.006\">recognition</span><span style=\"opacity: 0.80\"> emphasize company lead </span><span style=\"background-color: hsl(0, 100.00%, 80.54%); opacity: 0.87\" title=\"-0.008\">role</span><span style=\"opacity: 0.80\"> enable next generation </span><span style=\"background-color: hsl(0, 100.00%, 79.57%); opacity: 0.88\" title=\"-0.008\">ai</span><span style=\"opacity: 0.80\"> system </span><span style=\"background-color: hsl(0, 100.00%, 90.24%); opacity: 0.83\" title=\"-0.003\">synthetic</span><span style=\"opacity: 0.80\"> </span><span style=\"background-color: hsl(120, 100.00%, 85.33%); opacity: 0.85\" title=\"0.005\">datum</span><span style=\"opacity: 0.80\"> </span><span style=\"background-color: hsl(120, 100.00%, 74.73%); opacity: 0.90\" title=\"0.011\">simulation</span><span style=\"opacity: 0.80\"> technology </span><span style=\"background-color: hsl(0, 100.00%, 79.09%); opacity: 0.88\" title=\"-0.009\">publish</span><span style=\"opacity: 0.80\"> cstupdate hour prnewswire </span><span style=\"background-color: hsl(0, 100.00%, 89.80%); opacity: 0.83\" title=\"-0.003\">synthesis</span><span style=\"opacity: 0.80\"> </span><span style=\"background-color: hsl(0, 100.00%, 79.57%); opacity: 0.88\" title=\"-0.008\">ai</span><span style=\"opacity: 0.80\"> pioneer </span><span style=\"background-color: hsl(0, 100.00%, 90.24%); opacity: 0.83\" title=\"-0.003\">synthetic</span><span style=\"opacity: 0.80\"> </span><span style=\"background-color: hsl(120, 100.00%, 85.33%); opacity: 0.85\" title=\"0.005\">datum</span><span style=\"opacity: 0.80\"> technology rank number fast company prestigious annual </span><span style=\"background-color: hsl(0, 100.00%, 80.12%); opacity: 0.87\" title=\"-0.008\">list</span><span style=\"opacity: 0.80\"> theworld </span><span style=\"background-color: hsl(120, 100.00%, 80.85%); opacity: 0.87\" title=\"0.008\">innovative</span><span style=\"opacity: 0.80\"> company rank cement </span><span style=\"background-color: hsl(0, 100.00%, 80.54%); opacity: 0.87\" title=\"-0.008\">role</span><span style=\"opacity: 0.80\"> pioneer </span><span style=\"background-color: hsl(0, 100.00%, 90.24%); opacity: 0.83\" title=\"-0.003\">synthetic</span><span style=\"opacity: 0.80\"> </span><span style=\"background-color: hsl(120, 100.00%, 85.33%); opacity: 0.85\" title=\"0.005\">datum</span><span style=\"opacity: 0.80\"> technology create </span><span style=\"background-color: hsl(120, 100.00%, 72.08%); opacity: 0.92\" title=\"0.013\">capable</span><span style=\"opacity: 0.80\"> model </span><span style=\"background-color: hsl(0, 100.00%, 90.24%); opacity: 0.83\" title=\"-0.003\">synthetic</span><span style=\"opacity: 0.80\"> </span><span style=\"background-color: hsl(120, 100.00%, 85.33%); opacity: 0.85\" title=\"0.005\">datum</span><span style=\"opacity: 0.80\"> disruptive </span><span style=\"background-color: hsl(0, 100.00%, 84.33%); opacity: 0.85\" title=\"-0.006\">approach</span><span style=\"opacity: 0.80\"> </span><span style=\"background-color: hsl(0, 100.00%, 76.68%); opacity: 0.89\" title=\"-0.010\">training</span><span style=\"opacity: 0.80\"> model use image </span><span style=\"background-color: hsl(120, 100.00%, 74.73%); opacity: 0.90\" title=\"0.011\">simulation</span><span style=\"opacity: 0.80\"> platform provide </span><span style=\"background-color: hsl(120, 100.00%, 66.57%); opacity: 0.95\" title=\"0.017\">vast</span><span style=\"opacity: 0.80\"> amount perfectly label data company client include lead technology robotic metaverse smartphone </span><span style=\"background-color: hsl(0, 100.00%, 85.87%); opacity: 0.85\" title=\"-0.005\">autonomy</span><span style=\"opacity: 0.80\"> company </span><span style=\"background-color: hsl(0, 100.00%, 89.80%); opacity: 0.83\" title=\"-0.003\">synthesis</span><span style=\"opacity: 0.80\"> </span><span style=\"background-color: hsl(0, 100.00%, 79.57%); opacity: 0.88\" title=\"-0.008\">ai</span><span style=\"opacity: 0.80\"> franciscobase technology company pioneer use </span><span style=\"background-color: hsl(0, 100.00%, 90.24%); opacity: 0.83\" title=\"-0.003\">synthetic</span><span style=\"opacity: 0.80\"> </span><span style=\"background-color: hsl(120, 100.00%, 85.33%); opacity: 0.85\" title=\"0.005\">datum</span><span style=\"opacity: 0.80\"> build </span><span style=\"background-color: hsl(120, 100.00%, 72.08%); opacity: 0.92\" title=\"0.013\">capable</span><span style=\"opacity: 0.80\"> computer vision model proprietary combination generative neural pipeline </span><span style=\"background-color: hsl(0, 100.00%, 89.80%); opacity: 0.83\" title=\"-0.003\">synthesis</span><span style=\"opacity: 0.80\"> platform create </span><span style=\"background-color: hsl(120, 100.00%, 66.57%); opacity: 0.95\" title=\"0.017\">vast</span><span style=\"opacity: 0.80\"> amount image </span><span style=\"background-color: hsl(120, 100.00%, 85.33%); opacity: 0.85\" title=\"0.005\">datum</span><span style=\"opacity: 0.80\"> </span><span style=\"background-color: hsl(120, 100.00%, 81.24%); opacity: 0.87\" title=\"0.007\">order</span><span style=\"opacity: 0.80\"> magnitude increase speed reduce cost compare current </span><span style=\"background-color: hsl(0, 100.00%, 84.33%); opacity: 0.85\" title=\"-0.006\">approach</span><span style=\"opacity: 0.80\"> rank cement </span><span style=\"background-color: hsl(0, 100.00%, 80.54%); opacity: 0.87\" title=\"-0.008\">role</span><span style=\"opacity: 0.80\"> pioneer </span><span style=\"background-color: hsl(0, 100.00%, 90.24%); opacity: 0.83\" title=\"-0.003\">synthetic</span><span style=\"opacity: 0.80\"> </span><span style=\"background-color: hsl(120, 100.00%, 85.33%); opacity: 0.85\" title=\"0.005\">datum</span><span style=\"opacity: 0.80\"> technology create </span><span style=\"background-color: hsl(120, 100.00%, 72.08%); opacity: 0.92\" title=\"0.013\">capable</span><span style=\"opacity: 0.80\"> model inflection point utilization </span><span style=\"background-color: hsl(0, 100.00%, 90.24%); opacity: 0.83\" title=\"-0.003\">synthetic</span><span style=\"opacity: 0.80\"> </span><span style=\"background-color: hsl(120, 100.00%, 85.33%); opacity: 0.85\" title=\"0.005\">datum</span><span style=\"opacity: 0.80\"> say behzadi ceo founder </span><span style=\"background-color: hsl(0, 100.00%, 89.80%); opacity: 0.83\" title=\"-0.003\">synthesis</span><span style=\"opacity: 0.80\"> </span><span style=\"background-color: hsl(0, 100.00%, 79.57%); opacity: 0.88\" title=\"-0.008\">ai</span><span style=\"opacity: 0.80\"> day company adopt </span><span style=\"background-color: hsl(0, 100.00%, 90.24%); opacity: 0.83\" title=\"-0.003\">synthetic</span><span style=\"opacity: 0.80\"> </span><span style=\"background-color: hsl(120, 100.00%, 85.33%); opacity: 0.85\" title=\"0.005\">datum</span><span style=\"opacity: 0.80\"> </span><span style=\"background-color: hsl(0, 100.00%, 84.33%); opacity: 0.85\" title=\"-0.006\">approach</span><span style=\"opacity: 0.80\"> build well model fraction time cost traditional humanlabeling method </span><span style=\"background-color: hsl(0, 100.00%, 90.24%); opacity: 0.83\" title=\"-0.003\">synthetic</span><span style=\"opacity: 0.80\"> </span><span style=\"background-color: hsl(120, 100.00%, 85.33%); opacity: 0.85\" title=\"0.005\">datum</span><span style=\"opacity: 0.80\"> </span><span style=\"background-color: hsl(120, 100.00%, 85.33%); opacity: 0.85\" title=\"0.005\">datum</span><span style=\"opacity: 0.80\"> practitioner </span><span style=\"background-color: hsl(120, 100.00%, 81.29%); opacity: 0.87\" title=\"0.007\">generate</span><span style=\"opacity: 0.80\"> </span><span style=\"background-color: hsl(120, 100.00%, 85.33%); opacity: 0.85\" title=\"0.005\">datum</span><span style=\"opacity: 0.80\"> need ondemand ensure robust unbiased model performance moreover </span><span style=\"background-color: hsl(0, 100.00%, 90.24%); opacity: 0.83\" title=\"-0.003\">synthetic</span><span style=\"opacity: 0.80\"> </span><span style=\"background-color: hsl(120, 100.00%, 85.33%); opacity: 0.85\" title=\"0.005\">datum</span><span style=\"opacity: 0.80\"> provide label necessary build </span><span style=\"background-color: hsl(120, 100.00%, 82.32%); opacity: 0.86\" title=\"0.007\">new</span><span style=\"opacity: 0.80\"> model robotic </span><span style=\"background-color: hsl(0, 100.00%, 85.87%); opacity: 0.85\" title=\"-0.005\">autonomy</span><span style=\"opacity: 0.80\"> metaverse application many thank fast company recognize </span><span style=\"background-color: hsl(0, 100.00%, 89.80%); opacity: 0.83\" title=\"-0.003\">synthesis</span><span style=\"opacity: 0.80\"> </span><span style=\"background-color: hsl(0, 100.00%, 79.57%); opacity: 0.88\" title=\"-0.008\">ai</span><span style=\"opacity: 0.80\"> leader </span><span style=\"background-color: hsl(0, 100.00%, 90.24%); opacity: 0.83\" title=\"-0.003\">synthetic</span><span style=\"opacity: 0.80\"> </span><span style=\"background-color: hsl(120, 100.00%, 85.33%); opacity: 0.85\" title=\"0.005\">datum</span><span style=\"opacity: 0.80\"> </span><span style=\"background-color: hsl(120, 100.00%, 82.94%); opacity: 0.86\" title=\"0.006\">recognition</span><span style=\"opacity: 0.80\"> great validation </span><span style=\"background-color: hsl(0, 100.00%, 82.18%); opacity: 0.86\" title=\"-0.007\">emerge</span><span style=\"opacity: 0.80\"> </span><span style=\"background-color: hsl(0, 100.00%, 80.54%); opacity: 0.87\" title=\"-0.008\">role</span><span style=\"opacity: 0.80\"> </span><span style=\"background-color: hsl(0, 100.00%, 90.24%); opacity: 0.83\" title=\"-0.003\">synthetic</span><span style=\"opacity: 0.80\"> </span><span style=\"background-color: hsl(120, 100.00%, 85.33%); opacity: 0.85\" title=\"0.005\">datum</span><span style=\"opacity: 0.80\"> future </span><span style=\"background-color: hsl(0, 100.00%, 79.57%); opacity: 0.88\" title=\"-0.008\">ai</span><span style=\"opacity: 0.80\"> </span><span style=\"background-color: hsl(0, 100.00%, 88.21%); opacity: 0.83\" title=\"-0.004\">development</span><span style=\"opacity: 0.80\"> continue behzadi addition </span><span style=\"background-color: hsl(120, 100.00%, 82.94%); opacity: 0.86\" title=\"0.006\">recognition</span><span style=\"opacity: 0.80\"> fast company </span><span style=\"background-color: hsl(0, 100.00%, 89.80%); opacity: 0.83\" title=\"-0.003\">synthesis</span><span style=\"opacity: 0.80\"> </span><span style=\"background-color: hsl(0, 100.00%, 79.57%); opacity: 0.88\" title=\"-0.008\">ai</span><span style=\"opacity: 0.80\"> also recently </span><span style=\"background-color: hsl(0, 100.00%, 80.12%); opacity: 0.87\" title=\"-0.008\">list</span><span style=\"opacity: 0.80\"> mit technology review breakthrough technology startup global innovator </span><span style=\"background-color: hsl(0, 100.00%, 89.80%); opacity: 0.83\" title=\"-0.003\">synthesis</span><span style=\"opacity: 0.80\"> </span><span style=\"background-color: hsl(0, 100.00%, 79.57%); opacity: 0.88\" title=\"-0.008\">ai</span><span style=\"opacity: 0.80\"> </span><span style=\"background-color: hsl(0, 100.00%, 82.18%); opacity: 0.86\" title=\"-0.007\">emerge</span><span style=\"opacity: 0.80\"> stealth unique disruptive </span><span style=\"background-color: hsl(0, 100.00%, 84.33%); opacity: 0.85\" title=\"-0.006\">approach</span><span style=\"opacity: 0.80\"> </span><span style=\"background-color: hsl(0, 100.00%, 76.68%); opacity: 0.89\" title=\"-0.010\">training</span><span style=\"opacity: 0.80\"> model last year </span><span style=\"background-color: hsl(0, 100.00%, 89.80%); opacity: 0.83\" title=\"-0.003\">synthesis</span><span style=\"opacity: 0.80\"> </span><span style=\"background-color: hsl(0, 100.00%, 79.57%); opacity: 0.88\" title=\"-0.008\">ai</span><span style=\"opacity: 0.80\"> </span><span style=\"background-color: hsl(120, 100.00%, 74.85%); opacity: 0.90\" title=\"0.011\">spearhead</span><span style=\"opacity: 0.80\"> effort introduce </span><span style=\"background-color: hsl(0, 100.00%, 90.24%); opacity: 0.83\" title=\"-0.003\">synthetic</span><span style=\"opacity: 0.80\"> </span><span style=\"background-color: hsl(120, 100.00%, 85.33%); opacity: 0.85\" title=\"0.005\">datum</span><span style=\"opacity: 0.80\"> world artificial intelligence </span><span style=\"background-color: hsl(0, 100.00%, 79.09%); opacity: 0.88\" title=\"-0.009\">publish</span><span style=\"opacity: 0.80\"> </span><span style=\"background-color: hsl(0, 100.00%, 84.91%); opacity: 0.85\" title=\"-0.005\">first</span><span style=\"opacity: 0.80\"> book </span><span style=\"background-color: hsl(0, 100.00%, 90.24%); opacity: 0.83\" title=\"-0.003\">synthetic</span><span style=\"opacity: 0.80\"> </span><span style=\"background-color: hsl(120, 100.00%, 85.33%); opacity: 0.85\" title=\"0.005\">datum</span><span style=\"opacity: 0.80\"> company also </span><span style=\"background-color: hsl(0, 100.00%, 79.09%); opacity: 0.88\" title=\"-0.009\">publish</span><span style=\"opacity: 0.80\"> </span><span style=\"background-color: hsl(0, 100.00%, 84.91%); opacity: 0.85\" title=\"-0.005\">first</span><span style=\"opacity: 0.80\"> industry survey benefit </span><span style=\"background-color: hsl(0, 100.00%, 90.24%); opacity: 0.83\" title=\"-0.003\">synthetic</span><span style=\"opacity: 0.80\"> </span><span style=\"background-color: hsl(120, 100.00%, 85.33%); opacity: 0.85\" title=\"0.005\">datum</span><span style=\"opacity: 0.80\"> </span><span style=\"background-color: hsl(0, 100.00%, 79.09%); opacity: 0.88\" title=\"-0.009\">publish</span><span style=\"opacity: 0.80\"> </span><span style=\"background-color: hsl(0, 100.00%, 84.91%); opacity: 0.85\" title=\"-0.005\">first</span><span style=\"opacity: 0.80\"> </span><span style=\"background-color: hsl(0, 100.00%, 88.21%); opacity: 0.83\" title=\"-0.004\">development</span><span style=\"opacity: 0.80\"> stateoftheart facial model </span><span style=\"background-color: hsl(0, 100.00%, 90.24%); opacity: 0.83\" title=\"-0.003\">synthetic</span><span style=\"opacity: 0.80\"> </span><span style=\"background-color: hsl(120, 100.00%, 85.33%); opacity: 0.85\" title=\"0.005\">datum</span><span style=\"opacity: 0.80\"> company also </span><span style=\"background-color: hsl(0, 100.00%, 84.91%); opacity: 0.85\" title=\"-0.005\">first</span><span style=\"opacity: 0.80\"> release selfserve </span><span style=\"background-color: hsl(0, 100.00%, 90.24%); opacity: 0.83\" title=\"-0.003\">synthetic</span><span style=\"opacity: 0.80\"> </span><span style=\"background-color: hsl(120, 100.00%, 85.33%); opacity: 0.85\" title=\"0.005\">datum</span><span style=\"opacity: 0.80\"> </span><span style=\"background-color: hsl(120, 100.00%, 74.74%); opacity: 0.90\" title=\"0.011\">product</span><span style=\"opacity: 0.80\"> </span><span style=\"background-color: hsl(0, 100.00%, 89.80%); opacity: 0.83\" title=\"-0.003\">synthesis</span><span style=\"opacity: 0.80\"> </span><span style=\"background-color: hsl(0, 100.00%, 79.57%); opacity: 0.88\" title=\"-0.008\">ai</span><span style=\"opacity: 0.80\"> </span><span style=\"background-color: hsl(0, 100.00%, 83.17%); opacity: 0.86\" title=\"-0.006\">launch</span><span style=\"opacity: 0.80\"> humanapi enable programmatic generation </span><span style=\"background-color: hsl(120, 100.00%, 72.35%); opacity: 0.92\" title=\"0.013\">million</span><span style=\"opacity: 0.80\"> unique highquality </span><span style=\"background-color: hsl(120, 100.00%, 77.35%); opacity: 0.89\" title=\"0.010\">digital</span><span style=\"opacity: 0.80\"> human announcement come month </span><span style=\"background-color: hsl(0, 100.00%, 83.17%); opacity: 0.86\" title=\"-0.006\">launch</span><span style=\"opacity: 0.80\"> thefaceapi </span><span style=\"background-color: hsl(0, 100.00%, 90.24%); opacity: 0.83\" title=\"-0.003\">synthetic</span><span style=\"opacity: 0.80\"> dataasaservice </span><span style=\"background-color: hsl(120, 100.00%, 74.74%); opacity: 0.90\" title=\"0.011\">product</span><span style=\"opacity: 0.80\"> deliver label facial image lead smartphone automobile technology company recently </span><span style=\"background-color: hsl(0, 100.00%, 89.80%); opacity: 0.83\" title=\"-0.003\">synthesis</span><span style=\"opacity: 0.80\"> </span><span style=\"background-color: hsl(0, 100.00%, 79.57%); opacity: 0.88\" title=\"-0.008\">ai</span><span style=\"opacity: 0.80\"> announce enhanced capability support </span><span style=\"background-color: hsl(0, 100.00%, 88.21%); opacity: 0.83\" title=\"-0.004\">development</span><span style=\"opacity: 0.80\"> advance </span><span style=\"background-color: hsl(120, 100.00%, 77.35%); opacity: 0.89\" title=\"0.010\">digital</span><span style=\"opacity: 0.80\"> human </span><span style=\"background-color: hsl(120, 100.00%, 82.32%); opacity: 0.86\" title=\"0.007\">new</span><span style=\"opacity: 0.80\"> functionality pose estimation action </span><span style=\"background-color: hsl(120, 100.00%, 82.94%); opacity: 0.86\" title=\"0.006\">recognition</span><span style=\"opacity: 0.80\"> highdensity landmark </span><span style=\"background-color: hsl(120, 100.00%, 82.32%); opacity: 0.86\" title=\"0.007\">new</span><span style=\"opacity: 0.80\"> capability enable advanced application metaverse augment reality virtual reality vr other </span><span style=\"background-color: hsl(120, 100.00%, 81.29%); opacity: 0.87\" title=\"0.007\">generate</span><span style=\"opacity: 0.80\"> </span><span style=\"background-color: hsl(120, 100.00%, 80.44%); opacity: 0.87\" title=\"0.008\">medium</span><span style=\"opacity: 0.80\"> home enterprise security </span><span style=\"background-color: hsl(0, 100.00%, 79.57%); opacity: 0.88\" title=\"-0.008\">ai</span><span style=\"opacity: 0.80\"> fitness company plan </span><span style=\"background-color: hsl(0, 100.00%, 83.17%); opacity: 0.86\" title=\"-0.006\">launch</span><span style=\"opacity: 0.80\"> several </span><span style=\"background-color: hsl(120, 100.00%, 82.32%); opacity: 0.86\" title=\"0.007\">new</span><span style=\"opacity: 0.80\"> apis address </span><span style=\"background-color: hsl(120, 100.00%, 82.32%); opacity: 0.86\" title=\"0.007\">new</span><span style=\"opacity: 0.80\"> usecase robotic </span><span style=\"background-color: hsl(0, 100.00%, 85.87%); opacity: 0.85\" title=\"-0.005\">autonomy</span><span style=\"opacity: 0.80\"> fast company world </span><span style=\"background-color: hsl(120, 100.00%, 80.85%); opacity: 0.87\" title=\"0.008\">innovative</span><span style=\"opacity: 0.80\"> company play essential </span><span style=\"background-color: hsl(0, 100.00%, 80.54%); opacity: 0.87\" title=\"-0.008\">role</span><span style=\"opacity: 0.80\"> address press issue face society re fight climate change spur decarbonization effort ameliorate strain supply chain help reconnect one share passion say fast company deputy editor second year row coincide issue </span><span style=\"background-color: hsl(0, 100.00%, 83.17%); opacity: 0.86\" title=\"-0.006\">launch</span><span style=\"opacity: 0.80\"> fast company host itsmost </span><span style=\"background-color: hsl(120, 100.00%, 80.85%); opacity: 0.87\" title=\"0.008\">innovative</span><span style=\"opacity: 0.80\"> company summit virtual multiday summit celebrate </span><span style=\"background-color: hsl(120, 100.00%, 80.85%); opacity: 0.87\" title=\"0.008\">innovative</span><span style=\"opacity: 0.80\"> company business provide early </span><span style=\"background-color: hsl(120, 100.00%, 82.71%); opacity: 0.86\" title=\"0.007\">look</span><span style=\"opacity: 0.80\"> major business trend </span><span style=\"background-color: hsl(120, 100.00%, 82.71%); opacity: 0.86\" title=\"0.007\">look</span><span style=\"opacity: 0.80\"> take innovate fast companysmost </span><span style=\"background-color: hsl(120, 100.00%, 80.85%); opacity: 0.87\" title=\"0.008\">innovative</span><span style=\"opacity: 0.80\"> company issue marchapril available onlinehere well inapp form itune newsstand begin hashtag </span><span style=\"background-color: hsl(0, 100.00%, 89.80%); opacity: 0.83\" title=\"-0.003\">synthesis</span><span style=\"opacity: 0.80\"> </span><span style=\"background-color: hsl(0, 100.00%, 79.57%); opacity: 0.88\" title=\"-0.008\">ai</span><span style=\"opacity: 0.80\"> </span><span style=\"background-color: hsl(0, 100.00%, 89.80%); opacity: 0.83\" title=\"-0.003\">synthesis</span><span style=\"opacity: 0.80\"> </span><span style=\"background-color: hsl(0, 100.00%, 79.57%); opacity: 0.88\" title=\"-0.008\">ai</span><span style=\"opacity: 0.80\"> franciscobase technology company pioneer use </span><span style=\"background-color: hsl(0, 100.00%, 90.24%); opacity: 0.83\" title=\"-0.003\">synthetic</span><span style=\"opacity: 0.80\"> </span><span style=\"background-color: hsl(120, 100.00%, 85.33%); opacity: 0.85\" title=\"0.005\">datum</span><span style=\"opacity: 0.80\"> build </span><span style=\"background-color: hsl(120, 100.00%, 72.08%); opacity: 0.92\" title=\"0.013\">capable</span><span style=\"opacity: 0.80\"> ethical computer vision model proprietary combination generative neural network cinematic pipeline </span><span style=\"background-color: hsl(0, 100.00%, 89.80%); opacity: 0.83\" title=\"-0.003\">synthesis</span><span style=\"opacity: 0.80\"> platform create </span><span style=\"background-color: hsl(120, 100.00%, 66.57%); opacity: 0.95\" title=\"0.017\">vast</span><span style=\"opacity: 0.80\"> amount image </span><span style=\"background-color: hsl(120, 100.00%, 85.33%); opacity: 0.85\" title=\"0.005\">datum</span><span style=\"opacity: 0.80\"> </span><span style=\"background-color: hsl(120, 100.00%, 81.24%); opacity: 0.87\" title=\"0.007\">order</span><span style=\"opacity: 0.80\"> magnitude increase speed reduce cost compare current </span><span style=\"background-color: hsl(0, 100.00%, 84.33%); opacity: 0.85\" title=\"-0.006\">approach</span><span style=\"opacity: 0.80\"> view original content download www press release provide courtesy prnewswire view opinion </span><span style=\"background-color: hsl(120, 100.00%, 60.00%); opacity: 1.00\" title=\"0.022\">statement</span><span style=\"opacity: 0.80\"> press release endorse gray </span><span style=\"background-color: hsl(120, 100.00%, 80.44%); opacity: 0.87\" title=\"0.008\">medium</span><span style=\"opacity: 0.80\"> group necessarily state reflect gray </span><span style=\"background-color: hsl(120, 100.00%, 80.44%); opacity: 0.87\" title=\"0.008\">medium</span><span style=\"opacity: 0.80\"> newscastslive eventssport carescontact public inspection filepublicfile com </span><span style=\"background-color: hsl(0, 100.00%, 89.80%); opacity: 0.83\" title=\"-0.003\">synthesis</span><span style=\"opacity: 0.80\"> </span><span style=\"background-color: hsl(0, 100.00%, 79.57%); opacity: 0.88\" title=\"-0.008\">ai</span><span style=\"opacity: 0.80\"> rank annual </span><span style=\"background-color: hsl(0, 100.00%, 80.12%); opacity: 0.87\" title=\"-0.008\">list</span><span style=\"opacity: 0.80\"> world </span><span style=\"background-color: hsl(120, 100.00%, 80.85%); opacity: 0.87\" title=\"0.008\">innovative</span><span style=\"opacity: 0.80\"> company </span><span style=\"background-color: hsl(120, 100.00%, 82.94%); opacity: 0.86\" title=\"0.006\">recognition</span><span style=\"opacity: 0.80\"> emphasize company lead </span><span style=\"background-color: hsl(0, 100.00%, 80.54%); opacity: 0.87\" title=\"-0.008\">role</span><span style=\"opacity: 0.80\"> enable next_generation system synthetic_data </span><span style=\"background-color: hsl(120, 100.00%, 74.73%); opacity: 0.90\" title=\"0.011\">simulation</span><span style=\"opacity: 0.80\"> technologie march_prnewswire </span><span style=\"background-color: hsl(0, 100.00%, 89.80%); opacity: 0.83\" title=\"-0.003\">synthesis</span><span style=\"opacity: 0.80\"> </span><span style=\"background-color: hsl(0, 100.00%, 79.57%); opacity: 0.88\" title=\"-0.008\">ai</span><span style=\"opacity: 0.80\"> synthetic_data technology rank number prestigious_annual </span><span style=\"background-color: hsl(0, 100.00%, 80.12%); opacity: 0.87\" title=\"-0.008\">list</span><span style=\"opacity: 0.80\"> theworld </span><span style=\"background-color: hsl(120, 100.00%, 80.85%); opacity: 0.87\" title=\"0.008\">innovative</span><span style=\"opacity: 0.80\"> company </span><span style=\"background-color: hsl(0, 100.00%, 80.54%); opacity: 0.87\" title=\"-0.008\">role</span><span style=\"opacity: 0.80\"> pioneer synthetic_data technology create </span><span style=\"background-color: hsl(120, 100.00%, 72.08%); opacity: 0.92\" title=\"0.013\">capable</span><span style=\"opacity: 0.80\"> model synthetic_data disruptive </span><span style=\"background-color: hsl(0, 100.00%, 84.33%); opacity: 0.85\" title=\"-0.006\">approach</span><span style=\"opacity: 0.80\"> </span><span style=\"background-color: hsl(0, 100.00%, 76.68%); opacity: 0.89\" title=\"-0.010\">training</span><span style=\"opacity: 0.80\"> model use image </span><span style=\"background-color: hsl(120, 100.00%, 74.73%); opacity: 0.90\" title=\"0.011\">simulation</span><span style=\"opacity: 0.80\"> ondemand platform provide vast_amount perfectly_labele data company client include lead technology robotic metaverse smartphone </span><span style=\"background-color: hsl(0, 100.00%, 85.87%); opacity: 0.85\" title=\"-0.005\">autonomy</span><span style=\"opacity: 0.80\"> company </span><span style=\"background-color: hsl(0, 100.00%, 89.80%); opacity: 0.83\" title=\"-0.003\">synthesis</span><span style=\"opacity: 0.80\"> </span><span style=\"background-color: hsl(0, 100.00%, 79.57%); opacity: 0.88\" title=\"-0.008\">ai</span><span style=\"opacity: 0.80\"> san_franciscobase technology company pioneer use synthetic_data build </span><span style=\"background-color: hsl(120, 100.00%, 72.08%); opacity: 0.92\" title=\"0.013\">capable</span><span style=\"opacity: 0.80\"> computer_vision model proprietary_combination generative neural_network cinematic_cgi pipelines_synthesis platform create vast_amount image </span><span style=\"background-color: hsl(120, 100.00%, 85.33%); opacity: 0.85\" title=\"0.005\">datum</span><span style=\"opacity: 0.80\"> </span><span style=\"background-color: hsl(120, 100.00%, 81.24%); opacity: 0.87\" title=\"0.007\">order</span><span style=\"opacity: 0.80\"> magnitude_increase speed compare current_approache ranking_cement synthesis_ais </span><span style=\"background-color: hsl(0, 100.00%, 80.54%); opacity: 0.87\" title=\"-0.008\">role</span><span style=\"opacity: 0.80\"> pioneer synthetic_data technology create </span><span style=\"background-color: hsl(120, 100.00%, 72.08%); opacity: 0.92\" title=\"0.013\">capable</span><span style=\"opacity: 0.80\"> </span><span style=\"background-color: hsl(0, 100.00%, 79.57%); opacity: 0.88\" title=\"-0.008\">ai</span><span style=\"opacity: 0.80\"> model inflection_point utilization behzadi_ceo founder </span><span style=\"background-color: hsl(0, 100.00%, 89.80%); opacity: 0.83\" title=\"-0.003\">synthesis</span><span style=\"opacity: 0.80\"> </span><span style=\"background-color: hsl(0, 100.00%, 79.57%); opacity: 0.88\" title=\"-0.008\">ai</span><span style=\"opacity: 0.80\"> company adopt synthetic_data </span><span style=\"background-color: hsl(0, 100.00%, 84.33%); opacity: 0.85\" title=\"-0.006\">approach</span><span style=\"opacity: 0.80\"> build_better model fraction time cost traditional_humanlabeling method data practitioner </span><span style=\"background-color: hsl(120, 100.00%, 81.29%); opacity: 0.87\" title=\"0.007\">generate</span><span style=\"opacity: 0.80\"> </span><span style=\"background-color: hsl(120, 100.00%, 85.33%); opacity: 0.85\" title=\"0.005\">datum</span><span style=\"opacity: 0.80\"> need ondemand ensure robust unbiased model performance moreover synthetic_data provide label necessary build </span><span style=\"background-color: hsl(120, 100.00%, 82.32%); opacity: 0.86\" title=\"0.007\">new</span><span style=\"opacity: 0.80\"> model robotic </span><span style=\"background-color: hsl(0, 100.00%, 85.87%); opacity: 0.85\" title=\"-0.005\">autonomy</span><span style=\"opacity: 0.80\"> metaverse application many thank fast company recognize </span><span style=\"background-color: hsl(0, 100.00%, 89.80%); opacity: 0.83\" title=\"-0.003\">synthesis</span><span style=\"opacity: 0.80\"> </span><span style=\"background-color: hsl(0, 100.00%, 79.57%); opacity: 0.88\" title=\"-0.008\">ai</span><span style=\"opacity: 0.80\"> leader synthetic_data </span><span style=\"background-color: hsl(120, 100.00%, 82.94%); opacity: 0.86\" title=\"0.006\">recognition</span><span style=\"opacity: 0.80\"> great validation </span><span style=\"background-color: hsl(0, 100.00%, 82.18%); opacity: 0.86\" title=\"-0.007\">emerge</span><span style=\"opacity: 0.80\"> </span><span style=\"background-color: hsl(0, 100.00%, 80.54%); opacity: 0.87\" title=\"-0.008\">role</span><span style=\"opacity: 0.80\"> synthetic_data future </span><span style=\"background-color: hsl(0, 100.00%, 79.57%); opacity: 0.88\" title=\"-0.008\">ai</span><span style=\"opacity: 0.80\"> </span><span style=\"background-color: hsl(0, 100.00%, 88.21%); opacity: 0.83\" title=\"-0.004\">development</span><span style=\"opacity: 0.80\"> addition </span><span style=\"background-color: hsl(120, 100.00%, 82.94%); opacity: 0.86\" title=\"0.006\">recognition</span><span style=\"opacity: 0.80\"> fast company </span><span style=\"background-color: hsl(0, 100.00%, 89.80%); opacity: 0.83\" title=\"-0.003\">synthesis</span><span style=\"opacity: 0.80\"> </span><span style=\"background-color: hsl(0, 100.00%, 79.57%); opacity: 0.88\" title=\"-0.008\">ai</span><span style=\"opacity: 0.80\"> also recently </span><span style=\"background-color: hsl(0, 100.00%, 80.12%); opacity: 0.87\" title=\"-0.008\">list</span><span style=\"opacity: 0.80\"> mit_technology review breakthrough technology startup global innovator </span><span style=\"background-color: hsl(0, 100.00%, 89.80%); opacity: 0.83\" title=\"-0.003\">synthesis</span><span style=\"opacity: 0.80\"> </span><span style=\"background-color: hsl(0, 100.00%, 79.57%); opacity: 0.88\" title=\"-0.008\">ai</span><span style=\"opacity: 0.80\"> </span><span style=\"background-color: hsl(0, 100.00%, 82.18%); opacity: 0.86\" title=\"-0.007\">emerge</span><span style=\"opacity: 0.80\"> stealth unique disruptive </span><span style=\"background-color: hsl(0, 100.00%, 84.33%); opacity: 0.85\" title=\"-0.006\">approach</span><span style=\"opacity: 0.80\"> </span><span style=\"background-color: hsl(0, 100.00%, 76.68%); opacity: 0.89\" title=\"-0.010\">training</span><span style=\"opacity: 0.80\"> </span><span style=\"background-color: hsl(0, 100.00%, 79.57%); opacity: 0.88\" title=\"-0.008\">ai</span><span style=\"opacity: 0.80\"> model last_year </span><span style=\"background-color: hsl(0, 100.00%, 89.80%); opacity: 0.83\" title=\"-0.003\">synthesis</span><span style=\"opacity: 0.80\"> </span><span style=\"background-color: hsl(0, 100.00%, 79.57%); opacity: 0.88\" title=\"-0.008\">ai</span><span style=\"opacity: 0.80\"> </span><span style=\"background-color: hsl(120, 100.00%, 74.85%); opacity: 0.90\" title=\"0.011\">spearhead</span><span style=\"opacity: 0.80\"> effort introduce_synthetic </span><span style=\"background-color: hsl(120, 100.00%, 85.33%); opacity: 0.85\" title=\"0.005\">datum</span><span style=\"opacity: 0.80\"> world head artificial_intelligence </span><span style=\"background-color: hsl(0, 100.00%, 79.09%); opacity: 0.88\" title=\"-0.009\">publish</span><span style=\"opacity: 0.80\"> </span><span style=\"background-color: hsl(0, 100.00%, 84.91%); opacity: 0.85\" title=\"-0.005\">first</span><span style=\"opacity: 0.80\"> book synthetic_data company also </span><span style=\"background-color: hsl(0, 100.00%, 79.09%); opacity: 0.88\" title=\"-0.009\">publish</span><span style=\"opacity: 0.80\"> </span><span style=\"background-color: hsl(0, 100.00%, 84.91%); opacity: 0.85\" title=\"-0.005\">first</span><span style=\"opacity: 0.80\"> industry survey benefit synthetic_data </span><span style=\"background-color: hsl(0, 100.00%, 79.09%); opacity: 0.88\" title=\"-0.009\">publish</span><span style=\"opacity: 0.80\"> </span><span style=\"background-color: hsl(0, 100.00%, 84.91%); opacity: 0.85\" title=\"-0.005\">first</span><span style=\"opacity: 0.80\"> white_paper </span><span style=\"background-color: hsl(0, 100.00%, 88.21%); opacity: 0.83\" title=\"-0.004\">development</span><span style=\"opacity: 0.80\"> stateoftheart facial model synthetic_data company also </span><span style=\"background-color: hsl(0, 100.00%, 84.91%); opacity: 0.85\" title=\"-0.005\">first</span><span style=\"opacity: 0.80\"> release selfserve_synthetic </span><span style=\"background-color: hsl(120, 100.00%, 85.33%); opacity: 0.85\" title=\"0.005\">datum</span><span style=\"opacity: 0.80\"> </span><span style=\"background-color: hsl(120, 100.00%, 74.74%); opacity: 0.90\" title=\"0.011\">product</span><span style=\"opacity: 0.80\"> </span><span style=\"background-color: hsl(0, 100.00%, 89.80%); opacity: 0.83\" title=\"-0.003\">synthesis</span><span style=\"opacity: 0.80\"> </span><span style=\"background-color: hsl(0, 100.00%, 79.57%); opacity: 0.88\" title=\"-0.008\">ai</span><span style=\"opacity: 0.80\"> launched_humanapi enable programmatic generation </span><span style=\"background-color: hsl(120, 100.00%, 72.35%); opacity: 0.92\" title=\"0.013\">million</span><span style=\"opacity: 0.80\"> unique highquality </span><span style=\"background-color: hsl(120, 100.00%, 77.35%); opacity: 0.89\" title=\"0.010\">digital</span><span style=\"opacity: 0.80\"> human month </span><span style=\"background-color: hsl(0, 100.00%, 83.17%); opacity: 0.86\" title=\"-0.006\">launch</span><span style=\"opacity: 0.80\"> thefaceapi_synthetic dataasaservice </span><span style=\"background-color: hsl(120, 100.00%, 74.74%); opacity: 0.90\" title=\"0.011\">product</span><span style=\"opacity: 0.80\"> deliver label facial image lead smartphone automobile technology company recently </span><span style=\"background-color: hsl(0, 100.00%, 89.80%); opacity: 0.83\" title=\"-0.003\">synthesis</span><span style=\"opacity: 0.80\"> </span><span style=\"background-color: hsl(0, 100.00%, 79.57%); opacity: 0.88\" title=\"-0.008\">ai</span><span style=\"opacity: 0.80\"> announce enhanced_capabilitie support </span><span style=\"background-color: hsl(0, 100.00%, 88.21%); opacity: 0.83\" title=\"-0.004\">development</span><span style=\"opacity: 0.80\"> advance </span><span style=\"background-color: hsl(120, 100.00%, 77.35%); opacity: 0.89\" title=\"0.010\">digital</span><span style=\"opacity: 0.80\"> human </span><span style=\"background-color: hsl(120, 100.00%, 82.32%); opacity: 0.86\" title=\"0.007\">new</span><span style=\"opacity: 0.80\"> functionality pose_estimation action </span><span style=\"background-color: hsl(120, 100.00%, 82.94%); opacity: 0.86\" title=\"0.006\">recognition</span><span style=\"opacity: 0.80\"> highdensity_landmark </span><span style=\"background-color: hsl(120, 100.00%, 82.32%); opacity: 0.86\" title=\"0.007\">new</span><span style=\"opacity: 0.80\"> capability enable advanced application metaverse augmented_reality ar_virtual reality_vr other </span><span style=\"background-color: hsl(120, 100.00%, 81.29%); opacity: 0.87\" title=\"0.007\">generate</span><span style=\"opacity: 0.80\"> </span><span style=\"background-color: hsl(120, 100.00%, 80.44%); opacity: 0.87\" title=\"0.008\">medium</span><span style=\"opacity: 0.80\"> home enterprise security </span><span style=\"background-color: hsl(0, 100.00%, 79.57%); opacity: 0.88\" title=\"-0.008\">ai</span><span style=\"opacity: 0.80\"> fitness company plan </span><span style=\"background-color: hsl(0, 100.00%, 83.17%); opacity: 0.86\" title=\"-0.006\">launch</span><span style=\"opacity: 0.80\"> several </span><span style=\"background-color: hsl(120, 100.00%, 82.32%); opacity: 0.86\" title=\"0.007\">new</span><span style=\"opacity: 0.80\"> apis address </span><span style=\"background-color: hsl(120, 100.00%, 82.32%); opacity: 0.86\" title=\"0.007\">new</span><span style=\"opacity: 0.80\"> usecase robotic </span><span style=\"background-color: hsl(0, 100.00%, 85.87%); opacity: 0.85\" title=\"-0.005\">autonomy</span><span style=\"opacity: 0.80\"> fast company world </span><span style=\"background-color: hsl(120, 100.00%, 80.85%); opacity: 0.87\" title=\"0.008\">innovative</span><span style=\"opacity: 0.80\"> company play address pressing_issue face society fighting_climate change spurring_decarbonization efforts_ameliorating strain supply_chain help us_reconnect shared_passion say fast company second year row coincide issue </span><span style=\"background-color: hsl(0, 100.00%, 83.17%); opacity: 0.86\" title=\"-0.006\">launch</span><span style=\"opacity: 0.80\"> fast company host_itsmost </span><span style=\"background-color: hsl(120, 100.00%, 80.85%); opacity: 0.87\" title=\"0.008\">innovative</span><span style=\"opacity: 0.80\"> company summit summit celebrate </span><span style=\"background-color: hsl(120, 100.00%, 80.85%); opacity: 0.87\" title=\"0.008\">innovative</span><span style=\"opacity: 0.80\"> company business provide early </span><span style=\"background-color: hsl(120, 100.00%, 82.71%); opacity: 0.86\" title=\"0.007\">look</span><span style=\"opacity: 0.80\"> major business trend </span><span style=\"background-color: hsl(120, 100.00%, 82.71%); opacity: 0.86\" title=\"0.007\">look</span><span style=\"opacity: 0.80\"> take innovate </span><span style=\"background-color: hsl(120, 100.00%, 80.85%); opacity: 0.87\" title=\"0.008\">innovative</span><span style=\"opacity: 0.80\"> company issue_marchapril available_onlinehere well inapp form newsstands_beginne hashtag </span><span style=\"background-color: hsl(0, 100.00%, 89.80%); opacity: 0.83\" title=\"-0.003\">synthesis</span><span style=\"opacity: 0.80\"> </span><span style=\"background-color: hsl(0, 100.00%, 79.57%); opacity: 0.88\" title=\"-0.008\">ai</span><span style=\"opacity: 0.80\"> </span><span style=\"background-color: hsl(0, 100.00%, 89.80%); opacity: 0.83\" title=\"-0.003\">synthesis</span><span style=\"opacity: 0.80\"> </span><span style=\"background-color: hsl(0, 100.00%, 79.57%); opacity: 0.88\" title=\"-0.008\">ai</span><span style=\"opacity: 0.80\"> san_franciscobase technology company pioneer use synthetic_data build </span><span style=\"background-color: hsl(120, 100.00%, 72.08%); opacity: 0.92\" title=\"0.013\">capable</span><span style=\"opacity: 0.80\"> ethical computer_vision model proprietary_combination generative neural_network cinematic_cgi pipelines_synthesis platform create vast_amount image </span><span style=\"background-color: hsl(120, 100.00%, 85.33%); opacity: 0.85\" title=\"0.005\">datum</span><span style=\"opacity: 0.80\"> </span><span style=\"background-color: hsl(120, 100.00%, 81.24%); opacity: 0.87\" title=\"0.007\">order</span><span style=\"opacity: 0.80\"> magnitude_increase speed compare current_approache view_original content download_multimedia https_www prnewswire_htmlsource press_release provided_courtesy prnewswire views_opinion </span><span style=\"background-color: hsl(120, 100.00%, 60.00%); opacity: 1.00\" title=\"0.022\">statement</span><span style=\"opacity: 0.80\"> press_release endorse group necessarily_state reflect newsweatherlive_newscastslive uskoln_north thlincoln_ne public_inspection filepublicfile policyterm serviceeeo_gray rank fast_companys_annual </span><span style=\"background-color: hsl(0, 100.00%, 80.12%); opacity: 0.87\" title=\"-0.008\">list</span><span style=\"opacity: 0.80\"> world </span><span style=\"background-color: hsl(120, 100.00%, 82.94%); opacity: 0.86\" title=\"0.006\">recognition</span><span style=\"opacity: 0.80\"> emphasize company enable next_generation </span><span style=\"background-color: hsl(120, 100.00%, 74.73%); opacity: 0.90\" title=\"0.011\">simulation</span><span style=\"opacity: 0.80\"> technologie </span><span style=\"background-color: hsl(0, 100.00%, 79.57%); opacity: 0.88\" title=\"-0.008\">ai</span><span style=\"opacity: 0.80\"> pioneer theworld </span><span style=\"background-color: hsl(0, 100.00%, 80.54%); opacity: 0.87\" title=\"-0.008\">role</span><span style=\"opacity: 0.80\"> pioneer synthetic_data_technologie create </span><span style=\"background-color: hsl(120, 100.00%, 72.08%); opacity: 0.92\" title=\"0.013\">capable</span><span style=\"opacity: 0.80\"> ai_model synthetic_data disruptive_approach </span><span style=\"background-color: hsl(0, 100.00%, 76.68%); opacity: 0.89\" title=\"-0.010\">training</span><span style=\"opacity: 0.80\"> ai_model use image </span><span style=\"background-color: hsl(120, 100.00%, 74.73%); opacity: 0.90\" title=\"0.011\">simulation</span><span style=\"opacity: 0.80\"> ondemand platform_provide vast_amount perfectly_labele data company lead technology robotic metaverse smartphone </span><span style=\"background-color: hsl(0, 100.00%, 85.87%); opacity: 0.85\" title=\"-0.005\">autonomy</span><span style=\"opacity: 0.80\"> company synthesis_ai san_franciscobased_technology company_pioneere use synthetic_data build capable_computer_vision model proprietary_combination generative_neural_network cinematic_cgi_pipelines_synthesis platform image </span><span style=\"background-color: hsl(120, 100.00%, 85.33%); opacity: 0.85\" title=\"0.005\">datum</span><span style=\"opacity: 0.80\"> </span><span style=\"background-color: hsl(120, 100.00%, 81.24%); opacity: 0.87\" title=\"0.007\">order</span><span style=\"opacity: 0.80\"> reduced_cost_compare current_approache </span><span style=\"background-color: hsl(0, 100.00%, 80.54%); opacity: 0.87\" title=\"-0.008\">role</span><span style=\"opacity: 0.80\"> pioneer synthetic_data_technologie create </span><span style=\"background-color: hsl(120, 100.00%, 72.08%); opacity: 0.92\" title=\"0.013\">capable</span><span style=\"opacity: 0.80\"> inflection_point utilization synthetic_data behzadi_ceo founder companies_adopte synthetic_data_approache build_better model fraction time cost traditional_humanlabeling method data practitioner </span><span style=\"background-color: hsl(120, 100.00%, 81.29%); opacity: 0.87\" title=\"0.007\">generate</span><span style=\"opacity: 0.80\"> </span><span style=\"background-color: hsl(120, 100.00%, 85.33%); opacity: 0.85\" title=\"0.005\">datum</span><span style=\"opacity: 0.80\"> need ondemand ensuring_robust unbiased model_performance moreover synthetic_data provide label necessary build_new model robotic </span><span style=\"background-color: hsl(0, 100.00%, 85.87%); opacity: 0.85\" title=\"-0.005\">autonomy</span><span style=\"opacity: 0.80\"> metaverse application many thank recognize leader great_validation synthetic_data future </span><span style=\"background-color: hsl(0, 100.00%, 79.57%); opacity: 0.88\" title=\"-0.008\">ai</span><span style=\"opacity: 0.80\"> </span><span style=\"background-color: hsl(0, 100.00%, 88.21%); opacity: 0.83\" title=\"-0.004\">development</span><span style=\"opacity: 0.80\"> addition </span><span style=\"background-color: hsl(120, 100.00%, 82.94%); opacity: 0.86\" title=\"0.006\">recognition</span><span style=\"opacity: 0.80\"> also_recently </span><span style=\"background-color: hsl(0, 100.00%, 80.12%); opacity: 0.87\" title=\"-0.008\">list</span><span style=\"opacity: 0.80\"> breakthrough_technologie startup global_innovator </span><span style=\"background-color: hsl(0, 100.00%, 82.18%); opacity: 0.86\" title=\"-0.007\">emerge</span><span style=\"opacity: 0.80\"> stealth unique_disruptive </span><span style=\"background-color: hsl(0, 100.00%, 84.33%); opacity: 0.85\" title=\"-0.006\">approach</span><span style=\"opacity: 0.80\"> </span><span style=\"background-color: hsl(0, 100.00%, 76.68%); opacity: 0.89\" title=\"-0.010\">training</span><span style=\"opacity: 0.80\"> last_year </span><span style=\"background-color: hsl(120, 100.00%, 74.85%); opacity: 0.90\" title=\"0.011\">spearhead</span><span style=\"opacity: 0.80\"> effort introduce_synthetic </span><span style=\"background-color: hsl(120, 100.00%, 85.33%); opacity: 0.85\" title=\"0.005\">datum</span><span style=\"opacity: 0.80\"> world head artificial_intelligence_publishe synthetic_data company also </span><span style=\"background-color: hsl(0, 100.00%, 79.09%); opacity: 0.88\" title=\"-0.009\">publish</span><span style=\"opacity: 0.80\"> </span><span style=\"background-color: hsl(0, 100.00%, 84.91%); opacity: 0.85\" title=\"-0.005\">first</span><span style=\"opacity: 0.80\"> industry survey benefit synthetic_data </span><span style=\"background-color: hsl(0, 100.00%, 79.09%); opacity: 0.88\" title=\"-0.009\">publish</span><span style=\"opacity: 0.80\"> </span><span style=\"background-color: hsl(0, 100.00%, 84.91%); opacity: 0.85\" title=\"-0.005\">first</span><span style=\"opacity: 0.80\"> white_paper </span><span style=\"background-color: hsl(0, 100.00%, 88.21%); opacity: 0.83\" title=\"-0.004\">development</span><span style=\"opacity: 0.80\"> stateoftheart_facial model synthetic_data company also </span><span style=\"background-color: hsl(0, 100.00%, 84.91%); opacity: 0.85\" title=\"-0.005\">first</span><span style=\"opacity: 0.80\"> release selfserve_synthetic </span><span style=\"background-color: hsl(120, 100.00%, 85.33%); opacity: 0.85\" title=\"0.005\">datum</span><span style=\"opacity: 0.80\"> </span><span style=\"background-color: hsl(120, 100.00%, 74.74%); opacity: 0.90\" title=\"0.011\">product</span><span style=\"opacity: 0.80\"> synthesis_ai enable programmatic generation </span><span style=\"background-color: hsl(120, 100.00%, 72.35%); opacity: 0.92\" title=\"0.013\">million</span><span style=\"opacity: 0.80\"> unique highquality digital_human month </span><span style=\"background-color: hsl(0, 100.00%, 83.17%); opacity: 0.86\" title=\"-0.006\">launch</span><span style=\"opacity: 0.80\"> thefaceapi_synthetic dataasaservice </span><span style=\"background-color: hsl(120, 100.00%, 74.74%); opacity: 0.90\" title=\"0.011\">product</span><span style=\"opacity: 0.80\"> deliver label facial_image lead smartphone automobile technology_companie recently announce enhanced_capabilitie support </span><span style=\"background-color: hsl(0, 100.00%, 88.21%); opacity: 0.83\" title=\"-0.004\">development</span><span style=\"opacity: 0.80\"> advanced digital_human pose_estimation_action </span><span style=\"background-color: hsl(120, 100.00%, 82.94%); opacity: 0.86\" title=\"0.006\">recognition</span><span style=\"opacity: 0.80\"> highdensity_landmark enable_advanced application ar_virtual_reality_vr other </span><span style=\"background-color: hsl(120, 100.00%, 81.29%); opacity: 0.87\" title=\"0.007\">generate</span><span style=\"opacity: 0.80\"> </span><span style=\"background-color: hsl(120, 100.00%, 80.44%); opacity: 0.87\" title=\"0.008\">medium</span><span style=\"opacity: 0.80\"> home enterprise_security </span><span style=\"background-color: hsl(0, 100.00%, 79.57%); opacity: 0.88\" title=\"-0.008\">ai</span><span style=\"opacity: 0.80\"> fitness </span><span style=\"background-color: hsl(0, 100.00%, 83.17%); opacity: 0.86\" title=\"-0.006\">launch</span><span style=\"opacity: 0.80\"> several </span><span style=\"background-color: hsl(120, 100.00%, 82.32%); opacity: 0.86\" title=\"0.007\">new</span><span style=\"opacity: 0.80\"> apis address new_usecase robotic </span><span style=\"background-color: hsl(0, 100.00%, 85.87%); opacity: 0.85\" title=\"-0.005\">autonomy</span><span style=\"opacity: 0.80\"> fast_company world innovative_companie play addressing pressing_issues_face society spurring_decarbonization efforts_ameliorating strain supply_chain help us_reconnect shared_passion say second_year row coincide issue </span><span style=\"background-color: hsl(0, 100.00%, 83.17%); opacity: 0.86\" title=\"-0.006\">launch</span><span style=\"opacity: 0.80\"> summit summit business provide early </span><span style=\"background-color: hsl(120, 100.00%, 82.71%); opacity: 0.86\" title=\"0.007\">look</span><span style=\"opacity: 0.80\"> major business trend take innovate fast_companysmost available_onlinehere well inapp form newsstands_beginne hashtag company_pioneere use synthetic_data build </span><span style=\"background-color: hsl(120, 100.00%, 72.08%); opacity: 0.92\" title=\"0.013\">capable</span><span style=\"opacity: 0.80\"> ethical_computer_vision model proprietary_combination cinematic_cgi_pipelines_synthesis platform image </span><span style=\"background-color: hsl(120, 100.00%, 85.33%); opacity: 0.85\" title=\"0.005\">datum</span><span style=\"opacity: 0.80\"> </span><span style=\"background-color: hsl(120, 100.00%, 81.24%); opacity: 0.87\" title=\"0.007\">order</span><span style=\"opacity: 0.80\"> reduced_cost_compare current_approache view_original_content prnewswire_htmlsource_synthesis_aithe press_release provided_courtesy prnewswire views_opinions_statement press_release endorse gray_media group necessarily_state reflect gray_media_group_inc newsweatherlive_newscastslive com_fcc_policyterm serviceeeo_gray media_group_inc_station gray_television_inc</span>\n",
       "    </p>\n",
       "\n",
       "\n",
       "    \n",
       "\n",
       "    \n",
       "\n",
       "    \n",
       "\n",
       "    \n",
       "\n",
       "\n",
       "    \n",
       "\n",
       "    \n",
       "\n",
       "    \n",
       "\n",
       "    \n",
       "\n",
       "    \n",
       "\n",
       "    \n",
       "\n",
       "\n",
       "    \n",
       "\n",
       "    \n",
       "\n",
       "    \n",
       "\n",
       "    \n",
       "\n",
       "    \n",
       "\n",
       "    \n",
       "\n",
       "\n",
       "\n"
      ],
      "text/plain": [
       "<IPython.core.display.HTML object>"
      ]
     },
     "execution_count": 83,
     "metadata": {},
     "output_type": "execute_result"
    }
   ],
   "source": [
    "clf = svm\n",
    "element = 34567\n",
    "text = news_lemmatized_str[element]\n",
    "targets = 5\n",
    "\n",
    "eli5.show_prediction(clf, doc=text, targets=[targets], vec=tfidf, top=30, feature_names=feature_names)"
   ]
  },
  {
   "cell_type": "code",
   "execution_count": 85,
   "metadata": {},
   "outputs": [
    {
     "name": "stdout",
     "output_type": "stream",
     "text": [
      "CPU times: user 1min 26s, sys: 49 s, total: 2min 15s\n",
      "Wall time: 28min 2s\n"
     ]
    }
   ],
   "source": [
    "%%time\n",
    "\n",
    "# save the dataframe as parquet file\n",
    "path = \"gs://nlp-final-project-data/data/\"\n",
    "df_news.to_parquet(path + 'news_sentiment.parquet', engine='pyarrow')"
   ]
  },
  {
   "cell_type": "code",
   "execution_count": 98,
   "metadata": {},
   "outputs": [
    {
     "name": "stdout",
     "output_type": "stream",
     "text": [
      "TF-IDF vectorizer saved locally.\n",
      "CPU times: user 11 ms, sys: 17.6 ms, total: 28.6 ms\n",
      "Wall time: 40.8 ms\n"
     ]
    }
   ],
   "source": [
    "%%time\n",
    "\n",
    "# Save the fitted vectorizer to a file\n",
    "filename = 'tfidf_vectorizer.pkl'\n",
    "with open(filename, 'wb') as file:\n",
    "    pickle.dump(tfidf, file)\n",
    "\n",
    "print(\"TF-IDF vectorizer saved locally.\")"
   ]
  },
  {
   "cell_type": "code",
   "execution_count": 99,
   "metadata": {},
   "outputs": [
    {
     "name": "stdout",
     "output_type": "stream",
     "text": [
      "SVM model saved locally.\n",
      "CPU times: user 2.2 ms, sys: 7.09 ms, total: 9.29 ms\n",
      "Wall time: 11.9 ms\n"
     ]
    }
   ],
   "source": [
    "%%time\n",
    "\n",
    "# Save the model\n",
    "filename = 'svm_sentiment.pkl'\n",
    "with open(filename, 'wb') as file:\n",
    "    pickle.dump(svm, file)\n",
    "\n",
    "print(\"SVM model saved locally.\")"
   ]
  },
  {
   "attachments": {},
   "cell_type": "markdown",
   "metadata": {},
   "source": [
    "## Make Visualizations"
   ]
  },
  {
   "cell_type": "code",
   "execution_count": 115,
   "metadata": {},
   "outputs": [
    {
     "data": {
      "text/html": [
       "<div>\n",
       "<style scoped>\n",
       "    .dataframe tbody tr th:only-of-type {\n",
       "        vertical-align: middle;\n",
       "    }\n",
       "\n",
       "    .dataframe tbody tr th {\n",
       "        vertical-align: top;\n",
       "    }\n",
       "\n",
       "    .dataframe thead th {\n",
       "        text-align: right;\n",
       "    }\n",
       "</style>\n",
       "<table border=\"1\" class=\"dataframe\">\n",
       "  <thead>\n",
       "    <tr style=\"text-align: right;\">\n",
       "      <th></th>\n",
       "      <th>sentiment</th>\n",
       "      <th>date</th>\n",
       "    </tr>\n",
       "  </thead>\n",
       "  <tbody>\n",
       "    <tr>\n",
       "      <th>0</th>\n",
       "      <td>5</td>\n",
       "      <td>2020-02-27</td>\n",
       "    </tr>\n",
       "    <tr>\n",
       "      <th>1</th>\n",
       "      <td>4</td>\n",
       "      <td>2021-03-26</td>\n",
       "    </tr>\n",
       "    <tr>\n",
       "      <th>2</th>\n",
       "      <td>5</td>\n",
       "      <td>2021-03-10</td>\n",
       "    </tr>\n",
       "    <tr>\n",
       "      <th>3</th>\n",
       "      <td>3</td>\n",
       "      <td>2020-10-20</td>\n",
       "    </tr>\n",
       "    <tr>\n",
       "      <th>4</th>\n",
       "      <td>2</td>\n",
       "      <td>2020-04-17</td>\n",
       "    </tr>\n",
       "  </tbody>\n",
       "</table>\n",
       "</div>"
      ],
      "text/plain": [
       "   sentiment       date\n",
       "0          5 2020-02-27\n",
       "1          4 2021-03-26\n",
       "2          5 2021-03-10\n",
       "3          3 2020-10-20\n",
       "4          2 2020-04-17"
      ]
     },
     "execution_count": 115,
     "metadata": {},
     "output_type": "execute_result"
    }
   ],
   "source": [
    "# select the columns to plot\n",
    "df_plot = df_news[['sentiment', 'date']]\n",
    "df_plot['date'] = pd.to_datetime(df_plot['date'])\n",
    "df_plot.head()"
   ]
  },
  {
   "cell_type": "code",
   "execution_count": 116,
   "metadata": {},
   "outputs": [
    {
     "data": {
      "text/html": [
       "<div>\n",
       "<style scoped>\n",
       "    .dataframe tbody tr th:only-of-type {\n",
       "        vertical-align: middle;\n",
       "    }\n",
       "\n",
       "    .dataframe tbody tr th {\n",
       "        vertical-align: top;\n",
       "    }\n",
       "\n",
       "    .dataframe thead th {\n",
       "        text-align: right;\n",
       "    }\n",
       "</style>\n",
       "<table border=\"1\" class=\"dataframe\">\n",
       "  <thead>\n",
       "    <tr style=\"text-align: right;\">\n",
       "      <th></th>\n",
       "      <th>sentiment</th>\n",
       "      <th>count</th>\n",
       "    </tr>\n",
       "    <tr>\n",
       "      <th>year-month</th>\n",
       "      <th></th>\n",
       "      <th></th>\n",
       "    </tr>\n",
       "  </thead>\n",
       "  <tbody>\n",
       "    <tr>\n",
       "      <th>2020-01</th>\n",
       "      <td>1</td>\n",
       "      <td>3</td>\n",
       "    </tr>\n",
       "    <tr>\n",
       "      <th>2020-01</th>\n",
       "      <td>2</td>\n",
       "      <td>268</td>\n",
       "    </tr>\n",
       "    <tr>\n",
       "      <th>2020-01</th>\n",
       "      <td>3</td>\n",
       "      <td>591</td>\n",
       "    </tr>\n",
       "    <tr>\n",
       "      <th>2020-01</th>\n",
       "      <td>4</td>\n",
       "      <td>610</td>\n",
       "    </tr>\n",
       "    <tr>\n",
       "      <th>2020-01</th>\n",
       "      <td>5</td>\n",
       "      <td>1065</td>\n",
       "    </tr>\n",
       "  </tbody>\n",
       "</table>\n",
       "</div>"
      ],
      "text/plain": [
       "            sentiment  count\n",
       "year-month                  \n",
       "2020-01             1      3\n",
       "2020-01             2    268\n",
       "2020-01             3    591\n",
       "2020-01             4    610\n",
       "2020-01             5   1065"
      ]
     },
     "execution_count": 116,
     "metadata": {},
     "output_type": "execute_result"
    }
   ],
   "source": [
    "# phrase the date column as year-month\n",
    "df_plot['year-month'] = df_plot['date'].dt.strftime('%Y-%m')\n",
    "\n",
    "# group by year-month and sentiment\n",
    "df_plot = df_plot.groupby(['year-month', 'sentiment']).size().reset_index(name='count')\n",
    "df_plot.head()\n"
   ]
  },
  {
   "cell_type": "code",
   "execution_count": 148,
   "metadata": {},
   "outputs": [
    {
     "data": {
      "image/png": "[encoded data removed]",
      "text/plain": [
       "<Figure size 1000x600 with 1 Axes>"
      ]
     },
     "metadata": {},
     "output_type": "display_data"
    }
   ],
   "source": [
    "# Plot timeline of the sentiment over time as a line chart\n",
    "plt.figure(figsize=(10, 6))\n",
    "sns.set_style('white')\n",
    "sns.lineplot(data=df_plot, x='year-month', y='count', hue='sentiment', palette='flare')\n",
    "plt.title('Sentiment Over Time')\n",
    "plt.xlabel('Year-Month')\n",
    "plt.ylabel('Count')\n",
    "plt.xticks(rotation=30)\n",
    "plt.gca().xaxis.set_major_locator(plt.MaxNLocator(15)) # set number of ticks\n",
    "plt.show()"
   ]
  }
 ],
 "metadata": {
  "kernelspec": {
   "display_name": "Python 3",
   "language": "python",
   "name": "python3"
  },
  "language_info": {
   "codemirror_mode": {
    "name": "ipython",
    "version": 3
   },
   "file_extension": ".py",
   "mimetype": "text/x-python",
   "name": "python",
   "nbconvert_exporter": "python",
   "pygments_lexer": "ipython3",
   "version": "3.11.3"
  },
  "orig_nbformat": 4
 },
 "nbformat": 4,
 "nbformat_minor": 2
}
