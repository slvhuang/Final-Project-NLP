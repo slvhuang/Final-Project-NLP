{
 "cells": [
  {
   "attachments": {},
   "cell_type": "markdown",
   "metadata": {},
   "source": [
    "# MSCA 32018 Natural Language Processing and Cognitive Computing\n",
    "## Final Project - Topic Modelling\n",
    "\n",
    "Shijia Huang\n",
    "\n",
    "-----"
   ]
  },
  {
   "cell_type": "code",
   "execution_count": 1,
   "metadata": {},
   "outputs": [],
   "source": [
    "# Import basic libraries\n",
    "import time\n",
    "import pandas as pd\n",
    "import numpy as np\n",
    "import seaborn as sns\n",
    "import matplotlib.pyplot as plt \n",
    "\n",
    "%matplotlib inline"
   ]
  },
  {
   "cell_type": "code",
   "execution_count": 2,
   "metadata": {},
   "outputs": [
    {
     "name": "stdout",
     "output_type": "stream",
     "text": [
      "3.5.2\n"
     ]
    }
   ],
   "source": [
    "# Import NLP libraries\n",
    "import re\n",
    "import nltk\n",
    "from nltk.corpus import stopwords\n",
    "from nltk.stem import WordNetLemmatizer\n",
    "from nltk.tokenize import word_tokenize\n",
    "from sklearn.feature_extraction.text import CountVectorizer, TfidfVectorizer\n",
    "\n",
    "from pprint import pprint\n",
    "import string\n",
    "from rake_nltk import Rake\n",
    "\n",
    "import spacy\n",
    "from spacy import displacy\n",
    "from spacy.util import minibatch, compounding\n",
    "spacy.prefer_gpu()\n",
    "print(spacy.__version__)\n",
    "\n",
    "import gensim\n",
    "from gensim import corpora, models\n",
    "from gensim.utils import simple_preprocess\n",
    "from gensim.models.ldamulticore import LdaMulticore\n",
    "from gensim.models import CoherenceModel\n",
    "\n",
    "import pyLDAvis\n",
    "import pyLDAvis.gensim as gensimvis\n",
    "#import pyLDAvis.gensim_models as gensimvis\n",
    "pyLDAvis.enable_notebook()"
   ]
  },
  {
   "cell_type": "code",
   "execution_count": 3,
   "metadata": {},
   "outputs": [],
   "source": [
    "import warnings\n",
    "warnings.filterwarnings('ignore')\n",
    "pd.set_option('display.max_rows', 100)\n",
    "pd.set_option('display.max_columns', None)\n",
    "pd.set_option('display.max_colwidth', 500)"
   ]
  },
  {
   "cell_type": "code",
   "execution_count": 4,
   "metadata": {},
   "outputs": [
    {
     "name": "stdout",
     "output_type": "stream",
     "text": [
      "Available CPUs: 12\n"
     ]
    }
   ],
   "source": [
    "import multiprocessing as mp\n",
    "\n",
    "num_processors = mp.cpu_count()\n",
    "print(f'Available CPUs: {num_processors}')"
   ]
  },
  {
   "attachments": {},
   "cell_type": "markdown",
   "metadata": {},
   "source": [
    "### Read Cleaned New Articles"
   ]
  },
  {
   "cell_type": "code",
   "execution_count": 5,
   "metadata": {},
   "outputs": [
    {
     "name": "stdout",
     "output_type": "stream",
     "text": [
      "CPU times: user 1min 32s, sys: 43.7 s, total: 2min 16s\n",
      "Wall time: 7min 16s\n"
     ]
    },
    {
     "data": {
      "text/plain": [
       "(154283, 10)"
      ]
     },
     "execution_count": 5,
     "metadata": {},
     "output_type": "execute_result"
    }
   ],
   "source": [
    "%%time\n",
    "\n",
    "# GCP version\n",
    "path = \"gs://nlp-final-project-data/data/\"\n",
    "df_news = pd.read_parquet(path + 'news_filtered.parquet', engine='pyarrow')\n",
    "df_news.shape"
   ]
  },
  {
   "cell_type": "code",
   "execution_count": 6,
   "metadata": {},
   "outputs": [
    {
     "name": "stdout",
     "output_type": "stream",
     "text": [
      "<class 'pandas.core.frame.DataFrame'>\n",
      "RangeIndex: 154283 entries, 0 to 154282\n",
      "Data columns (total 10 columns):\n",
      " #   Column            Non-Null Count   Dtype \n",
      "---  ------            --------------   ----- \n",
      " 0   id                154283 non-null  int64 \n",
      " 1   date              154283 non-null  object\n",
      " 2   cleaned title     154283 non-null  object\n",
      " 3   cleaned text      154283 non-null  object\n",
      " 4   title_tokens      154283 non-null  object\n",
      " 5   title_lemmatized  154283 non-null  object\n",
      " 6   text_tokens       154283 non-null  object\n",
      " 7   text_lemmatized   154283 non-null  object\n",
      " 8   title_keywords    154283 non-null  object\n",
      " 9   text_keywords     154283 non-null  object\n",
      "dtypes: int64(1), object(9)\n",
      "memory usage: 11.8+ MB\n"
     ]
    }
   ],
   "source": [
    "df_news.info()"
   ]
  },
  {
   "cell_type": "code",
   "execution_count": 7,
   "metadata": {},
   "outputs": [
    {
     "data": {
      "text/html": [
       "<div>\n",
       "<style scoped>\n",
       "    .dataframe tbody tr th:only-of-type {\n",
       "        vertical-align: middle;\n",
       "    }\n",
       "\n",
       "    .dataframe tbody tr th {\n",
       "        vertical-align: top;\n",
       "    }\n",
       "\n",
       "    .dataframe thead th {\n",
       "        text-align: right;\n",
       "    }\n",
       "</style>\n",
       "<table border=\"1\" class=\"dataframe\">\n",
       "  <thead>\n",
       "    <tr style=\"text-align: right;\">\n",
       "      <th></th>\n",
       "      <th>id</th>\n",
       "      <th>date</th>\n",
       "      <th>cleaned title</th>\n",
       "      <th>cleaned text</th>\n",
       "      <th>title_tokens</th>\n",
       "      <th>title_lemmatized</th>\n",
       "      <th>text_tokens</th>\n",
       "      <th>text_lemmatized</th>\n",
       "      <th>title_keywords</th>\n",
       "      <th>text_keywords</th>\n",
       "    </tr>\n",
       "  </thead>\n",
       "  <tbody>\n",
       "    <tr>\n",
       "      <th>0</th>\n",
       "      <td>1</td>\n",
       "      <td>2020-02-27</td>\n",
       "      <td>Children With Autism Saw Their Learning and Social Skills Boosted After Playing With This AI Robot</td>\n",
       "      <td>Children With Autism Saw Their Learning and Social Skills Boosted After Playing With This AI Robot admin  Latest posts by admin see all  Mansplaining in conferences: How can we get him to forestall  February 27, 2020 Coronavirus Could Explode in the U.S. Overnight Like it Did in Italy  February 27, 2020 Levi Strauss marks the next phase in corporate paid leave policies  February 27, 2020 Scientists who designed an artificially clever robotic that helped youngsters with autism spice up their ...</td>\n",
       "      <td>[children, autism, saw, learning, social, skills, boosted, playing, ai, robot, children, autism, saw, learning, social, skills, boosted, playing, ai, robot, children, autism, saw, learning, social, skills, boosted, playing, ai_robot]</td>\n",
       "      <td>[child, autism, see, learn, social, skill, boost, play, robot, child, autism, see, learn, social, skill, boost, play, robot, child, autism, see, learn, social, skill, boost, play, ai_robot]</td>\n",
       "      <td>[children, autism, saw, learning, social, skills, boosted, playing, ai, robot, admin, latest, posts, admin, see, mansplaining, conferences, get, forestall, february, coronavirus, could, explode, overnight, like, italy, february, levi, strauss, marks, next, phase, corporate, paid, leave, policies, february, scientists, designed, artificially, clever, robotic, helped, youngsters, autism, spice, studying, social, talents, hope, era, may, future, help, others, developmental, dysfunction, learn, ...</td>\n",
       "      <td>[child, autism, see, learn, social, skill, boost, play, robot, late, post, admin, see, mansplaining, conference, get, explode, overnight, mark, next, phase, corporate, pay, leave, policy, scientist, design, artificially, clever, robotic, help, youngster, autism, spice, study, social, talent, era, future, help, other, developmental, dysfunction, learn, notice, youngster, gentle, average, autism, take, domestic, s, refer, socially, assistive, robotic, name, kiwi, month, accord, commentary, way...</td>\n",
       "      <td>[social, skill, see, play, learn, child, boost, autism, robot, ai_robot]</td>\n",
       "      <td>[robotic, youngster, kid, child, kiwi, market, autism, learn, crew, talent]</td>\n",
       "    </tr>\n",
       "    <tr>\n",
       "      <th>1</th>\n",
       "      <td>2</td>\n",
       "      <td>2021-03-26</td>\n",
       "      <td>Forget ML, AI and Industry 4.0 – obsolescence should be your focus</td>\n",
       "      <td>Forget ML, AI and Industry 4.0  obsolescence should be your focus The world entered a new era of accelerated transformation in the last eighteen months that will continue to evolve and press forward for years to come. Most businesses are playing catchup trying to make sense of a new timeline where the ten years that had been set aside for careful planning and implementation of what was coming up next no longer exists. The next is happening now and, regardless of your industry or seniority, t...</td>\n",
       "      <td>[forget, ml, ai, industry, obsolescence, focus, forget, ml, ai, industry, obsolescence, focus, forget, ml, ai, industry, obsolescence, focus]</td>\n",
       "      <td>[forget, ml, ai, industry, obsolescence, focus, forget, ml, ai, industry, obsolescence, focus, forget, ml, ai, industry, obsolescence, focus]</td>\n",
       "      <td>[forget, ml, ai, industry, obsolescence, focus, world, entered, new, era, accelerated, transformation, last, eighteen, months, continue, evolve, press, forward, years, come, businesses, playing, catchup, trying, make, sense, new, timeline, ten, years, set, aside, careful, planning, implementation, coming, next, longer, exists, next, happening, regardless, industry, seniority, status, quo, shifted, better, face, back, invited, attend, pompous, meeting, london, brazilian, embassy, along, selec...</td>\n",
       "      <td>[forget, ai, industry, obsolescence, focus, world, enter, new, era, accelerate, transformation, last, month, continue, evolve, press, forward, year, come, business, play, catchup, try, make, sense, new, timeline, year, set, aside, careful, planning, implementation, come, next, long, exist, next, happen, regardless, industry, seniority, status, quo, shift, well, face, back, invite, attend, pompous, meeting, brazilian, embassy, select, lead, name, oil, energy, industry, get, update, go, happen...</td>\n",
       "      <td>[obsolescence, ml, industry, forget, focus, ai]</td>\n",
       "      <td>[electronic, come, card, industry, repair, new, system, require, test, business]</td>\n",
       "    </tr>\n",
       "  </tbody>\n",
       "</table>\n",
       "</div>"
      ],
      "text/plain": [
       "   id        date   \n",
       "0   1  2020-02-27  \\\n",
       "1   2  2021-03-26   \n",
       "\n",
       "                                                                                        cleaned title   \n",
       "0  Children With Autism Saw Their Learning and Social Skills Boosted After Playing With This AI Robot  \\\n",
       "1                                  Forget ML, AI and Industry 4.0 – obsolescence should be your focus   \n",
       "\n",
       "                                                                                                                                                                                                                                                                                                                                                                                                                                                                                                          cleaned text   \n",
       "0  Children With Autism Saw Their Learning and Social Skills Boosted After Playing With This AI Robot admin  Latest posts by admin see all  Mansplaining in conferences: How can we get him to forestall  February 27, 2020 Coronavirus Could Explode in the U.S. Overnight Like it Did in Italy  February 27, 2020 Levi Strauss marks the next phase in corporate paid leave policies  February 27, 2020 Scientists who designed an artificially clever robotic that helped youngsters with autism spice up their ...  \\\n",
       "1  Forget ML, AI and Industry 4.0  obsolescence should be your focus The world entered a new era of accelerated transformation in the last eighteen months that will continue to evolve and press forward for years to come. Most businesses are playing catchup trying to make sense of a new timeline where the ten years that had been set aside for careful planning and implementation of what was coming up next no longer exists. The next is happening now and, regardless of your industry or seniority, t...   \n",
       "\n",
       "                                                                                                                                                                                                                                title_tokens   \n",
       "0  [children, autism, saw, learning, social, skills, boosted, playing, ai, robot, children, autism, saw, learning, social, skills, boosted, playing, ai, robot, children, autism, saw, learning, social, skills, boosted, playing, ai_robot]  \\\n",
       "1                                                                                              [forget, ml, ai, industry, obsolescence, focus, forget, ml, ai, industry, obsolescence, focus, forget, ml, ai, industry, obsolescence, focus]   \n",
       "\n",
       "                                                                                                                                                                                title_lemmatized   \n",
       "0  [child, autism, see, learn, social, skill, boost, play, robot, child, autism, see, learn, social, skill, boost, play, robot, child, autism, see, learn, social, skill, boost, play, ai_robot]  \\\n",
       "1                                                  [forget, ml, ai, industry, obsolescence, focus, forget, ml, ai, industry, obsolescence, focus, forget, ml, ai, industry, obsolescence, focus]   \n",
       "\n",
       "                                                                                                                                                                                                                                                                                                                                                                                                                                                                                                           text_tokens   \n",
       "0  [children, autism, saw, learning, social, skills, boosted, playing, ai, robot, admin, latest, posts, admin, see, mansplaining, conferences, get, forestall, february, coronavirus, could, explode, overnight, like, italy, february, levi, strauss, marks, next, phase, corporate, paid, leave, policies, february, scientists, designed, artificially, clever, robotic, helped, youngsters, autism, spice, studying, social, talents, hope, era, may, future, help, others, developmental, dysfunction, learn, ...  \\\n",
       "1  [forget, ml, ai, industry, obsolescence, focus, world, entered, new, era, accelerated, transformation, last, eighteen, months, continue, evolve, press, forward, years, come, businesses, playing, catchup, trying, make, sense, new, timeline, ten, years, set, aside, careful, planning, implementation, coming, next, longer, exists, next, happening, regardless, industry, seniority, status, quo, shifted, better, face, back, invited, attend, pompous, meeting, london, brazilian, embassy, along, selec...   \n",
       "\n",
       "                                                                                                                                                                                                                                                                                                                                                                                                                                                                                                       text_lemmatized   \n",
       "0  [child, autism, see, learn, social, skill, boost, play, robot, late, post, admin, see, mansplaining, conference, get, explode, overnight, mark, next, phase, corporate, pay, leave, policy, scientist, design, artificially, clever, robotic, help, youngster, autism, spice, study, social, talent, era, future, help, other, developmental, dysfunction, learn, notice, youngster, gentle, average, autism, take, domestic, s, refer, socially, assistive, robotic, name, kiwi, month, accord, commentary, way...  \\\n",
       "1  [forget, ai, industry, obsolescence, focus, world, enter, new, era, accelerate, transformation, last, month, continue, evolve, press, forward, year, come, business, play, catchup, try, make, sense, new, timeline, year, set, aside, careful, planning, implementation, come, next, long, exist, next, happen, regardless, industry, seniority, status, quo, shift, well, face, back, invite, attend, pompous, meeting, brazilian, embassy, select, lead, name, oil, energy, industry, get, update, go, happen...   \n",
       "\n",
       "                                                             title_keywords   \n",
       "0  [social, skill, see, play, learn, child, boost, autism, robot, ai_robot]  \\\n",
       "1                           [obsolescence, ml, industry, forget, focus, ai]   \n",
       "\n",
       "                                                                      text_keywords  \n",
       "0       [robotic, youngster, kid, child, kiwi, market, autism, learn, crew, talent]  \n",
       "1  [electronic, come, card, industry, repair, new, system, require, test, business]  "
      ]
     },
     "execution_count": 7,
     "metadata": {},
     "output_type": "execute_result"
    }
   ],
   "source": [
    "df_news.head(2)"
   ]
  },
  {
   "cell_type": "code",
   "execution_count": 8,
   "metadata": {},
   "outputs": [
    {
     "data": {
      "text/plain": [
       "(1543, 10)"
      ]
     },
     "execution_count": 8,
     "metadata": {},
     "output_type": "execute_result"
    }
   ],
   "source": [
    "### SAMPLE DATA\n",
    "df_news = df_news.sample(frac=0.01, random_state=42)\n",
    "df_news.shape"
   ]
  },
  {
   "attachments": {},
   "cell_type": "markdown",
   "metadata": {},
   "source": [
    "## 1. Topic Modeling - LDA"
   ]
  },
  {
   "cell_type": "code",
   "execution_count": 9,
   "metadata": {},
   "outputs": [
    {
     "name": "stdout",
     "output_type": "stream",
     "text": [
      "CPU times: user 2.03 s, sys: 956 ms, total: 2.98 s\n",
      "Wall time: 3.88 s\n"
     ]
    }
   ],
   "source": [
    "%%time\n",
    "\n",
    "# Create term dictionary\n",
    "text_lemmatized = df_news['text_lemmatized'].tolist()\n",
    "text_dict = corpora.Dictionary(text_lemmatized)\n",
    "\n",
    "# Convert list of documents (corpus) into Document Term Matrix using dictionary prepared above\n",
    "text_doc_term_matrix = [text_dict.doc2bow(doc) for doc in text_lemmatized]"
   ]
  },
  {
   "attachments": {},
   "cell_type": "markdown",
   "metadata": {},
   "source": [
    "### Initial Model - 10 Topics"
   ]
  },
  {
   "cell_type": "code",
   "execution_count": 10,
   "metadata": {},
   "outputs": [
    {
     "name": "stdout",
     "output_type": "stream",
     "text": [
      "CPU times: user 1min 26s, sys: 27.7 s, total: 1min 53s\n",
      "Wall time: 1min 1s\n"
     ]
    }
   ],
   "source": [
    "%%time\n",
    "\n",
    "# Build LDA model for news text\n",
    "lda_model_text = LdaMulticore(corpus=text_doc_term_matrix,\n",
    "                              id2word=text_dict,\n",
    "                              num_topics=10,\n",
    "                              random_state=100,\n",
    "                              passes=10,\n",
    "                              alpha='asymmetric',\n",
    "                              eta='auto',\n",
    "                              workers=num_processors-1)"
   ]
  },
  {
   "cell_type": "code",
   "execution_count": 11,
   "metadata": {},
   "outputs": [
    {
     "name": "stdout",
     "output_type": "stream",
     "text": [
      "[(0,\n",
      "  '0.010*\"ai\" + 0.009*\"trade\" + 0.009*\"use\" + 0.007*\"dollar\" + 0.005*\"machine\" '\n",
      "  '+ 0.005*\"say\" + 0.004*\"model\" + 0.004*\"datum\" + 0.004*\"learn\" + '\n",
      "  '0.004*\"company\"'),\n",
      " (1,\n",
      "  '0.008*\"market\" + 0.007*\"datum\" + 0.006*\"company\" + 0.006*\"stock\" + '\n",
      "  '0.006*\"ai\" + 0.005*\"share\" + 0.004*\"intelligence\" + 0.004*\"say\" + '\n",
      "  '0.004*\"technology\" + 0.003*\"new\"'),\n",
      " (2,\n",
      "  '0.070*\"market\" + 0.020*\"report\" + 0.016*\"analysis\" + 0.014*\"global\" + '\n",
      "  '0.013*\"industry\" + 0.013*\"ai\" + 0.012*\"growth\" + 0.011*\"forecast\" + '\n",
      "  '0.011*\"intelligence\" + 0.008*\"research\"'),\n",
      " (3,\n",
      "  '0.011*\"ai\" + 0.010*\"use\" + 0.009*\"say\" + 0.008*\"technology\" + '\n",
      "  '0.005*\"company\" + 0.005*\"new\" + 0.004*\"datum\" + 0.004*\"also\" + 0.004*\"make\" '\n",
      "  '+ 0.004*\"work\"'),\n",
      " (4,\n",
      "  '0.008*\"ai\" + 0.006*\"company\" + 0.005*\"say\" + 0.004*\"quote\" + '\n",
      "  '0.004*\"chatgpt\" + 0.004*\"use\" + 0.004*\"new\" + 0.003*\"user\" + '\n",
      "  '0.003*\"technology\" + 0.003*\"also\"'),\n",
      " (5,\n",
      "  '0.009*\"use\" + 0.008*\"say\" + 0.008*\"ai\" + 0.005*\"technology\" + '\n",
      "  '0.005*\"system\" + 0.004*\"human\" + 0.004*\"communication\" + 0.004*\"new\" + '\n",
      "  '0.004*\"make\" + 0.004*\"digi\"'),\n",
      " (6,\n",
      "  '0.022*\"ai\" + 0.009*\"technology\" + 0.009*\"company\" + 0.007*\"solution\" + '\n",
      "  '0.006*\"datum\" + 0.006*\"customer\" + 0.005*\"use\" + 0.005*\"platform\" + '\n",
      "  '0.005*\"business\" + 0.005*\"new\"'),\n",
      " (7,\n",
      "  '0.019*\"ai\" + 0.007*\"use\" + 0.006*\"company\" + 0.006*\"new\" + '\n",
      "  '0.005*\"technology\" + 0.005*\"datum\" + 0.005*\"say\" + 0.005*\"platform\" + '\n",
      "  '0.004*\"customer\" + 0.004*\"business\"'),\n",
      " (8,\n",
      "  '0.024*\"ai\" + 0.011*\"use\" + 0.009*\"say\" + 0.007*\"technology\" + 0.007*\"new\" + '\n",
      "  '0.005*\"work\" + 0.005*\"make\" + 0.005*\"chatgpt\" + 0.005*\"company\" + '\n",
      "  '0.004*\"datum\"'),\n",
      " (9,\n",
      "  '0.006*\"model\" + 0.006*\"datum\" + 0.005*\"use\" + 0.004*\"machine\" + '\n",
      "  '0.004*\"learn\" + 0.004*\"new\" + 0.004*\"design\" + 0.003*\"ai\" + '\n",
      "  '0.003*\"starfille\" + 0.003*\"also\"')]\n"
     ]
    }
   ],
   "source": [
    "# print the topics\n",
    "pprint(lda_model_text.print_topics())"
   ]
  },
  {
   "cell_type": "code",
   "execution_count": 12,
   "metadata": {},
   "outputs": [
    {
     "name": "stdout",
     "output_type": "stream",
     "text": [
      "\n",
      "Coherence Score:  0.3347979245710021\n"
     ]
    }
   ],
   "source": [
    "# Compute Coherence Score\n",
    "coherence_model_lda_text = CoherenceModel(model=lda_model_text, texts=text_lemmatized, dictionary=text_dict, coherence='c_v')\n",
    "\n",
    "coherence_lda_text = coherence_model_lda_text.get_coherence()\n",
    "print('\\nCoherence Score: ', coherence_lda_text)"
   ]
  },
  {
   "attachments": {},
   "cell_type": "markdown",
   "metadata": {},
   "source": [
    "### Hyperparameter Tuning\n",
    "\n",
    "- Number of Topics (K)\n",
    "- Dirichlet hyperparameter alpha: Asymmetric\n",
    "- Dirichlet hyperparameter beta: Auto"
   ]
  },
  {
   "cell_type": "code",
   "execution_count": 36,
   "metadata": {},
   "outputs": [],
   "source": [
    "# supporting function\n",
    "def compute_coherence_values(corpus, dictionary, texts, k):\n",
    "\n",
    "    lda_model = LdaMulticore(corpus=corpus,\n",
    "                             id2word=dictionary,\n",
    "                             num_topics=k,\n",
    "                             random_state=100,\n",
    "                             passes=10,\n",
    "                             alpha='asymmetric',\n",
    "                             eta='auto',\n",
    "                             workers=num_processors-1)\n",
    "\n",
    "    coherence_model_lda = CoherenceModel(model=lda_model, texts=texts, dictionary=dictionary, coherence='c_v')\n",
    "\n",
    "    return coherence_model_lda.get_coherence()"
   ]
  },
  {
   "cell_type": "code",
   "execution_count": 37,
   "metadata": {},
   "outputs": [
    {
     "name": "stdout",
     "output_type": "stream",
     "text": [
      "LDA will execute 19 iterations\n",
      "Completed model based on 2 LDA topics. Finished 5.3% of LDA runs\n"
     ]
    },
    {
     "ename": "KeyboardInterrupt",
     "evalue": "",
     "output_type": "error",
     "traceback": [
      "\u001b[0;31m---------------------------------------------------------------------------\u001b[0m",
      "\u001b[0;31mKeyboardInterrupt\u001b[0m                         Traceback (most recent call last)",
      "File \u001b[0;32m<timed exec>:26\u001b[0m, in \u001b[0;36m<module>\u001b[0;34m\u001b[0m\n",
      "\u001b[1;32m/Users/silvia/Desktop/Spring 2023/32018 NLP/Final Project NLP/3_topic_modelling.ipynb Cell 19\u001b[0m in \u001b[0;36mcompute_coherence_values\u001b[0;34m(corpus, dictionary, texts, k)\u001b[0m\n\u001b[1;32m      <a href='vscode-notebook-cell:/Users/silvia/Desktop/Spring%202023/32018%20NLP/Final%20Project%20NLP/3_topic_modelling.ipynb#X26sZmlsZQ%3D%3D?line=1'>2</a>\u001b[0m \u001b[39mdef\u001b[39;00m \u001b[39mcompute_coherence_values\u001b[39m(corpus, dictionary, texts, k):\n\u001b[0;32m----> <a href='vscode-notebook-cell:/Users/silvia/Desktop/Spring%202023/32018%20NLP/Final%20Project%20NLP/3_topic_modelling.ipynb#X26sZmlsZQ%3D%3D?line=3'>4</a>\u001b[0m     lda_model \u001b[39m=\u001b[39m LdaMulticore(corpus\u001b[39m=\u001b[39;49mcorpus,\n\u001b[1;32m      <a href='vscode-notebook-cell:/Users/silvia/Desktop/Spring%202023/32018%20NLP/Final%20Project%20NLP/3_topic_modelling.ipynb#X26sZmlsZQ%3D%3D?line=4'>5</a>\u001b[0m                              id2word\u001b[39m=\u001b[39;49mdictionary,\n\u001b[1;32m      <a href='vscode-notebook-cell:/Users/silvia/Desktop/Spring%202023/32018%20NLP/Final%20Project%20NLP/3_topic_modelling.ipynb#X26sZmlsZQ%3D%3D?line=5'>6</a>\u001b[0m                              num_topics\u001b[39m=\u001b[39;49mk,\n\u001b[1;32m      <a href='vscode-notebook-cell:/Users/silvia/Desktop/Spring%202023/32018%20NLP/Final%20Project%20NLP/3_topic_modelling.ipynb#X26sZmlsZQ%3D%3D?line=6'>7</a>\u001b[0m                              random_state\u001b[39m=\u001b[39;49m\u001b[39m100\u001b[39;49m,\n\u001b[1;32m      <a href='vscode-notebook-cell:/Users/silvia/Desktop/Spring%202023/32018%20NLP/Final%20Project%20NLP/3_topic_modelling.ipynb#X26sZmlsZQ%3D%3D?line=7'>8</a>\u001b[0m                              passes\u001b[39m=\u001b[39;49m\u001b[39m10\u001b[39;49m,\n\u001b[1;32m      <a href='vscode-notebook-cell:/Users/silvia/Desktop/Spring%202023/32018%20NLP/Final%20Project%20NLP/3_topic_modelling.ipynb#X26sZmlsZQ%3D%3D?line=8'>9</a>\u001b[0m                              alpha\u001b[39m=\u001b[39;49m\u001b[39m'\u001b[39;49m\u001b[39masymmetric\u001b[39;49m\u001b[39m'\u001b[39;49m,\n\u001b[1;32m     <a href='vscode-notebook-cell:/Users/silvia/Desktop/Spring%202023/32018%20NLP/Final%20Project%20NLP/3_topic_modelling.ipynb#X26sZmlsZQ%3D%3D?line=9'>10</a>\u001b[0m                              eta\u001b[39m=\u001b[39;49m\u001b[39m'\u001b[39;49m\u001b[39mauto\u001b[39;49m\u001b[39m'\u001b[39;49m,\n\u001b[1;32m     <a href='vscode-notebook-cell:/Users/silvia/Desktop/Spring%202023/32018%20NLP/Final%20Project%20NLP/3_topic_modelling.ipynb#X26sZmlsZQ%3D%3D?line=10'>11</a>\u001b[0m                              workers\u001b[39m=\u001b[39;49mnum_processors\u001b[39m-\u001b[39;49m\u001b[39m1\u001b[39;49m)\n\u001b[1;32m     <a href='vscode-notebook-cell:/Users/silvia/Desktop/Spring%202023/32018%20NLP/Final%20Project%20NLP/3_topic_modelling.ipynb#X26sZmlsZQ%3D%3D?line=12'>13</a>\u001b[0m     coherence_model_lda \u001b[39m=\u001b[39m CoherenceModel(model\u001b[39m=\u001b[39mlda_model, texts\u001b[39m=\u001b[39mtexts, dictionary\u001b[39m=\u001b[39mdictionary, coherence\u001b[39m=\u001b[39m\u001b[39m'\u001b[39m\u001b[39mc_v\u001b[39m\u001b[39m'\u001b[39m)\n\u001b[1;32m     <a href='vscode-notebook-cell:/Users/silvia/Desktop/Spring%202023/32018%20NLP/Final%20Project%20NLP/3_topic_modelling.ipynb#X26sZmlsZQ%3D%3D?line=14'>15</a>\u001b[0m     \u001b[39mreturn\u001b[39;00m coherence_model_lda\u001b[39m.\u001b[39mget_coherence()\n",
      "File \u001b[0;32m/usr/local/lib/python3.9/site-packages/gensim/models/ldamulticore.py:186\u001b[0m, in \u001b[0;36mLdaMulticore.__init__\u001b[0;34m(self, corpus, num_topics, id2word, workers, chunksize, passes, batch, alpha, eta, decay, offset, eval_every, iterations, gamma_threshold, random_state, minimum_probability, minimum_phi_value, per_word_topics, dtype)\u001b[0m\n\u001b[1;32m    183\u001b[0m \u001b[39mif\u001b[39;00m \u001b[39misinstance\u001b[39m(alpha, \u001b[39mstr\u001b[39m) \u001b[39mand\u001b[39;00m alpha \u001b[39m==\u001b[39m \u001b[39m'\u001b[39m\u001b[39mauto\u001b[39m\u001b[39m'\u001b[39m:\n\u001b[1;32m    184\u001b[0m     \u001b[39mraise\u001b[39;00m \u001b[39mNotImplementedError\u001b[39;00m(\u001b[39m\"\u001b[39m\u001b[39mauto-tuning alpha not implemented in LdaMulticore; use plain LdaModel.\u001b[39m\u001b[39m\"\u001b[39m)\n\u001b[0;32m--> 186\u001b[0m \u001b[39msuper\u001b[39;49m(LdaMulticore, \u001b[39mself\u001b[39;49m)\u001b[39m.\u001b[39;49m\u001b[39m__init__\u001b[39;49m(\n\u001b[1;32m    187\u001b[0m     corpus\u001b[39m=\u001b[39;49mcorpus, num_topics\u001b[39m=\u001b[39;49mnum_topics,\n\u001b[1;32m    188\u001b[0m     id2word\u001b[39m=\u001b[39;49mid2word, chunksize\u001b[39m=\u001b[39;49mchunksize, passes\u001b[39m=\u001b[39;49mpasses, alpha\u001b[39m=\u001b[39;49malpha, eta\u001b[39m=\u001b[39;49meta,\n\u001b[1;32m    189\u001b[0m     decay\u001b[39m=\u001b[39;49mdecay, offset\u001b[39m=\u001b[39;49moffset, eval_every\u001b[39m=\u001b[39;49meval_every, iterations\u001b[39m=\u001b[39;49miterations,\n\u001b[1;32m    190\u001b[0m     gamma_threshold\u001b[39m=\u001b[39;49mgamma_threshold, random_state\u001b[39m=\u001b[39;49mrandom_state, minimum_probability\u001b[39m=\u001b[39;49mminimum_probability,\n\u001b[1;32m    191\u001b[0m     minimum_phi_value\u001b[39m=\u001b[39;49mminimum_phi_value, per_word_topics\u001b[39m=\u001b[39;49mper_word_topics, dtype\u001b[39m=\u001b[39;49mdtype,\n\u001b[1;32m    192\u001b[0m )\n",
      "File \u001b[0;32m/usr/local/lib/python3.9/site-packages/gensim/models/ldamodel.py:521\u001b[0m, in \u001b[0;36mLdaModel.__init__\u001b[0;34m(self, corpus, num_topics, id2word, distributed, chunksize, passes, update_every, alpha, eta, decay, offset, eval_every, iterations, gamma_threshold, minimum_probability, random_state, ns_conf, minimum_phi_value, per_word_topics, callbacks, dtype)\u001b[0m\n\u001b[1;32m    519\u001b[0m use_numpy \u001b[39m=\u001b[39m \u001b[39mself\u001b[39m\u001b[39m.\u001b[39mdispatcher \u001b[39mis\u001b[39;00m \u001b[39mnot\u001b[39;00m \u001b[39mNone\u001b[39;00m\n\u001b[1;32m    520\u001b[0m start \u001b[39m=\u001b[39m time\u001b[39m.\u001b[39mtime()\n\u001b[0;32m--> 521\u001b[0m \u001b[39mself\u001b[39;49m\u001b[39m.\u001b[39;49mupdate(corpus, chunks_as_numpy\u001b[39m=\u001b[39;49muse_numpy)\n\u001b[1;32m    522\u001b[0m \u001b[39mself\u001b[39m\u001b[39m.\u001b[39madd_lifecycle_event(\n\u001b[1;32m    523\u001b[0m     \u001b[39m\"\u001b[39m\u001b[39mcreated\u001b[39m\u001b[39m\"\u001b[39m,\n\u001b[1;32m    524\u001b[0m     msg\u001b[39m=\u001b[39m\u001b[39mf\u001b[39m\u001b[39m\"\u001b[39m\u001b[39mtrained \u001b[39m\u001b[39m{\u001b[39;00m\u001b[39mself\u001b[39m\u001b[39m}\u001b[39;00m\u001b[39m in \u001b[39m\u001b[39m{\u001b[39;00mtime\u001b[39m.\u001b[39mtime() \u001b[39m-\u001b[39m start\u001b[39m:\u001b[39;00m\u001b[39m.2f\u001b[39m\u001b[39m}\u001b[39;00m\u001b[39ms\u001b[39m\u001b[39m\"\u001b[39m,\n\u001b[1;32m    525\u001b[0m )\n",
      "File \u001b[0;32m/usr/local/lib/python3.9/site-packages/gensim/models/ldamulticore.py:316\u001b[0m, in \u001b[0;36mLdaMulticore.update\u001b[0;34m(self, corpus, chunks_as_numpy)\u001b[0m\n\u001b[1;32m    312\u001b[0m \u001b[39m# endfor single corpus pass\u001b[39;00m\n\u001b[1;32m    313\u001b[0m \n\u001b[1;32m    314\u001b[0m \u001b[39m# wait for all outstanding jobs to finish\u001b[39;00m\n\u001b[1;32m    315\u001b[0m \u001b[39mwhile\u001b[39;00m queue_size[\u001b[39m0\u001b[39m] \u001b[39m>\u001b[39m \u001b[39m0\u001b[39m:\n\u001b[0;32m--> 316\u001b[0m     process_result_queue(force\u001b[39m=\u001b[39;49m\u001b[39mTrue\u001b[39;49;00m)\n\u001b[1;32m    318\u001b[0m \u001b[39mif\u001b[39;00m reallen \u001b[39m!=\u001b[39m lencorpus:\n\u001b[1;32m    319\u001b[0m     \u001b[39mraise\u001b[39;00m \u001b[39mRuntimeError\u001b[39;00m(\u001b[39m\"\u001b[39m\u001b[39minput corpus size changed during training (don\u001b[39m\u001b[39m'\u001b[39m\u001b[39mt use generators as input)\u001b[39m\u001b[39m\"\u001b[39m)\n",
      "File \u001b[0;32m/usr/local/lib/python3.9/site-packages/gensim/models/ldamulticore.py:283\u001b[0m, in \u001b[0;36mLdaMulticore.update.<locals>.process_result_queue\u001b[0;34m(force)\u001b[0m\n\u001b[1;32m    281\u001b[0m other\u001b[39m.\u001b[39mreset()\n\u001b[1;32m    282\u001b[0m \u001b[39mif\u001b[39;00m eval_every \u001b[39m>\u001b[39m \u001b[39m0\u001b[39m \u001b[39mand\u001b[39;00m (force \u001b[39mor\u001b[39;00m (\u001b[39mself\u001b[39m\u001b[39m.\u001b[39mnum_updates \u001b[39m/\u001b[39m updateafter) \u001b[39m%\u001b[39m eval_every \u001b[39m==\u001b[39m \u001b[39m0\u001b[39m):\n\u001b[0;32m--> 283\u001b[0m     \u001b[39mself\u001b[39;49m\u001b[39m.\u001b[39;49mlog_perplexity(chunk, total_docs\u001b[39m=\u001b[39;49mlencorpus)\n",
      "File \u001b[0;32m/usr/local/lib/python3.9/site-packages/gensim/models/ldamodel.py:847\u001b[0m, in \u001b[0;36mLdaModel.log_perplexity\u001b[0;34m(self, chunk, total_docs)\u001b[0m\n\u001b[1;32m    845\u001b[0m corpus_words \u001b[39m=\u001b[39m \u001b[39msum\u001b[39m(cnt \u001b[39mfor\u001b[39;00m document \u001b[39min\u001b[39;00m chunk \u001b[39mfor\u001b[39;00m _, cnt \u001b[39min\u001b[39;00m document)\n\u001b[1;32m    846\u001b[0m subsample_ratio \u001b[39m=\u001b[39m \u001b[39m1.0\u001b[39m \u001b[39m*\u001b[39m total_docs \u001b[39m/\u001b[39m \u001b[39mlen\u001b[39m(chunk)\n\u001b[0;32m--> 847\u001b[0m perwordbound \u001b[39m=\u001b[39m \u001b[39mself\u001b[39;49m\u001b[39m.\u001b[39;49mbound(chunk, subsample_ratio\u001b[39m=\u001b[39;49msubsample_ratio) \u001b[39m/\u001b[39m (subsample_ratio \u001b[39m*\u001b[39m corpus_words)\n\u001b[1;32m    848\u001b[0m logger\u001b[39m.\u001b[39minfo(\n\u001b[1;32m    849\u001b[0m     \u001b[39m\"\u001b[39m\u001b[39m%.3f\u001b[39;00m\u001b[39m per-word bound, \u001b[39m\u001b[39m%.1f\u001b[39;00m\u001b[39m perplexity estimate based on a held-out corpus of \u001b[39m\u001b[39m%i\u001b[39;00m\u001b[39m documents with \u001b[39m\u001b[39m%i\u001b[39;00m\u001b[39m words\u001b[39m\u001b[39m\"\u001b[39m,\n\u001b[1;32m    850\u001b[0m     perwordbound, np\u001b[39m.\u001b[39mexp2(\u001b[39m-\u001b[39mperwordbound), \u001b[39mlen\u001b[39m(chunk), corpus_words\n\u001b[1;32m    851\u001b[0m )\n\u001b[1;32m    852\u001b[0m \u001b[39mreturn\u001b[39;00m perwordbound\n",
      "File \u001b[0;32m/usr/local/lib/python3.9/site-packages/gensim/models/ldamodel.py:1122\u001b[0m, in \u001b[0;36mLdaModel.bound\u001b[0;34m(self, corpus, gamma, subsample_ratio)\u001b[0m\n\u001b[1;32m   1119\u001b[0m \u001b[39massert\u001b[39;00m Elogthetad\u001b[39m.\u001b[39mdtype \u001b[39m==\u001b[39m \u001b[39mself\u001b[39m\u001b[39m.\u001b[39mdtype\n\u001b[1;32m   1121\u001b[0m \u001b[39m# E[log p(doc | theta, beta)]\u001b[39;00m\n\u001b[0;32m-> 1122\u001b[0m score \u001b[39m+\u001b[39m\u001b[39m=\u001b[39m \u001b[39msum\u001b[39m(cnt \u001b[39m*\u001b[39m logsumexp(Elogthetad \u001b[39m+\u001b[39m Elogbeta[:, \u001b[39mint\u001b[39m(\u001b[39mid\u001b[39m)]) \u001b[39mfor\u001b[39;00m \u001b[39mid\u001b[39m, cnt \u001b[39min\u001b[39;00m doc)\n\u001b[1;32m   1124\u001b[0m \u001b[39m# E[log p(theta | alpha) - log q(theta | gamma)]; assumes alpha is a vector\u001b[39;00m\n\u001b[1;32m   1125\u001b[0m score \u001b[39m+\u001b[39m\u001b[39m=\u001b[39m np\u001b[39m.\u001b[39msum((\u001b[39mself\u001b[39m\u001b[39m.\u001b[39malpha \u001b[39m-\u001b[39m gammad) \u001b[39m*\u001b[39m Elogthetad)\n",
      "\u001b[0;31mKeyboardInterrupt\u001b[0m: "
     ]
    }
   ],
   "source": [
    "%%time\n",
    "\n",
    "grid = {}\n",
    "grid['Validation_Set'] = {}\n",
    "\n",
    "# Topics range\n",
    "min_topics = 2\n",
    "max_topics = 20\n",
    "step_size = 1\n",
    "topics_range = range(min_topics, max_topics+1, step_size)\n",
    "\n",
    "# Validation sets\n",
    "num_of_docs = len(text_doc_term_matrix)\n",
    "corpus_sets = [text_doc_term_matrix]\n",
    "corpus_title = ['100% Corpus']\n",
    "model_results = {'Topics': [], 'Coherence': []}\n",
    "\n",
    "itr = 0\n",
    "itr_total = len(topics_range)*len(corpus_title)\n",
    "print(f'LDA will execute {itr_total} iterations')\n",
    "\n",
    "# iterate through validation corpuses\n",
    "for i in range(len(corpus_sets)):\n",
    "    \n",
    "    # iterate through number of topics\n",
    "    for k in topics_range:\n",
    "\n",
    "        cv = compute_coherence_values(corpus=corpus_sets[i], dictionary=text_dict, texts=text_lemmatized, k=k)\n",
    "        \n",
    "        model_results['Topics'].append(k)\n",
    "        model_results['Coherence'].append(cv)\n",
    "        \n",
    "        itr += 1\n",
    "\n",
    "        pct_completed = round((itr / itr_total * 100), 1)\n",
    "        print(f'Completed model based on {k} LDA topics. Finished {pct_completed}% of LDA runs')"
   ]
  },
  {
   "cell_type": "code",
   "execution_count": 38,
   "metadata": {},
   "outputs": [],
   "source": [
    "text_lda_tuning = pd.DataFrame(model_results)\n",
    "path_result = 'gs://nlp-final-project-data/result/'\n",
    "text_lda_tuning.to_csv(path_result + 'text_lda_tuning_results.csv', index=False)"
   ]
  },
  {
   "cell_type": "code",
   "execution_count": 39,
   "metadata": {},
   "outputs": [
    {
     "data": {
      "text/html": [
       "<div>\n",
       "<style scoped>\n",
       "    .dataframe tbody tr th:only-of-type {\n",
       "        vertical-align: middle;\n",
       "    }\n",
       "\n",
       "    .dataframe tbody tr th {\n",
       "        vertical-align: top;\n",
       "    }\n",
       "\n",
       "    .dataframe thead th {\n",
       "        text-align: right;\n",
       "    }\n",
       "</style>\n",
       "<table border=\"1\" class=\"dataframe\">\n",
       "  <thead>\n",
       "    <tr style=\"text-align: right;\">\n",
       "      <th></th>\n",
       "      <th>Topics</th>\n",
       "      <th>Coherence</th>\n",
       "    </tr>\n",
       "  </thead>\n",
       "  <tbody>\n",
       "    <tr>\n",
       "      <th>0</th>\n",
       "      <td>2</td>\n",
       "      <td>0.394838</td>\n",
       "    </tr>\n",
       "  </tbody>\n",
       "</table>\n",
       "</div>"
      ],
      "text/plain": [
       "   Topics  Coherence\n",
       "0       2   0.394838"
      ]
     },
     "execution_count": 39,
     "metadata": {},
     "output_type": "execute_result"
    }
   ],
   "source": [
    "# Best LDA parameters\n",
    "text_lda_tuning.sort_values(by=['Coherence'], ascending=False).head(10)"
   ]
  },
  {
   "cell_type": "code",
   "execution_count": 40,
   "metadata": {},
   "outputs": [
    {
     "data": {
      "text/html": [
       "<div>\n",
       "<style scoped>\n",
       "    .dataframe tbody tr th:only-of-type {\n",
       "        vertical-align: middle;\n",
       "    }\n",
       "\n",
       "    .dataframe tbody tr th {\n",
       "        vertical-align: top;\n",
       "    }\n",
       "\n",
       "    .dataframe thead th {\n",
       "        text-align: right;\n",
       "    }\n",
       "</style>\n",
       "<table border=\"1\" class=\"dataframe\">\n",
       "  <thead>\n",
       "    <tr style=\"text-align: right;\">\n",
       "      <th></th>\n",
       "      <th>Topics</th>\n",
       "      <th>Coherence</th>\n",
       "    </tr>\n",
       "  </thead>\n",
       "  <tbody>\n",
       "    <tr>\n",
       "      <th>0</th>\n",
       "      <td>2</td>\n",
       "      <td>0.394838</td>\n",
       "    </tr>\n",
       "  </tbody>\n",
       "</table>\n",
       "</div>"
      ],
      "text/plain": [
       "   Topics  Coherence\n",
       "0       2   0.394838"
      ]
     },
     "execution_count": 40,
     "metadata": {},
     "output_type": "execute_result"
    }
   ],
   "source": [
    "# Worst LDA parameters\n",
    "text_lda_tuning.sort_values(by=['Coherence']).head(10)"
   ]
  },
  {
   "cell_type": "code",
   "execution_count": 41,
   "metadata": {},
   "outputs": [
    {
     "data": {
      "image/png": "[encoded data removed]",
      "text/plain": [
       "<Figure size 1200x800 with 1 Axes>"
      ]
     },
     "metadata": {},
     "output_type": "display_data"
    }
   ],
   "source": [
    "# plot the coherence scores\n",
    "plt.figure(figsize=(12, 8))\n",
    "plt.plot(text_lda_tuning['Topics'], text_lda_tuning['Coherence'])\n",
    "plt.xlabel('Number of Topics')\n",
    "plt.ylabel('Coherence Score')\n",
    "plt.title('Coherence Scores by Number of Topics (News Text)')\n",
    "plt.legend(('coherence_values'), loc='best')\n",
    "plt.show()"
   ]
  },
  {
   "attachments": {},
   "cell_type": "markdown",
   "metadata": {},
   "source": [
    "### Runnning Best Model"
   ]
  },
  {
   "cell_type": "code",
   "execution_count": 42,
   "metadata": {},
   "outputs": [
    {
     "name": "stdout",
     "output_type": "stream",
     "text": [
      "Best number of topics for news text: 2\n"
     ]
    }
   ],
   "source": [
    "text_lda_tuning_best = text_lda_tuning.sort_values(by=['Coherence'], ascending=False).head(1)\n",
    "\n",
    "text_tuned_topics = int(text_lda_tuning_best['Topics'].to_string(index=False))\n",
    "\n",
    "print(f'Best number of topics for news text: {text_tuned_topics}')"
   ]
  },
  {
   "cell_type": "code",
   "execution_count": 33,
   "metadata": {},
   "outputs": [
    {
     "name": "stdout",
     "output_type": "stream",
     "text": [
      "\n",
      "Coherence Score:  0.4159349694728773\n",
      "CPU times: user 34.8 s, sys: 3.36 s, total: 38.2 s\n",
      "Wall time: 1min 18s\n"
     ]
    }
   ],
   "source": [
    "%%time\n",
    "\n",
    "# Build LDA model for news text\n",
    "lda_model_text_tuned = LdaMulticore(corpus=text_doc_term_matrix,\n",
    "                                    id2word=text_dict,\n",
    "                                    num_topics=text_tuned_topics,\n",
    "                                    random_state=100,\n",
    "                                    passes=10,\n",
    "                                    alpha=tuned_alpha,\n",
    "                                    eta=tuned_beta,\n",
    "                                    workers=num_processors-1)\n",
    "\n",
    "coherence_lda_text_tuned = CoherenceModel(model=lda_model_text_tuned, texts=text_lemmatized, dictionary=text_dict, coherence='c_v').get_coherence()\n",
    "\n",
    "print('\\nCoherence Score: ', coherence_lda_text_tuned)"
   ]
  },
  {
   "cell_type": "code",
   "execution_count": 34,
   "metadata": {},
   "outputs": [
    {
     "name": "stderr",
     "output_type": "stream",
     "text": [
      "Traceback (most recent call last):\n",
      "  File \"<string>\", line 1, in <module>\n",
      "  File \"/usr/local/Cellar/python@3.9/3.9.16/Frameworks/Python.framework/Versions/3.9/lib/python3.9/multiprocessing/spawn.py\", line 116, in spawn_main\n",
      "    exitcode = _main(fd, parent_sentinel)\n",
      "  File \"/usr/local/Cellar/python@3.9/3.9.16/Frameworks/Python.framework/Versions/3.9/lib/python3.9/multiprocessing/spawn.py\", line 126, in _main\n",
      "    self = reduction.pickle.load(from_parent)\n",
      "_pickle.UnpicklingError: pickle data was truncated\n"
     ]
    },
    {
     "name": "stdout",
     "output_type": "stream",
     "text": [
      "CPU times: user 1.62 s, sys: 842 ms, total: 2.46 s\n",
      "Wall time: 6.59 s\n"
     ]
    },
    {
     "data": {
      "text/html": [
       "\n",
       "<link rel=\"stylesheet\" type=\"text/css\" href=\"https://cdn.jsdelivr.net/gh/bmabey/pyLDAvis@3.4.0/pyLDAvis/js/ldavis.v1.0.0.css\">\n",
       "\n",
       "\n",
       "<div id=\"ldavis_el339865623129284398346858\" style=\"background-color:white;\"></div>\n",
       "<script type=\"text/javascript\">\n",
       "\n",
       "var ldavis_el339865623129284398346858_data = {\"mdsDat\": {\"x\": [-0.035360203126388545, 0.035360203126388545], \"y\": [0.11162327172396402, -0.11162327172396402], \"topics\": [1, 2], \"cluster\": [1, 1], \"Freq\": [67.81953280793599, 32.180467192064015]}, \"tinfo\": {\"Term\": [\"market\", \"report\", \"analysis\", \"global\", \"industry\", \"growth\", \"forecast\", \"intelligence\", \"trend\", \"player\", \"research\", \"artificial\", \"key\", \"business\", \"segment\", \"artificial_intelligence\", \"revenue\", \"size\", \"application\", \"say\", \"share\", \"region\", \"opportunity\", \"product\", \"datum\", \"insight\", \"demand\", \"chatgpt\", \"development\", \"service\", \"replit\", \"langchain\", \"rewrote\", \"live_transcription\", \"things_considere\", \"transpara\", \"weaviate\", \"adjective\", \"christopher_intagliata\", \"romoslawski\", \"american_express\", \"sonographer\", \"anthropic\", \"scientific_excellence\", \"snapchat\", \"gleamer\", \"glaucoma\", \"ccere\", \"boneview\", \"imerit\", \"qynapse\", \"protgai\", \"fracture\", \"onenote\", \"snapchat_user\", \"echocardiogram\", \"leopard_image\", \"lisk\", \"sapling\", \"stool\", \"chatgpt\", \"bias\", \"person\", \"gpt\", \"openai\", \"bing\", \"write\", \"clearview\", \"wrong\", \"starfille\", \"text\", \"harm\", \"essay\", \"cheat\", \"meta\", \"teach\", \"misinformation\", \"friend\", \"exam\", \"avatar\", \"hear\", \"sentence\", \"developer\", \"school\", \"lunit\", \"say\", \"llm\", \"moral\", \"educator\", \"google\", \"human\", \"think\", \"question\", \"people\", \"really\", \"photo\", \"tell\", \"word\", \"student\", \"chatbot\", \"work\", \"even\", \"s\", \"re\", \"answer\", \"image\", \"use\", \"model\", \"job\", \"training\", \"patient\", \"way\", \"tool\", \"user\", \"make\", \"train\", \"ai\", \"create\", \"see\", \"build\", \"first\", \"new\", \"technology\", \"time\", \"take\", \"go\", \"system\", \"get\", \"company\", \"need\", \"learn\", \"also\", \"help\", \"datum\", \"world\", \"well\", \"platform\", \"provide\", \"include\", \"service\", \"year\", \"business\", \"energy_market\", \"mai\", \"based_personalization\", \"ptfe\", \"artificial_intelligence_based_personalization\", \"bigai\", \"bigid\", \"graft_market\", \"office_furniture\", \"ultrasonic_processor\", \"ptfe_vascular\", \"industrial_enzyme\", \"freight_transportation\", \"sales_growth_rate\", \"computer_vision_market\", \"pvc_modifier\", \"europe_artificial_intelligence\", \"nato_artificial\", \"polymer_base\", \"automotive_artificial_intelligence\", \"construction_market\", \"freight_transportation_industry\", \"nato_artificial_intelligence\", \"development_trend\", \"intelligence_system\", \"automotive_transportation\", \"data_engineering_service\", \"household_furniture\", \"ptfe_vascular_graft_market\", \"size_share\", \"market_size\", \"digi\", \"key_player\", \"market\", \"digi_communication\", \"growth_rate\", \"research_report\", \"forecast_period\", \"cagr\", \"digi_symbol\", \"global_artificial_intelligence\", \"global_artificial\", \"forecast\", \"swot_analysis\", \"market_report\", \"competitive_landscape\", \"restraint\", \"type_application\", \"market_analysis\", \"covid_impact\", \"leading_player\", \"swot\", \"subsegment\", \"growth_opportunitie\", \"market_dynamic\", \"buyback\", \"top_player\", \"report_cover\", \"growth_factor\", \"segment\", \"communications_report\", \"growth\", \"overview\", \"player\", \"analysis\", \"trend\", \"regional\", \"size\", \"segmentation\", \"outlook\", \"report\", \"region\", \"global\", \"revenue\", \"industry\", \"key\", \"manufacturer\", \"intelligence\", \"demand\", \"artificial\", \"opportunity\", \"research\", \"insight\", \"factor\", \"artificial_intelligence\", \"business\", \"share\", \"application\", \"product\", \"ai\", \"datum\", \"development\", \"service\", \"company\", \"include\", \"technology\", \"provide\", \"solution\", \"platform\", \"also\", \"new\"], \"Freq\": [23320.0, 8195.0, 5931.0, 6261.0, 6952.0, 4559.0, 3481.0, 6367.0, 2682.0, 2269.0, 5095.0, 4500.0, 2614.0, 5810.0, 1548.0, 4021.0, 1898.0, 1563.0, 4185.0, 9246.0, 3495.0, 1510.0, 2300.0, 4677.0, 8460.0, 2133.0, 1738.0, 3531.0, 3424.0, 5005.0, 47.624213560951205, 41.38156046556259, 17.52145048425156, 10.257297004344645, 9.219032510009972, 19.595012500506005, 29.966198509729306, 24.777566965483924, 8.17958306700925, 13.367353759850998, 32.032033311127854, 27.888352684233496, 56.9259849326499, 18.553891451751195, 38.25530395887977, 69.36563941692467, 55.88606007883838, 15.440562029566658, 62.10774193433229, 35.14421561303344, 57.953898762364155, 9.21542858934749, 83.87633061701806, 14.401665698928605, 11.290745024852097, 15.439006976140378, 36.178545955110174, 46.51497483331453, 12.326937137007238, 15.438249386009627, 3499.3716704079234, 549.3989155333772, 472.28639049926386, 567.7748908791185, 498.5210190102286, 398.5692760579624, 1771.850832666966, 227.58843432896424, 240.81704992317015, 153.19188115987282, 841.6018338302814, 211.33104495923192, 219.48422790160384, 153.03801572894488, 155.99473153899842, 312.7824115044057, 119.07079050722511, 162.02828157918887, 125.12354509939401, 115.89812163674257, 256.55953155642374, 146.55472910651952, 802.0286134023244, 742.7506720169512, 111.73741619087752, 8822.168374060064, 129.0855799457885, 107.57023288931958, 221.54915891126745, 406.63221069261266, 2534.864237291324, 1359.1071250089692, 1055.0552925893408, 2910.704451694356, 563.3029457328972, 687.1910852321913, 701.6586234441082, 655.7982187524292, 1317.6742365340622, 1347.0590986147954, 4630.022622873065, 1800.9705606944906, 1489.268184402884, 601.9795393269161, 750.5136295867113, 2322.1903459335304, 11061.27020950056, 4193.332703735173, 1036.0761569024157, 1053.0656748312178, 1420.2422479916327, 2541.483166285986, 3072.005937494667, 2980.4831280237, 4735.722383110169, 1225.754511177912, 21839.206601208203, 2961.74262607124, 2520.3258352641, 2195.2997530370176, 2206.815155740886, 6528.270946209253, 8296.279036359725, 3204.966084876774, 2461.867833370523, 1832.1884596376585, 4184.251666114121, 2790.1679154708395, 6979.097247724096, 3043.5811067141994, 2965.9107008958667, 4251.2468274820885, 3958.864165047928, 5087.528313369036, 2672.801471697928, 3007.0541142840525, 2999.177565224566, 2965.3450990311244, 2959.963113309379, 2761.28060505363, 2626.6126593524846, 2718.181271843502, 80.9935584702152, 37.04209547536839, 96.57556374619573, 38.992825772587274, 25.32258943520073, 27.255758207588688, 23.35051169768738, 34.10289389266626, 24.34563113610663, 12.63471277860629, 32.147007686997014, 38.00193274312733, 26.293636971351738, 11.657598269263692, 30.195978552781014, 11.655792634031076, 28.241017965602865, 26.291713935870252, 18.485144607029863, 31.166337211438655, 37.01907338359004, 15.558333116708438, 13.607229273243155, 29.215665129219218, 14.581870615359563, 37.99214874222153, 28.238252753129487, 19.459100952652864, 20.43468343726021, 114.07485286171715, 819.747233851688, 524.0735311303571, 535.3240222060404, 22278.695363618546, 307.91844389144177, 367.5047713817602, 561.4937601940849, 356.7558607412479, 596.7082151670494, 259.10186024943505, 230.10198842063824, 400.3934206971169, 3378.7943449418517, 211.51175021562017, 201.59981602704968, 218.68880582652136, 177.1701942302517, 147.2181733946219, 150.11867752669664, 206.0186915365059, 149.13678453615003, 151.06516027358415, 152.02375174035507, 157.7211838775017, 135.50623142338145, 188.4248923098944, 122.83163069740918, 129.57885780044865, 133.43231818734853, 1488.316789478875, 132.4075013372152, 4230.94271241759, 659.6715093928552, 2079.082727983135, 5266.669705453882, 2427.2143858474146, 663.4489953244865, 1431.2069746367135, 378.7452960495393, 591.9200547491486, 6781.389341302557, 1349.6945497574939, 5031.892680002253, 1600.845420907479, 5214.764901473607, 2043.5814515889322, 617.6255630456626, 4206.824129481797, 1317.755472464995, 2840.2474161748405, 1620.2613496165475, 3093.3698353058444, 1498.2479268552609, 840.2402176703869, 2353.3780200302917, 3092.4885688823288, 2076.494690920052, 2304.73126894665, 2328.401518766759, 8006.010874216221, 3373.2489238112416, 1792.541732277877, 2244.3804155116923, 3478.2309042405022, 2239.165593481899, 3052.25781278966, 2120.874453308775, 2001.63932975274, 1852.7993175217327, 1865.9066652675385, 1945.9907579685098], \"Total\": [23320.0, 8195.0, 5931.0, 6261.0, 6952.0, 4559.0, 3481.0, 6367.0, 2682.0, 2269.0, 5095.0, 4500.0, 2614.0, 5810.0, 1548.0, 4021.0, 1898.0, 1563.0, 4185.0, 9246.0, 3495.0, 1510.0, 2300.0, 4677.0, 8460.0, 2133.0, 1738.0, 3531.0, 3424.0, 5005.0, 47.66973977124434, 41.43417693305406, 17.543974854839878, 10.271045456187377, 9.231647112932468, 19.6219935969352, 30.00856889854696, 24.814058431476344, 8.191730558044398, 13.387538694740158, 32.08062126654776, 27.930704676201717, 57.01408893785634, 18.58285659571012, 38.31555133642668, 69.47524514733425, 55.975246140186755, 15.465383887702192, 62.20767406009283, 35.20185966583392, 58.05076830160925, 9.230856867972387, 84.0181959316444, 14.426121175886514, 11.309995008279067, 15.46539860969488, 36.24107740346614, 46.595924487972674, 12.34855728008473, 15.46551424834576, 3531.568156963444, 553.2552172973748, 476.3857204809216, 573.8956134945648, 503.3380453356015, 401.66194863087446, 1813.9032564030963, 228.35624335700948, 241.85273211782388, 153.5927708399116, 858.8484252167357, 212.71596293780453, 221.0326879440082, 153.57004836968198, 156.68190048277316, 316.4308617067168, 119.32767368250973, 162.89861110224706, 125.54456334317649, 116.20573791058561, 259.35843474791415, 147.3291449305949, 820.3164964837534, 759.1427428911326, 112.04660102543203, 9246.425877239424, 129.6879021045364, 107.89446260215111, 224.05814218817412, 413.85523674807126, 2647.650132445451, 1410.2729361433583, 1091.2981659804038, 3074.470945021655, 576.5701693316639, 707.0149128588326, 724.4747816024402, 676.7640577850756, 1387.299632009727, 1423.1906024278212, 5082.759431594233, 1923.0749696189014, 1581.176674930013, 621.8187900474089, 781.1005548492284, 2502.9667342810626, 12540.003723391701, 4647.414480755392, 1089.2339300776266, 1112.6903000291675, 1532.1727552299951, 2852.246662582036, 3517.775730322912, 3429.416680973485, 5649.813124485542, 1323.2505316852457, 29845.217475424426, 3432.0548070311975, 2880.2440900149013, 2483.8969956664787, 2518.7423621137323, 8474.261704177763, 11348.536849149385, 3903.823833556354, 2907.17417270723, 2086.1374075687045, 5469.208155886896, 3454.1778239579257, 10457.328151964597, 3851.0230247483596, 3843.7130369886154, 6117.153492749627, 5609.281567430141, 8460.777237180278, 3427.6657755982915, 4184.96343487945, 4851.9768827462985, 5086.2195523399, 5199.128706791278, 5005.661020565322, 3922.9965517032397, 5810.669840725831, 81.03397538610646, 37.07557959649499, 96.66545288392525, 39.03017821371538, 25.351318974965164, 27.287645187614025, 23.37901815699928, 34.1450869975013, 24.37608752057533, 12.650789941966137, 32.18920698207699, 38.053384070138264, 26.329278736295972, 11.673608182601338, 30.238050859978337, 11.67221608069086, 28.282234465447747, 26.33050889576548, 18.513076771360307, 31.213661945454685, 37.0754936920948, 15.582159684955414, 13.628173447789536, 29.260991895787214, 14.604850196354699, 38.05208090846866, 28.283076648161426, 19.49008563059576, 20.467317026720533, 114.25823702274222, 821.6030488984943, 525.6086966655172, 538.3440732155775, 23320.209778524484, 308.6944545297299, 369.2909042391616, 566.8063267359548, 358.52477158643103, 603.0031353359324, 259.8415513548582, 230.51320615186418, 403.5344793494313, 3481.7129703388005, 211.95102248832515, 202.18851761745367, 219.79441021742755, 177.76933837247313, 147.47661666368677, 150.4119306277302, 207.09521612162402, 149.42951922214218, 151.38606333766282, 152.36418789467612, 158.22752926719014, 135.75002513834912, 189.52017338508165, 123.05238868186647, 129.8835513048079, 133.8066764366031, 1548.8145020942004, 132.8306687811576, 4559.984443561859, 687.2550797846486, 2269.700894797189, 5931.653523578851, 2682.923633411259, 699.499288733899, 1563.9120973464665, 393.4441425798795, 627.1355758494683, 8195.685310365418, 1510.8571378995002, 6261.81343388399, 1898.059614911703, 6952.0589259014705, 2614.58957765344, 693.0401128727162, 6367.985713882977, 1738.3398065281808, 4500.475242051727, 2300.83330955542, 5095.032086447057, 2133.0158198171166, 1048.6410634965305, 4021.0302537258776, 5810.669840725831, 3495.5626803433524, 4185.312843986141, 4677.167300396875, 29845.217475424426, 8460.777237180278, 3424.2033923409967, 5005.661020565322, 10457.328151964597, 5199.128706791278, 11348.536849149385, 5086.2195523399, 4458.956698514097, 4851.9768827462985, 6117.153492749627, 8474.261704177763], \"Category\": [\"Default\", \"Default\", \"Default\", \"Default\", \"Default\", \"Default\", \"Default\", \"Default\", \"Default\", \"Default\", \"Default\", \"Default\", \"Default\", \"Default\", \"Default\", \"Default\", \"Default\", \"Default\", \"Default\", \"Default\", \"Default\", \"Default\", \"Default\", \"Default\", \"Default\", \"Default\", \"Default\", \"Default\", \"Default\", \"Default\", \"Topic1\", \"Topic1\", \"Topic1\", \"Topic1\", \"Topic1\", \"Topic1\", \"Topic1\", \"Topic1\", \"Topic1\", \"Topic1\", \"Topic1\", \"Topic1\", \"Topic1\", \"Topic1\", \"Topic1\", \"Topic1\", \"Topic1\", \"Topic1\", \"Topic1\", \"Topic1\", \"Topic1\", \"Topic1\", \"Topic1\", \"Topic1\", \"Topic1\", \"Topic1\", \"Topic1\", \"Topic1\", \"Topic1\", \"Topic1\", \"Topic1\", \"Topic1\", \"Topic1\", \"Topic1\", \"Topic1\", \"Topic1\", \"Topic1\", \"Topic1\", \"Topic1\", \"Topic1\", \"Topic1\", \"Topic1\", \"Topic1\", \"Topic1\", \"Topic1\", \"Topic1\", \"Topic1\", \"Topic1\", \"Topic1\", \"Topic1\", \"Topic1\", \"Topic1\", \"Topic1\", \"Topic1\", \"Topic1\", \"Topic1\", \"Topic1\", \"Topic1\", \"Topic1\", \"Topic1\", \"Topic1\", \"Topic1\", \"Topic1\", \"Topic1\", \"Topic1\", \"Topic1\", \"Topic1\", \"Topic1\", \"Topic1\", \"Topic1\", \"Topic1\", \"Topic1\", \"Topic1\", \"Topic1\", \"Topic1\", \"Topic1\", \"Topic1\", \"Topic1\", \"Topic1\", \"Topic1\", \"Topic1\", \"Topic1\", \"Topic1\", \"Topic1\", \"Topic1\", \"Topic1\", \"Topic1\", \"Topic1\", \"Topic1\", \"Topic1\", \"Topic1\", \"Topic1\", \"Topic1\", \"Topic1\", \"Topic1\", \"Topic1\", \"Topic1\", \"Topic1\", \"Topic1\", \"Topic1\", \"Topic1\", \"Topic1\", \"Topic1\", \"Topic1\", \"Topic1\", \"Topic1\", \"Topic1\", \"Topic1\", \"Topic1\", \"Topic1\", \"Topic1\", \"Topic1\", \"Topic2\", \"Topic2\", \"Topic2\", \"Topic2\", \"Topic2\", \"Topic2\", \"Topic2\", \"Topic2\", \"Topic2\", \"Topic2\", \"Topic2\", \"Topic2\", \"Topic2\", \"Topic2\", \"Topic2\", \"Topic2\", \"Topic2\", \"Topic2\", \"Topic2\", \"Topic2\", \"Topic2\", \"Topic2\", \"Topic2\", \"Topic2\", \"Topic2\", \"Topic2\", \"Topic2\", \"Topic2\", \"Topic2\", \"Topic2\", \"Topic2\", \"Topic2\", \"Topic2\", \"Topic2\", \"Topic2\", \"Topic2\", \"Topic2\", \"Topic2\", \"Topic2\", \"Topic2\", \"Topic2\", \"Topic2\", \"Topic2\", \"Topic2\", \"Topic2\", \"Topic2\", \"Topic2\", \"Topic2\", \"Topic2\", \"Topic2\", \"Topic2\", \"Topic2\", \"Topic2\", \"Topic2\", \"Topic2\", \"Topic2\", \"Topic2\", \"Topic2\", \"Topic2\", \"Topic2\", \"Topic2\", \"Topic2\", \"Topic2\", \"Topic2\", \"Topic2\", \"Topic2\", \"Topic2\", \"Topic2\", \"Topic2\", \"Topic2\", \"Topic2\", \"Topic2\", \"Topic2\", \"Topic2\", \"Topic2\", \"Topic2\", \"Topic2\", \"Topic2\", \"Topic2\", \"Topic2\", \"Topic2\", \"Topic2\", \"Topic2\", \"Topic2\", \"Topic2\", \"Topic2\", \"Topic2\", \"Topic2\", \"Topic2\", \"Topic2\", \"Topic2\", \"Topic2\", \"Topic2\", \"Topic2\", \"Topic2\", \"Topic2\", \"Topic2\", \"Topic2\", \"Topic2\", \"Topic2\", \"Topic2\"], \"logprob\": [30.0, 29.0, 28.0, 27.0, 26.0, 25.0, 24.0, 23.0, 22.0, 21.0, 20.0, 19.0, 18.0, 17.0, 16.0, 15.0, 14.0, 13.0, 12.0, 11.0, 10.0, 9.0, 8.0, 7.0, 6.0, 5.0, 4.0, 3.0, 2.0, 1.0, -10.0692, -10.2097, -11.0691, -11.6045, -11.7112, -10.9572, -10.5324, -10.7226, -11.8309, -11.3397, -10.4658, -10.6043, -9.8908, -11.0118, -10.2882, -9.6931, -9.9092, -11.1955, -9.8036, -10.3731, -9.8729, -11.7116, -9.5032, -11.2652, -11.5085, -11.1956, -10.3441, -10.0927, -11.4207, -11.1957, -5.7722, -7.6237, -7.7749, -7.5908, -7.7209, -7.9446, -6.4527, -8.505, -8.4485, -8.9008, -7.1972, -8.5791, -8.5412, -8.9018, -8.8827, -8.187, -9.1528, -8.8447, -9.1032, -9.1798, -8.3852, -8.9451, -7.2454, -7.3222, -9.2164, -4.8475, -9.072, -9.2544, -8.5319, -7.9246, -6.0946, -6.7179, -6.9712, -5.9564, -7.5987, -7.3999, -7.3791, -7.4467, -6.7489, -6.7268, -5.4922, -6.4364, -6.6265, -7.5323, -7.3118, -6.1823, -4.6213, -5.5913, -6.9893, -6.9731, -6.6739, -6.092, -5.9024, -5.9327, -5.4696, -6.8212, -3.9411, -5.939, -6.1004, -6.2384, -6.2332, -5.1486, -4.909, -5.8601, -6.1238, -6.4193, -5.5934, -5.9987, -5.0818, -5.9117, -5.9376, -5.5776, -5.6488, -5.398, -6.0416, -5.9238, -5.9264, -5.9378, -5.9396, -6.0091, -6.0591, -6.0248, -8.7927, -9.575, -8.6167, -9.5237, -9.9553, -9.8818, -10.0364, -9.6576, -9.9947, -10.6506, -9.7167, -9.5494, -9.9177, -10.7311, -9.7793, -10.7312, -9.8463, -9.9178, -10.2701, -9.7477, -9.5756, -10.4424, -10.5764, -9.8123, -10.5072, -9.5496, -9.8464, -10.2187, -10.1698, -8.4502, -6.478, -6.9254, -6.9042, -3.1756, -7.4572, -7.2803, -6.8564, -7.31, -6.7956, -7.6298, -7.7485, -7.1946, -5.0618, -7.8327, -7.8807, -7.7994, -8.0099, -8.1951, -8.1756, -7.8591, -8.1822, -8.1693, -8.163, -8.1262, -8.278, -7.9483, -8.3762, -8.3227, -8.2934, -5.8816, -8.3011, -4.8368, -6.6953, -5.5473, -4.6179, -5.3925, -6.6896, -5.9208, -7.2502, -6.8037, -4.3651, -5.9794, -4.6635, -5.8087, -4.6278, -5.5646, -6.7611, -4.8426, -6.0033, -5.2354, -5.7967, -5.15, -5.875, -6.4533, -5.4234, -5.1503, -5.5486, -5.4443, -5.4341, -4.1991, -5.0634, -5.6956, -5.4708, -5.0327, -5.4732, -5.1634, -5.5274, -5.5853, -5.6626, -5.6555, -5.6135], \"loglift\": [30.0, 29.0, 28.0, 27.0, 26.0, 25.0, 24.0, 23.0, 22.0, 21.0, 20.0, 19.0, 18.0, 17.0, 16.0, 15.0, 14.0, 13.0, 12.0, 11.0, 10.0, 9.0, 8.0, 7.0, 6.0, 5.0, 4.0, 3.0, 2.0, 1.0, 0.3874, 0.387, 0.387, 0.387, 0.387, 0.3869, 0.3869, 0.3868, 0.3868, 0.3868, 0.3868, 0.3868, 0.3868, 0.3868, 0.3867, 0.3867, 0.3867, 0.3867, 0.3867, 0.3867, 0.3866, 0.3866, 0.3866, 0.3866, 0.3866, 0.3866, 0.3866, 0.3866, 0.3866, 0.3866, 0.3792, 0.3813, 0.3797, 0.3776, 0.3787, 0.3806, 0.3649, 0.385, 0.384, 0.3857, 0.368, 0.3818, 0.3813, 0.3848, 0.3839, 0.3767, 0.3862, 0.383, 0.385, 0.3857, 0.3775, 0.383, 0.3658, 0.3665, 0.3856, 0.3414, 0.3837, 0.3853, 0.3771, 0.3707, 0.3448, 0.3514, 0.3545, 0.3336, 0.365, 0.3599, 0.3563, 0.3569, 0.3368, 0.3333, 0.295, 0.3227, 0.3284, 0.3559, 0.3484, 0.3134, 0.2628, 0.2855, 0.3383, 0.3332, 0.3125, 0.273, 0.2528, 0.248, 0.2118, 0.3118, 0.076, 0.2409, 0.2548, 0.2648, 0.2561, 0.1274, 0.075, 0.1911, 0.2221, 0.2585, 0.1205, 0.1748, -0.0161, 0.153, 0.1291, 0.0244, 0.0399, -0.1203, 0.1396, 0.0578, -0.0927, -0.1512, -0.175, -0.2066, -0.0128, -0.3714, 1.1333, 1.1329, 1.1329, 1.1329, 1.1327, 1.1326, 1.1326, 1.1326, 1.1326, 1.1325, 1.1325, 1.1325, 1.1325, 1.1324, 1.1324, 1.1324, 1.1324, 1.1323, 1.1323, 1.1323, 1.1323, 1.1323, 1.1323, 1.1323, 1.1322, 1.1322, 1.1322, 1.1322, 1.1322, 1.1322, 1.1315, 1.1309, 1.1282, 1.0881, 1.1313, 1.129, 1.1244, 1.1289, 1.1233, 1.131, 1.132, 1.126, 1.1038, 1.1317, 1.1309, 1.1288, 1.1304, 1.1321, 1.1319, 1.1286, 1.1318, 1.1317, 1.1316, 1.1306, 1.132, 1.128, 1.132, 1.1315, 1.131, 1.094, 1.1306, 1.0589, 1.0928, 1.0461, 1.0149, 1.0336, 1.0809, 1.0451, 1.0957, 1.076, 0.9444, 1.021, 0.9151, 0.9635, 0.8463, 0.8874, 1.0186, 0.7192, 0.8568, 0.6735, 0.7831, 0.6348, 0.7806, 0.9122, 0.5981, 0.5031, 0.613, 0.5372, 0.4363, -0.182, 0.2142, 0.4866, 0.3317, 0.033, 0.2914, -0.1794, 0.2591, 0.3329, 0.1711, -0.0535, -0.3375]}, \"token.table\": {\"Topic\": [1, 1, 2, 1, 2, 1, 1, 2, 1, 2, 1, 1, 2, 1, 2, 1, 2, 2, 2, 2, 1, 2, 1, 2, 2, 2, 1, 2, 1, 1, 2, 1, 2, 1, 2, 1, 2, 1, 1, 2, 1, 2, 1, 2, 1, 1, 2, 2, 1, 2, 1, 2, 2, 2, 1, 2, 1, 2, 2, 1, 2, 1, 2, 1, 2, 1, 2, 2, 1, 2, 1, 2, 1, 2, 1, 1, 2, 2, 1, 2, 2, 1, 2, 1, 1, 2, 1, 2, 1, 2, 1, 2, 1, 2, 2, 1, 2, 1, 2, 1, 1, 1, 2, 1, 2, 2, 1, 2, 1, 2, 1, 2, 2, 1, 2, 2, 1, 2, 1, 2, 1, 2, 1, 2, 1, 2, 2, 1, 2, 1, 2, 1, 1, 2, 2, 1, 2, 1, 2, 1, 2, 2, 1, 2, 1, 2, 1, 2, 1, 2, 1, 2, 1, 1, 1, 1, 2, 1, 2, 1, 2, 1, 2, 1, 2, 2, 2, 1, 2, 1, 2, 1, 2, 1, 1, 2, 1, 2, 2, 1, 2, 1, 2, 2, 1, 1, 2, 1, 2, 1, 2, 1, 2, 1, 2, 1, 2, 1, 2, 1, 2, 1, 2, 1, 2, 2, 1, 2, 1, 1, 2, 2, 2, 2, 2, 1, 2, 1, 1, 2, 1, 2, 1, 2, 1, 2, 1, 1, 2, 2, 1, 2, 1, 2, 1, 2, 1, 2, 1, 1, 1, 2, 2, 1, 1, 2, 1, 2, 1, 1, 2, 1, 2, 1, 2, 1, 2, 1, 2, 1, 2, 1, 2, 2, 1, 1, 1, 2, 1, 1, 1, 1, 2, 2, 2, 2, 1, 2, 1, 2, 1, 2, 1, 2, 1, 2, 1, 2, 1, 1, 2, 1, 2, 1, 2, 2, 1, 2, 1, 2, 1, 1, 2, 2, 2, 1, 2, 1, 2, 1, 2, 1, 1, 2, 1, 2, 1, 2, 1, 2, 1, 2, 1, 2, 1, 2], \"Freq\": [1.0074933960938768, 0.7317420292877068, 0.26825068393595775, 0.6949310663919925, 0.3050438414225966, 0.9974869169185377, 0.11211039170723068, 0.8879480197323067, 0.9614639182338841, 0.039687591831225576, 0.9997528867317041, 0.44942876915468843, 0.5507354135574465, 0.3688499348889253, 0.6310444669184023, 0.4148190624664997, 0.5851734136592769, 0.9861419843554453, 0.9931548580929704, 0.998631325614125, 0.9982295374197105, 1.0034608756913028, 0.9923087624583798, 0.007229936338494571, 0.9894587757339872, 0.9837881063073726, 0.9933726641521605, 0.007468967399640304, 0.9966616006267617, 0.8836920386914184, 0.11634943015117082, 0.46776018505647626, 0.5321245372312821, 0.005276483142341386, 0.9919788307601807, 0.009950197019551825, 0.9900446034454066, 0.9699080287252192, 0.9464649342836808, 0.053401139573541014, 0.9907779899704818, 0.009061130517020698, 0.9962880237667847, 0.006511686429848266, 0.9765946210405912, 0.9984399666425913, 0.00437912266071312, 0.9937464081994034, 0.6673788847956225, 0.33258973510806344, 0.004549706241440665, 0.9963856668755057, 0.9921274403207844, 0.9979637845763629, 0.004828696764355554, 0.9947115334572441, 0.8630398308126656, 0.13694420002766805, 0.9899913064026636, 0.6013631912729186, 0.3986631376107615, 0.24218510007017724, 0.7581946838301511, 0.9776714273548488, 0.021942750239884387, 0.4766072026125364, 0.5236254376741898, 0.9910805519950678, 0.0038051120780308255, 0.9969393644440763, 0.0032394491877847822, 0.9977503498377129, 0.0038484991903174424, 0.9967612902922176, 0.9699071054396792, 0.9908142495154423, 0.01338938175020868, 0.9995807266526839, 0.9908036772166336, 0.009048435408371084, 0.9900207861655149, 0.9365209513162697, 0.06344006444230145, 0.9956623900814572, 0.1983519501958624, 0.801036721944829, 0.8762309449339163, 0.1238713433708119, 0.02958313935625119, 0.9704992998521629, 0.005578415101278021, 0.9957470955781268, 0.999783428679435, 0.9874938185890353, 1.0268153018254595, 0.99448361716428, 0.006138787760273334, 0.8077175357472227, 0.19223098341797704, 1.0004422286907189, 0.9931595038444786, 0.19642872036784284, 0.8036010738951099, 0.007434308971160354, 0.991241196154714, 0.9977736366586907, 0.878178011358854, 0.1217561216621992, 0.983435665084397, 0.01691412691791346, 0.9897270281285733, 0.010454862973189155, 0.9957508675402725, 0.07214936894456028, 0.9278540425666705, 0.9939713289494541, 0.006320012735023846, 0.9985620121337677, 0.0054157846213963405, 0.9965043703369266, 0.9919330786739956, 0.004701104638265382, 0.9909066587704909, 0.011567003798877326, 0.7057944858727768, 0.2941553174261384, 0.9748546189131966, 0.9574527876379936, 0.04267935503080603, 0.9276991053047126, 0.07231418521109086, 0.994265653356097, 0.5693261634653414, 0.4306490810807092, 0.9985971268668282, 0.24985403871195813, 0.7501374852520792, 0.2977005581020231, 0.7022920252548513, 0.33935377638940983, 0.6606484670385225, 1.027056066877285, 0.9511271834197886, 0.04865805088923629, 0.21838991667383034, 0.7817670572352176, 0.005572644242335075, 0.9937882232164217, 0.989521284958657, 0.9971256066112101, 0.7716496969096668, 0.22842496085188382, 0.9933479515307377, 1.0086719067486605, 0.9736107237239324, 0.9946957110619161, 0.00771081946559625, 0.9995840924668349, 0.9979614722866764, 0.8382578141345601, 0.16177526227174577, 0.10821884420097701, 0.8917232762160505, 0.04468227386871858, 0.9553516118245501, 0.9972613167984014, 1.0018414351039429, 0.004945879280306253, 0.9990676146218632, 0.0024342655527889744, 0.9980488766434795, 0.9956478669158846, 0.00638235812125567, 0.9972540009169913, 0.902222088725443, 0.09768872603895805, 1.0009781539784675, 0.987447682949317, 1.0272836674434, 0.7904393145504256, 0.20955470658416342, 0.7703325939039306, 0.22963652385677835, 0.9845714567500679, 0.9704618330394463, 0.9913814475662989, 0.009933681839341672, 0.29597972055245786, 0.7040927273054064, 0.05580930399713294, 0.9439745133229344, 0.0407417868905004, 0.960342119561795, 0.9267884415467518, 0.0730988066572086, 0.9468295690722478, 0.05334251093364776, 0.9907937616675535, 0.008396557302267403, 0.9716909608343312, 0.02828794645805913, 0.6180985755856522, 0.3819061889163766, 0.0841520574088979, 0.9159797243617736, 0.9722857103820778, 0.5022270637615803, 0.49773716663982925, 0.974990743408299, 0.5829477020188719, 0.41700913186577654, 0.9992267979523399, 0.9941220365514957, 0.9771676460519745, 1.0280824067206387, 0.9667385439543975, 0.03298823467522115, 0.9991254499622558, 0.9681277080001106, 0.032163711229239556, 0.9764639760197897, 0.022547125556407224, 0.10656202758113419, 0.8935325294070258, 0.051465384711341704, 0.947820835100543, 1.0069280896086386, 0.17252980641065568, 0.8273865751560511, 1.0008965622977064, 0.39293177472333923, 0.6070619276819622, 0.008821355309834494, 0.9897560657634302, 0.005625267040735333, 0.9956722662101539, 0.15647559100182232, 0.843493000652921, 1.025993262583497, 0.971052282008162, 0.9417037473474664, 0.05818451629010538, 1.0279598057681194, 0.971773441044253, 0.9540983853789201, 0.04585555604178895, 0.9787355631832108, 0.021076405129113556, 1.022447754581832, 0.8749258469920035, 0.12498940671314336, 0.038739306688355596, 0.9607348058712187, 0.03812485274692991, 0.963287946072429, 0.9977659211234141, 0.006787523272948395, 0.551575503945767, 0.44829244145393016, 0.4059432285335586, 0.5938958015755232, 0.08504314291427557, 0.9150130639874312, 0.9977398826599186, 0.9917644056937611, 0.9725910570206134, 0.5510257591913307, 0.44898395193367685, 1.0024809729865973, 0.9961406332038281, 0.9698998532560562, 0.9500471056066415, 0.05045773702007959, 0.9976097539736315, 0.9974498092548869, 1.0002310793838116, 0.7650101953966526, 0.23495174500112298, 0.8468704844427422, 0.1530696042148742, 0.9891576261297271, 0.01264099202721696, 0.7310193472757518, 0.2689333471414651, 0.9689778275611899, 0.03174713680043784, 0.9803825393142174, 0.01979394675575023, 0.9749072825143027, 0.9636432531396559, 0.036163212590229914, 0.8209899156951119, 0.17905521094255328, 0.8732790932405483, 0.12678466002125147, 0.9995742570914091, 0.9265063346988489, 0.07330433480080616, 0.946354974041202, 0.05392336034422803, 1.019264423933144, 0.09541829547884055, 0.9046101684654142, 0.9967681882425221, 1.0276038144365545, 0.8820571543664841, 0.1179425487124157, 0.8689524421261308, 0.13092605587739353, 0.8908766669218308, 0.109036852976265, 0.9997144516096075, 0.7185247964028193, 0.28148394085883643, 0.9693186162205001, 0.031030016677790397, 0.910922514101317, 0.08912481617449171, 0.7798309914079746, 0.2202665164657766, 0.9768988471379731, 0.023154487347514036, 0.9964741679353515, 0.0041347475847939895, 0.6696411697989998, 0.33035970919661356], \"Term\": [\"adjective\", \"ai\", \"ai\", \"also\", \"also\", \"american_express\", \"analysis\", \"analysis\", \"answer\", \"answer\", \"anthropic\", \"application\", \"application\", \"artificial\", \"artificial\", \"artificial_intelligence\", \"artificial_intelligence\", \"artificial_intelligence_based_personalization\", \"automotive_artificial_intelligence\", \"automotive_transportation\", \"avatar\", \"based_personalization\", \"bias\", \"bias\", \"bigai\", \"bigid\", \"bing\", \"bing\", \"boneview\", \"build\", \"build\", \"business\", \"business\", \"buyback\", \"buyback\", \"cagr\", \"cagr\", \"ccere\", \"chatbot\", \"chatbot\", \"chatgpt\", \"chatgpt\", \"cheat\", \"cheat\", \"christopher_intagliata\", \"clearview\", \"clearview\", \"communications_report\", \"company\", \"company\", \"competitive_landscape\", \"competitive_landscape\", \"computer_vision_market\", \"construction_market\", \"covid_impact\", \"covid_impact\", \"create\", \"create\", \"data_engineering_service\", \"datum\", \"datum\", \"demand\", \"demand\", \"developer\", \"developer\", \"development\", \"development\", \"development_trend\", \"digi\", \"digi\", \"digi_communication\", \"digi_communication\", \"digi_symbol\", \"digi_symbol\", \"echocardiogram\", \"educator\", \"educator\", \"energy_market\", \"essay\", \"essay\", \"europe_artificial_intelligence\", \"even\", \"even\", \"exam\", \"factor\", \"factor\", \"first\", \"first\", \"forecast\", \"forecast\", \"forecast_period\", \"forecast_period\", \"fracture\", \"freight_transportation\", \"freight_transportation_industry\", \"friend\", \"friend\", \"get\", \"get\", \"glaucoma\", \"gleamer\", \"global\", \"global\", \"global_artificial\", \"global_artificial\", \"global_artificial_intelligence\", \"go\", \"go\", \"google\", \"google\", \"gpt\", \"gpt\", \"graft_market\", \"growth\", \"growth\", \"growth_factor\", \"growth_opportunitie\", \"growth_opportunitie\", \"growth_rate\", \"growth_rate\", \"harm\", \"harm\", \"hear\", \"hear\", \"help\", \"help\", \"household_furniture\", \"human\", \"human\", \"image\", \"image\", \"imerit\", \"include\", \"include\", \"industrial_enzyme\", \"industry\", \"industry\", \"insight\", \"insight\", \"intelligence\", \"intelligence\", \"intelligence_system\", \"job\", \"job\", \"key\", \"key\", \"key_player\", \"key_player\", \"langchain\", \"leading_player\", \"learn\", \"learn\", \"leopard_image\", \"lisk\", \"live_transcription\", \"llm\", \"llm\", \"lunit\", \"mai\", \"make\", \"make\", \"manufacturer\", \"manufacturer\", \"market\", \"market\", \"market_analysis\", \"market_dynamic\", \"market_report\", \"market_report\", \"market_size\", \"market_size\", \"meta\", \"meta\", \"misinformation\", \"model\", \"model\", \"moral\", \"nato_artificial\", \"nato_artificial_intelligence\", \"need\", \"need\", \"new\", \"new\", \"office_furniture\", \"onenote\", \"openai\", \"openai\", \"opportunity\", \"opportunity\", \"outlook\", \"outlook\", \"overview\", \"overview\", \"patient\", \"patient\", \"people\", \"people\", \"person\", \"person\", \"photo\", \"photo\", \"platform\", \"platform\", \"player\", \"player\", \"polymer_base\", \"product\", \"product\", \"protgai\", \"provide\", \"provide\", \"ptfe\", \"ptfe_vascular\", \"ptfe_vascular_graft_market\", \"pvc_modifier\", \"question\", \"question\", \"qynapse\", \"re\", \"re\", \"really\", \"really\", \"region\", \"region\", \"regional\", \"regional\", \"replit\", \"report\", \"report\", \"report_cover\", \"research\", \"research\", \"research_report\", \"research_report\", \"restraint\", \"restraint\", \"revenue\", \"revenue\", \"rewrote\", \"romoslawski\", \"s\", \"s\", \"sales_growth_rate\", \"sapling\", \"say\", \"say\", \"school\", \"school\", \"scientific_excellence\", \"see\", \"see\", \"segment\", \"segment\", \"segmentation\", \"segmentation\", \"sentence\", \"sentence\", \"service\", \"service\", \"share\", \"share\", \"size\", \"size\", \"size_share\", \"snapchat\", \"snapchat_user\", \"solution\", \"solution\", \"sonographer\", \"starfille\", \"stool\", \"student\", \"student\", \"subsegment\", \"swot\", \"swot_analysis\", \"system\", \"system\", \"take\", \"take\", \"teach\", \"teach\", \"technology\", \"technology\", \"tell\", \"tell\", \"text\", \"text\", \"things_considere\", \"think\", \"think\", \"time\", \"time\", \"tool\", \"tool\", \"top_player\", \"train\", \"train\", \"training\", \"training\", \"transpara\", \"trend\", \"trend\", \"type_application\", \"ultrasonic_processor\", \"use\", \"use\", \"user\", \"user\", \"way\", \"way\", \"weaviate\", \"well\", \"well\", \"word\", \"word\", \"work\", \"work\", \"world\", \"world\", \"write\", \"write\", \"wrong\", \"wrong\", \"year\", \"year\"]}, \"R\": 30, \"lambda.step\": 0.01, \"plot.opts\": {\"xlab\": \"PC1\", \"ylab\": \"PC2\"}, \"topic.order\": [1, 2]};\n",
       "\n",
       "function LDAvis_load_lib(url, callback){\n",
       "  var s = document.createElement('script');\n",
       "  s.src = url;\n",
       "  s.async = true;\n",
       "  s.onreadystatechange = s.onload = callback;\n",
       "  s.onerror = function(){console.warn(\"failed to load library \" + url);};\n",
       "  document.getElementsByTagName(\"head\")[0].appendChild(s);\n",
       "}\n",
       "\n",
       "if(typeof(LDAvis) !== \"undefined\"){\n",
       "   // already loaded: just create the visualization\n",
       "   !function(LDAvis){\n",
       "       new LDAvis(\"#\" + \"ldavis_el339865623129284398346858\", ldavis_el339865623129284398346858_data);\n",
       "   }(LDAvis);\n",
       "}else if(typeof define === \"function\" && define.amd){\n",
       "   // require.js is available: use it to load d3/LDAvis\n",
       "   require.config({paths: {d3: \"https://d3js.org/d3.v5\"}});\n",
       "   require([\"d3\"], function(d3){\n",
       "      window.d3 = d3;\n",
       "      LDAvis_load_lib(\"https://cdn.jsdelivr.net/gh/bmabey/pyLDAvis@3.4.0/pyLDAvis/js/ldavis.v3.0.0.js\", function(){\n",
       "        new LDAvis(\"#\" + \"ldavis_el339865623129284398346858\", ldavis_el339865623129284398346858_data);\n",
       "      });\n",
       "    });\n",
       "}else{\n",
       "    // require.js not available: dynamically load d3 & LDAvis\n",
       "    LDAvis_load_lib(\"https://d3js.org/d3.v5.js\", function(){\n",
       "         LDAvis_load_lib(\"https://cdn.jsdelivr.net/gh/bmabey/pyLDAvis@3.4.0/pyLDAvis/js/ldavis.v3.0.0.js\", function(){\n",
       "                 new LDAvis(\"#\" + \"ldavis_el339865623129284398346858\", ldavis_el339865623129284398346858_data);\n",
       "            })\n",
       "         });\n",
       "}\n",
       "</script>"
      ],
      "text/plain": [
       "<IPython.core.display.HTML object>"
      ]
     },
     "execution_count": 34,
     "metadata": {},
     "output_type": "execute_result"
    }
   ],
   "source": [
    "%%time\n",
    "\n",
    "lda_display_text_tuned = pyLDAvis.gensim.prepare(lda_model_text_tuned, text_doc_term_matrix, text_dict, sort_topics=False, mds='mmds')\n",
    "\n",
    "pyLDAvis.display(lda_display_text_tuned)"
   ]
  },
  {
   "attachments": {},
   "cell_type": "markdown",
   "metadata": {},
   "source": [
    "## Clustering"
   ]
  },
  {
   "cell_type": "code",
   "execution_count": null,
   "metadata": {},
   "outputs": [],
   "source": []
  },
  {
   "cell_type": "code",
   "execution_count": null,
   "metadata": {},
   "outputs": [],
   "source": []
  },
  {
   "cell_type": "code",
   "execution_count": null,
   "metadata": {},
   "outputs": [],
   "source": []
  },
  {
   "cell_type": "code",
   "execution_count": null,
   "metadata": {},
   "outputs": [],
   "source": []
  },
  {
   "cell_type": "code",
   "execution_count": null,
   "metadata": {},
   "outputs": [],
   "source": []
  },
  {
   "cell_type": "code",
   "execution_count": null,
   "metadata": {},
   "outputs": [],
   "source": []
  },
  {
   "cell_type": "code",
   "execution_count": null,
   "metadata": {},
   "outputs": [],
   "source": []
  },
  {
   "cell_type": "code",
   "execution_count": null,
   "metadata": {},
   "outputs": [],
   "source": []
  },
  {
   "cell_type": "code",
   "execution_count": null,
   "metadata": {},
   "outputs": [],
   "source": []
  },
  {
   "cell_type": "code",
   "execution_count": null,
   "metadata": {},
   "outputs": [],
   "source": []
  },
  {
   "attachments": {},
   "cell_type": "markdown",
   "metadata": {},
   "source": [
    "## Classification"
   ]
  },
  {
   "cell_type": "code",
   "execution_count": null,
   "metadata": {},
   "outputs": [],
   "source": []
  },
  {
   "cell_type": "code",
   "execution_count": null,
   "metadata": {},
   "outputs": [],
   "source": []
  },
  {
   "cell_type": "code",
   "execution_count": null,
   "metadata": {},
   "outputs": [],
   "source": []
  },
  {
   "cell_type": "code",
   "execution_count": null,
   "metadata": {},
   "outputs": [],
   "source": []
  },
  {
   "cell_type": "code",
   "execution_count": null,
   "metadata": {},
   "outputs": [],
   "source": []
  },
  {
   "cell_type": "code",
   "execution_count": null,
   "metadata": {},
   "outputs": [],
   "source": []
  },
  {
   "cell_type": "code",
   "execution_count": null,
   "metadata": {},
   "outputs": [],
   "source": []
  },
  {
   "cell_type": "code",
   "execution_count": null,
   "metadata": {},
   "outputs": [],
   "source": []
  },
  {
   "attachments": {},
   "cell_type": "markdown",
   "metadata": {},
   "source": [
    "## Zero-shot Modeling"
   ]
  },
  {
   "cell_type": "code",
   "execution_count": null,
   "metadata": {},
   "outputs": [],
   "source": []
  },
  {
   "cell_type": "code",
   "execution_count": null,
   "metadata": {},
   "outputs": [],
   "source": []
  },
  {
   "cell_type": "code",
   "execution_count": null,
   "metadata": {},
   "outputs": [],
   "source": []
  },
  {
   "cell_type": "code",
   "execution_count": null,
   "metadata": {},
   "outputs": [],
   "source": []
  },
  {
   "cell_type": "code",
   "execution_count": null,
   "metadata": {},
   "outputs": [],
   "source": []
  },
  {
   "cell_type": "code",
   "execution_count": null,
   "metadata": {},
   "outputs": [],
   "source": []
  },
  {
   "cell_type": "code",
   "execution_count": null,
   "metadata": {},
   "outputs": [],
   "source": []
  },
  {
   "cell_type": "code",
   "execution_count": null,
   "metadata": {},
   "outputs": [],
   "source": []
  },
  {
   "cell_type": "code",
   "execution_count": null,
   "metadata": {},
   "outputs": [],
   "source": []
  },
  {
   "cell_type": "code",
   "execution_count": null,
   "metadata": {},
   "outputs": [],
   "source": []
  },
  {
   "cell_type": "code",
   "execution_count": null,
   "metadata": {},
   "outputs": [],
   "source": []
  },
  {
   "cell_type": "code",
   "execution_count": null,
   "metadata": {},
   "outputs": [],
   "source": []
  },
  {
   "cell_type": "code",
   "execution_count": null,
   "metadata": {},
   "outputs": [],
   "source": []
  }
 ],
 "metadata": {
  "kernelspec": {
   "display_name": "Python 3",
   "language": "python",
   "name": "python3"
  },
  "language_info": {
   "codemirror_mode": {
    "name": "ipython",
    "version": 3
   },
   "file_extension": ".py",
   "mimetype": "text/x-python",
   "name": "python",
   "nbconvert_exporter": "python",
   "pygments_lexer": "ipython3",
   "version": "3.9.16"
  },
  "orig_nbformat": 4
 },
 "nbformat": 4,
 "nbformat_minor": 2
}
