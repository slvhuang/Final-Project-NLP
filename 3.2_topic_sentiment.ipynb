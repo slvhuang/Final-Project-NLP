{
 "cells": [
  {
   "attachments": {},
   "cell_type": "markdown",
   "metadata": {},
   "source": [
    "# MSCA 32018 Natural Language Processing and Cognitive Computing\n",
    "## Final Project - Topic Detection \n",
    "### Zero-shot (NLI) modeling based on Sentiment Analysis\n",
    "\n",
    "Shijia Huang\n",
    "\n",
    "-----"
   ]
  },
  {
   "cell_type": "code",
   "execution_count": 1,
   "metadata": {
    "tags": []
   },
   "outputs": [],
   "source": [
    "#!pip install -r requirements.txt"
   ]
  },
  {
   "cell_type": "code",
   "execution_count": 2,
   "metadata": {
    "tags": []
   },
   "outputs": [],
   "source": [
    "# Import basic libraries\n",
    "import os\n",
    "import sys\n",
    "import time\n",
    "import pandas as pd\n",
    "import numpy as np\n",
    "import seaborn as sns\n",
    "import matplotlib.pyplot as plt \n",
    "\n",
    "%matplotlib inline"
   ]
  },
  {
   "cell_type": "code",
   "execution_count": 3,
   "metadata": {
    "tags": []
   },
   "outputs": [],
   "source": [
    "import warnings\n",
    "warnings.filterwarnings('ignore')\n",
    "pd.set_option('display.max_rows', 100)\n",
    "pd.set_option('display.max_columns', None)\n",
    "pd.set_option('display.max_colwidth', 500)"
   ]
  },
  {
   "cell_type": "code",
   "execution_count": 4,
   "metadata": {
    "tags": []
   },
   "outputs": [
    {
     "name": "stderr",
     "output_type": "stream",
     "text": [
      "2023-05-19 20:45:22.660380: I tensorflow/core/platform/cpu_feature_guard.cc:182] This TensorFlow binary is optimized to use available CPU instructions in performance-critical operations.\n",
      "To enable the following instructions: AVX2 FMA, in other operations, rebuild TensorFlow with the appropriate compiler flags.\n"
     ]
    },
    {
     "name": "stdout",
     "output_type": "stream",
     "text": [
      "3.5.2\n"
     ]
    }
   ],
   "source": [
    "# Import NLP libraries\n",
    "import re\n",
    "import nltk\n",
    "from nltk.corpus import stopwords\n",
    "from nltk.stem import WordNetLemmatizer\n",
    "from nltk.tokenize import word_tokenize\n",
    "from sklearn.feature_extraction.text import CountVectorizer, TfidfVectorizer\n",
    "\n",
    "from pprint import pprint\n",
    "import string\n",
    "from rake_nltk import Rake\n",
    "\n",
    "import spacy\n",
    "from spacy import displacy\n",
    "from spacy.util import minibatch, compounding\n",
    "spacy.prefer_gpu()\n",
    "print(spacy.__version__)\n",
    "\n",
    "import gensim\n",
    "from gensim import corpora, models\n",
    "from gensim.utils import simple_preprocess\n",
    "from gensim.models.ldamulticore import LdaMulticore\n",
    "from gensim.models import CoherenceModel\n",
    "\n",
    "import pyLDAvis\n",
    "import pyLDAvis.gensim as gensimvis\n",
    "#import pyLDAvis.gensim_models as gensimvis\n",
    "pyLDAvis.enable_notebook()\n",
    "\n",
    "import tensorflow as tf\n",
    "from transformers import pipeline"
   ]
  },
  {
   "cell_type": "code",
   "execution_count": 5,
   "metadata": {
    "tags": []
   },
   "outputs": [
    {
     "name": "stdout",
     "output_type": "stream",
     "text": [
      "Available CPUs: 12\n"
     ]
    }
   ],
   "source": [
    "import multiprocessing as mp\n",
    "\n",
    "num_processors = mp.cpu_count()\n",
    "print(f'Available CPUs: {num_processors}')"
   ]
  },
  {
   "attachments": {},
   "cell_type": "markdown",
   "metadata": {},
   "source": [
    "### Read New Articles with Sentiment Score"
   ]
  },
  {
   "cell_type": "code",
   "execution_count": 7,
   "metadata": {
    "tags": []
   },
   "outputs": [
    {
     "name": "stdout",
     "output_type": "stream",
     "text": [
      "CPU times: user 1min 7s, sys: 10.8 s, total: 1min 18s\n",
      "Wall time: 1min 8s\n"
     ]
    },
    {
     "data": {
      "text/plain": [
       "(154283, 11)"
      ]
     },
     "execution_count": 7,
     "metadata": {},
     "output_type": "execute_result"
    }
   ],
   "source": [
    "%%time\n",
    "\n",
    "# GCP version\n",
    "#path = \"gs://nlp-final-project-data/data/\"\n",
    "#df_news = pd.read_parquet(path + 'news_sentiment.parquet', engine='pyarrow')\n",
    "\n",
    "# Sagemaker version\n",
    "df_news = pd.read_parquet('data_news_sentiment.parquet', engine='pyarrow')\n",
    "df_news.shape"
   ]
  },
  {
   "cell_type": "code",
   "execution_count": 8,
   "metadata": {
    "tags": []
   },
   "outputs": [
    {
     "name": "stdout",
     "output_type": "stream",
     "text": [
      "<class 'pandas.core.frame.DataFrame'>\n",
      "RangeIndex: 154283 entries, 0 to 154282\n",
      "Data columns (total 11 columns):\n",
      " #   Column            Non-Null Count   Dtype \n",
      "---  ------            --------------   ----- \n",
      " 0   id                154283 non-null  int64 \n",
      " 1   date              154283 non-null  object\n",
      " 2   cleaned title     154283 non-null  object\n",
      " 3   cleaned text      154283 non-null  object\n",
      " 4   title_tokens      154283 non-null  object\n",
      " 5   title_lemmatized  154283 non-null  object\n",
      " 6   text_tokens       154283 non-null  object\n",
      " 7   text_lemmatized   154283 non-null  object\n",
      " 8   title_keywords    154283 non-null  object\n",
      " 9   text_keywords     154283 non-null  object\n",
      " 10  sentiment         154283 non-null  int64 \n",
      "dtypes: int64(2), object(9)\n",
      "memory usage: 12.9+ MB\n"
     ]
    }
   ],
   "source": [
    "df_news.info()"
   ]
  },
  {
   "cell_type": "code",
   "execution_count": 9,
   "metadata": {
    "tags": []
   },
   "outputs": [
    {
     "data": {
      "text/html": [
       "<div>\n",
       "<style scoped>\n",
       "    .dataframe tbody tr th:only-of-type {\n",
       "        vertical-align: middle;\n",
       "    }\n",
       "\n",
       "    .dataframe tbody tr th {\n",
       "        vertical-align: top;\n",
       "    }\n",
       "\n",
       "    .dataframe thead th {\n",
       "        text-align: right;\n",
       "    }\n",
       "</style>\n",
       "<table border=\"1\" class=\"dataframe\">\n",
       "  <thead>\n",
       "    <tr style=\"text-align: right;\">\n",
       "      <th></th>\n",
       "      <th>id</th>\n",
       "      <th>date</th>\n",
       "      <th>cleaned title</th>\n",
       "      <th>cleaned text</th>\n",
       "      <th>title_tokens</th>\n",
       "      <th>title_lemmatized</th>\n",
       "      <th>text_tokens</th>\n",
       "      <th>text_lemmatized</th>\n",
       "      <th>title_keywords</th>\n",
       "      <th>text_keywords</th>\n",
       "      <th>sentiment</th>\n",
       "    </tr>\n",
       "  </thead>\n",
       "  <tbody>\n",
       "    <tr>\n",
       "      <th>0</th>\n",
       "      <td>1</td>\n",
       "      <td>2020-02-27</td>\n",
       "      <td>Children With Autism Saw Their Learning and Social Skills Boosted After Playing With This AI Robot</td>\n",
       "      <td>Children With Autism Saw Their Learning and Social Skills Boosted After Playing With This AI Robot admin  Latest posts by admin see all  Mansplaining in conferences: How can we get him to forestall  February 27, 2020 Coronavirus Could Explode in the U.S. Overnight Like it Did in Italy  February 27, 2020 Levi Strauss marks the next phase in corporate paid leave policies  February 27, 2020 Scientists who designed an artificially clever robotic that helped youngsters with autism spice up their ...</td>\n",
       "      <td>[children, autism, saw, learning, social, skills, boosted, playing, ai, robot, children, autism, saw, learning, social, skills, boosted, playing, ai, robot, children, autism, saw, learning, social, skills, boosted, playing, ai_robot]</td>\n",
       "      <td>[child, autism, see, learn, social, skill, boost, play, robot, child, autism, see, learn, social, skill, boost, play, robot, child, autism, see, learn, social, skill, boost, play, ai_robot]</td>\n",
       "      <td>[children, autism, saw, learning, social, skills, boosted, playing, ai, robot, admin, latest, posts, admin, see, mansplaining, conferences, get, forestall, february, coronavirus, could, explode, overnight, like, italy, february, levi, strauss, marks, next, phase, corporate, paid, leave, policies, february, scientists, designed, artificially, clever, robotic, helped, youngsters, autism, spice, studying, social, talents, hope, era, may, future, help, others, developmental, dysfunction, learn, ...</td>\n",
       "      <td>[child, autism, see, learn, social, skill, boost, play, robot, late, post, admin, see, mansplaining, conference, get, explode, overnight, mark, next, phase, corporate, pay, leave, policy, scientist, design, artificially, clever, robotic, help, youngster, autism, spice, study, social, talent, era, future, help, other, developmental, dysfunction, learn, notice, youngster, gentle, average, autism, take, domestic, s, refer, socially, assistive, robotic, name, kiwi, month, accord, commentary, way...</td>\n",
       "      <td>[social, skill, see, play, learn, child, boost, autism, robot, ai_robot]</td>\n",
       "      <td>[robotic, youngster, kid, child, kiwi, market, autism, learn, crew, talent]</td>\n",
       "      <td>5</td>\n",
       "    </tr>\n",
       "    <tr>\n",
       "      <th>1</th>\n",
       "      <td>2</td>\n",
       "      <td>2021-03-26</td>\n",
       "      <td>Forget ML, AI and Industry 4.0 – obsolescence should be your focus</td>\n",
       "      <td>Forget ML, AI and Industry 4.0  obsolescence should be your focus The world entered a new era of accelerated transformation in the last eighteen months that will continue to evolve and press forward for years to come. Most businesses are playing catchup trying to make sense of a new timeline where the ten years that had been set aside for careful planning and implementation of what was coming up next no longer exists. The next is happening now and, regardless of your industry or seniority, t...</td>\n",
       "      <td>[forget, ml, ai, industry, obsolescence, focus, forget, ml, ai, industry, obsolescence, focus, forget, ml, ai, industry, obsolescence, focus]</td>\n",
       "      <td>[forget, ml, ai, industry, obsolescence, focus, forget, ml, ai, industry, obsolescence, focus, forget, ml, ai, industry, obsolescence, focus]</td>\n",
       "      <td>[forget, ml, ai, industry, obsolescence, focus, world, entered, new, era, accelerated, transformation, last, eighteen, months, continue, evolve, press, forward, years, come, businesses, playing, catchup, trying, make, sense, new, timeline, ten, years, set, aside, careful, planning, implementation, coming, next, longer, exists, next, happening, regardless, industry, seniority, status, quo, shifted, better, face, back, invited, attend, pompous, meeting, london, brazilian, embassy, along, selec...</td>\n",
       "      <td>[forget, ai, industry, obsolescence, focus, world, enter, new, era, accelerate, transformation, last, month, continue, evolve, press, forward, year, come, business, play, catchup, try, make, sense, new, timeline, year, set, aside, careful, planning, implementation, come, next, long, exist, next, happen, regardless, industry, seniority, status, quo, shift, well, face, back, invite, attend, pompous, meeting, brazilian, embassy, select, lead, name, oil, energy, industry, get, update, go, happen...</td>\n",
       "      <td>[obsolescence, ml, industry, forget, focus, ai]</td>\n",
       "      <td>[electronic, come, card, industry, repair, new, system, require, test, business]</td>\n",
       "      <td>4</td>\n",
       "    </tr>\n",
       "  </tbody>\n",
       "</table>\n",
       "</div>"
      ],
      "text/plain": [
       "   id        date   \n",
       "0   1  2020-02-27  \\\n",
       "1   2  2021-03-26   \n",
       "\n",
       "                                                                                        cleaned title   \n",
       "0  Children With Autism Saw Their Learning and Social Skills Boosted After Playing With This AI Robot  \\\n",
       "1                                  Forget ML, AI and Industry 4.0 – obsolescence should be your focus   \n",
       "\n",
       "                                                                                                                                                                                                                                                                                                                                                                                                                                                                                                          cleaned text   \n",
       "0  Children With Autism Saw Their Learning and Social Skills Boosted After Playing With This AI Robot admin  Latest posts by admin see all  Mansplaining in conferences: How can we get him to forestall  February 27, 2020 Coronavirus Could Explode in the U.S. Overnight Like it Did in Italy  February 27, 2020 Levi Strauss marks the next phase in corporate paid leave policies  February 27, 2020 Scientists who designed an artificially clever robotic that helped youngsters with autism spice up their ...  \\\n",
       "1  Forget ML, AI and Industry 4.0  obsolescence should be your focus The world entered a new era of accelerated transformation in the last eighteen months that will continue to evolve and press forward for years to come. Most businesses are playing catchup trying to make sense of a new timeline where the ten years that had been set aside for careful planning and implementation of what was coming up next no longer exists. The next is happening now and, regardless of your industry or seniority, t...   \n",
       "\n",
       "                                                                                                                                                                                                                                title_tokens   \n",
       "0  [children, autism, saw, learning, social, skills, boosted, playing, ai, robot, children, autism, saw, learning, social, skills, boosted, playing, ai, robot, children, autism, saw, learning, social, skills, boosted, playing, ai_robot]  \\\n",
       "1                                                                                              [forget, ml, ai, industry, obsolescence, focus, forget, ml, ai, industry, obsolescence, focus, forget, ml, ai, industry, obsolescence, focus]   \n",
       "\n",
       "                                                                                                                                                                                title_lemmatized   \n",
       "0  [child, autism, see, learn, social, skill, boost, play, robot, child, autism, see, learn, social, skill, boost, play, robot, child, autism, see, learn, social, skill, boost, play, ai_robot]  \\\n",
       "1                                                  [forget, ml, ai, industry, obsolescence, focus, forget, ml, ai, industry, obsolescence, focus, forget, ml, ai, industry, obsolescence, focus]   \n",
       "\n",
       "                                                                                                                                                                                                                                                                                                                                                                                                                                                                                                           text_tokens   \n",
       "0  [children, autism, saw, learning, social, skills, boosted, playing, ai, robot, admin, latest, posts, admin, see, mansplaining, conferences, get, forestall, february, coronavirus, could, explode, overnight, like, italy, february, levi, strauss, marks, next, phase, corporate, paid, leave, policies, february, scientists, designed, artificially, clever, robotic, helped, youngsters, autism, spice, studying, social, talents, hope, era, may, future, help, others, developmental, dysfunction, learn, ...  \\\n",
       "1  [forget, ml, ai, industry, obsolescence, focus, world, entered, new, era, accelerated, transformation, last, eighteen, months, continue, evolve, press, forward, years, come, businesses, playing, catchup, trying, make, sense, new, timeline, ten, years, set, aside, careful, planning, implementation, coming, next, longer, exists, next, happening, regardless, industry, seniority, status, quo, shifted, better, face, back, invited, attend, pompous, meeting, london, brazilian, embassy, along, selec...   \n",
       "\n",
       "                                                                                                                                                                                                                                                                                                                                                                                                                                                                                                       text_lemmatized   \n",
       "0  [child, autism, see, learn, social, skill, boost, play, robot, late, post, admin, see, mansplaining, conference, get, explode, overnight, mark, next, phase, corporate, pay, leave, policy, scientist, design, artificially, clever, robotic, help, youngster, autism, spice, study, social, talent, era, future, help, other, developmental, dysfunction, learn, notice, youngster, gentle, average, autism, take, domestic, s, refer, socially, assistive, robotic, name, kiwi, month, accord, commentary, way...  \\\n",
       "1  [forget, ai, industry, obsolescence, focus, world, enter, new, era, accelerate, transformation, last, month, continue, evolve, press, forward, year, come, business, play, catchup, try, make, sense, new, timeline, year, set, aside, careful, planning, implementation, come, next, long, exist, next, happen, regardless, industry, seniority, status, quo, shift, well, face, back, invite, attend, pompous, meeting, brazilian, embassy, select, lead, name, oil, energy, industry, get, update, go, happen...   \n",
       "\n",
       "                                                             title_keywords   \n",
       "0  [social, skill, see, play, learn, child, boost, autism, robot, ai_robot]  \\\n",
       "1                           [obsolescence, ml, industry, forget, focus, ai]   \n",
       "\n",
       "                                                                      text_keywords   \n",
       "0       [robotic, youngster, kid, child, kiwi, market, autism, learn, crew, talent]  \\\n",
       "1  [electronic, come, card, industry, repair, new, system, require, test, business]   \n",
       "\n",
       "   sentiment  \n",
       "0          5  \n",
       "1          4  "
      ]
     },
     "execution_count": 9,
     "metadata": {},
     "output_type": "execute_result"
    }
   ],
   "source": [
    "df_news.head(2)"
   ]
  },
  {
   "cell_type": "code",
   "execution_count": 10,
   "metadata": {
    "tags": []
   },
   "outputs": [
    {
     "data": {
      "text/plain": [
       "(154283, 11)"
      ]
     },
     "execution_count": 10,
     "metadata": {},
     "output_type": "execute_result"
    }
   ],
   "source": [
    "### SAMPLE DATA\n",
    "# df_news = df_news.sample(frac=0.01, random_state=42)\n",
    "df_news.shape"
   ]
  },
  {
   "attachments": {},
   "cell_type": "markdown",
   "metadata": {},
   "source": [
    "## Select articles with positive and negative sentiment scores\n",
    "\n",
    "- Positive: sentiment score > 3\n",
    "- Negative: sentiment score < 3"
   ]
  },
  {
   "cell_type": "code",
   "execution_count": 11,
   "metadata": {
    "tags": []
   },
   "outputs": [
    {
     "data": {
      "text/plain": [
       "(104228, 11)"
      ]
     },
     "execution_count": 11,
     "metadata": {},
     "output_type": "execute_result"
    }
   ],
   "source": [
    "# select positive sentiment articles\n",
    "df_news_positive = df_news[df_news['sentiment'] > 3].reset_index(drop=True)\n",
    "df_news_positive.shape"
   ]
  },
  {
   "cell_type": "code",
   "execution_count": 12,
   "metadata": {
    "tags": []
   },
   "outputs": [
    {
     "data": {
      "text/html": [
       "<div>\n",
       "<style scoped>\n",
       "    .dataframe tbody tr th:only-of-type {\n",
       "        vertical-align: middle;\n",
       "    }\n",
       "\n",
       "    .dataframe tbody tr th {\n",
       "        vertical-align: top;\n",
       "    }\n",
       "\n",
       "    .dataframe thead th {\n",
       "        text-align: right;\n",
       "    }\n",
       "</style>\n",
       "<table border=\"1\" class=\"dataframe\">\n",
       "  <thead>\n",
       "    <tr style=\"text-align: right;\">\n",
       "      <th></th>\n",
       "      <th>id</th>\n",
       "      <th>date</th>\n",
       "      <th>cleaned title</th>\n",
       "      <th>cleaned text</th>\n",
       "      <th>title_tokens</th>\n",
       "      <th>title_lemmatized</th>\n",
       "      <th>text_tokens</th>\n",
       "      <th>text_lemmatized</th>\n",
       "      <th>title_keywords</th>\n",
       "      <th>text_keywords</th>\n",
       "      <th>sentiment</th>\n",
       "    </tr>\n",
       "  </thead>\n",
       "  <tbody>\n",
       "    <tr>\n",
       "      <th>44619</th>\n",
       "      <td>85850</td>\n",
       "      <td>2021-10-14</td>\n",
       "      <td>Aicadium and SambaNova join forces to bring innovative end-to-end hardware and software AI solution to Singapore</td>\n",
       "      <td>Aicadium and SambaNova join forces to bring innovative endtoend hardware and software AI solution to SingaporePartnership accelerates access to industry impacting AI capabilities for organisations in the ASEAN region and beyond.Published: Oct. 13, 2021 at 7:16 PM CDTUpdated: 1 hour agoSINGAPOREand PALO ALTO, Calif., Oct. 13, 2021 PRNewswire  Aicadium, a global technology company founded by Temasek dedicated to creating and scaling AI solutions, and SambaNova, the company building the industr...</td>\n",
       "      <td>[aicadium, sambanova, join, forces, bring, innovative, endtoend, hardware, software, ai, solution, singapore, aicadium, sambanova_join, forces, bring_innovative, endtoend_hardware, software, ai, solution, singapore, aicadium, sambanova_join, forces, bring_innovative_endtoend_hardware, software, ai_solution, singapore]</td>\n",
       "      <td>[aicadium, sambanova, join, force, bring, innovative, endtoend, hardware, software, ai, solution, singapore, aicadium, sambanova_join, force, software, ai, solution, singapore, aicadium, sambanova_join, force, bring_innovative_endtoend_hardware, software, ai_solution, singapore]</td>\n",
       "      <td>[aicadium, sambanova, join, forces, bring, innovative, endtoend, hardware, software, ai, solution, accelerates, access, industry, impacting, ai, capabilities, organisations, asean, region, beyond, published, oct, pm, cdtupdated, hour, agosingaporeand, palo, alto, calif, oct, prnewswire, aicadium, global, technology, company, founded, temasek, dedicated, creating, scaling, ai, solutions, sambanova, company, building, industrys, advanced, software, hardware, services, run, ai, applications, to...</td>\n",
       "      <td>[join, force, bring, innovative, endtoend, hardware, software, solution, accelerate, access, industry, impacting, ai, capability, organisation, region, publish, pm, cdtupdate, hour, aicadium, global, technology, company, found, temasek, dedicated, create, scaling, ai, solution, build, advanced, software, hardware, service, run, ai, application, today, announce, partnership, bring, advance, hardware, conjunction, aicadium, ai, platform, solution, available, company, singapore, seek, deploy, m...</td>\n",
       "      <td>[software, singapore, force, aicadium, solution, sambanova_join, ai, sambanova, join, innovative]</td>\n",
       "      <td>[ai, solution, company, aicadium, system, platform, organisation, global, build, industry]</td>\n",
       "      <td>4</td>\n",
       "    </tr>\n",
       "  </tbody>\n",
       "</table>\n",
       "</div>"
      ],
      "text/plain": [
       "          id        date   \n",
       "44619  85850  2021-10-14  \\\n",
       "\n",
       "                                                                                                          cleaned title   \n",
       "44619  Aicadium and SambaNova join forces to bring innovative end-to-end hardware and software AI solution to Singapore  \\\n",
       "\n",
       "                                                                                                                                                                                                                                                                                                                                                                                                                                                                                                              cleaned text   \n",
       "44619  Aicadium and SambaNova join forces to bring innovative endtoend hardware and software AI solution to SingaporePartnership accelerates access to industry impacting AI capabilities for organisations in the ASEAN region and beyond.Published: Oct. 13, 2021 at 7:16 PM CDTUpdated: 1 hour agoSINGAPOREand PALO ALTO, Calif., Oct. 13, 2021 PRNewswire  Aicadium, a global technology company founded by Temasek dedicated to creating and scaling AI solutions, and SambaNova, the company building the industr...  \\\n",
       "\n",
       "                                                                                                                                                                                                                                                                                                                          title_tokens   \n",
       "44619  [aicadium, sambanova, join, forces, bring, innovative, endtoend, hardware, software, ai, solution, singapore, aicadium, sambanova_join, forces, bring_innovative, endtoend_hardware, software, ai, solution, singapore, aicadium, sambanova_join, forces, bring_innovative_endtoend_hardware, software, ai_solution, singapore]  \\\n",
       "\n",
       "                                                                                                                                                                                                                                                                              title_lemmatized   \n",
       "44619  [aicadium, sambanova, join, force, bring, innovative, endtoend, hardware, software, ai, solution, singapore, aicadium, sambanova_join, force, software, ai, solution, singapore, aicadium, sambanova_join, force, bring_innovative_endtoend_hardware, software, ai_solution, singapore]  \\\n",
       "\n",
       "                                                                                                                                                                                                                                                                                                                                                                                                                                                                                                               text_tokens   \n",
       "44619  [aicadium, sambanova, join, forces, bring, innovative, endtoend, hardware, software, ai, solution, accelerates, access, industry, impacting, ai, capabilities, organisations, asean, region, beyond, published, oct, pm, cdtupdated, hour, agosingaporeand, palo, alto, calif, oct, prnewswire, aicadium, global, technology, company, founded, temasek, dedicated, creating, scaling, ai, solutions, sambanova, company, building, industrys, advanced, software, hardware, services, run, ai, applications, to...  \\\n",
       "\n",
       "                                                                                                                                                                                                                                                                                                                                                                                                                                                                                                           text_lemmatized   \n",
       "44619  [join, force, bring, innovative, endtoend, hardware, software, solution, accelerate, access, industry, impacting, ai, capability, organisation, region, publish, pm, cdtupdate, hour, aicadium, global, technology, company, found, temasek, dedicated, create, scaling, ai, solution, build, advanced, software, hardware, service, run, ai, application, today, announce, partnership, bring, advance, hardware, conjunction, aicadium, ai, platform, solution, available, company, singapore, seek, deploy, m...  \\\n",
       "\n",
       "                                                                                          title_keywords   \n",
       "44619  [software, singapore, force, aicadium, solution, sambanova_join, ai, sambanova, join, innovative]  \\\n",
       "\n",
       "                                                                                    text_keywords   \n",
       "44619  [ai, solution, company, aicadium, system, platform, organisation, global, build, industry]  \\\n",
       "\n",
       "       sentiment  \n",
       "44619          4  "
      ]
     },
     "execution_count": 12,
     "metadata": {},
     "output_type": "execute_result"
    }
   ],
   "source": [
    "# print a sample\n",
    "df_news_positive.sample(1)"
   ]
  },
  {
   "cell_type": "code",
   "execution_count": 13,
   "metadata": {
    "tags": []
   },
   "outputs": [
    {
     "data": {
      "text/plain": [
       "(14932, 11)"
      ]
     },
     "execution_count": 13,
     "metadata": {},
     "output_type": "execute_result"
    }
   ],
   "source": [
    "# select negative sentiment articles\n",
    "df_news_negative = df_news[df_news['sentiment'] < 3].reset_index(drop=True)\n",
    "df_news_negative.shape"
   ]
  },
  {
   "cell_type": "code",
   "execution_count": 14,
   "metadata": {
    "tags": []
   },
   "outputs": [
    {
     "data": {
      "text/html": [
       "<div>\n",
       "<style scoped>\n",
       "    .dataframe tbody tr th:only-of-type {\n",
       "        vertical-align: middle;\n",
       "    }\n",
       "\n",
       "    .dataframe tbody tr th {\n",
       "        vertical-align: top;\n",
       "    }\n",
       "\n",
       "    .dataframe thead th {\n",
       "        text-align: right;\n",
       "    }\n",
       "</style>\n",
       "<table border=\"1\" class=\"dataframe\">\n",
       "  <thead>\n",
       "    <tr style=\"text-align: right;\">\n",
       "      <th></th>\n",
       "      <th>id</th>\n",
       "      <th>date</th>\n",
       "      <th>cleaned title</th>\n",
       "      <th>cleaned text</th>\n",
       "      <th>title_tokens</th>\n",
       "      <th>title_lemmatized</th>\n",
       "      <th>text_tokens</th>\n",
       "      <th>text_lemmatized</th>\n",
       "      <th>title_keywords</th>\n",
       "      <th>text_keywords</th>\n",
       "      <th>sentiment</th>\n",
       "    </tr>\n",
       "  </thead>\n",
       "  <tbody>\n",
       "    <tr>\n",
       "      <th>4053</th>\n",
       "      <td>54722</td>\n",
       "      <td>2023-03-29</td>\n",
       "      <td>‘Out of control’ AI is a threat to civilisation, warns Elon Musk</td>\n",
       "      <td>Out of control AI is a threat to civilisation, warns Elon MuskRead full articleGareth CorfieldMarch 29, 2023, 5:33 a.m.2 min readElon Musk gestures as he speaks during a press conference  JIM WATSONAFP via Getty ImagesElon Musk has warned that out of control development of artificial intelligence AI could pose profound risks to society and humanity.The Tesla chief and thousands of other academics and tech industry figures have signed an open letter demanding that all AI labs... immediately p...</td>\n",
       "      <td>[control, ai, threat, civilisation, warns, elon, musk, control, ai, threat, civilisation, warns, elon_musk, control, ai_threat, civilisation, warns, elon_musk]</td>\n",
       "      <td>[control, ai, threat, civilisation, warn, elon, musk, control, ai, threat, civilisation, warn, elon_musk, control, ai_threat, civilisation, warn, elon_musk]</td>\n",
       "      <td>[control, ai, threat, civilisation, warns, elon, muskread, full, articlegareth, corfieldmarch, min, readelon, musk, gestures, speaks, press, conference, jim, watsonafp, via, getty, imageselon, musk, warned, control, development, artificial, intelligence, ai, could, pose, profound, risks, society, humanity, tesla, chief, thousands, academics, tech, industry, figures, signed, open, letter, demanding, ai, labs, immediately, pause, work, advancing, ai, called, governments, temporarily, ban, rese...</td>\n",
       "      <td>[ai, threat, civilisation, warn, muskread, full, articlegareth, corfieldmarch, min, readelon, musk, gesture, speak, press, getty, imageselon, warn, artificial, intelligence, ai, pose, profound, risk, society, humanity, tesla, chief, thousand, academic, tech, industry, figure, sign, open, letter, demand, ai, immediately, pause, work, advance, ai, call, government, temporarily, ban, research, signatory, include, apple, cofounder, doomsday, alarm, recent, rapid, advance, ai, development, unelec...</td>\n",
       "      <td>[warn, control, civilisation, threat, elon_musk, ai, musk, elon, ai_threat]</td>\n",
       "      <td>[ai, say, new, water, space, government, take, discover, find, hour]</td>\n",
       "      <td>2</td>\n",
       "    </tr>\n",
       "  </tbody>\n",
       "</table>\n",
       "</div>"
      ],
      "text/plain": [
       "         id        date   \n",
       "4053  54722  2023-03-29  \\\n",
       "\n",
       "                                                         cleaned title   \n",
       "4053  ‘Out of control’ AI is a threat to civilisation, warns Elon Musk  \\\n",
       "\n",
       "                                                                                                                                                                                                                                                                                                                                                                                                                                                                                                             cleaned text   \n",
       "4053  Out of control AI is a threat to civilisation, warns Elon MuskRead full articleGareth CorfieldMarch 29, 2023, 5:33 a.m.2 min readElon Musk gestures as he speaks during a press conference  JIM WATSONAFP via Getty ImagesElon Musk has warned that out of control development of artificial intelligence AI could pose profound risks to society and humanity.The Tesla chief and thousands of other academics and tech industry figures have signed an open letter demanding that all AI labs... immediately p...  \\\n",
       "\n",
       "                                                                                                                                                         title_tokens   \n",
       "4053  [control, ai, threat, civilisation, warns, elon, musk, control, ai, threat, civilisation, warns, elon_musk, control, ai_threat, civilisation, warns, elon_musk]  \\\n",
       "\n",
       "                                                                                                                                                  title_lemmatized   \n",
       "4053  [control, ai, threat, civilisation, warn, elon, musk, control, ai, threat, civilisation, warn, elon_musk, control, ai_threat, civilisation, warn, elon_musk]  \\\n",
       "\n",
       "                                                                                                                                                                                                                                                                                                                                                                                                                                                                                                              text_tokens   \n",
       "4053  [control, ai, threat, civilisation, warns, elon, muskread, full, articlegareth, corfieldmarch, min, readelon, musk, gestures, speaks, press, conference, jim, watsonafp, via, getty, imageselon, musk, warned, control, development, artificial, intelligence, ai, could, pose, profound, risks, society, humanity, tesla, chief, thousands, academics, tech, industry, figures, signed, open, letter, demanding, ai, labs, immediately, pause, work, advancing, ai, called, governments, temporarily, ban, rese...  \\\n",
       "\n",
       "                                                                                                                                                                                                                                                                                                                                                                                                                                                                                                          text_lemmatized   \n",
       "4053  [ai, threat, civilisation, warn, muskread, full, articlegareth, corfieldmarch, min, readelon, musk, gesture, speak, press, getty, imageselon, warn, artificial, intelligence, ai, pose, profound, risk, society, humanity, tesla, chief, thousand, academic, tech, industry, figure, sign, open, letter, demand, ai, immediately, pause, work, advance, ai, call, government, temporarily, ban, research, signatory, include, apple, cofounder, doomsday, alarm, recent, rapid, advance, ai, development, unelec...  \\\n",
       "\n",
       "                                                                   title_keywords   \n",
       "4053  [warn, control, civilisation, threat, elon_musk, ai, musk, elon, ai_threat]  \\\n",
       "\n",
       "                                                             text_keywords   \n",
       "4053  [ai, say, new, water, space, government, take, discover, find, hour]  \\\n",
       "\n",
       "      sentiment  \n",
       "4053          2  "
      ]
     },
     "execution_count": 14,
     "metadata": {},
     "output_type": "execute_result"
    }
   ],
   "source": [
    "# print a sample\n",
    "df_news_negative.sample(1)"
   ]
  },
  {
   "attachments": {},
   "cell_type": "markdown",
   "metadata": {},
   "source": [
    "## Topic Modeling - Zero-shot (NLI) modeling\n",
    "\n",
    "Using candidate labels from LDA model with n=18 topics"
   ]
  },
  {
   "attachments": {},
   "cell_type": "markdown",
   "metadata": {},
   "source": [
    "#### Check for GPU presence"
   ]
  },
  {
   "cell_type": "code",
   "execution_count": 15,
   "metadata": {
    "tags": []
   },
   "outputs": [
    {
     "data": {
      "text/plain": [
       "[PhysicalDevice(name='/physical_device:CPU:0', device_type='CPU'),\n",
       " PhysicalDevice(name='/physical_device:GPU:0', device_type='GPU')]"
      ]
     },
     "execution_count": 15,
     "metadata": {},
     "output_type": "execute_result"
    }
   ],
   "source": [
    "#Verify we got CPU + GPU or only CPU\n",
    "tf.config.list_physical_devices()"
   ]
  },
  {
   "cell_type": "code",
   "execution_count": 16,
   "metadata": {
    "tags": []
   },
   "outputs": [
    {
     "name": "stdout",
     "output_type": "stream",
     "text": [
      "Sat May 20 00:52:10 2023       \n",
      "+-----------------------------------------------------------------------------+\n",
      "| NVIDIA-SMI 470.57.02    Driver Version: 470.57.02    CUDA Version: 11.4     |\n",
      "|-------------------------------+----------------------+----------------------+\n",
      "| GPU  Name        Persistence-M| Bus-Id        Disp.A | Volatile Uncorr. ECC |\n",
      "| Fan  Temp  Perf  Pwr:Usage/Cap|         Memory-Usage | GPU-Util  Compute M. |\n",
      "|                               |                      |               MIG M. |\n",
      "|===============================+======================+======================|\n",
      "|   0  Tesla T4            Off  | 00000000:00:1E.0 Off |                    0 |\n",
      "| N/A   31C    P8     9W /  70W |      3MiB / 15109MiB |      0%      Default |\n",
      "|                               |                      |                  N/A |\n",
      "+-------------------------------+----------------------+----------------------+\n",
      "                                                                               \n",
      "+-----------------------------------------------------------------------------+\n",
      "| Processes:                                                                  |\n",
      "|  GPU   GI   CI        PID   Type   Process name                  GPU Memory |\n",
      "|        ID   ID                                                   Usage      |\n",
      "|=============================================================================|\n",
      "|  No running processes found                                                 |\n",
      "+-----------------------------------------------------------------------------+\n"
     ]
    }
   ],
   "source": [
    "!nvidia-smi"
   ]
  },
  {
   "cell_type": "code",
   "execution_count": 17,
   "metadata": {
    "tags": []
   },
   "outputs": [
    {
     "data": {
      "text/plain": [
       "'2.11.1'"
      ]
     },
     "execution_count": 17,
     "metadata": {},
     "output_type": "execute_result"
    }
   ],
   "source": [
    "tf.__version__"
   ]
  },
  {
   "cell_type": "code",
   "execution_count": 18,
   "metadata": {
    "tags": []
   },
   "outputs": [],
   "source": [
    "#!pip install torch --upgrade"
   ]
  },
  {
   "cell_type": "code",
   "execution_count": 19,
   "metadata": {
    "tags": []
   },
   "outputs": [],
   "source": [
    "#!pip install ktrain --upgrade"
   ]
  },
  {
   "cell_type": "code",
   "execution_count": 20,
   "metadata": {
    "tags": []
   },
   "outputs": [],
   "source": [
    "#!python3 -m pip install tensorflow"
   ]
  },
  {
   "cell_type": "code",
   "execution_count": 21,
   "metadata": {
    "tags": []
   },
   "outputs": [],
   "source": [
    "import ktrain\n",
    "import torch"
   ]
  },
  {
   "attachments": {},
   "cell_type": "markdown",
   "metadata": {},
   "source": [
    "### Modelling"
   ]
  },
  {
   "cell_type": "code",
   "execution_count": 22,
   "metadata": {},
   "outputs": [],
   "source": [
    "zsl = ktrain.text.ZeroShotClassifier()"
   ]
  },
  {
   "cell_type": "code",
   "execution_count": 23,
   "metadata": {},
   "outputs": [
    {
     "data": {
      "text/plain": [
       "18"
      ]
     },
     "execution_count": 23,
     "metadata": {},
     "output_type": "execute_result"
    }
   ],
   "source": [
    "candidate_labels = ['digital transaction', 'healthcare', 'news platform', 'data analytics', 'insurance', 'investment', 'global market', 'autonomous car', 'customer experience', 'data science', 'cryptocurrency', 'camera', 'robot', 'chatgpt', 'image', 'voice', 'patient care', 'research']\n",
    "len(candidate_labels)"
   ]
  },
  {
   "attachments": {},
   "cell_type": "markdown",
   "metadata": {},
   "source": [
    "### Positive Sentiment Articles"
   ]
  },
  {
   "cell_type": "code",
   "execution_count": 23,
   "metadata": {
    "tags": []
   },
   "outputs": [],
   "source": [
    "# Put reviews in a list\n",
    "seq_pos = df_news_positive['cleaned text'].sample(1000).to_list()\n",
    "\n",
    "# Set the hyppothesis template\n",
    "hypothesis_template = \"The topic of this news article is {}.\""
   ]
  },
  {
   "cell_type": "code",
   "execution_count": null,
   "metadata": {
    "tags": []
   },
   "outputs": [
    {
     "name": "stdout",
     "output_type": "stream",
     "text": [
      "CPU times: user 23min 36s, sys: 14min 4s, total: 37min 40s\n",
      "Wall time: 35min 52s\n"
     ]
    }
   ],
   "source": [
    "%%time\n",
    "\n",
    "topic_pos = zsl.predict(seq_pos, \n",
    "                        labels=candidate_labels, \n",
    "                        include_labels=False, \n",
    "                        nli_template=hypothesis_template, \n",
    "                        batch_size=18)"
   ]
  },
  {
   "cell_type": "code",
   "execution_count": null,
   "metadata": {
    "tags": []
   },
   "outputs": [
    {
     "data": {
      "text/html": [
       "<div>\n",
       "<style scoped>\n",
       "    .dataframe tbody tr th:only-of-type {\n",
       "        vertical-align: middle;\n",
       "    }\n",
       "\n",
       "    .dataframe tbody tr th {\n",
       "        vertical-align: top;\n",
       "    }\n",
       "\n",
       "    .dataframe thead th {\n",
       "        text-align: right;\n",
       "    }\n",
       "</style>\n",
       "<table border=\"1\" class=\"dataframe\">\n",
       "  <thead>\n",
       "    <tr style=\"text-align: right;\">\n",
       "      <th></th>\n",
       "      <th>digital transaction</th>\n",
       "      <th>healthcare</th>\n",
       "      <th>news platform</th>\n",
       "      <th>data analytics</th>\n",
       "      <th>insurance</th>\n",
       "      <th>investment</th>\n",
       "      <th>global market</th>\n",
       "      <th>autonomous car</th>\n",
       "      <th>customer experience</th>\n",
       "      <th>data science</th>\n",
       "      <th>cryptocurrency</th>\n",
       "      <th>camera</th>\n",
       "      <th>robot</th>\n",
       "      <th>chatgpt</th>\n",
       "      <th>image</th>\n",
       "      <th>voice</th>\n",
       "      <th>patient care</th>\n",
       "      <th>research</th>\n",
       "    </tr>\n",
       "  </thead>\n",
       "  <tbody>\n",
       "    <tr>\n",
       "      <th>0</th>\n",
       "      <td>0.189048</td>\n",
       "      <td>0.083276</td>\n",
       "      <td>0.404735</td>\n",
       "      <td>0.713980</td>\n",
       "      <td>0.048833</td>\n",
       "      <td>0.850423</td>\n",
       "      <td>0.983356</td>\n",
       "      <td>0.147552</td>\n",
       "      <td>0.309551</td>\n",
       "      <td>0.222135</td>\n",
       "      <td>0.069777</td>\n",
       "      <td>0.119665</td>\n",
       "      <td>0.168936</td>\n",
       "      <td>0.394003</td>\n",
       "      <td>0.333103</td>\n",
       "      <td>0.521404</td>\n",
       "      <td>0.112032</td>\n",
       "      <td>0.955376</td>\n",
       "    </tr>\n",
       "    <tr>\n",
       "      <th>1</th>\n",
       "      <td>0.971177</td>\n",
       "      <td>0.940174</td>\n",
       "      <td>0.996037</td>\n",
       "      <td>0.863431</td>\n",
       "      <td>0.056253</td>\n",
       "      <td>0.965887</td>\n",
       "      <td>0.934546</td>\n",
       "      <td>0.058829</td>\n",
       "      <td>0.938672</td>\n",
       "      <td>0.906139</td>\n",
       "      <td>0.100718</td>\n",
       "      <td>0.126258</td>\n",
       "      <td>0.119053</td>\n",
       "      <td>0.952202</td>\n",
       "      <td>0.931842</td>\n",
       "      <td>0.687049</td>\n",
       "      <td>0.673787</td>\n",
       "      <td>0.829878</td>\n",
       "    </tr>\n",
       "    <tr>\n",
       "      <th>2</th>\n",
       "      <td>0.549969</td>\n",
       "      <td>0.325538</td>\n",
       "      <td>0.870079</td>\n",
       "      <td>0.918746</td>\n",
       "      <td>0.397629</td>\n",
       "      <td>0.731781</td>\n",
       "      <td>0.385335</td>\n",
       "      <td>0.249390</td>\n",
       "      <td>0.777407</td>\n",
       "      <td>0.891850</td>\n",
       "      <td>0.139737</td>\n",
       "      <td>0.427788</td>\n",
       "      <td>0.280470</td>\n",
       "      <td>0.662784</td>\n",
       "      <td>0.752450</td>\n",
       "      <td>0.798037</td>\n",
       "      <td>0.200582</td>\n",
       "      <td>0.984621</td>\n",
       "    </tr>\n",
       "    <tr>\n",
       "      <th>3</th>\n",
       "      <td>0.855386</td>\n",
       "      <td>0.097613</td>\n",
       "      <td>0.962276</td>\n",
       "      <td>0.854594</td>\n",
       "      <td>0.066213</td>\n",
       "      <td>0.693219</td>\n",
       "      <td>0.998088</td>\n",
       "      <td>0.143273</td>\n",
       "      <td>0.964067</td>\n",
       "      <td>0.686721</td>\n",
       "      <td>0.048727</td>\n",
       "      <td>0.356305</td>\n",
       "      <td>0.380920</td>\n",
       "      <td>0.827936</td>\n",
       "      <td>0.877390</td>\n",
       "      <td>0.840519</td>\n",
       "      <td>0.088012</td>\n",
       "      <td>0.995317</td>\n",
       "    </tr>\n",
       "    <tr>\n",
       "      <th>4</th>\n",
       "      <td>0.700213</td>\n",
       "      <td>0.208949</td>\n",
       "      <td>0.770048</td>\n",
       "      <td>0.858501</td>\n",
       "      <td>0.190716</td>\n",
       "      <td>0.424776</td>\n",
       "      <td>0.628448</td>\n",
       "      <td>0.093216</td>\n",
       "      <td>0.920040</td>\n",
       "      <td>0.800532</td>\n",
       "      <td>0.081283</td>\n",
       "      <td>0.272123</td>\n",
       "      <td>0.432931</td>\n",
       "      <td>0.262712</td>\n",
       "      <td>0.536358</td>\n",
       "      <td>0.648307</td>\n",
       "      <td>0.110431</td>\n",
       "      <td>0.609417</td>\n",
       "    </tr>\n",
       "  </tbody>\n",
       "</table>\n",
       "</div>"
      ],
      "text/plain": [
       "   digital transaction  healthcare  news platform  data analytics  insurance   \n",
       "0             0.189048    0.083276       0.404735        0.713980   0.048833  \\\n",
       "1             0.971177    0.940174       0.996037        0.863431   0.056253   \n",
       "2             0.549969    0.325538       0.870079        0.918746   0.397629   \n",
       "3             0.855386    0.097613       0.962276        0.854594   0.066213   \n",
       "4             0.700213    0.208949       0.770048        0.858501   0.190716   \n",
       "\n",
       "   investment  global market  autonomous car  customer experience   \n",
       "0    0.850423       0.983356        0.147552             0.309551  \\\n",
       "1    0.965887       0.934546        0.058829             0.938672   \n",
       "2    0.731781       0.385335        0.249390             0.777407   \n",
       "3    0.693219       0.998088        0.143273             0.964067   \n",
       "4    0.424776       0.628448        0.093216             0.920040   \n",
       "\n",
       "   data science  cryptocurrency    camera     robot   chatgpt     image   \n",
       "0      0.222135        0.069777  0.119665  0.168936  0.394003  0.333103  \\\n",
       "1      0.906139        0.100718  0.126258  0.119053  0.952202  0.931842   \n",
       "2      0.891850        0.139737  0.427788  0.280470  0.662784  0.752450   \n",
       "3      0.686721        0.048727  0.356305  0.380920  0.827936  0.877390   \n",
       "4      0.800532        0.081283  0.272123  0.432931  0.262712  0.536358   \n",
       "\n",
       "      voice  patient care  research  \n",
       "0  0.521404      0.112032  0.955376  \n",
       "1  0.687049      0.673787  0.829878  \n",
       "2  0.798037      0.200582  0.984621  \n",
       "3  0.840519      0.088012  0.995317  \n",
       "4  0.648307      0.110431  0.609417  "
      ]
     },
     "execution_count": 25,
     "metadata": {},
     "output_type": "execute_result"
    }
   ],
   "source": [
    "pos_pred_df = pd.DataFrame(topic_pos, columns=candidate_labels) \n",
    "pos_pred_df.head()"
   ]
  },
  {
   "cell_type": "code",
   "execution_count": null,
   "metadata": {
    "tags": []
   },
   "outputs": [
    {
     "data": {
      "text/plain": [
       "(1000, 18)"
      ]
     },
     "execution_count": 26,
     "metadata": {},
     "output_type": "execute_result"
    }
   ],
   "source": [
    "pos_pred_df.shape"
   ]
  },
  {
   "cell_type": "code",
   "execution_count": null,
   "metadata": {
    "tags": []
   },
   "outputs": [],
   "source": [
    "# SAVE THE RESULTS\n",
    "pos_pred_df.to_json('result/pos_pred.json', orient='records', lines=True)"
   ]
  },
  {
   "cell_type": "code",
   "execution_count": null,
   "metadata": {
    "tags": []
   },
   "outputs": [
    {
     "data": {
      "text/html": [
       "<div>\n",
       "<style scoped>\n",
       "    .dataframe tbody tr th:only-of-type {\n",
       "        vertical-align: middle;\n",
       "    }\n",
       "\n",
       "    .dataframe tbody tr th {\n",
       "        vertical-align: top;\n",
       "    }\n",
       "\n",
       "    .dataframe thead th {\n",
       "        text-align: right;\n",
       "    }\n",
       "</style>\n",
       "<table border=\"1\" class=\"dataframe\">\n",
       "  <thead>\n",
       "    <tr style=\"text-align: right;\">\n",
       "      <th></th>\n",
       "      <th>id</th>\n",
       "      <th>cleaned text</th>\n",
       "      <th>sentiment</th>\n",
       "      <th>digital transaction</th>\n",
       "      <th>healthcare</th>\n",
       "      <th>news platform</th>\n",
       "      <th>data analytics</th>\n",
       "      <th>insurance</th>\n",
       "      <th>investment</th>\n",
       "      <th>global market</th>\n",
       "      <th>autonomous car</th>\n",
       "      <th>customer experience</th>\n",
       "      <th>data science</th>\n",
       "      <th>cryptocurrency</th>\n",
       "      <th>camera</th>\n",
       "      <th>robot</th>\n",
       "      <th>chatgpt</th>\n",
       "      <th>image</th>\n",
       "      <th>voice</th>\n",
       "      <th>patient care</th>\n",
       "      <th>research</th>\n",
       "    </tr>\n",
       "  </thead>\n",
       "  <tbody>\n",
       "    <tr>\n",
       "      <th>0</th>\n",
       "      <td>1</td>\n",
       "      <td>Children With Autism Saw Their Learning and Social Skills Boosted After Playing With This AI Robot admin  Latest posts by admin see all  Mansplaining in conferences: How can we get him to forestall  February 27, 2020 Coronavirus Could Explode in the U.S. Overnight Like it Did in Italy  February 27, 2020 Levi Strauss marks the next phase in corporate paid leave policies  February 27, 2020 Scientists who designed an artificially clever robotic that helped youngsters with autism spice up their ...</td>\n",
       "      <td>5</td>\n",
       "      <td>0.189048</td>\n",
       "      <td>0.083276</td>\n",
       "      <td>0.404735</td>\n",
       "      <td>0.713980</td>\n",
       "      <td>0.048833</td>\n",
       "      <td>0.850423</td>\n",
       "      <td>0.983356</td>\n",
       "      <td>0.147552</td>\n",
       "      <td>0.309551</td>\n",
       "      <td>0.222135</td>\n",
       "      <td>0.069777</td>\n",
       "      <td>0.119665</td>\n",
       "      <td>0.168936</td>\n",
       "      <td>0.394003</td>\n",
       "      <td>0.333103</td>\n",
       "      <td>0.521404</td>\n",
       "      <td>0.112032</td>\n",
       "      <td>0.955376</td>\n",
       "    </tr>\n",
       "    <tr>\n",
       "      <th>1</th>\n",
       "      <td>2</td>\n",
       "      <td>Forget ML, AI and Industry 4.0  obsolescence should be your focus The world entered a new era of accelerated transformation in the last eighteen months that will continue to evolve and press forward for years to come. Most businesses are playing catchup trying to make sense of a new timeline where the ten years that had been set aside for careful planning and implementation of what was coming up next no longer exists. The next is happening now and, regardless of your industry or seniority, t...</td>\n",
       "      <td>4</td>\n",
       "      <td>0.971177</td>\n",
       "      <td>0.940174</td>\n",
       "      <td>0.996037</td>\n",
       "      <td>0.863431</td>\n",
       "      <td>0.056253</td>\n",
       "      <td>0.965887</td>\n",
       "      <td>0.934546</td>\n",
       "      <td>0.058829</td>\n",
       "      <td>0.938672</td>\n",
       "      <td>0.906139</td>\n",
       "      <td>0.100718</td>\n",
       "      <td>0.126258</td>\n",
       "      <td>0.119053</td>\n",
       "      <td>0.952202</td>\n",
       "      <td>0.931842</td>\n",
       "      <td>0.687049</td>\n",
       "      <td>0.673787</td>\n",
       "      <td>0.829878</td>\n",
       "    </tr>\n",
       "  </tbody>\n",
       "</table>\n",
       "</div>"
      ],
      "text/plain": [
       "   id   \n",
       "0   1  \\\n",
       "1   2   \n",
       "\n",
       "                                                                                                                                                                                                                                                                                                                                                                                                                                                                                                          cleaned text   \n",
       "0  Children With Autism Saw Their Learning and Social Skills Boosted After Playing With This AI Robot admin  Latest posts by admin see all  Mansplaining in conferences: How can we get him to forestall  February 27, 2020 Coronavirus Could Explode in the U.S. Overnight Like it Did in Italy  February 27, 2020 Levi Strauss marks the next phase in corporate paid leave policies  February 27, 2020 Scientists who designed an artificially clever robotic that helped youngsters with autism spice up their ...  \\\n",
       "1  Forget ML, AI and Industry 4.0  obsolescence should be your focus The world entered a new era of accelerated transformation in the last eighteen months that will continue to evolve and press forward for years to come. Most businesses are playing catchup trying to make sense of a new timeline where the ten years that had been set aside for careful planning and implementation of what was coming up next no longer exists. The next is happening now and, regardless of your industry or seniority, t...   \n",
       "\n",
       "   sentiment  digital transaction  healthcare  news platform  data analytics   \n",
       "0          5             0.189048    0.083276       0.404735        0.713980  \\\n",
       "1          4             0.971177    0.940174       0.996037        0.863431   \n",
       "\n",
       "   insurance  investment  global market  autonomous car  customer experience   \n",
       "0   0.048833    0.850423       0.983356        0.147552             0.309551  \\\n",
       "1   0.056253    0.965887       0.934546        0.058829             0.938672   \n",
       "\n",
       "   data science  cryptocurrency    camera     robot   chatgpt     image   \n",
       "0      0.222135        0.069777  0.119665  0.168936  0.394003  0.333103  \\\n",
       "1      0.906139        0.100718  0.126258  0.119053  0.952202  0.931842   \n",
       "\n",
       "      voice  patient care  research  \n",
       "0  0.521404      0.112032  0.955376  \n",
       "1  0.687049      0.673787  0.829878  "
      ]
     },
     "execution_count": 28,
     "metadata": {},
     "output_type": "execute_result"
    }
   ],
   "source": [
    "pos_news_topics = df_news_positive.join(pos_pred_df, how='inner')\n",
    "pos_news_topics = pos_news_topics[['id', 'cleaned text', 'sentiment'] + candidate_labels]\n",
    "\n",
    "# Reset multi-level index\n",
    "pos_news_topics.columns = pos_news_topics.columns.get_level_values(0)\n",
    "\n",
    "# Select the small-ish articles only\n",
    "pos_news_topics.head(2)"
   ]
  },
  {
   "cell_type": "code",
   "execution_count": null,
   "metadata": {
    "tags": []
   },
   "outputs": [
    {
     "data": {
      "text/plain": [
       "(1000, 21)"
      ]
     },
     "execution_count": 29,
     "metadata": {},
     "output_type": "execute_result"
    }
   ],
   "source": [
    "pos_news_topics.shape"
   ]
  },
  {
   "cell_type": "code",
   "execution_count": null,
   "metadata": {
    "tags": []
   },
   "outputs": [],
   "source": [
    "# SAVE THE RESULTS\n",
    "pos_news_topics.to_json('result/pos_news_topics.json', orient='records', lines=True)"
   ]
  },
  {
   "cell_type": "code",
   "execution_count": null,
   "metadata": {
    "tags": []
   },
   "outputs": [
    {
     "name": "stdout",
     "output_type": "stream",
     "text": [
      "<class 'pandas.core.frame.DataFrame'>\n",
      "Index: 1000 entries, 0 to 999\n",
      "Data columns (total 21 columns):\n",
      " #   Column               Non-Null Count  Dtype  \n",
      "---  ------               --------------  -----  \n",
      " 0   id                   1000 non-null   int64  \n",
      " 1   cleaned text         1000 non-null   object \n",
      " 2   sentiment            1000 non-null   int64  \n",
      " 3   digital transaction  1000 non-null   float64\n",
      " 4   healthcare           1000 non-null   float64\n",
      " 5   news platform        1000 non-null   float64\n",
      " 6   data analytics       1000 non-null   float64\n",
      " 7   insurance            1000 non-null   float64\n",
      " 8   investment           1000 non-null   float64\n",
      " 9   global market        1000 non-null   float64\n",
      " 10  autonomous car       1000 non-null   float64\n",
      " 11  customer experience  1000 non-null   float64\n",
      " 12  data science         1000 non-null   float64\n",
      " 13  cryptocurrency       1000 non-null   float64\n",
      " 14  camera               1000 non-null   float64\n",
      " 15  robot                1000 non-null   float64\n",
      " 16  chatgpt              1000 non-null   float64\n",
      " 17  image                1000 non-null   float64\n",
      " 18  voice                1000 non-null   float64\n",
      " 19  patient care         1000 non-null   float64\n",
      " 20  research             1000 non-null   float64\n",
      "dtypes: float64(18), int64(2), object(1)\n",
      "memory usage: 204.2+ KB\n"
     ]
    }
   ],
   "source": [
    "pos_news_topics.info()"
   ]
  },
  {
   "attachments": {},
   "cell_type": "markdown",
   "metadata": {},
   "source": [
    "### Negetive Sentiment Articles"
   ]
  },
  {
   "cell_type": "code",
   "execution_count": 26,
   "metadata": {
    "tags": []
   },
   "outputs": [],
   "source": [
    "# Put reviews in a list\n",
    "seq_neg = df_news_negative['cleaned text'].sample(1000).to_list()\n",
    "\n",
    "# Set the hyppothesis template\n",
    "hypothesis_template = \"The topic of this news article is {}.\""
   ]
  },
  {
   "cell_type": "code",
   "execution_count": null,
   "metadata": {
    "tags": []
   },
   "outputs": [
    {
     "name": "stdout",
     "output_type": "stream",
     "text": [
      "CPU times: user 21min 29s, sys: 12min 55s, total: 34min 25s\n",
      "Wall time: 32min 30s\n"
     ]
    }
   ],
   "source": [
    "%%time\n",
    "\n",
    "topic_neg = zsl.predict(seq_neg, \n",
    "                        labels=candidate_labels, \n",
    "                        include_labels=False, \n",
    "                        nli_template=hypothesis_template, \n",
    "                        batch_size=18)"
   ]
  },
  {
   "cell_type": "code",
   "execution_count": null,
   "metadata": {
    "tags": []
   },
   "outputs": [
    {
     "data": {
      "text/html": [
       "<div>\n",
       "<style scoped>\n",
       "    .dataframe tbody tr th:only-of-type {\n",
       "        vertical-align: middle;\n",
       "    }\n",
       "\n",
       "    .dataframe tbody tr th {\n",
       "        vertical-align: top;\n",
       "    }\n",
       "\n",
       "    .dataframe thead th {\n",
       "        text-align: right;\n",
       "    }\n",
       "</style>\n",
       "<table border=\"1\" class=\"dataframe\">\n",
       "  <thead>\n",
       "    <tr style=\"text-align: right;\">\n",
       "      <th></th>\n",
       "      <th>digital transaction</th>\n",
       "      <th>healthcare</th>\n",
       "      <th>news platform</th>\n",
       "      <th>data analytics</th>\n",
       "      <th>insurance</th>\n",
       "      <th>investment</th>\n",
       "      <th>global market</th>\n",
       "      <th>autonomous car</th>\n",
       "      <th>customer experience</th>\n",
       "      <th>data science</th>\n",
       "      <th>cryptocurrency</th>\n",
       "      <th>camera</th>\n",
       "      <th>robot</th>\n",
       "      <th>chatgpt</th>\n",
       "      <th>image</th>\n",
       "      <th>voice</th>\n",
       "      <th>patient care</th>\n",
       "      <th>research</th>\n",
       "    </tr>\n",
       "  </thead>\n",
       "  <tbody>\n",
       "    <tr>\n",
       "      <th>0</th>\n",
       "      <td>0.520370</td>\n",
       "      <td>0.112797</td>\n",
       "      <td>0.747345</td>\n",
       "      <td>0.642699</td>\n",
       "      <td>0.054052</td>\n",
       "      <td>0.187685</td>\n",
       "      <td>0.775824</td>\n",
       "      <td>0.039266</td>\n",
       "      <td>0.662619</td>\n",
       "      <td>0.514457</td>\n",
       "      <td>0.035682</td>\n",
       "      <td>0.179212</td>\n",
       "      <td>0.462046</td>\n",
       "      <td>0.876484</td>\n",
       "      <td>0.296175</td>\n",
       "      <td>0.683526</td>\n",
       "      <td>0.085167</td>\n",
       "      <td>0.555365</td>\n",
       "    </tr>\n",
       "    <tr>\n",
       "      <th>1</th>\n",
       "      <td>0.091209</td>\n",
       "      <td>0.003056</td>\n",
       "      <td>0.635477</td>\n",
       "      <td>0.033356</td>\n",
       "      <td>0.002520</td>\n",
       "      <td>0.009066</td>\n",
       "      <td>0.311910</td>\n",
       "      <td>0.001832</td>\n",
       "      <td>0.045789</td>\n",
       "      <td>0.136891</td>\n",
       "      <td>0.003965</td>\n",
       "      <td>0.007374</td>\n",
       "      <td>0.067747</td>\n",
       "      <td>0.995085</td>\n",
       "      <td>0.112712</td>\n",
       "      <td>0.330906</td>\n",
       "      <td>0.005189</td>\n",
       "      <td>0.981931</td>\n",
       "    </tr>\n",
       "    <tr>\n",
       "      <th>2</th>\n",
       "      <td>0.830772</td>\n",
       "      <td>0.053557</td>\n",
       "      <td>0.937766</td>\n",
       "      <td>0.872668</td>\n",
       "      <td>0.081875</td>\n",
       "      <td>0.383067</td>\n",
       "      <td>0.837185</td>\n",
       "      <td>0.341534</td>\n",
       "      <td>0.538601</td>\n",
       "      <td>0.847025</td>\n",
       "      <td>0.021629</td>\n",
       "      <td>0.285224</td>\n",
       "      <td>0.607073</td>\n",
       "      <td>0.962344</td>\n",
       "      <td>0.945322</td>\n",
       "      <td>0.900375</td>\n",
       "      <td>0.060884</td>\n",
       "      <td>0.892582</td>\n",
       "    </tr>\n",
       "    <tr>\n",
       "      <th>3</th>\n",
       "      <td>0.150539</td>\n",
       "      <td>0.010173</td>\n",
       "      <td>0.761225</td>\n",
       "      <td>0.921766</td>\n",
       "      <td>0.026464</td>\n",
       "      <td>0.860801</td>\n",
       "      <td>0.296030</td>\n",
       "      <td>0.003235</td>\n",
       "      <td>0.945704</td>\n",
       "      <td>0.935439</td>\n",
       "      <td>0.007286</td>\n",
       "      <td>0.044527</td>\n",
       "      <td>0.090656</td>\n",
       "      <td>0.199957</td>\n",
       "      <td>0.305413</td>\n",
       "      <td>0.252674</td>\n",
       "      <td>0.006992</td>\n",
       "      <td>0.966840</td>\n",
       "    </tr>\n",
       "    <tr>\n",
       "      <th>4</th>\n",
       "      <td>0.083841</td>\n",
       "      <td>0.054111</td>\n",
       "      <td>0.120562</td>\n",
       "      <td>0.008824</td>\n",
       "      <td>0.006225</td>\n",
       "      <td>0.008848</td>\n",
       "      <td>0.049754</td>\n",
       "      <td>0.003521</td>\n",
       "      <td>0.057006</td>\n",
       "      <td>0.012429</td>\n",
       "      <td>0.002367</td>\n",
       "      <td>0.010106</td>\n",
       "      <td>0.032996</td>\n",
       "      <td>0.607921</td>\n",
       "      <td>0.365569</td>\n",
       "      <td>0.033469</td>\n",
       "      <td>0.022034</td>\n",
       "      <td>0.168864</td>\n",
       "    </tr>\n",
       "  </tbody>\n",
       "</table>\n",
       "</div>"
      ],
      "text/plain": [
       "   digital transaction  healthcare  news platform  data analytics  insurance   \n",
       "0             0.520370    0.112797       0.747345        0.642699   0.054052  \\\n",
       "1             0.091209    0.003056       0.635477        0.033356   0.002520   \n",
       "2             0.830772    0.053557       0.937766        0.872668   0.081875   \n",
       "3             0.150539    0.010173       0.761225        0.921766   0.026464   \n",
       "4             0.083841    0.054111       0.120562        0.008824   0.006225   \n",
       "\n",
       "   investment  global market  autonomous car  customer experience   \n",
       "0    0.187685       0.775824        0.039266             0.662619  \\\n",
       "1    0.009066       0.311910        0.001832             0.045789   \n",
       "2    0.383067       0.837185        0.341534             0.538601   \n",
       "3    0.860801       0.296030        0.003235             0.945704   \n",
       "4    0.008848       0.049754        0.003521             0.057006   \n",
       "\n",
       "   data science  cryptocurrency    camera     robot   chatgpt     image   \n",
       "0      0.514457        0.035682  0.179212  0.462046  0.876484  0.296175  \\\n",
       "1      0.136891        0.003965  0.007374  0.067747  0.995085  0.112712   \n",
       "2      0.847025        0.021629  0.285224  0.607073  0.962344  0.945322   \n",
       "3      0.935439        0.007286  0.044527  0.090656  0.199957  0.305413   \n",
       "4      0.012429        0.002367  0.010106  0.032996  0.607921  0.365569   \n",
       "\n",
       "      voice  patient care  research  \n",
       "0  0.683526      0.085167  0.555365  \n",
       "1  0.330906      0.005189  0.981931  \n",
       "2  0.900375      0.060884  0.892582  \n",
       "3  0.252674      0.006992  0.966840  \n",
       "4  0.033469      0.022034  0.168864  "
      ]
     },
     "execution_count": 28,
     "metadata": {},
     "output_type": "execute_result"
    }
   ],
   "source": [
    "neg_pred_df = pd.DataFrame(topic_neg, columns=candidate_labels)\n",
    "neg_pred_df.head()"
   ]
  },
  {
   "cell_type": "code",
   "execution_count": null,
   "metadata": {},
   "outputs": [
    {
     "data": {
      "text/plain": [
       "(1000, 18)"
      ]
     },
     "execution_count": 29,
     "metadata": {},
     "output_type": "execute_result"
    }
   ],
   "source": [
    "neg_pred_df.shape"
   ]
  },
  {
   "cell_type": "code",
   "execution_count": null,
   "metadata": {},
   "outputs": [],
   "source": [
    "# SAVE THE RESULTS\n",
    "neg_pred_df.to_json('result/neg_pred.json', orient='records', lines=True)"
   ]
  },
  {
   "cell_type": "code",
   "execution_count": null,
   "metadata": {
    "tags": []
   },
   "outputs": [
    {
     "data": {
      "text/html": [
       "<div>\n",
       "<style scoped>\n",
       "    .dataframe tbody tr th:only-of-type {\n",
       "        vertical-align: middle;\n",
       "    }\n",
       "\n",
       "    .dataframe tbody tr th {\n",
       "        vertical-align: top;\n",
       "    }\n",
       "\n",
       "    .dataframe thead th {\n",
       "        text-align: right;\n",
       "    }\n",
       "</style>\n",
       "<table border=\"1\" class=\"dataframe\">\n",
       "  <thead>\n",
       "    <tr style=\"text-align: right;\">\n",
       "      <th></th>\n",
       "      <th>id</th>\n",
       "      <th>cleaned text</th>\n",
       "      <th>sentiment</th>\n",
       "      <th>digital transaction</th>\n",
       "      <th>healthcare</th>\n",
       "      <th>news platform</th>\n",
       "      <th>data analytics</th>\n",
       "      <th>insurance</th>\n",
       "      <th>investment</th>\n",
       "      <th>global market</th>\n",
       "      <th>autonomous car</th>\n",
       "      <th>customer experience</th>\n",
       "      <th>data science</th>\n",
       "      <th>cryptocurrency</th>\n",
       "      <th>camera</th>\n",
       "      <th>robot</th>\n",
       "      <th>chatgpt</th>\n",
       "      <th>image</th>\n",
       "      <th>voice</th>\n",
       "      <th>patient care</th>\n",
       "      <th>research</th>\n",
       "    </tr>\n",
       "  </thead>\n",
       "  <tbody>\n",
       "    <tr>\n",
       "      <th>0</th>\n",
       "      <td>5</td>\n",
       "      <td>Cr Bard Inc Has Returned 48.9 Since SmarTrend Recommendation BCR  SmarTrend identified an Uptrend for Cr Bard Inc :BCR on December 23rd, 2016 at 222.45.  In approximately 40 months, Cr Bard Inc has returned 48.91 as of todays recent price of 331.24.In the past 52 weeks, Cr Bard Inc share prices have been bracketed by a low of 0.00 and a high of 0.00 and are now at 331.24, 100 above that low price.  In the last five trading sessions, the 50day moving average MA has remained constant while the...</td>\n",
       "      <td>2</td>\n",
       "      <td>0.520370</td>\n",
       "      <td>0.112797</td>\n",
       "      <td>0.747345</td>\n",
       "      <td>0.642699</td>\n",
       "      <td>0.054052</td>\n",
       "      <td>0.187685</td>\n",
       "      <td>0.775824</td>\n",
       "      <td>0.039266</td>\n",
       "      <td>0.662619</td>\n",
       "      <td>0.514457</td>\n",
       "      <td>0.035682</td>\n",
       "      <td>0.179212</td>\n",
       "      <td>0.462046</td>\n",
       "      <td>0.876484</td>\n",
       "      <td>0.296175</td>\n",
       "      <td>0.683526</td>\n",
       "      <td>0.085167</td>\n",
       "      <td>0.555365</td>\n",
       "    </tr>\n",
       "    <tr>\n",
       "      <th>1</th>\n",
       "      <td>12</td>\n",
       "      <td>Conversational AI Marketplace Enlargement Possibilities, Regional Traits and Call for, Most sensible Avid gamers, Alternatives with Forecasts 2025  International Conversational AI marketplace 2020 analysis document is a solitary instrument that provides an indepth scrutiny of various Conversational AI marketplace insights, alternatives, collateral approaches and more than a few techniques of creating robust determinations. The Conversational AI marketplace CAGR charge would possibly building...</td>\n",
       "      <td>2</td>\n",
       "      <td>0.091209</td>\n",
       "      <td>0.003056</td>\n",
       "      <td>0.635477</td>\n",
       "      <td>0.033356</td>\n",
       "      <td>0.002520</td>\n",
       "      <td>0.009066</td>\n",
       "      <td>0.311910</td>\n",
       "      <td>0.001832</td>\n",
       "      <td>0.045789</td>\n",
       "      <td>0.136891</td>\n",
       "      <td>0.003965</td>\n",
       "      <td>0.007374</td>\n",
       "      <td>0.067747</td>\n",
       "      <td>0.995085</td>\n",
       "      <td>0.112712</td>\n",
       "      <td>0.330906</td>\n",
       "      <td>0.005189</td>\n",
       "      <td>0.981931</td>\n",
       "    </tr>\n",
       "  </tbody>\n",
       "</table>\n",
       "</div>"
      ],
      "text/plain": [
       "   id   \n",
       "0   5  \\\n",
       "1  12   \n",
       "\n",
       "                                                                                                                                                                                                                                                                                                                                                                                                                                                                                                          cleaned text   \n",
       "0  Cr Bard Inc Has Returned 48.9 Since SmarTrend Recommendation BCR  SmarTrend identified an Uptrend for Cr Bard Inc :BCR on December 23rd, 2016 at 222.45.  In approximately 40 months, Cr Bard Inc has returned 48.91 as of todays recent price of 331.24.In the past 52 weeks, Cr Bard Inc share prices have been bracketed by a low of 0.00 and a high of 0.00 and are now at 331.24, 100 above that low price.  In the last five trading sessions, the 50day moving average MA has remained constant while the...  \\\n",
       "1  Conversational AI Marketplace Enlargement Possibilities, Regional Traits and Call for, Most sensible Avid gamers, Alternatives with Forecasts 2025  International Conversational AI marketplace 2020 analysis document is a solitary instrument that provides an indepth scrutiny of various Conversational AI marketplace insights, alternatives, collateral approaches and more than a few techniques of creating robust determinations. The Conversational AI marketplace CAGR charge would possibly building...   \n",
       "\n",
       "   sentiment  digital transaction  healthcare  news platform  data analytics   \n",
       "0          2             0.520370    0.112797       0.747345        0.642699  \\\n",
       "1          2             0.091209    0.003056       0.635477        0.033356   \n",
       "\n",
       "   insurance  investment  global market  autonomous car  customer experience   \n",
       "0   0.054052    0.187685       0.775824        0.039266             0.662619  \\\n",
       "1   0.002520    0.009066       0.311910        0.001832             0.045789   \n",
       "\n",
       "   data science  cryptocurrency    camera     robot   chatgpt     image   \n",
       "0      0.514457        0.035682  0.179212  0.462046  0.876484  0.296175  \\\n",
       "1      0.136891        0.003965  0.007374  0.067747  0.995085  0.112712   \n",
       "\n",
       "      voice  patient care  research  \n",
       "0  0.683526      0.085167  0.555365  \n",
       "1  0.330906      0.005189  0.981931  "
      ]
     },
     "execution_count": 31,
     "metadata": {},
     "output_type": "execute_result"
    }
   ],
   "source": [
    "neg_news_topics = df_news_negative.join(neg_pred_df, how='inner')\n",
    "neg_news_topics = neg_news_topics[['id', 'cleaned text', 'sentiment'] + candidate_labels]\n",
    "\n",
    "# Reset multi-level index\n",
    "neg_news_topics.columns = neg_news_topics.columns.get_level_values(0)\n",
    "\n",
    "# Select the small-ish articles only\n",
    "neg_news_topics.head(2)"
   ]
  },
  {
   "cell_type": "code",
   "execution_count": null,
   "metadata": {},
   "outputs": [
    {
     "data": {
      "text/plain": [
       "(1000, 21)"
      ]
     },
     "execution_count": 32,
     "metadata": {},
     "output_type": "execute_result"
    }
   ],
   "source": [
    "neg_news_topics.shape"
   ]
  },
  {
   "cell_type": "code",
   "execution_count": null,
   "metadata": {},
   "outputs": [],
   "source": [
    "# SAVE THE RESULTS\n",
    "neg_news_topics.to_json('result/neg_news_topics.json', orient='records', lines=True)"
   ]
  },
  {
   "attachments": {},
   "cell_type": "markdown",
   "metadata": {},
   "source": [
    "## Analysis of Zero-shot (NLI) Modeling Results"
   ]
  },
  {
   "cell_type": "code",
   "execution_count": 86,
   "metadata": {},
   "outputs": [
    {
     "data": {
      "text/plain": [
       "18"
      ]
     },
     "execution_count": 86,
     "metadata": {},
     "output_type": "execute_result"
    }
   ],
   "source": [
    "candidate_labels = ['digital transaction', 'healthcare', 'news platform', 'data analytics', 'insurance', 'investment', 'global market', 'autonomous car', 'customer experience', 'data science', 'cryptocurrency', 'camera', 'robot', 'chatgpt', 'image', 'voice', 'patient care', 'research']\n",
    "len(candidate_labels)"
   ]
  },
  {
   "cell_type": "code",
   "execution_count": 87,
   "metadata": {},
   "outputs": [
    {
     "data": {
      "text/plain": [
       "(1000, 21)"
      ]
     },
     "execution_count": 87,
     "metadata": {},
     "output_type": "execute_result"
    }
   ],
   "source": [
    "pos_nil = pd.read_json('result/pos_news_topics.json', orient='records', lines=True)\n",
    "pos_nil.shape"
   ]
  },
  {
   "cell_type": "code",
   "execution_count": 88,
   "metadata": {},
   "outputs": [
    {
     "data": {
      "text/html": [
       "<div>\n",
       "<style scoped>\n",
       "    .dataframe tbody tr th:only-of-type {\n",
       "        vertical-align: middle;\n",
       "    }\n",
       "\n",
       "    .dataframe tbody tr th {\n",
       "        vertical-align: top;\n",
       "    }\n",
       "\n",
       "    .dataframe thead th {\n",
       "        text-align: right;\n",
       "    }\n",
       "</style>\n",
       "<table border=\"1\" class=\"dataframe\">\n",
       "  <thead>\n",
       "    <tr style=\"text-align: right;\">\n",
       "      <th></th>\n",
       "      <th>id</th>\n",
       "      <th>cleaned text</th>\n",
       "      <th>sentiment</th>\n",
       "      <th>digital transaction</th>\n",
       "      <th>healthcare</th>\n",
       "      <th>news platform</th>\n",
       "      <th>data analytics</th>\n",
       "      <th>insurance</th>\n",
       "      <th>investment</th>\n",
       "      <th>global market</th>\n",
       "      <th>autonomous car</th>\n",
       "      <th>customer experience</th>\n",
       "      <th>data science</th>\n",
       "      <th>cryptocurrency</th>\n",
       "      <th>camera</th>\n",
       "      <th>robot</th>\n",
       "      <th>chatgpt</th>\n",
       "      <th>image</th>\n",
       "      <th>voice</th>\n",
       "      <th>patient care</th>\n",
       "      <th>research</th>\n",
       "    </tr>\n",
       "  </thead>\n",
       "  <tbody>\n",
       "    <tr>\n",
       "      <th>0</th>\n",
       "      <td>1</td>\n",
       "      <td>Children With Autism Saw Their Learning and Social Skills Boosted After Playing With This AI Robot admin  Latest posts by admin see all  Mansplaining in conferences: How can we get him to forestall  February 27, 2020 Coronavirus Could Explode in the U.S. Overnight Like it Did in Italy  February 27, 2020 Levi Strauss marks the next phase in corporate paid leave policies  February 27, 2020 Scientists who designed an artificially clever robotic that helped youngsters with autism spice up their ...</td>\n",
       "      <td>5</td>\n",
       "      <td>0.189048</td>\n",
       "      <td>0.083276</td>\n",
       "      <td>0.404735</td>\n",
       "      <td>0.713980</td>\n",
       "      <td>0.048833</td>\n",
       "      <td>0.850423</td>\n",
       "      <td>0.983356</td>\n",
       "      <td>0.147552</td>\n",
       "      <td>0.309551</td>\n",
       "      <td>0.222135</td>\n",
       "      <td>0.069777</td>\n",
       "      <td>0.119665</td>\n",
       "      <td>0.168936</td>\n",
       "      <td>0.394003</td>\n",
       "      <td>0.333103</td>\n",
       "      <td>0.521404</td>\n",
       "      <td>0.112032</td>\n",
       "      <td>0.955376</td>\n",
       "    </tr>\n",
       "    <tr>\n",
       "      <th>1</th>\n",
       "      <td>2</td>\n",
       "      <td>Forget ML, AI and Industry 4.0  obsolescence should be your focus The world entered a new era of accelerated transformation in the last eighteen months that will continue to evolve and press forward for years to come. Most businesses are playing catchup trying to make sense of a new timeline where the ten years that had been set aside for careful planning and implementation of what was coming up next no longer exists. The next is happening now and, regardless of your industry or seniority, t...</td>\n",
       "      <td>4</td>\n",
       "      <td>0.971177</td>\n",
       "      <td>0.940174</td>\n",
       "      <td>0.996037</td>\n",
       "      <td>0.863431</td>\n",
       "      <td>0.056253</td>\n",
       "      <td>0.965887</td>\n",
       "      <td>0.934546</td>\n",
       "      <td>0.058829</td>\n",
       "      <td>0.938672</td>\n",
       "      <td>0.906139</td>\n",
       "      <td>0.100718</td>\n",
       "      <td>0.126258</td>\n",
       "      <td>0.119053</td>\n",
       "      <td>0.952202</td>\n",
       "      <td>0.931842</td>\n",
       "      <td>0.687049</td>\n",
       "      <td>0.673787</td>\n",
       "      <td>0.829878</td>\n",
       "    </tr>\n",
       "  </tbody>\n",
       "</table>\n",
       "</div>"
      ],
      "text/plain": [
       "   id   \n",
       "0   1  \\\n",
       "1   2   \n",
       "\n",
       "                                                                                                                                                                                                                                                                                                                                                                                                                                                                                                          cleaned text   \n",
       "0  Children With Autism Saw Their Learning and Social Skills Boosted After Playing With This AI Robot admin  Latest posts by admin see all  Mansplaining in conferences: How can we get him to forestall  February 27, 2020 Coronavirus Could Explode in the U.S. Overnight Like it Did in Italy  February 27, 2020 Levi Strauss marks the next phase in corporate paid leave policies  February 27, 2020 Scientists who designed an artificially clever robotic that helped youngsters with autism spice up their ...  \\\n",
       "1  Forget ML, AI and Industry 4.0  obsolescence should be your focus The world entered a new era of accelerated transformation in the last eighteen months that will continue to evolve and press forward for years to come. Most businesses are playing catchup trying to make sense of a new timeline where the ten years that had been set aside for careful planning and implementation of what was coming up next no longer exists. The next is happening now and, regardless of your industry or seniority, t...   \n",
       "\n",
       "   sentiment  digital transaction  healthcare  news platform  data analytics   \n",
       "0          5             0.189048    0.083276       0.404735        0.713980  \\\n",
       "1          4             0.971177    0.940174       0.996037        0.863431   \n",
       "\n",
       "   insurance  investment  global market  autonomous car  customer experience   \n",
       "0   0.048833    0.850423       0.983356        0.147552             0.309551  \\\n",
       "1   0.056253    0.965887       0.934546        0.058829             0.938672   \n",
       "\n",
       "   data science  cryptocurrency    camera     robot   chatgpt     image   \n",
       "0      0.222135        0.069777  0.119665  0.168936  0.394003  0.333103  \\\n",
       "1      0.906139        0.100718  0.126258  0.119053  0.952202  0.931842   \n",
       "\n",
       "      voice  patient care  research  \n",
       "0  0.521404      0.112032  0.955376  \n",
       "1  0.687049      0.673787  0.829878  "
      ]
     },
     "execution_count": 88,
     "metadata": {},
     "output_type": "execute_result"
    }
   ],
   "source": [
    "pos_nil.head(2)"
   ]
  },
  {
   "cell_type": "code",
   "execution_count": 89,
   "metadata": {},
   "outputs": [
    {
     "data": {
      "text/plain": [
       "(1000, 21)"
      ]
     },
     "execution_count": 89,
     "metadata": {},
     "output_type": "execute_result"
    }
   ],
   "source": [
    "neg_nil = pd.read_json('result/neg_news_topics.json', orient='records', lines=True)\n",
    "neg_nil.shape"
   ]
  },
  {
   "cell_type": "code",
   "execution_count": 90,
   "metadata": {},
   "outputs": [
    {
     "data": {
      "text/html": [
       "<div>\n",
       "<style scoped>\n",
       "    .dataframe tbody tr th:only-of-type {\n",
       "        vertical-align: middle;\n",
       "    }\n",
       "\n",
       "    .dataframe tbody tr th {\n",
       "        vertical-align: top;\n",
       "    }\n",
       "\n",
       "    .dataframe thead th {\n",
       "        text-align: right;\n",
       "    }\n",
       "</style>\n",
       "<table border=\"1\" class=\"dataframe\">\n",
       "  <thead>\n",
       "    <tr style=\"text-align: right;\">\n",
       "      <th></th>\n",
       "      <th>id</th>\n",
       "      <th>cleaned text</th>\n",
       "      <th>sentiment</th>\n",
       "      <th>digital transaction</th>\n",
       "      <th>healthcare</th>\n",
       "      <th>news platform</th>\n",
       "      <th>data analytics</th>\n",
       "      <th>insurance</th>\n",
       "      <th>investment</th>\n",
       "      <th>global market</th>\n",
       "      <th>autonomous car</th>\n",
       "      <th>customer experience</th>\n",
       "      <th>data science</th>\n",
       "      <th>cryptocurrency</th>\n",
       "      <th>camera</th>\n",
       "      <th>robot</th>\n",
       "      <th>chatgpt</th>\n",
       "      <th>image</th>\n",
       "      <th>voice</th>\n",
       "      <th>patient care</th>\n",
       "      <th>research</th>\n",
       "    </tr>\n",
       "  </thead>\n",
       "  <tbody>\n",
       "    <tr>\n",
       "      <th>0</th>\n",
       "      <td>5</td>\n",
       "      <td>Cr Bard Inc Has Returned 48.9 Since SmarTrend Recommendation BCR  SmarTrend identified an Uptrend for Cr Bard Inc :BCR on December 23rd, 2016 at 222.45.  In approximately 40 months, Cr Bard Inc has returned 48.91 as of todays recent price of 331.24.In the past 52 weeks, Cr Bard Inc share prices have been bracketed by a low of 0.00 and a high of 0.00 and are now at 331.24, 100 above that low price.  In the last five trading sessions, the 50day moving average MA has remained constant while the...</td>\n",
       "      <td>2</td>\n",
       "      <td>0.520370</td>\n",
       "      <td>0.112797</td>\n",
       "      <td>0.747345</td>\n",
       "      <td>0.642699</td>\n",
       "      <td>0.054052</td>\n",
       "      <td>0.187685</td>\n",
       "      <td>0.775824</td>\n",
       "      <td>0.039266</td>\n",
       "      <td>0.662619</td>\n",
       "      <td>0.514457</td>\n",
       "      <td>0.035682</td>\n",
       "      <td>0.179212</td>\n",
       "      <td>0.462046</td>\n",
       "      <td>0.876484</td>\n",
       "      <td>0.296175</td>\n",
       "      <td>0.683526</td>\n",
       "      <td>0.085167</td>\n",
       "      <td>0.555365</td>\n",
       "    </tr>\n",
       "    <tr>\n",
       "      <th>1</th>\n",
       "      <td>12</td>\n",
       "      <td>Conversational AI Marketplace Enlargement Possibilities, Regional Traits and Call for, Most sensible Avid gamers, Alternatives with Forecasts 2025  International Conversational AI marketplace 2020 analysis document is a solitary instrument that provides an indepth scrutiny of various Conversational AI marketplace insights, alternatives, collateral approaches and more than a few techniques of creating robust determinations. The Conversational AI marketplace CAGR charge would possibly building...</td>\n",
       "      <td>2</td>\n",
       "      <td>0.091209</td>\n",
       "      <td>0.003056</td>\n",
       "      <td>0.635477</td>\n",
       "      <td>0.033356</td>\n",
       "      <td>0.002520</td>\n",
       "      <td>0.009066</td>\n",
       "      <td>0.311910</td>\n",
       "      <td>0.001832</td>\n",
       "      <td>0.045789</td>\n",
       "      <td>0.136891</td>\n",
       "      <td>0.003965</td>\n",
       "      <td>0.007374</td>\n",
       "      <td>0.067747</td>\n",
       "      <td>0.995085</td>\n",
       "      <td>0.112712</td>\n",
       "      <td>0.330906</td>\n",
       "      <td>0.005189</td>\n",
       "      <td>0.981931</td>\n",
       "    </tr>\n",
       "  </tbody>\n",
       "</table>\n",
       "</div>"
      ],
      "text/plain": [
       "   id   \n",
       "0   5  \\\n",
       "1  12   \n",
       "\n",
       "                                                                                                                                                                                                                                                                                                                                                                                                                                                                                                          cleaned text   \n",
       "0  Cr Bard Inc Has Returned 48.9 Since SmarTrend Recommendation BCR  SmarTrend identified an Uptrend for Cr Bard Inc :BCR on December 23rd, 2016 at 222.45.  In approximately 40 months, Cr Bard Inc has returned 48.91 as of todays recent price of 331.24.In the past 52 weeks, Cr Bard Inc share prices have been bracketed by a low of 0.00 and a high of 0.00 and are now at 331.24, 100 above that low price.  In the last five trading sessions, the 50day moving average MA has remained constant while the...  \\\n",
       "1  Conversational AI Marketplace Enlargement Possibilities, Regional Traits and Call for, Most sensible Avid gamers, Alternatives with Forecasts 2025  International Conversational AI marketplace 2020 analysis document is a solitary instrument that provides an indepth scrutiny of various Conversational AI marketplace insights, alternatives, collateral approaches and more than a few techniques of creating robust determinations. The Conversational AI marketplace CAGR charge would possibly building...   \n",
       "\n",
       "   sentiment  digital transaction  healthcare  news platform  data analytics   \n",
       "0          2             0.520370    0.112797       0.747345        0.642699  \\\n",
       "1          2             0.091209    0.003056       0.635477        0.033356   \n",
       "\n",
       "   insurance  investment  global market  autonomous car  customer experience   \n",
       "0   0.054052    0.187685       0.775824        0.039266             0.662619  \\\n",
       "1   0.002520    0.009066       0.311910        0.001832             0.045789   \n",
       "\n",
       "   data science  cryptocurrency    camera     robot   chatgpt     image   \n",
       "0      0.514457        0.035682  0.179212  0.462046  0.876484  0.296175  \\\n",
       "1      0.136891        0.003965  0.007374  0.067747  0.995085  0.112712   \n",
       "\n",
       "      voice  patient care  research  \n",
       "0  0.683526      0.085167  0.555365  \n",
       "1  0.330906      0.005189  0.981931  "
      ]
     },
     "execution_count": 90,
     "metadata": {},
     "output_type": "execute_result"
    }
   ],
   "source": [
    "neg_nil.head(2)"
   ]
  },
  {
   "cell_type": "code",
   "execution_count": 91,
   "metadata": {},
   "outputs": [],
   "source": [
    "# set relevence threshold\n",
    "threshold = 0.85"
   ]
  },
  {
   "attachments": {},
   "cell_type": "markdown",
   "metadata": {},
   "source": [
    "### Positive Sentiment Article Topics"
   ]
  },
  {
   "cell_type": "code",
   "execution_count": 92,
   "metadata": {},
   "outputs": [
    {
     "data": {
      "text/plain": [
       "(880, 21)"
      ]
     },
     "execution_count": 92,
     "metadata": {},
     "output_type": "execute_result"
    }
   ],
   "source": [
    "# select the relevant topics for positive sentiment articles\n",
    "pos_nil_rel = pos_nil[(pos_nil['digital transaction'] > threshold) | (pos_nil['healthcare'] > threshold) | (pos_nil['news platform'] > threshold) | (pos_nil['data analytics'] > threshold) | (pos_nil['insurance'] > threshold) | (pos_nil['investment'] > threshold) | (pos_nil['global market'] > threshold) | (pos_nil['autonomous car'] > threshold) | (pos_nil['customer experience'] > threshold) | (pos_nil['data science'] > threshold) | (pos_nil['cryptocurrency'] > threshold) | (pos_nil['camera'] > threshold) | (pos_nil['robot'] > threshold) | (pos_nil['chatgpt'] > threshold) | (pos_nil['image'] > threshold) | (pos_nil['voice'] > threshold) | (pos_nil['patient care'] > threshold) | (pos_nil['research'] > threshold)].reset_index(drop=True)\n",
    "pos_nil_rel.shape"
   ]
  },
  {
   "cell_type": "code",
   "execution_count": 93,
   "metadata": {},
   "outputs": [
    {
     "data": {
      "text/html": [
       "<div>\n",
       "<style scoped>\n",
       "    .dataframe tbody tr th:only-of-type {\n",
       "        vertical-align: middle;\n",
       "    }\n",
       "\n",
       "    .dataframe tbody tr th {\n",
       "        vertical-align: top;\n",
       "    }\n",
       "\n",
       "    .dataframe thead th {\n",
       "        text-align: right;\n",
       "    }\n",
       "</style>\n",
       "<table border=\"1\" class=\"dataframe\">\n",
       "  <thead>\n",
       "    <tr style=\"text-align: right;\">\n",
       "      <th></th>\n",
       "      <th>id</th>\n",
       "      <th>cleaned text</th>\n",
       "      <th>sentiment</th>\n",
       "      <th>digital transaction</th>\n",
       "      <th>healthcare</th>\n",
       "      <th>news platform</th>\n",
       "      <th>data analytics</th>\n",
       "      <th>insurance</th>\n",
       "      <th>investment</th>\n",
       "      <th>global market</th>\n",
       "      <th>autonomous car</th>\n",
       "      <th>customer experience</th>\n",
       "      <th>data science</th>\n",
       "      <th>cryptocurrency</th>\n",
       "      <th>camera</th>\n",
       "      <th>robot</th>\n",
       "      <th>chatgpt</th>\n",
       "      <th>image</th>\n",
       "      <th>voice</th>\n",
       "      <th>patient care</th>\n",
       "      <th>research</th>\n",
       "    </tr>\n",
       "  </thead>\n",
       "  <tbody>\n",
       "    <tr>\n",
       "      <th>0</th>\n",
       "      <td>1</td>\n",
       "      <td>Children With Autism Saw Their Learning and Social Skills Boosted After Playing With This AI Robot admin  Latest posts by admin see all  Mansplaining in conferences: How can we get him to forestall  February 27, 2020 Coronavirus Could Explode in the U.S. Overnight Like it Did in Italy  February 27, 2020 Levi Strauss marks the next phase in corporate paid leave policies  February 27, 2020 Scientists who designed an artificially clever robotic that helped youngsters with autism spice up their ...</td>\n",
       "      <td>5</td>\n",
       "      <td>0</td>\n",
       "      <td>0</td>\n",
       "      <td>0</td>\n",
       "      <td>0</td>\n",
       "      <td>0</td>\n",
       "      <td>1</td>\n",
       "      <td>1</td>\n",
       "      <td>0</td>\n",
       "      <td>0</td>\n",
       "      <td>0</td>\n",
       "      <td>0</td>\n",
       "      <td>0</td>\n",
       "      <td>0</td>\n",
       "      <td>0</td>\n",
       "      <td>0</td>\n",
       "      <td>0</td>\n",
       "      <td>0</td>\n",
       "      <td>1</td>\n",
       "    </tr>\n",
       "    <tr>\n",
       "      <th>1</th>\n",
       "      <td>2</td>\n",
       "      <td>Forget ML, AI and Industry 4.0  obsolescence should be your focus The world entered a new era of accelerated transformation in the last eighteen months that will continue to evolve and press forward for years to come. Most businesses are playing catchup trying to make sense of a new timeline where the ten years that had been set aside for careful planning and implementation of what was coming up next no longer exists. The next is happening now and, regardless of your industry or seniority, t...</td>\n",
       "      <td>4</td>\n",
       "      <td>1</td>\n",
       "      <td>1</td>\n",
       "      <td>1</td>\n",
       "      <td>1</td>\n",
       "      <td>0</td>\n",
       "      <td>1</td>\n",
       "      <td>1</td>\n",
       "      <td>0</td>\n",
       "      <td>1</td>\n",
       "      <td>1</td>\n",
       "      <td>0</td>\n",
       "      <td>0</td>\n",
       "      <td>0</td>\n",
       "      <td>1</td>\n",
       "      <td>1</td>\n",
       "      <td>0</td>\n",
       "      <td>0</td>\n",
       "      <td>0</td>\n",
       "    </tr>\n",
       "  </tbody>\n",
       "</table>\n",
       "</div>"
      ],
      "text/plain": [
       "   id   \n",
       "0   1  \\\n",
       "1   2   \n",
       "\n",
       "                                                                                                                                                                                                                                                                                                                                                                                                                                                                                                          cleaned text   \n",
       "0  Children With Autism Saw Their Learning and Social Skills Boosted After Playing With This AI Robot admin  Latest posts by admin see all  Mansplaining in conferences: How can we get him to forestall  February 27, 2020 Coronavirus Could Explode in the U.S. Overnight Like it Did in Italy  February 27, 2020 Levi Strauss marks the next phase in corporate paid leave policies  February 27, 2020 Scientists who designed an artificially clever robotic that helped youngsters with autism spice up their ...  \\\n",
       "1  Forget ML, AI and Industry 4.0  obsolescence should be your focus The world entered a new era of accelerated transformation in the last eighteen months that will continue to evolve and press forward for years to come. Most businesses are playing catchup trying to make sense of a new timeline where the ten years that had been set aside for careful planning and implementation of what was coming up next no longer exists. The next is happening now and, regardless of your industry or seniority, t...   \n",
       "\n",
       "   sentiment  digital transaction  healthcare  news platform  data analytics   \n",
       "0          5                    0           0              0               0  \\\n",
       "1          4                    1           1              1               1   \n",
       "\n",
       "   insurance  investment  global market  autonomous car  customer experience   \n",
       "0          0           1              1               0                    0  \\\n",
       "1          0           1              1               0                    1   \n",
       "\n",
       "   data science  cryptocurrency  camera  robot  chatgpt  image  voice   \n",
       "0             0               0       0      0        0      0      0  \\\n",
       "1             1               0       0      0        1      1      0   \n",
       "\n",
       "   patient care  research  \n",
       "0             0         1  \n",
       "1             0         0  "
      ]
     },
     "execution_count": 93,
     "metadata": {},
     "output_type": "execute_result"
    }
   ],
   "source": [
    "# convert the relevence scores to binary by setting the threshold\n",
    "pos_nil_rel[candidate_labels] = pos_nil_rel[candidate_labels].applymap(lambda x: 1 if x > threshold else 0)\n",
    "pos_nil_rel.head(2)"
   ]
  },
  {
   "cell_type": "code",
   "execution_count": 94,
   "metadata": {},
   "outputs": [
    {
     "data": {
      "text/html": [
       "<div>\n",
       "<style scoped>\n",
       "    .dataframe tbody tr th:only-of-type {\n",
       "        vertical-align: middle;\n",
       "    }\n",
       "\n",
       "    .dataframe tbody tr th {\n",
       "        vertical-align: top;\n",
       "    }\n",
       "\n",
       "    .dataframe thead th {\n",
       "        text-align: right;\n",
       "    }\n",
       "</style>\n",
       "<table border=\"1\" class=\"dataframe\">\n",
       "  <thead>\n",
       "    <tr style=\"text-align: right;\">\n",
       "      <th></th>\n",
       "      <th>id</th>\n",
       "      <th>cleaned text</th>\n",
       "      <th>sentiment</th>\n",
       "      <th>digital transaction</th>\n",
       "      <th>healthcare</th>\n",
       "      <th>news platform</th>\n",
       "      <th>data analytics</th>\n",
       "      <th>insurance</th>\n",
       "      <th>investment</th>\n",
       "      <th>global market</th>\n",
       "      <th>autonomous car</th>\n",
       "      <th>customer experience</th>\n",
       "      <th>data science</th>\n",
       "      <th>cryptocurrency</th>\n",
       "      <th>camera</th>\n",
       "      <th>robot</th>\n",
       "      <th>chatgpt</th>\n",
       "      <th>image</th>\n",
       "      <th>voice</th>\n",
       "      <th>patient care</th>\n",
       "      <th>research</th>\n",
       "      <th>count</th>\n",
       "    </tr>\n",
       "  </thead>\n",
       "  <tbody>\n",
       "    <tr>\n",
       "      <th>0</th>\n",
       "      <td>1</td>\n",
       "      <td>Children With Autism Saw Their Learning and Social Skills Boosted After Playing With This AI Robot admin  Latest posts by admin see all  Mansplaining in conferences: How can we get him to forestall  February 27, 2020 Coronavirus Could Explode in the U.S. Overnight Like it Did in Italy  February 27, 2020 Levi Strauss marks the next phase in corporate paid leave policies  February 27, 2020 Scientists who designed an artificially clever robotic that helped youngsters with autism spice up their ...</td>\n",
       "      <td>5</td>\n",
       "      <td>0</td>\n",
       "      <td>0</td>\n",
       "      <td>0</td>\n",
       "      <td>0</td>\n",
       "      <td>0</td>\n",
       "      <td>1</td>\n",
       "      <td>1</td>\n",
       "      <td>0</td>\n",
       "      <td>0</td>\n",
       "      <td>0</td>\n",
       "      <td>0</td>\n",
       "      <td>0</td>\n",
       "      <td>0</td>\n",
       "      <td>0</td>\n",
       "      <td>0</td>\n",
       "      <td>0</td>\n",
       "      <td>0</td>\n",
       "      <td>1</td>\n",
       "      <td>3</td>\n",
       "    </tr>\n",
       "    <tr>\n",
       "      <th>1</th>\n",
       "      <td>2</td>\n",
       "      <td>Forget ML, AI and Industry 4.0  obsolescence should be your focus The world entered a new era of accelerated transformation in the last eighteen months that will continue to evolve and press forward for years to come. Most businesses are playing catchup trying to make sense of a new timeline where the ten years that had been set aside for careful planning and implementation of what was coming up next no longer exists. The next is happening now and, regardless of your industry or seniority, t...</td>\n",
       "      <td>4</td>\n",
       "      <td>1</td>\n",
       "      <td>1</td>\n",
       "      <td>1</td>\n",
       "      <td>1</td>\n",
       "      <td>0</td>\n",
       "      <td>1</td>\n",
       "      <td>1</td>\n",
       "      <td>0</td>\n",
       "      <td>1</td>\n",
       "      <td>1</td>\n",
       "      <td>0</td>\n",
       "      <td>0</td>\n",
       "      <td>0</td>\n",
       "      <td>1</td>\n",
       "      <td>1</td>\n",
       "      <td>0</td>\n",
       "      <td>0</td>\n",
       "      <td>0</td>\n",
       "      <td>10</td>\n",
       "    </tr>\n",
       "  </tbody>\n",
       "</table>\n",
       "</div>"
      ],
      "text/plain": [
       "   id   \n",
       "0   1  \\\n",
       "1   2   \n",
       "\n",
       "                                                                                                                                                                                                                                                                                                                                                                                                                                                                                                          cleaned text   \n",
       "0  Children With Autism Saw Their Learning and Social Skills Boosted After Playing With This AI Robot admin  Latest posts by admin see all  Mansplaining in conferences: How can we get him to forestall  February 27, 2020 Coronavirus Could Explode in the U.S. Overnight Like it Did in Italy  February 27, 2020 Levi Strauss marks the next phase in corporate paid leave policies  February 27, 2020 Scientists who designed an artificially clever robotic that helped youngsters with autism spice up their ...  \\\n",
       "1  Forget ML, AI and Industry 4.0  obsolescence should be your focus The world entered a new era of accelerated transformation in the last eighteen months that will continue to evolve and press forward for years to come. Most businesses are playing catchup trying to make sense of a new timeline where the ten years that had been set aside for careful planning and implementation of what was coming up next no longer exists. The next is happening now and, regardless of your industry or seniority, t...   \n",
       "\n",
       "   sentiment  digital transaction  healthcare  news platform  data analytics   \n",
       "0          5                    0           0              0               0  \\\n",
       "1          4                    1           1              1               1   \n",
       "\n",
       "   insurance  investment  global market  autonomous car  customer experience   \n",
       "0          0           1              1               0                    0  \\\n",
       "1          0           1              1               0                    1   \n",
       "\n",
       "   data science  cryptocurrency  camera  robot  chatgpt  image  voice   \n",
       "0             0               0       0      0        0      0      0  \\\n",
       "1             1               0       0      0        1      1      0   \n",
       "\n",
       "   patient care  research  count  \n",
       "0             0         1      3  \n",
       "1             0         0     10  "
      ]
     },
     "execution_count": 94,
     "metadata": {},
     "output_type": "execute_result"
    }
   ],
   "source": [
    "# sum the binary values to get the count of relevant topics\n",
    "pos_nil_rel['count'] = pos_nil_rel[candidate_labels].sum(axis=1)\n",
    "pos_nil_rel.head(2)"
   ]
  },
  {
   "cell_type": "code",
   "execution_count": 95,
   "metadata": {},
   "outputs": [
    {
     "data": {
      "text/html": [
       "<div>\n",
       "<style scoped>\n",
       "    .dataframe tbody tr th:only-of-type {\n",
       "        vertical-align: middle;\n",
       "    }\n",
       "\n",
       "    .dataframe tbody tr th {\n",
       "        vertical-align: top;\n",
       "    }\n",
       "\n",
       "    .dataframe thead th {\n",
       "        text-align: right;\n",
       "    }\n",
       "</style>\n",
       "<table border=\"1\" class=\"dataframe\">\n",
       "  <thead>\n",
       "    <tr style=\"text-align: right;\">\n",
       "      <th></th>\n",
       "      <th>topic</th>\n",
       "      <th>count</th>\n",
       "    </tr>\n",
       "  </thead>\n",
       "  <tbody>\n",
       "    <tr>\n",
       "      <th>0</th>\n",
       "      <td>digital transaction</td>\n",
       "      <td>122</td>\n",
       "    </tr>\n",
       "    <tr>\n",
       "      <th>1</th>\n",
       "      <td>healthcare</td>\n",
       "      <td>131</td>\n",
       "    </tr>\n",
       "    <tr>\n",
       "      <th>2</th>\n",
       "      <td>news platform</td>\n",
       "      <td>507</td>\n",
       "    </tr>\n",
       "    <tr>\n",
       "      <th>3</th>\n",
       "      <td>data analytics</td>\n",
       "      <td>315</td>\n",
       "    </tr>\n",
       "    <tr>\n",
       "      <th>4</th>\n",
       "      <td>insurance</td>\n",
       "      <td>10</td>\n",
       "    </tr>\n",
       "    <tr>\n",
       "      <th>5</th>\n",
       "      <td>investment</td>\n",
       "      <td>226</td>\n",
       "    </tr>\n",
       "    <tr>\n",
       "      <th>6</th>\n",
       "      <td>global market</td>\n",
       "      <td>391</td>\n",
       "    </tr>\n",
       "    <tr>\n",
       "      <th>7</th>\n",
       "      <td>autonomous car</td>\n",
       "      <td>15</td>\n",
       "    </tr>\n",
       "    <tr>\n",
       "      <th>8</th>\n",
       "      <td>customer experience</td>\n",
       "      <td>355</td>\n",
       "    </tr>\n",
       "    <tr>\n",
       "      <th>9</th>\n",
       "      <td>data science</td>\n",
       "      <td>288</td>\n",
       "    </tr>\n",
       "    <tr>\n",
       "      <th>10</th>\n",
       "      <td>cryptocurrency</td>\n",
       "      <td>9</td>\n",
       "    </tr>\n",
       "    <tr>\n",
       "      <th>11</th>\n",
       "      <td>camera</td>\n",
       "      <td>22</td>\n",
       "    </tr>\n",
       "    <tr>\n",
       "      <th>12</th>\n",
       "      <td>robot</td>\n",
       "      <td>32</td>\n",
       "    </tr>\n",
       "    <tr>\n",
       "      <th>13</th>\n",
       "      <td>chatgpt</td>\n",
       "      <td>275</td>\n",
       "    </tr>\n",
       "    <tr>\n",
       "      <th>14</th>\n",
       "      <td>image</td>\n",
       "      <td>247</td>\n",
       "    </tr>\n",
       "    <tr>\n",
       "      <th>15</th>\n",
       "      <td>voice</td>\n",
       "      <td>80</td>\n",
       "    </tr>\n",
       "    <tr>\n",
       "      <th>16</th>\n",
       "      <td>patient care</td>\n",
       "      <td>94</td>\n",
       "    </tr>\n",
       "    <tr>\n",
       "      <th>17</th>\n",
       "      <td>research</td>\n",
       "      <td>378</td>\n",
       "    </tr>\n",
       "  </tbody>\n",
       "</table>\n",
       "</div>"
      ],
      "text/plain": [
       "                  topic  count\n",
       "0   digital transaction    122\n",
       "1            healthcare    131\n",
       "2         news platform    507\n",
       "3        data analytics    315\n",
       "4             insurance     10\n",
       "5            investment    226\n",
       "6         global market    391\n",
       "7        autonomous car     15\n",
       "8   customer experience    355\n",
       "9          data science    288\n",
       "10       cryptocurrency      9\n",
       "11               camera     22\n",
       "12                robot     32\n",
       "13              chatgpt    275\n",
       "14                image    247\n",
       "15                voice     80\n",
       "16         patient care     94\n",
       "17             research    378"
      ]
     },
     "execution_count": 95,
     "metadata": {},
     "output_type": "execute_result"
    }
   ],
   "source": [
    "pos_topic_freq = pd.DataFrame(pos_nil_rel[candidate_labels].sum(axis=0)).reset_index()\n",
    "pos_topic_freq.columns = ['topic', 'count']\n",
    "pos_topic_freq"
   ]
  },
  {
   "cell_type": "code",
   "execution_count": 96,
   "metadata": {},
   "outputs": [
    {
     "data": {
      "text/html": [
       "<div>\n",
       "<style scoped>\n",
       "    .dataframe tbody tr th:only-of-type {\n",
       "        vertical-align: middle;\n",
       "    }\n",
       "\n",
       "    .dataframe tbody tr th {\n",
       "        vertical-align: top;\n",
       "    }\n",
       "\n",
       "    .dataframe thead th {\n",
       "        text-align: right;\n",
       "    }\n",
       "</style>\n",
       "<table border=\"1\" class=\"dataframe\">\n",
       "  <thead>\n",
       "    <tr style=\"text-align: right;\">\n",
       "      <th></th>\n",
       "      <th>topic</th>\n",
       "      <th>count</th>\n",
       "      <th>percentage</th>\n",
       "    </tr>\n",
       "  </thead>\n",
       "  <tbody>\n",
       "    <tr>\n",
       "      <th>0</th>\n",
       "      <td>digital transaction</td>\n",
       "      <td>122</td>\n",
       "      <td>13.86</td>\n",
       "    </tr>\n",
       "    <tr>\n",
       "      <th>1</th>\n",
       "      <td>healthcare</td>\n",
       "      <td>131</td>\n",
       "      <td>14.89</td>\n",
       "    </tr>\n",
       "    <tr>\n",
       "      <th>2</th>\n",
       "      <td>news platform</td>\n",
       "      <td>507</td>\n",
       "      <td>57.61</td>\n",
       "    </tr>\n",
       "    <tr>\n",
       "      <th>3</th>\n",
       "      <td>data analytics</td>\n",
       "      <td>315</td>\n",
       "      <td>35.80</td>\n",
       "    </tr>\n",
       "    <tr>\n",
       "      <th>4</th>\n",
       "      <td>insurance</td>\n",
       "      <td>10</td>\n",
       "      <td>1.14</td>\n",
       "    </tr>\n",
       "    <tr>\n",
       "      <th>5</th>\n",
       "      <td>investment</td>\n",
       "      <td>226</td>\n",
       "      <td>25.68</td>\n",
       "    </tr>\n",
       "    <tr>\n",
       "      <th>6</th>\n",
       "      <td>global market</td>\n",
       "      <td>391</td>\n",
       "      <td>44.43</td>\n",
       "    </tr>\n",
       "    <tr>\n",
       "      <th>7</th>\n",
       "      <td>autonomous car</td>\n",
       "      <td>15</td>\n",
       "      <td>1.70</td>\n",
       "    </tr>\n",
       "    <tr>\n",
       "      <th>8</th>\n",
       "      <td>customer experience</td>\n",
       "      <td>355</td>\n",
       "      <td>40.34</td>\n",
       "    </tr>\n",
       "    <tr>\n",
       "      <th>9</th>\n",
       "      <td>data science</td>\n",
       "      <td>288</td>\n",
       "      <td>32.73</td>\n",
       "    </tr>\n",
       "    <tr>\n",
       "      <th>10</th>\n",
       "      <td>cryptocurrency</td>\n",
       "      <td>9</td>\n",
       "      <td>1.02</td>\n",
       "    </tr>\n",
       "    <tr>\n",
       "      <th>11</th>\n",
       "      <td>camera</td>\n",
       "      <td>22</td>\n",
       "      <td>2.50</td>\n",
       "    </tr>\n",
       "    <tr>\n",
       "      <th>12</th>\n",
       "      <td>robot</td>\n",
       "      <td>32</td>\n",
       "      <td>3.64</td>\n",
       "    </tr>\n",
       "    <tr>\n",
       "      <th>13</th>\n",
       "      <td>chatgpt</td>\n",
       "      <td>275</td>\n",
       "      <td>31.25</td>\n",
       "    </tr>\n",
       "    <tr>\n",
       "      <th>14</th>\n",
       "      <td>image</td>\n",
       "      <td>247</td>\n",
       "      <td>28.07</td>\n",
       "    </tr>\n",
       "    <tr>\n",
       "      <th>15</th>\n",
       "      <td>voice</td>\n",
       "      <td>80</td>\n",
       "      <td>9.09</td>\n",
       "    </tr>\n",
       "    <tr>\n",
       "      <th>16</th>\n",
       "      <td>patient care</td>\n",
       "      <td>94</td>\n",
       "      <td>10.68</td>\n",
       "    </tr>\n",
       "    <tr>\n",
       "      <th>17</th>\n",
       "      <td>research</td>\n",
       "      <td>378</td>\n",
       "      <td>42.95</td>\n",
       "    </tr>\n",
       "  </tbody>\n",
       "</table>\n",
       "</div>"
      ],
      "text/plain": [
       "                  topic  count  percentage\n",
       "0   digital transaction    122       13.86\n",
       "1            healthcare    131       14.89\n",
       "2         news platform    507       57.61\n",
       "3        data analytics    315       35.80\n",
       "4             insurance     10        1.14\n",
       "5            investment    226       25.68\n",
       "6         global market    391       44.43\n",
       "7        autonomous car     15        1.70\n",
       "8   customer experience    355       40.34\n",
       "9          data science    288       32.73\n",
       "10       cryptocurrency      9        1.02\n",
       "11               camera     22        2.50\n",
       "12                robot     32        3.64\n",
       "13              chatgpt    275       31.25\n",
       "14                image    247       28.07\n",
       "15                voice     80        9.09\n",
       "16         patient care     94       10.68\n",
       "17             research    378       42.95"
      ]
     },
     "execution_count": 96,
     "metadata": {},
     "output_type": "execute_result"
    }
   ],
   "source": [
    "# convert frequency to percentage\n",
    "pos_topic_freq['percentage'] = round(pos_topic_freq['count'] / pos_nil_rel.shape[0] * 100, 2)\n",
    "pos_topic_freq"
   ]
  },
  {
   "cell_type": "code",
   "execution_count": 97,
   "metadata": {},
   "outputs": [
    {
     "data": {
      "image/png": "[encoded data removed]",
      "text/plain": [
       "<Figure size 800x600 with 1 Axes>"
      ]
     },
     "metadata": {},
     "output_type": "display_data"
    }
   ],
   "source": [
    "# make a vertical bar plot of the topic frequency pct and sort by count\n",
    "plt.figure(figsize=(8, 6))\n",
    "sns.barplot(x='percentage', y='topic', data=pos_topic_freq.sort_values(by='percentage', ascending=False))\n",
    "plt.title('Topic Frequency Percentage for Positive Sentiment Articles')\n",
    "plt.xlabel('Percentage (%)')\n",
    "plt.ylabel('Topic')\n",
    "plt.show()"
   ]
  },
  {
   "attachments": {},
   "cell_type": "markdown",
   "metadata": {},
   "source": [
    "### Negative Sentiment Article Topics"
   ]
  },
  {
   "cell_type": "code",
   "execution_count": 98,
   "metadata": {},
   "outputs": [
    {
     "data": {
      "text/plain": [
       "(808, 21)"
      ]
     },
     "execution_count": 98,
     "metadata": {},
     "output_type": "execute_result"
    }
   ],
   "source": [
    "# select the relevant topics for negative sentiment articles\n",
    "neg_nil_rel = neg_nil[(neg_nil['digital transaction'] > threshold) | (neg_nil['healthcare'] > threshold) | (neg_nil['news platform'] > threshold) | (neg_nil['data analytics'] > threshold) | (neg_nil['insurance'] > threshold) | (neg_nil['investment'] > threshold) | (neg_nil['global market'] > threshold) | (neg_nil['autonomous car'] > threshold) | (neg_nil['customer experience'] > threshold) | (neg_nil['data science'] > threshold) | (neg_nil['cryptocurrency'] > threshold) | (neg_nil['camera'] > threshold) | (neg_nil['robot'] > threshold) | (neg_nil['chatgpt'] > threshold) | (neg_nil['image'] > threshold) | (neg_nil['voice'] > threshold) | (neg_nil['patient care'] > threshold) | (neg_nil['research'] > threshold)].reset_index(drop=True)\n",
    "neg_nil_rel.shape"
   ]
  },
  {
   "cell_type": "code",
   "execution_count": 99,
   "metadata": {},
   "outputs": [
    {
     "data": {
      "text/html": [
       "<div>\n",
       "<style scoped>\n",
       "    .dataframe tbody tr th:only-of-type {\n",
       "        vertical-align: middle;\n",
       "    }\n",
       "\n",
       "    .dataframe tbody tr th {\n",
       "        vertical-align: top;\n",
       "    }\n",
       "\n",
       "    .dataframe thead th {\n",
       "        text-align: right;\n",
       "    }\n",
       "</style>\n",
       "<table border=\"1\" class=\"dataframe\">\n",
       "  <thead>\n",
       "    <tr style=\"text-align: right;\">\n",
       "      <th></th>\n",
       "      <th>id</th>\n",
       "      <th>cleaned text</th>\n",
       "      <th>sentiment</th>\n",
       "      <th>digital transaction</th>\n",
       "      <th>healthcare</th>\n",
       "      <th>news platform</th>\n",
       "      <th>data analytics</th>\n",
       "      <th>insurance</th>\n",
       "      <th>investment</th>\n",
       "      <th>global market</th>\n",
       "      <th>autonomous car</th>\n",
       "      <th>customer experience</th>\n",
       "      <th>data science</th>\n",
       "      <th>cryptocurrency</th>\n",
       "      <th>camera</th>\n",
       "      <th>robot</th>\n",
       "      <th>chatgpt</th>\n",
       "      <th>image</th>\n",
       "      <th>voice</th>\n",
       "      <th>patient care</th>\n",
       "      <th>research</th>\n",
       "    </tr>\n",
       "  </thead>\n",
       "  <tbody>\n",
       "    <tr>\n",
       "      <th>0</th>\n",
       "      <td>5</td>\n",
       "      <td>Cr Bard Inc Has Returned 48.9 Since SmarTrend Recommendation BCR  SmarTrend identified an Uptrend for Cr Bard Inc :BCR on December 23rd, 2016 at 222.45.  In approximately 40 months, Cr Bard Inc has returned 48.91 as of todays recent price of 331.24.In the past 52 weeks, Cr Bard Inc share prices have been bracketed by a low of 0.00 and a high of 0.00 and are now at 331.24, 100 above that low price.  In the last five trading sessions, the 50day moving average MA has remained constant while the...</td>\n",
       "      <td>2</td>\n",
       "      <td>0</td>\n",
       "      <td>0</td>\n",
       "      <td>0</td>\n",
       "      <td>0</td>\n",
       "      <td>0</td>\n",
       "      <td>0</td>\n",
       "      <td>0</td>\n",
       "      <td>0</td>\n",
       "      <td>0</td>\n",
       "      <td>0</td>\n",
       "      <td>0</td>\n",
       "      <td>0</td>\n",
       "      <td>0</td>\n",
       "      <td>1</td>\n",
       "      <td>0</td>\n",
       "      <td>0</td>\n",
       "      <td>0</td>\n",
       "      <td>0</td>\n",
       "    </tr>\n",
       "    <tr>\n",
       "      <th>1</th>\n",
       "      <td>12</td>\n",
       "      <td>Conversational AI Marketplace Enlargement Possibilities, Regional Traits and Call for, Most sensible Avid gamers, Alternatives with Forecasts 2025  International Conversational AI marketplace 2020 analysis document is a solitary instrument that provides an indepth scrutiny of various Conversational AI marketplace insights, alternatives, collateral approaches and more than a few techniques of creating robust determinations. The Conversational AI marketplace CAGR charge would possibly building...</td>\n",
       "      <td>2</td>\n",
       "      <td>0</td>\n",
       "      <td>0</td>\n",
       "      <td>0</td>\n",
       "      <td>0</td>\n",
       "      <td>0</td>\n",
       "      <td>0</td>\n",
       "      <td>0</td>\n",
       "      <td>0</td>\n",
       "      <td>0</td>\n",
       "      <td>0</td>\n",
       "      <td>0</td>\n",
       "      <td>0</td>\n",
       "      <td>0</td>\n",
       "      <td>1</td>\n",
       "      <td>0</td>\n",
       "      <td>0</td>\n",
       "      <td>0</td>\n",
       "      <td>1</td>\n",
       "    </tr>\n",
       "  </tbody>\n",
       "</table>\n",
       "</div>"
      ],
      "text/plain": [
       "   id   \n",
       "0   5  \\\n",
       "1  12   \n",
       "\n",
       "                                                                                                                                                                                                                                                                                                                                                                                                                                                                                                          cleaned text   \n",
       "0  Cr Bard Inc Has Returned 48.9 Since SmarTrend Recommendation BCR  SmarTrend identified an Uptrend for Cr Bard Inc :BCR on December 23rd, 2016 at 222.45.  In approximately 40 months, Cr Bard Inc has returned 48.91 as of todays recent price of 331.24.In the past 52 weeks, Cr Bard Inc share prices have been bracketed by a low of 0.00 and a high of 0.00 and are now at 331.24, 100 above that low price.  In the last five trading sessions, the 50day moving average MA has remained constant while the...  \\\n",
       "1  Conversational AI Marketplace Enlargement Possibilities, Regional Traits and Call for, Most sensible Avid gamers, Alternatives with Forecasts 2025  International Conversational AI marketplace 2020 analysis document is a solitary instrument that provides an indepth scrutiny of various Conversational AI marketplace insights, alternatives, collateral approaches and more than a few techniques of creating robust determinations. The Conversational AI marketplace CAGR charge would possibly building...   \n",
       "\n",
       "   sentiment  digital transaction  healthcare  news platform  data analytics   \n",
       "0          2                    0           0              0               0  \\\n",
       "1          2                    0           0              0               0   \n",
       "\n",
       "   insurance  investment  global market  autonomous car  customer experience   \n",
       "0          0           0              0               0                    0  \\\n",
       "1          0           0              0               0                    0   \n",
       "\n",
       "   data science  cryptocurrency  camera  robot  chatgpt  image  voice   \n",
       "0             0               0       0      0        1      0      0  \\\n",
       "1             0               0       0      0        1      0      0   \n",
       "\n",
       "   patient care  research  \n",
       "0             0         0  \n",
       "1             0         1  "
      ]
     },
     "execution_count": 99,
     "metadata": {},
     "output_type": "execute_result"
    }
   ],
   "source": [
    "# convert the relevence scores to binary by setting the threshold\n",
    "neg_nil_rel[candidate_labels] = neg_nil_rel[candidate_labels].applymap(lambda x: 1 if x > threshold else 0)\n",
    "neg_nil_rel.head(2)"
   ]
  },
  {
   "cell_type": "code",
   "execution_count": 100,
   "metadata": {},
   "outputs": [
    {
     "data": {
      "text/html": [
       "<div>\n",
       "<style scoped>\n",
       "    .dataframe tbody tr th:only-of-type {\n",
       "        vertical-align: middle;\n",
       "    }\n",
       "\n",
       "    .dataframe tbody tr th {\n",
       "        vertical-align: top;\n",
       "    }\n",
       "\n",
       "    .dataframe thead th {\n",
       "        text-align: right;\n",
       "    }\n",
       "</style>\n",
       "<table border=\"1\" class=\"dataframe\">\n",
       "  <thead>\n",
       "    <tr style=\"text-align: right;\">\n",
       "      <th></th>\n",
       "      <th>id</th>\n",
       "      <th>cleaned text</th>\n",
       "      <th>sentiment</th>\n",
       "      <th>digital transaction</th>\n",
       "      <th>healthcare</th>\n",
       "      <th>news platform</th>\n",
       "      <th>data analytics</th>\n",
       "      <th>insurance</th>\n",
       "      <th>investment</th>\n",
       "      <th>global market</th>\n",
       "      <th>autonomous car</th>\n",
       "      <th>customer experience</th>\n",
       "      <th>data science</th>\n",
       "      <th>cryptocurrency</th>\n",
       "      <th>camera</th>\n",
       "      <th>robot</th>\n",
       "      <th>chatgpt</th>\n",
       "      <th>image</th>\n",
       "      <th>voice</th>\n",
       "      <th>patient care</th>\n",
       "      <th>research</th>\n",
       "      <th>count</th>\n",
       "    </tr>\n",
       "  </thead>\n",
       "  <tbody>\n",
       "    <tr>\n",
       "      <th>0</th>\n",
       "      <td>5</td>\n",
       "      <td>Cr Bard Inc Has Returned 48.9 Since SmarTrend Recommendation BCR  SmarTrend identified an Uptrend for Cr Bard Inc :BCR on December 23rd, 2016 at 222.45.  In approximately 40 months, Cr Bard Inc has returned 48.91 as of todays recent price of 331.24.In the past 52 weeks, Cr Bard Inc share prices have been bracketed by a low of 0.00 and a high of 0.00 and are now at 331.24, 100 above that low price.  In the last five trading sessions, the 50day moving average MA has remained constant while the...</td>\n",
       "      <td>2</td>\n",
       "      <td>0</td>\n",
       "      <td>0</td>\n",
       "      <td>0</td>\n",
       "      <td>0</td>\n",
       "      <td>0</td>\n",
       "      <td>0</td>\n",
       "      <td>0</td>\n",
       "      <td>0</td>\n",
       "      <td>0</td>\n",
       "      <td>0</td>\n",
       "      <td>0</td>\n",
       "      <td>0</td>\n",
       "      <td>0</td>\n",
       "      <td>1</td>\n",
       "      <td>0</td>\n",
       "      <td>0</td>\n",
       "      <td>0</td>\n",
       "      <td>0</td>\n",
       "      <td>1</td>\n",
       "    </tr>\n",
       "    <tr>\n",
       "      <th>1</th>\n",
       "      <td>12</td>\n",
       "      <td>Conversational AI Marketplace Enlargement Possibilities, Regional Traits and Call for, Most sensible Avid gamers, Alternatives with Forecasts 2025  International Conversational AI marketplace 2020 analysis document is a solitary instrument that provides an indepth scrutiny of various Conversational AI marketplace insights, alternatives, collateral approaches and more than a few techniques of creating robust determinations. The Conversational AI marketplace CAGR charge would possibly building...</td>\n",
       "      <td>2</td>\n",
       "      <td>0</td>\n",
       "      <td>0</td>\n",
       "      <td>0</td>\n",
       "      <td>0</td>\n",
       "      <td>0</td>\n",
       "      <td>0</td>\n",
       "      <td>0</td>\n",
       "      <td>0</td>\n",
       "      <td>0</td>\n",
       "      <td>0</td>\n",
       "      <td>0</td>\n",
       "      <td>0</td>\n",
       "      <td>0</td>\n",
       "      <td>1</td>\n",
       "      <td>0</td>\n",
       "      <td>0</td>\n",
       "      <td>0</td>\n",
       "      <td>1</td>\n",
       "      <td>2</td>\n",
       "    </tr>\n",
       "  </tbody>\n",
       "</table>\n",
       "</div>"
      ],
      "text/plain": [
       "   id   \n",
       "0   5  \\\n",
       "1  12   \n",
       "\n",
       "                                                                                                                                                                                                                                                                                                                                                                                                                                                                                                          cleaned text   \n",
       "0  Cr Bard Inc Has Returned 48.9 Since SmarTrend Recommendation BCR  SmarTrend identified an Uptrend for Cr Bard Inc :BCR on December 23rd, 2016 at 222.45.  In approximately 40 months, Cr Bard Inc has returned 48.91 as of todays recent price of 331.24.In the past 52 weeks, Cr Bard Inc share prices have been bracketed by a low of 0.00 and a high of 0.00 and are now at 331.24, 100 above that low price.  In the last five trading sessions, the 50day moving average MA has remained constant while the...  \\\n",
       "1  Conversational AI Marketplace Enlargement Possibilities, Regional Traits and Call for, Most sensible Avid gamers, Alternatives with Forecasts 2025  International Conversational AI marketplace 2020 analysis document is a solitary instrument that provides an indepth scrutiny of various Conversational AI marketplace insights, alternatives, collateral approaches and more than a few techniques of creating robust determinations. The Conversational AI marketplace CAGR charge would possibly building...   \n",
       "\n",
       "   sentiment  digital transaction  healthcare  news platform  data analytics   \n",
       "0          2                    0           0              0               0  \\\n",
       "1          2                    0           0              0               0   \n",
       "\n",
       "   insurance  investment  global market  autonomous car  customer experience   \n",
       "0          0           0              0               0                    0  \\\n",
       "1          0           0              0               0                    0   \n",
       "\n",
       "   data science  cryptocurrency  camera  robot  chatgpt  image  voice   \n",
       "0             0               0       0      0        1      0      0  \\\n",
       "1             0               0       0      0        1      0      0   \n",
       "\n",
       "   patient care  research  count  \n",
       "0             0         0      1  \n",
       "1             0         1      2  "
      ]
     },
     "execution_count": 100,
     "metadata": {},
     "output_type": "execute_result"
    }
   ],
   "source": [
    "# sum the binary values to get the count of relevant topics\n",
    "neg_nil_rel['count'] = neg_nil_rel[candidate_labels].sum(axis=1)\n",
    "neg_nil_rel.head(2)"
   ]
  },
  {
   "cell_type": "code",
   "execution_count": 101,
   "metadata": {},
   "outputs": [
    {
     "data": {
      "text/html": [
       "<div>\n",
       "<style scoped>\n",
       "    .dataframe tbody tr th:only-of-type {\n",
       "        vertical-align: middle;\n",
       "    }\n",
       "\n",
       "    .dataframe tbody tr th {\n",
       "        vertical-align: top;\n",
       "    }\n",
       "\n",
       "    .dataframe thead th {\n",
       "        text-align: right;\n",
       "    }\n",
       "</style>\n",
       "<table border=\"1\" class=\"dataframe\">\n",
       "  <thead>\n",
       "    <tr style=\"text-align: right;\">\n",
       "      <th></th>\n",
       "      <th>topic</th>\n",
       "      <th>count</th>\n",
       "    </tr>\n",
       "  </thead>\n",
       "  <tbody>\n",
       "    <tr>\n",
       "      <th>0</th>\n",
       "      <td>digital transaction</td>\n",
       "      <td>93</td>\n",
       "    </tr>\n",
       "    <tr>\n",
       "      <th>1</th>\n",
       "      <td>healthcare</td>\n",
       "      <td>77</td>\n",
       "    </tr>\n",
       "    <tr>\n",
       "      <th>2</th>\n",
       "      <td>news platform</td>\n",
       "      <td>463</td>\n",
       "    </tr>\n",
       "    <tr>\n",
       "      <th>3</th>\n",
       "      <td>data analytics</td>\n",
       "      <td>163</td>\n",
       "    </tr>\n",
       "    <tr>\n",
       "      <th>4</th>\n",
       "      <td>insurance</td>\n",
       "      <td>23</td>\n",
       "    </tr>\n",
       "    <tr>\n",
       "      <th>5</th>\n",
       "      <td>investment</td>\n",
       "      <td>210</td>\n",
       "    </tr>\n",
       "    <tr>\n",
       "      <th>6</th>\n",
       "      <td>global market</td>\n",
       "      <td>198</td>\n",
       "    </tr>\n",
       "    <tr>\n",
       "      <th>7</th>\n",
       "      <td>autonomous car</td>\n",
       "      <td>32</td>\n",
       "    </tr>\n",
       "    <tr>\n",
       "      <th>8</th>\n",
       "      <td>customer experience</td>\n",
       "      <td>202</td>\n",
       "    </tr>\n",
       "    <tr>\n",
       "      <th>9</th>\n",
       "      <td>data science</td>\n",
       "      <td>149</td>\n",
       "    </tr>\n",
       "    <tr>\n",
       "      <th>10</th>\n",
       "      <td>cryptocurrency</td>\n",
       "      <td>8</td>\n",
       "    </tr>\n",
       "    <tr>\n",
       "      <th>11</th>\n",
       "      <td>camera</td>\n",
       "      <td>14</td>\n",
       "    </tr>\n",
       "    <tr>\n",
       "      <th>12</th>\n",
       "      <td>robot</td>\n",
       "      <td>58</td>\n",
       "    </tr>\n",
       "    <tr>\n",
       "      <th>13</th>\n",
       "      <td>chatgpt</td>\n",
       "      <td>380</td>\n",
       "    </tr>\n",
       "    <tr>\n",
       "      <th>14</th>\n",
       "      <td>image</td>\n",
       "      <td>319</td>\n",
       "    </tr>\n",
       "    <tr>\n",
       "      <th>15</th>\n",
       "      <td>voice</td>\n",
       "      <td>141</td>\n",
       "    </tr>\n",
       "    <tr>\n",
       "      <th>16</th>\n",
       "      <td>patient care</td>\n",
       "      <td>45</td>\n",
       "    </tr>\n",
       "    <tr>\n",
       "      <th>17</th>\n",
       "      <td>research</td>\n",
       "      <td>334</td>\n",
       "    </tr>\n",
       "  </tbody>\n",
       "</table>\n",
       "</div>"
      ],
      "text/plain": [
       "                  topic  count\n",
       "0   digital transaction     93\n",
       "1            healthcare     77\n",
       "2         news platform    463\n",
       "3        data analytics    163\n",
       "4             insurance     23\n",
       "5            investment    210\n",
       "6         global market    198\n",
       "7        autonomous car     32\n",
       "8   customer experience    202\n",
       "9          data science    149\n",
       "10       cryptocurrency      8\n",
       "11               camera     14\n",
       "12                robot     58\n",
       "13              chatgpt    380\n",
       "14                image    319\n",
       "15                voice    141\n",
       "16         patient care     45\n",
       "17             research    334"
      ]
     },
     "execution_count": 101,
     "metadata": {},
     "output_type": "execute_result"
    }
   ],
   "source": [
    "neg_topic_freq = pd.DataFrame(neg_nil_rel[candidate_labels].sum(axis=0)).reset_index()\n",
    "neg_topic_freq.columns = ['topic', 'count']\n",
    "neg_topic_freq"
   ]
  },
  {
   "cell_type": "code",
   "execution_count": 102,
   "metadata": {},
   "outputs": [
    {
     "data": {
      "text/html": [
       "<div>\n",
       "<style scoped>\n",
       "    .dataframe tbody tr th:only-of-type {\n",
       "        vertical-align: middle;\n",
       "    }\n",
       "\n",
       "    .dataframe tbody tr th {\n",
       "        vertical-align: top;\n",
       "    }\n",
       "\n",
       "    .dataframe thead th {\n",
       "        text-align: right;\n",
       "    }\n",
       "</style>\n",
       "<table border=\"1\" class=\"dataframe\">\n",
       "  <thead>\n",
       "    <tr style=\"text-align: right;\">\n",
       "      <th></th>\n",
       "      <th>topic</th>\n",
       "      <th>count</th>\n",
       "      <th>percentage</th>\n",
       "    </tr>\n",
       "  </thead>\n",
       "  <tbody>\n",
       "    <tr>\n",
       "      <th>0</th>\n",
       "      <td>digital transaction</td>\n",
       "      <td>93</td>\n",
       "      <td>11.51</td>\n",
       "    </tr>\n",
       "    <tr>\n",
       "      <th>1</th>\n",
       "      <td>healthcare</td>\n",
       "      <td>77</td>\n",
       "      <td>9.53</td>\n",
       "    </tr>\n",
       "    <tr>\n",
       "      <th>2</th>\n",
       "      <td>news platform</td>\n",
       "      <td>463</td>\n",
       "      <td>57.30</td>\n",
       "    </tr>\n",
       "    <tr>\n",
       "      <th>3</th>\n",
       "      <td>data analytics</td>\n",
       "      <td>163</td>\n",
       "      <td>20.17</td>\n",
       "    </tr>\n",
       "    <tr>\n",
       "      <th>4</th>\n",
       "      <td>insurance</td>\n",
       "      <td>23</td>\n",
       "      <td>2.85</td>\n",
       "    </tr>\n",
       "    <tr>\n",
       "      <th>5</th>\n",
       "      <td>investment</td>\n",
       "      <td>210</td>\n",
       "      <td>25.99</td>\n",
       "    </tr>\n",
       "    <tr>\n",
       "      <th>6</th>\n",
       "      <td>global market</td>\n",
       "      <td>198</td>\n",
       "      <td>24.50</td>\n",
       "    </tr>\n",
       "    <tr>\n",
       "      <th>7</th>\n",
       "      <td>autonomous car</td>\n",
       "      <td>32</td>\n",
       "      <td>3.96</td>\n",
       "    </tr>\n",
       "    <tr>\n",
       "      <th>8</th>\n",
       "      <td>customer experience</td>\n",
       "      <td>202</td>\n",
       "      <td>25.00</td>\n",
       "    </tr>\n",
       "    <tr>\n",
       "      <th>9</th>\n",
       "      <td>data science</td>\n",
       "      <td>149</td>\n",
       "      <td>18.44</td>\n",
       "    </tr>\n",
       "    <tr>\n",
       "      <th>10</th>\n",
       "      <td>cryptocurrency</td>\n",
       "      <td>8</td>\n",
       "      <td>0.99</td>\n",
       "    </tr>\n",
       "    <tr>\n",
       "      <th>11</th>\n",
       "      <td>camera</td>\n",
       "      <td>14</td>\n",
       "      <td>1.73</td>\n",
       "    </tr>\n",
       "    <tr>\n",
       "      <th>12</th>\n",
       "      <td>robot</td>\n",
       "      <td>58</td>\n",
       "      <td>7.18</td>\n",
       "    </tr>\n",
       "    <tr>\n",
       "      <th>13</th>\n",
       "      <td>chatgpt</td>\n",
       "      <td>380</td>\n",
       "      <td>47.03</td>\n",
       "    </tr>\n",
       "    <tr>\n",
       "      <th>14</th>\n",
       "      <td>image</td>\n",
       "      <td>319</td>\n",
       "      <td>39.48</td>\n",
       "    </tr>\n",
       "    <tr>\n",
       "      <th>15</th>\n",
       "      <td>voice</td>\n",
       "      <td>141</td>\n",
       "      <td>17.45</td>\n",
       "    </tr>\n",
       "    <tr>\n",
       "      <th>16</th>\n",
       "      <td>patient care</td>\n",
       "      <td>45</td>\n",
       "      <td>5.57</td>\n",
       "    </tr>\n",
       "    <tr>\n",
       "      <th>17</th>\n",
       "      <td>research</td>\n",
       "      <td>334</td>\n",
       "      <td>41.34</td>\n",
       "    </tr>\n",
       "  </tbody>\n",
       "</table>\n",
       "</div>"
      ],
      "text/plain": [
       "                  topic  count  percentage\n",
       "0   digital transaction     93       11.51\n",
       "1            healthcare     77        9.53\n",
       "2         news platform    463       57.30\n",
       "3        data analytics    163       20.17\n",
       "4             insurance     23        2.85\n",
       "5            investment    210       25.99\n",
       "6         global market    198       24.50\n",
       "7        autonomous car     32        3.96\n",
       "8   customer experience    202       25.00\n",
       "9          data science    149       18.44\n",
       "10       cryptocurrency      8        0.99\n",
       "11               camera     14        1.73\n",
       "12                robot     58        7.18\n",
       "13              chatgpt    380       47.03\n",
       "14                image    319       39.48\n",
       "15                voice    141       17.45\n",
       "16         patient care     45        5.57\n",
       "17             research    334       41.34"
      ]
     },
     "execution_count": 102,
     "metadata": {},
     "output_type": "execute_result"
    }
   ],
   "source": [
    "# convert frequency to percentage\n",
    "neg_topic_freq['percentage'] = round(neg_topic_freq['count'] / neg_nil_rel.shape[0] * 100, 2)\n",
    "neg_topic_freq"
   ]
  },
  {
   "cell_type": "code",
   "execution_count": 103,
   "metadata": {},
   "outputs": [
    {
     "data": {
      "image/png": "[encoded data removed]",
      "text/plain": [
       "<Figure size 800x600 with 1 Axes>"
      ]
     },
     "metadata": {},
     "output_type": "display_data"
    }
   ],
   "source": [
    "# make a vertical bar plot of the topic frequency pct and sort by count\n",
    "plt.figure(figsize=(8, 6))\n",
    "sns.barplot(x='percentage', y='topic', data=neg_topic_freq.sort_values(by='percentage', ascending=False))\n",
    "plt.title('Topic Frequency Percentage for Negative Sentiment Articles')\n",
    "plt.xlabel('Percentage (%)')\n",
    "plt.ylabel('Topic')\n",
    "plt.show()"
   ]
  }
 ],
 "metadata": {
  "kernelspec": {
   "display_name": "Python 3",
   "language": "python",
   "name": "python3"
  },
  "language_info": {
   "codemirror_mode": {
    "name": "ipython",
    "version": 3
   },
   "file_extension": ".py",
   "mimetype": "text/x-python",
   "name": "python",
   "nbconvert_exporter": "python",
   "pygments_lexer": "ipython3",
   "version": "3.11.3"
  }
 },
 "nbformat": 4,
 "nbformat_minor": 4
}
